{
 "metadata": {
  "name": "Behaviour Comparison"
 },
 "nbformat": 3,
 "nbformat_minor": 0,
 "worksheets": [
  {
   "cells": [
    {
     "cell_type": "code",
     "collapsed": false,
     "input": [
      "__author__ = 'andrewbolster'\n",
      "\n",
      "from polybos import ExperimentManager as EXP\n",
      "\n",
      "\n",
      "def set_exp():\n",
      "    exp = EXP(node_count=8,\n",
      "              title=\"Malicious Behaviour Trust Comparison\")\n",
      "    exp.addVariableAttackerBehaviourSuite([\"Shadow\", \"SlowCoach\"], n_attackers=1)\n",
      "    return exp\n",
      "\n",
      "\n",
      "def run_exp(exp):\n",
      "    exp.run(title=\"8-bev-mal\",\n",
      "            runcount=5)\n",
      "    return exp\n",
      "\n",
      "\n",
      "def run_suite(exp):\n",
      "    for s in exp.scenarios:\n",
      "        stats = s.generateRunStats()\n",
      "        print s.title\n",
      "        print(\"\\t%.3fm (%.4f)\\t%.2f, %.2f \\t%d (%.0f%%)\" % (\n",
      "            avg_of_dict(stats, ['motion', 'fleet_distance']), avg_of_dict(stats, ['motion', 'fleet_efficiency']),\n",
      "            avg_of_dict(stats, ['motion', 'std_of_INDA']), avg_of_dict(stats, ['motion', 'std_of_INDD']),\n",
      "            avg_of_dict(stats, ['achievements', 'max_ach']), avg_of_dict(['achievements', 'avg_completion']) * 100.0\n",
      "        )\n",
      "        )\n",
      "\n",
      "        for r in stats:\n",
      "            print(\"\\t%.3fm (%.4f)\\t%.2f, %.2f \\t%d (%.0f%%)\" % (\n",
      "                r['motion']['fleet_distance'], r['motion']['fleet_efficiency'],\n",
      "                r['motion']['std_of_INDA'], r['motion']['std_of_INDD'],\n",
      "                r['achievements']['max_ach'], r['achievements']['avg_completion'] * 100.0\n",
      "            )\n",
      "            )\n",
      "\n",
      "\n",
      "def avg_of_dict(dict_list, keys):\n",
      "    sum = 0\n",
      "    count = 0\n",
      "    for d in dict_list:\n",
      "        count += 1\n",
      "        for key in keys[:-1]:\n",
      "            d = d.get(key)\n",
      "        sum += d[keys[-1]]\n",
      "    return float(sum) / count"
     ],
     "language": "python",
     "metadata": {},
     "outputs": []
    }
   ],
   "metadata": {}
  }
 ]
}