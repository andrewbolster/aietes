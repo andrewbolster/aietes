{
 "metadata": {
  "name": "Behaviour Comparison"
 },
 "nbformat": 3,
 "nbformat_minor": 0,
 "worksheets": [
  {
   "cells": [
    {
     "cell_type": "code",
     "collapsed": false,
     "input": [
      "__author__ = 'andrewbolster'\n",
      "\n",
      "from polybos import ExperimentManager as EXP\n",
      "\n",
      "\n",
      "def set_exp():\n",
      "    exp = EXP(node_count=8,\n",
      "              title=\"Malicious Behaviour Trust Comparison\")\n",
      "    exp.addVariableAttackerBehaviourSuite([\"Shadow\", \"SlowCoach\"], n_attackers=1)\n",
      "    return exp\n",
      "\n",
      "\n",
      "def run_exp(exp):\n",
      "    exp.run(title=\"8-bev-mal\",\n",
      "            runcount=3, runtime=100)\n",
      "    return exp\n",
      "\n",
      "\n",
      "def run_suite(exp):\n",
      "    for s in exp.scenarios:\n",
      "        stats = s.generateRunStats()\n",
      "        print s.title\n",
      "        print(\"\\t%.3fm (%.4f)\\t%.2f, %.2f \\t%d (%.0f%%)\" % (\n",
      "            avg_of_dict(stats, ['motion', 'fleet_distance']), avg_of_dict(stats, ['motion', 'fleet_efficiency']),\n",
      "            avg_of_dict(stats, ['motion', 'std_of_INDA']), avg_of_dict(stats, ['motion', 'std_of_INDD']),\n",
      "            avg_of_dict(stats, ['achievements', 'max_ach']), avg_of_dict(['achievements', 'avg_completion']) * 100.0\n",
      "        )\n",
      "        )\n",
      "\n",
      "        for r in stats:\n",
      "            print(\"\\t%.3fm (%.4f)\\t%.2f, %.2f \\t%d (%.0f%%)\" % (\n",
      "                r['motion']['fleet_distance'], r['motion']['fleet_efficiency'],\n",
      "                r['motion']['std_of_INDA'], r['motion']['std_of_INDD'],\n",
      "                r['achievements']['max_ach'], r['achievements']['avg_completion'] * 100.0\n",
      "            )\n",
      "            )\n",
      "\n",
      "\n",
      "def avg_of_dict(dict_list, keys):\n",
      "    sum = 0\n",
      "    count = 0\n",
      "    for d in dict_list:\n",
      "        count += 1\n",
      "        for key in keys[:-1]:\n",
      "            d = d.get(key)\n",
      "        sum += d[keys[-1]]\n",
      "    return float(sum) / count"
     ],
     "language": "python",
     "metadata": {},
     "outputs": [
      {
       "output_type": "stream",
       "stream": "stdout",
       "text": [
        "Warning: argument must be an int, or have a fileno() method.\n"
       ]
      }
     ],
     "prompt_number": 1
    },
    {
     "cell_type": "code",
     "collapsed": false,
     "input": [
      "exp = set_exp()\n",
      "from polybos import Scenario\n",
      "help(Scenario)"
     ],
     "language": "python",
     "metadata": {},
     "outputs": [
      {
       "output_type": "stream",
       "stream": "stdout",
       "text": [
        "Updating nodecount from 2 to 8\n",
        "Help on class Scenario in module polybos:\n",
        "\n",
        "class Scenario(__builtin__.object)\n",
        " |  The Generic Manager Object deals with config management and passthrough, as well as some optional execution characteristics\n",
        " |      The purpose of this manager is to abstract as much as humanly possible\n",
        " |  Takes:\n",
        " |      default_config_file:str\n",
        " |      runcount:int\n",
        " |      title:str\n",
        " |  \n",
        " |  Methods defined here:\n",
        " |  \n",
        " |  __init__(self, *args, **kwargs)\n",
        " |      Builds an initial config and divides it up for convenience later\n",
        " |          Can take default_config = <ConfigObj> or default_config_file = <path>\n",
        " |  \n",
        " |  addCustomNode(self, variable_map, count=1)\n",
        " |  \n",
        " |  addDefaultNode(self, count=1)\n",
        " |  \n",
        " |  addNode(self, node_conf, names=None, count=1)\n",
        " |  \n",
        " |  commit(self)\n",
        " |  \n",
        " |  generateConfig(self)\n",
        " |  \n",
        " |  generateConfigObj(self)\n",
        " |  \n",
        " |  generateRunStats(self, sim_run_dataset=None)\n",
        " |      Recieving a bounos.datapackage, generate relevant stats\n",
        " |  \n",
        " |  getBehaviourDict(self)\n",
        " |  \n",
        " |  run(self, runcount=None, runtime=None, *args, **kwargs)\n",
        " |      Offload this to AIETES\n",
        " |      Keyword Arguments:\n",
        " |          runcount:int(default)\n",
        " |          runtime:int(None)\n",
        " |  \n",
        " |  runThreaded(self, *args, **kwargs)\n",
        " |      Offload this to AIETES threaded\n",
        " |      Still borked...\n",
        " |  \n",
        " |  setDuration(self, tmax)\n",
        " |  \n",
        " |  setNodeCount(self, count)\n",
        " |  \n",
        " |  updateDefaultNode(self, variable, value)\n",
        " |  \n",
        " |  updateNode(self, node_conf, mutable, value)\n",
        " |  \n",
        " |  ----------------------------------------------------------------------\n",
        " |  Data descriptors defined here:\n",
        " |  \n",
        " |  __dict__\n",
        " |      dictionary for instance variables (if defined)\n",
        " |  \n",
        " |  __weakref__\n",
        " |      list of weak references to the object (if defined)\n",
        "\n"
       ]
      }
     ],
     "prompt_number": 2
    },
    {
     "cell_type": "code",
     "collapsed": false,
     "input": [
      "exp.scenarios[0].getBehaviourDict()"
     ],
     "language": "python",
     "metadata": {},
     "outputs": [
      {
       "output_type": "pyout",
       "prompt_number": 3,
       "text": [
        "{'Shadow': ['Charlie'],\n",
        " 'Waypoint': ['__default__',\n",
        "  'Echo',\n",
        "  'Mike',\n",
        "  'Hotel',\n",
        "  'Romeo',\n",
        "  'Oscar',\n",
        "  'Lima',\n",
        "  'X-ray']}"
       ]
      }
     ],
     "prompt_number": 3
    },
    {
     "cell_type": "code",
     "collapsed": false,
     "input": [
      "exp = run_exp(exp)"
     ],
     "language": "python",
     "metadata": {},
     "outputs": [
      {
       "output_type": "stream",
       "stream": "stdout",
       "text": [
        "Scenario Committed with 8 nodes configured and 0 defined\n",
        "Behaviour(Shadow)(0:3),"
       ]
      },
      {
       "output_type": "stream",
       "stream": "stderr",
       "text": [
        "DEBUG:aietes.Environment:creating instance\n"
       ]
      },
      {
       "output_type": "stream",
       "stream": "stderr",
       "text": [
        "DEBUG:aietes:Generating node Echo with config {'max_turn': [4.5, 4.5, 4.5], 'mac': 'ALOHA', 'position_generation': 'center', 'memory_model': 'global', 'app': 'Null', 'phy': 'PHY', 'Behaviour': {'nearest_neighbours': 4, 'protocol': 'Waypoint', 'waypoint_factor': [0.01], 'neighbourhood_max_rad': 100, 'waypoint_style': 'patrolCube', 'update_rate': 0.3, 'positional_accuracy': [5.0], 'schooling_factor': [0.01], 'repulsive_factor': [0.125], 'collision_avoidance_d': [50.0], 'clumping_factor': [0.125], 'neighbourhood_min_rad': 10}, 'Application': {'packet_count': 0, 'distribution': [1], 'protocol': ['Null'], 'packet_rate': 1.0}, 'MAC': {'ack_packet_length': 24, 'protocol': 'ALOHA'}, 'max_speed': [2.3], 'PHY': {'receive_power': -3.0, 'max_transmit_power': 250.0, 'listen_power': -30.0, 'variable_bandwidth': False, 'var_power': {}, 'bandwidth': 1.0, 'frequency': 20.0, 'transmit_power': 250.0, 'threshold': {'SIR': 15.0, 'SNR': 20.0, 'LIS': 3.0}, 'bandwidth_to_bit_ratio': 1.0}, 'net': 'RoutingTable', 'bev': 'Null', 'cruising_speed': [1.4], 'Network': {'protocol': 'RoutingTable'}}\n"
       ]
      },
      {
       "output_type": "stream",
       "stream": "stderr",
       "text": [
        "DEBUG:aietes:Gave node Echo a center vector: (511, 475, 533)\n"
       ]
      },
      {
       "output_type": "stream",
       "stream": "stderr",
       "text": [
        "DEBUG:aietes.aietes.Node.App:Null:creating instance\n"
       ]
      },
      {
       "output_type": "stream",
       "stream": "stderr",
       "text": [
        "DEBUG:aietes.aietes.Node.App:Null:Taking Packet_Rate from config: 1.0\n"
       ]
      },
      {
       "output_type": "stream",
       "stream": "stderr",
       "text": [
        "DEBUG:aietes.aietes.Node.Bev:Waypoint:creating instance\n"
       ]
      },
      {
       "output_type": "stream",
       "stream": "stderr",
       "text": [
        "DEBUG:aietes.aietes.Node.Bev:Waypoint:Generating waypoints: patrolCube\n"
       ]
      },
      {
       "output_type": "stream",
       "stream": "stderr",
       "text": [
        "DEBUG:aietes.Behaviour:Waypoint: [ 333.333  333.333  333.333],50\n"
       ]
      },
      {
       "output_type": "stream",
       "stream": "stderr",
       "text": [
        "DEBUG:aietes.Behaviour:Waypoint: [ 666.667  333.333  333.333],50\n"
       ]
      },
      {
       "output_type": "stream",
       "stream": "stderr",
       "text": [
        "DEBUG:aietes.Behaviour:Waypoint: [ 666.667  666.667  333.333],50\n"
       ]
      },
      {
       "output_type": "stream",
       "stream": "stderr",
       "text": [
        "DEBUG:aietes.Behaviour:Waypoint: [ 333.333  666.667  333.333],50\n"
       ]
      },
      {
       "output_type": "stream",
       "stream": "stderr",
       "text": [
        "DEBUG:aietes.Behaviour:Waypoint: [ 333.333  333.333  666.667],50\n"
       ]
      },
      {
       "output_type": "stream",
       "stream": "stderr",
       "text": [
        "DEBUG:aietes.Behaviour:Waypoint: [ 666.667  333.333  666.667],50\n"
       ]
      },
      {
       "output_type": "stream",
       "stream": "stderr",
       "text": [
        "DEBUG:aietes.Behaviour:Waypoint: [ 666.667  666.667  666.667],50\n"
       ]
      },
      {
       "output_type": "stream",
       "stream": "stderr",
       "text": [
        "DEBUG:aietes.Behaviour:Waypoint: [ 333.333  666.667  666.667],50\n"
       ]
      },
      {
       "output_type": "stream",
       "stream": "stderr",
       "text": [
        "DEBUG:aietes.Behaviour:End of Position List\n"
       ]
      },
      {
       "output_type": "stream",
       "stream": "stderr",
       "text": [
        "DEBUG:aietes.aietes.Node:instance created\n"
       ]
      },
      {
       "output_type": "stream",
       "stream": "stderr",
       "text": [
        "DEBUG:aietes:Generating node Mike with config {'max_turn': [4.5, 4.5, 4.5], 'mac': 'ALOHA', 'position_generation': 'center', 'memory_model': 'global', 'app': 'Null', 'phy': 'PHY', 'Behaviour': {'nearest_neighbours': 4, 'protocol': 'Waypoint', 'waypoint_factor': [0.01], 'neighbourhood_max_rad': 100, 'waypoint_style': 'patrolCube', 'update_rate': 0.3, 'positional_accuracy': [5.0], 'schooling_factor': [0.01], 'repulsive_factor': [0.125], 'collision_avoidance_d': [50.0], 'clumping_factor': [0.125], 'neighbourhood_min_rad': 10}, 'Application': {'packet_count': 0, 'distribution': [1], 'protocol': ['Null'], 'packet_rate': 1.0}, 'MAC': {'ack_packet_length': 24, 'protocol': 'ALOHA'}, 'max_speed': [2.3], 'PHY': {'receive_power': -3.0, 'max_transmit_power': 250.0, 'listen_power': -30.0, 'variable_bandwidth': False, 'var_power': {}, 'bandwidth': 1.0, 'frequency': 20.0, 'transmit_power': 250.0, 'threshold': {'SIR': 15.0, 'SNR': 20.0, 'LIS': 3.0}, 'bandwidth_to_bit_ratio': 1.0}, 'net': 'RoutingTable', 'bev': 'Null', 'cruising_speed': [1.4], 'Network': {'protocol': 'RoutingTable'}}\n"
       ]
      },
      {
       "output_type": "stream",
       "stream": "stderr",
       "text": [
        "DEBUG:aietes:Gave node Mike a center vector: (460, 488, 454)\n"
       ]
      },
      {
       "output_type": "stream",
       "stream": "stderr",
       "text": [
        "DEBUG:aietes.aietes.Node.App:Null:creating instance\n"
       ]
      },
      {
       "output_type": "stream",
       "stream": "stderr",
       "text": [
        "DEBUG:aietes.aietes.Node.App:Null:Taking Packet_Rate from config: 1.0\n"
       ]
      },
      {
       "output_type": "stream",
       "stream": "stderr",
       "text": [
        "DEBUG:aietes.aietes.Node.Bev:Waypoint:creating instance\n"
       ]
      },
      {
       "output_type": "stream",
       "stream": "stderr",
       "text": [
        "DEBUG:aietes.aietes.Node.Bev:Waypoint:Generating waypoints: patrolCube\n"
       ]
      },
      {
       "output_type": "stream",
       "stream": "stderr",
       "text": [
        "DEBUG:aietes.Behaviour:Waypoint: [ 333.333  333.333  333.333],50\n"
       ]
      },
      {
       "output_type": "stream",
       "stream": "stderr",
       "text": [
        "DEBUG:aietes.Behaviour:Waypoint: [ 666.667  333.333  333.333],50\n"
       ]
      },
      {
       "output_type": "stream",
       "stream": "stderr",
       "text": [
        "DEBUG:aietes.Behaviour:Waypoint: [ 666.667  666.667  333.333],50\n"
       ]
      },
      {
       "output_type": "stream",
       "stream": "stderr",
       "text": [
        "DEBUG:aietes.Behaviour:Waypoint: [ 333.333  666.667  333.333],50\n"
       ]
      },
      {
       "output_type": "stream",
       "stream": "stderr",
       "text": [
        "DEBUG:aietes.Behaviour:Waypoint: [ 333.333  333.333  666.667],50\n"
       ]
      },
      {
       "output_type": "stream",
       "stream": "stderr",
       "text": [
        "DEBUG:aietes.Behaviour:Waypoint: [ 666.667  333.333  666.667],50\n"
       ]
      },
      {
       "output_type": "stream",
       "stream": "stderr",
       "text": [
        "DEBUG:aietes.Behaviour:Waypoint: [ 666.667  666.667  666.667],50\n"
       ]
      },
      {
       "output_type": "stream",
       "stream": "stderr",
       "text": [
        "DEBUG:aietes.Behaviour:Waypoint: [ 333.333  666.667  666.667],50\n"
       ]
      },
      {
       "output_type": "stream",
       "stream": "stderr",
       "text": [
        "DEBUG:aietes.Behaviour:End of Position List\n"
       ]
      },
      {
       "output_type": "stream",
       "stream": "stderr",
       "text": [
        "DEBUG:aietes.aietes.Node:instance created\n"
       ]
      },
      {
       "output_type": "stream",
       "stream": "stderr",
       "text": [
        "DEBUG:aietes:Generating node Charlie with config {'max_turn': [4.5, 4.5, 4.5], 'mac': 'ALOHA', 'position_generation': 'center', 'memory_model': 'global', 'app': 'Null', 'phy': 'PHY', 'Behaviour': {'nearest_neighbours': 4, 'protocol': 'Shadow', 'waypoint_factor': [0.01], 'neighbourhood_max_rad': 100, 'waypoint_style': 'patrolCube', 'update_rate': 0.3, 'positional_accuracy': [5.0], 'schooling_factor': [0.01], 'repulsive_factor': [0.125], 'collision_avoidance_d': [50.0], 'clumping_factor': [0.125], 'neighbourhood_min_rad': 10}, 'Application': {'packet_count': 0, 'distribution': [1], 'protocol': ['Null'], 'packet_rate': 1.0}, 'MAC': {'ack_packet_length': 24, 'protocol': 'ALOHA'}, 'max_speed': [2.3], 'PHY': {'receive_power': -3.0, 'max_transmit_power': 250.0, 'listen_power': -30.0, 'variable_bandwidth': False, 'var_power': {}, 'bandwidth': 1.0, 'frequency': 20.0, 'transmit_power': 250.0, 'threshold': {'SIR': 15.0, 'SNR': 20.0, 'LIS': 3.0}, 'bandwidth_to_bit_ratio': 1.0}, 'net': 'RoutingTable', 'bev': 'Null', 'cruising_speed': [1.4], 'Network': {'protocol': 'RoutingTable'}}\n"
       ]
      },
      {
       "output_type": "stream",
       "stream": "stderr",
       "text": [
        "DEBUG:aietes:Gave node Charlie a center vector: (505, 447, 500)\n"
       ]
      },
      {
       "output_type": "stream",
       "stream": "stderr",
       "text": [
        "DEBUG:aietes.aietes.Node.App:Null:creating instance\n"
       ]
      },
      {
       "output_type": "stream",
       "stream": "stderr",
       "text": [
        "DEBUG:aietes.aietes.Node.App:Null:Taking Packet_Rate from config: 1.0\n"
       ]
      },
      {
       "output_type": "stream",
       "stream": "stderr",
       "text": [
        "DEBUG:aietes.aietes.Node.Bev:Flock:creating instance\n"
       ]
      },
      {
       "output_type": "stream",
       "stream": "stderr",
       "text": [
        "DEBUG:aietes.aietes.Node:instance created\n"
       ]
      },
      {
       "output_type": "stream",
       "stream": "stderr",
       "text": [
        "DEBUG:aietes:Generating node Hotel with config {'max_turn': [4.5, 4.5, 4.5], 'mac': 'ALOHA', 'position_generation': 'center', 'memory_model': 'global', 'app': 'Null', 'phy': 'PHY', 'Behaviour': {'nearest_neighbours': 4, 'protocol': 'Waypoint', 'waypoint_factor': [0.01], 'neighbourhood_max_rad': 100, 'waypoint_style': 'patrolCube', 'update_rate': 0.3, 'positional_accuracy': [5.0], 'schooling_factor': [0.01], 'repulsive_factor': [0.125], 'collision_avoidance_d': [50.0], 'clumping_factor': [0.125], 'neighbourhood_min_rad': 10}, 'Application': {'packet_count': 0, 'distribution': [1], 'protocol': ['Null'], 'packet_rate': 1.0}, 'MAC': {'ack_packet_length': 24, 'protocol': 'ALOHA'}, 'max_speed': [2.3], 'PHY': {'receive_power': -3.0, 'max_transmit_power': 250.0, 'listen_power': -30.0, 'variable_bandwidth': False, 'var_power': {}, 'bandwidth': 1.0, 'frequency': 20.0, 'transmit_power': 250.0, 'threshold': {'SIR': 15.0, 'SNR': 20.0, 'LIS': 3.0}, 'bandwidth_to_bit_ratio': 1.0}, 'net': 'RoutingTable', 'bev': 'Null', 'cruising_speed': [1.4], 'Network': {'protocol': 'RoutingTable'}}\n"
       ]
      },
      {
       "output_type": "stream",
       "stream": "stderr",
       "text": [
        "DEBUG:aietes:Gave node Hotel a center vector: (449, 475, 484)\n"
       ]
      },
      {
       "output_type": "stream",
       "stream": "stderr",
       "text": [
        "DEBUG:aietes.aietes.Node.App:Null:creating instance\n"
       ]
      },
      {
       "output_type": "stream",
       "stream": "stderr",
       "text": [
        "DEBUG:aietes.aietes.Node.App:Null:Taking Packet_Rate from config: 1.0\n"
       ]
      },
      {
       "output_type": "stream",
       "stream": "stderr",
       "text": [
        "DEBUG:aietes.aietes.Node.Bev:Waypoint:creating instance\n"
       ]
      },
      {
       "output_type": "stream",
       "stream": "stderr",
       "text": [
        "DEBUG:aietes.aietes.Node.Bev:Waypoint:Generating waypoints: patrolCube\n"
       ]
      },
      {
       "output_type": "stream",
       "stream": "stderr",
       "text": [
        "DEBUG:aietes.Behaviour:Waypoint: [ 333.333  333.333  333.333],50\n"
       ]
      },
      {
       "output_type": "stream",
       "stream": "stderr",
       "text": [
        "DEBUG:aietes.Behaviour:Waypoint: [ 666.667  333.333  333.333],50\n"
       ]
      },
      {
       "output_type": "stream",
       "stream": "stderr",
       "text": [
        "DEBUG:aietes.Behaviour:Waypoint: [ 666.667  666.667  333.333],50\n"
       ]
      },
      {
       "output_type": "stream",
       "stream": "stderr",
       "text": [
        "DEBUG:aietes.Behaviour:Waypoint: [ 333.333  666.667  333.333],50\n"
       ]
      },
      {
       "output_type": "stream",
       "stream": "stderr",
       "text": [
        "DEBUG:aietes.Behaviour:Waypoint: [ 333.333  333.333  666.667],50\n"
       ]
      },
      {
       "output_type": "stream",
       "stream": "stderr",
       "text": [
        "DEBUG:aietes.Behaviour:Waypoint: [ 666.667  333.333  666.667],50\n"
       ]
      },
      {
       "output_type": "stream",
       "stream": "stderr",
       "text": [
        "DEBUG:aietes.Behaviour:Waypoint: [ 666.667  666.667  666.667],50\n"
       ]
      },
      {
       "output_type": "stream",
       "stream": "stderr",
       "text": [
        "DEBUG:aietes.Behaviour:Waypoint: [ 333.333  666.667  666.667],50\n"
       ]
      },
      {
       "output_type": "stream",
       "stream": "stderr",
       "text": [
        "DEBUG:aietes.Behaviour:End of Position List\n"
       ]
      },
      {
       "output_type": "stream",
       "stream": "stderr",
       "text": [
        "DEBUG:aietes.aietes.Node:instance created\n"
       ]
      },
      {
       "output_type": "stream",
       "stream": "stderr",
       "text": [
        "DEBUG:aietes:Generating node Romeo with config {'max_turn': [4.5, 4.5, 4.5], 'mac': 'ALOHA', 'position_generation': 'center', 'memory_model': 'global', 'app': 'Null', 'phy': 'PHY', 'Behaviour': {'nearest_neighbours': 4, 'protocol': 'Waypoint', 'waypoint_factor': [0.01], 'neighbourhood_max_rad': 100, 'waypoint_style': 'patrolCube', 'update_rate': 0.3, 'positional_accuracy': [5.0], 'schooling_factor': [0.01], 'repulsive_factor': [0.125], 'collision_avoidance_d': [50.0], 'clumping_factor': [0.125], 'neighbourhood_min_rad': 10}, 'Application': {'packet_count': 0, 'distribution': [1], 'protocol': ['Null'], 'packet_rate': 1.0}, 'MAC': {'ack_packet_length': 24, 'protocol': 'ALOHA'}, 'max_speed': [2.3], 'PHY': {'receive_power': -3.0, 'max_transmit_power': 250.0, 'listen_power': -30.0, 'variable_bandwidth': False, 'var_power': {}, 'bandwidth': 1.0, 'frequency': 20.0, 'transmit_power': 250.0, 'threshold': {'SIR': 15.0, 'SNR': 20.0, 'LIS': 3.0}, 'bandwidth_to_bit_ratio': 1.0}, 'net': 'RoutingTable', 'bev': 'Null', 'cruising_speed': [1.4], 'Network': {'protocol': 'RoutingTable'}}\n"
       ]
      },
      {
       "output_type": "stream",
       "stream": "stderr",
       "text": [
        "DEBUG:aietes:Gave node Romeo a center vector: (458, 516, 504)\n"
       ]
      },
      {
       "output_type": "stream",
       "stream": "stderr",
       "text": [
        "DEBUG:aietes.aietes.Node.App:Null:creating instance\n"
       ]
      },
      {
       "output_type": "stream",
       "stream": "stderr",
       "text": [
        "DEBUG:aietes.aietes.Node.App:Null:Taking Packet_Rate from config: 1.0\n"
       ]
      },
      {
       "output_type": "stream",
       "stream": "stderr",
       "text": [
        "DEBUG:aietes.aietes.Node.Bev:Waypoint:creating instance\n"
       ]
      },
      {
       "output_type": "stream",
       "stream": "stderr",
       "text": [
        "DEBUG:aietes.aietes.Node.Bev:Waypoint:Generating waypoints: patrolCube\n"
       ]
      },
      {
       "output_type": "stream",
       "stream": "stderr",
       "text": [
        "DEBUG:aietes.Behaviour:Waypoint: [ 333.333  333.333  333.333],50\n"
       ]
      },
      {
       "output_type": "stream",
       "stream": "stderr",
       "text": [
        "DEBUG:aietes.Behaviour:Waypoint: [ 666.667  333.333  333.333],50\n"
       ]
      },
      {
       "output_type": "stream",
       "stream": "stderr",
       "text": [
        "DEBUG:aietes.Behaviour:Waypoint: [ 666.667  666.667  333.333],50\n"
       ]
      },
      {
       "output_type": "stream",
       "stream": "stderr",
       "text": [
        "DEBUG:aietes.Behaviour:Waypoint: [ 333.333  666.667  333.333],50\n"
       ]
      },
      {
       "output_type": "stream",
       "stream": "stderr",
       "text": [
        "DEBUG:aietes.Behaviour:Waypoint: [ 333.333  333.333  666.667],50\n"
       ]
      },
      {
       "output_type": "stream",
       "stream": "stderr",
       "text": [
        "DEBUG:aietes.Behaviour:Waypoint: [ 666.667  333.333  666.667],50\n"
       ]
      },
      {
       "output_type": "stream",
       "stream": "stderr",
       "text": [
        "DEBUG:aietes.Behaviour:Waypoint: [ 666.667  666.667  666.667],50\n"
       ]
      },
      {
       "output_type": "stream",
       "stream": "stderr",
       "text": [
        "DEBUG:aietes.Behaviour:Waypoint: [ 333.333  666.667  666.667],50\n"
       ]
      },
      {
       "output_type": "stream",
       "stream": "stderr",
       "text": [
        "DEBUG:aietes.Behaviour:End of Position List\n"
       ]
      },
      {
       "output_type": "stream",
       "stream": "stderr",
       "text": [
        "DEBUG:aietes.aietes.Node:instance created\n"
       ]
      },
      {
       "output_type": "stream",
       "stream": "stderr",
       "text": [
        "DEBUG:aietes:Generating node Oscar with config {'max_turn': [4.5, 4.5, 4.5], 'mac': 'ALOHA', 'position_generation': 'center', 'memory_model': 'global', 'app': 'Null', 'phy': 'PHY', 'Behaviour': {'nearest_neighbours': 4, 'protocol': 'Waypoint', 'waypoint_factor': [0.01], 'neighbourhood_max_rad': 100, 'waypoint_style': 'patrolCube', 'update_rate': 0.3, 'positional_accuracy': [5.0], 'schooling_factor': [0.01], 'repulsive_factor': [0.125], 'collision_avoidance_d': [50.0], 'clumping_factor': [0.125], 'neighbourhood_min_rad': 10}, 'Application': {'packet_count': 0, 'distribution': [1], 'protocol': ['Null'], 'packet_rate': 1.0}, 'MAC': {'ack_packet_length': 24, 'protocol': 'ALOHA'}, 'max_speed': [2.3], 'PHY': {'receive_power': -3.0, 'max_transmit_power': 250.0, 'listen_power': -30.0, 'variable_bandwidth': False, 'var_power': {}, 'bandwidth': 1.0, 'frequency': 20.0, 'transmit_power': 250.0, 'threshold': {'SIR': 15.0, 'SNR': 20.0, 'LIS': 3.0}, 'bandwidth_to_bit_ratio': 1.0}, 'net': 'RoutingTable', 'bev': 'Null', 'cruising_speed': [1.4], 'Network': {'protocol': 'RoutingTable'}}\n"
       ]
      },
      {
       "output_type": "stream",
       "stream": "stderr",
       "text": [
        "DEBUG:aietes:Gave node Oscar a center vector: (517, 553, 476)\n"
       ]
      },
      {
       "output_type": "stream",
       "stream": "stderr",
       "text": [
        "DEBUG:aietes.aietes.Node.App:Null:creating instance\n"
       ]
      },
      {
       "output_type": "stream",
       "stream": "stderr",
       "text": [
        "DEBUG:aietes.aietes.Node.App:Null:Taking Packet_Rate from config: 1.0\n"
       ]
      },
      {
       "output_type": "stream",
       "stream": "stderr",
       "text": [
        "DEBUG:aietes.aietes.Node.Bev:Waypoint:creating instance\n"
       ]
      },
      {
       "output_type": "stream",
       "stream": "stderr",
       "text": [
        "DEBUG:aietes.aietes.Node.Bev:Waypoint:Generating waypoints: patrolCube\n"
       ]
      },
      {
       "output_type": "stream",
       "stream": "stderr",
       "text": [
        "DEBUG:aietes.Behaviour:Waypoint: [ 333.333  333.333  333.333],50\n"
       ]
      },
      {
       "output_type": "stream",
       "stream": "stderr",
       "text": [
        "DEBUG:aietes.Behaviour:Waypoint: [ 666.667  333.333  333.333],50\n"
       ]
      },
      {
       "output_type": "stream",
       "stream": "stderr",
       "text": [
        "DEBUG:aietes.Behaviour:Waypoint: [ 666.667  666.667  333.333],50\n"
       ]
      },
      {
       "output_type": "stream",
       "stream": "stderr",
       "text": [
        "DEBUG:aietes.Behaviour:Waypoint: [ 333.333  666.667  333.333],50\n"
       ]
      },
      {
       "output_type": "stream",
       "stream": "stderr",
       "text": [
        "DEBUG:aietes.Behaviour:Waypoint: [ 333.333  333.333  666.667],50\n"
       ]
      },
      {
       "output_type": "stream",
       "stream": "stderr",
       "text": [
        "DEBUG:aietes.Behaviour:Waypoint: [ 666.667  333.333  666.667],50\n"
       ]
      },
      {
       "output_type": "stream",
       "stream": "stderr",
       "text": [
        "DEBUG:aietes.Behaviour:Waypoint: [ 666.667  666.667  666.667],50\n"
       ]
      },
      {
       "output_type": "stream",
       "stream": "stderr",
       "text": [
        "DEBUG:aietes.Behaviour:Waypoint: [ 333.333  666.667  666.667],50\n"
       ]
      },
      {
       "output_type": "stream",
       "stream": "stderr",
       "text": [
        "DEBUG:aietes.Behaviour:End of Position List\n"
       ]
      },
      {
       "output_type": "stream",
       "stream": "stderr",
       "text": [
        "DEBUG:aietes.aietes.Node:instance created\n"
       ]
      },
      {
       "output_type": "stream",
       "stream": "stderr",
       "text": [
        "DEBUG:aietes:Generating node Lima with config {'max_turn': [4.5, 4.5, 4.5], 'mac': 'ALOHA', 'position_generation': 'center', 'memory_model': 'global', 'app': 'Null', 'phy': 'PHY', 'Behaviour': {'nearest_neighbours': 4, 'protocol': 'Waypoint', 'waypoint_factor': [0.01], 'neighbourhood_max_rad': 100, 'waypoint_style': 'patrolCube', 'update_rate': 0.3, 'positional_accuracy': [5.0], 'schooling_factor': [0.01], 'repulsive_factor': [0.125], 'collision_avoidance_d': [50.0], 'clumping_factor': [0.125], 'neighbourhood_min_rad': 10}, 'Application': {'packet_count': 0, 'distribution': [1], 'protocol': ['Null'], 'packet_rate': 1.0}, 'MAC': {'ack_packet_length': 24, 'protocol': 'ALOHA'}, 'max_speed': [2.3], 'PHY': {'receive_power': -3.0, 'max_transmit_power': 250.0, 'listen_power': -30.0, 'variable_bandwidth': False, 'var_power': {}, 'bandwidth': 1.0, 'frequency': 20.0, 'transmit_power': 250.0, 'threshold': {'SIR': 15.0, 'SNR': 20.0, 'LIS': 3.0}, 'bandwidth_to_bit_ratio': 1.0}, 'net': 'RoutingTable', 'bev': 'Null', 'cruising_speed': [1.4], 'Network': {'protocol': 'RoutingTable'}}\n"
       ]
      },
      {
       "output_type": "stream",
       "stream": "stderr",
       "text": [
        "DEBUG:aietes:Gave node Lima a center vector: (476, 506, 544)\n"
       ]
      },
      {
       "output_type": "stream",
       "stream": "stderr",
       "text": [
        "DEBUG:aietes.aietes.Node.App:Null:creating instance\n"
       ]
      },
      {
       "output_type": "stream",
       "stream": "stderr",
       "text": [
        "DEBUG:aietes.aietes.Node.App:Null:Taking Packet_Rate from config: 1.0\n"
       ]
      },
      {
       "output_type": "stream",
       "stream": "stderr",
       "text": [
        "DEBUG:aietes.aietes.Node.Bev:Waypoint:creating instance\n"
       ]
      },
      {
       "output_type": "stream",
       "stream": "stderr",
       "text": [
        "DEBUG:aietes.aietes.Node.Bev:Waypoint:Generating waypoints: patrolCube\n"
       ]
      },
      {
       "output_type": "stream",
       "stream": "stderr",
       "text": [
        "DEBUG:aietes.Behaviour:Waypoint: [ 333.333  333.333  333.333],50\n"
       ]
      },
      {
       "output_type": "stream",
       "stream": "stderr",
       "text": [
        "DEBUG:aietes.Behaviour:Waypoint: [ 666.667  333.333  333.333],50\n"
       ]
      },
      {
       "output_type": "stream",
       "stream": "stderr",
       "text": [
        "DEBUG:aietes.Behaviour:Waypoint: [ 666.667  666.667  333.333],50\n"
       ]
      },
      {
       "output_type": "stream",
       "stream": "stderr",
       "text": [
        "DEBUG:aietes.Behaviour:Waypoint: [ 333.333  666.667  333.333],50\n"
       ]
      },
      {
       "output_type": "stream",
       "stream": "stderr",
       "text": [
        "DEBUG:aietes.Behaviour:Waypoint: [ 333.333  333.333  666.667],50\n"
       ]
      },
      {
       "output_type": "stream",
       "stream": "stderr",
       "text": [
        "DEBUG:aietes.Behaviour:Waypoint: [ 666.667  333.333  666.667],50\n"
       ]
      },
      {
       "output_type": "stream",
       "stream": "stderr",
       "text": [
        "DEBUG:aietes.Behaviour:Waypoint: [ 666.667  666.667  666.667],50\n"
       ]
      },
      {
       "output_type": "stream",
       "stream": "stderr",
       "text": [
        "DEBUG:aietes.Behaviour:Waypoint: [ 333.333  666.667  666.667],50\n"
       ]
      },
      {
       "output_type": "stream",
       "stream": "stderr",
       "text": [
        "DEBUG:aietes.Behaviour:End of Position List\n"
       ]
      },
      {
       "output_type": "stream",
       "stream": "stderr",
       "text": [
        "DEBUG:aietes.aietes.Node:instance created\n"
       ]
      },
      {
       "output_type": "stream",
       "stream": "stderr",
       "text": [
        "DEBUG:aietes:Generating node X-ray with config {'max_turn': [4.5, 4.5, 4.5], 'mac': 'ALOHA', 'position_generation': 'center', 'memory_model': 'global', 'app': 'Null', 'phy': 'PHY', 'Behaviour': {'nearest_neighbours': 4, 'protocol': 'Waypoint', 'waypoint_factor': [0.01], 'neighbourhood_max_rad': 100, 'waypoint_style': 'patrolCube', 'update_rate': 0.3, 'positional_accuracy': [5.0], 'schooling_factor': [0.01], 'repulsive_factor': [0.125], 'collision_avoidance_d': [50.0], 'clumping_factor': [0.125], 'neighbourhood_min_rad': 10}, 'Application': {'packet_count': 0, 'distribution': [1], 'protocol': ['Null'], 'packet_rate': 1.0}, 'MAC': {'ack_packet_length': 24, 'protocol': 'ALOHA'}, 'max_speed': [2.3], 'PHY': {'receive_power': -3.0, 'max_transmit_power': 250.0, 'listen_power': -30.0, 'variable_bandwidth': False, 'var_power': {}, 'bandwidth': 1.0, 'frequency': 20.0, 'transmit_power': 250.0, 'threshold': {'SIR': 15.0, 'SNR': 20.0, 'LIS': 3.0}, 'bandwidth_to_bit_ratio': 1.0}, 'net': 'RoutingTable', 'bev': 'Null', 'cruising_speed': [1.4], 'Network': {'protocol': 'RoutingTable'}}\n"
       ]
      },
      {
       "output_type": "stream",
       "stream": "stderr",
       "text": [
        "DEBUG:aietes:Gave node X-ray a center vector: (508, 524, 514)\n"
       ]
      },
      {
       "output_type": "stream",
       "stream": "stderr",
       "text": [
        "DEBUG:aietes.aietes.Node.App:Null:creating instance\n"
       ]
      },
      {
       "output_type": "stream",
       "stream": "stderr",
       "text": [
        "DEBUG:aietes.aietes.Node.App:Null:Taking Packet_Rate from config: 1.0\n"
       ]
      },
      {
       "output_type": "stream",
       "stream": "stderr",
       "text": [
        "DEBUG:aietes.aietes.Node.Bev:Waypoint:creating instance\n"
       ]
      },
      {
       "output_type": "stream",
       "stream": "stderr",
       "text": [
        "DEBUG:aietes.aietes.Node.Bev:Waypoint:Generating waypoints: patrolCube\n"
       ]
      },
      {
       "output_type": "stream",
       "stream": "stderr",
       "text": [
        "DEBUG:aietes.Behaviour:Waypoint: [ 333.333  333.333  333.333],50\n"
       ]
      },
      {
       "output_type": "stream",
       "stream": "stderr",
       "text": [
        "DEBUG:aietes.Behaviour:Waypoint: [ 666.667  333.333  333.333],50\n"
       ]
      },
      {
       "output_type": "stream",
       "stream": "stderr",
       "text": [
        "DEBUG:aietes.Behaviour:Waypoint: [ 666.667  666.667  333.333],50\n"
       ]
      },
      {
       "output_type": "stream",
       "stream": "stderr",
       "text": [
        "DEBUG:aietes.Behaviour:Waypoint: [ 333.333  666.667  333.333],50\n"
       ]
      },
      {
       "output_type": "stream",
       "stream": "stderr",
       "text": [
        "DEBUG:aietes.Behaviour:Waypoint: [ 333.333  333.333  666.667],50\n"
       ]
      },
      {
       "output_type": "stream",
       "stream": "stderr",
       "text": [
        "DEBUG:aietes.Behaviour:Waypoint: [ 666.667  333.333  666.667],50\n"
       ]
      },
      {
       "output_type": "stream",
       "stream": "stderr",
       "text": [
        "DEBUG:aietes.Behaviour:Waypoint: [ 666.667  666.667  666.667],50\n"
       ]
      },
      {
       "output_type": "stream",
       "stream": "stderr",
       "text": [
        "DEBUG:aietes.Behaviour:Waypoint: [ 333.333  666.667  666.667],50\n"
       ]
      },
      {
       "output_type": "stream",
       "stream": "stderr",
       "text": [
        "DEBUG:aietes.Behaviour:End of Position List\n"
       ]
      },
      {
       "output_type": "stream",
       "stream": "stderr",
       "text": [
        "DEBUG:aietes.aietes.Node:instance created\n"
       ]
      },
      {
       "output_type": "stream",
       "stream": "stderr",
       "text": [
        "INFO:aietes.aietes.Fleet:creating instance\n"
       ]
      },
      {
       "output_type": "stream",
       "stream": "stderr",
       "text": [
        "INFO:aietes:Initialising Simulation Behaviour(Shadow)-0, to run for 1000.0 steps\n"
       ]
      },
      {
       "output_type": "stream",
       "stream": "stderr",
       "text": [
        "INFO:aietes.aietes.Fleet:Initialised Node Lifecycle\n"
       ]
      },
      {
       "output_type": "stream",
       "stream": "stderr",
       "text": [
        "DEBUG:aietes.aietes.Node:Initialised Node Lifecycle\n"
       ]
      },
      {
       "output_type": "stream",
       "stream": "stderr",
       "text": [
        "DEBUG:aietes.aietes.Node.App:Null:No Destination defined, defaulting to \"Any\"\n"
       ]
      },
      {
       "output_type": "stream",
       "stream": "stderr",
       "text": [
        "DEBUG:aietes.aietes.Node:Initialised Node Lifecycle\n"
       ]
      },
      {
       "output_type": "stream",
       "stream": "stderr",
       "text": [
        "DEBUG:aietes.aietes.Node.App:Null:No Destination defined, defaulting to \"Any\"\n"
       ]
      },
      {
       "output_type": "stream",
       "stream": "stderr",
       "text": [
        "DEBUG:aietes.aietes.Node:Initialised Node Lifecycle\n"
       ]
      },
      {
       "output_type": "stream",
       "stream": "stderr",
       "text": [
        "DEBUG:aietes.aietes.Node.App:Null:No Destination defined, defaulting to \"Any\"\n"
       ]
      },
      {
       "output_type": "stream",
       "stream": "stderr",
       "text": [
        "DEBUG:aietes.aietes.Node:Initialised Node Lifecycle\n"
       ]
      },
      {
       "output_type": "stream",
       "stream": "stderr",
       "text": [
        "DEBUG:aietes.aietes.Node.App:Null:No Destination defined, defaulting to \"Any\"\n"
       ]
      },
      {
       "output_type": "stream",
       "stream": "stderr",
       "text": [
        "DEBUG:aietes.aietes.Node:Initialised Node Lifecycle\n"
       ]
      },
      {
       "output_type": "stream",
       "stream": "stderr",
       "text": [
        "DEBUG:aietes.aietes.Node.App:Null:No Destination defined, defaulting to \"Any\"\n"
       ]
      },
      {
       "output_type": "stream",
       "stream": "stderr",
       "text": [
        "DEBUG:aietes.aietes.Node:Initialised Node Lifecycle\n"
       ]
      },
      {
       "output_type": "stream",
       "stream": "stderr",
       "text": [
        "DEBUG:aietes.aietes.Node.App:Null:No Destination defined, defaulting to \"Any\"\n"
       ]
      },
      {
       "output_type": "stream",
       "stream": "stderr",
       "text": [
        "DEBUG:aietes.aietes.Node:Initialised Node Lifecycle\n"
       ]
      },
      {
       "output_type": "stream",
       "stream": "stderr",
       "text": [
        "DEBUG:aietes.aietes.Node.App:Null:No Destination defined, defaulting to \"Any\"\n"
       ]
      },
      {
       "output_type": "stream",
       "stream": "stderr",
       "text": [
        "DEBUG:aietes.aietes.Node:Initialised Node Lifecycle\n"
       ]
      },
      {
       "output_type": "stream",
       "stream": "stderr",
       "text": [
        "DEBUG:aietes.aietes.Node.App:Null:No Destination defined, defaulting to \"Any\"\n"
       ]
      },
      {
       "output_type": "stream",
       "stream": "stderr",
       "text": [
        "INFO:aietes.aietes.Node.Bev:Waypoint:Moving to Next waypoint:[ 333.333  333.333  333.333]\n"
       ]
      },
      {
       "output_type": "stream",
       "stream": "stderr",
       "text": [
        "INFO:aietes.aietes.Node.Bev:Waypoint:Moving to Next waypoint:[ 333.333  333.333  333.333]\n"
       ]
      },
      {
       "output_type": "stream",
       "stream": "stderr",
       "text": [
        "INFO:aietes.aietes.Node.Bev:Waypoint:Moving to Next waypoint:[ 333.333  333.333  333.333]\n"
       ]
      },
      {
       "output_type": "stream",
       "stream": "stderr",
       "text": [
        "INFO:aietes.aietes.Node.Bev:Waypoint:Moving to Next waypoint:[ 333.333  333.333  333.333]\n"
       ]
      },
      {
       "output_type": "stream",
       "stream": "stderr",
       "text": [
        "INFO:aietes.aietes.Node.Bev:Waypoint:Moving to Next waypoint:[ 333.333  333.333  333.333]\n"
       ]
      },
      {
       "output_type": "stream",
       "stream": "stderr",
       "text": [
        "INFO:aietes.aietes.Node.Bev:Waypoint:Moving to Next waypoint:[ 333.333  333.333  333.333]\n"
       ]
      },
      {
       "output_type": "stream",
       "stream": "stderr",
       "text": [
        "INFO:aietes.aietes.Node.Bev:Waypoint:Moving to Next waypoint:[ 333.333  333.333  333.333]\n"
       ]
      },
      {
       "output_type": "stream",
       "stream": "stderr",
       "text": [
        "INFO:aietes:Finished Simulation at 1000.0\n"
       ]
      },
      {
       "output_type": "stream",
       "stream": "stderr",
       "text": [
        "INFO:aietes:Writing datafile to Behaviour(Shadow)(0:3).aietes\n"
       ]
      },
      {
       "output_type": "stream",
       "stream": "stdout",
       "text": [
        "Behaviour(Shadow)(0:3).aietes.npz\n",
        "Behaviour(Shadow)(1:3),"
       ]
      },
      {
       "output_type": "stream",
       "stream": "stderr",
       "text": [
        "INFO:aietes:using given config\n"
       ]
      },
      {
       "output_type": "stream",
       "stream": "stderr",
       "text": [
        "DEBUG:aietes.Environment:creating instance\n"
       ]
      },
      {
       "output_type": "stream",
       "stream": "stderr",
       "text": [
        "DEBUG:aietes:Generating node Echo with config {'max_turn': [4.5, 4.5, 4.5], 'mac': 'ALOHA', 'position_generation': 'center', 'memory_model': 'global', 'app': 'Null', 'phy': 'PHY', 'Behaviour': {'nearest_neighbours': 4, 'protocol': 'Waypoint', 'waypoint_factor': [0.01], 'neighbourhood_max_rad': 100, 'waypoint_style': 'patrolCube', 'update_rate': 0.3, 'positional_accuracy': [5.0], 'schooling_factor': [0.01], 'repulsive_factor': [0.125], 'collision_avoidance_d': [50.0], 'clumping_factor': [0.125], 'neighbourhood_min_rad': 10}, 'Application': {'packet_count': 0, 'distribution': [1], 'protocol': ['Null'], 'packet_rate': 1.0}, 'MAC': {'ack_packet_length': 24, 'protocol': 'ALOHA'}, 'max_speed': [2.3], 'PHY': {'receive_power': -3.0, 'max_transmit_power': 250.0, 'listen_power': -30.0, 'variable_bandwidth': False, 'var_power': {}, 'bandwidth': 1.0, 'frequency': 20.0, 'transmit_power': 250.0, 'threshold': {'SIR': 15.0, 'SNR': 20.0, 'LIS': 3.0}, 'bandwidth_to_bit_ratio': 1.0}, 'net': 'RoutingTable', 'bev': 'Null', 'cruising_speed': [1.4], 'Network': {'protocol': 'RoutingTable'}}\n"
       ]
      },
      {
       "output_type": "stream",
       "stream": "stderr",
       "text": [
        "DEBUG:aietes:Gave node Echo a center vector: (511, 499, 445)\n"
       ]
      },
      {
       "output_type": "stream",
       "stream": "stderr",
       "text": [
        "DEBUG:aietes.aietes.Node.App:Null:creating instance\n"
       ]
      },
      {
       "output_type": "stream",
       "stream": "stderr",
       "text": [
        "DEBUG:aietes.aietes.Node.App:Null:Taking Packet_Rate from config: 1.0\n"
       ]
      },
      {
       "output_type": "stream",
       "stream": "stderr",
       "text": [
        "DEBUG:aietes.aietes.Node.Bev:Waypoint:creating instance\n"
       ]
      },
      {
       "output_type": "stream",
       "stream": "stderr",
       "text": [
        "DEBUG:aietes.aietes.Node.Bev:Waypoint:Generating waypoints: patrolCube\n"
       ]
      },
      {
       "output_type": "stream",
       "stream": "stderr",
       "text": [
        "DEBUG:aietes.Behaviour:Waypoint: [ 333.333  333.333  333.333],50\n"
       ]
      },
      {
       "output_type": "stream",
       "stream": "stderr",
       "text": [
        "DEBUG:aietes.Behaviour:Waypoint: [ 666.667  333.333  333.333],50\n"
       ]
      },
      {
       "output_type": "stream",
       "stream": "stderr",
       "text": [
        "DEBUG:aietes.Behaviour:Waypoint: [ 666.667  666.667  333.333],50\n"
       ]
      },
      {
       "output_type": "stream",
       "stream": "stderr",
       "text": [
        "DEBUG:aietes.Behaviour:Waypoint: [ 333.333  666.667  333.333],50\n"
       ]
      },
      {
       "output_type": "stream",
       "stream": "stderr",
       "text": [
        "DEBUG:aietes.Behaviour:Waypoint: [ 333.333  333.333  666.667],50\n"
       ]
      },
      {
       "output_type": "stream",
       "stream": "stderr",
       "text": [
        "DEBUG:aietes.Behaviour:Waypoint: [ 666.667  333.333  666.667],50\n"
       ]
      },
      {
       "output_type": "stream",
       "stream": "stderr",
       "text": [
        "DEBUG:aietes.Behaviour:Waypoint: [ 666.667  666.667  666.667],50\n"
       ]
      },
      {
       "output_type": "stream",
       "stream": "stderr",
       "text": [
        "DEBUG:aietes.Behaviour:Waypoint: [ 333.333  666.667  666.667],50\n"
       ]
      },
      {
       "output_type": "stream",
       "stream": "stderr",
       "text": [
        "DEBUG:aietes.Behaviour:End of Position List\n"
       ]
      },
      {
       "output_type": "stream",
       "stream": "stderr",
       "text": [
        "DEBUG:aietes.aietes.Node:instance created\n"
       ]
      },
      {
       "output_type": "stream",
       "stream": "stderr",
       "text": [
        "DEBUG:aietes:Generating node Mike with config {'max_turn': [4.5, 4.5, 4.5], 'mac': 'ALOHA', 'position_generation': 'center', 'memory_model': 'global', 'app': 'Null', 'phy': 'PHY', 'Behaviour': {'nearest_neighbours': 4, 'protocol': 'Waypoint', 'waypoint_factor': [0.01], 'neighbourhood_max_rad': 100, 'waypoint_style': 'patrolCube', 'update_rate': 0.3, 'positional_accuracy': [5.0], 'schooling_factor': [0.01], 'repulsive_factor': [0.125], 'collision_avoidance_d': [50.0], 'clumping_factor': [0.125], 'neighbourhood_min_rad': 10}, 'Application': {'packet_count': 0, 'distribution': [1], 'protocol': ['Null'], 'packet_rate': 1.0}, 'MAC': {'ack_packet_length': 24, 'protocol': 'ALOHA'}, 'max_speed': [2.3], 'PHY': {'receive_power': -3.0, 'max_transmit_power': 250.0, 'listen_power': -30.0, 'variable_bandwidth': False, 'var_power': {}, 'bandwidth': 1.0, 'frequency': 20.0, 'transmit_power': 250.0, 'threshold': {'SIR': 15.0, 'SNR': 20.0, 'LIS': 3.0}, 'bandwidth_to_bit_ratio': 1.0}, 'net': 'RoutingTable', 'bev': 'Null', 'cruising_speed': [1.4], 'Network': {'protocol': 'RoutingTable'}}\n"
       ]
      },
      {
       "output_type": "stream",
       "stream": "stderr",
       "text": [
        "DEBUG:aietes:Gave node Mike a center vector: (467, 532, 483)\n"
       ]
      },
      {
       "output_type": "stream",
       "stream": "stderr",
       "text": [
        "DEBUG:aietes.aietes.Node.App:Null:creating instance\n"
       ]
      },
      {
       "output_type": "stream",
       "stream": "stderr",
       "text": [
        "DEBUG:aietes.aietes.Node.App:Null:Taking Packet_Rate from config: 1.0\n"
       ]
      },
      {
       "output_type": "stream",
       "stream": "stderr",
       "text": [
        "DEBUG:aietes.aietes.Node.Bev:Waypoint:creating instance\n"
       ]
      },
      {
       "output_type": "stream",
       "stream": "stderr",
       "text": [
        "DEBUG:aietes.aietes.Node.Bev:Waypoint:Generating waypoints: patrolCube\n"
       ]
      },
      {
       "output_type": "stream",
       "stream": "stderr",
       "text": [
        "DEBUG:aietes.Behaviour:Waypoint: [ 333.333  333.333  333.333],50\n"
       ]
      },
      {
       "output_type": "stream",
       "stream": "stderr",
       "text": [
        "DEBUG:aietes.Behaviour:Waypoint: [ 666.667  333.333  333.333],50\n"
       ]
      },
      {
       "output_type": "stream",
       "stream": "stderr",
       "text": [
        "DEBUG:aietes.Behaviour:Waypoint: [ 666.667  666.667  333.333],50\n"
       ]
      },
      {
       "output_type": "stream",
       "stream": "stderr",
       "text": [
        "DEBUG:aietes.Behaviour:Waypoint: [ 333.333  666.667  333.333],50\n"
       ]
      },
      {
       "output_type": "stream",
       "stream": "stderr",
       "text": [
        "DEBUG:aietes.Behaviour:Waypoint: [ 333.333  333.333  666.667],50\n"
       ]
      },
      {
       "output_type": "stream",
       "stream": "stderr",
       "text": [
        "DEBUG:aietes.Behaviour:Waypoint: [ 666.667  333.333  666.667],50\n"
       ]
      },
      {
       "output_type": "stream",
       "stream": "stderr",
       "text": [
        "DEBUG:aietes.Behaviour:Waypoint: [ 666.667  666.667  666.667],50\n"
       ]
      },
      {
       "output_type": "stream",
       "stream": "stderr",
       "text": [
        "DEBUG:aietes.Behaviour:Waypoint: [ 333.333  666.667  666.667],50\n"
       ]
      },
      {
       "output_type": "stream",
       "stream": "stderr",
       "text": [
        "DEBUG:aietes.Behaviour:End of Position List\n"
       ]
      },
      {
       "output_type": "stream",
       "stream": "stderr",
       "text": [
        "DEBUG:aietes.aietes.Node:instance created\n"
       ]
      },
      {
       "output_type": "stream",
       "stream": "stderr",
       "text": [
        "DEBUG:aietes:Generating node Charlie with config {'max_turn': [4.5, 4.5, 4.5], 'mac': 'ALOHA', 'position_generation': 'center', 'memory_model': 'global', 'app': 'Null', 'phy': 'PHY', 'Behaviour': {'nearest_neighbours': 4, 'protocol': 'Shadow', 'waypoint_factor': [0.01], 'neighbourhood_max_rad': 100, 'waypoint_style': 'patrolCube', 'update_rate': 0.3, 'positional_accuracy': [5.0], 'schooling_factor': [0.01], 'repulsive_factor': [0.125], 'collision_avoidance_d': [50.0], 'clumping_factor': [0.125], 'neighbourhood_min_rad': 10}, 'Application': {'packet_count': 0, 'distribution': [1], 'protocol': ['Null'], 'packet_rate': 1.0}, 'MAC': {'ack_packet_length': 24, 'protocol': 'ALOHA'}, 'max_speed': [2.3], 'PHY': {'receive_power': -3.0, 'max_transmit_power': 250.0, 'listen_power': -30.0, 'variable_bandwidth': False, 'var_power': {}, 'bandwidth': 1.0, 'frequency': 20.0, 'transmit_power': 250.0, 'threshold': {'SIR': 15.0, 'SNR': 20.0, 'LIS': 3.0}, 'bandwidth_to_bit_ratio': 1.0}, 'net': 'RoutingTable', 'bev': 'Null', 'cruising_speed': [1.4], 'Network': {'protocol': 'RoutingTable'}}\n"
       ]
      },
      {
       "output_type": "stream",
       "stream": "stderr",
       "text": [
        "DEBUG:aietes:Gave node Charlie a center vector: (469, 477, 506)\n"
       ]
      },
      {
       "output_type": "stream",
       "stream": "stderr",
       "text": [
        "DEBUG:aietes.aietes.Node.App:Null:creating instance\n"
       ]
      },
      {
       "output_type": "stream",
       "stream": "stderr",
       "text": [
        "DEBUG:aietes.aietes.Node.App:Null:Taking Packet_Rate from config: 1.0\n"
       ]
      },
      {
       "output_type": "stream",
       "stream": "stderr",
       "text": [
        "DEBUG:aietes.aietes.Node.Bev:Flock:creating instance\n"
       ]
      },
      {
       "output_type": "stream",
       "stream": "stderr",
       "text": [
        "DEBUG:aietes.aietes.Node:instance created\n"
       ]
      },
      {
       "output_type": "stream",
       "stream": "stderr",
       "text": [
        "DEBUG:aietes:Generating node Hotel with config {'max_turn': [4.5, 4.5, 4.5], 'mac': 'ALOHA', 'position_generation': 'center', 'memory_model': 'global', 'app': 'Null', 'phy': 'PHY', 'Behaviour': {'nearest_neighbours': 4, 'protocol': 'Waypoint', 'waypoint_factor': [0.01], 'neighbourhood_max_rad': 100, 'waypoint_style': 'patrolCube', 'update_rate': 0.3, 'positional_accuracy': [5.0], 'schooling_factor': [0.01], 'repulsive_factor': [0.125], 'collision_avoidance_d': [50.0], 'clumping_factor': [0.125], 'neighbourhood_min_rad': 10}, 'Application': {'packet_count': 0, 'distribution': [1], 'protocol': ['Null'], 'packet_rate': 1.0}, 'MAC': {'ack_packet_length': 24, 'protocol': 'ALOHA'}, 'max_speed': [2.3], 'PHY': {'receive_power': -3.0, 'max_transmit_power': 250.0, 'listen_power': -30.0, 'variable_bandwidth': False, 'var_power': {}, 'bandwidth': 1.0, 'frequency': 20.0, 'transmit_power': 250.0, 'threshold': {'SIR': 15.0, 'SNR': 20.0, 'LIS': 3.0}, 'bandwidth_to_bit_ratio': 1.0}, 'net': 'RoutingTable', 'bev': 'Null', 'cruising_speed': [1.4], 'Network': {'protocol': 'RoutingTable'}}\n"
       ]
      },
      {
       "output_type": "stream",
       "stream": "stderr",
       "text": [
        "DEBUG:aietes:Gave node Hotel a center vector: (507, 509, 483)\n"
       ]
      },
      {
       "output_type": "stream",
       "stream": "stderr",
       "text": [
        "DEBUG:aietes.aietes.Node.App:Null:creating instance\n"
       ]
      },
      {
       "output_type": "stream",
       "stream": "stderr",
       "text": [
        "DEBUG:aietes.aietes.Node.App:Null:Taking Packet_Rate from config: 1.0\n"
       ]
      },
      {
       "output_type": "stream",
       "stream": "stderr",
       "text": [
        "DEBUG:aietes.aietes.Node.Bev:Waypoint:creating instance\n"
       ]
      },
      {
       "output_type": "stream",
       "stream": "stderr",
       "text": [
        "DEBUG:aietes.aietes.Node.Bev:Waypoint:Generating waypoints: patrolCube\n"
       ]
      },
      {
       "output_type": "stream",
       "stream": "stderr",
       "text": [
        "DEBUG:aietes.Behaviour:Waypoint: [ 333.333  333.333  333.333],50\n"
       ]
      },
      {
       "output_type": "stream",
       "stream": "stderr",
       "text": [
        "DEBUG:aietes.Behaviour:Waypoint: [ 666.667  333.333  333.333],50\n"
       ]
      },
      {
       "output_type": "stream",
       "stream": "stderr",
       "text": [
        "DEBUG:aietes.Behaviour:Waypoint: [ 666.667  666.667  333.333],50\n"
       ]
      },
      {
       "output_type": "stream",
       "stream": "stderr",
       "text": [
        "DEBUG:aietes.Behaviour:Waypoint: [ 333.333  666.667  333.333],50\n"
       ]
      },
      {
       "output_type": "stream",
       "stream": "stderr",
       "text": [
        "DEBUG:aietes.Behaviour:Waypoint: [ 333.333  333.333  666.667],50\n"
       ]
      },
      {
       "output_type": "stream",
       "stream": "stderr",
       "text": [
        "DEBUG:aietes.Behaviour:Waypoint: [ 666.667  333.333  666.667],50\n"
       ]
      },
      {
       "output_type": "stream",
       "stream": "stderr",
       "text": [
        "DEBUG:aietes.Behaviour:Waypoint: [ 666.667  666.667  666.667],50\n"
       ]
      },
      {
       "output_type": "stream",
       "stream": "stderr",
       "text": [
        "DEBUG:aietes.Behaviour:Waypoint: [ 333.333  666.667  666.667],50\n"
       ]
      },
      {
       "output_type": "stream",
       "stream": "stderr",
       "text": [
        "DEBUG:aietes.Behaviour:End of Position List\n"
       ]
      },
      {
       "output_type": "stream",
       "stream": "stderr",
       "text": [
        "DEBUG:aietes.aietes.Node:instance created\n"
       ]
      },
      {
       "output_type": "stream",
       "stream": "stderr",
       "text": [
        "DEBUG:aietes:Generating node Romeo with config {'max_turn': [4.5, 4.5, 4.5], 'mac': 'ALOHA', 'position_generation': 'center', 'memory_model': 'global', 'app': 'Null', 'phy': 'PHY', 'Behaviour': {'nearest_neighbours': 4, 'protocol': 'Waypoint', 'waypoint_factor': [0.01], 'neighbourhood_max_rad': 100, 'waypoint_style': 'patrolCube', 'update_rate': 0.3, 'positional_accuracy': [5.0], 'schooling_factor': [0.01], 'repulsive_factor': [0.125], 'collision_avoidance_d': [50.0], 'clumping_factor': [0.125], 'neighbourhood_min_rad': 10}, 'Application': {'packet_count': 0, 'distribution': [1], 'protocol': ['Null'], 'packet_rate': 1.0}, 'MAC': {'ack_packet_length': 24, 'protocol': 'ALOHA'}, 'max_speed': [2.3], 'PHY': {'receive_power': -3.0, 'max_transmit_power': 250.0, 'listen_power': -30.0, 'variable_bandwidth': False, 'var_power': {}, 'bandwidth': 1.0, 'frequency': 20.0, 'transmit_power': 250.0, 'threshold': {'SIR': 15.0, 'SNR': 20.0, 'LIS': 3.0}, 'bandwidth_to_bit_ratio': 1.0}, 'net': 'RoutingTable', 'bev': 'Null', 'cruising_speed': [1.4], 'Network': {'protocol': 'RoutingTable'}}\n"
       ]
      },
      {
       "output_type": "stream",
       "stream": "stderr",
       "text": [
        "DEBUG:aietes:Gave node Romeo a center vector: (463, 553, 479)\n"
       ]
      },
      {
       "output_type": "stream",
       "stream": "stderr",
       "text": [
        "DEBUG:aietes.aietes.Node.App:Null:creating instance\n"
       ]
      },
      {
       "output_type": "stream",
       "stream": "stderr",
       "text": [
        "DEBUG:aietes.aietes.Node.App:Null:Taking Packet_Rate from config: 1.0\n"
       ]
      },
      {
       "output_type": "stream",
       "stream": "stderr",
       "text": [
        "DEBUG:aietes.aietes.Node.Bev:Waypoint:creating instance\n"
       ]
      },
      {
       "output_type": "stream",
       "stream": "stderr",
       "text": [
        "DEBUG:aietes.aietes.Node.Bev:Waypoint:Generating waypoints: patrolCube\n"
       ]
      },
      {
       "output_type": "stream",
       "stream": "stderr",
       "text": [
        "DEBUG:aietes.Behaviour:Waypoint: [ 333.333  333.333  333.333],50\n"
       ]
      },
      {
       "output_type": "stream",
       "stream": "stderr",
       "text": [
        "DEBUG:aietes.Behaviour:Waypoint: [ 666.667  333.333  333.333],50\n"
       ]
      },
      {
       "output_type": "stream",
       "stream": "stderr",
       "text": [
        "DEBUG:aietes.Behaviour:Waypoint: [ 666.667  666.667  333.333],50\n"
       ]
      },
      {
       "output_type": "stream",
       "stream": "stderr",
       "text": [
        "DEBUG:aietes.Behaviour:Waypoint: [ 333.333  666.667  333.333],50\n"
       ]
      },
      {
       "output_type": "stream",
       "stream": "stderr",
       "text": [
        "DEBUG:aietes.Behaviour:Waypoint: [ 333.333  333.333  666.667],50\n"
       ]
      },
      {
       "output_type": "stream",
       "stream": "stderr",
       "text": [
        "DEBUG:aietes.Behaviour:Waypoint: [ 666.667  333.333  666.667],50\n"
       ]
      },
      {
       "output_type": "stream",
       "stream": "stderr",
       "text": [
        "DEBUG:aietes.Behaviour:Waypoint: [ 666.667  666.667  666.667],50\n"
       ]
      },
      {
       "output_type": "stream",
       "stream": "stderr",
       "text": [
        "DEBUG:aietes.Behaviour:Waypoint: [ 333.333  666.667  666.667],50\n"
       ]
      },
      {
       "output_type": "stream",
       "stream": "stderr",
       "text": [
        "DEBUG:aietes.Behaviour:End of Position List\n"
       ]
      },
      {
       "output_type": "stream",
       "stream": "stderr",
       "text": [
        "DEBUG:aietes.aietes.Node:instance created\n"
       ]
      },
      {
       "output_type": "stream",
       "stream": "stderr",
       "text": [
        "DEBUG:aietes:Generating node Oscar with config {'max_turn': [4.5, 4.5, 4.5], 'mac': 'ALOHA', 'position_generation': 'center', 'memory_model': 'global', 'app': 'Null', 'phy': 'PHY', 'Behaviour': {'nearest_neighbours': 4, 'protocol': 'Waypoint', 'waypoint_factor': [0.01], 'neighbourhood_max_rad': 100, 'waypoint_style': 'patrolCube', 'update_rate': 0.3, 'positional_accuracy': [5.0], 'schooling_factor': [0.01], 'repulsive_factor': [0.125], 'collision_avoidance_d': [50.0], 'clumping_factor': [0.125], 'neighbourhood_min_rad': 10}, 'Application': {'packet_count': 0, 'distribution': [1], 'protocol': ['Null'], 'packet_rate': 1.0}, 'MAC': {'ack_packet_length': 24, 'protocol': 'ALOHA'}, 'max_speed': [2.3], 'PHY': {'receive_power': -3.0, 'max_transmit_power': 250.0, 'listen_power': -30.0, 'variable_bandwidth': False, 'var_power': {}, 'bandwidth': 1.0, 'frequency': 20.0, 'transmit_power': 250.0, 'threshold': {'SIR': 15.0, 'SNR': 20.0, 'LIS': 3.0}, 'bandwidth_to_bit_ratio': 1.0}, 'net': 'RoutingTable', 'bev': 'Null', 'cruising_speed': [1.4], 'Network': {'protocol': 'RoutingTable'}}\n"
       ]
      },
      {
       "output_type": "stream",
       "stream": "stderr",
       "text": [
        "DEBUG:aietes:Gave node Oscar a center vector: (558, 488, 524)\n"
       ]
      },
      {
       "output_type": "stream",
       "stream": "stderr",
       "text": [
        "DEBUG:aietes.aietes.Node.App:Null:creating instance\n"
       ]
      },
      {
       "output_type": "stream",
       "stream": "stderr",
       "text": [
        "DEBUG:aietes.aietes.Node.App:Null:Taking Packet_Rate from config: 1.0\n"
       ]
      },
      {
       "output_type": "stream",
       "stream": "stderr",
       "text": [
        "DEBUG:aietes.aietes.Node.Bev:Waypoint:creating instance\n"
       ]
      },
      {
       "output_type": "stream",
       "stream": "stderr",
       "text": [
        "DEBUG:aietes.aietes.Node.Bev:Waypoint:Generating waypoints: patrolCube\n"
       ]
      },
      {
       "output_type": "stream",
       "stream": "stderr",
       "text": [
        "DEBUG:aietes.Behaviour:Waypoint: [ 333.333  333.333  333.333],50\n"
       ]
      },
      {
       "output_type": "stream",
       "stream": "stderr",
       "text": [
        "DEBUG:aietes.Behaviour:Waypoint: [ 666.667  333.333  333.333],50\n"
       ]
      },
      {
       "output_type": "stream",
       "stream": "stderr",
       "text": [
        "DEBUG:aietes.Behaviour:Waypoint: [ 666.667  666.667  333.333],50\n"
       ]
      },
      {
       "output_type": "stream",
       "stream": "stderr",
       "text": [
        "DEBUG:aietes.Behaviour:Waypoint: [ 333.333  666.667  333.333],50\n"
       ]
      },
      {
       "output_type": "stream",
       "stream": "stderr",
       "text": [
        "DEBUG:aietes.Behaviour:Waypoint: [ 333.333  333.333  666.667],50\n"
       ]
      },
      {
       "output_type": "stream",
       "stream": "stderr",
       "text": [
        "DEBUG:aietes.Behaviour:Waypoint: [ 666.667  333.333  666.667],50\n"
       ]
      },
      {
       "output_type": "stream",
       "stream": "stderr",
       "text": [
        "DEBUG:aietes.Behaviour:Waypoint: [ 666.667  666.667  666.667],50\n"
       ]
      },
      {
       "output_type": "stream",
       "stream": "stderr",
       "text": [
        "DEBUG:aietes.Behaviour:Waypoint: [ 333.333  666.667  666.667],50\n"
       ]
      },
      {
       "output_type": "stream",
       "stream": "stderr",
       "text": [
        "DEBUG:aietes.Behaviour:End of Position List\n"
       ]
      },
      {
       "output_type": "stream",
       "stream": "stderr",
       "text": [
        "DEBUG:aietes.aietes.Node:instance created\n"
       ]
      },
      {
       "output_type": "stream",
       "stream": "stderr",
       "text": [
        "DEBUG:aietes:Generating node Lima with config {'max_turn': [4.5, 4.5, 4.5], 'mac': 'ALOHA', 'position_generation': 'center', 'memory_model': 'global', 'app': 'Null', 'phy': 'PHY', 'Behaviour': {'nearest_neighbours': 4, 'protocol': 'Waypoint', 'waypoint_factor': [0.01], 'neighbourhood_max_rad': 100, 'waypoint_style': 'patrolCube', 'update_rate': 0.3, 'positional_accuracy': [5.0], 'schooling_factor': [0.01], 'repulsive_factor': [0.125], 'collision_avoidance_d': [50.0], 'clumping_factor': [0.125], 'neighbourhood_min_rad': 10}, 'Application': {'packet_count': 0, 'distribution': [1], 'protocol': ['Null'], 'packet_rate': 1.0}, 'MAC': {'ack_packet_length': 24, 'protocol': 'ALOHA'}, 'max_speed': [2.3], 'PHY': {'receive_power': -3.0, 'max_transmit_power': 250.0, 'listen_power': -30.0, 'variable_bandwidth': False, 'var_power': {}, 'bandwidth': 1.0, 'frequency': 20.0, 'transmit_power': 250.0, 'threshold': {'SIR': 15.0, 'SNR': 20.0, 'LIS': 3.0}, 'bandwidth_to_bit_ratio': 1.0}, 'net': 'RoutingTable', 'bev': 'Null', 'cruising_speed': [1.4], 'Network': {'protocol': 'RoutingTable'}}\n"
       ]
      },
      {
       "output_type": "stream",
       "stream": "stderr",
       "text": [
        "DEBUG:aietes:Gave node Lima a center vector: (490, 446, 521)\n"
       ]
      },
      {
       "output_type": "stream",
       "stream": "stderr",
       "text": [
        "DEBUG:aietes.aietes.Node.App:Null:creating instance\n"
       ]
      },
      {
       "output_type": "stream",
       "stream": "stderr",
       "text": [
        "DEBUG:aietes.aietes.Node.App:Null:Taking Packet_Rate from config: 1.0\n"
       ]
      },
      {
       "output_type": "stream",
       "stream": "stderr",
       "text": [
        "DEBUG:aietes.aietes.Node.Bev:Waypoint:creating instance\n"
       ]
      },
      {
       "output_type": "stream",
       "stream": "stderr",
       "text": [
        "DEBUG:aietes.aietes.Node.Bev:Waypoint:Generating waypoints: patrolCube\n"
       ]
      },
      {
       "output_type": "stream",
       "stream": "stderr",
       "text": [
        "DEBUG:aietes.Behaviour:Waypoint: [ 333.333  333.333  333.333],50\n"
       ]
      },
      {
       "output_type": "stream",
       "stream": "stderr",
       "text": [
        "DEBUG:aietes.Behaviour:Waypoint: [ 666.667  333.333  333.333],50\n"
       ]
      },
      {
       "output_type": "stream",
       "stream": "stderr",
       "text": [
        "DEBUG:aietes.Behaviour:Waypoint: [ 666.667  666.667  333.333],50\n"
       ]
      },
      {
       "output_type": "stream",
       "stream": "stderr",
       "text": [
        "DEBUG:aietes.Behaviour:Waypoint: [ 333.333  666.667  333.333],50\n"
       ]
      },
      {
       "output_type": "stream",
       "stream": "stderr",
       "text": [
        "DEBUG:aietes.Behaviour:Waypoint: [ 333.333  333.333  666.667],50\n"
       ]
      },
      {
       "output_type": "stream",
       "stream": "stderr",
       "text": [
        "DEBUG:aietes.Behaviour:Waypoint: [ 666.667  333.333  666.667],50\n"
       ]
      },
      {
       "output_type": "stream",
       "stream": "stderr",
       "text": [
        "DEBUG:aietes.Behaviour:Waypoint: [ 666.667  666.667  666.667],50\n"
       ]
      },
      {
       "output_type": "stream",
       "stream": "stderr",
       "text": [
        "DEBUG:aietes.Behaviour:Waypoint: [ 333.333  666.667  666.667],50\n"
       ]
      },
      {
       "output_type": "stream",
       "stream": "stderr",
       "text": [
        "DEBUG:aietes.Behaviour:End of Position List\n"
       ]
      },
      {
       "output_type": "stream",
       "stream": "stderr",
       "text": [
        "DEBUG:aietes.aietes.Node:instance created\n"
       ]
      },
      {
       "output_type": "stream",
       "stream": "stderr",
       "text": [
        "DEBUG:aietes:Generating node X-ray with config {'max_turn': [4.5, 4.5, 4.5], 'mac': 'ALOHA', 'position_generation': 'center', 'memory_model': 'global', 'app': 'Null', 'phy': 'PHY', 'Behaviour': {'nearest_neighbours': 4, 'protocol': 'Waypoint', 'waypoint_factor': [0.01], 'neighbourhood_max_rad': 100, 'waypoint_style': 'patrolCube', 'update_rate': 0.3, 'positional_accuracy': [5.0], 'schooling_factor': [0.01], 'repulsive_factor': [0.125], 'collision_avoidance_d': [50.0], 'clumping_factor': [0.125], 'neighbourhood_min_rad': 10}, 'Application': {'packet_count': 0, 'distribution': [1], 'protocol': ['Null'], 'packet_rate': 1.0}, 'MAC': {'ack_packet_length': 24, 'protocol': 'ALOHA'}, 'max_speed': [2.3], 'PHY': {'receive_power': -3.0, 'max_transmit_power': 250.0, 'listen_power': -30.0, 'variable_bandwidth': False, 'var_power': {}, 'bandwidth': 1.0, 'frequency': 20.0, 'transmit_power': 250.0, 'threshold': {'SIR': 15.0, 'SNR': 20.0, 'LIS': 3.0}, 'bandwidth_to_bit_ratio': 1.0}, 'net': 'RoutingTable', 'bev': 'Null', 'cruising_speed': [1.4], 'Network': {'protocol': 'RoutingTable'}}\n"
       ]
      },
      {
       "output_type": "stream",
       "stream": "stderr",
       "text": [
        "DEBUG:aietes:Gave node X-ray a center vector: (504, 498, 539)\n"
       ]
      },
      {
       "output_type": "stream",
       "stream": "stderr",
       "text": [
        "DEBUG:aietes.aietes.Node.App:Null:creating instance\n"
       ]
      },
      {
       "output_type": "stream",
       "stream": "stderr",
       "text": [
        "DEBUG:aietes.aietes.Node.App:Null:Taking Packet_Rate from config: 1.0\n"
       ]
      },
      {
       "output_type": "stream",
       "stream": "stderr",
       "text": [
        "DEBUG:aietes.aietes.Node.Bev:Waypoint:creating instance\n"
       ]
      },
      {
       "output_type": "stream",
       "stream": "stderr",
       "text": [
        "DEBUG:aietes.aietes.Node.Bev:Waypoint:Generating waypoints: patrolCube\n"
       ]
      },
      {
       "output_type": "stream",
       "stream": "stderr",
       "text": [
        "DEBUG:aietes.Behaviour:Waypoint: [ 333.333  333.333  333.333],50\n"
       ]
      },
      {
       "output_type": "stream",
       "stream": "stderr",
       "text": [
        "DEBUG:aietes.Behaviour:Waypoint: [ 666.667  333.333  333.333],50\n"
       ]
      },
      {
       "output_type": "stream",
       "stream": "stderr",
       "text": [
        "DEBUG:aietes.Behaviour:Waypoint: [ 666.667  666.667  333.333],50\n"
       ]
      },
      {
       "output_type": "stream",
       "stream": "stderr",
       "text": [
        "DEBUG:aietes.Behaviour:Waypoint: [ 333.333  666.667  333.333],50\n"
       ]
      },
      {
       "output_type": "stream",
       "stream": "stderr",
       "text": [
        "DEBUG:aietes.Behaviour:Waypoint: [ 333.333  333.333  666.667],50\n"
       ]
      },
      {
       "output_type": "stream",
       "stream": "stderr",
       "text": [
        "DEBUG:aietes.Behaviour:Waypoint: [ 666.667  333.333  666.667],50\n"
       ]
      },
      {
       "output_type": "stream",
       "stream": "stderr",
       "text": [
        "DEBUG:aietes.Behaviour:Waypoint: [ 666.667  666.667  666.667],50\n"
       ]
      },
      {
       "output_type": "stream",
       "stream": "stderr",
       "text": [
        "DEBUG:aietes.Behaviour:Waypoint: [ 333.333  666.667  666.667],50\n"
       ]
      },
      {
       "output_type": "stream",
       "stream": "stderr",
       "text": [
        "DEBUG:aietes.Behaviour:End of Position List\n"
       ]
      },
      {
       "output_type": "stream",
       "stream": "stderr",
       "text": [
        "DEBUG:aietes.aietes.Node:instance created\n"
       ]
      },
      {
       "output_type": "stream",
       "stream": "stderr",
       "text": [
        "INFO:aietes.aietes.Fleet:creating instance\n"
       ]
      },
      {
       "output_type": "stream",
       "stream": "stderr",
       "text": [
        "INFO:aietes:Initialising Simulation Behaviour(Shadow)-1, to run for 1000.0 steps\n"
       ]
      },
      {
       "output_type": "stream",
       "stream": "stderr",
       "text": [
        "INFO:aietes.aietes.Fleet:Initialised Node Lifecycle\n"
       ]
      },
      {
       "output_type": "stream",
       "stream": "stderr",
       "text": [
        "DEBUG:aietes.aietes.Node:Initialised Node Lifecycle\n"
       ]
      },
      {
       "output_type": "stream",
       "stream": "stderr",
       "text": [
        "DEBUG:aietes.aietes.Node.App:Null:No Destination defined, defaulting to \"Any\"\n"
       ]
      },
      {
       "output_type": "stream",
       "stream": "stderr",
       "text": [
        "DEBUG:aietes.aietes.Node:Initialised Node Lifecycle\n"
       ]
      },
      {
       "output_type": "stream",
       "stream": "stderr",
       "text": [
        "DEBUG:aietes.aietes.Node.App:Null:No Destination defined, defaulting to \"Any\"\n"
       ]
      },
      {
       "output_type": "stream",
       "stream": "stderr",
       "text": [
        "DEBUG:aietes.aietes.Node:Initialised Node Lifecycle\n"
       ]
      },
      {
       "output_type": "stream",
       "stream": "stderr",
       "text": [
        "DEBUG:aietes.aietes.Node.App:Null:No Destination defined, defaulting to \"Any\"\n"
       ]
      },
      {
       "output_type": "stream",
       "stream": "stderr",
       "text": [
        "DEBUG:aietes.aietes.Node:Initialised Node Lifecycle\n"
       ]
      },
      {
       "output_type": "stream",
       "stream": "stderr",
       "text": [
        "DEBUG:aietes.aietes.Node.App:Null:No Destination defined, defaulting to \"Any\"\n"
       ]
      },
      {
       "output_type": "stream",
       "stream": "stderr",
       "text": [
        "DEBUG:aietes.aietes.Node:Initialised Node Lifecycle\n"
       ]
      },
      {
       "output_type": "stream",
       "stream": "stderr",
       "text": [
        "DEBUG:aietes.aietes.Node.App:Null:No Destination defined, defaulting to \"Any\"\n"
       ]
      },
      {
       "output_type": "stream",
       "stream": "stderr",
       "text": [
        "DEBUG:aietes.aietes.Node:Initialised Node Lifecycle\n"
       ]
      },
      {
       "output_type": "stream",
       "stream": "stderr",
       "text": [
        "DEBUG:aietes.aietes.Node.App:Null:No Destination defined, defaulting to \"Any\"\n"
       ]
      },
      {
       "output_type": "stream",
       "stream": "stderr",
       "text": [
        "DEBUG:aietes.aietes.Node:Initialised Node Lifecycle\n"
       ]
      },
      {
       "output_type": "stream",
       "stream": "stderr",
       "text": [
        "DEBUG:aietes.aietes.Node.App:Null:No Destination defined, defaulting to \"Any\"\n"
       ]
      },
      {
       "output_type": "stream",
       "stream": "stderr",
       "text": [
        "DEBUG:aietes.aietes.Node:Initialised Node Lifecycle\n"
       ]
      },
      {
       "output_type": "stream",
       "stream": "stderr",
       "text": [
        "DEBUG:aietes.aietes.Node.App:Null:No Destination defined, defaulting to \"Any\"\n"
       ]
      },
      {
       "output_type": "stream",
       "stream": "stderr",
       "text": [
        "INFO:aietes.aietes.Node.Bev:Waypoint:Moving to Next waypoint:[ 333.333  333.333  333.333]\n"
       ]
      },
      {
       "output_type": "stream",
       "stream": "stderr",
       "text": [
        "INFO:aietes.aietes.Node.Bev:Waypoint:Moving to Next waypoint:[ 333.333  333.333  333.333]\n"
       ]
      },
      {
       "output_type": "stream",
       "stream": "stderr",
       "text": [
        "INFO:aietes.aietes.Node.Bev:Waypoint:Moving to Next waypoint:[ 333.333  333.333  333.333]\n"
       ]
      },
      {
       "output_type": "stream",
       "stream": "stderr",
       "text": [
        "INFO:aietes.aietes.Node.Bev:Waypoint:Moving to Next waypoint:[ 333.333  333.333  333.333]\n"
       ]
      },
      {
       "output_type": "stream",
       "stream": "stderr",
       "text": [
        "INFO:aietes.aietes.Node.Bev:Waypoint:Moving to Next waypoint:[ 333.333  333.333  333.333]\n"
       ]
      },
      {
       "output_type": "stream",
       "stream": "stderr",
       "text": [
        "INFO:aietes.aietes.Node.Bev:Waypoint:Moving to Next waypoint:[ 333.333  333.333  333.333]\n"
       ]
      },
      {
       "output_type": "stream",
       "stream": "stderr",
       "text": [
        "INFO:aietes.aietes.Node.Bev:Waypoint:Moving to Next waypoint:[ 333.333  333.333  333.333]\n"
       ]
      },
      {
       "output_type": "stream",
       "stream": "stderr",
       "text": [
        "INFO:aietes.aietes.Node.Bev:Waypoint:Moving to Next waypoint:[ 666.667  333.333  333.333]\n"
       ]
      },
      {
       "output_type": "stream",
       "stream": "stderr",
       "text": [
        "INFO:aietes:Finished Simulation at 1000.0\n"
       ]
      },
      {
       "output_type": "stream",
       "stream": "stderr",
       "text": [
        "INFO:aietes:Writing datafile to Behaviour(Shadow)(1:3).aietes\n"
       ]
      },
      {
       "output_type": "stream",
       "stream": "stdout",
       "text": [
        "Behaviour(Shadow)(1:3).aietes.npz\n",
        "Behaviour(Shadow)(2:3),"
       ]
      },
      {
       "output_type": "stream",
       "stream": "stderr",
       "text": [
        "INFO:aietes:using given config\n"
       ]
      },
      {
       "output_type": "stream",
       "stream": "stderr",
       "text": [
        "DEBUG:aietes.Environment:creating instance\n"
       ]
      },
      {
       "output_type": "stream",
       "stream": "stderr",
       "text": [
        "DEBUG:aietes:Generating node Echo with config {'max_turn': [4.5, 4.5, 4.5], 'mac': 'ALOHA', 'position_generation': 'center', 'memory_model': 'global', 'app': 'Null', 'phy': 'PHY', 'Behaviour': {'nearest_neighbours': 4, 'protocol': 'Waypoint', 'waypoint_factor': [0.01], 'neighbourhood_max_rad': 100, 'waypoint_style': 'patrolCube', 'update_rate': 0.3, 'positional_accuracy': [5.0], 'schooling_factor': [0.01], 'repulsive_factor': [0.125], 'collision_avoidance_d': [50.0], 'clumping_factor': [0.125], 'neighbourhood_min_rad': 10}, 'Application': {'packet_count': 0, 'distribution': [1], 'protocol': ['Null'], 'packet_rate': 1.0}, 'MAC': {'ack_packet_length': 24, 'protocol': 'ALOHA'}, 'max_speed': [2.3], 'PHY': {'receive_power': -3.0, 'max_transmit_power': 250.0, 'listen_power': -30.0, 'variable_bandwidth': False, 'var_power': {}, 'bandwidth': 1.0, 'frequency': 20.0, 'transmit_power': 250.0, 'threshold': {'SIR': 15.0, 'SNR': 20.0, 'LIS': 3.0}, 'bandwidth_to_bit_ratio': 1.0}, 'net': 'RoutingTable', 'bev': 'Null', 'cruising_speed': [1.4], 'Network': {'protocol': 'RoutingTable'}}\n"
       ]
      },
      {
       "output_type": "stream",
       "stream": "stderr",
       "text": [
        "DEBUG:aietes:Gave node Echo a center vector: (475, 478, 485)\n"
       ]
      },
      {
       "output_type": "stream",
       "stream": "stderr",
       "text": [
        "DEBUG:aietes.aietes.Node.App:Null:creating instance\n"
       ]
      },
      {
       "output_type": "stream",
       "stream": "stderr",
       "text": [
        "DEBUG:aietes.aietes.Node.App:Null:Taking Packet_Rate from config: 1.0\n"
       ]
      },
      {
       "output_type": "stream",
       "stream": "stderr",
       "text": [
        "DEBUG:aietes.aietes.Node.Bev:Waypoint:creating instance\n"
       ]
      },
      {
       "output_type": "stream",
       "stream": "stderr",
       "text": [
        "DEBUG:aietes.aietes.Node.Bev:Waypoint:Generating waypoints: patrolCube\n"
       ]
      },
      {
       "output_type": "stream",
       "stream": "stderr",
       "text": [
        "DEBUG:aietes.Behaviour:Waypoint: [ 333.333  333.333  333.333],50\n"
       ]
      },
      {
       "output_type": "stream",
       "stream": "stderr",
       "text": [
        "DEBUG:aietes.Behaviour:Waypoint: [ 666.667  333.333  333.333],50\n"
       ]
      },
      {
       "output_type": "stream",
       "stream": "stderr",
       "text": [
        "DEBUG:aietes.Behaviour:Waypoint: [ 666.667  666.667  333.333],50\n"
       ]
      },
      {
       "output_type": "stream",
       "stream": "stderr",
       "text": [
        "DEBUG:aietes.Behaviour:Waypoint: [ 333.333  666.667  333.333],50\n"
       ]
      },
      {
       "output_type": "stream",
       "stream": "stderr",
       "text": [
        "DEBUG:aietes.Behaviour:Waypoint: [ 333.333  333.333  666.667],50\n"
       ]
      },
      {
       "output_type": "stream",
       "stream": "stderr",
       "text": [
        "DEBUG:aietes.Behaviour:Waypoint: [ 666.667  333.333  666.667],50\n"
       ]
      },
      {
       "output_type": "stream",
       "stream": "stderr",
       "text": [
        "DEBUG:aietes.Behaviour:Waypoint: [ 666.667  666.667  666.667],50\n"
       ]
      },
      {
       "output_type": "stream",
       "stream": "stderr",
       "text": [
        "DEBUG:aietes.Behaviour:Waypoint: [ 333.333  666.667  666.667],50\n"
       ]
      },
      {
       "output_type": "stream",
       "stream": "stderr",
       "text": [
        "DEBUG:aietes.Behaviour:End of Position List\n"
       ]
      },
      {
       "output_type": "stream",
       "stream": "stderr",
       "text": [
        "DEBUG:aietes.aietes.Node:instance created\n"
       ]
      },
      {
       "output_type": "stream",
       "stream": "stderr",
       "text": [
        "DEBUG:aietes:Generating node Mike with config {'max_turn': [4.5, 4.5, 4.5], 'mac': 'ALOHA', 'position_generation': 'center', 'memory_model': 'global', 'app': 'Null', 'phy': 'PHY', 'Behaviour': {'nearest_neighbours': 4, 'protocol': 'Waypoint', 'waypoint_factor': [0.01], 'neighbourhood_max_rad': 100, 'waypoint_style': 'patrolCube', 'update_rate': 0.3, 'positional_accuracy': [5.0], 'schooling_factor': [0.01], 'repulsive_factor': [0.125], 'collision_avoidance_d': [50.0], 'clumping_factor': [0.125], 'neighbourhood_min_rad': 10}, 'Application': {'packet_count': 0, 'distribution': [1], 'protocol': ['Null'], 'packet_rate': 1.0}, 'MAC': {'ack_packet_length': 24, 'protocol': 'ALOHA'}, 'max_speed': [2.3], 'PHY': {'receive_power': -3.0, 'max_transmit_power': 250.0, 'listen_power': -30.0, 'variable_bandwidth': False, 'var_power': {}, 'bandwidth': 1.0, 'frequency': 20.0, 'transmit_power': 250.0, 'threshold': {'SIR': 15.0, 'SNR': 20.0, 'LIS': 3.0}, 'bandwidth_to_bit_ratio': 1.0}, 'net': 'RoutingTable', 'bev': 'Null', 'cruising_speed': [1.4], 'Network': {'protocol': 'RoutingTable'}}\n"
       ]
      },
      {
       "output_type": "stream",
       "stream": "stderr",
       "text": [
        "DEBUG:aietes:Gave node Mike a center vector: (517, 507, 487)\n"
       ]
      },
      {
       "output_type": "stream",
       "stream": "stderr",
       "text": [
        "DEBUG:aietes.aietes.Node.App:Null:creating instance\n"
       ]
      },
      {
       "output_type": "stream",
       "stream": "stderr",
       "text": [
        "DEBUG:aietes.aietes.Node.App:Null:Taking Packet_Rate from config: 1.0\n"
       ]
      },
      {
       "output_type": "stream",
       "stream": "stderr",
       "text": [
        "DEBUG:aietes.aietes.Node.Bev:Waypoint:creating instance\n"
       ]
      },
      {
       "output_type": "stream",
       "stream": "stderr",
       "text": [
        "DEBUG:aietes.aietes.Node.Bev:Waypoint:Generating waypoints: patrolCube\n"
       ]
      },
      {
       "output_type": "stream",
       "stream": "stderr",
       "text": [
        "DEBUG:aietes.Behaviour:Waypoint: [ 333.333  333.333  333.333],50\n"
       ]
      },
      {
       "output_type": "stream",
       "stream": "stderr",
       "text": [
        "DEBUG:aietes.Behaviour:Waypoint: [ 666.667  333.333  333.333],50\n"
       ]
      },
      {
       "output_type": "stream",
       "stream": "stderr",
       "text": [
        "DEBUG:aietes.Behaviour:Waypoint: [ 666.667  666.667  333.333],50\n"
       ]
      },
      {
       "output_type": "stream",
       "stream": "stderr",
       "text": [
        "DEBUG:aietes.Behaviour:Waypoint: [ 333.333  666.667  333.333],50\n"
       ]
      },
      {
       "output_type": "stream",
       "stream": "stderr",
       "text": [
        "DEBUG:aietes.Behaviour:Waypoint: [ 333.333  333.333  666.667],50\n"
       ]
      },
      {
       "output_type": "stream",
       "stream": "stderr",
       "text": [
        "DEBUG:aietes.Behaviour:Waypoint: [ 666.667  333.333  666.667],50\n"
       ]
      },
      {
       "output_type": "stream",
       "stream": "stderr",
       "text": [
        "DEBUG:aietes.Behaviour:Waypoint: [ 666.667  666.667  666.667],50\n"
       ]
      },
      {
       "output_type": "stream",
       "stream": "stderr",
       "text": [
        "DEBUG:aietes.Behaviour:Waypoint: [ 333.333  666.667  666.667],50\n"
       ]
      },
      {
       "output_type": "stream",
       "stream": "stderr",
       "text": [
        "DEBUG:aietes.Behaviour:End of Position List\n"
       ]
      },
      {
       "output_type": "stream",
       "stream": "stderr",
       "text": [
        "DEBUG:aietes.aietes.Node:instance created\n"
       ]
      },
      {
       "output_type": "stream",
       "stream": "stderr",
       "text": [
        "DEBUG:aietes:Generating node Charlie with config {'max_turn': [4.5, 4.5, 4.5], 'mac': 'ALOHA', 'position_generation': 'center', 'memory_model': 'global', 'app': 'Null', 'phy': 'PHY', 'Behaviour': {'nearest_neighbours': 4, 'protocol': 'Shadow', 'waypoint_factor': [0.01], 'neighbourhood_max_rad': 100, 'waypoint_style': 'patrolCube', 'update_rate': 0.3, 'positional_accuracy': [5.0], 'schooling_factor': [0.01], 'repulsive_factor': [0.125], 'collision_avoidance_d': [50.0], 'clumping_factor': [0.125], 'neighbourhood_min_rad': 10}, 'Application': {'packet_count': 0, 'distribution': [1], 'protocol': ['Null'], 'packet_rate': 1.0}, 'MAC': {'ack_packet_length': 24, 'protocol': 'ALOHA'}, 'max_speed': [2.3], 'PHY': {'receive_power': -3.0, 'max_transmit_power': 250.0, 'listen_power': -30.0, 'variable_bandwidth': False, 'var_power': {}, 'bandwidth': 1.0, 'frequency': 20.0, 'transmit_power': 250.0, 'threshold': {'SIR': 15.0, 'SNR': 20.0, 'LIS': 3.0}, 'bandwidth_to_bit_ratio': 1.0}, 'net': 'RoutingTable', 'bev': 'Null', 'cruising_speed': [1.4], 'Network': {'protocol': 'RoutingTable'}}\n"
       ]
      },
      {
       "output_type": "stream",
       "stream": "stderr",
       "text": [
        "DEBUG:aietes:Gave node Charlie a center vector: (486, 497, 531)\n"
       ]
      },
      {
       "output_type": "stream",
       "stream": "stderr",
       "text": [
        "DEBUG:aietes.aietes.Node.App:Null:creating instance\n"
       ]
      },
      {
       "output_type": "stream",
       "stream": "stderr",
       "text": [
        "DEBUG:aietes.aietes.Node.App:Null:Taking Packet_Rate from config: 1.0\n"
       ]
      },
      {
       "output_type": "stream",
       "stream": "stderr",
       "text": [
        "DEBUG:aietes.aietes.Node.Bev:Flock:creating instance\n"
       ]
      },
      {
       "output_type": "stream",
       "stream": "stderr",
       "text": [
        "DEBUG:aietes.aietes.Node:instance created\n"
       ]
      },
      {
       "output_type": "stream",
       "stream": "stderr",
       "text": [
        "DEBUG:aietes:Generating node Hotel with config {'max_turn': [4.5, 4.5, 4.5], 'mac': 'ALOHA', 'position_generation': 'center', 'memory_model': 'global', 'app': 'Null', 'phy': 'PHY', 'Behaviour': {'nearest_neighbours': 4, 'protocol': 'Waypoint', 'waypoint_factor': [0.01], 'neighbourhood_max_rad': 100, 'waypoint_style': 'patrolCube', 'update_rate': 0.3, 'positional_accuracy': [5.0], 'schooling_factor': [0.01], 'repulsive_factor': [0.125], 'collision_avoidance_d': [50.0], 'clumping_factor': [0.125], 'neighbourhood_min_rad': 10}, 'Application': {'packet_count': 0, 'distribution': [1], 'protocol': ['Null'], 'packet_rate': 1.0}, 'MAC': {'ack_packet_length': 24, 'protocol': 'ALOHA'}, 'max_speed': [2.3], 'PHY': {'receive_power': -3.0, 'max_transmit_power': 250.0, 'listen_power': -30.0, 'variable_bandwidth': False, 'var_power': {}, 'bandwidth': 1.0, 'frequency': 20.0, 'transmit_power': 250.0, 'threshold': {'SIR': 15.0, 'SNR': 20.0, 'LIS': 3.0}, 'bandwidth_to_bit_ratio': 1.0}, 'net': 'RoutingTable', 'bev': 'Null', 'cruising_speed': [1.4], 'Network': {'protocol': 'RoutingTable'}}\n"
       ]
      },
      {
       "output_type": "stream",
       "stream": "stderr",
       "text": [
        "DEBUG:aietes:Gave node Hotel a center vector: (459, 516, 483)\n"
       ]
      },
      {
       "output_type": "stream",
       "stream": "stderr",
       "text": [
        "DEBUG:aietes.aietes.Node.App:Null:creating instance\n"
       ]
      },
      {
       "output_type": "stream",
       "stream": "stderr",
       "text": [
        "DEBUG:aietes.aietes.Node.App:Null:Taking Packet_Rate from config: 1.0\n"
       ]
      },
      {
       "output_type": "stream",
       "stream": "stderr",
       "text": [
        "DEBUG:aietes.aietes.Node.Bev:Waypoint:creating instance\n"
       ]
      },
      {
       "output_type": "stream",
       "stream": "stderr",
       "text": [
        "DEBUG:aietes.aietes.Node.Bev:Waypoint:Generating waypoints: patrolCube\n"
       ]
      },
      {
       "output_type": "stream",
       "stream": "stderr",
       "text": [
        "DEBUG:aietes.Behaviour:Waypoint: [ 333.333  333.333  333.333],50\n"
       ]
      },
      {
       "output_type": "stream",
       "stream": "stderr",
       "text": [
        "DEBUG:aietes.Behaviour:Waypoint: [ 666.667  333.333  333.333],50\n"
       ]
      },
      {
       "output_type": "stream",
       "stream": "stderr",
       "text": [
        "DEBUG:aietes.Behaviour:Waypoint: [ 666.667  666.667  333.333],50\n"
       ]
      },
      {
       "output_type": "stream",
       "stream": "stderr",
       "text": [
        "DEBUG:aietes.Behaviour:Waypoint: [ 333.333  666.667  333.333],50\n"
       ]
      },
      {
       "output_type": "stream",
       "stream": "stderr",
       "text": [
        "DEBUG:aietes.Behaviour:Waypoint: [ 333.333  333.333  666.667],50\n"
       ]
      },
      {
       "output_type": "stream",
       "stream": "stderr",
       "text": [
        "DEBUG:aietes.Behaviour:Waypoint: [ 666.667  333.333  666.667],50\n"
       ]
      },
      {
       "output_type": "stream",
       "stream": "stderr",
       "text": [
        "DEBUG:aietes.Behaviour:Waypoint: [ 666.667  666.667  666.667],50\n"
       ]
      },
      {
       "output_type": "stream",
       "stream": "stderr",
       "text": [
        "DEBUG:aietes.Behaviour:Waypoint: [ 333.333  666.667  666.667],50\n"
       ]
      },
      {
       "output_type": "stream",
       "stream": "stderr",
       "text": [
        "DEBUG:aietes.Behaviour:End of Position List\n"
       ]
      },
      {
       "output_type": "stream",
       "stream": "stderr",
       "text": [
        "DEBUG:aietes.aietes.Node:instance created\n"
       ]
      },
      {
       "output_type": "stream",
       "stream": "stderr",
       "text": [
        "DEBUG:aietes:Generating node Romeo with config {'max_turn': [4.5, 4.5, 4.5], 'mac': 'ALOHA', 'position_generation': 'center', 'memory_model': 'global', 'app': 'Null', 'phy': 'PHY', 'Behaviour': {'nearest_neighbours': 4, 'protocol': 'Waypoint', 'waypoint_factor': [0.01], 'neighbourhood_max_rad': 100, 'waypoint_style': 'patrolCube', 'update_rate': 0.3, 'positional_accuracy': [5.0], 'schooling_factor': [0.01], 'repulsive_factor': [0.125], 'collision_avoidance_d': [50.0], 'clumping_factor': [0.125], 'neighbourhood_min_rad': 10}, 'Application': {'packet_count': 0, 'distribution': [1], 'protocol': ['Null'], 'packet_rate': 1.0}, 'MAC': {'ack_packet_length': 24, 'protocol': 'ALOHA'}, 'max_speed': [2.3], 'PHY': {'receive_power': -3.0, 'max_transmit_power': 250.0, 'listen_power': -30.0, 'variable_bandwidth': False, 'var_power': {}, 'bandwidth': 1.0, 'frequency': 20.0, 'transmit_power': 250.0, 'threshold': {'SIR': 15.0, 'SNR': 20.0, 'LIS': 3.0}, 'bandwidth_to_bit_ratio': 1.0}, 'net': 'RoutingTable', 'bev': 'Null', 'cruising_speed': [1.4], 'Network': {'protocol': 'RoutingTable'}}\n"
       ]
      },
      {
       "output_type": "stream",
       "stream": "stderr",
       "text": [
        "DEBUG:aietes:Gave node Romeo a center vector: (510, 439, 502)\n"
       ]
      },
      {
       "output_type": "stream",
       "stream": "stderr",
       "text": [
        "DEBUG:aietes.aietes.Node.App:Null:creating instance\n"
       ]
      },
      {
       "output_type": "stream",
       "stream": "stderr",
       "text": [
        "DEBUG:aietes.aietes.Node.App:Null:Taking Packet_Rate from config: 1.0\n"
       ]
      },
      {
       "output_type": "stream",
       "stream": "stderr",
       "text": [
        "DEBUG:aietes.aietes.Node.Bev:Waypoint:creating instance\n"
       ]
      },
      {
       "output_type": "stream",
       "stream": "stderr",
       "text": [
        "DEBUG:aietes.aietes.Node.Bev:Waypoint:Generating waypoints: patrolCube\n"
       ]
      },
      {
       "output_type": "stream",
       "stream": "stderr",
       "text": [
        "DEBUG:aietes.Behaviour:Waypoint: [ 333.333  333.333  333.333],50\n"
       ]
      },
      {
       "output_type": "stream",
       "stream": "stderr",
       "text": [
        "DEBUG:aietes.Behaviour:Waypoint: [ 666.667  333.333  333.333],50\n"
       ]
      },
      {
       "output_type": "stream",
       "stream": "stderr",
       "text": [
        "DEBUG:aietes.Behaviour:Waypoint: [ 666.667  666.667  333.333],50\n"
       ]
      },
      {
       "output_type": "stream",
       "stream": "stderr",
       "text": [
        "DEBUG:aietes.Behaviour:Waypoint: [ 333.333  666.667  333.333],50\n"
       ]
      },
      {
       "output_type": "stream",
       "stream": "stderr",
       "text": [
        "DEBUG:aietes.Behaviour:Waypoint: [ 333.333  333.333  666.667],50\n"
       ]
      },
      {
       "output_type": "stream",
       "stream": "stderr",
       "text": [
        "DEBUG:aietes.Behaviour:Waypoint: [ 666.667  333.333  666.667],50\n"
       ]
      },
      {
       "output_type": "stream",
       "stream": "stderr",
       "text": [
        "DEBUG:aietes.Behaviour:Waypoint: [ 666.667  666.667  666.667],50\n"
       ]
      },
      {
       "output_type": "stream",
       "stream": "stderr",
       "text": [
        "DEBUG:aietes.Behaviour:Waypoint: [ 333.333  666.667  666.667],50\n"
       ]
      },
      {
       "output_type": "stream",
       "stream": "stderr",
       "text": [
        "DEBUG:aietes.Behaviour:End of Position List\n"
       ]
      },
      {
       "output_type": "stream",
       "stream": "stderr",
       "text": [
        "DEBUG:aietes.aietes.Node:instance created\n"
       ]
      },
      {
       "output_type": "stream",
       "stream": "stderr",
       "text": [
        "DEBUG:aietes:Generating node Oscar with config {'max_turn': [4.5, 4.5, 4.5], 'mac': 'ALOHA', 'position_generation': 'center', 'memory_model': 'global', 'app': 'Null', 'phy': 'PHY', 'Behaviour': {'nearest_neighbours': 4, 'protocol': 'Waypoint', 'waypoint_factor': [0.01], 'neighbourhood_max_rad': 100, 'waypoint_style': 'patrolCube', 'update_rate': 0.3, 'positional_accuracy': [5.0], 'schooling_factor': [0.01], 'repulsive_factor': [0.125], 'collision_avoidance_d': [50.0], 'clumping_factor': [0.125], 'neighbourhood_min_rad': 10}, 'Application': {'packet_count': 0, 'distribution': [1], 'protocol': ['Null'], 'packet_rate': 1.0}, 'MAC': {'ack_packet_length': 24, 'protocol': 'ALOHA'}, 'max_speed': [2.3], 'PHY': {'receive_power': -3.0, 'max_transmit_power': 250.0, 'listen_power': -30.0, 'variable_bandwidth': False, 'var_power': {}, 'bandwidth': 1.0, 'frequency': 20.0, 'transmit_power': 250.0, 'threshold': {'SIR': 15.0, 'SNR': 20.0, 'LIS': 3.0}, 'bandwidth_to_bit_ratio': 1.0}, 'net': 'RoutingTable', 'bev': 'Null', 'cruising_speed': [1.4], 'Network': {'protocol': 'RoutingTable'}}\n"
       ]
      },
      {
       "output_type": "stream",
       "stream": "stderr",
       "text": [
        "DEBUG:aietes:Gave node Oscar a center vector: (526, 472, 553)\n"
       ]
      },
      {
       "output_type": "stream",
       "stream": "stderr",
       "text": [
        "DEBUG:aietes.aietes.Node.App:Null:creating instance\n"
       ]
      },
      {
       "output_type": "stream",
       "stream": "stderr",
       "text": [
        "DEBUG:aietes.aietes.Node.App:Null:Taking Packet_Rate from config: 1.0\n"
       ]
      },
      {
       "output_type": "stream",
       "stream": "stderr",
       "text": [
        "DEBUG:aietes.aietes.Node.Bev:Waypoint:creating instance\n"
       ]
      },
      {
       "output_type": "stream",
       "stream": "stderr",
       "text": [
        "DEBUG:aietes.aietes.Node.Bev:Waypoint:Generating waypoints: patrolCube\n"
       ]
      },
      {
       "output_type": "stream",
       "stream": "stderr",
       "text": [
        "DEBUG:aietes.Behaviour:Waypoint: [ 333.333  333.333  333.333],50\n"
       ]
      },
      {
       "output_type": "stream",
       "stream": "stderr",
       "text": [
        "DEBUG:aietes.Behaviour:Waypoint: [ 666.667  333.333  333.333],50\n"
       ]
      },
      {
       "output_type": "stream",
       "stream": "stderr",
       "text": [
        "DEBUG:aietes.Behaviour:Waypoint: [ 666.667  666.667  333.333],50\n"
       ]
      },
      {
       "output_type": "stream",
       "stream": "stderr",
       "text": [
        "DEBUG:aietes.Behaviour:Waypoint: [ 333.333  666.667  333.333],50\n"
       ]
      },
      {
       "output_type": "stream",
       "stream": "stderr",
       "text": [
        "DEBUG:aietes.Behaviour:Waypoint: [ 333.333  333.333  666.667],50\n"
       ]
      },
      {
       "output_type": "stream",
       "stream": "stderr",
       "text": [
        "DEBUG:aietes.Behaviour:Waypoint: [ 666.667  333.333  666.667],50\n"
       ]
      },
      {
       "output_type": "stream",
       "stream": "stderr",
       "text": [
        "DEBUG:aietes.Behaviour:Waypoint: [ 666.667  666.667  666.667],50\n"
       ]
      },
      {
       "output_type": "stream",
       "stream": "stderr",
       "text": [
        "DEBUG:aietes.Behaviour:Waypoint: [ 333.333  666.667  666.667],50\n"
       ]
      },
      {
       "output_type": "stream",
       "stream": "stderr",
       "text": [
        "DEBUG:aietes.Behaviour:End of Position List\n"
       ]
      },
      {
       "output_type": "stream",
       "stream": "stderr",
       "text": [
        "DEBUG:aietes.aietes.Node:instance created\n"
       ]
      },
      {
       "output_type": "stream",
       "stream": "stderr",
       "text": [
        "DEBUG:aietes:Generating node Lima with config {'max_turn': [4.5, 4.5, 4.5], 'mac': 'ALOHA', 'position_generation': 'center', 'memory_model': 'global', 'app': 'Null', 'phy': 'PHY', 'Behaviour': {'nearest_neighbours': 4, 'protocol': 'Waypoint', 'waypoint_factor': [0.01], 'neighbourhood_max_rad': 100, 'waypoint_style': 'patrolCube', 'update_rate': 0.3, 'positional_accuracy': [5.0], 'schooling_factor': [0.01], 'repulsive_factor': [0.125], 'collision_avoidance_d': [50.0], 'clumping_factor': [0.125], 'neighbourhood_min_rad': 10}, 'Application': {'packet_count': 0, 'distribution': [1], 'protocol': ['Null'], 'packet_rate': 1.0}, 'MAC': {'ack_packet_length': 24, 'protocol': 'ALOHA'}, 'max_speed': [2.3], 'PHY': {'receive_power': -3.0, 'max_transmit_power': 250.0, 'listen_power': -30.0, 'variable_bandwidth': False, 'var_power': {}, 'bandwidth': 1.0, 'frequency': 20.0, 'transmit_power': 250.0, 'threshold': {'SIR': 15.0, 'SNR': 20.0, 'LIS': 3.0}, 'bandwidth_to_bit_ratio': 1.0}, 'net': 'RoutingTable', 'bev': 'Null', 'cruising_speed': [1.4], 'Network': {'protocol': 'RoutingTable'}}\n"
       ]
      },
      {
       "output_type": "stream",
       "stream": "stderr",
       "text": [
        "DEBUG:aietes:Gave node Lima a center vector: (491, 477, 538)\n"
       ]
      },
      {
       "output_type": "stream",
       "stream": "stderr",
       "text": [
        "DEBUG:aietes.aietes.Node.App:Null:creating instance\n"
       ]
      },
      {
       "output_type": "stream",
       "stream": "stderr",
       "text": [
        "DEBUG:aietes.aietes.Node.App:Null:Taking Packet_Rate from config: 1.0\n"
       ]
      },
      {
       "output_type": "stream",
       "stream": "stderr",
       "text": [
        "DEBUG:aietes.aietes.Node.Bev:Waypoint:creating instance\n"
       ]
      },
      {
       "output_type": "stream",
       "stream": "stderr",
       "text": [
        "DEBUG:aietes.aietes.Node.Bev:Waypoint:Generating waypoints: patrolCube\n"
       ]
      },
      {
       "output_type": "stream",
       "stream": "stderr",
       "text": [
        "DEBUG:aietes.Behaviour:Waypoint: [ 333.333  333.333  333.333],50\n"
       ]
      },
      {
       "output_type": "stream",
       "stream": "stderr",
       "text": [
        "DEBUG:aietes.Behaviour:Waypoint: [ 666.667  333.333  333.333],50\n"
       ]
      },
      {
       "output_type": "stream",
       "stream": "stderr",
       "text": [
        "DEBUG:aietes.Behaviour:Waypoint: [ 666.667  666.667  333.333],50\n"
       ]
      },
      {
       "output_type": "stream",
       "stream": "stderr",
       "text": [
        "DEBUG:aietes.Behaviour:Waypoint: [ 333.333  666.667  333.333],50\n"
       ]
      },
      {
       "output_type": "stream",
       "stream": "stderr",
       "text": [
        "DEBUG:aietes.Behaviour:Waypoint: [ 333.333  333.333  666.667],50\n"
       ]
      },
      {
       "output_type": "stream",
       "stream": "stderr",
       "text": [
        "DEBUG:aietes.Behaviour:Waypoint: [ 666.667  333.333  666.667],50\n"
       ]
      },
      {
       "output_type": "stream",
       "stream": "stderr",
       "text": [
        "DEBUG:aietes.Behaviour:Waypoint: [ 666.667  666.667  666.667],50\n"
       ]
      },
      {
       "output_type": "stream",
       "stream": "stderr",
       "text": [
        "DEBUG:aietes.Behaviour:Waypoint: [ 333.333  666.667  666.667],50\n"
       ]
      },
      {
       "output_type": "stream",
       "stream": "stderr",
       "text": [
        "DEBUG:aietes.Behaviour:End of Position List\n"
       ]
      },
      {
       "output_type": "stream",
       "stream": "stderr",
       "text": [
        "DEBUG:aietes.aietes.Node:instance created\n"
       ]
      },
      {
       "output_type": "stream",
       "stream": "stderr",
       "text": [
        "DEBUG:aietes:Generating node X-ray with config {'max_turn': [4.5, 4.5, 4.5], 'mac': 'ALOHA', 'position_generation': 'center', 'memory_model': 'global', 'app': 'Null', 'phy': 'PHY', 'Behaviour': {'nearest_neighbours': 4, 'protocol': 'Waypoint', 'waypoint_factor': [0.01], 'neighbourhood_max_rad': 100, 'waypoint_style': 'patrolCube', 'update_rate': 0.3, 'positional_accuracy': [5.0], 'schooling_factor': [0.01], 'repulsive_factor': [0.125], 'collision_avoidance_d': [50.0], 'clumping_factor': [0.125], 'neighbourhood_min_rad': 10}, 'Application': {'packet_count': 0, 'distribution': [1], 'protocol': ['Null'], 'packet_rate': 1.0}, 'MAC': {'ack_packet_length': 24, 'protocol': 'ALOHA'}, 'max_speed': [2.3], 'PHY': {'receive_power': -3.0, 'max_transmit_power': 250.0, 'listen_power': -30.0, 'variable_bandwidth': False, 'var_power': {}, 'bandwidth': 1.0, 'frequency': 20.0, 'transmit_power': 250.0, 'threshold': {'SIR': 15.0, 'SNR': 20.0, 'LIS': 3.0}, 'bandwidth_to_bit_ratio': 1.0}, 'net': 'RoutingTable', 'bev': 'Null', 'cruising_speed': [1.4], 'Network': {'protocol': 'RoutingTable'}}\n"
       ]
      },
      {
       "output_type": "stream",
       "stream": "stderr",
       "text": [
        "DEBUG:aietes:Gave node X-ray a center vector: (528, 473, 498)\n"
       ]
      },
      {
       "output_type": "stream",
       "stream": "stderr",
       "text": [
        "DEBUG:aietes.aietes.Node.App:Null:creating instance\n"
       ]
      },
      {
       "output_type": "stream",
       "stream": "stderr",
       "text": [
        "DEBUG:aietes.aietes.Node.App:Null:Taking Packet_Rate from config: 1.0\n"
       ]
      },
      {
       "output_type": "stream",
       "stream": "stderr",
       "text": [
        "DEBUG:aietes.aietes.Node.Bev:Waypoint:creating instance\n"
       ]
      },
      {
       "output_type": "stream",
       "stream": "stderr",
       "text": [
        "DEBUG:aietes.aietes.Node.Bev:Waypoint:Generating waypoints: patrolCube\n"
       ]
      },
      {
       "output_type": "stream",
       "stream": "stderr",
       "text": [
        "DEBUG:aietes.Behaviour:Waypoint: [ 333.333  333.333  333.333],50\n"
       ]
      },
      {
       "output_type": "stream",
       "stream": "stderr",
       "text": [
        "DEBUG:aietes.Behaviour:Waypoint: [ 666.667  333.333  333.333],50\n"
       ]
      },
      {
       "output_type": "stream",
       "stream": "stderr",
       "text": [
        "DEBUG:aietes.Behaviour:Waypoint: [ 666.667  666.667  333.333],50\n"
       ]
      },
      {
       "output_type": "stream",
       "stream": "stderr",
       "text": [
        "DEBUG:aietes.Behaviour:Waypoint: [ 333.333  666.667  333.333],50\n"
       ]
      },
      {
       "output_type": "stream",
       "stream": "stderr",
       "text": [
        "DEBUG:aietes.Behaviour:Waypoint: [ 333.333  333.333  666.667],50\n"
       ]
      },
      {
       "output_type": "stream",
       "stream": "stderr",
       "text": [
        "DEBUG:aietes.Behaviour:Waypoint: [ 666.667  333.333  666.667],50\n"
       ]
      },
      {
       "output_type": "stream",
       "stream": "stderr",
       "text": [
        "DEBUG:aietes.Behaviour:Waypoint: [ 666.667  666.667  666.667],50\n"
       ]
      },
      {
       "output_type": "stream",
       "stream": "stderr",
       "text": [
        "DEBUG:aietes.Behaviour:Waypoint: [ 333.333  666.667  666.667],50\n"
       ]
      },
      {
       "output_type": "stream",
       "stream": "stderr",
       "text": [
        "DEBUG:aietes.Behaviour:End of Position List\n"
       ]
      },
      {
       "output_type": "stream",
       "stream": "stderr",
       "text": [
        "DEBUG:aietes.aietes.Node:instance created\n"
       ]
      },
      {
       "output_type": "stream",
       "stream": "stderr",
       "text": [
        "INFO:aietes.aietes.Fleet:creating instance\n"
       ]
      },
      {
       "output_type": "stream",
       "stream": "stderr",
       "text": [
        "INFO:aietes:Initialising Simulation Behaviour(Shadow)-2, to run for 1000.0 steps\n"
       ]
      },
      {
       "output_type": "stream",
       "stream": "stderr",
       "text": [
        "INFO:aietes.aietes.Fleet:Initialised Node Lifecycle\n"
       ]
      },
      {
       "output_type": "stream",
       "stream": "stderr",
       "text": [
        "DEBUG:aietes.aietes.Node:Initialised Node Lifecycle\n"
       ]
      },
      {
       "output_type": "stream",
       "stream": "stderr",
       "text": [
        "DEBUG:aietes.aietes.Node.App:Null:No Destination defined, defaulting to \"Any\"\n"
       ]
      },
      {
       "output_type": "stream",
       "stream": "stderr",
       "text": [
        "DEBUG:aietes.aietes.Node:Initialised Node Lifecycle\n"
       ]
      },
      {
       "output_type": "stream",
       "stream": "stderr",
       "text": [
        "DEBUG:aietes.aietes.Node.App:Null:No Destination defined, defaulting to \"Any\"\n"
       ]
      },
      {
       "output_type": "stream",
       "stream": "stderr",
       "text": [
        "DEBUG:aietes.aietes.Node:Initialised Node Lifecycle\n"
       ]
      },
      {
       "output_type": "stream",
       "stream": "stderr",
       "text": [
        "DEBUG:aietes.aietes.Node.App:Null:No Destination defined, defaulting to \"Any\"\n"
       ]
      },
      {
       "output_type": "stream",
       "stream": "stderr",
       "text": [
        "DEBUG:aietes.aietes.Node:Initialised Node Lifecycle\n"
       ]
      },
      {
       "output_type": "stream",
       "stream": "stderr",
       "text": [
        "DEBUG:aietes.aietes.Node.App:Null:No Destination defined, defaulting to \"Any\"\n"
       ]
      },
      {
       "output_type": "stream",
       "stream": "stderr",
       "text": [
        "DEBUG:aietes.aietes.Node:Initialised Node Lifecycle\n"
       ]
      },
      {
       "output_type": "stream",
       "stream": "stderr",
       "text": [
        "DEBUG:aietes.aietes.Node.App:Null:No Destination defined, defaulting to \"Any\"\n"
       ]
      },
      {
       "output_type": "stream",
       "stream": "stderr",
       "text": [
        "DEBUG:aietes.aietes.Node:Initialised Node Lifecycle\n"
       ]
      },
      {
       "output_type": "stream",
       "stream": "stderr",
       "text": [
        "DEBUG:aietes.aietes.Node.App:Null:No Destination defined, defaulting to \"Any\"\n"
       ]
      },
      {
       "output_type": "stream",
       "stream": "stderr",
       "text": [
        "DEBUG:aietes.aietes.Node:Initialised Node Lifecycle\n"
       ]
      },
      {
       "output_type": "stream",
       "stream": "stderr",
       "text": [
        "DEBUG:aietes.aietes.Node.App:Null:No Destination defined, defaulting to \"Any\"\n"
       ]
      },
      {
       "output_type": "stream",
       "stream": "stderr",
       "text": [
        "DEBUG:aietes.aietes.Node:Initialised Node Lifecycle\n"
       ]
      },
      {
       "output_type": "stream",
       "stream": "stderr",
       "text": [
        "DEBUG:aietes.aietes.Node.App:Null:No Destination defined, defaulting to \"Any\"\n"
       ]
      },
      {
       "output_type": "stream",
       "stream": "stderr",
       "text": [
        "INFO:aietes.aietes.Node.Bev:Waypoint:Moving to Next waypoint:[ 333.333  333.333  333.333]\n"
       ]
      },
      {
       "output_type": "stream",
       "stream": "stderr",
       "text": [
        "INFO:aietes.aietes.Node.Bev:Waypoint:Moving to Next waypoint:[ 333.333  333.333  333.333]\n"
       ]
      },
      {
       "output_type": "stream",
       "stream": "stderr",
       "text": [
        "INFO:aietes.aietes.Node.Bev:Waypoint:Moving to Next waypoint:[ 333.333  333.333  333.333]\n"
       ]
      },
      {
       "output_type": "stream",
       "stream": "stderr",
       "text": [
        "INFO:aietes.aietes.Node.Bev:Waypoint:Moving to Next waypoint:[ 333.333  333.333  333.333]\n"
       ]
      },
      {
       "output_type": "stream",
       "stream": "stderr",
       "text": [
        "INFO:aietes.aietes.Node.Bev:Waypoint:Moving to Next waypoint:[ 333.333  333.333  333.333]\n"
       ]
      },
      {
       "output_type": "stream",
       "stream": "stderr",
       "text": [
        "INFO:aietes.aietes.Node.Bev:Waypoint:Moving to Next waypoint:[ 333.333  333.333  333.333]\n"
       ]
      },
      {
       "output_type": "stream",
       "stream": "stderr",
       "text": [
        "INFO:aietes.aietes.Node.Bev:Waypoint:Moving to Next waypoint:[ 333.333  333.333  333.333]\n"
       ]
      },
      {
       "output_type": "stream",
       "stream": "stderr",
       "text": [
        "INFO:aietes:Finished Simulation at 1000.0\n"
       ]
      },
      {
       "output_type": "stream",
       "stream": "stderr",
       "text": [
        "INFO:aietes:Writing datafile to Behaviour(Shadow)(2:3).aietes\n"
       ]
      },
      {
       "ename": "TypeError",
       "evalue": "%d format: a number is required, not NoneType",
       "output_type": "pyerr",
       "traceback": [
        "\u001b[1;31m---------------------------------------------------------------------------\u001b[0m\n\u001b[1;31mTypeError\u001b[0m                                 Traceback (most recent call last)",
        "\u001b[1;32m<ipython-input-4-b1fd93e844c2>\u001b[0m in \u001b[0;36m<module>\u001b[1;34m()\u001b[0m\n\u001b[1;32m----> 1\u001b[1;33m \u001b[0mexp\u001b[0m \u001b[1;33m=\u001b[0m \u001b[0mrun_exp\u001b[0m\u001b[1;33m(\u001b[0m\u001b[0mexp\u001b[0m\u001b[1;33m)\u001b[0m\u001b[1;33m\u001b[0m\u001b[0m\n\u001b[0m",
        "\u001b[1;32m<ipython-input-1-d5858c7b32dc>\u001b[0m in \u001b[0;36mrun_exp\u001b[1;34m(exp)\u001b[0m\n\u001b[0;32m     13\u001b[0m \u001b[1;32mdef\u001b[0m \u001b[0mrun_exp\u001b[0m\u001b[1;33m(\u001b[0m\u001b[0mexp\u001b[0m\u001b[1;33m)\u001b[0m\u001b[1;33m:\u001b[0m\u001b[1;33m\u001b[0m\u001b[0m\n\u001b[0;32m     14\u001b[0m     exp.run(title=\"8-bev-mal\",\n\u001b[1;32m---> 15\u001b[1;33m             runcount=3, runtime=100)\n\u001b[0m\u001b[0;32m     16\u001b[0m     \u001b[1;32mreturn\u001b[0m \u001b[0mexp\u001b[0m\u001b[1;33m\u001b[0m\u001b[0m\n\u001b[0;32m     17\u001b[0m \u001b[1;33m\u001b[0m\u001b[0m\n",
        "\u001b[1;32m/home/andrewbolster/src/aietes/src/polybos/__init__.py\u001b[0m in \u001b[0;36mrun\u001b[1;34m(self, threaded, **kwargs)\u001b[0m\n\u001b[0;32m    286\u001b[0m                     \u001b[0mscenario\u001b[0m\u001b[1;33m.\u001b[0m\u001b[0mrunThreaded\u001b[0m\u001b[1;33m(\u001b[0m\u001b[0mruncount\u001b[0m\u001b[1;33m=\u001b[0m\u001b[0mself\u001b[0m\u001b[1;33m.\u001b[0m\u001b[0mruncount\u001b[0m\u001b[1;33m)\u001b[0m\u001b[1;33m\u001b[0m\u001b[0m\n\u001b[0;32m    287\u001b[0m                 \u001b[1;32melse\u001b[0m\u001b[1;33m:\u001b[0m\u001b[1;33m\u001b[0m\u001b[0m\n\u001b[1;32m--> 288\u001b[1;33m                     \u001b[0mscenario\u001b[0m\u001b[1;33m.\u001b[0m\u001b[0mrun\u001b[0m\u001b[1;33m(\u001b[0m\u001b[0mruncount\u001b[0m\u001b[1;33m=\u001b[0m\u001b[0mself\u001b[0m\u001b[1;33m.\u001b[0m\u001b[0mruncount\u001b[0m\u001b[1;33m)\u001b[0m\u001b[1;33m\u001b[0m\u001b[0m\n\u001b[0m\u001b[0;32m    289\u001b[0m         \u001b[1;32mfinally\u001b[0m\u001b[1;33m:\u001b[0m\u001b[1;33m\u001b[0m\u001b[0m\n\u001b[0;32m    290\u001b[0m             \u001b[0mos\u001b[0m\u001b[1;33m.\u001b[0m\u001b[0mchdir\u001b[0m\u001b[1;33m(\u001b[0m\u001b[0mself\u001b[0m\u001b[1;33m.\u001b[0m\u001b[0morig_path\u001b[0m\u001b[1;33m)\u001b[0m\u001b[1;33m\u001b[0m\u001b[0m\n",
        "\u001b[1;32m/home/andrewbolster/src/aietes/src/polybos/__init__.py\u001b[0m in \u001b[0;36mrun\u001b[1;34m(self, runcount, runtime, *args, **kwargs)\u001b[0m\n\u001b[0;32m    108\u001b[0m             \u001b[1;32mexcept\u001b[0m \u001b[0mException\u001b[0m \u001b[1;32mas\u001b[0m \u001b[0mexp\u001b[0m\u001b[1;33m:\u001b[0m\u001b[1;33m\u001b[0m\u001b[0m\n\u001b[0;32m    109\u001b[0m                 \u001b[1;32mraise\u001b[0m\u001b[1;33m\u001b[0m\u001b[0m\n\u001b[1;32m--> 110\u001b[1;33m         \u001b[1;32mprint\u001b[0m\u001b[1;33m(\u001b[0m\u001b[1;34m\"done %d runs for %d each\"\u001b[0m\u001b[1;33m%\u001b[0m\u001b[1;33m(\u001b[0m\u001b[0mruncount\u001b[0m\u001b[1;33m,\u001b[0m\u001b[0mruntime\u001b[0m \u001b[1;32mif\u001b[0m \u001b[0mruntime\u001b[0m \u001b[1;32mis\u001b[0m \u001b[0mNone\u001b[0m \u001b[1;32melse\u001b[0m \u001b[1;33m-\u001b[0m\u001b[0msim_stats\u001b[0m\u001b[1;33m)\u001b[0m\u001b[1;33m)\u001b[0m\u001b[1;33m\u001b[0m\u001b[0m\n\u001b[0m\u001b[0;32m    111\u001b[0m \u001b[1;33m\u001b[0m\u001b[0m\n\u001b[0;32m    112\u001b[0m     \u001b[1;32mdef\u001b[0m \u001b[0mrunThreaded\u001b[0m\u001b[1;33m(\u001b[0m\u001b[0mself\u001b[0m\u001b[1;33m,\u001b[0m \u001b[1;33m*\u001b[0m\u001b[0margs\u001b[0m\u001b[1;33m,\u001b[0m \u001b[1;33m**\u001b[0m\u001b[0mkwargs\u001b[0m\u001b[1;33m)\u001b[0m\u001b[1;33m:\u001b[0m\u001b[1;33m\u001b[0m\u001b[0m\n",
        "\u001b[1;31mTypeError\u001b[0m: %d format: a number is required, not NoneType"
       ]
      },
      {
       "output_type": "stream",
       "stream": "stdout",
       "text": [
        "Behaviour(Shadow)(2:3).aietes.npz\n",
        "Experimental results stored in /tmp/tmpllF1SQ\n"
       ]
      }
     ],
     "prompt_number": 4
    },
    {
     "cell_type": "code",
     "collapsed": false,
     "input": [
      "%reload_ext aietes\n",
      "import aietes\n",
      "s = aietes.Simulation()\n",
      "p=s.prepare(sim_time = 100)"
     ],
     "language": "python",
     "metadata": {},
     "outputs": []
    },
    {
     "cell_type": "code",
     "collapsed": false,
     "input": [
      "p"
     ],
     "language": "python",
     "metadata": {},
     "outputs": []
    },
    {
     "cell_type": "code",
     "collapsed": false,
     "input": [
      "st=s.simulate()"
     ],
     "language": "python",
     "metadata": {},
     "outputs": []
    },
    {
     "cell_type": "code",
     "collapsed": false,
     "input": [
      "st"
     ],
     "language": "python",
     "metadata": {},
     "outputs": []
    },
    {
     "cell_type": "code",
     "collapsed": false,
     "input": [],
     "language": "python",
     "metadata": {},
     "outputs": []
    }
   ],
   "metadata": {}
  }
 ]
}