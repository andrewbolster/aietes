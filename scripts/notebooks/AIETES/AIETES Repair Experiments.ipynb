{
 "metadata": {
  "name": "",
  "signature": "sha256:4afaa64d8c7fdc3fcfd23f628146dcec6279a9b0378a6cbb0aff7233dfd11162"
 },
 "nbformat": 3,
 "nbformat_minor": 0,
 "worksheets": [
  {
   "cells": [
    {
     "cell_type": "code",
     "collapsed": false,
     "input": [
      "import pandas as pd\n",
      "import re\n",
      "import seaborn as sns\n",
      "import aietes\n",
      "reload(aietes)\n",
      "numpy.seterr(invalid='warn')\n",
      "\n",
      "# Make up a datapackage and hope for the best\n",
      "sim = aietes.Simulation(title=\"test\",\n",
      "                        config_file=aietes.Tools.get_config_file('behave_all_mobile.conf'),\n",
      "                        progress_display=False)\n",
      "sim.prepare(sim_time=1250)\n",
      "sim.simulate()\n",
      "dp = sim.generate_datapackage()\n"
     ],
     "language": "python",
     "metadata": {},
     "outputs": [
      {
       "output_type": "stream",
       "stream": "stderr",
       "text": [
        "\u001b[32m0.00     INFO   test:creating instance from /home/bolster/src/aietes/src/aietes/configs/bella_static.conf (128)\u001b[0m\n"
       ]
      },
      {
       "output_type": "stream",
       "stream": "stderr",
       "text": [
        "INFO:test:creating instance from /home/bolster/src/aietes/src/aietes/configs/bella_static.conf\n"
       ]
      },
      {
       "output_type": "stream",
       "stream": "stderr",
       "text": [
        "\u001b[32m0.00     INFO   test:Gave node n0 a configured initial position: ['200', '300', '300'] (598)\u001b[0m\n"
       ]
      },
      {
       "output_type": "stream",
       "stream": "stderr",
       "text": [
        "INFO:test:Gave node n0 a configured initial position: ['200', '300', '300']\n"
       ]
      },
      {
       "output_type": "stream",
       "stream": "stderr",
       "text": [
        "\u001b[33m0.00     WARNING test.aietes.Node[n0].Layercake.CSMA4FBR:I think I have pending data from None but I got something from None (2078)\u001b[0m\n"
       ]
      },
      {
       "output_type": "stream",
       "stream": "stderr",
       "text": [
        "WARNING:test.aietes.Node[n0].Layercake.CSMA4FBR:I think I have pending data from None but I got something from None\n"
       ]
      },
      {
       "output_type": "stream",
       "stream": "stderr",
       "text": [
        "\u001b[32m0.00     INFO   test:Gave node n1 a configured initial position: ['300', '300', '300'] (598)\u001b[0m\n"
       ]
      },
      {
       "output_type": "stream",
       "stream": "stderr",
       "text": [
        "INFO:test:Gave node n1 a configured initial position: ['300', '300', '300']\n"
       ]
      },
      {
       "output_type": "stream",
       "stream": "stderr",
       "text": [
        "\u001b[33m0.00     WARNING test.aietes.Node[n1].Layercake.CSMA4FBR:I think I have pending data from None but I got something from None (2078)\u001b[0m\n"
       ]
      },
      {
       "output_type": "stream",
       "stream": "stderr",
       "text": [
        "WARNING:test.aietes.Node[n1].Layercake.CSMA4FBR:I think I have pending data from None but I got something from None\n"
       ]
      },
      {
       "output_type": "stream",
       "stream": "stderr",
       "text": [
        "\u001b[32m0.00     INFO   test:Gave node n2 a configured initial position: ['250', '350', '300'] (598)\u001b[0m\n"
       ]
      },
      {
       "output_type": "stream",
       "stream": "stderr",
       "text": [
        "INFO:test:Gave node n2 a configured initial position: ['250', '350', '300']\n"
       ]
      },
      {
       "output_type": "stream",
       "stream": "stderr",
       "text": [
        "\u001b[33m0.00     WARNING test.aietes.Node[n2].Layercake.CSMA4FBR:I think I have pending data from None but I got something from None (2078)\u001b[0m\n"
       ]
      },
      {
       "output_type": "stream",
       "stream": "stderr",
       "text": [
        "WARNING:test.aietes.Node[n2].Layercake.CSMA4FBR:I think I have pending data from None but I got something from None\n"
       ]
      },
      {
       "output_type": "stream",
       "stream": "stderr",
       "text": [
        "\u001b[32m0.00     INFO   test:Gave node n3 a configured initial position: ['250', '250', '300'] (598)\u001b[0m\n"
       ]
      },
      {
       "output_type": "stream",
       "stream": "stderr",
       "text": [
        "INFO:test:Gave node n3 a configured initial position: ['250', '250', '300']\n"
       ]
      },
      {
       "output_type": "stream",
       "stream": "stderr",
       "text": [
        "\u001b[33m0.00     WARNING test.aietes.Node[n3].Layercake.CSMA4FBR:I think I have pending data from None but I got something from None (2078)\u001b[0m\n"
       ]
      },
      {
       "output_type": "stream",
       "stream": "stderr",
       "text": [
        "WARNING:test.aietes.Node[n3].Layercake.CSMA4FBR:I think I have pending data from None but I got something from None\n"
       ]
      },
      {
       "output_type": "stream",
       "stream": "stderr",
       "text": [
        "\u001b[32m0.00     INFO   test:Gave node n4 a configured initial position: ['400', '270', '300'] (598)\u001b[0m\n"
       ]
      },
      {
       "output_type": "stream",
       "stream": "stderr",
       "text": [
        "INFO:test:Gave node n4 a configured initial position: ['400', '270', '300']\n"
       ]
      },
      {
       "output_type": "stream",
       "stream": "stderr",
       "text": [
        "\u001b[33m0.00     WARNING test.aietes.Node[n4].Layercake.CSMA4FBR:I think I have pending data from None but I got something from None (2078)\u001b[0m\n"
       ]
      },
      {
       "output_type": "stream",
       "stream": "stderr",
       "text": [
        "WARNING:test.aietes.Node[n4].Layercake.CSMA4FBR:I think I have pending data from None but I got something from None\n"
       ]
      },
      {
       "output_type": "stream",
       "stream": "stderr",
       "text": [
        "\u001b[32m0.00     INFO   test:Gave node n5 a configured initial position: ['400', '330', '300'] (598)\u001b[0m\n"
       ]
      },
      {
       "output_type": "stream",
       "stream": "stderr",
       "text": [
        "INFO:test:Gave node n5 a configured initial position: ['400', '330', '300']\n"
       ]
      },
      {
       "output_type": "stream",
       "stream": "stderr",
       "text": [
        "\u001b[33m0.00     WARNING test.aietes.Node[n5].Layercake.CSMA4FBR:I think I have pending data from None but I got something from None (2078)\u001b[0m\n"
       ]
      },
      {
       "output_type": "stream",
       "stream": "stderr",
       "text": [
        "WARNING:test.aietes.Node[n5].Layercake.CSMA4FBR:I think I have pending data from None but I got something from None\n"
       ]
      },
      {
       "output_type": "stream",
       "stream": "stderr",
       "text": [
        "\u001b[32m0.00     INFO   test.aietes.Fleet:creating Fleet instance with 6 nodes (52)\u001b[0m\n"
       ]
      },
      {
       "output_type": "stream",
       "stream": "stderr",
       "text": [
        "INFO:test.aietes.Fleet:creating Fleet instance with 6 nodes\n"
       ]
      },
      {
       "output_type": "stream",
       "stream": "stderr",
       "text": [
        "\u001b[32m0.00     INFO   test:Initialising Simulation test, to run for 1250.0 steps (205)\u001b[0m\n"
       ]
      },
      {
       "output_type": "stream",
       "stream": "stderr",
       "text": [
        "INFO:test:Initialising Simulation test, to run for 1250.0 steps\n"
       ]
      },
      {
       "output_type": "stream",
       "stream": "stderr",
       "text": [
        "\u001b[32m50.00    INFO   test.aietes.Node[n3].App:CommsTrustRoundRobin:Synchronising counters: ['n0', 'n1', 'n2', 'n4', 'n5'] not in rx and ['n0', 'n1', 'n2', 'n4', 'n5'] not in tx, [] not in total (441)\u001b[0m\n"
       ]
      },
      {
       "output_type": "stream",
       "stream": "stderr",
       "text": [
        "INFO:test.aietes.Node[n3].App:CommsTrustRoundRobin:Synchronising counters: ['n0', 'n1', 'n2', 'n4', 'n5'] not in rx and ['n0', 'n1', 'n2', 'n4', 'n5'] not in tx, [] not in total\n"
       ]
      },
      {
       "output_type": "stream",
       "stream": "stderr",
       "text": [
        "\u001b[32m50.59    INFO   test.aietes.Node[n0].App:CommsTrustRoundRobin:Synchronising counters: ['n1', 'n2', 'n3', 'n4', 'n5'] not in rx and ['n1', 'n2', 'n3', 'n4', 'n5'] not in tx, [] not in total (441)\u001b[0m\n"
       ]
      },
      {
       "output_type": "stream",
       "stream": "stderr",
       "text": [
        "INFO:test.aietes.Node[n0].App:CommsTrustRoundRobin:Synchronising counters: ['n1', 'n2', 'n3', 'n4', 'n5'] not in rx and ['n1', 'n2', 'n3', 'n4', 'n5'] not in tx, [] not in total\n"
       ]
      },
      {
       "output_type": "stream",
       "stream": "stderr",
       "text": [
        "\u001b[32m55.00    INFO   test.aietes.Node[n1].App:CommsTrustRoundRobin:Synchronising counters: ['n0', 'n2', 'n3', 'n4', 'n5'] not in rx and ['n0', 'n2', 'n3', 'n4', 'n5'] not in tx, [] not in total (441)\u001b[0m\n"
       ]
      },
      {
       "output_type": "stream",
       "stream": "stderr",
       "text": [
        "INFO:test.aietes.Node[n1].App:CommsTrustRoundRobin:Synchronising counters: ['n0', 'n2', 'n3', 'n4', 'n5'] not in rx and ['n0', 'n2', 'n3', 'n4', 'n5'] not in tx, [] not in total\n"
       ]
      },
      {
       "output_type": "stream",
       "stream": "stderr",
       "text": [
        "\u001b[32m55.59    INFO   test.aietes.Node[n2].App:CommsTrustRoundRobin:Synchronising counters: ['n0', 'n1', 'n3', 'n4', 'n5'] not in rx and ['n0', 'n1', 'n3', 'n4', 'n5'] not in tx, [] not in total (441)\u001b[0m\n"
       ]
      },
      {
       "output_type": "stream",
       "stream": "stderr",
       "text": [
        "INFO:test.aietes.Node[n2].App:CommsTrustRoundRobin:Synchronising counters: ['n0', 'n1', 'n3', 'n4', 'n5'] not in rx and ['n0', 'n1', 'n3', 'n4', 'n5'] not in tx, [] not in total\n"
       ]
      },
      {
       "output_type": "stream",
       "stream": "stderr",
       "text": [
        "\u001b[32m64.85    INFO   test.aietes.Node[n5].App:CommsTrustRoundRobin:Synchronising counters: ['n0', 'n1', 'n2', 'n3', 'n4'] not in rx and ['n0', 'n1', 'n2', 'n3', 'n4'] not in tx, [] not in total (441)\u001b[0m\n"
       ]
      },
      {
       "output_type": "stream",
       "stream": "stderr",
       "text": [
        "INFO:test.aietes.Node[n5].App:CommsTrustRoundRobin:Synchronising counters: ['n0', 'n1', 'n2', 'n3', 'n4'] not in rx and ['n0', 'n1', 'n2', 'n3', 'n4'] not in tx, [] not in total\n"
       ]
      },
      {
       "output_type": "stream",
       "stream": "stderr",
       "text": [
        "\u001b[32m67.00    INFO   test.aietes.Node[n4].App:CommsTrustRoundRobin:Synchronising counters: ['n0', 'n1', 'n2', 'n3', 'n5'] not in rx and ['n0', 'n1', 'n2', 'n3', 'n5'] not in tx, [] not in total (441)\u001b[0m\n"
       ]
      },
      {
       "output_type": "stream",
       "stream": "stderr",
       "text": [
        "INFO:test.aietes.Node[n4].App:CommsTrustRoundRobin:Synchronising counters: ['n0', 'n1', 'n2', 'n3', 'n5'] not in rx and ['n0', 'n1', 'n2', 'n3', 'n5'] not in tx, [] not in total\n"
       ]
      },
      {
       "output_type": "stream",
       "stream": "stderr",
       "text": [
        "\u001b[32m1250.00  INFO   test:Finished Simulation at 1250.0(20 minutes 50.0 seconds) after 4.87018084526 seconds (216)\u001b[0m\n"
       ]
      },
      {
       "output_type": "stream",
       "stream": "stderr",
       "text": [
        "INFO:test:Finished Simulation at 1250.0(20 minutes 50.0 seconds) after 4.87018084526 seconds\n"
       ]
      },
      {
       "output_type": "stream",
       "stream": "stdout",
       "text": [
        "Warning: IOStream has no fileno.\n"
       ]
      }
     ],
     "prompt_number": 1
    },
    {
     "cell_type": "code",
     "collapsed": false,
     "input": [
      "dp.comms['logs']['n0']['trust']['n2'][1]"
     ],
     "language": "python",
     "metadata": {},
     "outputs": [
      {
       "metadata": {},
       "output_type": "pyout",
       "prompt_number": 2,
       "text": [
        "ADelay             17.387463\n",
        "ARXP              101.926090\n",
        "ATXP               91.085576\n",
        "RXThroughput    19200.000000\n",
        "PLR                 0.000000\n",
        "TXThroughput    28800.000000\n",
        "dtype: float64"
       ]
      }
     ],
     "prompt_number": 2
    },
    {
     "cell_type": "code",
     "collapsed": false,
     "input": [
      "import bounos.Analyses.Trust as Trust\n",
      "reload(Trust)\n",
      "tf = Trust.generate_trust_logs_from_comms_logs(dp.comms['logs'])\n",
      "tp = Trust.generate_node_trust_perspective(tf, par=False)\n",
      "tf.to_pickle(\"pre_tf\")\n",
      "tp.to_pickle(\"pre_tp\")\n",
      "\n"
     ],
     "language": "python",
     "metadata": {},
     "outputs": [],
     "prompt_number": 3
    },
    {
     "cell_type": "code",
     "collapsed": false,
     "input": [
      "tp"
     ],
     "language": "python",
     "metadata": {},
     "outputs": [
      {
       "output_type": "stream",
       "stream": "stderr",
       "text": [
        "/home/bolster/src/pandas/pandas/core/format.py:2011: RuntimeWarning: invalid value encountered in greater\n",
        "  has_large_values = (abs_vals > 1e8).any()\n",
        "/home/bolster/src/pandas/pandas/core/format.py:2012: RuntimeWarning: invalid value encountered in less\n",
        "  has_small_values = ((abs_vals < 10 ** (-self.digits+1)) &\n",
        "/home/bolster/src/pandas/pandas/core/format.py:2013: RuntimeWarning: invalid value encountered in greater\n",
        "  (abs_vals > 0)).any()\n"
       ]
      },
      {
       "html": [
        "<div style=\"max-height:1000px;max-width:1500px;overflow:auto;\">\n",
        "<table border=\"1\" class=\"dataframe\">\n",
        "  <thead>\n",
        "    <tr style=\"text-align: right;\">\n",
        "      <th></th>\n",
        "      <th></th>\n",
        "      <th></th>\n",
        "      <th>target</th>\n",
        "      <th>n0</th>\n",
        "      <th>n1</th>\n",
        "      <th>n2</th>\n",
        "      <th>n3</th>\n",
        "      <th>n4</th>\n",
        "      <th>n5</th>\n",
        "    </tr>\n",
        "    <tr>\n",
        "      <th>var</th>\n",
        "      <th>run</th>\n",
        "      <th>observer</th>\n",
        "      <th>t</th>\n",
        "      <th></th>\n",
        "      <th></th>\n",
        "      <th></th>\n",
        "      <th></th>\n",
        "      <th></th>\n",
        "      <th></th>\n",
        "    </tr>\n",
        "  </thead>\n",
        "  <tbody>\n",
        "    <tr>\n",
        "      <th rowspan=\"12\" valign=\"top\">0</th>\n",
        "      <th rowspan=\"12\" valign=\"top\">0</th>\n",
        "      <th rowspan=\"2\" valign=\"top\">n0</th>\n",
        "      <th>1</th>\n",
        "      <td>NaN</td>\n",
        "      <td>0.462482</td>\n",
        "      <td>0.388124</td>\n",
        "      <td>0.730949</td>\n",
        "      <td>0.781648</td>\n",
        "      <td>0.666806</td>\n",
        "    </tr>\n",
        "    <tr>\n",
        "      <th>2</th>\n",
        "      <td>NaN</td>\n",
        "      <td>0.487402</td>\n",
        "      <td>0.565364</td>\n",
        "      <td>0.506358</td>\n",
        "      <td>0.800000</td>\n",
        "      <td>0.500000</td>\n",
        "    </tr>\n",
        "    <tr>\n",
        "      <th rowspan=\"2\" valign=\"top\">n1</th>\n",
        "      <th>1</th>\n",
        "      <td>0.500000</td>\n",
        "      <td>NaN</td>\n",
        "      <td>0.355291</td>\n",
        "      <td>0.314995</td>\n",
        "      <td>0.625055</td>\n",
        "      <td>0.871134</td>\n",
        "    </tr>\n",
        "    <tr>\n",
        "      <th>2</th>\n",
        "      <td>0.736312</td>\n",
        "      <td>NaN</td>\n",
        "      <td>0.500000</td>\n",
        "      <td>0.412454</td>\n",
        "      <td>0.703432</td>\n",
        "      <td>0.500000</td>\n",
        "    </tr>\n",
        "    <tr>\n",
        "      <th rowspan=\"2\" valign=\"top\">n2</th>\n",
        "      <th>1</th>\n",
        "      <td>0.840802</td>\n",
        "      <td>0.458993</td>\n",
        "      <td>NaN</td>\n",
        "      <td>0.653081</td>\n",
        "      <td>0.800000</td>\n",
        "      <td>0.500000</td>\n",
        "    </tr>\n",
        "    <tr>\n",
        "      <th>2</th>\n",
        "      <td>0.529904</td>\n",
        "      <td>0.500000</td>\n",
        "      <td>NaN</td>\n",
        "      <td>0.506221</td>\n",
        "      <td>0.760276</td>\n",
        "      <td>0.500000</td>\n",
        "    </tr>\n",
        "    <tr>\n",
        "      <th rowspan=\"2\" valign=\"top\">n3</th>\n",
        "      <th>1</th>\n",
        "      <td>0.788763</td>\n",
        "      <td>0.379389</td>\n",
        "      <td>0.397112</td>\n",
        "      <td>NaN</td>\n",
        "      <td>0.800000</td>\n",
        "      <td>0.613640</td>\n",
        "    </tr>\n",
        "    <tr>\n",
        "      <th>2</th>\n",
        "      <td>0.800000</td>\n",
        "      <td>0.500000</td>\n",
        "      <td>0.592745</td>\n",
        "      <td>NaN</td>\n",
        "      <td>0.683592</td>\n",
        "      <td>0.500000</td>\n",
        "    </tr>\n",
        "    <tr>\n",
        "      <th rowspan=\"2\" valign=\"top\">n4</th>\n",
        "      <th>1</th>\n",
        "      <td>0.871134</td>\n",
        "      <td>0.211657</td>\n",
        "      <td>0.597290</td>\n",
        "      <td>0.609583</td>\n",
        "      <td>NaN</td>\n",
        "      <td>0.500000</td>\n",
        "    </tr>\n",
        "    <tr>\n",
        "      <th>2</th>\n",
        "      <td>0.855030</td>\n",
        "      <td>0.470648</td>\n",
        "      <td>0.714423</td>\n",
        "      <td>0.675128</td>\n",
        "      <td>NaN</td>\n",
        "      <td>0.500000</td>\n",
        "    </tr>\n",
        "    <tr>\n",
        "      <th rowspan=\"2\" valign=\"top\">n5</th>\n",
        "      <th>1</th>\n",
        "      <td>0.664888</td>\n",
        "      <td>0.200000</td>\n",
        "      <td>0.549006</td>\n",
        "      <td>0.498622</td>\n",
        "      <td>0.800000</td>\n",
        "      <td>NaN</td>\n",
        "    </tr>\n",
        "    <tr>\n",
        "      <th>2</th>\n",
        "      <td>0.763430</td>\n",
        "      <td>0.350667</td>\n",
        "      <td>0.574962</td>\n",
        "      <td>0.388124</td>\n",
        "      <td>0.800000</td>\n",
        "      <td>NaN</td>\n",
        "    </tr>\n",
        "  </tbody>\n",
        "</table>\n",
        "</div>"
       ],
       "metadata": {},
       "output_type": "pyout",
       "prompt_number": 4,
       "text": [
        "target                    n0        n1        n2        n3        n4        n5\n",
        "var run observer t                                                            \n",
        "0   0   n0       1       NaN  0.462482  0.388124  0.730949  0.781648  0.666806\n",
        "                 2       NaN  0.487402  0.565364  0.506358  0.800000  0.500000\n",
        "        n1       1  0.500000       NaN  0.355291  0.314995  0.625055  0.871134\n",
        "                 2  0.736312       NaN  0.500000  0.412454  0.703432  0.500000\n",
        "        n2       1  0.840802  0.458993       NaN  0.653081  0.800000  0.500000\n",
        "                 2  0.529904  0.500000       NaN  0.506221  0.760276  0.500000\n",
        "        n3       1  0.788763  0.379389  0.397112       NaN  0.800000  0.613640\n",
        "                 2  0.800000  0.500000  0.592745       NaN  0.683592  0.500000\n",
        "        n4       1  0.871134  0.211657  0.597290  0.609583       NaN  0.500000\n",
        "                 2  0.855030  0.470648  0.714423  0.675128       NaN  0.500000\n",
        "        n5       1  0.664888  0.200000  0.549006  0.498622  0.800000       NaN\n",
        "                 2  0.763430  0.350667  0.574962  0.388124  0.800000       NaN"
       ]
      }
     ],
     "prompt_number": 4
    },
    {
     "cell_type": "code",
     "collapsed": false,
     "input": [
      "tf.dropna('all')"
     ],
     "language": "python",
     "metadata": {},
     "outputs": [
      {
       "ename": "ValueError",
       "evalue": "No axis named all for object type <class 'pandas.core.frame.DataFrame'>",
       "output_type": "pyerr",
       "traceback": [
        "\u001b[0;31m---------------------------------------------------------------------------\u001b[0m\n\u001b[0;31mValueError\u001b[0m                                Traceback (most recent call last)",
        "\u001b[0;32m<ipython-input-5-2df0c3e0a332>\u001b[0m in \u001b[0;36m<module>\u001b[0;34m()\u001b[0m\n\u001b[0;32m----> 1\u001b[0;31m \u001b[0mtf\u001b[0m\u001b[0;34m.\u001b[0m\u001b[0mdropna\u001b[0m\u001b[0;34m(\u001b[0m\u001b[0;34m'all'\u001b[0m\u001b[0;34m)\u001b[0m\u001b[0;34m\u001b[0m\u001b[0m\n\u001b[0m",
        "\u001b[0;32m/home/bolster/src/pandas/pandas/core/frame.pyc\u001b[0m in \u001b[0;36mdropna\u001b[0;34m(self, axis, how, thresh, subset, inplace)\u001b[0m\n\u001b[1;32m   2773\u001b[0m                                        subset=subset, axis=ax)\n\u001b[1;32m   2774\u001b[0m         \u001b[0;32melse\u001b[0m\u001b[0;34m:\u001b[0m\u001b[0;34m\u001b[0m\u001b[0m\n\u001b[0;32m-> 2775\u001b[0;31m             \u001b[0maxis\u001b[0m \u001b[0;34m=\u001b[0m \u001b[0mself\u001b[0m\u001b[0;34m.\u001b[0m\u001b[0m_get_axis_number\u001b[0m\u001b[0;34m(\u001b[0m\u001b[0maxis\u001b[0m\u001b[0;34m)\u001b[0m\u001b[0;34m\u001b[0m\u001b[0m\n\u001b[0m\u001b[1;32m   2776\u001b[0m             \u001b[0magg_axis\u001b[0m \u001b[0;34m=\u001b[0m \u001b[0;36m1\u001b[0m \u001b[0;34m-\u001b[0m \u001b[0maxis\u001b[0m\u001b[0;34m\u001b[0m\u001b[0m\n\u001b[1;32m   2777\u001b[0m \u001b[0;34m\u001b[0m\u001b[0m\n",
        "\u001b[0;32m/home/bolster/src/pandas/pandas/core/generic.pyc\u001b[0m in \u001b[0;36m_get_axis_number\u001b[0;34m(self, axis)\u001b[0m\n\u001b[1;32m    301\u001b[0m                 \u001b[0;32mpass\u001b[0m\u001b[0;34m\u001b[0m\u001b[0m\n\u001b[1;32m    302\u001b[0m         raise ValueError('No axis named {0} for object type {1}'\n\u001b[0;32m--> 303\u001b[0;31m                          .format(axis, type(self)))\n\u001b[0m\u001b[1;32m    304\u001b[0m \u001b[0;34m\u001b[0m\u001b[0m\n\u001b[1;32m    305\u001b[0m     \u001b[0;32mdef\u001b[0m \u001b[0m_get_axis_name\u001b[0m\u001b[0;34m(\u001b[0m\u001b[0mself\u001b[0m\u001b[0;34m,\u001b[0m \u001b[0maxis\u001b[0m\u001b[0;34m)\u001b[0m\u001b[0;34m:\u001b[0m\u001b[0;34m\u001b[0m\u001b[0m\n",
        "\u001b[0;31mValueError\u001b[0m: No axis named all for object type <class 'pandas.core.frame.DataFrame'>"
       ]
      }
     ],
     "prompt_number": 5
    },
    {
     "cell_type": "code",
     "collapsed": false,
     "input": [
      "'observer' in df.index.names"
     ],
     "language": "python",
     "metadata": {},
     "outputs": []
    },
    {
     "cell_type": "code",
     "collapsed": false,
     "input": [
      "import bounos.Analyses.Trust as Trust\n",
      "reload(Trust)\n",
      "\n",
      "tp = Trust.generate_node_trust_perspective(df)"
     ],
     "language": "python",
     "metadata": {},
     "outputs": []
    },
    {
     "cell_type": "code",
     "collapsed": false,
     "input": [
      "from collections import Counter\n",
      "c=Counter(map(lambda s: s.split(\"\\\"\")[-2],invalid_list))"
     ],
     "language": "python",
     "metadata": {},
     "outputs": []
    },
    {
     "cell_type": "code",
     "collapsed": false,
     "input": [
      "c.most_common()"
     ],
     "language": "python",
     "metadata": {},
     "outputs": []
    },
    {
     "cell_type": "code",
     "collapsed": false,
     "input": [
      "dp.p.shape"
     ],
     "language": "python",
     "metadata": {},
     "outputs": [
      {
       "metadata": {},
       "output_type": "pyout",
       "prompt_number": 7,
       "text": [
        "(6, 3, 1250)"
       ]
      }
     ],
     "prompt_number": 7
    },
    {
     "cell_type": "code",
     "collapsed": false,
     "input": [
      "dp.p[:,:,0]"
     ],
     "language": "python",
     "metadata": {},
     "outputs": [
      {
       "metadata": {},
       "output_type": "pyout",
       "prompt_number": 8,
       "text": [
        "array([[ 200.,  300.,  300.],\n",
        "       [ 300.,  300.,  300.],\n",
        "       [ 250.,  350.,  300.],\n",
        "       [ 250.,  250.,  300.],\n",
        "       [ 400.,  270.,  300.],\n",
        "       [ 400.,  330.,  300.]])"
       ]
      }
     ],
     "prompt_number": 8
    },
    {
     "cell_type": "code",
     "collapsed": false,
     "input": [
      "dp.plot_axes_views()"
     ],
     "language": "python",
     "metadata": {},
     "outputs": [
      {
       "metadata": {},
       "output_type": "pyout",
       "png": "[encoded data removed]",
       "prompt_number": 9,
       "text": [
        "<matplotlib.figure.Figure at 0x7f89a0323ed0>"
       ]
      },
      {
       "metadata": {},
       "output_type": "display_data",
       "png": "[encoded data removed]",
       "text": [
        "<matplotlib.figure.Figure at 0x7f89a0323ed0>"
       ]
      }
     ],
     "prompt_number": 9
    },
    {
     "cell_type": "code",
     "collapsed": false,
     "input": [],
     "language": "python",
     "metadata": {},
     "outputs": []
    }
   ],
   "metadata": {}
  }
 ]
}