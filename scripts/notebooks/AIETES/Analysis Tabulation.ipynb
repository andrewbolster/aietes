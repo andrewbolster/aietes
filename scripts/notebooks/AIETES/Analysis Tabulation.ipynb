{
 "cells": [
  {
   "cell_type": "code",
   "execution_count": 4,
   "metadata": {
    "collapsed": false
   },
   "outputs": [],
   "source": [
    "path = \"/home/bolster/src/aietes/results/Malicious Behaviour Trust Comparison-2016-03-20-15-05-01\"\n",
    "import os\n",
    "from aietes.Tools import uncpickle\n",
    "analysis_dict = {}\n",
    "for analysis_pkl in filter(lambda s:s.endswith('anl'), os.listdir(path)):\n",
    "    analysis_dict[analysis_pkl] = uncpickle(os.path.join(path, analysis_pkl))\n"
   ]
  },
  {
   "cell_type": "code",
   "execution_count": 7,
   "metadata": {
    "collapsed": false
   },
   "outputs": [],
   "source": [
    "stats = analysis_dict"
   ]
  },
  {
   "cell_type": "code",
   "execution_count": 16,
   "metadata": {
    "collapsed": true
   },
   "outputs": [],
   "source": [
    "\n",
    "def avg_of_dict(dict_list, keys):\n",
    "    \"\"\"\n",
    "    Find the average of a key value across a list of dicts\n",
    "\n",
    "    :param dict_list:\n",
    "    :param keys:\n",
    "    Args:\n",
    "        dict_list(list of dict):list of value maps to be sampled\n",
    "        keys(list of str): key-path of value in dict\n",
    "    Returns:\n",
    "        average value (float)\n",
    "    \"\"\"\n",
    "    val_sum = 0\n",
    "    count = 0\n",
    "    for d in dict_list:\n",
    "        count += 1\n",
    "        for key in keys[:-1]:\n",
    "            try:\n",
    "                d = d.get(key)\n",
    "            except AttributeError:\n",
    "                print d,key\n",
    "                raise\n",
    "        val_sum += d[keys[-1]]\n",
    "    return float(val_sum) / count"
   ]
  },
  {
   "cell_type": "code",
   "execution_count": 23,
   "metadata": {
    "collapsed": false
   },
   "outputs": [
    {
     "name": "stdout",
     "output_type": "stream",
     "text": [
      "Behaviour(Shadow).anl   \t217.857m (0.0202)\t12.90, 0.66 \t2 (117%)\n",
      "Behaviour(Waypoint).anl \t233.133m (0.0216)\t9.54, 0.59 \t2 (142%)\n",
      "Behaviour(SlowCoach).anl\t214.256m (0.0198)\t17.92, 0.64 \t4 (217%)\n"
     ]
    }
   ],
   "source": [
    "max_len = max(map(len, analysis_dict.keys()))\n",
    "for t, stats in analysis_dict.items():\n",
    "    print(\"{0}\\t{1:.3f}m ({2:.4f})\\t{3:.2f}, {4:.2f} \\t{5:.0f} ({6:.0f}%)\".format(\n",
    "                t+(' '*(max_len-len(t))),\n",
    "                avg_of_dict(stats, ['motion', 'fleet_distance']),\n",
    "                avg_of_dict(stats, ['motion', 'fleet_efficiency']),\n",
    "                avg_of_dict(stats, ['motion', 'std_of_INDA']),\n",
    "                avg_of_dict(stats, ['motion', 'std_of_INDD']),\n",
    "                avg_of_dict(stats, ['achievements', 'max_ach']),\n",
    "                avg_of_dict(stats, ['achievements', 'avg_completion']) * 100.0)\n",
    "            )"
   ]
  },
  {
   "cell_type": "code",
   "execution_count": 13,
   "metadata": {
    "collapsed": false
   },
   "outputs": [
    {
     "data": {
      "text/plain": [
       "{'fleet_distance': 208.20652498608118,\n",
       " 'fleet_efficiency': 0.019278381943155665,\n",
       " 'std_of_INDA': 12.600920562405397,\n",
       " 'std_of_INDD': 0.64711503957717709}"
      ]
     },
     "execution_count": 13,
     "metadata": {},
     "output_type": "execute_result"
    }
   ],
   "source": [
    "stats['Behaviour(Shadow).anl'][0]['motion']"
   ]
  },
  {
   "cell_type": "code",
   "execution_count": null,
   "metadata": {
    "collapsed": true
   },
   "outputs": [],
   "source": []
  }
 ],
 "metadata": {
  "kernelspec": {
   "display_name": "py2",
   "language": "python",
   "name": "py2"
  },
  "language_info": {
   "codemirror_mode": {
    "name": "ipython",
    "version": 2
   },
   "file_extension": ".py",
   "mimetype": "text/x-python",
   "name": "python",
   "nbconvert_exporter": "python",
   "pygments_lexer": "ipython2",
   "version": "2.7.11"
  }
 },
 "nbformat": 4,
 "nbformat_minor": 0
}
