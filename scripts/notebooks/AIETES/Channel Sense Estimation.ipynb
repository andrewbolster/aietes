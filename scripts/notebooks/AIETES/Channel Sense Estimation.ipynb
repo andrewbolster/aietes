{
 "cells": [
  {
   "cell_type": "code",
   "execution_count": 21,
   "metadata": {
    "collapsed": false
   },
   "outputs": [],
   "source": [
    "import numpy as np\n",
    "\n",
    "n_channels = 10\n",
    "n_listeners = 4\n",
    "\n",
    "channels = range(n_channels)\n",
    "\n",
    "def ts(chan=None):\n",
    "    if chan is None:\n",
    "        chan=np.random.choice(channels)\n",
    "    return sum([np.random.choice(channels)==chan for _ in xrange(n_listeners)])"
   ]
  },
  {
   "cell_type": "code",
   "execution_count": 24,
   "metadata": {
    "collapsed": false
   },
   "outputs": [],
   "source": [
    "def test(channel=None, scale=10000):\n",
    "    valid_listener=0\n",
    "    for t in range(scale):\n",
    "        if ts(channel):\n",
    "            valid_listener+=1\n",
    "    return valid_listener/float(scale)"
   ]
  },
  {
   "cell_type": "code",
   "execution_count": 25,
   "metadata": {
    "collapsed": false
   },
   "outputs": [
    {
     "data": {
      "text/plain": [
       "0.3503"
      ]
     },
     "execution_count": 25,
     "metadata": {},
     "output_type": "execute_result"
    }
   ],
   "source": [
    "test()"
   ]
  },
  {
   "cell_type": "code",
   "execution_count": null,
   "metadata": {
    "collapsed": false
   },
   "outputs": [],
   "source": []
  }
 ],
 "metadata": {
  "kernelspec": {
   "display_name": "Python 2",
   "language": "python",
   "name": "python2"
  },
  "language_info": {
   "codemirror_mode": {
    "name": "ipython",
    "version": 2
   },
   "file_extension": ".py",
   "mimetype": "text/x-python",
   "name": "python",
   "nbconvert_exporter": "python",
   "pygments_lexer": "ipython2",
   "version": "2.7.9"
  }
 },
 "nbformat": 4,
 "nbformat_minor": 0
}
