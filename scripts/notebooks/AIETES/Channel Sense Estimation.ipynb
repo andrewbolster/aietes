{
 "metadata": {
  "name": "",
  "signature": "sha256:3c7e29b6dd885d7c6103e87b8c22a4c988fc3439687b744b5b0fa9ecb1c5247a"
 },
 "nbformat": 3,
 "nbformat_minor": 0,
 "worksheets": [
  {
   "cells": [
    {
     "cell_type": "code",
     "collapsed": false,
     "input": [
      "import numpy as np\n",
      "\n",
      "n_channels = 10\n",
      "n_listeners = 4\n",
      "\n",
      "channels = range(n_channels)\n",
      "\n",
      "def ts(chan=None):\n",
      "    if chan is None:\n",
      "        chan=np.random.choice(channels)\n",
      "    return sum([np.random.choice(channels)==chan for _ in xrange(n_listeners)])"
     ],
     "language": "python",
     "metadata": {},
     "outputs": [],
     "prompt_number": 21
    },
    {
     "cell_type": "code",
     "collapsed": false,
     "input": [
      "def test(channel=None, scale=10000):\n",
      "    valid_listener=0\n",
      "    for t in range(scale):\n",
      "        if ts(channel):\n",
      "            valid_listener+=1\n",
      "    return valid_listener/float(scale)"
     ],
     "language": "python",
     "metadata": {},
     "outputs": [],
     "prompt_number": 24
    },
    {
     "cell_type": "code",
     "collapsed": false,
     "input": [
      "test()"
     ],
     "language": "python",
     "metadata": {},
     "outputs": [
      {
       "metadata": {},
       "output_type": "pyout",
       "prompt_number": 25,
       "text": [
        "0.3503"
       ]
      }
     ],
     "prompt_number": 25
    },
    {
     "cell_type": "code",
     "collapsed": false,
     "input": [],
     "language": "python",
     "metadata": {},
     "outputs": []
    }
   ],
   "metadata": {}
  }
 ]
}