{
 "metadata": {
  "name": "",
  "signature": "sha256:fc3eeb40410aa569742d800ed14bf4c85f2ea08f9bc8d4c60fd6b7f51862a45b"
 },
 "nbformat": 3,
 "nbformat_minor": 0,
 "worksheets": []
}