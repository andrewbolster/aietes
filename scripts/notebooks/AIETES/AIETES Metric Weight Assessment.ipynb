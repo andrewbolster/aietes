{
 "metadata": {
  "name": "",
  "signature": "sha256:d23b6bc337013d9c72129810d28e311ae38355761990ec39561f98780beb26b5"
 },
 "nbformat": 3,
 "nbformat_minor": 0,
 "worksheets": [
  {
   "cells": [
    {
     "cell_type": "code",
     "collapsed": false,
     "input": [
      "from __future__ import division\n",
      "import os\n",
      "import pandas as pd\n",
      "import numpy as np\n",
      "import seaborn as sns\n",
      "import quantities as q\n",
      "from collections import OrderedDict\n",
      "from joblib import Parallel, delayed\n",
      "from scipy.spatial.distance import pdist, squareform\n",
      "import itertools\n",
      "from functools import partial\n",
      "\n",
      "import aietes\n",
      "import aietes.Tools as Tools\n",
      "from aietes.Tools import map_levels\n",
      "import bounos.ChartBuilders as cb\n",
      "import bounos.Analyses.Trust as Trust\n",
      "import bounos.multi_loader as multi_loader\n",
      "from bounos.ChartBuilders import weight_comparisons\n",
      "\n",
      "golden_mean  = (np.sqrt(5) - 1.0) / 2.0  # because it looks good\n",
      "w=5\n",
      "\n",
      "cb.latexify(columns=2, factor=0.55)\n",
      "\n",
      "pylab.rcParams['figure.figsize'] = 16, 12  \n",
      "0\n",
      "trust_metrics = np.asarray(\"ADelay,ARXP,ATXP,RXThroughput,PLR,TXThroughput\".split(','))\n",
      "#exclude = \"ATXP,ALength\".split(',')\n",
      "\n",
      "exclude = []\n",
      "\n",
      "trust_combinations=[]\n",
      "map(trust_combinations.extend,\n",
      "    np.asarray([itertools.combinations(trust_metrics,i) \n",
      "                for i in range(5,len(trust_metrics))])\n",
      "    )\n",
      "\n",
      "trust_combinations=np.asarray(filter(lambda x: all(map(lambda m: m not in exclude,x)),trust_combinations))\n",
      "#print trust_combinations\n",
      "trust_metric_selections=np.asarray([map(lambda m: float(m in trust_combination),trust_metrics) for trust_combination in trust_combinations])\n",
      "trust_metric_weights=map(lambda s: s/sum(s),trust_metric_selections)\n",
      "#map(lambda w:trust_metrics[np.where(w>0)].tolist(),trust_metric_weights)\n",
      "\n",
      "\n",
      "\n",
      "\n",
      "scenario_map = dict(zip(\n",
      "    [u'bella_all_mobile', u'bella_allbut1_mobile', u'bella_single_mobile', u'bella_static'],\n",
      "    ['All Mobile','$n_1$ Static','$n_1$ Mobile','All Static']\n",
      "))\n",
      "scenario_order =list(reversed([u'bella_all_mobile', u'bella_allbut1_mobile', u'bella_single_mobile', u'bella_static']))\n",
      "\n",
      "in_results = partial(os.path.join,Tools._results_dir)\n",
      "malicious = \"MaliciousBadMouthingPowerControlTrustMedianTests-0.025-3-2015-02-19-23-27-01.h5\"\n",
      "good  = \"TrustMedianTests-0.025-3-2015-02-19-23-29-39.h5\"\n",
      "\n",
      "\n",
      "gs = pd.get_store(in_results(good)).get('stats')"
     ],
     "language": "python",
     "metadata": {},
     "outputs": [
      {
       "output_type": "stream",
       "stream": "stdout",
       "text": [
        "Warning: IOStream has no fileno.\n"
       ]
      },
      {
       "ename": "NameError",
       "evalue": "name 'plot_weight_comparisons' is not defined",
       "output_type": "pyerr",
       "traceback": [
        "\u001b[0;31m---------------------------------------------------------------------------\u001b[0m\n\u001b[0;31mNameError\u001b[0m                                 Traceback (most recent call last)",
        "\u001b[0;32m<ipython-input-1-319a7751e8d1>\u001b[0m in \u001b[0;36m<module>\u001b[0;34m()\u001b[0m\n\u001b[1;32m     59\u001b[0m \u001b[0;34m\u001b[0m\u001b[0m\n\u001b[1;32m     60\u001b[0m \u001b[0;32mfor\u001b[0m \u001b[0ms\u001b[0m \u001b[0;32min\u001b[0m \u001b[0mlist\u001b[0m\u001b[0;34m(\u001b[0m\u001b[0mgs\u001b[0m\u001b[0;34m.\u001b[0m\u001b[0mindex\u001b[0m\u001b[0;34m.\u001b[0m\u001b[0mlevels\u001b[0m\u001b[0;34m[\u001b[0m\u001b[0;36m0\u001b[0m\u001b[0;34m]\u001b[0m\u001b[0;34m)\u001b[0m\u001b[0;34m:\u001b[0m\u001b[0;34m\u001b[0m\u001b[0m\n\u001b[0;32m---> 61\u001b[0;31m     \u001b[0mplot_weight_comparisons\u001b[0m\u001b[0;34m(\u001b[0m\u001b[0min_results\u001b[0m\u001b[0;34m(\u001b[0m\u001b[0mgood\u001b[0m\u001b[0;34m)\u001b[0m\u001b[0;34m,\u001b[0m \u001b[0min_results\u001b[0m\u001b[0;34m(\u001b[0m\u001b[0mmalicious\u001b[0m\u001b[0;34m)\u001b[0m\u001b[0;34m,\u001b[0m \u001b[0ms\u001b[0m\u001b[0;34m=\u001b[0m\u001b[0ms\u001b[0m\u001b[0;34m,\u001b[0m \u001b[0mshow_title\u001b[0m\u001b[0;34m=\u001b[0m\u001b[0mTrue\u001b[0m\u001b[0;34m,\u001b[0m \u001b[0mmalicious_behaviour\u001b[0m\u001b[0;34m=\u001b[0m\u001b[0;34m\"Selective Power Control\"\u001b[0m\u001b[0;34m)\u001b[0m\u001b[0;34m\u001b[0m\u001b[0m\n\u001b[0m",
        "\u001b[0;31mNameError\u001b[0m: name 'plot_weight_comparisons' is not defined"
       ]
      }
     ],
     "prompt_number": 1
    },
    {
     "cell_type": "code",
     "collapsed": false,
     "input": [
      "def trust_weight_matrix(gd_file, mal_file, emphasis=3):\n",
      "    gd_trust, mal_trust = per_scenario_gd_mal_trusts(gd_file, mal_file)\n",
      "    gd_tp, mal_tp = per_scenario_gd_mal_trust_perspective(gd_trust, mal_trust, s=s)\n",
      "\n",
      "    gd_mtfm = Trust.generate_mtfm(gd_tp, *mtfm_args).sum(axis=1)\n",
      "    mal_mtfm = Trust.generate_mtfm(mal_tp, *mtfm_args).sum(axis=1)\n",
      "    \n",
      "    for i, mi in enumerate(trust_metrics):\n",
      "        if mi not in excluded:\n",
      "            gd_tp, mal_tp = per_scenario_gd_mal_trust_perspective(gd_trust, mal_trust, s=s,\n",
      "                                                                  weight_vector=weight_for_metric(mi, emphasis))\n",
      "\n",
      "            gd_mtfm = Trust.generate_mtfm(gd_tp, *mtfm_args).sum(axis=1)\n",
      "            mal_mtfm = Trust.generate_mtfm(mal_tp, *mtfm_args).sum(axis=1)\n"
     ],
     "language": "python",
     "metadata": {},
     "outputs": []
    },
    {
     "cell_type": "code",
     "collapsed": false,
     "input": [
      "gd_trust, mal_trust = weight_comparisons.per_scenario_gd_mal_trusts(good, malicious)\n",
      "gd_tp, mal_tp = weight_comparisons.per_scenario_gd_mal_trust_perspective(gd_trust, mal_trust, s='bella_all_mobile')"
     ],
     "language": "python",
     "metadata": {},
     "outputs": [
      {
       "output_type": "stream",
       "stream": "stdout",
       "text": [
        "Trimming trust to bella_all_mobile\n"
       ]
      }
     ],
     "prompt_number": 2
    },
    {
     "cell_type": "code",
     "collapsed": false,
     "input": [
      "mtfm_args =  ('n0', 'n1', ['n2', 'n3'], ['n4', 'n5'])\n",
      "def generate_mtfm_dp(gd_tp, mal_tp, mtfm_args):\n",
      "    d = {\"good\": gd_tp, \"selfish\":mal_tp}\n",
      "    tp=pd.concat(d.values(), axis=0, keys=d.keys(), names=[\"bev\"]+gd_tp.index.names)\n",
      "    return tp.groupby(level=['bev']).apply(Trust.generate_mtfm, *mtfm_args).reset_index(level=[0,2,3], drop=True).sum(axis=1)\n",
      "def plot_mtfm_dp(mtfm_dp):\n",
      "    mtfm_dp.groupby(level='bev').plot(x='t', use_index=False)\n",
      "    gd_mean=mtfm_dp.xs('good',level='bev').mean()\n",
      "    gd_std=mtfm_dp.xs('good',level='bev').std()\n",
      "    mal_mean=mtfm_dp.xs('selfish',level='bev').mean()\n",
      "    mal_std=mtfm_dp.xs('selfish',level='bev').std()\n",
      "    plt.legend()\n",
      "    plt.axhline(gd_mean, color='b')\n",
      "    #plt.axhline(gd_mean+gd_std)\n",
      "    #plt.axhline(gd_mean-gd_std)\n",
      "    plt.axhline(mal_mean, color='g')\n",
      "mtfm_01 = generate_mtfm_dp(gd_tp, mal_tp, ('n0', 'n1', ['n2', 'n3'], ['n4', 'n5']))\n",
      "mtfm_02 = generate_mtfm_dp(gd_tp, mal_tp, ('n4', 'n2', ['n1', 'n5'], ['n0', 'n3']))"
     ],
     "language": "python",
     "metadata": {},
     "outputs": [],
     "prompt_number": 3
    },
    {
     "cell_type": "code",
     "collapsed": false,
     "input": [],
     "language": "python",
     "metadata": {},
     "outputs": [],
     "prompt_number": 9
    },
    {
     "cell_type": "code",
     "collapsed": false,
     "input": [
      "outliers = []\n",
      "emphasis = 3\n",
      "\n",
      "import itertools\n",
      "from functools import partial\n",
      "series_from_iter = partial(pd.Series, index=trust_metrics)\n",
      "combinations = itertools.product(xrange(1,4), repeat=len(trust_metrics))\n",
      "\n",
      "def generate_outlier_tp(mtfm, sigma=1.0, good='good', good_lvl='bev'):\n",
      "    _mean=mtfm.xs(good,level=good_lvl).mean()\n",
      "    _std=mtfm.xs(good,level=good_lvl).std()\n",
      "    llim=_mean-_std\n",
      "    ulim=_mean+_std\n",
      "    outliers = pd.concat((mtfm[mtfm>ulim]-ulim,(llim-mtfm[mtfm<llim])), keys=('upper','lower'), names=['range','bev','t'])\n",
      "    return outliers\n",
      "\n",
      "for i, w in enumerate(itertools.imap(weight_comparisons.norm_weight, map(series_from_iter,combinations))):\n",
      "    gd_tp, mal_tp = weight_comparisons.per_scenario_gd_mal_trust_perspective(gd_trust, mal_trust, s='bella_all_mobile',\n",
      "                                                          weight_vector=w)\n",
      "\n",
      "    mtfm_tp = generate_mtfm_dp(gd_tp, mal_tp, mtfm_args)\n",
      "    outlier = generate_outlier_tp(mtfm_tp).reset_index()\n",
      "    for k in w.keys():\n",
      "        outlier[k]=w[k]\n",
      "    outlier.set_index(['bev','t'],inplace=True)\n",
      "    outlier.rename(columns={0:'Delta'}, inplace=True)\n",
      "    outliers.append(outlier)\n",
      "    \n",
      "sums = pd.concat(outliers).reset_index()\n",
      "\n",
      "sum_by_weight = sums.groupby(['bev',u'ADelay', u'ARXP', u'ATXP', u'RXThroughput', u'PLR', u'TXThroughput']).sum().reset_index('bev')\n",
      "dp=pd.DataFrame.from_dict({'good':sum_by_weight[sum_by_weight.bev == 'good']['Delta'],\n",
      "                        'selfish':sum_by_weight[sum_by_weight.bev == 'selfish']['Delta']})\n",
      "dp['ratio']=dp.selfish/dp.good\n",
      "dp"
     ],
     "language": "python",
     "metadata": {},
     "outputs": [
      {
       "output_type": "stream",
       "stream": "stdout",
       "text": [
        "Using [ 0.167  0.167  0.167  0.167  0.167  0.167]\n",
        "Trimming trust to bella_all_mobile\n"
       ]
      },
      {
       "output_type": "stream",
       "stream": "stdout",
       "text": [
        "Using [ 0.143  0.143  0.143  0.143  0.143  0.286]\n",
        "Trimming trust to bella_all_mobile\n"
       ]
      },
      {
       "output_type": "stream",
       "stream": "stdout",
       "text": [
        "Using [ 0.125  0.125  0.125  0.125  0.125  0.375]\n",
        "Trimming trust to bella_all_mobile\n"
       ]
      },
      {
       "output_type": "stream",
       "stream": "stdout",
       "text": [
        "Using [ 0.143  0.143  0.143  0.143  0.286  0.143]\n",
        "Trimming trust to bella_all_mobile\n"
       ]
      },
      {
       "output_type": "stream",
       "stream": "stdout",
       "text": [
        "Using [ 0.125  0.125  0.125  0.125  0.25   0.25 ]\n",
        "Trimming trust to bella_all_mobile\n"
       ]
      },
      {
       "output_type": "stream",
       "stream": "stdout",
       "text": [
        "Using [ 0.111  0.111  0.111  0.111  0.222  0.333]\n",
        "Trimming trust to bella_all_mobile\n"
       ]
      },
      {
       "output_type": "stream",
       "stream": "stdout",
       "text": [
        "Using [ 0.125  0.125  0.125  0.125  0.375  0.125]\n",
        "Trimming trust to bella_all_mobile\n"
       ]
      },
      {
       "output_type": "stream",
       "stream": "stdout",
       "text": [
        "Using [ 0.111  0.111  0.111  0.111  0.333  0.222]\n",
        "Trimming trust to bella_all_mobile\n"
       ]
      },
      {
       "output_type": "stream",
       "stream": "stdout",
       "text": [
        "Using [ 0.1  0.1  0.1  0.1  0.3  0.3]\n",
        "Trimming trust to bella_all_mobile\n"
       ]
      },
      {
       "output_type": "stream",
       "stream": "stdout",
       "text": [
        "Using [ 0.143  0.143  0.143  0.286  0.143  0.143]\n",
        "Trimming trust to bella_all_mobile\n"
       ]
      },
      {
       "output_type": "stream",
       "stream": "stdout",
       "text": [
        "Using [ 0.125  0.125  0.125  0.25   0.125  0.25 ]\n",
        "Trimming trust to bella_all_mobile\n"
       ]
      },
      {
       "output_type": "stream",
       "stream": "stdout",
       "text": [
        "Using [ 0.111  0.111  0.111  0.222  0.111  0.333]\n",
        "Trimming trust to bella_all_mobile\n"
       ]
      },
      {
       "output_type": "stream",
       "stream": "stdout",
       "text": [
        "Using [ 0.125  0.125  0.125  0.25   0.25   0.125]\n",
        "Trimming trust to bella_all_mobile\n"
       ]
      },
      {
       "output_type": "stream",
       "stream": "stdout",
       "text": [
        "Using [ 0.111  0.111  0.111  0.222  0.222  0.222]\n",
        "Trimming trust to bella_all_mobile\n"
       ]
      },
      {
       "output_type": "stream",
       "stream": "stdout",
       "text": [
        "Using [ 0.1  0.1  0.1  0.2  0.2  0.3]\n",
        "Trimming trust to bella_all_mobile\n"
       ]
      },
      {
       "output_type": "stream",
       "stream": "stdout",
       "text": [
        "Using [ 0.111  0.111  0.111  0.222  0.333  0.111]\n",
        "Trimming trust to bella_all_mobile\n"
       ]
      },
      {
       "output_type": "stream",
       "stream": "stdout",
       "text": [
        "Using [ 0.1  0.1  0.1  0.2  0.3  0.2]\n",
        "Trimming trust to bella_all_mobile\n"
       ]
      },
      {
       "output_type": "stream",
       "stream": "stdout",
       "text": [
        "Using [ 0.091  0.091  0.091  0.182  0.273  0.273]\n",
        "Trimming trust to bella_all_mobile\n"
       ]
      },
      {
       "output_type": "stream",
       "stream": "stdout",
       "text": [
        "Using [ 0.125  0.125  0.125  0.375  0.125  0.125]\n",
        "Trimming trust to bella_all_mobile\n"
       ]
      },
      {
       "output_type": "stream",
       "stream": "stdout",
       "text": [
        "Using [ 0.111  0.111  0.111  0.333  0.111  0.222]\n",
        "Trimming trust to bella_all_mobile\n"
       ]
      },
      {
       "output_type": "stream",
       "stream": "stdout",
       "text": [
        "Using [ 0.1  0.1  0.1  0.3  0.1  0.3]\n",
        "Trimming trust to bella_all_mobile\n"
       ]
      },
      {
       "output_type": "stream",
       "stream": "stdout",
       "text": [
        "Using [ 0.111  0.111  0.111  0.333  0.222  0.111]\n",
        "Trimming trust to bella_all_mobile\n"
       ]
      },
      {
       "output_type": "stream",
       "stream": "stdout",
       "text": [
        "Using [ 0.1  0.1  0.1  0.3  0.2  0.2]\n",
        "Trimming trust to bella_all_mobile\n"
       ]
      },
      {
       "output_type": "stream",
       "stream": "stdout",
       "text": [
        "Using [ 0.091  0.091  0.091  0.273  0.182  0.273]\n",
        "Trimming trust to bella_all_mobile\n"
       ]
      },
      {
       "output_type": "stream",
       "stream": "stdout",
       "text": [
        "Using [ 0.1  0.1  0.1  0.3  0.3  0.1]\n",
        "Trimming trust to bella_all_mobile\n"
       ]
      },
      {
       "output_type": "stream",
       "stream": "stdout",
       "text": [
        "Using [ 0.091  0.091  0.091  0.273  0.273  0.182]\n",
        "Trimming trust to bella_all_mobile\n"
       ]
      },
      {
       "output_type": "stream",
       "stream": "stdout",
       "text": [
        "Using [ 0.083  0.083  0.083  0.25   0.25   0.25 ]\n",
        "Trimming trust to bella_all_mobile\n"
       ]
      },
      {
       "output_type": "stream",
       "stream": "stdout",
       "text": [
        "Using [ 0.143  0.143  0.286  0.143  0.143  0.143]\n",
        "Trimming trust to bella_all_mobile\n"
       ]
      },
      {
       "output_type": "stream",
       "stream": "stdout",
       "text": [
        "Using [ 0.125  0.125  0.25   0.125  0.125  0.25 ]\n",
        "Trimming trust to bella_all_mobile\n"
       ]
      },
      {
       "output_type": "stream",
       "stream": "stdout",
       "text": [
        "Using [ 0.111  0.111  0.222  0.111  0.111  0.333]\n",
        "Trimming trust to bella_all_mobile\n"
       ]
      },
      {
       "output_type": "stream",
       "stream": "stdout",
       "text": [
        "Using [ 0.125  0.125  0.25   0.125  0.25   0.125]\n",
        "Trimming trust to bella_all_mobile\n"
       ]
      },
      {
       "output_type": "stream",
       "stream": "stdout",
       "text": [
        "Using [ 0.111  0.111  0.222  0.111  0.222  0.222]\n",
        "Trimming trust to bella_all_mobile\n"
       ]
      },
      {
       "output_type": "stream",
       "stream": "stdout",
       "text": [
        "Using [ 0.1  0.1  0.2  0.1  0.2  0.3]\n",
        "Trimming trust to bella_all_mobile\n"
       ]
      },
      {
       "output_type": "stream",
       "stream": "stdout",
       "text": [
        "Using [ 0.111  0.111  0.222  0.111  0.333  0.111]\n",
        "Trimming trust to bella_all_mobile\n"
       ]
      },
      {
       "output_type": "stream",
       "stream": "stdout",
       "text": [
        "Using [ 0.1  0.1  0.2  0.1  0.3  0.2]\n",
        "Trimming trust to bella_all_mobile\n"
       ]
      },
      {
       "output_type": "stream",
       "stream": "stdout",
       "text": [
        "Using [ 0.091  0.091  0.182  0.091  0.273  0.273]\n",
        "Trimming trust to bella_all_mobile\n"
       ]
      },
      {
       "output_type": "stream",
       "stream": "stdout",
       "text": [
        "Using [ 0.125  0.125  0.25   0.25   0.125  0.125]\n",
        "Trimming trust to bella_all_mobile\n"
       ]
      },
      {
       "output_type": "stream",
       "stream": "stdout",
       "text": [
        "Using [ 0.111  0.111  0.222  0.222  0.111  0.222]\n",
        "Trimming trust to bella_all_mobile\n"
       ]
      },
      {
       "output_type": "stream",
       "stream": "stdout",
       "text": [
        "Using [ 0.1  0.1  0.2  0.2  0.1  0.3]\n",
        "Trimming trust to bella_all_mobile\n"
       ]
      },
      {
       "output_type": "stream",
       "stream": "stdout",
       "text": [
        "Using [ 0.111  0.111  0.222  0.222  0.222  0.111]\n",
        "Trimming trust to bella_all_mobile\n"
       ]
      },
      {
       "output_type": "stream",
       "stream": "stdout",
       "text": [
        "Using [ 0.1  0.1  0.2  0.2  0.2  0.2]\n",
        "Trimming trust to bella_all_mobile\n"
       ]
      },
      {
       "output_type": "stream",
       "stream": "stdout",
       "text": [
        "Using [ 0.091  0.091  0.182  0.182  0.182  0.273]\n",
        "Trimming trust to bella_all_mobile\n"
       ]
      },
      {
       "output_type": "stream",
       "stream": "stdout",
       "text": [
        "Using [ 0.1  0.1  0.2  0.2  0.3  0.1]\n",
        "Trimming trust to bella_all_mobile\n"
       ]
      },
      {
       "output_type": "stream",
       "stream": "stdout",
       "text": [
        "Using [ 0.091  0.091  0.182  0.182  0.273  0.182]\n",
        "Trimming trust to bella_all_mobile\n"
       ]
      },
      {
       "output_type": "stream",
       "stream": "stdout",
       "text": [
        "Using [ 0.083  0.083  0.167  0.167  0.25   0.25 ]\n",
        "Trimming trust to bella_all_mobile\n"
       ]
      },
      {
       "output_type": "stream",
       "stream": "stdout",
       "text": [
        "Using [ 0.111  0.111  0.222  0.333  0.111  0.111]\n",
        "Trimming trust to bella_all_mobile\n"
       ]
      },
      {
       "output_type": "stream",
       "stream": "stdout",
       "text": [
        "Using [ 0.1  0.1  0.2  0.3  0.1  0.2]\n",
        "Trimming trust to bella_all_mobile\n"
       ]
      },
      {
       "output_type": "stream",
       "stream": "stdout",
       "text": [
        "Using [ 0.091  0.091  0.182  0.273  0.091  0.273]\n",
        "Trimming trust to bella_all_mobile\n"
       ]
      },
      {
       "output_type": "stream",
       "stream": "stdout",
       "text": [
        "Using [ 0.1  0.1  0.2  0.3  0.2  0.1]\n",
        "Trimming trust to bella_all_mobile\n"
       ]
      },
      {
       "output_type": "stream",
       "stream": "stdout",
       "text": [
        "Using [ 0.091  0.091  0.182  0.273  0.182  0.182]\n",
        "Trimming trust to bella_all_mobile\n"
       ]
      },
      {
       "output_type": "stream",
       "stream": "stdout",
       "text": [
        "Using [ 0.083  0.083  0.167  0.25   0.167  0.25 ]\n",
        "Trimming trust to bella_all_mobile\n"
       ]
      },
      {
       "output_type": "stream",
       "stream": "stdout",
       "text": [
        "Using [ 0.091  0.091  0.182  0.273  0.273  0.091]\n",
        "Trimming trust to bella_all_mobile\n"
       ]
      },
      {
       "output_type": "stream",
       "stream": "stdout",
       "text": [
        "Using [ 0.083  0.083  0.167  0.25   0.25   0.167]\n",
        "Trimming trust to bella_all_mobile\n"
       ]
      },
      {
       "output_type": "stream",
       "stream": "stdout",
       "text": [
        "Using [ 0.077  0.077  0.154  0.231  0.231  0.231]\n",
        "Trimming trust to bella_all_mobile\n"
       ]
      },
      {
       "output_type": "stream",
       "stream": "stdout",
       "text": [
        "Using [ 0.125  0.125  0.375  0.125  0.125  0.125]\n",
        "Trimming trust to bella_all_mobile\n"
       ]
      },
      {
       "output_type": "stream",
       "stream": "stdout",
       "text": [
        "Using [ 0.111  0.111  0.333  0.111  0.111  0.222]\n",
        "Trimming trust to bella_all_mobile\n"
       ]
      },
      {
       "output_type": "stream",
       "stream": "stdout",
       "text": [
        "Using [ 0.1  0.1  0.3  0.1  0.1  0.3]\n",
        "Trimming trust to bella_all_mobile\n"
       ]
      },
      {
       "output_type": "stream",
       "stream": "stdout",
       "text": [
        "Using [ 0.111  0.111  0.333  0.111  0.222  0.111]\n",
        "Trimming trust to bella_all_mobile\n"
       ]
      },
      {
       "output_type": "stream",
       "stream": "stdout",
       "text": [
        "Using [ 0.1  0.1  0.3  0.1  0.2  0.2]\n",
        "Trimming trust to bella_all_mobile\n"
       ]
      },
      {
       "output_type": "stream",
       "stream": "stdout",
       "text": [
        "Using [ 0.091  0.091  0.273  0.091  0.182  0.273]\n",
        "Trimming trust to bella_all_mobile\n"
       ]
      },
      {
       "output_type": "stream",
       "stream": "stderr",
       "text": [
        "Exception in thread Thread-463:\n",
        "Traceback (most recent call last):\n",
        "  File \"/usr/lib/python2.7/threading.py\", line 810, in __bootstrap_inner\n",
        "    self.run()\n",
        "  File \"/usr/lib/python2.7/dist-packages/zmq/utils/garbage.py\", line 34, in run\n",
        "    s.bind(self.gc.url)\n",
        "  File \"socket.pyx\", line 444, in zmq.backend.cython.socket.Socket.bind (zmq/backend/cython/socket.c:4077)\n",
        "  File \"checkrc.pxd\", line 21, in zmq.backend.cython.checkrc._check_rc (zmq/backend/cython/socket.c:6033)\n",
        "ZMQError: Address already in use\n",
        "Exception in thread Thread-463:\n",
        "Traceback (most recent call last):\n",
        "  File \"/usr/lib/python2.7/threading.py\", line 810, in __bootstrap_inner\n",
        "    self.run()\n",
        "  File \"/usr/lib/python2.7/dist-packages/zmq/utils/garbage.py\", line 34, in run\n",
        "    s.bind(self.gc.url)\n",
        "  File \"socket.pyx\", line 444, in zmq.backend.cython.socket.Socket.bind (zmq/backend/cython/socket.c:4077)\n",
        "  File \"checkrc.pxd\", line 21, in zmq.backend.cython.checkrc._check_rc (zmq/backend/cython/socket.c:6033)\n",
        "ZMQError: Address already in use\n"
       ]
      },
      {
       "output_type": "stream",
       "stream": "stdout",
       "text": [
        "Using [ 0.1  0.1  0.3  0.1  0.3  0.1]\n",
        "Trimming trust to bella_all_mobile\n"
       ]
      },
      {
       "output_type": "stream",
       "stream": "stdout",
       "text": [
        "Using [ 0.091  0.091  0.273  0.091  0.273  0.182]\n",
        "Trimming trust to bella_all_mobile\n"
       ]
      },
      {
       "output_type": "stream",
       "stream": "stdout",
       "text": [
        "Using [ 0.083  0.083  0.25   0.083  0.25   0.25 ]\n",
        "Trimming trust to bella_all_mobile\n"
       ]
      },
      {
       "output_type": "stream",
       "stream": "stdout",
       "text": [
        "Using [ 0.111  0.111  0.333  0.222  0.111  0.111]\n",
        "Trimming trust to bella_all_mobile\n"
       ]
      },
      {
       "output_type": "stream",
       "stream": "stdout",
       "text": [
        "Using [ 0.1  0.1  0.3  0.2  0.1  0.2]\n",
        "Trimming trust to bella_all_mobile\n"
       ]
      },
      {
       "output_type": "stream",
       "stream": "stdout",
       "text": [
        "Using [ 0.091  0.091  0.273  0.182  0.091  0.273]\n",
        "Trimming trust to bella_all_mobile\n"
       ]
      },
      {
       "output_type": "stream",
       "stream": "stdout",
       "text": [
        "Using [ 0.1  0.1  0.3  0.2  0.2  0.1]\n",
        "Trimming trust to bella_all_mobile\n"
       ]
      },
      {
       "output_type": "stream",
       "stream": "stdout",
       "text": [
        "Using [ 0.091  0.091  0.273  0.182  0.182  0.182]\n",
        "Trimming trust to bella_all_mobile\n"
       ]
      },
      {
       "output_type": "stream",
       "stream": "stdout",
       "text": [
        "Using [ 0.083  0.083  0.25   0.167  0.167  0.25 ]\n",
        "Trimming trust to bella_all_mobile\n"
       ]
      },
      {
       "output_type": "stream",
       "stream": "stdout",
       "text": [
        "Using [ 0.091  0.091  0.273  0.182  0.273  0.091]\n",
        "Trimming trust to bella_all_mobile\n"
       ]
      },
      {
       "output_type": "stream",
       "stream": "stdout",
       "text": [
        "Using [ 0.083  0.083  0.25   0.167  0.25   0.167]\n",
        "Trimming trust to bella_all_mobile\n"
       ]
      },
      {
       "output_type": "stream",
       "stream": "stdout",
       "text": [
        "Using [ 0.077  0.077  0.231  0.154  0.231  0.231]\n",
        "Trimming trust to bella_all_mobile\n"
       ]
      },
      {
       "output_type": "stream",
       "stream": "stdout",
       "text": [
        "Using [ 0.1  0.1  0.3  0.3  0.1  0.1]\n",
        "Trimming trust to bella_all_mobile\n"
       ]
      },
      {
       "output_type": "stream",
       "stream": "stdout",
       "text": [
        "Using [ 0.091  0.091  0.273  0.273  0.091  0.182]\n",
        "Trimming trust to bella_all_mobile\n"
       ]
      },
      {
       "output_type": "stream",
       "stream": "stdout",
       "text": [
        "Using [ 0.083  0.083  0.25   0.25   0.083  0.25 ]\n",
        "Trimming trust to bella_all_mobile\n"
       ]
      },
      {
       "output_type": "stream",
       "stream": "stdout",
       "text": [
        "Using [ 0.091  0.091  0.273  0.273  0.182  0.091]\n",
        "Trimming trust to bella_all_mobile\n"
       ]
      },
      {
       "output_type": "stream",
       "stream": "stdout",
       "text": [
        "Using [ 0.083  0.083  0.25   0.25   0.167  0.167]\n",
        "Trimming trust to bella_all_mobile\n"
       ]
      },
      {
       "output_type": "stream",
       "stream": "stdout",
       "text": [
        "Using [ 0.077  0.077  0.231  0.231  0.154  0.231]\n",
        "Trimming trust to bella_all_mobile\n"
       ]
      },
      {
       "output_type": "stream",
       "stream": "stderr",
       "text": [
        "Exception in thread Thread-571:\n",
        "Traceback (most recent call last):\n",
        "  File \"/usr/lib/python2.7/threading.py\", line 810, in __bootstrap_inner\n",
        "    self.run()\n",
        "  File \"/usr/lib/python2.7/dist-packages/zmq/utils/garbage.py\", line 34, in run\n",
        "    s.bind(self.gc.url)\n",
        "  File \"socket.pyx\", line 444, in zmq.backend.cython.socket.Socket.bind (zmq/backend/cython/socket.c:4077)\n",
        "  File \"checkrc.pxd\", line 21, in zmq.backend.cython.checkrc._check_rc (zmq/backend/cython/socket.c:6033)\n",
        "ZMQError: Address already in use\n",
        "Exception in thread Thread-571:\n",
        "Traceback (most recent call last):\n",
        "  File \"/usr/lib/python2.7/threading.py\", line 810, in __bootstrap_inner\n",
        "    self.run()\n",
        "  File \"/usr/lib/python2.7/dist-packages/zmq/utils/garbage.py\", line 34, in run\n",
        "    s.bind(self.gc.url)\n",
        "  File \"socket.pyx\", line 444, in zmq.backend.cython.socket.Socket.bind (zmq/backend/cython/socket.c:4077)\n",
        "  File \"checkrc.pxd\", line 21, in zmq.backend.cython.checkrc._check_rc (zmq/backend/cython/socket.c:6033)\n",
        "ZMQError: Address already in use\n"
       ]
      },
      {
       "output_type": "stream",
       "stream": "stdout",
       "text": [
        "Using [ 0.083  0.083  0.25   0.25   0.25   0.083]\n",
        "Trimming trust to bella_all_mobile\n"
       ]
      },
      {
       "output_type": "stream",
       "stream": "stdout",
       "text": [
        "Using [ 0.077  0.077  0.231  0.231  0.231  0.154]\n",
        "Trimming trust to bella_all_mobile\n"
       ]
      },
      {
       "output_type": "stream",
       "stream": "stdout",
       "text": [
        "Using [ 0.071  0.071  0.214  0.214  0.214  0.214]\n",
        "Trimming trust to bella_all_mobile\n"
       ]
      },
      {
       "output_type": "stream",
       "stream": "stdout",
       "text": [
        "Using [ 0.143  0.286  0.143  0.143  0.143  0.143]\n",
        "Trimming trust to bella_all_mobile\n"
       ]
      },
      {
       "output_type": "stream",
       "stream": "stdout",
       "text": [
        "Using [ 0.125  0.25   0.125  0.125  0.125  0.25 ]\n",
        "Trimming trust to bella_all_mobile\n"
       ]
      },
      {
       "output_type": "stream",
       "stream": "stdout",
       "text": [
        "Using [ 0.111  0.222  0.111  0.111  0.111  0.333]\n",
        "Trimming trust to bella_all_mobile\n"
       ]
      },
      {
       "output_type": "stream",
       "stream": "stdout",
       "text": [
        "Using [ 0.125  0.25   0.125  0.125  0.25   0.125]\n",
        "Trimming trust to bella_all_mobile\n"
       ]
      },
      {
       "output_type": "stream",
       "stream": "stdout",
       "text": [
        "Using [ 0.111  0.222  0.111  0.111  0.222  0.222]\n",
        "Trimming trust to bella_all_mobile\n"
       ]
      },
      {
       "output_type": "stream",
       "stream": "stdout",
       "text": [
        "Using [ 0.1  0.2  0.1  0.1  0.2  0.3]\n",
        "Trimming trust to bella_all_mobile\n"
       ]
      },
      {
       "output_type": "stream",
       "stream": "stdout",
       "text": [
        "Using [ 0.111  0.222  0.111  0.111  0.333  0.111]\n",
        "Trimming trust to bella_all_mobile\n"
       ]
      },
      {
       "output_type": "stream",
       "stream": "stdout",
       "text": [
        "Using [ 0.1  0.2  0.1  0.1  0.3  0.2]\n",
        "Trimming trust to bella_all_mobile\n"
       ]
      },
      {
       "output_type": "stream",
       "stream": "stdout",
       "text": [
        "Using [ 0.091  0.182  0.091  0.091  0.273  0.273]\n",
        "Trimming trust to bella_all_mobile\n"
       ]
      },
      {
       "output_type": "stream",
       "stream": "stderr",
       "text": [
        "Exception in thread Thread-646:\n",
        "Traceback (most recent call last):\n",
        "  File \"/usr/lib/python2.7/threading.py\", line 810, in __bootstrap_inner\n",
        "    self.run()\n",
        "  File \"/usr/lib/python2.7/dist-packages/zmq/utils/garbage.py\", line 34, in run\n",
        "    s.bind(self.gc.url)\n",
        "  File \"socket.pyx\", line 444, in zmq.backend.cython.socket.Socket.bind (zmq/backend/cython/socket.c:4077)\n",
        "  File \"checkrc.pxd\", line 21, in zmq.backend.cython.checkrc._check_rc (zmq/backend/cython/socket.c:6033)\n",
        "ZMQError: Address already in use\n",
        "Exception in thread Thread-646:\n",
        "Traceback (most recent call last):\n",
        "  File \"/usr/lib/python2.7/threading.py\", line 810, in __bootstrap_inner\n",
        "    self.run()\n",
        "  File \"/usr/lib/python2.7/dist-packages/zmq/utils/garbage.py\", line 34, in run\n",
        "    s.bind(self.gc.url)\n",
        "  File \"socket.pyx\", line 444, in zmq.backend.cython.socket.Socket.bind (zmq/backend/cython/socket.c:4077)\n",
        "  File \"checkrc.pxd\", line 21, in zmq.backend.cython.checkrc._check_rc (zmq/backend/cython/socket.c:6033)\n",
        "ZMQError: Address already in use\n",
        "Exception in thread Thread-646:\n",
        "Traceback (most recent call last):\n",
        "  File \"/usr/lib/python2.7/threading.py\", line 810, in __bootstrap_inner\n",
        "    self.run()\n",
        "  File \"/usr/lib/python2.7/dist-packages/zmq/utils/garbage.py\", line 34, in run\n",
        "    s.bind(self.gc.url)\n",
        "  File \"socket.pyx\", line 444, in zmq.backend.cython.socket.Socket.bind (zmq/backend/cython/socket.c:4077)\n",
        "  File \"checkrc.pxd\", line 21, in zmq.backend.cython.checkrc._check_rc (zmq/backend/cython/socket.c:6033)\n",
        "ZMQError: Address already in use\n"
       ]
      },
      {
       "output_type": "stream",
       "stream": "stdout",
       "text": [
        "Using [ 0.125  0.25   0.125  0.25   0.125  0.125]\n",
        "Trimming trust to bella_all_mobile\n"
       ]
      },
      {
       "output_type": "stream",
       "stream": "stdout",
       "text": [
        "Using [ 0.111  0.222  0.111  0.222  0.111  0.222]\n",
        "Trimming trust to bella_all_mobile\n"
       ]
      },
      {
       "output_type": "stream",
       "stream": "stdout",
       "text": [
        "Using [ 0.1  0.2  0.1  0.2  0.1  0.3]\n",
        "Trimming trust to bella_all_mobile\n"
       ]
      },
      {
       "output_type": "stream",
       "stream": "stdout",
       "text": [
        "Using [ 0.111  0.222  0.111  0.222  0.222  0.111]\n",
        "Trimming trust to bella_all_mobile\n"
       ]
      },
      {
       "output_type": "stream",
       "stream": "stdout",
       "text": [
        "Using [ 0.1  0.2  0.1  0.2  0.2  0.2]\n",
        "Trimming trust to bella_all_mobile\n"
       ]
      },
      {
       "output_type": "stream",
       "stream": "stdout",
       "text": [
        "Using [ 0.091  0.182  0.091  0.182  0.182  0.273]\n",
        "Trimming trust to bella_all_mobile\n"
       ]
      },
      {
       "output_type": "stream",
       "stream": "stdout",
       "text": [
        "Using [ 0.1  0.2  0.1  0.2  0.3  0.1]\n",
        "Trimming trust to bella_all_mobile\n"
       ]
      },
      {
       "output_type": "stream",
       "stream": "stdout",
       "text": [
        "Using [ 0.091  0.182  0.091  0.182  0.273  0.182]\n",
        "Trimming trust to bella_all_mobile\n"
       ]
      },
      {
       "output_type": "stream",
       "stream": "stdout",
       "text": [
        "Using [ 0.083  0.167  0.083  0.167  0.25   0.25 ]\n",
        "Trimming trust to bella_all_mobile\n"
       ]
      },
      {
       "output_type": "stream",
       "stream": "stdout",
       "text": [
        "Using [ 0.111  0.222  0.111  0.333  0.111  0.111]\n",
        "Trimming trust to bella_all_mobile\n"
       ]
      },
      {
       "output_type": "stream",
       "stream": "stdout",
       "text": [
        "Using [ 0.1  0.2  0.1  0.3  0.1  0.2]\n",
        "Trimming trust to bella_all_mobile\n"
       ]
      },
      {
       "output_type": "stream",
       "stream": "stdout",
       "text": [
        "Using [ 0.091  0.182  0.091  0.273  0.091  0.273]\n",
        "Trimming trust to bella_all_mobile\n"
       ]
      },
      {
       "output_type": "stream",
       "stream": "stdout",
       "text": [
        "Using [ 0.1  0.2  0.1  0.3  0.2  0.1]\n",
        "Trimming trust to bella_all_mobile\n"
       ]
      },
      {
       "output_type": "stream",
       "stream": "stdout",
       "text": [
        "Using [ 0.091  0.182  0.091  0.273  0.182  0.182]\n",
        "Trimming trust to bella_all_mobile\n"
       ]
      },
      {
       "output_type": "stream",
       "stream": "stdout",
       "text": [
        "Using [ 0.083  0.167  0.083  0.25   0.167  0.25 ]\n",
        "Trimming trust to bella_all_mobile\n"
       ]
      },
      {
       "output_type": "stream",
       "stream": "stdout",
       "text": [
        "Using [ 0.091  0.182  0.091  0.273  0.273  0.091]\n",
        "Trimming trust to bella_all_mobile\n"
       ]
      },
      {
       "output_type": "stream",
       "stream": "stdout",
       "text": [
        "Using [ 0.083  0.167  0.083  0.25   0.25   0.167]\n",
        "Trimming trust to bella_all_mobile\n"
       ]
      },
      {
       "output_type": "stream",
       "stream": "stdout",
       "text": [
        "Using [ 0.077  0.154  0.077  0.231  0.231  0.231]\n",
        "Trimming trust to bella_all_mobile\n"
       ]
      },
      {
       "output_type": "stream",
       "stream": "stdout",
       "text": [
        "Using [ 0.125  0.25   0.25   0.125  0.125  0.125]\n",
        "Trimming trust to bella_all_mobile\n"
       ]
      },
      {
       "output_type": "stream",
       "stream": "stdout",
       "text": [
        "Using [ 0.111  0.222  0.222  0.111  0.111  0.222]\n",
        "Trimming trust to bella_all_mobile\n"
       ]
      },
      {
       "output_type": "stream",
       "stream": "stdout",
       "text": [
        "Using [ 0.1  0.2  0.2  0.1  0.1  0.3]\n",
        "Trimming trust to bella_all_mobile\n"
       ]
      },
      {
       "output_type": "stream",
       "stream": "stdout",
       "text": [
        "Using [ 0.111  0.222  0.222  0.111  0.222  0.111]\n",
        "Trimming trust to bella_all_mobile\n"
       ]
      },
      {
       "output_type": "stream",
       "stream": "stdout",
       "text": [
        "Using [ 0.1  0.2  0.2  0.1  0.2  0.2]\n",
        "Trimming trust to bella_all_mobile\n"
       ]
      },
      {
       "output_type": "stream",
       "stream": "stdout",
       "text": [
        "Using [ 0.091  0.182  0.182  0.091  0.182  0.273]\n",
        "Trimming trust to bella_all_mobile\n"
       ]
      },
      {
       "output_type": "stream",
       "stream": "stdout",
       "text": [
        "Using [ 0.1  0.2  0.2  0.1  0.3  0.1]\n",
        "Trimming trust to bella_all_mobile\n"
       ]
      },
      {
       "output_type": "stream",
       "stream": "stdout",
       "text": [
        "Using [ 0.091  0.182  0.182  0.091  0.273  0.182]\n",
        "Trimming trust to bella_all_mobile\n"
       ]
      },
      {
       "output_type": "stream",
       "stream": "stdout",
       "text": [
        "Using [ 0.083  0.167  0.167  0.083  0.25   0.25 ]\n",
        "Trimming trust to bella_all_mobile\n"
       ]
      },
      {
       "output_type": "stream",
       "stream": "stdout",
       "text": [
        "Using [ 0.111  0.222  0.222  0.222  0.111  0.111]\n",
        "Trimming trust to bella_all_mobile\n"
       ]
      },
      {
       "output_type": "stream",
       "stream": "stdout",
       "text": [
        "Using [ 0.1  0.2  0.2  0.2  0.1  0.2]\n",
        "Trimming trust to bella_all_mobile\n"
       ]
      },
      {
       "output_type": "stream",
       "stream": "stdout",
       "text": [
        "Using [ 0.091  0.182  0.182  0.182  0.091  0.273]\n",
        "Trimming trust to bella_all_mobile\n"
       ]
      },
      {
       "output_type": "stream",
       "stream": "stdout",
       "text": [
        "Using [ 0.1  0.2  0.2  0.2  0.2  0.1]\n",
        "Trimming trust to bella_all_mobile\n"
       ]
      },
      {
       "output_type": "stream",
       "stream": "stdout",
       "text": [
        "Using [ 0.091  0.182  0.182  0.182  0.182  0.182]\n",
        "Trimming trust to bella_all_mobile\n"
       ]
      },
      {
       "output_type": "stream",
       "stream": "stdout",
       "text": [
        "Using [ 0.083  0.167  0.167  0.167  0.167  0.25 ]\n",
        "Trimming trust to bella_all_mobile\n"
       ]
      },
      {
       "output_type": "stream",
       "stream": "stdout",
       "text": [
        "Using [ 0.091  0.182  0.182  0.182  0.273  0.091]\n",
        "Trimming trust to bella_all_mobile\n"
       ]
      },
      {
       "output_type": "stream",
       "stream": "stdout",
       "text": [
        "Using [ 0.083  0.167  0.167  0.167  0.25   0.167]\n",
        "Trimming trust to bella_all_mobile\n"
       ]
      },
      {
       "output_type": "stream",
       "stream": "stdout",
       "text": [
        "Using [ 0.077  0.154  0.154  0.154  0.231  0.231]\n",
        "Trimming trust to bella_all_mobile\n"
       ]
      },
      {
       "output_type": "stream",
       "stream": "stdout",
       "text": [
        "Using [ 0.1  0.2  0.2  0.3  0.1  0.1]\n",
        "Trimming trust to bella_all_mobile\n"
       ]
      },
      {
       "output_type": "stream",
       "stream": "stdout",
       "text": [
        "Using [ 0.091  0.182  0.182  0.273  0.091  0.182]\n",
        "Trimming trust to bella_all_mobile\n"
       ]
      },
      {
       "output_type": "stream",
       "stream": "stdout",
       "text": [
        "Using [ 0.083  0.167  0.167  0.25   0.083  0.25 ]\n",
        "Trimming trust to bella_all_mobile\n"
       ]
      },
      {
       "output_type": "stream",
       "stream": "stdout",
       "text": [
        "Using [ 0.091  0.182  0.182  0.273  0.182  0.091]\n",
        "Trimming trust to bella_all_mobile\n"
       ]
      },
      {
       "output_type": "stream",
       "stream": "stdout",
       "text": [
        "Using [ 0.083  0.167  0.167  0.25   0.167  0.167]\n",
        "Trimming trust to bella_all_mobile\n"
       ]
      },
      {
       "output_type": "stream",
       "stream": "stdout",
       "text": [
        "Using [ 0.077  0.154  0.154  0.231  0.154  0.231]\n",
        "Trimming trust to bella_all_mobile\n"
       ]
      },
      {
       "output_type": "stream",
       "stream": "stdout",
       "text": [
        "Using [ 0.083  0.167  0.167  0.25   0.25   0.083]\n",
        "Trimming trust to bella_all_mobile\n"
       ]
      },
      {
       "output_type": "stream",
       "stream": "stdout",
       "text": [
        "Using [ 0.077  0.154  0.154  0.231  0.231  0.154]\n",
        "Trimming trust to bella_all_mobile\n"
       ]
      },
      {
       "output_type": "stream",
       "stream": "stdout",
       "text": [
        "Using [ 0.071  0.143  0.143  0.214  0.214  0.214]\n",
        "Trimming trust to bella_all_mobile\n"
       ]
      },
      {
       "output_type": "stream",
       "stream": "stdout",
       "text": [
        "Using [ 0.111  0.222  0.333  0.111  0.111  0.111]\n",
        "Trimming trust to bella_all_mobile\n"
       ]
      },
      {
       "output_type": "stream",
       "stream": "stdout",
       "text": [
        "Using [ 0.1  0.2  0.3  0.1  0.1  0.2]\n",
        "Trimming trust to bella_all_mobile\n"
       ]
      },
      {
       "output_type": "stream",
       "stream": "stdout",
       "text": [
        "Using [ 0.091  0.182  0.273  0.091  0.091  0.273]\n",
        "Trimming trust to bella_all_mobile\n"
       ]
      },
      {
       "output_type": "stream",
       "stream": "stdout",
       "text": [
        "Using [ 0.1  0.2  0.3  0.1  0.2  0.1]\n",
        "Trimming trust to bella_all_mobile\n"
       ]
      },
      {
       "output_type": "stream",
       "stream": "stdout",
       "text": [
        "Using [ 0.091  0.182  0.273  0.091  0.182  0.182]\n",
        "Trimming trust to bella_all_mobile\n"
       ]
      },
      {
       "output_type": "stream",
       "stream": "stdout",
       "text": [
        "Using [ 0.083  0.167  0.25   0.083  0.167  0.25 ]\n",
        "Trimming trust to bella_all_mobile\n"
       ]
      },
      {
       "output_type": "stream",
       "stream": "stdout",
       "text": [
        "Using [ 0.091  0.182  0.273  0.091  0.273  0.091]\n",
        "Trimming trust to bella_all_mobile\n"
       ]
      },
      {
       "output_type": "stream",
       "stream": "stdout",
       "text": [
        "Using [ 0.083  0.167  0.25   0.083  0.25   0.167]\n",
        "Trimming trust to bella_all_mobile\n"
       ]
      },
      {
       "output_type": "stream",
       "stream": "stdout",
       "text": [
        "Using [ 0.077  0.154  0.231  0.077  0.231  0.231]\n",
        "Trimming trust to bella_all_mobile\n"
       ]
      },
      {
       "output_type": "stream",
       "stream": "stdout",
       "text": [
        "Using [ 0.1  0.2  0.3  0.2  0.1  0.1]\n",
        "Trimming trust to bella_all_mobile\n"
       ]
      },
      {
       "output_type": "stream",
       "stream": "stdout",
       "text": [
        "Using [ 0.091  0.182  0.273  0.182  0.091  0.182]\n",
        "Trimming trust to bella_all_mobile\n"
       ]
      },
      {
       "output_type": "stream",
       "stream": "stdout",
       "text": [
        "Using [ 0.083  0.167  0.25   0.167  0.083  0.25 ]\n",
        "Trimming trust to bella_all_mobile\n"
       ]
      },
      {
       "output_type": "stream",
       "stream": "stdout",
       "text": [
        "Using [ 0.091  0.182  0.273  0.182  0.182  0.091]\n",
        "Trimming trust to bella_all_mobile\n"
       ]
      },
      {
       "output_type": "stream",
       "stream": "stdout",
       "text": [
        "Using [ 0.083  0.167  0.25   0.167  0.167  0.167]\n",
        "Trimming trust to bella_all_mobile\n"
       ]
      },
      {
       "output_type": "stream",
       "stream": "stdout",
       "text": [
        "Using [ 0.077  0.154  0.231  0.154  0.154  0.231]\n",
        "Trimming trust to bella_all_mobile\n"
       ]
      },
      {
       "output_type": "stream",
       "stream": "stdout",
       "text": [
        "Using [ 0.083  0.167  0.25   0.167  0.25   0.083]\n",
        "Trimming trust to bella_all_mobile\n"
       ]
      },
      {
       "output_type": "stream",
       "stream": "stdout",
       "text": [
        "Using [ 0.077  0.154  0.231  0.154  0.231  0.154]\n",
        "Trimming trust to bella_all_mobile\n"
       ]
      },
      {
       "output_type": "stream",
       "stream": "stdout",
       "text": [
        "Using [ 0.071  0.143  0.214  0.143  0.214  0.214]\n",
        "Trimming trust to bella_all_mobile\n"
       ]
      },
      {
       "output_type": "stream",
       "stream": "stdout",
       "text": [
        "Using [ 0.091  0.182  0.273  0.273  0.091  0.091]\n",
        "Trimming trust to bella_all_mobile\n"
       ]
      },
      {
       "output_type": "stream",
       "stream": "stdout",
       "text": [
        "Using [ 0.083  0.167  0.25   0.25   0.083  0.167]\n",
        "Trimming trust to bella_all_mobile\n"
       ]
      },
      {
       "output_type": "stream",
       "stream": "stdout",
       "text": [
        "Using [ 0.077  0.154  0.231  0.231  0.077  0.231]\n",
        "Trimming trust to bella_all_mobile\n"
       ]
      },
      {
       "output_type": "stream",
       "stream": "stdout",
       "text": [
        "Using [ 0.083  0.167  0.25   0.25   0.167  0.083]\n",
        "Trimming trust to bella_all_mobile\n"
       ]
      },
      {
       "output_type": "stream",
       "stream": "stdout",
       "text": [
        "Using [ 0.077  0.154  0.231  0.231  0.154  0.154]\n",
        "Trimming trust to bella_all_mobile\n"
       ]
      },
      {
       "output_type": "stream",
       "stream": "stdout",
       "text": [
        "Using [ 0.071  0.143  0.214  0.214  0.143  0.214]\n",
        "Trimming trust to bella_all_mobile\n"
       ]
      },
      {
       "output_type": "stream",
       "stream": "stderr",
       "text": [
        "Exception in thread Thread-1057:\n",
        "Traceback (most recent call last):\n",
        "  File \"/usr/lib/python2.7/threading.py\", line 810, in __bootstrap_inner\n",
        "    self.run()\n",
        "  File \"/usr/lib/python2.7/dist-packages/zmq/utils/garbage.py\", line 34, in run\n",
        "    s.bind(self.gc.url)\n",
        "  File \"socket.pyx\", line 444, in zmq.backend.cython.socket.Socket.bind (zmq/backend/cython/socket.c:4077)\n",
        "  File \"checkrc.pxd\", line 21, in zmq.backend.cython.checkrc._check_rc (zmq/backend/cython/socket.c:6033)\n",
        "ZMQError: Address already in use\n",
        "Exception in thread Thread-1057:\n",
        "Traceback (most recent call last):\n",
        "  File \"/usr/lib/python2.7/threading.py\", line 810, in __bootstrap_inner\n",
        "    self.run()\n",
        "  File \"/usr/lib/python2.7/dist-packages/zmq/utils/garbage.py\", line 34, in run\n",
        "    s.bind(self.gc.url)\n",
        "  File \"socket.pyx\", line 444, in zmq.backend.cython.socket.Socket.bind (zmq/backend/cython/socket.c:4077)\n",
        "  File \"checkrc.pxd\", line 21, in zmq.backend.cython.checkrc._check_rc (zmq/backend/cython/socket.c:6033)\n",
        "ZMQError: Address already in use\n",
        "Exception in thread Thread-1057:\n",
        "Traceback (most recent call last):\n",
        "  File \"/usr/lib/python2.7/threading.py\", line 810, in __bootstrap_inner\n",
        "    self.run()\n",
        "  File \"/usr/lib/python2.7/dist-packages/zmq/utils/garbage.py\", line 34, in run\n",
        "    s.bind(self.gc.url)\n",
        "  File \"socket.pyx\", line 444, in zmq.backend.cython.socket.Socket.bind (zmq/backend/cython/socket.c:4077)\n",
        "  File \"checkrc.pxd\", line 21, in zmq.backend.cython.checkrc._check_rc (zmq/backend/cython/socket.c:6033)\n",
        "ZMQError: Address already in use\n"
       ]
      },
      {
       "output_type": "stream",
       "stream": "stdout",
       "text": [
        "Using [ 0.077  0.154  0.231  0.231  0.231  0.077]\n",
        "Trimming trust to bella_all_mobile\n"
       ]
      },
      {
       "output_type": "stream",
       "stream": "stdout",
       "text": [
        "Using [ 0.071  0.143  0.214  0.214  0.214  0.143]\n",
        "Trimming trust to bella_all_mobile\n"
       ]
      },
      {
       "output_type": "stream",
       "stream": "stderr",
       "text": [
        "Exception in thread Thread-1072:\n",
        "Traceback (most recent call last):\n",
        "  File \"/usr/lib/python2.7/threading.py\", line 810, in __bootstrap_inner\n",
        "    self.run()\n",
        "  File \"/usr/lib/python2.7/dist-packages/zmq/utils/garbage.py\", line 34, in run\n",
        "    s.bind(self.gc.url)\n",
        "  File \"socket.pyx\", line 444, in zmq.backend.cython.socket.Socket.bind (zmq/backend/cython/socket.c:4077)\n",
        "  File \"checkrc.pxd\", line 21, in zmq.backend.cython.checkrc._check_rc (zmq/backend/cython/socket.c:6033)\n",
        "ZMQError: Address already in use\n",
        "Exception in thread Thread-1072:\n",
        "Traceback (most recent call last):\n",
        "  File \"/usr/lib/python2.7/threading.py\", line 810, in __bootstrap_inner\n",
        "    self.run()\n",
        "  File \"/usr/lib/python2.7/dist-packages/zmq/utils/garbage.py\", line 34, in run\n",
        "    s.bind(self.gc.url)\n",
        "  File \"socket.pyx\", line 444, in zmq.backend.cython.socket.Socket.bind (zmq/backend/cython/socket.c:4077)\n",
        "  File \"checkrc.pxd\", line 21, in zmq.backend.cython.checkrc._check_rc (zmq/backend/cython/socket.c:6033)\n",
        "ZMQError: Address already in use\n",
        "Exception in thread Thread-1072:\n",
        "Traceback (most recent call last):\n",
        "  File \"/usr/lib/python2.7/threading.py\", line 810, in __bootstrap_inner\n",
        "    self.run()\n",
        "  File \"/usr/lib/python2.7/dist-packages/zmq/utils/garbage.py\", line 34, in run\n",
        "    s.bind(self.gc.url)\n",
        "  File \"socket.pyx\", line 444, in zmq.backend.cython.socket.Socket.bind (zmq/backend/cython/socket.c:4077)\n",
        "  File \"checkrc.pxd\", line 21, in zmq.backend.cython.checkrc._check_rc (zmq/backend/cython/socket.c:6033)\n",
        "ZMQError: Address already in use\n",
        "Exception in thread Thread-1072:\n",
        "Traceback (most recent call last):\n",
        "  File \"/usr/lib/python2.7/threading.py\", line 810, in __bootstrap_inner\n",
        "    self.run()\n",
        "  File \"/usr/lib/python2.7/dist-packages/zmq/utils/garbage.py\", line 34, in run\n",
        "    s.bind(self.gc.url)\n",
        "  File \"socket.pyx\", line 444, in zmq.backend.cython.socket.Socket.bind (zmq/backend/cython/socket.c:4077)\n",
        "  File \"checkrc.pxd\", line 21, in zmq.backend.cython.checkrc._check_rc (zmq/backend/cython/socket.c:6033)\n",
        "ZMQError: Address already in use\n"
       ]
      },
      {
       "output_type": "stream",
       "stream": "stdout",
       "text": [
        "Using [ 0.067  0.133  0.2    0.2    0.2    0.2  ]\n",
        "Trimming trust to bella_all_mobile\n"
       ]
      },
      {
       "output_type": "stream",
       "stream": "stdout",
       "text": [
        "Using [ 0.125  0.375  0.125  0.125  0.125  0.125]\n",
        "Trimming trust to bella_all_mobile\n"
       ]
      },
      {
       "output_type": "stream",
       "stream": "stdout",
       "text": [
        "Using [ 0.111  0.333  0.111  0.111  0.111  0.222]\n",
        "Trimming trust to bella_all_mobile\n"
       ]
      },
      {
       "output_type": "stream",
       "stream": "stdout",
       "text": [
        "Using [ 0.1  0.3  0.1  0.1  0.1  0.3]\n",
        "Trimming trust to bella_all_mobile\n"
       ]
      },
      {
       "output_type": "stream",
       "stream": "stdout",
       "text": [
        "Using [ 0.111  0.333  0.111  0.111  0.222  0.111]\n",
        "Trimming trust to bella_all_mobile\n"
       ]
      },
      {
       "output_type": "stream",
       "stream": "stdout",
       "text": [
        "Using [ 0.1  0.3  0.1  0.1  0.2  0.2]\n",
        "Trimming trust to bella_all_mobile\n"
       ]
      },
      {
       "output_type": "stream",
       "stream": "stdout",
       "text": [
        "Using [ 0.091  0.273  0.091  0.091  0.182  0.273]\n",
        "Trimming trust to bella_all_mobile\n"
       ]
      },
      {
       "output_type": "stream",
       "stream": "stdout",
       "text": [
        "Using [ 0.1  0.3  0.1  0.1  0.3  0.1]\n",
        "Trimming trust to bella_all_mobile\n"
       ]
      },
      {
       "output_type": "stream",
       "stream": "stdout",
       "text": [
        "Using [ 0.091  0.273  0.091  0.091  0.273  0.182]\n",
        "Trimming trust to bella_all_mobile\n"
       ]
      },
      {
       "output_type": "stream",
       "stream": "stdout",
       "text": [
        "Using [ 0.083  0.25   0.083  0.083  0.25   0.25 ]\n",
        "Trimming trust to bella_all_mobile\n"
       ]
      },
      {
       "output_type": "stream",
       "stream": "stdout",
       "text": [
        "Using [ 0.111  0.333  0.111  0.222  0.111  0.111]\n",
        "Trimming trust to bella_all_mobile\n"
       ]
      },
      {
       "output_type": "stream",
       "stream": "stdout",
       "text": [
        "Using [ 0.1  0.3  0.1  0.2  0.1  0.2]\n",
        "Trimming trust to bella_all_mobile\n"
       ]
      },
      {
       "output_type": "stream",
       "stream": "stdout",
       "text": [
        "Using [ 0.091  0.273  0.091  0.182  0.091  0.273]\n",
        "Trimming trust to bella_all_mobile\n"
       ]
      },
      {
       "output_type": "stream",
       "stream": "stdout",
       "text": [
        "Using [ 0.1  0.3  0.1  0.2  0.2  0.1]\n",
        "Trimming trust to bella_all_mobile\n"
       ]
      },
      {
       "output_type": "stream",
       "stream": "stdout",
       "text": [
        "Using [ 0.091  0.273  0.091  0.182  0.182  0.182]\n",
        "Trimming trust to bella_all_mobile\n"
       ]
      },
      {
       "output_type": "stream",
       "stream": "stdout",
       "text": [
        "Using [ 0.083  0.25   0.083  0.167  0.167  0.25 ]\n",
        "Trimming trust to bella_all_mobile\n"
       ]
      },
      {
       "output_type": "stream",
       "stream": "stdout",
       "text": [
        "Using [ 0.091  0.273  0.091  0.182  0.273  0.091]\n",
        "Trimming trust to bella_all_mobile\n"
       ]
      },
      {
       "output_type": "stream",
       "stream": "stdout",
       "text": [
        "Using [ 0.083  0.25   0.083  0.167  0.25   0.167]\n",
        "Trimming trust to bella_all_mobile\n"
       ]
      },
      {
       "output_type": "stream",
       "stream": "stdout",
       "text": [
        "Using [ 0.077  0.231  0.077  0.154  0.231  0.231]\n",
        "Trimming trust to bella_all_mobile\n"
       ]
      },
      {
       "output_type": "stream",
       "stream": "stdout",
       "text": [
        "Using [ 0.1  0.3  0.1  0.3  0.1  0.1]\n",
        "Trimming trust to bella_all_mobile\n"
       ]
      },
      {
       "output_type": "stream",
       "stream": "stdout",
       "text": [
        "Using [ 0.091  0.273  0.091  0.273  0.091  0.182]\n",
        "Trimming trust to bella_all_mobile\n"
       ]
      },
      {
       "output_type": "stream",
       "stream": "stdout",
       "text": [
        "Using [ 0.083  0.25   0.083  0.25   0.083  0.25 ]\n",
        "Trimming trust to bella_all_mobile\n"
       ]
      },
      {
       "output_type": "stream",
       "stream": "stdout",
       "text": [
        "Using [ 0.091  0.273  0.091  0.273  0.182  0.091]\n",
        "Trimming trust to bella_all_mobile\n"
       ]
      },
      {
       "output_type": "stream",
       "stream": "stdout",
       "text": [
        "Using [ 0.083  0.25   0.083  0.25   0.167  0.167]\n",
        "Trimming trust to bella_all_mobile\n"
       ]
      },
      {
       "output_type": "stream",
       "stream": "stdout",
       "text": [
        "Using [ 0.077  0.231  0.077  0.231  0.154  0.231]\n",
        "Trimming trust to bella_all_mobile\n"
       ]
      },
      {
       "output_type": "stream",
       "stream": "stdout",
       "text": [
        "Using [ 0.083  0.25   0.083  0.25   0.25   0.083]\n",
        "Trimming trust to bella_all_mobile\n"
       ]
      },
      {
       "output_type": "stream",
       "stream": "stdout",
       "text": [
        "Using [ 0.077  0.231  0.077  0.231  0.231  0.154]\n",
        "Trimming trust to bella_all_mobile\n"
       ]
      },
      {
       "output_type": "stream",
       "stream": "stdout",
       "text": [
        "Using [ 0.071  0.214  0.071  0.214  0.214  0.214]\n",
        "Trimming trust to bella_all_mobile\n"
       ]
      },
      {
       "output_type": "stream",
       "stream": "stdout",
       "text": [
        "Using [ 0.111  0.333  0.222  0.111  0.111  0.111]\n",
        "Trimming trust to bella_all_mobile\n"
       ]
      },
      {
       "output_type": "stream",
       "stream": "stdout",
       "text": [
        "Using [ 0.1  0.3  0.2  0.1  0.1  0.2]\n",
        "Trimming trust to bella_all_mobile\n"
       ]
      },
      {
       "output_type": "stream",
       "stream": "stdout",
       "text": [
        "Using [ 0.091  0.273  0.182  0.091  0.091  0.273]\n",
        "Trimming trust to bella_all_mobile\n"
       ]
      },
      {
       "output_type": "stream",
       "stream": "stdout",
       "text": [
        "Using [ 0.1  0.3  0.2  0.1  0.2  0.1]\n",
        "Trimming trust to bella_all_mobile\n"
       ]
      },
      {
       "output_type": "stream",
       "stream": "stdout",
       "text": [
        "Using [ 0.091  0.273  0.182  0.091  0.182  0.182]\n",
        "Trimming trust to bella_all_mobile\n"
       ]
      },
      {
       "output_type": "stream",
       "stream": "stdout",
       "text": [
        "Using [ 0.083  0.25   0.167  0.083  0.167  0.25 ]\n",
        "Trimming trust to bella_all_mobile\n"
       ]
      },
      {
       "output_type": "stream",
       "stream": "stdout",
       "text": [
        "Using [ 0.091  0.273  0.182  0.091  0.273  0.091]\n",
        "Trimming trust to bella_all_mobile\n"
       ]
      },
      {
       "output_type": "stream",
       "stream": "stdout",
       "text": [
        "Using [ 0.083  0.25   0.167  0.083  0.25   0.167]\n",
        "Trimming trust to bella_all_mobile\n"
       ]
      },
      {
       "output_type": "stream",
       "stream": "stdout",
       "text": [
        "Using [ 0.077  0.231  0.154  0.077  0.231  0.231]\n",
        "Trimming trust to bella_all_mobile\n"
       ]
      },
      {
       "output_type": "stream",
       "stream": "stdout",
       "text": [
        "Using [ 0.1  0.3  0.2  0.2  0.1  0.1]\n",
        "Trimming trust to bella_all_mobile\n"
       ]
      },
      {
       "output_type": "stream",
       "stream": "stdout",
       "text": [
        "Using [ 0.091  0.273  0.182  0.182  0.091  0.182]\n",
        "Trimming trust to bella_all_mobile\n"
       ]
      },
      {
       "output_type": "stream",
       "stream": "stdout",
       "text": [
        "Using [ 0.083  0.25   0.167  0.167  0.083  0.25 ]\n",
        "Trimming trust to bella_all_mobile\n"
       ]
      },
      {
       "output_type": "stream",
       "stream": "stdout",
       "text": [
        "Using [ 0.091  0.273  0.182  0.182  0.182  0.091]\n",
        "Trimming trust to bella_all_mobile\n"
       ]
      },
      {
       "output_type": "stream",
       "stream": "stdout",
       "text": [
        "Using [ 0.083  0.25   0.167  0.167  0.167  0.167]\n",
        "Trimming trust to bella_all_mobile\n"
       ]
      },
      {
       "output_type": "stream",
       "stream": "stdout",
       "text": [
        "Using [ 0.077  0.231  0.154  0.154  0.154  0.231]\n",
        "Trimming trust to bella_all_mobile\n"
       ]
      },
      {
       "output_type": "stream",
       "stream": "stdout",
       "text": [
        "Using [ 0.083  0.25   0.167  0.167  0.25   0.083]\n",
        "Trimming trust to bella_all_mobile\n"
       ]
      },
      {
       "output_type": "stream",
       "stream": "stdout",
       "text": [
        "Using [ 0.077  0.231  0.154  0.154  0.231  0.154]\n",
        "Trimming trust to bella_all_mobile\n"
       ]
      },
      {
       "output_type": "stream",
       "stream": "stdout",
       "text": [
        "Using [ 0.071  0.214  0.143  0.143  0.214  0.214]\n",
        "Trimming trust to bella_all_mobile\n"
       ]
      },
      {
       "output_type": "stream",
       "stream": "stdout",
       "text": [
        "Using [ 0.091  0.273  0.182  0.273  0.091  0.091]\n",
        "Trimming trust to bella_all_mobile\n"
       ]
      },
      {
       "output_type": "stream",
       "stream": "stderr",
       "text": [
        "Exception in thread Thread-1351:\n",
        "Traceback (most recent call last):\n",
        "  File \"/usr/lib/python2.7/threading.py\", line 810, in __bootstrap_inner\n",
        "    self.run()\n",
        "  File \"/usr/lib/python2.7/dist-packages/zmq/utils/garbage.py\", line 34, in run\n",
        "    s.bind(self.gc.url)\n",
        "  File \"socket.pyx\", line 444, in zmq.backend.cython.socket.Socket.bind (zmq/backend/cython/socket.c:4077)\n",
        "  File \"checkrc.pxd\", line 21, in zmq.backend.cython.checkrc._check_rc (zmq/backend/cython/socket.c:6033)\n",
        "ZMQError: Address already in use\n"
       ]
      },
      {
       "output_type": "stream",
       "stream": "stdout",
       "text": [
        "Using [ 0.083  0.25   0.167  0.25   0.083  0.167]\n",
        "Trimming trust to bella_all_mobile\n"
       ]
      },
      {
       "output_type": "stream",
       "stream": "stdout",
       "text": [
        "Using [ 0.077  0.231  0.154  0.231  0.077  0.231]\n",
        "Trimming trust to bella_all_mobile\n"
       ]
      },
      {
       "output_type": "stream",
       "stream": "stdout",
       "text": [
        "Using [ 0.083  0.25   0.167  0.25   0.167  0.083]\n",
        "Trimming trust to bella_all_mobile\n"
       ]
      },
      {
       "output_type": "stream",
       "stream": "stdout",
       "text": [
        "Using [ 0.077  0.231  0.154  0.231  0.154  0.154]\n",
        "Trimming trust to bella_all_mobile\n"
       ]
      },
      {
       "output_type": "stream",
       "stream": "stdout",
       "text": [
        "Using [ 0.071  0.214  0.143  0.214  0.143  0.214]\n",
        "Trimming trust to bella_all_mobile\n"
       ]
      },
      {
       "output_type": "stream",
       "stream": "stdout",
       "text": [
        "Using [ 0.077  0.231  0.154  0.231  0.231  0.077]\n",
        "Trimming trust to bella_all_mobile\n"
       ]
      },
      {
       "output_type": "stream",
       "stream": "stdout",
       "text": [
        "Using [ 0.071  0.214  0.143  0.214  0.214  0.143]\n",
        "Trimming trust to bella_all_mobile\n"
       ]
      },
      {
       "output_type": "stream",
       "stream": "stdout",
       "text": [
        "Using [ 0.067  0.2    0.133  0.2    0.2    0.2  ]\n",
        "Trimming trust to bella_all_mobile\n"
       ]
      },
      {
       "output_type": "stream",
       "stream": "stdout",
       "text": [
        "Using [ 0.1  0.3  0.3  0.1  0.1  0.1]\n",
        "Trimming trust to bella_all_mobile\n"
       ]
      },
      {
       "output_type": "stream",
       "stream": "stdout",
       "text": [
        "Using [ 0.091  0.273  0.273  0.091  0.091  0.182]\n",
        "Trimming trust to bella_all_mobile\n"
       ]
      },
      {
       "output_type": "stream",
       "stream": "stdout",
       "text": [
        "Using [ 0.083  0.25   0.25   0.083  0.083  0.25 ]\n",
        "Trimming trust to bella_all_mobile\n"
       ]
      },
      {
       "output_type": "stream",
       "stream": "stdout",
       "text": [
        "Using [ 0.091  0.273  0.273  0.091  0.182  0.091]\n",
        "Trimming trust to bella_all_mobile\n"
       ]
      },
      {
       "output_type": "stream",
       "stream": "stdout",
       "text": [
        "Using [ 0.083  0.25   0.25   0.083  0.167  0.167]\n",
        "Trimming trust to bella_all_mobile\n"
       ]
      },
      {
       "output_type": "stream",
       "stream": "stdout",
       "text": [
        "Using [ 0.077  0.231  0.231  0.077  0.154  0.231]\n",
        "Trimming trust to bella_all_mobile\n"
       ]
      },
      {
       "output_type": "stream",
       "stream": "stdout",
       "text": [
        "Using [ 0.083  0.25   0.25   0.083  0.25   0.083]\n",
        "Trimming trust to bella_all_mobile\n"
       ]
      },
      {
       "output_type": "stream",
       "stream": "stdout",
       "text": [
        "Using [ 0.077  0.231  0.231  0.077  0.231  0.154]\n",
        "Trimming trust to bella_all_mobile\n"
       ]
      },
      {
       "output_type": "stream",
       "stream": "stdout",
       "text": [
        "Using [ 0.071  0.214  0.214  0.071  0.214  0.214]\n",
        "Trimming trust to bella_all_mobile\n"
       ]
      },
      {
       "output_type": "stream",
       "stream": "stdout",
       "text": [
        "Using [ 0.091  0.273  0.273  0.182  0.091  0.091]\n",
        "Trimming trust to bella_all_mobile\n"
       ]
      },
      {
       "output_type": "stream",
       "stream": "stdout",
       "text": [
        "Using [ 0.083  0.25   0.25   0.167  0.083  0.167]\n",
        "Trimming trust to bella_all_mobile\n"
       ]
      },
      {
       "output_type": "stream",
       "stream": "stdout",
       "text": [
        "Using [ 0.077  0.231  0.231  0.154  0.077  0.231]\n",
        "Trimming trust to bella_all_mobile\n"
       ]
      },
      {
       "output_type": "stream",
       "stream": "stdout",
       "text": [
        "Using [ 0.083  0.25   0.25   0.167  0.167  0.083]\n",
        "Trimming trust to bella_all_mobile\n"
       ]
      },
      {
       "output_type": "stream",
       "stream": "stdout",
       "text": [
        "Using [ 0.077  0.231  0.231  0.154  0.154  0.154]\n",
        "Trimming trust to bella_all_mobile\n"
       ]
      },
      {
       "output_type": "stream",
       "stream": "stdout",
       "text": [
        "Using [ 0.071  0.214  0.214  0.143  0.143  0.214]\n",
        "Trimming trust to bella_all_mobile\n"
       ]
      },
      {
       "output_type": "stream",
       "stream": "stdout",
       "text": [
        "Using [ 0.077  0.231  0.231  0.154  0.231  0.077]\n",
        "Trimming trust to bella_all_mobile\n"
       ]
      },
      {
       "output_type": "stream",
       "stream": "stdout",
       "text": [
        "Using [ 0.071  0.214  0.214  0.143  0.214  0.143]\n",
        "Trimming trust to bella_all_mobile\n"
       ]
      },
      {
       "output_type": "stream",
       "stream": "stdout",
       "text": [
        "Using [ 0.067  0.2    0.2    0.133  0.2    0.2  ]\n",
        "Trimming trust to bella_all_mobile\n"
       ]
      },
      {
       "output_type": "stream",
       "stream": "stdout",
       "text": [
        "Using [ 0.083  0.25   0.25   0.25   0.083  0.083]\n",
        "Trimming trust to bella_all_mobile\n"
       ]
      },
      {
       "output_type": "stream",
       "stream": "stdout",
       "text": [
        "Using [ 0.077  0.231  0.231  0.231  0.077  0.154]\n",
        "Trimming trust to bella_all_mobile\n"
       ]
      },
      {
       "output_type": "stream",
       "stream": "stdout",
       "text": [
        "Using [ 0.071  0.214  0.214  0.214  0.071  0.214]\n",
        "Trimming trust to bella_all_mobile\n"
       ]
      },
      {
       "output_type": "stream",
       "stream": "stdout",
       "text": [
        "Using [ 0.077  0.231  0.231  0.231  0.154  0.077]\n",
        "Trimming trust to bella_all_mobile\n"
       ]
      },
      {
       "output_type": "stream",
       "stream": "stderr",
       "text": [
        "Exception in thread Thread-1531:\n",
        "Traceback (most recent call last):\n",
        "  File \"/usr/lib/python2.7/threading.py\", line 810, in __bootstrap_inner\n",
        "    self.run()\n",
        "  File \"/usr/lib/python2.7/dist-packages/zmq/utils/garbage.py\", line 34, in run\n",
        "    s.bind(self.gc.url)\n",
        "  File \"socket.pyx\", line 444, in zmq.backend.cython.socket.Socket.bind (zmq/backend/cython/socket.c:4077)\n",
        "  File \"checkrc.pxd\", line 21, in zmq.backend.cython.checkrc._check_rc (zmq/backend/cython/socket.c:6033)\n",
        "ZMQError: Address already in use\n"
       ]
      },
      {
       "output_type": "stream",
       "stream": "stdout",
       "text": [
        "Using [ 0.071  0.214  0.214  0.214  0.143  0.143]\n",
        "Trimming trust to bella_all_mobile\n"
       ]
      },
      {
       "output_type": "stream",
       "stream": "stdout",
       "text": [
        "Using [ 0.067  0.2    0.2    0.2    0.133  0.2  ]\n",
        "Trimming trust to bella_all_mobile\n"
       ]
      },
      {
       "output_type": "stream",
       "stream": "stdout",
       "text": [
        "Using [ 0.071  0.214  0.214  0.214  0.214  0.071]\n",
        "Trimming trust to bella_all_mobile\n"
       ]
      },
      {
       "output_type": "stream",
       "stream": "stdout",
       "text": [
        "Using [ 0.067  0.2    0.2    0.2    0.2    0.133]\n",
        "Trimming trust to bella_all_mobile\n"
       ]
      },
      {
       "output_type": "stream",
       "stream": "stdout",
       "text": [
        "Using [ 0.062  0.188  0.188  0.188  0.188  0.188]\n",
        "Trimming trust to bella_all_mobile\n"
       ]
      },
      {
       "output_type": "stream",
       "stream": "stdout",
       "text": [
        "Using [ 0.286  0.143  0.143  0.143  0.143  0.143]\n",
        "Trimming trust to bella_all_mobile\n"
       ]
      },
      {
       "output_type": "stream",
       "stream": "stdout",
       "text": [
        "Using [ 0.25   0.125  0.125  0.125  0.125  0.25 ]\n",
        "Trimming trust to bella_all_mobile\n"
       ]
      },
      {
       "output_type": "stream",
       "stream": "stdout",
       "text": [
        "Using [ 0.222  0.111  0.111  0.111  0.111  0.333]\n",
        "Trimming trust to bella_all_mobile\n"
       ]
      },
      {
       "output_type": "stream",
       "stream": "stdout",
       "text": [
        "Using [ 0.25   0.125  0.125  0.125  0.25   0.125]\n",
        "Trimming trust to bella_all_mobile\n"
       ]
      },
      {
       "output_type": "stream",
       "stream": "stdout",
       "text": [
        "Using [ 0.222  0.111  0.111  0.111  0.222  0.222]\n",
        "Trimming trust to bella_all_mobile\n"
       ]
      },
      {
       "output_type": "stream",
       "stream": "stdout",
       "text": [
        "Using [ 0.2  0.1  0.1  0.1  0.2  0.3]\n",
        "Trimming trust to bella_all_mobile\n"
       ]
      },
      {
       "output_type": "stream",
       "stream": "stdout",
       "text": [
        "Using [ 0.222  0.111  0.111  0.111  0.333  0.111]\n",
        "Trimming trust to bella_all_mobile\n"
       ]
      },
      {
       "output_type": "stream",
       "stream": "stdout",
       "text": [
        "Using [ 0.2  0.1  0.1  0.1  0.3  0.2]\n",
        "Trimming trust to bella_all_mobile\n"
       ]
      },
      {
       "output_type": "stream",
       "stream": "stdout",
       "text": [
        "Using [ 0.182  0.091  0.091  0.091  0.273  0.273]\n",
        "Trimming trust to bella_all_mobile\n"
       ]
      },
      {
       "output_type": "stream",
       "stream": "stdout",
       "text": [
        "Using [ 0.25   0.125  0.125  0.25   0.125  0.125]\n",
        "Trimming trust to bella_all_mobile\n"
       ]
      },
      {
       "output_type": "stream",
       "stream": "stdout",
       "text": [
        "Using [ 0.222  0.111  0.111  0.222  0.111  0.222]\n",
        "Trimming trust to bella_all_mobile\n"
       ]
      },
      {
       "output_type": "stream",
       "stream": "stdout",
       "text": [
        "Using [ 0.2  0.1  0.1  0.2  0.1  0.3]\n",
        "Trimming trust to bella_all_mobile\n"
       ]
      },
      {
       "output_type": "stream",
       "stream": "stdout",
       "text": [
        "Using [ 0.222  0.111  0.111  0.222  0.222  0.111]\n",
        "Trimming trust to bella_all_mobile\n"
       ]
      },
      {
       "output_type": "stream",
       "stream": "stdout",
       "text": [
        "Using [ 0.2  0.1  0.1  0.2  0.2  0.2]\n",
        "Trimming trust to bella_all_mobile\n"
       ]
      },
      {
       "output_type": "stream",
       "stream": "stdout",
       "text": [
        "Using [ 0.182  0.091  0.091  0.182  0.182  0.273]\n",
        "Trimming trust to bella_all_mobile\n"
       ]
      },
      {
       "output_type": "stream",
       "stream": "stdout",
       "text": [
        "Using [ 0.2  0.1  0.1  0.2  0.3  0.1]\n",
        "Trimming trust to bella_all_mobile\n"
       ]
      },
      {
       "output_type": "stream",
       "stream": "stdout",
       "text": [
        "Using [ 0.182  0.091  0.091  0.182  0.273  0.182]\n",
        "Trimming trust to bella_all_mobile\n"
       ]
      },
      {
       "output_type": "stream",
       "stream": "stdout",
       "text": [
        "Using [ 0.167  0.083  0.083  0.167  0.25   0.25 ]\n",
        "Trimming trust to bella_all_mobile\n"
       ]
      },
      {
       "output_type": "stream",
       "stream": "stdout",
       "text": [
        "Using [ 0.222  0.111  0.111  0.333  0.111  0.111]\n",
        "Trimming trust to bella_all_mobile\n"
       ]
      },
      {
       "output_type": "stream",
       "stream": "stdout",
       "text": [
        "Using [ 0.2  0.1  0.1  0.3  0.1  0.2]\n",
        "Trimming trust to bella_all_mobile\n"
       ]
      },
      {
       "output_type": "stream",
       "stream": "stdout",
       "text": [
        "Using [ 0.182  0.091  0.091  0.273  0.091  0.273]\n",
        "Trimming trust to bella_all_mobile\n"
       ]
      },
      {
       "output_type": "stream",
       "stream": "stdout",
       "text": [
        "Using [ 0.2  0.1  0.1  0.3  0.2  0.1]\n",
        "Trimming trust to bella_all_mobile\n"
       ]
      },
      {
       "output_type": "stream",
       "stream": "stdout",
       "text": [
        "Using [ 0.182  0.091  0.091  0.273  0.182  0.182]\n",
        "Trimming trust to bella_all_mobile\n"
       ]
      },
      {
       "output_type": "stream",
       "stream": "stdout",
       "text": [
        "Using [ 0.167  0.083  0.083  0.25   0.167  0.25 ]\n",
        "Trimming trust to bella_all_mobile\n"
       ]
      },
      {
       "output_type": "stream",
       "stream": "stdout",
       "text": [
        "Using [ 0.182  0.091  0.091  0.273  0.273  0.091]\n",
        "Trimming trust to bella_all_mobile\n"
       ]
      },
      {
       "output_type": "stream",
       "stream": "stdout",
       "text": [
        "Using [ 0.167  0.083  0.083  0.25   0.25   0.167]\n",
        "Trimming trust to bella_all_mobile\n"
       ]
      },
      {
       "output_type": "stream",
       "stream": "stdout",
       "text": [
        "Using [ 0.154  0.077  0.077  0.231  0.231  0.231]\n",
        "Trimming trust to bella_all_mobile\n"
       ]
      },
      {
       "output_type": "stream",
       "stream": "stdout",
       "text": [
        "Using [ 0.25   0.125  0.25   0.125  0.125  0.125]\n",
        "Trimming trust to bella_all_mobile\n"
       ]
      },
      {
       "output_type": "stream",
       "stream": "stdout",
       "text": [
        "Using [ 0.222  0.111  0.222  0.111  0.111  0.222]\n",
        "Trimming trust to bella_all_mobile\n"
       ]
      },
      {
       "output_type": "stream",
       "stream": "stdout",
       "text": [
        "Using [ 0.2  0.1  0.2  0.1  0.1  0.3]\n",
        "Trimming trust to bella_all_mobile\n"
       ]
      },
      {
       "output_type": "stream",
       "stream": "stdout",
       "text": [
        "Using [ 0.222  0.111  0.222  0.111  0.222  0.111]\n",
        "Trimming trust to bella_all_mobile\n"
       ]
      },
      {
       "output_type": "stream",
       "stream": "stdout",
       "text": [
        "Using [ 0.2  0.1  0.2  0.1  0.2  0.2]\n",
        "Trimming trust to bella_all_mobile\n"
       ]
      },
      {
       "output_type": "stream",
       "stream": "stdout",
       "text": [
        "Using [ 0.182  0.091  0.182  0.091  0.182  0.273]\n",
        "Trimming trust to bella_all_mobile\n"
       ]
      },
      {
       "output_type": "stream",
       "stream": "stdout",
       "text": [
        "Using [ 0.2  0.1  0.2  0.1  0.3  0.1]\n",
        "Trimming trust to bella_all_mobile\n"
       ]
      },
      {
       "output_type": "stream",
       "stream": "stdout",
       "text": [
        "Using [ 0.182  0.091  0.182  0.091  0.273  0.182]\n",
        "Trimming trust to bella_all_mobile\n"
       ]
      },
      {
       "output_type": "stream",
       "stream": "stdout",
       "text": [
        "Using [ 0.167  0.083  0.167  0.083  0.25   0.25 ]\n",
        "Trimming trust to bella_all_mobile\n"
       ]
      },
      {
       "output_type": "stream",
       "stream": "stdout",
       "text": [
        "Using [ 0.222  0.111  0.222  0.222  0.111  0.111]\n",
        "Trimming trust to bella_all_mobile\n"
       ]
      },
      {
       "output_type": "stream",
       "stream": "stdout",
       "text": [
        "Using [ 0.2  0.1  0.2  0.2  0.1  0.2]\n",
        "Trimming trust to bella_all_mobile\n"
       ]
      },
      {
       "output_type": "stream",
       "stream": "stdout",
       "text": [
        "Using [ 0.182  0.091  0.182  0.182  0.091  0.273]\n",
        "Trimming trust to bella_all_mobile\n"
       ]
      },
      {
       "output_type": "stream",
       "stream": "stdout",
       "text": [
        "Using [ 0.2  0.1  0.2  0.2  0.2  0.1]\n",
        "Trimming trust to bella_all_mobile\n"
       ]
      },
      {
       "output_type": "stream",
       "stream": "stdout",
       "text": [
        "Using [ 0.182  0.091  0.182  0.182  0.182  0.182]\n",
        "Trimming trust to bella_all_mobile\n"
       ]
      },
      {
       "output_type": "stream",
       "stream": "stdout",
       "text": [
        "Using [ 0.167  0.083  0.167  0.167  0.167  0.25 ]\n",
        "Trimming trust to bella_all_mobile\n"
       ]
      },
      {
       "output_type": "stream",
       "stream": "stdout",
       "text": [
        "Using [ 0.182  0.091  0.182  0.182  0.273  0.091]\n",
        "Trimming trust to bella_all_mobile\n"
       ]
      },
      {
       "output_type": "stream",
       "stream": "stdout",
       "text": [
        "Using [ 0.167  0.083  0.167  0.167  0.25   0.167]\n",
        "Trimming trust to bella_all_mobile\n"
       ]
      },
      {
       "output_type": "stream",
       "stream": "stdout",
       "text": [
        "Using [ 0.154  0.077  0.154  0.154  0.231  0.231]\n",
        "Trimming trust to bella_all_mobile\n"
       ]
      },
      {
       "output_type": "stream",
       "stream": "stdout",
       "text": [
        "Using [ 0.2  0.1  0.2  0.3  0.1  0.1]\n",
        "Trimming trust to bella_all_mobile\n"
       ]
      },
      {
       "output_type": "stream",
       "stream": "stdout",
       "text": [
        "Using [ 0.182  0.091  0.182  0.273  0.091  0.182]\n",
        "Trimming trust to bella_all_mobile\n"
       ]
      },
      {
       "output_type": "stream",
       "stream": "stdout",
       "text": [
        "Using [ 0.167  0.083  0.167  0.25   0.083  0.25 ]\n",
        "Trimming trust to bella_all_mobile\n"
       ]
      },
      {
       "output_type": "stream",
       "stream": "stdout",
       "text": [
        "Using [ 0.182  0.091  0.182  0.273  0.182  0.091]\n",
        "Trimming trust to bella_all_mobile\n"
       ]
      },
      {
       "output_type": "stream",
       "stream": "stdout",
       "text": [
        "Using [ 0.167  0.083  0.167  0.25   0.167  0.167]\n",
        "Trimming trust to bella_all_mobile\n"
       ]
      },
      {
       "output_type": "stream",
       "stream": "stdout",
       "text": [
        "Using [ 0.154  0.077  0.154  0.231  0.154  0.231]\n",
        "Trimming trust to bella_all_mobile\n"
       ]
      },
      {
       "output_type": "stream",
       "stream": "stdout",
       "text": [
        "Using [ 0.167  0.083  0.167  0.25   0.25   0.083]\n",
        "Trimming trust to bella_all_mobile\n"
       ]
      },
      {
       "output_type": "stream",
       "stream": "stderr",
       "text": [
        "Exception in thread Thread-1873:\n",
        "Traceback (most recent call last):\n",
        "  File \"/usr/lib/python2.7/threading.py\", line 810, in __bootstrap_inner\n",
        "    self.run()\n",
        "  File \"/usr/lib/python2.7/dist-packages/zmq/utils/garbage.py\", line 34, in run\n",
        "    s.bind(self.gc.url)\n",
        "  File \"socket.pyx\", line 444, in zmq.backend.cython.socket.Socket.bind (zmq/backend/cython/socket.c:4077)\n",
        "  File \"checkrc.pxd\", line 21, in zmq.backend.cython.checkrc._check_rc (zmq/backend/cython/socket.c:6033)\n",
        "ZMQError: Address already in use\n"
       ]
      },
      {
       "output_type": "stream",
       "stream": "stdout",
       "text": [
        "Using [ 0.154  0.077  0.154  0.231  0.231  0.154]\n",
        "Trimming trust to bella_all_mobile\n"
       ]
      },
      {
       "output_type": "stream",
       "stream": "stdout",
       "text": [
        "Using [ 0.143  0.071  0.143  0.214  0.214  0.214]\n",
        "Trimming trust to bella_all_mobile\n"
       ]
      },
      {
       "output_type": "stream",
       "stream": "stdout",
       "text": [
        "Using [ 0.222  0.111  0.333  0.111  0.111  0.111]\n",
        "Trimming trust to bella_all_mobile\n"
       ]
      },
      {
       "output_type": "stream",
       "stream": "stdout",
       "text": [
        "Using [ 0.2  0.1  0.3  0.1  0.1  0.2]\n",
        "Trimming trust to bella_all_mobile\n"
       ]
      },
      {
       "output_type": "stream",
       "stream": "stdout",
       "text": [
        "Using [ 0.182  0.091  0.273  0.091  0.091  0.273]\n",
        "Trimming trust to bella_all_mobile\n"
       ]
      },
      {
       "output_type": "stream",
       "stream": "stdout",
       "text": [
        "Using [ 0.2  0.1  0.3  0.1  0.2  0.1]\n",
        "Trimming trust to bella_all_mobile\n"
       ]
      },
      {
       "output_type": "stream",
       "stream": "stdout",
       "text": [
        "Using [ 0.182  0.091  0.273  0.091  0.182  0.182]\n",
        "Trimming trust to bella_all_mobile\n"
       ]
      },
      {
       "output_type": "stream",
       "stream": "stdout",
       "text": [
        "Using [ 0.167  0.083  0.25   0.083  0.167  0.25 ]\n",
        "Trimming trust to bella_all_mobile\n"
       ]
      },
      {
       "output_type": "stream",
       "stream": "stdout",
       "text": [
        "Using [ 0.182  0.091  0.273  0.091  0.273  0.091]\n",
        "Trimming trust to bella_all_mobile\n"
       ]
      },
      {
       "output_type": "stream",
       "stream": "stdout",
       "text": [
        "Using [ 0.167  0.083  0.25   0.083  0.25   0.167]\n",
        "Trimming trust to bella_all_mobile\n"
       ]
      },
      {
       "output_type": "stream",
       "stream": "stdout",
       "text": [
        "Using [ 0.154  0.077  0.231  0.077  0.231  0.231]\n",
        "Trimming trust to bella_all_mobile\n"
       ]
      },
      {
       "output_type": "stream",
       "stream": "stdout",
       "text": [
        "Using [ 0.2  0.1  0.3  0.2  0.1  0.1]\n",
        "Trimming trust to bella_all_mobile\n"
       ]
      },
      {
       "output_type": "stream",
       "stream": "stdout",
       "text": [
        "Using [ 0.182  0.091  0.273  0.182  0.091  0.182]\n",
        "Trimming trust to bella_all_mobile\n"
       ]
      },
      {
       "output_type": "stream",
       "stream": "stdout",
       "text": [
        "Using [ 0.167  0.083  0.25   0.167  0.083  0.25 ]\n",
        "Trimming trust to bella_all_mobile\n"
       ]
      },
      {
       "output_type": "stream",
       "stream": "stdout",
       "text": [
        "Using [ 0.182  0.091  0.273  0.182  0.182  0.091]\n",
        "Trimming trust to bella_all_mobile\n"
       ]
      },
      {
       "output_type": "stream",
       "stream": "stdout",
       "text": [
        "Using [ 0.167  0.083  0.25   0.167  0.167  0.167]\n",
        "Trimming trust to bella_all_mobile\n"
       ]
      },
      {
       "output_type": "stream",
       "stream": "stdout",
       "text": [
        "Using [ 0.154  0.077  0.231  0.154  0.154  0.231]\n",
        "Trimming trust to bella_all_mobile\n"
       ]
      },
      {
       "output_type": "stream",
       "stream": "stdout",
       "text": [
        "Using [ 0.167  0.083  0.25   0.167  0.25   0.083]\n",
        "Trimming trust to bella_all_mobile\n"
       ]
      },
      {
       "output_type": "stream",
       "stream": "stdout",
       "text": [
        "Using [ 0.154  0.077  0.231  0.154  0.231  0.154]\n",
        "Trimming trust to bella_all_mobile\n"
       ]
      },
      {
       "output_type": "stream",
       "stream": "stdout",
       "text": [
        "Using [ 0.143  0.071  0.214  0.143  0.214  0.214]\n",
        "Trimming trust to bella_all_mobile\n"
       ]
      },
      {
       "output_type": "stream",
       "stream": "stdout",
       "text": [
        "Using [ 0.182  0.091  0.273  0.273  0.091  0.091]\n",
        "Trimming trust to bella_all_mobile\n"
       ]
      },
      {
       "output_type": "stream",
       "stream": "stdout",
       "text": [
        "Using [ 0.167  0.083  0.25   0.25   0.083  0.167]\n",
        "Trimming trust to bella_all_mobile\n"
       ]
      },
      {
       "output_type": "stream",
       "stream": "stdout",
       "text": [
        "Using [ 0.154  0.077  0.231  0.231  0.077  0.231]\n",
        "Trimming trust to bella_all_mobile\n"
       ]
      },
      {
       "output_type": "stream",
       "stream": "stdout",
       "text": [
        "Using [ 0.167  0.083  0.25   0.25   0.167  0.083]\n",
        "Trimming trust to bella_all_mobile\n"
       ]
      },
      {
       "output_type": "stream",
       "stream": "stdout",
       "text": [
        "Using [ 0.154  0.077  0.231  0.231  0.154  0.154]\n",
        "Trimming trust to bella_all_mobile\n"
       ]
      },
      {
       "output_type": "stream",
       "stream": "stdout",
       "text": [
        "Using [ 0.143  0.071  0.214  0.214  0.143  0.214]\n",
        "Trimming trust to bella_all_mobile\n"
       ]
      },
      {
       "output_type": "stream",
       "stream": "stdout",
       "text": [
        "Using [ 0.154  0.077  0.231  0.231  0.231  0.077]\n",
        "Trimming trust to bella_all_mobile\n"
       ]
      },
      {
       "output_type": "stream",
       "stream": "stdout",
       "text": [
        "Using [ 0.143  0.071  0.214  0.214  0.214  0.143]\n",
        "Trimming trust to bella_all_mobile\n"
       ]
      },
      {
       "output_type": "stream",
       "stream": "stdout",
       "text": [
        "Using [ 0.133  0.067  0.2    0.2    0.2    0.2  ]\n",
        "Trimming trust to bella_all_mobile\n"
       ]
      },
      {
       "output_type": "stream",
       "stream": "stdout",
       "text": [
        "Using [ 0.25   0.25   0.125  0.125  0.125  0.125]\n",
        "Trimming trust to bella_all_mobile\n"
       ]
      },
      {
       "output_type": "stream",
       "stream": "stdout",
       "text": [
        "Using [ 0.222  0.222  0.111  0.111  0.111  0.222]\n",
        "Trimming trust to bella_all_mobile\n"
       ]
      },
      {
       "output_type": "stream",
       "stream": "stdout",
       "text": [
        "Using [ 0.2  0.2  0.1  0.1  0.1  0.3]\n",
        "Trimming trust to bella_all_mobile\n"
       ]
      },
      {
       "output_type": "stream",
       "stream": "stdout",
       "text": [
        "Using [ 0.222  0.222  0.111  0.111  0.222  0.111]\n",
        "Trimming trust to bella_all_mobile\n"
       ]
      },
      {
       "output_type": "stream",
       "stream": "stdout",
       "text": [
        "Using [ 0.2  0.2  0.1  0.1  0.2  0.2]\n",
        "Trimming trust to bella_all_mobile\n"
       ]
      },
      {
       "output_type": "stream",
       "stream": "stdout",
       "text": [
        "Using [ 0.182  0.182  0.091  0.091  0.182  0.273]\n",
        "Trimming trust to bella_all_mobile\n"
       ]
      },
      {
       "output_type": "stream",
       "stream": "stdout",
       "text": [
        "Using [ 0.2  0.2  0.1  0.1  0.3  0.1]\n",
        "Trimming trust to bella_all_mobile\n"
       ]
      },
      {
       "output_type": "stream",
       "stream": "stdout",
       "text": [
        "Using [ 0.182  0.182  0.091  0.091  0.273  0.182]\n",
        "Trimming trust to bella_all_mobile\n"
       ]
      },
      {
       "output_type": "stream",
       "stream": "stdout",
       "text": [
        "Using [ 0.167  0.167  0.083  0.083  0.25   0.25 ]\n",
        "Trimming trust to bella_all_mobile\n"
       ]
      },
      {
       "output_type": "stream",
       "stream": "stdout",
       "text": [
        "Using [ 0.222  0.222  0.111  0.222  0.111  0.111]\n",
        "Trimming trust to bella_all_mobile\n"
       ]
      },
      {
       "output_type": "stream",
       "stream": "stdout",
       "text": [
        "Using [ 0.2  0.2  0.1  0.2  0.1  0.2]\n",
        "Trimming trust to bella_all_mobile\n"
       ]
      },
      {
       "output_type": "stream",
       "stream": "stdout",
       "text": [
        "Using [ 0.182  0.182  0.091  0.182  0.091  0.273]\n",
        "Trimming trust to bella_all_mobile\n"
       ]
      },
      {
       "output_type": "stream",
       "stream": "stdout",
       "text": [
        "Using [ 0.2  0.2  0.1  0.2  0.2  0.1]\n",
        "Trimming trust to bella_all_mobile\n"
       ]
      },
      {
       "output_type": "stream",
       "stream": "stdout",
       "text": [
        "Using [ 0.182  0.182  0.091  0.182  0.182  0.182]\n",
        "Trimming trust to bella_all_mobile\n"
       ]
      },
      {
       "output_type": "stream",
       "stream": "stdout",
       "text": [
        "Using [ 0.167  0.167  0.083  0.167  0.167  0.25 ]\n",
        "Trimming trust to bella_all_mobile\n"
       ]
      },
      {
       "output_type": "stream",
       "stream": "stdout",
       "text": [
        "Using [ 0.182  0.182  0.091  0.182  0.273  0.091]\n",
        "Trimming trust to bella_all_mobile\n"
       ]
      },
      {
       "output_type": "stream",
       "stream": "stdout",
       "text": [
        "Using [ 0.167  0.167  0.083  0.167  0.25   0.167]\n",
        "Trimming trust to bella_all_mobile\n"
       ]
      },
      {
       "output_type": "stream",
       "stream": "stdout",
       "text": [
        "Using [ 0.154  0.154  0.077  0.154  0.231  0.231]\n",
        "Trimming trust to bella_all_mobile\n"
       ]
      },
      {
       "output_type": "stream",
       "stream": "stdout",
       "text": [
        "Using [ 0.2  0.2  0.1  0.3  0.1  0.1]\n",
        "Trimming trust to bella_all_mobile\n"
       ]
      },
      {
       "output_type": "stream",
       "stream": "stdout",
       "text": [
        "Using [ 0.182  0.182  0.091  0.273  0.091  0.182]\n",
        "Trimming trust to bella_all_mobile\n"
       ]
      },
      {
       "output_type": "stream",
       "stream": "stdout",
       "text": [
        "Using [ 0.167  0.167  0.083  0.25   0.083  0.25 ]\n",
        "Trimming trust to bella_all_mobile\n"
       ]
      },
      {
       "output_type": "stream",
       "stream": "stdout",
       "text": [
        "Using [ 0.182  0.182  0.091  0.273  0.182  0.091]\n",
        "Trimming trust to bella_all_mobile\n"
       ]
      },
      {
       "output_type": "stream",
       "stream": "stdout",
       "text": [
        "Using [ 0.167  0.167  0.083  0.25   0.167  0.167]\n",
        "Trimming trust to bella_all_mobile\n"
       ]
      },
      {
       "output_type": "stream",
       "stream": "stdout",
       "text": [
        "Using [ 0.154  0.154  0.077  0.231  0.154  0.231]\n",
        "Trimming trust to bella_all_mobile\n"
       ]
      },
      {
       "output_type": "stream",
       "stream": "stdout",
       "text": [
        "Using [ 0.167  0.167  0.083  0.25   0.25   0.083]\n",
        "Trimming trust to bella_all_mobile\n"
       ]
      },
      {
       "output_type": "stream",
       "stream": "stdout",
       "text": [
        "Using [ 0.154  0.154  0.077  0.231  0.231  0.154]\n",
        "Trimming trust to bella_all_mobile\n"
       ]
      },
      {
       "output_type": "stream",
       "stream": "stdout",
       "text": [
        "Using [ 0.143  0.143  0.071  0.214  0.214  0.214]\n",
        "Trimming trust to bella_all_mobile\n"
       ]
      },
      {
       "output_type": "stream",
       "stream": "stdout",
       "text": [
        "Using [ 0.222  0.222  0.222  0.111  0.111  0.111]\n",
        "Trimming trust to bella_all_mobile\n"
       ]
      },
      {
       "output_type": "stream",
       "stream": "stdout",
       "text": [
        "Using [ 0.2  0.2  0.2  0.1  0.1  0.2]\n",
        "Trimming trust to bella_all_mobile\n"
       ]
      },
      {
       "output_type": "stream",
       "stream": "stdout",
       "text": [
        "Using [ 0.182  0.182  0.182  0.091  0.091  0.273]\n",
        "Trimming trust to bella_all_mobile\n"
       ]
      },
      {
       "output_type": "stream",
       "stream": "stdout",
       "text": [
        "Using [ 0.2  0.2  0.2  0.1  0.2  0.1]\n",
        "Trimming trust to bella_all_mobile\n"
       ]
      },
      {
       "output_type": "stream",
       "stream": "stdout",
       "text": [
        "Using [ 0.182  0.182  0.182  0.091  0.182  0.182]\n",
        "Trimming trust to bella_all_mobile\n"
       ]
      },
      {
       "output_type": "stream",
       "stream": "stdout",
       "text": [
        "Using [ 0.167  0.167  0.167  0.083  0.167  0.25 ]\n",
        "Trimming trust to bella_all_mobile\n"
       ]
      },
      {
       "output_type": "stream",
       "stream": "stdout",
       "text": [
        "Using [ 0.182  0.182  0.182  0.091  0.273  0.091]\n",
        "Trimming trust to bella_all_mobile\n"
       ]
      },
      {
       "output_type": "stream",
       "stream": "stdout",
       "text": [
        "Using [ 0.167  0.167  0.167  0.083  0.25   0.167]\n",
        "Trimming trust to bella_all_mobile\n"
       ]
      },
      {
       "output_type": "stream",
       "stream": "stdout",
       "text": [
        "Using [ 0.154  0.154  0.154  0.077  0.231  0.231]\n",
        "Trimming trust to bella_all_mobile\n"
       ]
      },
      {
       "output_type": "stream",
       "stream": "stdout",
       "text": [
        "Using [ 0.2  0.2  0.2  0.2  0.1  0.1]\n",
        "Trimming trust to bella_all_mobile\n"
       ]
      },
      {
       "output_type": "stream",
       "stream": "stdout",
       "text": [
        "Using [ 0.182  0.182  0.182  0.182  0.091  0.182]\n",
        "Trimming trust to bella_all_mobile\n"
       ]
      },
      {
       "output_type": "stream",
       "stream": "stdout",
       "text": [
        "Using [ 0.167  0.167  0.167  0.167  0.083  0.25 ]\n",
        "Trimming trust to bella_all_mobile\n"
       ]
      },
      {
       "output_type": "stream",
       "stream": "stdout",
       "text": [
        "Using [ 0.182  0.182  0.182  0.182  0.182  0.091]\n",
        "Trimming trust to bella_all_mobile\n"
       ]
      },
      {
       "output_type": "stream",
       "stream": "stdout",
       "text": [
        "Using [ 0.167  0.167  0.167  0.167  0.167  0.167]\n",
        "Trimming trust to bella_all_mobile\n"
       ]
      },
      {
       "output_type": "stream",
       "stream": "stdout",
       "text": [
        "Using [ 0.154  0.154  0.154  0.154  0.154  0.231]\n",
        "Trimming trust to bella_all_mobile\n"
       ]
      },
      {
       "output_type": "stream",
       "stream": "stdout",
       "text": [
        "Using [ 0.167  0.167  0.167  0.167  0.25   0.083]\n",
        "Trimming trust to bella_all_mobile\n"
       ]
      },
      {
       "output_type": "stream",
       "stream": "stdout",
       "text": [
        "Using [ 0.154  0.154  0.154  0.154  0.231  0.154]\n",
        "Trimming trust to bella_all_mobile\n"
       ]
      },
      {
       "output_type": "stream",
       "stream": "stdout",
       "text": [
        "Using [ 0.143  0.143  0.143  0.143  0.214  0.214]\n",
        "Trimming trust to bella_all_mobile\n"
       ]
      },
      {
       "output_type": "stream",
       "stream": "stdout",
       "text": [
        "Using [ 0.182  0.182  0.182  0.273  0.091  0.091]\n",
        "Trimming trust to bella_all_mobile\n"
       ]
      },
      {
       "output_type": "stream",
       "stream": "stdout",
       "text": [
        "Using [ 0.167  0.167  0.167  0.25   0.083  0.167]\n",
        "Trimming trust to bella_all_mobile\n"
       ]
      },
      {
       "output_type": "stream",
       "stream": "stdout",
       "text": [
        "Using [ 0.154  0.154  0.154  0.231  0.077  0.231]\n",
        "Trimming trust to bella_all_mobile\n"
       ]
      },
      {
       "output_type": "stream",
       "stream": "stdout",
       "text": [
        "Using [ 0.167  0.167  0.167  0.25   0.167  0.083]\n",
        "Trimming trust to bella_all_mobile\n"
       ]
      },
      {
       "output_type": "stream",
       "stream": "stdout",
       "text": [
        "Using [ 0.154  0.154  0.154  0.231  0.154  0.154]\n",
        "Trimming trust to bella_all_mobile\n"
       ]
      },
      {
       "output_type": "stream",
       "stream": "stdout",
       "text": [
        "Using [ 0.143  0.143  0.143  0.214  0.143  0.214]\n",
        "Trimming trust to bella_all_mobile\n"
       ]
      },
      {
       "output_type": "stream",
       "stream": "stdout",
       "text": [
        "Using [ 0.154  0.154  0.154  0.231  0.231  0.077]\n",
        "Trimming trust to bella_all_mobile\n"
       ]
      },
      {
       "output_type": "stream",
       "stream": "stdout",
       "text": [
        "Using [ 0.143  0.143  0.143  0.214  0.214  0.143]\n",
        "Trimming trust to bella_all_mobile\n"
       ]
      },
      {
       "output_type": "stream",
       "stream": "stdout",
       "text": [
        "Using [ 0.133  0.133  0.133  0.2    0.2    0.2  ]\n",
        "Trimming trust to bella_all_mobile\n"
       ]
      },
      {
       "output_type": "stream",
       "stream": "stdout",
       "text": [
        "Using [ 0.2  0.2  0.3  0.1  0.1  0.1]\n",
        "Trimming trust to bella_all_mobile\n"
       ]
      },
      {
       "output_type": "stream",
       "stream": "stdout",
       "text": [
        "Using [ 0.182  0.182  0.273  0.091  0.091  0.182]\n",
        "Trimming trust to bella_all_mobile\n"
       ]
      },
      {
       "output_type": "stream",
       "stream": "stdout",
       "text": [
        "Using [ 0.167  0.167  0.25   0.083  0.083  0.25 ]\n",
        "Trimming trust to bella_all_mobile\n"
       ]
      },
      {
       "output_type": "stream",
       "stream": "stdout",
       "text": [
        "Using [ 0.182  0.182  0.273  0.091  0.182  0.091]\n",
        "Trimming trust to bella_all_mobile\n"
       ]
      },
      {
       "output_type": "stream",
       "stream": "stdout",
       "text": [
        "Using [ 0.167  0.167  0.25   0.083  0.167  0.167]\n",
        "Trimming trust to bella_all_mobile\n"
       ]
      },
      {
       "output_type": "stream",
       "stream": "stdout",
       "text": [
        "Using [ 0.154  0.154  0.231  0.077  0.154  0.231]\n",
        "Trimming trust to bella_all_mobile\n"
       ]
      },
      {
       "output_type": "stream",
       "stream": "stdout",
       "text": [
        "Using [ 0.167  0.167  0.25   0.083  0.25   0.083]\n",
        "Trimming trust to bella_all_mobile\n"
       ]
      },
      {
       "output_type": "stream",
       "stream": "stdout",
       "text": [
        "Using [ 0.154  0.154  0.231  0.077  0.231  0.154]\n",
        "Trimming trust to bella_all_mobile\n"
       ]
      },
      {
       "output_type": "stream",
       "stream": "stdout",
       "text": [
        "Using [ 0.143  0.143  0.214  0.071  0.214  0.214]\n",
        "Trimming trust to bella_all_mobile\n"
       ]
      },
      {
       "output_type": "stream",
       "stream": "stdout",
       "text": [
        "Using [ 0.182  0.182  0.273  0.182  0.091  0.091]\n",
        "Trimming trust to bella_all_mobile\n"
       ]
      },
      {
       "output_type": "stream",
       "stream": "stdout",
       "text": [
        "Using [ 0.167  0.167  0.25   0.167  0.083  0.167]\n",
        "Trimming trust to bella_all_mobile\n"
       ]
      },
      {
       "output_type": "stream",
       "stream": "stdout",
       "text": [
        "Using [ 0.154  0.154  0.231  0.154  0.077  0.231]\n",
        "Trimming trust to bella_all_mobile\n"
       ]
      },
      {
       "output_type": "stream",
       "stream": "stdout",
       "text": [
        "Using [ 0.167  0.167  0.25   0.167  0.167  0.083]\n",
        "Trimming trust to bella_all_mobile\n"
       ]
      },
      {
       "output_type": "stream",
       "stream": "stdout",
       "text": [
        "Using [ 0.154  0.154  0.231  0.154  0.154  0.154]\n",
        "Trimming trust to bella_all_mobile\n"
       ]
      },
      {
       "output_type": "stream",
       "stream": "stdout",
       "text": [
        "Using [ 0.143  0.143  0.214  0.143  0.143  0.214]\n",
        "Trimming trust to bella_all_mobile\n"
       ]
      },
      {
       "output_type": "stream",
       "stream": "stdout",
       "text": [
        "Using [ 0.154  0.154  0.231  0.154  0.231  0.077]\n",
        "Trimming trust to bella_all_mobile\n"
       ]
      },
      {
       "output_type": "stream",
       "stream": "stdout",
       "text": [
        "Using [ 0.143  0.143  0.214  0.143  0.214  0.143]\n",
        "Trimming trust to bella_all_mobile\n"
       ]
      },
      {
       "output_type": "stream",
       "stream": "stdout",
       "text": [
        "Using [ 0.133  0.133  0.2    0.133  0.2    0.2  ]\n",
        "Trimming trust to bella_all_mobile\n"
       ]
      },
      {
       "output_type": "stream",
       "stream": "stdout",
       "text": [
        "Using [ 0.167  0.167  0.25   0.25   0.083  0.083]\n",
        "Trimming trust to bella_all_mobile\n"
       ]
      },
      {
       "output_type": "stream",
       "stream": "stdout",
       "text": [
        "Using [ 0.154  0.154  0.231  0.231  0.077  0.154]\n",
        "Trimming trust to bella_all_mobile\n"
       ]
      },
      {
       "output_type": "stream",
       "stream": "stdout",
       "text": [
        "Using [ 0.143  0.143  0.214  0.214  0.071  0.214]\n",
        "Trimming trust to bella_all_mobile\n"
       ]
      },
      {
       "output_type": "stream",
       "stream": "stdout",
       "text": [
        "Using [ 0.154  0.154  0.231  0.231  0.154  0.077]\n",
        "Trimming trust to bella_all_mobile\n"
       ]
      },
      {
       "output_type": "stream",
       "stream": "stdout",
       "text": [
        "Using [ 0.143  0.143  0.214  0.214  0.143  0.143]\n",
        "Trimming trust to bella_all_mobile\n"
       ]
      },
      {
       "output_type": "stream",
       "stream": "stdout",
       "text": [
        "Using [ 0.133  0.133  0.2    0.2    0.133  0.2  ]\n",
        "Trimming trust to bella_all_mobile\n"
       ]
      },
      {
       "output_type": "stream",
       "stream": "stdout",
       "text": [
        "Using [ 0.143  0.143  0.214  0.214  0.214  0.071]\n",
        "Trimming trust to bella_all_mobile\n"
       ]
      },
      {
       "output_type": "stream",
       "stream": "stdout",
       "text": [
        "Using [ 0.133  0.133  0.2    0.2    0.2    0.133]\n",
        "Trimming trust to bella_all_mobile\n"
       ]
      },
      {
       "output_type": "stream",
       "stream": "stdout",
       "text": [
        "Using [ 0.125  0.125  0.188  0.188  0.188  0.188]\n",
        "Trimming trust to bella_all_mobile\n"
       ]
      },
      {
       "output_type": "stream",
       "stream": "stdout",
       "text": [
        "Using [ 0.222  0.333  0.111  0.111  0.111  0.111]\n",
        "Trimming trust to bella_all_mobile\n"
       ]
      },
      {
       "output_type": "stream",
       "stream": "stdout",
       "text": [
        "Using [ 0.2  0.3  0.1  0.1  0.1  0.2]\n",
        "Trimming trust to bella_all_mobile\n"
       ]
      },
      {
       "output_type": "stream",
       "stream": "stdout",
       "text": [
        "Using [ 0.182  0.273  0.091  0.091  0.091  0.273]\n",
        "Trimming trust to bella_all_mobile\n"
       ]
      },
      {
       "output_type": "stream",
       "stream": "stdout",
       "text": [
        "Using [ 0.2  0.3  0.1  0.1  0.2  0.1]\n",
        "Trimming trust to bella_all_mobile\n"
       ]
      },
      {
       "output_type": "stream",
       "stream": "stdout",
       "text": [
        "Using [ 0.182  0.273  0.091  0.091  0.182  0.182]\n",
        "Trimming trust to bella_all_mobile\n"
       ]
      },
      {
       "output_type": "stream",
       "stream": "stdout",
       "text": [
        "Using [ 0.167  0.25   0.083  0.083  0.167  0.25 ]\n",
        "Trimming trust to bella_all_mobile\n"
       ]
      },
      {
       "output_type": "stream",
       "stream": "stdout",
       "text": [
        "Using [ 0.182  0.273  0.091  0.091  0.273  0.091]\n",
        "Trimming trust to bella_all_mobile\n"
       ]
      },
      {
       "output_type": "stream",
       "stream": "stdout",
       "text": [
        "Using [ 0.167  0.25   0.083  0.083  0.25   0.167]\n",
        "Trimming trust to bella_all_mobile\n"
       ]
      },
      {
       "output_type": "stream",
       "stream": "stdout",
       "text": [
        "Using [ 0.154  0.231  0.077  0.077  0.231  0.231]\n",
        "Trimming trust to bella_all_mobile\n"
       ]
      },
      {
       "output_type": "stream",
       "stream": "stdout",
       "text": [
        "Using [ 0.2  0.3  0.1  0.2  0.1  0.1]\n",
        "Trimming trust to bella_all_mobile\n"
       ]
      },
      {
       "output_type": "stream",
       "stream": "stdout",
       "text": [
        "Using [ 0.182  0.273  0.091  0.182  0.091  0.182]\n",
        "Trimming trust to bella_all_mobile\n"
       ]
      },
      {
       "output_type": "stream",
       "stream": "stdout",
       "text": [
        "Using [ 0.167  0.25   0.083  0.167  0.083  0.25 ]\n",
        "Trimming trust to bella_all_mobile\n"
       ]
      },
      {
       "output_type": "stream",
       "stream": "stdout",
       "text": [
        "Using [ 0.182  0.273  0.091  0.182  0.182  0.091]\n",
        "Trimming trust to bella_all_mobile\n"
       ]
      },
      {
       "output_type": "stream",
       "stream": "stdout",
       "text": [
        "Using [ 0.167  0.25   0.083  0.167  0.167  0.167]\n",
        "Trimming trust to bella_all_mobile\n"
       ]
      },
      {
       "output_type": "stream",
       "stream": "stdout",
       "text": [
        "Using [ 0.154  0.231  0.077  0.154  0.154  0.231]\n",
        "Trimming trust to bella_all_mobile\n"
       ]
      },
      {
       "output_type": "stream",
       "stream": "stdout",
       "text": [
        "Using [ 0.167  0.25   0.083  0.167  0.25   0.083]\n",
        "Trimming trust to bella_all_mobile\n"
       ]
      },
      {
       "output_type": "stream",
       "stream": "stdout",
       "text": [
        "Using [ 0.154  0.231  0.077  0.154  0.231  0.154]\n",
        "Trimming trust to bella_all_mobile\n"
       ]
      },
      {
       "output_type": "stream",
       "stream": "stdout",
       "text": [
        "Using [ 0.143  0.214  0.071  0.143  0.214  0.214]\n",
        "Trimming trust to bella_all_mobile\n"
       ]
      },
      {
       "output_type": "stream",
       "stream": "stdout",
       "text": [
        "Using [ 0.182  0.273  0.091  0.273  0.091  0.091]\n",
        "Trimming trust to bella_all_mobile\n"
       ]
      },
      {
       "output_type": "stream",
       "stream": "stdout",
       "text": [
        "Using [ 0.167  0.25   0.083  0.25   0.083  0.167]\n",
        "Trimming trust to bella_all_mobile\n"
       ]
      },
      {
       "output_type": "stream",
       "stream": "stdout",
       "text": [
        "Using [ 0.154  0.231  0.077  0.231  0.077  0.231]\n",
        "Trimming trust to bella_all_mobile\n"
       ]
      },
      {
       "output_type": "stream",
       "stream": "stdout",
       "text": [
        "Using [ 0.167  0.25   0.083  0.25   0.167  0.083]\n",
        "Trimming trust to bella_all_mobile\n"
       ]
      },
      {
       "output_type": "stream",
       "stream": "stdout",
       "text": [
        "Using [ 0.154  0.231  0.077  0.231  0.154  0.154]\n",
        "Trimming trust to bella_all_mobile\n"
       ]
      },
      {
       "output_type": "stream",
       "stream": "stdout",
       "text": [
        "Using [ 0.143  0.214  0.071  0.214  0.143  0.214]\n",
        "Trimming trust to bella_all_mobile\n"
       ]
      },
      {
       "output_type": "stream",
       "stream": "stdout",
       "text": [
        "Using [ 0.154  0.231  0.077  0.231  0.231  0.077]\n",
        "Trimming trust to bella_all_mobile\n"
       ]
      },
      {
       "output_type": "stream",
       "stream": "stdout",
       "text": [
        "Using [ 0.143  0.214  0.071  0.214  0.214  0.143]\n",
        "Trimming trust to bella_all_mobile\n"
       ]
      },
      {
       "output_type": "stream",
       "stream": "stdout",
       "text": [
        "Using [ 0.133  0.2    0.067  0.2    0.2    0.2  ]\n",
        "Trimming trust to bella_all_mobile\n"
       ]
      },
      {
       "output_type": "stream",
       "stream": "stdout",
       "text": [
        "Using [ 0.2  0.3  0.2  0.1  0.1  0.1]\n",
        "Trimming trust to bella_all_mobile\n"
       ]
      },
      {
       "output_type": "stream",
       "stream": "stdout",
       "text": [
        "Using [ 0.182  0.273  0.182  0.091  0.091  0.182]\n",
        "Trimming trust to bella_all_mobile\n"
       ]
      },
      {
       "output_type": "stream",
       "stream": "stdout",
       "text": [
        "Using [ 0.167  0.25   0.167  0.083  0.083  0.25 ]\n",
        "Trimming trust to bella_all_mobile\n"
       ]
      },
      {
       "output_type": "stream",
       "stream": "stdout",
       "text": [
        "Using [ 0.182  0.273  0.182  0.091  0.182  0.091]\n",
        "Trimming trust to bella_all_mobile\n"
       ]
      },
      {
       "output_type": "stream",
       "stream": "stdout",
       "text": [
        "Using [ 0.167  0.25   0.167  0.083  0.167  0.167]\n",
        "Trimming trust to bella_all_mobile\n"
       ]
      },
      {
       "output_type": "stream",
       "stream": "stdout",
       "text": [
        "Using [ 0.154  0.231  0.154  0.077  0.154  0.231]\n",
        "Trimming trust to bella_all_mobile\n"
       ]
      },
      {
       "output_type": "stream",
       "stream": "stdout",
       "text": [
        "Using [ 0.167  0.25   0.167  0.083  0.25   0.083]\n",
        "Trimming trust to bella_all_mobile\n"
       ]
      },
      {
       "output_type": "stream",
       "stream": "stdout",
       "text": [
        "Using [ 0.154  0.231  0.154  0.077  0.231  0.154]\n",
        "Trimming trust to bella_all_mobile\n"
       ]
      },
      {
       "output_type": "stream",
       "stream": "stdout",
       "text": [
        "Using [ 0.143  0.214  0.143  0.071  0.214  0.214]\n",
        "Trimming trust to bella_all_mobile\n"
       ]
      },
      {
       "output_type": "stream",
       "stream": "stdout",
       "text": [
        "Using [ 0.182  0.273  0.182  0.182  0.091  0.091]\n",
        "Trimming trust to bella_all_mobile\n"
       ]
      },
      {
       "output_type": "stream",
       "stream": "stdout",
       "text": [
        "Using [ 0.167  0.25   0.167  0.167  0.083  0.167]\n",
        "Trimming trust to bella_all_mobile\n"
       ]
      },
      {
       "output_type": "stream",
       "stream": "stdout",
       "text": [
        "Using [ 0.154  0.231  0.154  0.154  0.077  0.231]\n",
        "Trimming trust to bella_all_mobile\n"
       ]
      },
      {
       "output_type": "stream",
       "stream": "stdout",
       "text": [
        "Using [ 0.167  0.25   0.167  0.167  0.167  0.083]\n",
        "Trimming trust to bella_all_mobile\n"
       ]
      },
      {
       "output_type": "stream",
       "stream": "stdout",
       "text": [
        "Using [ 0.154  0.231  0.154  0.154  0.154  0.154]\n",
        "Trimming trust to bella_all_mobile\n"
       ]
      },
      {
       "output_type": "stream",
       "stream": "stdout",
       "text": [
        "Using [ 0.143  0.214  0.143  0.143  0.143  0.214]\n",
        "Trimming trust to bella_all_mobile\n"
       ]
      },
      {
       "output_type": "stream",
       "stream": "stdout",
       "text": [
        "Using [ 0.154  0.231  0.154  0.154  0.231  0.077]\n",
        "Trimming trust to bella_all_mobile\n"
       ]
      },
      {
       "output_type": "stream",
       "stream": "stdout",
       "text": [
        "Using [ 0.143  0.214  0.143  0.143  0.214  0.143]\n",
        "Trimming trust to bella_all_mobile\n"
       ]
      },
      {
       "output_type": "stream",
       "stream": "stdout",
       "text": [
        "Using [ 0.133  0.2    0.133  0.133  0.2    0.2  ]\n",
        "Trimming trust to bella_all_mobile\n"
       ]
      },
      {
       "output_type": "stream",
       "stream": "stdout",
       "text": [
        "Using [ 0.167  0.25   0.167  0.25   0.083  0.083]\n",
        "Trimming trust to bella_all_mobile\n"
       ]
      },
      {
       "output_type": "stream",
       "stream": "stdout",
       "text": [
        "Using [ 0.154  0.231  0.154  0.231  0.077  0.154]\n",
        "Trimming trust to bella_all_mobile\n"
       ]
      },
      {
       "output_type": "stream",
       "stream": "stdout",
       "text": [
        "Using [ 0.143  0.214  0.143  0.214  0.071  0.214]\n",
        "Trimming trust to bella_all_mobile\n"
       ]
      },
      {
       "output_type": "stream",
       "stream": "stdout",
       "text": [
        "Using [ 0.154  0.231  0.154  0.231  0.154  0.077]\n",
        "Trimming trust to bella_all_mobile\n"
       ]
      },
      {
       "output_type": "stream",
       "stream": "stdout",
       "text": [
        "Using [ 0.143  0.214  0.143  0.214  0.143  0.143]\n",
        "Trimming trust to bella_all_mobile\n"
       ]
      },
      {
       "output_type": "stream",
       "stream": "stdout",
       "text": [
        "Using [ 0.133  0.2    0.133  0.2    0.133  0.2  ]\n",
        "Trimming trust to bella_all_mobile\n"
       ]
      },
      {
       "output_type": "stream",
       "stream": "stdout",
       "text": [
        "Using [ 0.143  0.214  0.143  0.214  0.214  0.071]\n",
        "Trimming trust to bella_all_mobile\n"
       ]
      },
      {
       "output_type": "stream",
       "stream": "stdout",
       "text": [
        "Using [ 0.133  0.2    0.133  0.2    0.2    0.133]\n",
        "Trimming trust to bella_all_mobile\n"
       ]
      },
      {
       "output_type": "stream",
       "stream": "stdout",
       "text": [
        "Using [ 0.125  0.188  0.125  0.188  0.188  0.188]\n",
        "Trimming trust to bella_all_mobile\n"
       ]
      },
      {
       "output_type": "stream",
       "stream": "stdout",
       "text": [
        "Using [ 0.182  0.273  0.273  0.091  0.091  0.091]\n",
        "Trimming trust to bella_all_mobile\n"
       ]
      },
      {
       "output_type": "stream",
       "stream": "stdout",
       "text": [
        "Using [ 0.167  0.25   0.25   0.083  0.083  0.167]\n",
        "Trimming trust to bella_all_mobile\n"
       ]
      },
      {
       "output_type": "stream",
       "stream": "stdout",
       "text": [
        "Using [ 0.154  0.231  0.231  0.077  0.077  0.231]\n",
        "Trimming trust to bella_all_mobile\n"
       ]
      },
      {
       "output_type": "stream",
       "stream": "stdout",
       "text": [
        "Using [ 0.167  0.25   0.25   0.083  0.167  0.083]\n",
        "Trimming trust to bella_all_mobile\n"
       ]
      },
      {
       "output_type": "stream",
       "stream": "stdout",
       "text": [
        "Using [ 0.154  0.231  0.231  0.077  0.154  0.154]\n",
        "Trimming trust to bella_all_mobile\n"
       ]
      },
      {
       "output_type": "stream",
       "stream": "stdout",
       "text": [
        "Using [ 0.143  0.214  0.214  0.071  0.143  0.214]\n",
        "Trimming trust to bella_all_mobile\n"
       ]
      },
      {
       "output_type": "stream",
       "stream": "stdout",
       "text": [
        "Using [ 0.154  0.231  0.231  0.077  0.231  0.077]\n",
        "Trimming trust to bella_all_mobile\n"
       ]
      },
      {
       "output_type": "stream",
       "stream": "stdout",
       "text": [
        "Using [ 0.143  0.214  0.214  0.071  0.214  0.143]\n",
        "Trimming trust to bella_all_mobile\n"
       ]
      },
      {
       "output_type": "stream",
       "stream": "stdout",
       "text": [
        "Using [ 0.133  0.2    0.2    0.067  0.2    0.2  ]\n",
        "Trimming trust to bella_all_mobile\n"
       ]
      },
      {
       "output_type": "stream",
       "stream": "stdout",
       "text": [
        "Using [ 0.167  0.25   0.25   0.167  0.083  0.083]\n",
        "Trimming trust to bella_all_mobile\n"
       ]
      },
      {
       "output_type": "stream",
       "stream": "stdout",
       "text": [
        "Using [ 0.154  0.231  0.231  0.154  0.077  0.154]\n",
        "Trimming trust to bella_all_mobile\n"
       ]
      },
      {
       "output_type": "stream",
       "stream": "stdout",
       "text": [
        "Using [ 0.143  0.214  0.214  0.143  0.071  0.214]\n",
        "Trimming trust to bella_all_mobile\n"
       ]
      },
      {
       "output_type": "stream",
       "stream": "stdout",
       "text": [
        "Using [ 0.154  0.231  0.231  0.154  0.154  0.077]\n",
        "Trimming trust to bella_all_mobile\n"
       ]
      },
      {
       "output_type": "stream",
       "stream": "stdout",
       "text": [
        "Using [ 0.143  0.214  0.214  0.143  0.143  0.143]\n",
        "Trimming trust to bella_all_mobile\n"
       ]
      },
      {
       "output_type": "stream",
       "stream": "stdout",
       "text": [
        "Using [ 0.133  0.2    0.2    0.133  0.133  0.2  ]\n",
        "Trimming trust to bella_all_mobile\n"
       ]
      },
      {
       "output_type": "stream",
       "stream": "stdout",
       "text": [
        "Using [ 0.143  0.214  0.214  0.143  0.214  0.071]\n",
        "Trimming trust to bella_all_mobile\n"
       ]
      },
      {
       "output_type": "stream",
       "stream": "stdout",
       "text": [
        "Using [ 0.133  0.2    0.2    0.133  0.2    0.133]\n",
        "Trimming trust to bella_all_mobile\n"
       ]
      },
      {
       "output_type": "stream",
       "stream": "stdout",
       "text": [
        "Using [ 0.125  0.188  0.188  0.125  0.188  0.188]\n",
        "Trimming trust to bella_all_mobile\n"
       ]
      },
      {
       "output_type": "stream",
       "stream": "stdout",
       "text": [
        "Using [ 0.154  0.231  0.231  0.231  0.077  0.077]\n",
        "Trimming trust to bella_all_mobile\n"
       ]
      },
      {
       "output_type": "stream",
       "stream": "stdout",
       "text": [
        "Using [ 0.143  0.214  0.214  0.214  0.071  0.143]\n",
        "Trimming trust to bella_all_mobile\n"
       ]
      },
      {
       "output_type": "stream",
       "stream": "stdout",
       "text": [
        "Using [ 0.133  0.2    0.2    0.2    0.067  0.2  ]\n",
        "Trimming trust to bella_all_mobile\n"
       ]
      },
      {
       "output_type": "stream",
       "stream": "stdout",
       "text": [
        "Using [ 0.143  0.214  0.214  0.214  0.143  0.071]\n",
        "Trimming trust to bella_all_mobile\n"
       ]
      },
      {
       "output_type": "stream",
       "stream": "stdout",
       "text": [
        "Using [ 0.133  0.2    0.2    0.2    0.133  0.133]\n",
        "Trimming trust to bella_all_mobile\n"
       ]
      },
      {
       "output_type": "stream",
       "stream": "stdout",
       "text": [
        "Using [ 0.125  0.188  0.188  0.188  0.125  0.188]\n",
        "Trimming trust to bella_all_mobile\n"
       ]
      },
      {
       "output_type": "stream",
       "stream": "stdout",
       "text": [
        "Using [ 0.133  0.2    0.2    0.2    0.2    0.067]\n",
        "Trimming trust to bella_all_mobile\n"
       ]
      },
      {
       "output_type": "stream",
       "stream": "stderr",
       "text": [
        "Exception in thread Thread-3007:\n",
        "Traceback (most recent call last):\n",
        "  File \"/usr/lib/python2.7/threading.py\", line 810, in __bootstrap_inner\n",
        "    self.run()\n",
        "  File \"/usr/lib/python2.7/dist-packages/zmq/utils/garbage.py\", line 34, in run\n",
        "    s.bind(self.gc.url)\n",
        "  File \"socket.pyx\", line 444, in zmq.backend.cython.socket.Socket.bind (zmq/backend/cython/socket.c:4077)\n",
        "  File \"checkrc.pxd\", line 21, in zmq.backend.cython.checkrc._check_rc (zmq/backend/cython/socket.c:6033)\n",
        "ZMQError: Address already in use\n",
        "Exception in thread Thread-3007:\n",
        "Traceback (most recent call last):\n",
        "  File \"/usr/lib/python2.7/threading.py\", line 810, in __bootstrap_inner\n",
        "    self.run()\n",
        "  File \"/usr/lib/python2.7/dist-packages/zmq/utils/garbage.py\", line 34, in run\n",
        "    s.bind(self.gc.url)\n",
        "  File \"socket.pyx\", line 444, in zmq.backend.cython.socket.Socket.bind (zmq/backend/cython/socket.c:4077)\n",
        "  File \"checkrc.pxd\", line 21, in zmq.backend.cython.checkrc._check_rc (zmq/backend/cython/socket.c:6033)\n",
        "ZMQError: Address already in use\n"
       ]
      },
      {
       "output_type": "stream",
       "stream": "stdout",
       "text": [
        "Using [ 0.125  0.188  0.188  0.188  0.188  0.125]\n",
        "Trimming trust to bella_all_mobile\n"
       ]
      },
      {
       "output_type": "stream",
       "stream": "stdout",
       "text": [
        "Using [ 0.118  0.176  0.176  0.176  0.176  0.176]\n",
        "Trimming trust to bella_all_mobile\n"
       ]
      },
      {
       "output_type": "stream",
       "stream": "stdout",
       "text": [
        "Using [ 0.375  0.125  0.125  0.125  0.125  0.125]\n",
        "Trimming trust to bella_all_mobile\n"
       ]
      },
      {
       "output_type": "stream",
       "stream": "stdout",
       "text": [
        "Using [ 0.333  0.111  0.111  0.111  0.111  0.222]\n",
        "Trimming trust to bella_all_mobile\n"
       ]
      },
      {
       "output_type": "stream",
       "stream": "stdout",
       "text": [
        "Using [ 0.3  0.1  0.1  0.1  0.1  0.3]\n",
        "Trimming trust to bella_all_mobile\n"
       ]
      },
      {
       "output_type": "stream",
       "stream": "stdout",
       "text": [
        "Using [ 0.333  0.111  0.111  0.111  0.222  0.111]\n",
        "Trimming trust to bella_all_mobile\n"
       ]
      },
      {
       "output_type": "stream",
       "stream": "stdout",
       "text": [
        "Using [ 0.3  0.1  0.1  0.1  0.2  0.2]\n",
        "Trimming trust to bella_all_mobile\n"
       ]
      },
      {
       "output_type": "stream",
       "stream": "stdout",
       "text": [
        "Using [ 0.273  0.091  0.091  0.091  0.182  0.273]\n",
        "Trimming trust to bella_all_mobile\n"
       ]
      },
      {
       "output_type": "stream",
       "stream": "stdout",
       "text": [
        "Using [ 0.3  0.1  0.1  0.1  0.3  0.1]\n",
        "Trimming trust to bella_all_mobile\n"
       ]
      },
      {
       "output_type": "stream",
       "stream": "stdout",
       "text": [
        "Using [ 0.273  0.091  0.091  0.091  0.273  0.182]\n",
        "Trimming trust to bella_all_mobile\n"
       ]
      },
      {
       "output_type": "stream",
       "stream": "stdout",
       "text": [
        "Using [ 0.25   0.083  0.083  0.083  0.25   0.25 ]\n",
        "Trimming trust to bella_all_mobile\n"
       ]
      },
      {
       "output_type": "stream",
       "stream": "stdout",
       "text": [
        "Using [ 0.333  0.111  0.111  0.222  0.111  0.111]\n",
        "Trimming trust to bella_all_mobile\n"
       ]
      },
      {
       "output_type": "stream",
       "stream": "stdout",
       "text": [
        "Using [ 0.3  0.1  0.1  0.2  0.1  0.2]\n",
        "Trimming trust to bella_all_mobile\n"
       ]
      },
      {
       "output_type": "stream",
       "stream": "stdout",
       "text": [
        "Using [ 0.273  0.091  0.091  0.182  0.091  0.273]\n",
        "Trimming trust to bella_all_mobile\n"
       ]
      },
      {
       "output_type": "stream",
       "stream": "stdout",
       "text": [
        "Using [ 0.3  0.1  0.1  0.2  0.2  0.1]\n",
        "Trimming trust to bella_all_mobile\n"
       ]
      },
      {
       "output_type": "stream",
       "stream": "stdout",
       "text": [
        "Using [ 0.273  0.091  0.091  0.182  0.182  0.182]\n",
        "Trimming trust to bella_all_mobile\n"
       ]
      },
      {
       "output_type": "stream",
       "stream": "stdout",
       "text": [
        "Using [ 0.25   0.083  0.083  0.167  0.167  0.25 ]\n",
        "Trimming trust to bella_all_mobile\n"
       ]
      },
      {
       "output_type": "stream",
       "stream": "stdout",
       "text": [
        "Using [ 0.273  0.091  0.091  0.182  0.273  0.091]\n",
        "Trimming trust to bella_all_mobile\n"
       ]
      },
      {
       "output_type": "stream",
       "stream": "stdout",
       "text": [
        "Using [ 0.25   0.083  0.083  0.167  0.25   0.167]\n",
        "Trimming trust to bella_all_mobile\n"
       ]
      },
      {
       "output_type": "stream",
       "stream": "stdout",
       "text": [
        "Using [ 0.231  0.077  0.077  0.154  0.231  0.231]\n",
        "Trimming trust to bella_all_mobile\n"
       ]
      },
      {
       "output_type": "stream",
       "stream": "stdout",
       "text": [
        "Using [ 0.3  0.1  0.1  0.3  0.1  0.1]\n",
        "Trimming trust to bella_all_mobile\n"
       ]
      },
      {
       "output_type": "stream",
       "stream": "stdout",
       "text": [
        "Using [ 0.273  0.091  0.091  0.273  0.091  0.182]\n",
        "Trimming trust to bella_all_mobile\n"
       ]
      },
      {
       "output_type": "stream",
       "stream": "stdout",
       "text": [
        "Using [ 0.25   0.083  0.083  0.25   0.083  0.25 ]\n",
        "Trimming trust to bella_all_mobile\n"
       ]
      },
      {
       "output_type": "stream",
       "stream": "stdout",
       "text": [
        "Using [ 0.273  0.091  0.091  0.273  0.182  0.091]\n",
        "Trimming trust to bella_all_mobile\n"
       ]
      },
      {
       "output_type": "stream",
       "stream": "stdout",
       "text": [
        "Using [ 0.25   0.083  0.083  0.25   0.167  0.167]\n",
        "Trimming trust to bella_all_mobile\n"
       ]
      },
      {
       "output_type": "stream",
       "stream": "stdout",
       "text": [
        "Using [ 0.231  0.077  0.077  0.231  0.154  0.231]\n",
        "Trimming trust to bella_all_mobile\n"
       ]
      },
      {
       "output_type": "stream",
       "stream": "stdout",
       "text": [
        "Using [ 0.25   0.083  0.083  0.25   0.25   0.083]\n",
        "Trimming trust to bella_all_mobile\n"
       ]
      },
      {
       "output_type": "stream",
       "stream": "stdout",
       "text": [
        "Using [ 0.231  0.077  0.077  0.231  0.231  0.154]\n",
        "Trimming trust to bella_all_mobile\n"
       ]
      },
      {
       "output_type": "stream",
       "stream": "stdout",
       "text": [
        "Using [ 0.214  0.071  0.071  0.214  0.214  0.214]\n",
        "Trimming trust to bella_all_mobile\n"
       ]
      },
      {
       "output_type": "stream",
       "stream": "stdout",
       "text": [
        "Using [ 0.333  0.111  0.222  0.111  0.111  0.111]\n",
        "Trimming trust to bella_all_mobile\n"
       ]
      },
      {
       "output_type": "stream",
       "stream": "stdout",
       "text": [
        "Using [ 0.3  0.1  0.2  0.1  0.1  0.2]\n",
        "Trimming trust to bella_all_mobile\n"
       ]
      },
      {
       "output_type": "stream",
       "stream": "stdout",
       "text": [
        "Using [ 0.273  0.091  0.182  0.091  0.091  0.273]\n",
        "Trimming trust to bella_all_mobile\n"
       ]
      },
      {
       "output_type": "stream",
       "stream": "stdout",
       "text": [
        "Using [ 0.3  0.1  0.2  0.1  0.2  0.1]\n",
        "Trimming trust to bella_all_mobile\n"
       ]
      },
      {
       "output_type": "stream",
       "stream": "stdout",
       "text": [
        "Using [ 0.273  0.091  0.182  0.091  0.182  0.182]\n",
        "Trimming trust to bella_all_mobile\n"
       ]
      },
      {
       "output_type": "stream",
       "stream": "stdout",
       "text": [
        "Using [ 0.25   0.083  0.167  0.083  0.167  0.25 ]\n",
        "Trimming trust to bella_all_mobile\n"
       ]
      },
      {
       "output_type": "stream",
       "stream": "stdout",
       "text": [
        "Using [ 0.273  0.091  0.182  0.091  0.273  0.091]\n",
        "Trimming trust to bella_all_mobile\n"
       ]
      },
      {
       "output_type": "stream",
       "stream": "stdout",
       "text": [
        "Using [ 0.25   0.083  0.167  0.083  0.25   0.167]\n",
        "Trimming trust to bella_all_mobile\n"
       ]
      },
      {
       "output_type": "stream",
       "stream": "stdout",
       "text": [
        "Using [ 0.231  0.077  0.154  0.077  0.231  0.231]\n",
        "Trimming trust to bella_all_mobile\n"
       ]
      },
      {
       "output_type": "stream",
       "stream": "stdout",
       "text": [
        "Using [ 0.3  0.1  0.2  0.2  0.1  0.1]\n",
        "Trimming trust to bella_all_mobile\n"
       ]
      },
      {
       "output_type": "stream",
       "stream": "stdout",
       "text": [
        "Using [ 0.273  0.091  0.182  0.182  0.091  0.182]\n",
        "Trimming trust to bella_all_mobile\n"
       ]
      },
      {
       "output_type": "stream",
       "stream": "stdout",
       "text": [
        "Using [ 0.25   0.083  0.167  0.167  0.083  0.25 ]\n",
        "Trimming trust to bella_all_mobile\n"
       ]
      },
      {
       "output_type": "stream",
       "stream": "stdout",
       "text": [
        "Using [ 0.273  0.091  0.182  0.182  0.182  0.091]\n",
        "Trimming trust to bella_all_mobile\n"
       ]
      },
      {
       "output_type": "stream",
       "stream": "stdout",
       "text": [
        "Using [ 0.25   0.083  0.167  0.167  0.167  0.167]\n",
        "Trimming trust to bella_all_mobile\n"
       ]
      },
      {
       "output_type": "stream",
       "stream": "stdout",
       "text": [
        "Using [ 0.231  0.077  0.154  0.154  0.154  0.231]\n",
        "Trimming trust to bella_all_mobile\n"
       ]
      },
      {
       "output_type": "stream",
       "stream": "stdout",
       "text": [
        "Using [ 0.25   0.083  0.167  0.167  0.25   0.083]\n",
        "Trimming trust to bella_all_mobile\n"
       ]
      },
      {
       "output_type": "stream",
       "stream": "stdout",
       "text": [
        "Using [ 0.231  0.077  0.154  0.154  0.231  0.154]\n",
        "Trimming trust to bella_all_mobile\n"
       ]
      },
      {
       "output_type": "stream",
       "stream": "stdout",
       "text": [
        "Using [ 0.214  0.071  0.143  0.143  0.214  0.214]\n",
        "Trimming trust to bella_all_mobile\n"
       ]
      },
      {
       "output_type": "stream",
       "stream": "stdout",
       "text": [
        "Using [ 0.273  0.091  0.182  0.273  0.091  0.091]\n",
        "Trimming trust to bella_all_mobile\n"
       ]
      },
      {
       "output_type": "stream",
       "stream": "stdout",
       "text": [
        "Using [ 0.25   0.083  0.167  0.25   0.083  0.167]\n",
        "Trimming trust to bella_all_mobile\n"
       ]
      },
      {
       "output_type": "stream",
       "stream": "stdout",
       "text": [
        "Using [ 0.231  0.077  0.154  0.231  0.077  0.231]\n",
        "Trimming trust to bella_all_mobile\n"
       ]
      },
      {
       "output_type": "stream",
       "stream": "stdout",
       "text": [
        "Using [ 0.25   0.083  0.167  0.25   0.167  0.083]\n",
        "Trimming trust to bella_all_mobile\n"
       ]
      },
      {
       "output_type": "stream",
       "stream": "stdout",
       "text": [
        "Using [ 0.231  0.077  0.154  0.231  0.154  0.154]\n",
        "Trimming trust to bella_all_mobile\n"
       ]
      },
      {
       "output_type": "stream",
       "stream": "stdout",
       "text": [
        "Using [ 0.214  0.071  0.143  0.214  0.143  0.214]\n",
        "Trimming trust to bella_all_mobile\n"
       ]
      },
      {
       "output_type": "stream",
       "stream": "stdout",
       "text": [
        "Using [ 0.231  0.077  0.154  0.231  0.231  0.077]\n",
        "Trimming trust to bella_all_mobile\n"
       ]
      },
      {
       "output_type": "stream",
       "stream": "stdout",
       "text": [
        "Using [ 0.214  0.071  0.143  0.214  0.214  0.143]\n",
        "Trimming trust to bella_all_mobile\n"
       ]
      },
      {
       "output_type": "stream",
       "stream": "stdout",
       "text": [
        "Using [ 0.2    0.067  0.133  0.2    0.2    0.2  ]\n",
        "Trimming trust to bella_all_mobile\n"
       ]
      },
      {
       "output_type": "stream",
       "stream": "stdout",
       "text": [
        "Using [ 0.3  0.1  0.3  0.1  0.1  0.1]\n",
        "Trimming trust to bella_all_mobile\n"
       ]
      },
      {
       "output_type": "stream",
       "stream": "stdout",
       "text": [
        "Using [ 0.273  0.091  0.273  0.091  0.091  0.182]\n",
        "Trimming trust to bella_all_mobile\n"
       ]
      },
      {
       "output_type": "stream",
       "stream": "stdout",
       "text": [
        "Using [ 0.25   0.083  0.25   0.083  0.083  0.25 ]\n",
        "Trimming trust to bella_all_mobile\n"
       ]
      },
      {
       "output_type": "stream",
       "stream": "stdout",
       "text": [
        "Using [ 0.273  0.091  0.273  0.091  0.182  0.091]\n",
        "Trimming trust to bella_all_mobile\n"
       ]
      },
      {
       "output_type": "stream",
       "stream": "stdout",
       "text": [
        "Using [ 0.25   0.083  0.25   0.083  0.167  0.167]\n",
        "Trimming trust to bella_all_mobile\n"
       ]
      },
      {
       "output_type": "stream",
       "stream": "stdout",
       "text": [
        "Using [ 0.231  0.077  0.231  0.077  0.154  0.231]\n",
        "Trimming trust to bella_all_mobile\n"
       ]
      },
      {
       "output_type": "stream",
       "stream": "stdout",
       "text": [
        "Using [ 0.25   0.083  0.25   0.083  0.25   0.083]\n",
        "Trimming trust to bella_all_mobile\n"
       ]
      },
      {
       "output_type": "stream",
       "stream": "stdout",
       "text": [
        "Using [ 0.231  0.077  0.231  0.077  0.231  0.154]\n",
        "Trimming trust to bella_all_mobile\n"
       ]
      },
      {
       "output_type": "stream",
       "stream": "stdout",
       "text": [
        "Using [ 0.214  0.071  0.214  0.071  0.214  0.214]\n",
        "Trimming trust to bella_all_mobile\n"
       ]
      },
      {
       "output_type": "stream",
       "stream": "stdout",
       "text": [
        "Using [ 0.273  0.091  0.273  0.182  0.091  0.091]\n",
        "Trimming trust to bella_all_mobile\n"
       ]
      },
      {
       "output_type": "stream",
       "stream": "stdout",
       "text": [
        "Using [ 0.25   0.083  0.25   0.167  0.083  0.167]\n",
        "Trimming trust to bella_all_mobile\n"
       ]
      },
      {
       "output_type": "stream",
       "stream": "stdout",
       "text": [
        "Using [ 0.231  0.077  0.231  0.154  0.077  0.231]\n",
        "Trimming trust to bella_all_mobile\n"
       ]
      },
      {
       "output_type": "stream",
       "stream": "stdout",
       "text": [
        "Using [ 0.25   0.083  0.25   0.167  0.167  0.083]\n",
        "Trimming trust to bella_all_mobile\n"
       ]
      },
      {
       "output_type": "stream",
       "stream": "stdout",
       "text": [
        "Using [ 0.231  0.077  0.231  0.154  0.154  0.154]\n",
        "Trimming trust to bella_all_mobile\n"
       ]
      },
      {
       "output_type": "stream",
       "stream": "stdout",
       "text": [
        "Using [ 0.214  0.071  0.214  0.143  0.143  0.214]\n",
        "Trimming trust to bella_all_mobile\n"
       ]
      },
      {
       "output_type": "stream",
       "stream": "stdout",
       "text": [
        "Using [ 0.231  0.077  0.231  0.154  0.231  0.077]\n",
        "Trimming trust to bella_all_mobile\n"
       ]
      },
      {
       "output_type": "stream",
       "stream": "stdout",
       "text": [
        "Using [ 0.214  0.071  0.214  0.143  0.214  0.143]\n",
        "Trimming trust to bella_all_mobile\n"
       ]
      },
      {
       "output_type": "stream",
       "stream": "stdout",
       "text": [
        "Using [ 0.2    0.067  0.2    0.133  0.2    0.2  ]\n",
        "Trimming trust to bella_all_mobile\n"
       ]
      },
      {
       "output_type": "stream",
       "stream": "stdout",
       "text": [
        "Using [ 0.25   0.083  0.25   0.25   0.083  0.083]\n",
        "Trimming trust to bella_all_mobile\n"
       ]
      },
      {
       "output_type": "stream",
       "stream": "stdout",
       "text": [
        "Using [ 0.231  0.077  0.231  0.231  0.077  0.154]\n",
        "Trimming trust to bella_all_mobile\n"
       ]
      },
      {
       "output_type": "stream",
       "stream": "stdout",
       "text": [
        "Using [ 0.214  0.071  0.214  0.214  0.071  0.214]\n",
        "Trimming trust to bella_all_mobile\n"
       ]
      },
      {
       "output_type": "stream",
       "stream": "stdout",
       "text": [
        "Using [ 0.231  0.077  0.231  0.231  0.154  0.077]\n",
        "Trimming trust to bella_all_mobile\n"
       ]
      },
      {
       "output_type": "stream",
       "stream": "stdout",
       "text": [
        "Using [ 0.214  0.071  0.214  0.214  0.143  0.143]\n",
        "Trimming trust to bella_all_mobile\n"
       ]
      },
      {
       "output_type": "stream",
       "stream": "stdout",
       "text": [
        "Using [ 0.2    0.067  0.2    0.2    0.133  0.2  ]\n",
        "Trimming trust to bella_all_mobile\n"
       ]
      },
      {
       "output_type": "stream",
       "stream": "stdout",
       "text": [
        "Using [ 0.214  0.071  0.214  0.214  0.214  0.071]\n",
        "Trimming trust to bella_all_mobile\n"
       ]
      },
      {
       "output_type": "stream",
       "stream": "stdout",
       "text": [
        "Using [ 0.2    0.067  0.2    0.2    0.2    0.133]\n",
        "Trimming trust to bella_all_mobile\n"
       ]
      },
      {
       "output_type": "stream",
       "stream": "stdout",
       "text": [
        "Using [ 0.188  0.062  0.188  0.188  0.188  0.188]\n",
        "Trimming trust to bella_all_mobile\n"
       ]
      },
      {
       "output_type": "stream",
       "stream": "stdout",
       "text": [
        "Using [ 0.333  0.222  0.111  0.111  0.111  0.111]\n",
        "Trimming trust to bella_all_mobile\n"
       ]
      },
      {
       "output_type": "stream",
       "stream": "stdout",
       "text": [
        "Using [ 0.3  0.2  0.1  0.1  0.1  0.2]\n",
        "Trimming trust to bella_all_mobile\n"
       ]
      },
      {
       "output_type": "stream",
       "stream": "stdout",
       "text": [
        "Using [ 0.273  0.182  0.091  0.091  0.091  0.273]\n",
        "Trimming trust to bella_all_mobile\n"
       ]
      },
      {
       "output_type": "stream",
       "stream": "stdout",
       "text": [
        "Using [ 0.3  0.2  0.1  0.1  0.2  0.1]\n",
        "Trimming trust to bella_all_mobile\n"
       ]
      },
      {
       "output_type": "stream",
       "stream": "stdout",
       "text": [
        "Using [ 0.273  0.182  0.091  0.091  0.182  0.182]\n",
        "Trimming trust to bella_all_mobile\n"
       ]
      },
      {
       "output_type": "stream",
       "stream": "stdout",
       "text": [
        "Using [ 0.25   0.167  0.083  0.083  0.167  0.25 ]\n",
        "Trimming trust to bella_all_mobile\n"
       ]
      },
      {
       "output_type": "stream",
       "stream": "stdout",
       "text": [
        "Using [ 0.273  0.182  0.091  0.091  0.273  0.091]\n",
        "Trimming trust to bella_all_mobile\n"
       ]
      },
      {
       "output_type": "stream",
       "stream": "stdout",
       "text": [
        "Using [ 0.25   0.167  0.083  0.083  0.25   0.167]\n",
        "Trimming trust to bella_all_mobile\n"
       ]
      },
      {
       "output_type": "stream",
       "stream": "stdout",
       "text": [
        "Using [ 0.231  0.154  0.077  0.077  0.231  0.231]\n",
        "Trimming trust to bella_all_mobile\n"
       ]
      },
      {
       "output_type": "stream",
       "stream": "stdout",
       "text": [
        "Using [ 0.3  0.2  0.1  0.2  0.1  0.1]\n",
        "Trimming trust to bella_all_mobile\n"
       ]
      },
      {
       "output_type": "stream",
       "stream": "stdout",
       "text": [
        "Using [ 0.273  0.182  0.091  0.182  0.091  0.182]\n",
        "Trimming trust to bella_all_mobile\n"
       ]
      },
      {
       "output_type": "stream",
       "stream": "stdout",
       "text": [
        "Using [ 0.25   0.167  0.083  0.167  0.083  0.25 ]\n",
        "Trimming trust to bella_all_mobile\n"
       ]
      },
      {
       "output_type": "stream",
       "stream": "stdout",
       "text": [
        "Using [ 0.273  0.182  0.091  0.182  0.182  0.091]\n",
        "Trimming trust to bella_all_mobile\n"
       ]
      },
      {
       "output_type": "stream",
       "stream": "stdout",
       "text": [
        "Using [ 0.25   0.167  0.083  0.167  0.167  0.167]\n",
        "Trimming trust to bella_all_mobile\n"
       ]
      },
      {
       "output_type": "stream",
       "stream": "stdout",
       "text": [
        "Using [ 0.231  0.154  0.077  0.154  0.154  0.231]\n",
        "Trimming trust to bella_all_mobile\n"
       ]
      },
      {
       "output_type": "stream",
       "stream": "stdout",
       "text": [
        "Using [ 0.25   0.167  0.083  0.167  0.25   0.083]\n",
        "Trimming trust to bella_all_mobile\n"
       ]
      },
      {
       "output_type": "stream",
       "stream": "stdout",
       "text": [
        "Using [ 0.231  0.154  0.077  0.154  0.231  0.154]\n",
        "Trimming trust to bella_all_mobile\n"
       ]
      },
      {
       "output_type": "stream",
       "stream": "stdout",
       "text": [
        "Using [ 0.214  0.143  0.071  0.143  0.214  0.214]\n",
        "Trimming trust to bella_all_mobile\n"
       ]
      },
      {
       "output_type": "stream",
       "stream": "stdout",
       "text": [
        "Using [ 0.273  0.182  0.091  0.273  0.091  0.091]\n",
        "Trimming trust to bella_all_mobile\n"
       ]
      },
      {
       "output_type": "stream",
       "stream": "stdout",
       "text": [
        "Using [ 0.25   0.167  0.083  0.25   0.083  0.167]\n",
        "Trimming trust to bella_all_mobile\n"
       ]
      },
      {
       "output_type": "stream",
       "stream": "stdout",
       "text": [
        "Using [ 0.231  0.154  0.077  0.231  0.077  0.231]\n",
        "Trimming trust to bella_all_mobile\n"
       ]
      },
      {
       "output_type": "stream",
       "stream": "stdout",
       "text": [
        "Using [ 0.25   0.167  0.083  0.25   0.167  0.083]\n",
        "Trimming trust to bella_all_mobile\n"
       ]
      },
      {
       "output_type": "stream",
       "stream": "stdout",
       "text": [
        "Using [ 0.231  0.154  0.077  0.231  0.154  0.154]\n",
        "Trimming trust to bella_all_mobile\n"
       ]
      },
      {
       "output_type": "stream",
       "stream": "stdout",
       "text": [
        "Using [ 0.214  0.143  0.071  0.214  0.143  0.214]\n",
        "Trimming trust to bella_all_mobile\n"
       ]
      },
      {
       "output_type": "stream",
       "stream": "stdout",
       "text": [
        "Using [ 0.231  0.154  0.077  0.231  0.231  0.077]\n",
        "Trimming trust to bella_all_mobile\n"
       ]
      },
      {
       "output_type": "stream",
       "stream": "stdout",
       "text": [
        "Using [ 0.214  0.143  0.071  0.214  0.214  0.143]\n",
        "Trimming trust to bella_all_mobile\n"
       ]
      },
      {
       "output_type": "stream",
       "stream": "stdout",
       "text": [
        "Using [ 0.2    0.133  0.067  0.2    0.2    0.2  ]\n",
        "Trimming trust to bella_all_mobile\n"
       ]
      },
      {
       "output_type": "stream",
       "stream": "stdout",
       "text": [
        "Using [ 0.3  0.2  0.2  0.1  0.1  0.1]\n",
        "Trimming trust to bella_all_mobile\n"
       ]
      },
      {
       "output_type": "stream",
       "stream": "stdout",
       "text": [
        "Using [ 0.273  0.182  0.182  0.091  0.091  0.182]\n",
        "Trimming trust to bella_all_mobile\n"
       ]
      },
      {
       "output_type": "stream",
       "stream": "stdout",
       "text": [
        "Using [ 0.25   0.167  0.167  0.083  0.083  0.25 ]\n",
        "Trimming trust to bella_all_mobile\n"
       ]
      },
      {
       "output_type": "stream",
       "stream": "stdout",
       "text": [
        "Using [ 0.273  0.182  0.182  0.091  0.182  0.091]\n",
        "Trimming trust to bella_all_mobile\n"
       ]
      },
      {
       "output_type": "stream",
       "stream": "stdout",
       "text": [
        "Using [ 0.25   0.167  0.167  0.083  0.167  0.167]\n",
        "Trimming trust to bella_all_mobile\n"
       ]
      },
      {
       "output_type": "stream",
       "stream": "stdout",
       "text": [
        "Using [ 0.231  0.154  0.154  0.077  0.154  0.231]\n",
        "Trimming trust to bella_all_mobile\n"
       ]
      },
      {
       "output_type": "stream",
       "stream": "stdout",
       "text": [
        "Using [ 0.25   0.167  0.167  0.083  0.25   0.083]\n",
        "Trimming trust to bella_all_mobile\n"
       ]
      },
      {
       "output_type": "stream",
       "stream": "stdout",
       "text": [
        "Using [ 0.231  0.154  0.154  0.077  0.231  0.154]\n",
        "Trimming trust to bella_all_mobile\n"
       ]
      },
      {
       "output_type": "stream",
       "stream": "stdout",
       "text": [
        "Using [ 0.214  0.143  0.143  0.071  0.214  0.214]\n",
        "Trimming trust to bella_all_mobile\n"
       ]
      },
      {
       "output_type": "stream",
       "stream": "stdout",
       "text": [
        "Using [ 0.273  0.182  0.182  0.182  0.091  0.091]\n",
        "Trimming trust to bella_all_mobile\n"
       ]
      },
      {
       "output_type": "stream",
       "stream": "stdout",
       "text": [
        "Using [ 0.25   0.167  0.167  0.167  0.083  0.167]\n",
        "Trimming trust to bella_all_mobile\n"
       ]
      },
      {
       "output_type": "stream",
       "stream": "stdout",
       "text": [
        "Using [ 0.231  0.154  0.154  0.154  0.077  0.231]\n",
        "Trimming trust to bella_all_mobile\n"
       ]
      },
      {
       "output_type": "stream",
       "stream": "stdout",
       "text": [
        "Using [ 0.25   0.167  0.167  0.167  0.167  0.083]\n",
        "Trimming trust to bella_all_mobile\n"
       ]
      },
      {
       "output_type": "stream",
       "stream": "stdout",
       "text": [
        "Using [ 0.231  0.154  0.154  0.154  0.154  0.154]\n",
        "Trimming trust to bella_all_mobile\n"
       ]
      },
      {
       "output_type": "stream",
       "stream": "stdout",
       "text": [
        "Using [ 0.214  0.143  0.143  0.143  0.143  0.214]\n",
        "Trimming trust to bella_all_mobile\n"
       ]
      },
      {
       "output_type": "stream",
       "stream": "stdout",
       "text": [
        "Using [ 0.231  0.154  0.154  0.154  0.231  0.077]\n",
        "Trimming trust to bella_all_mobile\n"
       ]
      },
      {
       "output_type": "stream",
       "stream": "stdout",
       "text": [
        "Using [ 0.214  0.143  0.143  0.143  0.214  0.143]\n",
        "Trimming trust to bella_all_mobile\n"
       ]
      },
      {
       "output_type": "stream",
       "stream": "stdout",
       "text": [
        "Using [ 0.2    0.133  0.133  0.133  0.2    0.2  ]\n",
        "Trimming trust to bella_all_mobile\n"
       ]
      },
      {
       "output_type": "stream",
       "stream": "stdout",
       "text": [
        "Using [ 0.25   0.167  0.167  0.25   0.083  0.083]\n",
        "Trimming trust to bella_all_mobile\n"
       ]
      },
      {
       "output_type": "stream",
       "stream": "stdout",
       "text": [
        "Using [ 0.231  0.154  0.154  0.231  0.077  0.154]\n",
        "Trimming trust to bella_all_mobile\n"
       ]
      },
      {
       "output_type": "stream",
       "stream": "stdout",
       "text": [
        "Using [ 0.214  0.143  0.143  0.214  0.071  0.214]\n",
        "Trimming trust to bella_all_mobile\n"
       ]
      },
      {
       "output_type": "stream",
       "stream": "stdout",
       "text": [
        "Using [ 0.231  0.154  0.154  0.231  0.154  0.077]\n",
        "Trimming trust to bella_all_mobile\n"
       ]
      },
      {
       "output_type": "stream",
       "stream": "stdout",
       "text": [
        "Using [ 0.214  0.143  0.143  0.214  0.143  0.143]\n",
        "Trimming trust to bella_all_mobile\n"
       ]
      },
      {
       "output_type": "stream",
       "stream": "stdout",
       "text": [
        "Using [ 0.2    0.133  0.133  0.2    0.133  0.2  ]\n",
        "Trimming trust to bella_all_mobile\n"
       ]
      },
      {
       "output_type": "stream",
       "stream": "stdout",
       "text": [
        "Using [ 0.214  0.143  0.143  0.214  0.214  0.071]\n",
        "Trimming trust to bella_all_mobile\n"
       ]
      },
      {
       "output_type": "stream",
       "stream": "stdout",
       "text": [
        "Using [ 0.2    0.133  0.133  0.2    0.2    0.133]\n",
        "Trimming trust to bella_all_mobile\n"
       ]
      },
      {
       "output_type": "stream",
       "stream": "stdout",
       "text": [
        "Using [ 0.188  0.125  0.125  0.188  0.188  0.188]\n",
        "Trimming trust to bella_all_mobile\n"
       ]
      },
      {
       "output_type": "stream",
       "stream": "stdout",
       "text": [
        "Using [ 0.273  0.182  0.273  0.091  0.091  0.091]\n",
        "Trimming trust to bella_all_mobile\n"
       ]
      },
      {
       "output_type": "stream",
       "stream": "stdout",
       "text": [
        "Using [ 0.25   0.167  0.25   0.083  0.083  0.167]\n",
        "Trimming trust to bella_all_mobile\n"
       ]
      },
      {
       "output_type": "stream",
       "stream": "stdout",
       "text": [
        "Using [ 0.231  0.154  0.231  0.077  0.077  0.231]\n",
        "Trimming trust to bella_all_mobile\n"
       ]
      },
      {
       "output_type": "stream",
       "stream": "stdout",
       "text": [
        "Using [ 0.25   0.167  0.25   0.083  0.167  0.083]\n",
        "Trimming trust to bella_all_mobile\n"
       ]
      },
      {
       "output_type": "stream",
       "stream": "stdout",
       "text": [
        "Using [ 0.231  0.154  0.231  0.077  0.154  0.154]\n",
        "Trimming trust to bella_all_mobile\n"
       ]
      },
      {
       "output_type": "stream",
       "stream": "stdout",
       "text": [
        "Using [ 0.214  0.143  0.214  0.071  0.143  0.214]\n",
        "Trimming trust to bella_all_mobile\n"
       ]
      },
      {
       "output_type": "stream",
       "stream": "stdout",
       "text": [
        "Using [ 0.231  0.154  0.231  0.077  0.231  0.077]\n",
        "Trimming trust to bella_all_mobile\n"
       ]
      },
      {
       "output_type": "stream",
       "stream": "stdout",
       "text": [
        "Using [ 0.214  0.143  0.214  0.071  0.214  0.143]\n",
        "Trimming trust to bella_all_mobile\n"
       ]
      },
      {
       "output_type": "stream",
       "stream": "stdout",
       "text": [
        "Using [ 0.2    0.133  0.2    0.067  0.2    0.2  ]\n",
        "Trimming trust to bella_all_mobile\n"
       ]
      },
      {
       "output_type": "stream",
       "stream": "stderr",
       "text": [
        "Exception in thread Thread-3883:\n",
        "Traceback (most recent call last):\n",
        "  File \"/usr/lib/python2.7/threading.py\", line 810, in __bootstrap_inner\n",
        "    self.run()\n",
        "  File \"/usr/lib/python2.7/dist-packages/zmq/utils/garbage.py\", line 34, in run\n",
        "    s.bind(self.gc.url)\n",
        "  File \"socket.pyx\", line 444, in zmq.backend.cython.socket.Socket.bind (zmq/backend/cython/socket.c:4077)\n",
        "  File \"checkrc.pxd\", line 21, in zmq.backend.cython.checkrc._check_rc (zmq/backend/cython/socket.c:6033)\n",
        "ZMQError: Address already in use\n"
       ]
      },
      {
       "output_type": "stream",
       "stream": "stdout",
       "text": [
        "Using [ 0.25   0.167  0.25   0.167  0.083  0.083]\n",
        "Trimming trust to bella_all_mobile\n"
       ]
      },
      {
       "output_type": "stream",
       "stream": "stdout",
       "text": [
        "Using [ 0.231  0.154  0.231  0.154  0.077  0.154]\n",
        "Trimming trust to bella_all_mobile\n"
       ]
      },
      {
       "output_type": "stream",
       "stream": "stdout",
       "text": [
        "Using [ 0.214  0.143  0.214  0.143  0.071  0.214]\n",
        "Trimming trust to bella_all_mobile\n"
       ]
      },
      {
       "output_type": "stream",
       "stream": "stdout",
       "text": [
        "Using [ 0.231  0.154  0.231  0.154  0.154  0.077]\n",
        "Trimming trust to bella_all_mobile\n"
       ]
      },
      {
       "output_type": "stream",
       "stream": "stdout",
       "text": [
        "Using [ 0.214  0.143  0.214  0.143  0.143  0.143]\n",
        "Trimming trust to bella_all_mobile\n"
       ]
      },
      {
       "output_type": "stream",
       "stream": "stdout",
       "text": [
        "Using [ 0.2    0.133  0.2    0.133  0.133  0.2  ]\n",
        "Trimming trust to bella_all_mobile\n"
       ]
      },
      {
       "output_type": "stream",
       "stream": "stdout",
       "text": [
        "Using [ 0.214  0.143  0.214  0.143  0.214  0.071]\n",
        "Trimming trust to bella_all_mobile\n"
       ]
      },
      {
       "output_type": "stream",
       "stream": "stdout",
       "text": [
        "Using [ 0.2    0.133  0.2    0.133  0.2    0.133]\n",
        "Trimming trust to bella_all_mobile\n"
       ]
      },
      {
       "output_type": "stream",
       "stream": "stdout",
       "text": [
        "Using [ 0.188  0.125  0.188  0.125  0.188  0.188]\n",
        "Trimming trust to bella_all_mobile\n"
       ]
      },
      {
       "output_type": "stream",
       "stream": "stdout",
       "text": [
        "Using [ 0.231  0.154  0.231  0.231  0.077  0.077]\n",
        "Trimming trust to bella_all_mobile\n"
       ]
      },
      {
       "output_type": "stream",
       "stream": "stdout",
       "text": [
        "Using [ 0.214  0.143  0.214  0.214  0.071  0.143]\n",
        "Trimming trust to bella_all_mobile\n"
       ]
      },
      {
       "output_type": "stream",
       "stream": "stdout",
       "text": [
        "Using [ 0.2    0.133  0.2    0.2    0.067  0.2  ]\n",
        "Trimming trust to bella_all_mobile\n"
       ]
      },
      {
       "output_type": "stream",
       "stream": "stdout",
       "text": [
        "Using [ 0.214  0.143  0.214  0.214  0.143  0.071]\n",
        "Trimming trust to bella_all_mobile\n"
       ]
      },
      {
       "output_type": "stream",
       "stream": "stdout",
       "text": [
        "Using [ 0.2    0.133  0.2    0.2    0.133  0.133]\n",
        "Trimming trust to bella_all_mobile\n"
       ]
      },
      {
       "output_type": "stream",
       "stream": "stdout",
       "text": [
        "Using [ 0.188  0.125  0.188  0.188  0.125  0.188]\n",
        "Trimming trust to bella_all_mobile\n"
       ]
      },
      {
       "output_type": "stream",
       "stream": "stdout",
       "text": [
        "Using [ 0.2    0.133  0.2    0.2    0.2    0.067]\n",
        "Trimming trust to bella_all_mobile\n"
       ]
      },
      {
       "output_type": "stream",
       "stream": "stdout",
       "text": [
        "Using [ 0.188  0.125  0.188  0.188  0.188  0.125]\n",
        "Trimming trust to bella_all_mobile\n"
       ]
      },
      {
       "output_type": "stream",
       "stream": "stdout",
       "text": [
        "Using [ 0.176  0.118  0.176  0.176  0.176  0.176]\n",
        "Trimming trust to bella_all_mobile\n"
       ]
      },
      {
       "output_type": "stream",
       "stream": "stdout",
       "text": [
        "Using [ 0.3  0.3  0.1  0.1  0.1  0.1]\n",
        "Trimming trust to bella_all_mobile\n"
       ]
      },
      {
       "output_type": "stream",
       "stream": "stdout",
       "text": [
        "Using [ 0.273  0.273  0.091  0.091  0.091  0.182]\n",
        "Trimming trust to bella_all_mobile\n"
       ]
      },
      {
       "output_type": "stream",
       "stream": "stdout",
       "text": [
        "Using [ 0.25   0.25   0.083  0.083  0.083  0.25 ]\n",
        "Trimming trust to bella_all_mobile\n"
       ]
      },
      {
       "output_type": "stream",
       "stream": "stdout",
       "text": [
        "Using [ 0.273  0.273  0.091  0.091  0.182  0.091]\n",
        "Trimming trust to bella_all_mobile\n"
       ]
      },
      {
       "output_type": "stream",
       "stream": "stdout",
       "text": [
        "Using [ 0.25   0.25   0.083  0.083  0.167  0.167]\n",
        "Trimming trust to bella_all_mobile\n"
       ]
      },
      {
       "output_type": "stream",
       "stream": "stdout",
       "text": [
        "Using [ 0.231  0.231  0.077  0.077  0.154  0.231]\n",
        "Trimming trust to bella_all_mobile\n"
       ]
      },
      {
       "output_type": "stream",
       "stream": "stdout",
       "text": [
        "Using [ 0.25   0.25   0.083  0.083  0.25   0.083]\n",
        "Trimming trust to bella_all_mobile\n"
       ]
      },
      {
       "output_type": "stream",
       "stream": "stderr",
       "text": [
        "Exception in thread Thread-4033:\n",
        "Traceback (most recent call last):\n",
        "  File \"/usr/lib/python2.7/threading.py\", line 810, in __bootstrap_inner\n",
        "    self.run()\n",
        "  File \"/usr/lib/python2.7/dist-packages/zmq/utils/garbage.py\", line 34, in run\n",
        "    s.bind(self.gc.url)\n",
        "  File \"socket.pyx\", line 444, in zmq.backend.cython.socket.Socket.bind (zmq/backend/cython/socket.c:4077)\n",
        "  File \"checkrc.pxd\", line 21, in zmq.backend.cython.checkrc._check_rc (zmq/backend/cython/socket.c:6033)\n",
        "ZMQError: Address already in use\n"
       ]
      },
      {
       "output_type": "stream",
       "stream": "stdout",
       "text": [
        "Using [ 0.231  0.231  0.077  0.077  0.231  0.154]\n",
        "Trimming trust to bella_all_mobile\n"
       ]
      },
      {
       "output_type": "stream",
       "stream": "stdout",
       "text": [
        "Using [ 0.214  0.214  0.071  0.071  0.214  0.214]\n",
        "Trimming trust to bella_all_mobile\n"
       ]
      },
      {
       "output_type": "stream",
       "stream": "stdout",
       "text": [
        "Using [ 0.273  0.273  0.091  0.182  0.091  0.091]\n",
        "Trimming trust to bella_all_mobile\n"
       ]
      },
      {
       "output_type": "stream",
       "stream": "stdout",
       "text": [
        "Using [ 0.25   0.25   0.083  0.167  0.083  0.167]\n",
        "Trimming trust to bella_all_mobile\n"
       ]
      },
      {
       "output_type": "stream",
       "stream": "stdout",
       "text": [
        "Using [ 0.231  0.231  0.077  0.154  0.077  0.231]\n",
        "Trimming trust to bella_all_mobile\n"
       ]
      },
      {
       "output_type": "stream",
       "stream": "stdout",
       "text": [
        "Using [ 0.25   0.25   0.083  0.167  0.167  0.083]\n",
        "Trimming trust to bella_all_mobile\n"
       ]
      },
      {
       "output_type": "stream",
       "stream": "stdout",
       "text": [
        "Using [ 0.231  0.231  0.077  0.154  0.154  0.154]\n",
        "Trimming trust to bella_all_mobile\n"
       ]
      },
      {
       "output_type": "stream",
       "stream": "stdout",
       "text": [
        "Using [ 0.214  0.214  0.071  0.143  0.143  0.214]\n",
        "Trimming trust to bella_all_mobile\n"
       ]
      },
      {
       "output_type": "stream",
       "stream": "stdout",
       "text": [
        "Using [ 0.231  0.231  0.077  0.154  0.231  0.077]\n",
        "Trimming trust to bella_all_mobile\n"
       ]
      },
      {
       "output_type": "stream",
       "stream": "stdout",
       "text": [
        "Using [ 0.214  0.214  0.071  0.143  0.214  0.143]\n",
        "Trimming trust to bella_all_mobile\n"
       ]
      },
      {
       "output_type": "stream",
       "stream": "stdout",
       "text": [
        "Using [ 0.2    0.2    0.067  0.133  0.2    0.2  ]\n",
        "Trimming trust to bella_all_mobile\n"
       ]
      },
      {
       "output_type": "stream",
       "stream": "stdout",
       "text": [
        "Using [ 0.25   0.25   0.083  0.25   0.083  0.083]\n",
        "Trimming trust to bella_all_mobile\n"
       ]
      },
      {
       "output_type": "stream",
       "stream": "stdout",
       "text": [
        "Using [ 0.231  0.231  0.077  0.231  0.077  0.154]\n",
        "Trimming trust to bella_all_mobile\n"
       ]
      },
      {
       "output_type": "stream",
       "stream": "stdout",
       "text": [
        "Using [ 0.214  0.214  0.071  0.214  0.071  0.214]\n",
        "Trimming trust to bella_all_mobile\n"
       ]
      },
      {
       "output_type": "stream",
       "stream": "stdout",
       "text": [
        "Using [ 0.231  0.231  0.077  0.231  0.154  0.077]\n",
        "Trimming trust to bella_all_mobile\n"
       ]
      },
      {
       "output_type": "stream",
       "stream": "stdout",
       "text": [
        "Using [ 0.214  0.214  0.071  0.214  0.143  0.143]\n",
        "Trimming trust to bella_all_mobile\n"
       ]
      },
      {
       "output_type": "stream",
       "stream": "stdout",
       "text": [
        "Using [ 0.2    0.2    0.067  0.2    0.133  0.2  ]\n",
        "Trimming trust to bella_all_mobile\n"
       ]
      },
      {
       "output_type": "stream",
       "stream": "stdout",
       "text": [
        "Using [ 0.214  0.214  0.071  0.214  0.214  0.071]\n",
        "Trimming trust to bella_all_mobile\n"
       ]
      },
      {
       "output_type": "stream",
       "stream": "stdout",
       "text": [
        "Using [ 0.2    0.2    0.067  0.2    0.2    0.133]\n",
        "Trimming trust to bella_all_mobile\n"
       ]
      },
      {
       "output_type": "stream",
       "stream": "stdout",
       "text": [
        "Using [ 0.188  0.188  0.062  0.188  0.188  0.188]\n",
        "Trimming trust to bella_all_mobile\n"
       ]
      },
      {
       "output_type": "stream",
       "stream": "stdout",
       "text": [
        "Using [ 0.273  0.273  0.182  0.091  0.091  0.091]\n",
        "Trimming trust to bella_all_mobile\n"
       ]
      },
      {
       "output_type": "stream",
       "stream": "stdout",
       "text": [
        "Using [ 0.25   0.25   0.167  0.083  0.083  0.167]\n",
        "Trimming trust to bella_all_mobile\n"
       ]
      },
      {
       "output_type": "stream",
       "stream": "stdout",
       "text": [
        "Using [ 0.231  0.231  0.154  0.077  0.077  0.231]\n",
        "Trimming trust to bella_all_mobile\n"
       ]
      },
      {
       "output_type": "stream",
       "stream": "stdout",
       "text": [
        "Using [ 0.25   0.25   0.167  0.083  0.167  0.083]\n",
        "Trimming trust to bella_all_mobile\n"
       ]
      },
      {
       "output_type": "stream",
       "stream": "stdout",
       "text": [
        "Using [ 0.231  0.231  0.154  0.077  0.154  0.154]\n",
        "Trimming trust to bella_all_mobile\n"
       ]
      },
      {
       "output_type": "stream",
       "stream": "stdout",
       "text": [
        "Using [ 0.214  0.214  0.143  0.071  0.143  0.214]\n",
        "Trimming trust to bella_all_mobile\n"
       ]
      },
      {
       "output_type": "stream",
       "stream": "stdout",
       "text": [
        "Using [ 0.231  0.231  0.154  0.077  0.231  0.077]\n",
        "Trimming trust to bella_all_mobile\n"
       ]
      },
      {
       "output_type": "stream",
       "stream": "stdout",
       "text": [
        "Using [ 0.214  0.214  0.143  0.071  0.214  0.143]\n",
        "Trimming trust to bella_all_mobile\n"
       ]
      },
      {
       "output_type": "stream",
       "stream": "stdout",
       "text": [
        "Using [ 0.2    0.2    0.133  0.067  0.2    0.2  ]\n",
        "Trimming trust to bella_all_mobile\n"
       ]
      },
      {
       "output_type": "stream",
       "stream": "stdout",
       "text": [
        "Using [ 0.25   0.25   0.167  0.167  0.083  0.083]\n",
        "Trimming trust to bella_all_mobile\n"
       ]
      },
      {
       "output_type": "stream",
       "stream": "stdout",
       "text": [
        "Using [ 0.231  0.231  0.154  0.154  0.077  0.154]\n",
        "Trimming trust to bella_all_mobile\n"
       ]
      },
      {
       "output_type": "stream",
       "stream": "stdout",
       "text": [
        "Using [ 0.214  0.214  0.143  0.143  0.071  0.214]\n",
        "Trimming trust to bella_all_mobile\n"
       ]
      },
      {
       "output_type": "stream",
       "stream": "stdout",
       "text": [
        "Using [ 0.231  0.231  0.154  0.154  0.154  0.077]\n",
        "Trimming trust to bella_all_mobile\n"
       ]
      },
      {
       "output_type": "stream",
       "stream": "stdout",
       "text": [
        "Using [ 0.214  0.214  0.143  0.143  0.143  0.143]\n",
        "Trimming trust to bella_all_mobile\n"
       ]
      },
      {
       "output_type": "stream",
       "stream": "stdout",
       "text": [
        "Using [ 0.2    0.2    0.133  0.133  0.133  0.2  ]\n",
        "Trimming trust to bella_all_mobile\n"
       ]
      },
      {
       "output_type": "stream",
       "stream": "stdout",
       "text": [
        "Using [ 0.214  0.214  0.143  0.143  0.214  0.071]\n",
        "Trimming trust to bella_all_mobile\n"
       ]
      },
      {
       "output_type": "stream",
       "stream": "stdout",
       "text": [
        "Using [ 0.2    0.2    0.133  0.133  0.2    0.133]\n",
        "Trimming trust to bella_all_mobile\n"
       ]
      },
      {
       "output_type": "stream",
       "stream": "stdout",
       "text": [
        "Using [ 0.188  0.188  0.125  0.125  0.188  0.188]\n",
        "Trimming trust to bella_all_mobile\n"
       ]
      },
      {
       "output_type": "stream",
       "stream": "stdout",
       "text": [
        "Using [ 0.231  0.231  0.154  0.231  0.077  0.077]\n",
        "Trimming trust to bella_all_mobile\n"
       ]
      },
      {
       "output_type": "stream",
       "stream": "stdout",
       "text": [
        "Using [ 0.214  0.214  0.143  0.214  0.071  0.143]\n",
        "Trimming trust to bella_all_mobile\n"
       ]
      },
      {
       "output_type": "stream",
       "stream": "stdout",
       "text": [
        "Using [ 0.2    0.2    0.133  0.2    0.067  0.2  ]\n",
        "Trimming trust to bella_all_mobile\n"
       ]
      },
      {
       "output_type": "stream",
       "stream": "stdout",
       "text": [
        "Using [ 0.214  0.214  0.143  0.214  0.143  0.071]\n",
        "Trimming trust to bella_all_mobile\n"
       ]
      },
      {
       "output_type": "stream",
       "stream": "stdout",
       "text": [
        "Using [ 0.2    0.2    0.133  0.2    0.133  0.133]\n",
        "Trimming trust to bella_all_mobile\n"
       ]
      },
      {
       "output_type": "stream",
       "stream": "stdout",
       "text": [
        "Using [ 0.188  0.188  0.125  0.188  0.125  0.188]\n",
        "Trimming trust to bella_all_mobile\n"
       ]
      },
      {
       "output_type": "stream",
       "stream": "stdout",
       "text": [
        "Using [ 0.2    0.2    0.133  0.2    0.2    0.067]\n",
        "Trimming trust to bella_all_mobile\n"
       ]
      },
      {
       "output_type": "stream",
       "stream": "stdout",
       "text": [
        "Using [ 0.188  0.188  0.125  0.188  0.188  0.125]\n",
        "Trimming trust to bella_all_mobile\n"
       ]
      },
      {
       "output_type": "stream",
       "stream": "stdout",
       "text": [
        "Using [ 0.176  0.176  0.118  0.176  0.176  0.176]\n",
        "Trimming trust to bella_all_mobile\n"
       ]
      },
      {
       "output_type": "stream",
       "stream": "stdout",
       "text": [
        "Using [ 0.25   0.25   0.25   0.083  0.083  0.083]\n",
        "Trimming trust to bella_all_mobile\n"
       ]
      },
      {
       "output_type": "stream",
       "stream": "stdout",
       "text": [
        "Using [ 0.231  0.231  0.231  0.077  0.077  0.154]\n",
        "Trimming trust to bella_all_mobile\n"
       ]
      },
      {
       "output_type": "stream",
       "stream": "stdout",
       "text": [
        "Using [ 0.214  0.214  0.214  0.071  0.071  0.214]\n",
        "Trimming trust to bella_all_mobile\n"
       ]
      },
      {
       "output_type": "stream",
       "stream": "stdout",
       "text": [
        "Using [ 0.231  0.231  0.231  0.077  0.154  0.077]\n",
        "Trimming trust to bella_all_mobile\n"
       ]
      },
      {
       "output_type": "stream",
       "stream": "stdout",
       "text": [
        "Using [ 0.214  0.214  0.214  0.071  0.143  0.143]\n",
        "Trimming trust to bella_all_mobile\n"
       ]
      },
      {
       "output_type": "stream",
       "stream": "stdout",
       "text": [
        "Using [ 0.2    0.2    0.2    0.067  0.133  0.2  ]\n",
        "Trimming trust to bella_all_mobile\n"
       ]
      },
      {
       "output_type": "stream",
       "stream": "stdout",
       "text": [
        "Using [ 0.214  0.214  0.214  0.071  0.214  0.071]\n",
        "Trimming trust to bella_all_mobile\n"
       ]
      },
      {
       "output_type": "stream",
       "stream": "stdout",
       "text": [
        "Using [ 0.2    0.2    0.2    0.067  0.2    0.133]\n",
        "Trimming trust to bella_all_mobile\n"
       ]
      },
      {
       "output_type": "stream",
       "stream": "stdout",
       "text": [
        "Using [ 0.188  0.188  0.188  0.062  0.188  0.188]\n",
        "Trimming trust to bella_all_mobile\n"
       ]
      },
      {
       "output_type": "stream",
       "stream": "stdout",
       "text": [
        "Using [ 0.231  0.231  0.231  0.154  0.077  0.077]\n",
        "Trimming trust to bella_all_mobile\n"
       ]
      },
      {
       "output_type": "stream",
       "stream": "stdout",
       "text": [
        "Using [ 0.214  0.214  0.214  0.143  0.071  0.143]\n",
        "Trimming trust to bella_all_mobile\n"
       ]
      },
      {
       "output_type": "stream",
       "stream": "stdout",
       "text": [
        "Using [ 0.2    0.2    0.2    0.133  0.067  0.2  ]\n",
        "Trimming trust to bella_all_mobile\n"
       ]
      },
      {
       "output_type": "stream",
       "stream": "stdout",
       "text": [
        "Using [ 0.214  0.214  0.214  0.143  0.143  0.071]\n",
        "Trimming trust to bella_all_mobile\n"
       ]
      },
      {
       "output_type": "stream",
       "stream": "stdout",
       "text": [
        "Using [ 0.2    0.2    0.2    0.133  0.133  0.133]\n",
        "Trimming trust to bella_all_mobile\n"
       ]
      },
      {
       "output_type": "stream",
       "stream": "stdout",
       "text": [
        "Using [ 0.188  0.188  0.188  0.125  0.125  0.188]\n",
        "Trimming trust to bella_all_mobile\n"
       ]
      },
      {
       "output_type": "stream",
       "stream": "stdout",
       "text": [
        "Using [ 0.2    0.2    0.2    0.133  0.2    0.067]\n",
        "Trimming trust to bella_all_mobile\n"
       ]
      },
      {
       "output_type": "stream",
       "stream": "stdout",
       "text": [
        "Using [ 0.188  0.188  0.188  0.125  0.188  0.125]\n",
        "Trimming trust to bella_all_mobile\n"
       ]
      },
      {
       "output_type": "stream",
       "stream": "stdout",
       "text": [
        "Using [ 0.176  0.176  0.176  0.118  0.176  0.176]\n",
        "Trimming trust to bella_all_mobile\n"
       ]
      },
      {
       "output_type": "stream",
       "stream": "stdout",
       "text": [
        "Using [ 0.214  0.214  0.214  0.214  0.071  0.071]\n",
        "Trimming trust to bella_all_mobile\n"
       ]
      },
      {
       "output_type": "stream",
       "stream": "stdout",
       "text": [
        "Using [ 0.2    0.2    0.2    0.2    0.067  0.133]\n",
        "Trimming trust to bella_all_mobile\n"
       ]
      },
      {
       "output_type": "stream",
       "stream": "stdout",
       "text": [
        "Using [ 0.188  0.188  0.188  0.188  0.062  0.188]\n",
        "Trimming trust to bella_all_mobile\n"
       ]
      },
      {
       "output_type": "stream",
       "stream": "stdout",
       "text": [
        "Using [ 0.2    0.2    0.2    0.2    0.133  0.067]\n",
        "Trimming trust to bella_all_mobile\n"
       ]
      },
      {
       "output_type": "stream",
       "stream": "stdout",
       "text": [
        "Using [ 0.188  0.188  0.188  0.188  0.125  0.125]\n",
        "Trimming trust to bella_all_mobile\n"
       ]
      },
      {
       "output_type": "stream",
       "stream": "stdout",
       "text": [
        "Using [ 0.176  0.176  0.176  0.176  0.118  0.176]\n",
        "Trimming trust to bella_all_mobile\n"
       ]
      },
      {
       "output_type": "stream",
       "stream": "stdout",
       "text": [
        "Using [ 0.188  0.188  0.188  0.188  0.188  0.062]\n",
        "Trimming trust to bella_all_mobile\n"
       ]
      },
      {
       "output_type": "stream",
       "stream": "stdout",
       "text": [
        "Using [ 0.176  0.176  0.176  0.176  0.176  0.118]\n",
        "Trimming trust to bella_all_mobile\n"
       ]
      },
      {
       "output_type": "stream",
       "stream": "stdout",
       "text": [
        "Using [ 0.167  0.167  0.167  0.167  0.167  0.167]\n",
        "Trimming trust to bella_all_mobile\n"
       ]
      },
      {
       "html": [
        "<div style=\"max-height:1000px;max-width:1500px;overflow:auto;\">\n",
        "<table border=\"1\" class=\"dataframe\">\n",
        "  <thead>\n",
        "    <tr style=\"text-align: right;\">\n",
        "      <th></th>\n",
        "      <th></th>\n",
        "      <th></th>\n",
        "      <th></th>\n",
        "      <th></th>\n",
        "      <th></th>\n",
        "      <th>good</th>\n",
        "      <th>selfish</th>\n",
        "      <th>ratio</th>\n",
        "    </tr>\n",
        "    <tr>\n",
        "      <th>ADelay</th>\n",
        "      <th>ARXP</th>\n",
        "      <th>ATXP</th>\n",
        "      <th>RXThroughput</th>\n",
        "      <th>PLR</th>\n",
        "      <th>TXThroughput</th>\n",
        "      <th></th>\n",
        "      <th></th>\n",
        "      <th></th>\n",
        "    </tr>\n",
        "  </thead>\n",
        "  <tbody>\n",
        "    <tr>\n",
        "      <th>0.062500</th>\n",
        "      <th>0.187500</th>\n",
        "      <th>0.187500</th>\n",
        "      <th>0.187500</th>\n",
        "      <th>0.187500</th>\n",
        "      <th>0.187500</th>\n",
        "      <td> 0.627245</td>\n",
        "      <td> 2.070928</td>\n",
        "      <td> 3.301627</td>\n",
        "    </tr>\n",
        "    <tr>\n",
        "      <th rowspan=\"5\" valign=\"top\">0.066667</th>\n",
        "      <th>0.133333</th>\n",
        "      <th>0.200000</th>\n",
        "      <th>0.200000</th>\n",
        "      <th>0.200000</th>\n",
        "      <th>0.200000</th>\n",
        "      <td> 0.644100</td>\n",
        "      <td> 2.192279</td>\n",
        "      <td> 3.403631</td>\n",
        "    </tr>\n",
        "    <tr>\n",
        "      <th rowspan=\"4\" valign=\"top\">0.200000</th>\n",
        "      <th>0.133333</th>\n",
        "      <th>0.200000</th>\n",
        "      <th>0.200000</th>\n",
        "      <th>0.200000</th>\n",
        "      <td> 0.668479</td>\n",
        "      <td> 2.241764</td>\n",
        "      <td> 3.353527</td>\n",
        "    </tr>\n",
        "    <tr>\n",
        "      <th rowspan=\"3\" valign=\"top\">0.200000</th>\n",
        "      <th>0.133333</th>\n",
        "      <th>0.200000</th>\n",
        "      <th>0.200000</th>\n",
        "      <td> 0.569209</td>\n",
        "      <td> 1.741868</td>\n",
        "      <td> 3.060155</td>\n",
        "    </tr>\n",
        "    <tr>\n",
        "      <th rowspan=\"2\" valign=\"top\">0.200000</th>\n",
        "      <th>0.133333</th>\n",
        "      <th>0.200000</th>\n",
        "      <td> 0.650993</td>\n",
        "      <td> 1.507231</td>\n",
        "      <td> 2.315281</td>\n",
        "    </tr>\n",
        "    <tr>\n",
        "      <th>0.200000</th>\n",
        "      <th>0.133333</th>\n",
        "      <td> 0.654347</td>\n",
        "      <td> 2.197031</td>\n",
        "      <td> 3.357593</td>\n",
        "    </tr>\n",
        "    <tr>\n",
        "      <th rowspan=\"15\" valign=\"top\">0.071429</th>\n",
        "      <th>0.071429</th>\n",
        "      <th>0.214286</th>\n",
        "      <th>0.214286</th>\n",
        "      <th>0.214286</th>\n",
        "      <th>0.214286</th>\n",
        "      <td> 0.666315</td>\n",
        "      <td> 2.339064</td>\n",
        "      <td> 3.510448</td>\n",
        "    </tr>\n",
        "    <tr>\n",
        "      <th rowspan=\"4\" valign=\"top\">0.142857</th>\n",
        "      <th>0.142857</th>\n",
        "      <th>0.214286</th>\n",
        "      <th>0.214286</th>\n",
        "      <th>0.214286</th>\n",
        "      <td> 0.672000</td>\n",
        "      <td> 2.362385</td>\n",
        "      <td> 3.515452</td>\n",
        "    </tr>\n",
        "    <tr>\n",
        "      <th rowspan=\"3\" valign=\"top\">0.214286</th>\n",
        "      <th>0.142857</th>\n",
        "      <th>0.214286</th>\n",
        "      <th>0.214286</th>\n",
        "      <td> 0.596268</td>\n",
        "      <td> 1.888136</td>\n",
        "      <td> 3.166589</td>\n",
        "    </tr>\n",
        "    <tr>\n",
        "      <th rowspan=\"2\" valign=\"top\">0.214286</th>\n",
        "      <th>0.142857</th>\n",
        "      <th>0.214286</th>\n",
        "      <td> 0.673690</td>\n",
        "      <td> 1.595614</td>\n",
        "      <td> 2.368469</td>\n",
        "    </tr>\n",
        "    <tr>\n",
        "      <th>0.214286</th>\n",
        "      <th>0.142857</th>\n",
        "      <td> 0.672341</td>\n",
        "      <td> 2.327256</td>\n",
        "      <td> 3.461421</td>\n",
        "    </tr>\n",
        "    <tr>\n",
        "      <th rowspan=\"10\" valign=\"top\">0.214286</th>\n",
        "      <th>0.071429</th>\n",
        "      <th>0.214286</th>\n",
        "      <th>0.214286</th>\n",
        "      <th>0.214286</th>\n",
        "      <td> 0.757852</td>\n",
        "      <td> 2.295962</td>\n",
        "      <td> 3.029564</td>\n",
        "    </tr>\n",
        "    <tr>\n",
        "      <th rowspan=\"3\" valign=\"top\">0.142857</th>\n",
        "      <th>0.142857</th>\n",
        "      <th>0.214286</th>\n",
        "      <th>0.214286</th>\n",
        "      <td> 0.602919</td>\n",
        "      <td> 2.206713</td>\n",
        "      <td> 3.660050</td>\n",
        "    </tr>\n",
        "    <tr>\n",
        "      <th rowspan=\"2\" valign=\"top\">0.214286</th>\n",
        "      <th>0.142857</th>\n",
        "      <th>0.214286</th>\n",
        "      <td> 0.669629</td>\n",
        "      <td> 1.785523</td>\n",
        "      <td> 2.666436</td>\n",
        "    </tr>\n",
        "    <tr>\n",
        "      <th>0.214286</th>\n",
        "      <th>0.142857</th>\n",
        "      <td> 0.710679</td>\n",
        "      <td> 2.330789</td>\n",
        "      <td> 3.279664</td>\n",
        "    </tr>\n",
        "    <tr>\n",
        "      <th rowspan=\"6\" valign=\"top\">0.214286</th>\n",
        "      <th>0.071429</th>\n",
        "      <th>0.214286</th>\n",
        "      <th>0.214286</th>\n",
        "      <td> 0.518521</td>\n",
        "      <td> 1.271321</td>\n",
        "      <td> 2.451819</td>\n",
        "    </tr>\n",
        "    <tr>\n",
        "      <th rowspan=\"2\" valign=\"top\">0.142857</th>\n",
        "      <th>0.142857</th>\n",
        "      <th>0.214286</th>\n",
        "      <td> 0.567951</td>\n",
        "      <td> 1.090369</td>\n",
        "      <td> 1.919830</td>\n",
        "    </tr>\n",
        "    <tr>\n",
        "      <th>0.214286</th>\n",
        "      <th>0.142857</th>\n",
        "      <td> 0.603739</td>\n",
        "      <td> 1.863605</td>\n",
        "      <td> 3.086772</td>\n",
        "    </tr>\n",
        "    <tr>\n",
        "      <th rowspan=\"3\" valign=\"top\">0.214286</th>\n",
        "      <th>0.071429</th>\n",
        "      <th>0.214286</th>\n",
        "      <td> 0.646198</td>\n",
        "      <td> 0.892863</td>\n",
        "      <td> 1.381717</td>\n",
        "    </tr>\n",
        "    <tr>\n",
        "      <th>0.142857</th>\n",
        "      <th>0.142857</th>\n",
        "      <td> 0.680832</td>\n",
        "      <td> 1.618196</td>\n",
        "      <td> 2.376791</td>\n",
        "    </tr>\n",
        "    <tr>\n",
        "      <th>0.214286</th>\n",
        "      <th>0.071429</th>\n",
        "      <td> 0.679571</td>\n",
        "      <td> 2.342088</td>\n",
        "      <td> 3.446422</td>\n",
        "    </tr>\n",
        "    <tr>\n",
        "      <th rowspan=\"9\" valign=\"top\">0.076923</th>\n",
        "      <th rowspan=\"4\" valign=\"top\">0.076923</th>\n",
        "      <th>0.153846</th>\n",
        "      <th>0.230769</th>\n",
        "      <th>0.230769</th>\n",
        "      <th>0.230769</th>\n",
        "      <td> 0.686448</td>\n",
        "      <td> 2.491440</td>\n",
        "      <td> 3.629464</td>\n",
        "    </tr>\n",
        "    <tr>\n",
        "      <th rowspan=\"3\" valign=\"top\">0.230769</th>\n",
        "      <th>0.153846</th>\n",
        "      <th>0.230769</th>\n",
        "      <th>0.230769</th>\n",
        "      <td> 0.621600</td>\n",
        "      <td> 2.049278</td>\n",
        "      <td> 3.296782</td>\n",
        "    </tr>\n",
        "    <tr>\n",
        "      <th rowspan=\"2\" valign=\"top\">0.230769</th>\n",
        "      <th>0.153846</th>\n",
        "      <th>0.230769</th>\n",
        "      <td> 0.699006</td>\n",
        "      <td> 1.707419</td>\n",
        "      <td> 2.442639</td>\n",
        "    </tr>\n",
        "    <tr>\n",
        "      <th>0.230769</th>\n",
        "      <th>0.153846</th>\n",
        "      <td> 0.687318</td>\n",
        "      <td> 2.472606</td>\n",
        "      <td> 3.597471</td>\n",
        "    </tr>\n",
        "    <tr>\n",
        "      <th rowspan=\"5\" valign=\"top\">0.153846</th>\n",
        "      <th>0.076923</th>\n",
        "      <th>0.230769</th>\n",
        "      <th>0.230769</th>\n",
        "      <th>0.230769</th>\n",
        "      <td> 0.775883</td>\n",
        "      <td> 2.440905</td>\n",
        "      <td> 3.145971</td>\n",
        "    </tr>\n",
        "    <tr>\n",
        "      <th rowspan=\"3\" valign=\"top\">0.153846</th>\n",
        "      <th>0.153846</th>\n",
        "      <th>0.230769</th>\n",
        "      <th>0.230769</th>\n",
        "      <td> 0.622301</td>\n",
        "      <td> 2.400294</td>\n",
        "      <td> 3.857128</td>\n",
        "    </tr>\n",
        "    <tr>\n",
        "      <th rowspan=\"2\" valign=\"top\">0.230769</th>\n",
        "      <th>0.153846</th>\n",
        "      <th>0.230769</th>\n",
        "      <td> 0.700524</td>\n",
        "      <td> 1.857692</td>\n",
        "      <td> 2.651860</td>\n",
        "    </tr>\n",
        "    <tr>\n",
        "      <th>0.230769</th>\n",
        "      <th>0.153846</th>\n",
        "      <td> 0.712344</td>\n",
        "      <td> 2.455219</td>\n",
        "      <td> 3.446675</td>\n",
        "    </tr>\n",
        "    <tr>\n",
        "      <th>0.230769</th>\n",
        "      <th>0.076923</th>\n",
        "      <th>0.230769</th>\n",
        "      <th>0.230769</th>\n",
        "      <td> 0.542961</td>\n",
        "      <td> 1.380330</td>\n",
        "      <td> 2.542227</td>\n",
        "    </tr>\n",
        "    <tr>\n",
        "      <th>...</th>\n",
        "      <th>...</th>\n",
        "      <th>...</th>\n",
        "      <th>...</th>\n",
        "      <th>...</th>\n",
        "      <th>...</th>\n",
        "      <td>...</td>\n",
        "      <td>...</td>\n",
        "      <td>...</td>\n",
        "    </tr>\n",
        "    <tr>\n",
        "      <th rowspan=\"8\" valign=\"top\">0.272727</th>\n",
        "      <th rowspan=\"4\" valign=\"top\">0.181818</th>\n",
        "      <th rowspan=\"3\" valign=\"top\">0.181818</th>\n",
        "      <th rowspan=\"2\" valign=\"top\">0.090909</th>\n",
        "      <th>0.090909</th>\n",
        "      <th>0.181818</th>\n",
        "      <td> 0.384794</td>\n",
        "      <td> 0.470411</td>\n",
        "      <td> 1.222500</td>\n",
        "    </tr>\n",
        "    <tr>\n",
        "      <th>0.181818</th>\n",
        "      <th>0.090909</th>\n",
        "      <td> 0.451181</td>\n",
        "      <td> 1.295951</td>\n",
        "      <td> 2.872350</td>\n",
        "    </tr>\n",
        "    <tr>\n",
        "      <th>0.181818</th>\n",
        "      <th>0.090909</th>\n",
        "      <th>0.090909</th>\n",
        "      <td> 0.530798</td>\n",
        "      <td> 1.042622</td>\n",
        "      <td> 1.964255</td>\n",
        "    </tr>\n",
        "    <tr>\n",
        "      <th>0.272727</th>\n",
        "      <th>0.090909</th>\n",
        "      <th>0.090909</th>\n",
        "      <th>0.090909</th>\n",
        "      <td> 0.456995</td>\n",
        "      <td> 0.457861</td>\n",
        "      <td> 1.001894</td>\n",
        "    </tr>\n",
        "    <tr>\n",
        "      <th rowspan=\"4\" valign=\"top\">0.272727</th>\n",
        "      <th rowspan=\"3\" valign=\"top\">0.090909</th>\n",
        "      <th rowspan=\"2\" valign=\"top\">0.090909</th>\n",
        "      <th>0.090909</th>\n",
        "      <th>0.181818</th>\n",
        "      <td> 0.317242</td>\n",
        "      <td> 0.986542</td>\n",
        "      <td> 3.109745</td>\n",
        "    </tr>\n",
        "    <tr>\n",
        "      <th>0.181818</th>\n",
        "      <th>0.090909</th>\n",
        "      <td> 0.459369</td>\n",
        "      <td> 1.881047</td>\n",
        "      <td> 4.094846</td>\n",
        "    </tr>\n",
        "    <tr>\n",
        "      <th>0.181818</th>\n",
        "      <th>0.090909</th>\n",
        "      <th>0.090909</th>\n",
        "      <td> 0.514157</td>\n",
        "      <td> 1.452367</td>\n",
        "      <td> 2.824752</td>\n",
        "    </tr>\n",
        "    <tr>\n",
        "      <th>0.181818</th>\n",
        "      <th>0.090909</th>\n",
        "      <th>0.090909</th>\n",
        "      <th>0.090909</th>\n",
        "      <td> 0.387483</td>\n",
        "      <td> 0.490273</td>\n",
        "      <td> 1.265276</td>\n",
        "    </tr>\n",
        "    <tr>\n",
        "      <th>0.285714</th>\n",
        "      <th>0.142857</th>\n",
        "      <th>0.142857</th>\n",
        "      <th>0.142857</th>\n",
        "      <th>0.142857</th>\n",
        "      <th>0.142857</th>\n",
        "      <td> 0.444618</td>\n",
        "      <td> 1.598174</td>\n",
        "      <td> 3.594490</td>\n",
        "    </tr>\n",
        "    <tr>\n",
        "      <th rowspan=\"15\" valign=\"top\">0.300000</th>\n",
        "      <th rowspan=\"10\" valign=\"top\">0.100000</th>\n",
        "      <th rowspan=\"6\" valign=\"top\">0.100000</th>\n",
        "      <th rowspan=\"3\" valign=\"top\">0.100000</th>\n",
        "      <th>0.100000</th>\n",
        "      <th>0.300000</th>\n",
        "      <td> 0.334329</td>\n",
        "      <td> 1.128109</td>\n",
        "      <td> 3.374249</td>\n",
        "    </tr>\n",
        "    <tr>\n",
        "      <th>0.200000</th>\n",
        "      <th>0.200000</th>\n",
        "      <td> 0.454892</td>\n",
        "      <td> 1.995141</td>\n",
        "      <td> 4.385962</td>\n",
        "    </tr>\n",
        "    <tr>\n",
        "      <th>0.300000</th>\n",
        "      <th>0.100000</th>\n",
        "      <td> 0.619109</td>\n",
        "      <td> 2.532491</td>\n",
        "      <td> 4.090540</td>\n",
        "    </tr>\n",
        "    <tr>\n",
        "      <th rowspan=\"2\" valign=\"top\">0.200000</th>\n",
        "      <th>0.100000</th>\n",
        "      <th>0.200000</th>\n",
        "      <td> 0.519637</td>\n",
        "      <td> 1.526964</td>\n",
        "      <td> 2.938523</td>\n",
        "    </tr>\n",
        "    <tr>\n",
        "      <th>0.200000</th>\n",
        "      <th>0.100000</th>\n",
        "      <td> 0.606196</td>\n",
        "      <td> 2.165107</td>\n",
        "      <td> 3.571627</td>\n",
        "    </tr>\n",
        "    <tr>\n",
        "      <th>0.300000</th>\n",
        "      <th>0.100000</th>\n",
        "      <th>0.100000</th>\n",
        "      <td> 0.685282</td>\n",
        "      <td> 1.580872</td>\n",
        "      <td> 2.306891</td>\n",
        "    </tr>\n",
        "    <tr>\n",
        "      <th rowspan=\"3\" valign=\"top\">0.200000</th>\n",
        "      <th rowspan=\"2\" valign=\"top\">0.100000</th>\n",
        "      <th>0.100000</th>\n",
        "      <th>0.200000</th>\n",
        "      <td> 0.401042</td>\n",
        "      <td> 0.540606</td>\n",
        "      <td> 1.348004</td>\n",
        "    </tr>\n",
        "    <tr>\n",
        "      <th>0.200000</th>\n",
        "      <th>0.100000</th>\n",
        "      <td> 0.451904</td>\n",
        "      <td> 1.479559</td>\n",
        "      <td> 3.274053</td>\n",
        "    </tr>\n",
        "    <tr>\n",
        "      <th>0.200000</th>\n",
        "      <th>0.100000</th>\n",
        "      <th>0.100000</th>\n",
        "      <td> 0.545987</td>\n",
        "      <td> 1.124237</td>\n",
        "      <td> 2.059092</td>\n",
        "    </tr>\n",
        "    <tr>\n",
        "      <th>0.300000</th>\n",
        "      <th>0.100000</th>\n",
        "      <th>0.100000</th>\n",
        "      <th>0.100000</th>\n",
        "      <td> 0.479367</td>\n",
        "      <td> 0.518093</td>\n",
        "      <td> 1.080786</td>\n",
        "    </tr>\n",
        "    <tr>\n",
        "      <th rowspan=\"4\" valign=\"top\">0.200000</th>\n",
        "      <th rowspan=\"3\" valign=\"top\">0.100000</th>\n",
        "      <th rowspan=\"2\" valign=\"top\">0.100000</th>\n",
        "      <th>0.100000</th>\n",
        "      <th>0.200000</th>\n",
        "      <td> 0.327397</td>\n",
        "      <td> 1.094299</td>\n",
        "      <td> 3.342426</td>\n",
        "    </tr>\n",
        "    <tr>\n",
        "      <th>0.200000</th>\n",
        "      <th>0.100000</th>\n",
        "      <td> 0.464667</td>\n",
        "      <td> 1.981214</td>\n",
        "      <td> 4.263729</td>\n",
        "    </tr>\n",
        "    <tr>\n",
        "      <th>0.200000</th>\n",
        "      <th>0.100000</th>\n",
        "      <th>0.100000</th>\n",
        "      <td> 0.536511</td>\n",
        "      <td> 1.534268</td>\n",
        "      <td> 2.859713</td>\n",
        "    </tr>\n",
        "    <tr>\n",
        "      <th>0.200000</th>\n",
        "      <th>0.100000</th>\n",
        "      <th>0.100000</th>\n",
        "      <th>0.100000</th>\n",
        "      <td> 0.394908</td>\n",
        "      <td> 0.537264</td>\n",
        "      <td> 1.360478</td>\n",
        "    </tr>\n",
        "    <tr>\n",
        "      <th>0.300000</th>\n",
        "      <th>0.100000</th>\n",
        "      <th>0.100000</th>\n",
        "      <th>0.100000</th>\n",
        "      <th>0.100000</th>\n",
        "      <td> 0.333941</td>\n",
        "      <td> 1.098700</td>\n",
        "      <td> 3.290096</td>\n",
        "    </tr>\n",
        "    <tr>\n",
        "      <th rowspan=\"5\" valign=\"top\">0.333333</th>\n",
        "      <th rowspan=\"4\" valign=\"top\">0.111111</th>\n",
        "      <th rowspan=\"3\" valign=\"top\">0.111111</th>\n",
        "      <th rowspan=\"2\" valign=\"top\">0.111111</th>\n",
        "      <th>0.111111</th>\n",
        "      <th>0.222222</th>\n",
        "      <td> 0.345992</td>\n",
        "      <td> 1.263676</td>\n",
        "      <td> 3.652324</td>\n",
        "    </tr>\n",
        "    <tr>\n",
        "      <th>0.222222</th>\n",
        "      <th>0.111111</th>\n",
        "      <td> 0.474331</td>\n",
        "      <td> 2.177196</td>\n",
        "      <td> 4.590033</td>\n",
        "    </tr>\n",
        "    <tr>\n",
        "      <th>0.222222</th>\n",
        "      <th>0.111111</th>\n",
        "      <th>0.111111</th>\n",
        "      <td> 0.568818</td>\n",
        "      <td> 1.618515</td>\n",
        "      <td> 2.845401</td>\n",
        "    </tr>\n",
        "    <tr>\n",
        "      <th>0.222222</th>\n",
        "      <th>0.111111</th>\n",
        "      <th>0.111111</th>\n",
        "      <th>0.111111</th>\n",
        "      <td> 0.411732</td>\n",
        "      <td> 0.626359</td>\n",
        "      <td> 1.521279</td>\n",
        "    </tr>\n",
        "    <tr>\n",
        "      <th>0.222222</th>\n",
        "      <th>0.111111</th>\n",
        "      <th>0.111111</th>\n",
        "      <th>0.111111</th>\n",
        "      <th>0.111111</th>\n",
        "      <td> 0.346034</td>\n",
        "      <td> 1.212597</td>\n",
        "      <td> 3.504275</td>\n",
        "    </tr>\n",
        "    <tr>\n",
        "      <th>0.375000</th>\n",
        "      <th>0.125000</th>\n",
        "      <th>0.125000</th>\n",
        "      <th>0.125000</th>\n",
        "      <th>0.125000</th>\n",
        "      <th>0.125000</th>\n",
        "      <td> 0.356671</td>\n",
        "      <td> 1.400804</td>\n",
        "      <td> 3.927442</td>\n",
        "    </tr>\n",
        "  </tbody>\n",
        "</table>\n",
        "<p>727 rows \u00d7 3 columns</p>\n",
        "</div>"
       ],
       "metadata": {},
       "output_type": "pyout",
       "prompt_number": 103,
       "text": [
        "                                                                   good  \\\n",
        "ADelay   ARXP     ATXP     RXThroughput PLR      TXThroughput             \n",
        "0.062500 0.187500 0.187500 0.187500     0.187500 0.187500      0.627245   \n",
        "0.066667 0.133333 0.200000 0.200000     0.200000 0.200000      0.644100   \n",
        "         0.200000 0.133333 0.200000     0.200000 0.200000      0.668479   \n",
        "                  0.200000 0.133333     0.200000 0.200000      0.569209   \n",
        "                           0.200000     0.133333 0.200000      0.650993   \n",
        "                                        0.200000 0.133333      0.654347   \n",
        "0.071429 0.071429 0.214286 0.214286     0.214286 0.214286      0.666315   \n",
        "         0.142857 0.142857 0.214286     0.214286 0.214286      0.672000   \n",
        "                  0.214286 0.142857     0.214286 0.214286      0.596268   \n",
        "                           0.214286     0.142857 0.214286      0.673690   \n",
        "                                        0.214286 0.142857      0.672341   \n",
        "         0.214286 0.071429 0.214286     0.214286 0.214286      0.757852   \n",
        "                  0.142857 0.142857     0.214286 0.214286      0.602919   \n",
        "                           0.214286     0.142857 0.214286      0.669629   \n",
        "                                        0.214286 0.142857      0.710679   \n",
        "                  0.214286 0.071429     0.214286 0.214286      0.518521   \n",
        "                           0.142857     0.142857 0.214286      0.567951   \n",
        "                                        0.214286 0.142857      0.603739   \n",
        "                           0.214286     0.071429 0.214286      0.646198   \n",
        "                                        0.142857 0.142857      0.680832   \n",
        "                                        0.214286 0.071429      0.679571   \n",
        "0.076923 0.076923 0.153846 0.230769     0.230769 0.230769      0.686448   \n",
        "                  0.230769 0.153846     0.230769 0.230769      0.621600   \n",
        "                           0.230769     0.153846 0.230769      0.699006   \n",
        "                                        0.230769 0.153846      0.687318   \n",
        "         0.153846 0.076923 0.230769     0.230769 0.230769      0.775883   \n",
        "                  0.153846 0.153846     0.230769 0.230769      0.622301   \n",
        "                           0.230769     0.153846 0.230769      0.700524   \n",
        "                                        0.230769 0.153846      0.712344   \n",
        "                  0.230769 0.076923     0.230769 0.230769      0.542961   \n",
        "...                                                                 ...   \n",
        "0.272727 0.181818 0.181818 0.090909     0.090909 0.181818      0.384794   \n",
        "                                        0.181818 0.090909      0.451181   \n",
        "                           0.181818     0.090909 0.090909      0.530798   \n",
        "                  0.272727 0.090909     0.090909 0.090909      0.456995   \n",
        "         0.272727 0.090909 0.090909     0.090909 0.181818      0.317242   \n",
        "                                        0.181818 0.090909      0.459369   \n",
        "                           0.181818     0.090909 0.090909      0.514157   \n",
        "                  0.181818 0.090909     0.090909 0.090909      0.387483   \n",
        "0.285714 0.142857 0.142857 0.142857     0.142857 0.142857      0.444618   \n",
        "0.300000 0.100000 0.100000 0.100000     0.100000 0.300000      0.334329   \n",
        "                                        0.200000 0.200000      0.454892   \n",
        "                                        0.300000 0.100000      0.619109   \n",
        "                           0.200000     0.100000 0.200000      0.519637   \n",
        "                                        0.200000 0.100000      0.606196   \n",
        "                           0.300000     0.100000 0.100000      0.685282   \n",
        "                  0.200000 0.100000     0.100000 0.200000      0.401042   \n",
        "                                        0.200000 0.100000      0.451904   \n",
        "                           0.200000     0.100000 0.100000      0.545987   \n",
        "                  0.300000 0.100000     0.100000 0.100000      0.479367   \n",
        "         0.200000 0.100000 0.100000     0.100000 0.200000      0.327397   \n",
        "                                        0.200000 0.100000      0.464667   \n",
        "                           0.200000     0.100000 0.100000      0.536511   \n",
        "                  0.200000 0.100000     0.100000 0.100000      0.394908   \n",
        "         0.300000 0.100000 0.100000     0.100000 0.100000      0.333941   \n",
        "0.333333 0.111111 0.111111 0.111111     0.111111 0.222222      0.345992   \n",
        "                                        0.222222 0.111111      0.474331   \n",
        "                           0.222222     0.111111 0.111111      0.568818   \n",
        "                  0.222222 0.111111     0.111111 0.111111      0.411732   \n",
        "         0.222222 0.111111 0.111111     0.111111 0.111111      0.346034   \n",
        "0.375000 0.125000 0.125000 0.125000     0.125000 0.125000      0.356671   \n",
        "\n",
        "                                                                selfish  \\\n",
        "ADelay   ARXP     ATXP     RXThroughput PLR      TXThroughput             \n",
        "0.062500 0.187500 0.187500 0.187500     0.187500 0.187500      2.070928   \n",
        "0.066667 0.133333 0.200000 0.200000     0.200000 0.200000      2.192279   \n",
        "         0.200000 0.133333 0.200000     0.200000 0.200000      2.241764   \n",
        "                  0.200000 0.133333     0.200000 0.200000      1.741868   \n",
        "                           0.200000     0.133333 0.200000      1.507231   \n",
        "                                        0.200000 0.133333      2.197031   \n",
        "0.071429 0.071429 0.214286 0.214286     0.214286 0.214286      2.339064   \n",
        "         0.142857 0.142857 0.214286     0.214286 0.214286      2.362385   \n",
        "                  0.214286 0.142857     0.214286 0.214286      1.888136   \n",
        "                           0.214286     0.142857 0.214286      1.595614   \n",
        "                                        0.214286 0.142857      2.327256   \n",
        "         0.214286 0.071429 0.214286     0.214286 0.214286      2.295962   \n",
        "                  0.142857 0.142857     0.214286 0.214286      2.206713   \n",
        "                           0.214286     0.142857 0.214286      1.785523   \n",
        "                                        0.214286 0.142857      2.330789   \n",
        "                  0.214286 0.071429     0.214286 0.214286      1.271321   \n",
        "                           0.142857     0.142857 0.214286      1.090369   \n",
        "                                        0.214286 0.142857      1.863605   \n",
        "                           0.214286     0.071429 0.214286      0.892863   \n",
        "                                        0.142857 0.142857      1.618196   \n",
        "                                        0.214286 0.071429      2.342088   \n",
        "0.076923 0.076923 0.153846 0.230769     0.230769 0.230769      2.491440   \n",
        "                  0.230769 0.153846     0.230769 0.230769      2.049278   \n",
        "                           0.230769     0.153846 0.230769      1.707419   \n",
        "                                        0.230769 0.153846      2.472606   \n",
        "         0.153846 0.076923 0.230769     0.230769 0.230769      2.440905   \n",
        "                  0.153846 0.153846     0.230769 0.230769      2.400294   \n",
        "                           0.230769     0.153846 0.230769      1.857692   \n",
        "                                        0.230769 0.153846      2.455219   \n",
        "                  0.230769 0.076923     0.230769 0.230769      1.380330   \n",
        "...                                                                 ...   \n",
        "0.272727 0.181818 0.181818 0.090909     0.090909 0.181818      0.470411   \n",
        "                                        0.181818 0.090909      1.295951   \n",
        "                           0.181818     0.090909 0.090909      1.042622   \n",
        "                  0.272727 0.090909     0.090909 0.090909      0.457861   \n",
        "         0.272727 0.090909 0.090909     0.090909 0.181818      0.986542   \n",
        "                                        0.181818 0.090909      1.881047   \n",
        "                           0.181818     0.090909 0.090909      1.452367   \n",
        "                  0.181818 0.090909     0.090909 0.090909      0.490273   \n",
        "0.285714 0.142857 0.142857 0.142857     0.142857 0.142857      1.598174   \n",
        "0.300000 0.100000 0.100000 0.100000     0.100000 0.300000      1.128109   \n",
        "                                        0.200000 0.200000      1.995141   \n",
        "                                        0.300000 0.100000      2.532491   \n",
        "                           0.200000     0.100000 0.200000      1.526964   \n",
        "                                        0.200000 0.100000      2.165107   \n",
        "                           0.300000     0.100000 0.100000      1.580872   \n",
        "                  0.200000 0.100000     0.100000 0.200000      0.540606   \n",
        "                                        0.200000 0.100000      1.479559   \n",
        "                           0.200000     0.100000 0.100000      1.124237   \n",
        "                  0.300000 0.100000     0.100000 0.100000      0.518093   \n",
        "         0.200000 0.100000 0.100000     0.100000 0.200000      1.094299   \n",
        "                                        0.200000 0.100000      1.981214   \n",
        "                           0.200000     0.100000 0.100000      1.534268   \n",
        "                  0.200000 0.100000     0.100000 0.100000      0.537264   \n",
        "         0.300000 0.100000 0.100000     0.100000 0.100000      1.098700   \n",
        "0.333333 0.111111 0.111111 0.111111     0.111111 0.222222      1.263676   \n",
        "                                        0.222222 0.111111      2.177196   \n",
        "                           0.222222     0.111111 0.111111      1.618515   \n",
        "                  0.222222 0.111111     0.111111 0.111111      0.626359   \n",
        "         0.222222 0.111111 0.111111     0.111111 0.111111      1.212597   \n",
        "0.375000 0.125000 0.125000 0.125000     0.125000 0.125000      1.400804   \n",
        "\n",
        "                                                                  ratio  \n",
        "ADelay   ARXP     ATXP     RXThroughput PLR      TXThroughput            \n",
        "0.062500 0.187500 0.187500 0.187500     0.187500 0.187500      3.301627  \n",
        "0.066667 0.133333 0.200000 0.200000     0.200000 0.200000      3.403631  \n",
        "         0.200000 0.133333 0.200000     0.200000 0.200000      3.353527  \n",
        "                  0.200000 0.133333     0.200000 0.200000      3.060155  \n",
        "                           0.200000     0.133333 0.200000      2.315281  \n",
        "                                        0.200000 0.133333      3.357593  \n",
        "0.071429 0.071429 0.214286 0.214286     0.214286 0.214286      3.510448  \n",
        "         0.142857 0.142857 0.214286     0.214286 0.214286      3.515452  \n",
        "                  0.214286 0.142857     0.214286 0.214286      3.166589  \n",
        "                           0.214286     0.142857 0.214286      2.368469  \n",
        "                                        0.214286 0.142857      3.461421  \n",
        "         0.214286 0.071429 0.214286     0.214286 0.214286      3.029564  \n",
        "                  0.142857 0.142857     0.214286 0.214286      3.660050  \n",
        "                           0.214286     0.142857 0.214286      2.666436  \n",
        "                                        0.214286 0.142857      3.279664  \n",
        "                  0.214286 0.071429     0.214286 0.214286      2.451819  \n",
        "                           0.142857     0.142857 0.214286      1.919830  \n",
        "                                        0.214286 0.142857      3.086772  \n",
        "                           0.214286     0.071429 0.214286      1.381717  \n",
        "                                        0.142857 0.142857      2.376791  \n",
        "                                        0.214286 0.071429      3.446422  \n",
        "0.076923 0.076923 0.153846 0.230769     0.230769 0.230769      3.629464  \n",
        "                  0.230769 0.153846     0.230769 0.230769      3.296782  \n",
        "                           0.230769     0.153846 0.230769      2.442639  \n",
        "                                        0.230769 0.153846      3.597471  \n",
        "         0.153846 0.076923 0.230769     0.230769 0.230769      3.145971  \n",
        "                  0.153846 0.153846     0.230769 0.230769      3.857128  \n",
        "                           0.230769     0.153846 0.230769      2.651860  \n",
        "                                        0.230769 0.153846      3.446675  \n",
        "                  0.230769 0.076923     0.230769 0.230769      2.542227  \n",
        "...                                                                 ...  \n",
        "0.272727 0.181818 0.181818 0.090909     0.090909 0.181818      1.222500  \n",
        "                                        0.181818 0.090909      2.872350  \n",
        "                           0.181818     0.090909 0.090909      1.964255  \n",
        "                  0.272727 0.090909     0.090909 0.090909      1.001894  \n",
        "         0.272727 0.090909 0.090909     0.090909 0.181818      3.109745  \n",
        "                                        0.181818 0.090909      4.094846  \n",
        "                           0.181818     0.090909 0.090909      2.824752  \n",
        "                  0.181818 0.090909     0.090909 0.090909      1.265276  \n",
        "0.285714 0.142857 0.142857 0.142857     0.142857 0.142857      3.594490  \n",
        "0.300000 0.100000 0.100000 0.100000     0.100000 0.300000      3.374249  \n",
        "                                        0.200000 0.200000      4.385962  \n",
        "                                        0.300000 0.100000      4.090540  \n",
        "                           0.200000     0.100000 0.200000      2.938523  \n",
        "                                        0.200000 0.100000      3.571627  \n",
        "                           0.300000     0.100000 0.100000      2.306891  \n",
        "                  0.200000 0.100000     0.100000 0.200000      1.348004  \n",
        "                                        0.200000 0.100000      3.274053  \n",
        "                           0.200000     0.100000 0.100000      2.059092  \n",
        "                  0.300000 0.100000     0.100000 0.100000      1.080786  \n",
        "         0.200000 0.100000 0.100000     0.100000 0.200000      3.342426  \n",
        "                                        0.200000 0.100000      4.263729  \n",
        "                           0.200000     0.100000 0.100000      2.859713  \n",
        "                  0.200000 0.100000     0.100000 0.100000      1.360478  \n",
        "         0.300000 0.100000 0.100000     0.100000 0.100000      3.290096  \n",
        "0.333333 0.111111 0.111111 0.111111     0.111111 0.222222      3.652324  \n",
        "                                        0.222222 0.111111      4.590033  \n",
        "                           0.222222     0.111111 0.111111      2.845401  \n",
        "                  0.222222 0.111111     0.111111 0.111111      1.521279  \n",
        "         0.222222 0.111111 0.111111     0.111111 0.111111      3.504275  \n",
        "0.375000 0.125000 0.125000 0.125000     0.125000 0.125000      3.927442  \n",
        "\n",
        "[727 rows x 3 columns]"
       ]
      }
     ],
     "prompt_number": 103
    },
    {
     "cell_type": "code",
     "collapsed": false,
     "input": [],
     "language": "python",
     "metadata": {},
     "outputs": []
    },
    {
     "cell_type": "code",
     "collapsed": false,
     "input": [
      "import sklearn.decomposition as dec\n",
      "import sklearn.datasets as ds"
     ],
     "language": "python",
     "metadata": {},
     "outputs": [],
     "prompt_number": 104
    },
    {
     "cell_type": "code",
     "collapsed": false,
     "input": [
      "data = []\n",
      "target = []\n",
      "for k,v in dp.iterrows():\n",
      "    data.append(k)\n",
      "    target.append(v['ratio'])"
     ],
     "language": "python",
     "metadata": {},
     "outputs": [],
     "prompt_number": 105
    },
    {
     "cell_type": "code",
     "collapsed": false,
     "input": [
      "dec.PCA().fit_transform(data)"
     ],
     "language": "python",
     "metadata": {},
     "outputs": [
      {
       "metadata": {},
       "output_type": "pyout",
       "prompt_number": 84,
       "text": [
        "array([[  1.193e-01,  -6.086e-02,  -8.334e-02,   9.140e-03,  -2.600e-01,\n",
        "         -5.863e-17],\n",
        "       [ -2.283e-01,  -6.086e-02,   1.128e-01,  -1.428e-01,  -6.045e-02,\n",
        "         -5.863e-17],\n",
        "       [  9.062e-02,  -6.086e-02,   2.248e-01,   1.626e-01,   6.069e-02,\n",
        "         -5.863e-17],\n",
        "       [  1.440e-01,  -6.086e-02,  -6.168e-02,  -1.931e-01,   1.645e-01,\n",
        "         -5.863e-17],\n",
        "       [ -1.257e-01,  -6.086e-02,  -1.926e-01,   1.641e-01,   9.530e-02,\n",
        "         -5.863e-17],\n",
        "       [  5.551e-17,   3.043e-01,  -1.850e-17,  -1.503e-17,   7.401e-17,\n",
        "         -5.863e-17]])"
       ]
      }
     ],
     "prompt_number": 84
    },
    {
     "cell_type": "code",
     "collapsed": false,
     "input": [],
     "language": "python",
     "metadata": {},
     "outputs": [],
     "prompt_number": 1
    },
    {
     "cell_type": "code",
     "collapsed": false,
     "input": [
      "import seaborn as sns"
     ],
     "language": "python",
     "metadata": {},
     "outputs": [],
     "prompt_number": 111
    },
    {
     "cell_type": "code",
     "collapsed": false,
     "input": [
      "outliers"
     ],
     "language": "python",
     "metadata": {},
     "outputs": [
      {
       "ename": "NameError",
       "evalue": "name 'outliers' is not defined",
       "output_type": "pyerr",
       "traceback": [
        "\u001b[0;31m---------------------------------------------------------------------------\u001b[0m\n\u001b[0;31mNameError\u001b[0m                                 Traceback (most recent call last)",
        "\u001b[0;32m<ipython-input-1-f7af90f97eee>\u001b[0m in \u001b[0;36m<module>\u001b[0;34m()\u001b[0m\n\u001b[0;32m----> 1\u001b[0;31m \u001b[0moutliers\u001b[0m\u001b[0;34m\u001b[0m\u001b[0m\n\u001b[0m",
        "\u001b[0;31mNameError\u001b[0m: name 'outliers' is not defined"
       ]
      }
     ],
     "prompt_number": 1
    },
    {
     "cell_type": "code",
     "collapsed": false,
     "input": [
      "dp_r=dp.ratio.reset_index()\n",
      "Sfet=feature_extractor(dp_r,'ratio')\n",
      "Sfet.sort(ascending=False)\n",
      "Sfet.plot(kind='bar')\n",
      "Sfet.keys()"
     ],
     "language": "python",
     "metadata": {},
     "outputs": [
      {
       "ename": "NameError",
       "evalue": "name 'dp' is not defined",
       "output_type": "pyerr",
       "traceback": [
        "\u001b[0;31m---------------------------------------------------------------------------\u001b[0m\n\u001b[0;31mNameError\u001b[0m                                 Traceback (most recent call last)",
        "\u001b[0;32m<ipython-input-1-71ce60256768>\u001b[0m in \u001b[0;36m<module>\u001b[0;34m()\u001b[0m\n\u001b[0;32m----> 1\u001b[0;31m \u001b[0mdp_r\u001b[0m\u001b[0;34m=\u001b[0m\u001b[0mdp\u001b[0m\u001b[0;34m.\u001b[0m\u001b[0mratio\u001b[0m\u001b[0;34m.\u001b[0m\u001b[0mreset_index\u001b[0m\u001b[0;34m(\u001b[0m\u001b[0;34m)\u001b[0m\u001b[0;34m\u001b[0m\u001b[0m\n\u001b[0m\u001b[1;32m      2\u001b[0m \u001b[0mSfet\u001b[0m\u001b[0;34m=\u001b[0m\u001b[0mfeature_extractor\u001b[0m\u001b[0;34m(\u001b[0m\u001b[0mdp_r\u001b[0m\u001b[0;34m,\u001b[0m\u001b[0;34m'ratio'\u001b[0m\u001b[0;34m)\u001b[0m\u001b[0;34m\u001b[0m\u001b[0m\n\u001b[1;32m      3\u001b[0m \u001b[0mSfet\u001b[0m\u001b[0;34m.\u001b[0m\u001b[0msort\u001b[0m\u001b[0;34m(\u001b[0m\u001b[0mascending\u001b[0m\u001b[0;34m=\u001b[0m\u001b[0mFalse\u001b[0m\u001b[0;34m)\u001b[0m\u001b[0;34m\u001b[0m\u001b[0m\n\u001b[1;32m      4\u001b[0m \u001b[0mSfet\u001b[0m\u001b[0;34m.\u001b[0m\u001b[0mplot\u001b[0m\u001b[0;34m(\u001b[0m\u001b[0mkind\u001b[0m\u001b[0;34m=\u001b[0m\u001b[0;34m'bar'\u001b[0m\u001b[0;34m)\u001b[0m\u001b[0;34m\u001b[0m\u001b[0m\n\u001b[1;32m      5\u001b[0m \u001b[0mSfet\u001b[0m\u001b[0;34m.\u001b[0m\u001b[0mkeys\u001b[0m\u001b[0;34m(\u001b[0m\u001b[0;34m)\u001b[0m\u001b[0;34m\u001b[0m\u001b[0m\n",
        "\u001b[0;31mNameError\u001b[0m: name 'dp' is not defined"
       ]
      }
     ],
     "prompt_number": 1
    },
    {
     "cell_type": "code",
     "collapsed": false,
     "input": [
      "for k in ['pearson','spearman','kendall']:\n",
      "    dp_corr = dp_r.corr(method=k).loc['ratio']\n",
      "    dp_corr.drop('ratio', inplace=True)\n",
      "    dp_corr.sort()\n",
      "    dp_corr.plot(label=k)\n",
      "plt.legend()"
     ],
     "language": "python",
     "metadata": {},
     "outputs": [
      {
       "metadata": {},
       "output_type": "pyout",
       "prompt_number": 238,
       "text": [
        "<matplotlib.legend.Legend at 0x7f722dbffd10>"
       ]
      },
      {
       "metadata": {},
       "output_type": "display_data",
       "png": "[encoded data removed]",
       "text": [
        "<matplotlib.figure.Figure at 0x7f722dd089d0>"
       ]
      }
     ],
     "prompt_number": 238
    },
    {
     "cell_type": "code",
     "collapsed": false,
     "input": [
      "for k in Sfet.keys():\n",
      "    sns.jointplot(k,\"good\",dp_r, kind=\"reg\", xlim=(0,0.5))"
     ],
     "language": "python",
     "metadata": {},
     "outputs": [
      {
       "ename": "NameError",
       "evalue": "name 'Sfet' is not defined",
       "output_type": "pyerr",
       "traceback": [
        "\u001b[0;31m---------------------------------------------------------------------------\u001b[0m\n\u001b[0;31mNameError\u001b[0m                                 Traceback (most recent call last)",
        "\u001b[0;32m<ipython-input-1-0feb2d17fafe>\u001b[0m in \u001b[0;36m<module>\u001b[0;34m()\u001b[0m\n\u001b[0;32m----> 1\u001b[0;31m \u001b[0;32mfor\u001b[0m \u001b[0mk\u001b[0m \u001b[0;32min\u001b[0m \u001b[0mSfet\u001b[0m\u001b[0;34m.\u001b[0m\u001b[0mkeys\u001b[0m\u001b[0;34m(\u001b[0m\u001b[0;34m)\u001b[0m\u001b[0;34m:\u001b[0m\u001b[0;34m\u001b[0m\u001b[0m\n\u001b[0m\u001b[1;32m      2\u001b[0m     \u001b[0msns\u001b[0m\u001b[0;34m.\u001b[0m\u001b[0mjointplot\u001b[0m\u001b[0;34m(\u001b[0m\u001b[0mk\u001b[0m\u001b[0;34m,\u001b[0m\u001b[0;34m\"good\"\u001b[0m\u001b[0;34m,\u001b[0m\u001b[0mdp_r\u001b[0m\u001b[0;34m,\u001b[0m \u001b[0mkind\u001b[0m\u001b[0;34m=\u001b[0m\u001b[0;34m\"reg\"\u001b[0m\u001b[0;34m,\u001b[0m \u001b[0mxlim\u001b[0m\u001b[0;34m=\u001b[0m\u001b[0;34m(\u001b[0m\u001b[0;36m0\u001b[0m\u001b[0;34m,\u001b[0m\u001b[0;36m0.5\u001b[0m\u001b[0;34m)\u001b[0m\u001b[0;34m)\u001b[0m\u001b[0;34m\u001b[0m\u001b[0m\n",
        "\u001b[0;31mNameError\u001b[0m: name 'Sfet' is not defined"
       ]
      }
     ],
     "prompt_number": 1
    },
    {
     "cell_type": "code",
     "collapsed": false,
     "input": [
      "pylab.rcParams['figure.figsize'] = (10.0, 8.0)\n",
      "\n",
      "with mpl.rc_context(rc={'text.usetex':'False'}):\n",
      "    sns.heatmap(dp_r[:100])\n",
      "    plt.show()"
     ],
     "language": "python",
     "metadata": {},
     "outputs": [
      {
       "metadata": {},
       "output_type": "display_data",
       "png": "[encoded data removed]",
       "text": [
        "<matplotlib.figure.Figure at 0x7f722ecad050>"
       ]
      }
     ],
     "prompt_number": 132
    },
    {
     "cell_type": "code",
     "collapsed": false,
     "input": [
      "import sklearn.datasets as skd\n",
      "import sklearn.ensemble as ske\n",
      "data = skd.load_boston()\n",
      "data.keys()"
     ],
     "language": "python",
     "metadata": {},
     "outputs": [
      {
       "metadata": {},
       "output_type": "pyout",
       "prompt_number": 163,
       "text": [
        "['data', 'feature_names', 'DESCR', 'target']"
       ]
      }
     ],
     "prompt_number": 163
    },
    {
     "cell_type": "code",
     "collapsed": false,
     "input": [
      "df=pd.DataFrame(data['data'], columns=data['feature_names'])\n",
      "df['target'] = pd.Series(data['target'], name=\"Target\")\n",
      "Sfet = feature_extractor(df,'target')\n",
      "Sfet.sort()\n",
      "Sfet.plot(kind='bar')\n",
      "plt.scatter(df.LSTAT, df.target)"
     ],
     "language": "python",
     "metadata": {},
     "outputs": [
      {
       "metadata": {},
       "output_type": "pyout",
       "prompt_number": 199,
       "text": [
        "<matplotlib.collections.PathCollection at 0x7f722ed6ab10>"
       ]
      },
      {
       "metadata": {},
       "output_type": "display_data",
       "png": "[encoded data removed]",
       "text": [
        "<matplotlib.figure.Figure at 0x7f722ed6a890>"
       ]
      }
     ],
     "prompt_number": 199
    },
    {
     "cell_type": "code",
     "collapsed": false,
     "input": [],
     "language": "python",
     "metadata": {},
     "outputs": [],
     "prompt_number": 183
    },
    {
     "cell_type": "code",
     "collapsed": false,
     "input": [
      "ax=plt.subplot(111)\n",
      "plt.bar(np.arange(len(fet_imp)), fet_imp, width=1, lw=2)\n",
      "xticks = ax.set_xticks(np.arange(len(fet_imp))+.5)\n",
      "xticklabels = ax.set_xticklabels(data['feature_names'][fet_ind])"
     ],
     "language": "python",
     "metadata": {},
     "outputs": [
      {
       "metadata": {},
       "output_type": "display_data",
       "png": "[encoded data removed]",
       "text": [
        "<matplotlib.figure.Figure at 0x7f722ecf5050>"
       ]
      }
     ],
     "prompt_number": 146
    },
    {
     "cell_type": "code",
     "collapsed": false,
     "input": [
      "pd.Series(dict(zip(data['feature_names'],reg.feature_importances_)))"
     ],
     "language": "python",
     "metadata": {},
     "outputs": [
      {
       "metadata": {},
       "output_type": "pyout",
       "prompt_number": 156,
       "text": [
        "AGE        0.016770\n",
        "B          0.008212\n",
        "CHAS       0.000739\n",
        "CRIM       0.029506\n",
        "DIS        0.065852\n",
        "INDUS      0.007009\n",
        "LSTAT      0.353511\n",
        "NOX        0.025729\n",
        "PTRATIO    0.020801\n",
        "RAD        0.003148\n",
        "RM         0.457754\n",
        "TAX        0.010222\n",
        "ZN         0.000747\n",
        "dtype: float64"
       ]
      }
     ],
     "prompt_number": 156
    },
    {
     "cell_type": "code",
     "collapsed": false,
     "input": [
      "reg.feature_importances_"
     ],
     "language": "python",
     "metadata": {},
     "outputs": [
      {
       "metadata": {},
       "output_type": "pyout",
       "prompt_number": 154,
       "text": [
        "array([ 0.03 ,  0.001,  0.007,  0.001,  0.026,  0.458,  0.017,  0.066,\n",
        "        0.003,  0.01 ,  0.021,  0.008,  0.354])"
       ]
      }
     ],
     "prompt_number": 154
    },
    {
     "cell_type": "code",
     "collapsed": false,
     "input": [],
     "language": "python",
     "metadata": {},
     "outputs": []
    }
   ],
   "metadata": {}
  }
 ]
}