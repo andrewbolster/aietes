{
 "metadata": {
  "name": "",
  "signature": "sha256:3a4bbe78d237c5e531d58d15be828532839372db1d120b75e18290cd7c446769"
 },
 "nbformat": 3,
 "nbformat_minor": 0,
 "worksheets": [
  {
   "cells": [
    {
     "cell_type": "code",
     "collapsed": false,
     "input": [
      "import polybos\n",
      "\n",
      "\n",
      "reload(polybos)\n",
      "import logging\n",
      "logging.root.setLevel(logging.INFO)\n",
      "\n",
      "exp = polybos.ExperimentManager(title=\"MACComparisons\",\n",
      "           parallel=False)\n",
      "\n",
      "macs = ['ALOHA4FBR','ALOHA','CSMA','CSMA4FBR']\n",
      "\n",
      "exp.add_varied_mutable_scenarios('mac',macs)\n",
      "s=exp.scenarios['mac(CSMA)']\n",
      "#exp._default_scenario.generate_config()\n",
      "s._default_config['Node']['Nodes']['__default__']['MAC']['protocol']"
     ],
     "language": "python",
     "metadata": {},
     "outputs": [
      {
       "output_type": "stream",
       "stream": "stderr",
       "text": [
        "INFO:root:No Config provided: Assume that the user wants a generic default\n"
       ]
      },
      {
       "output_type": "stream",
       "stream": "stderr",
       "text": [
        "INFO:root:Updating nodecount from 4 to 4\n"
       ]
      },
      {
       "output_type": "stream",
       "stream": "stderr",
       "text": [
        "INFO:root:Default Node Count Set to 4 from default scenario\n"
       ]
      },
      {
       "output_type": "stream",
       "stream": "stderr",
       "text": [
        "INFO:root:User provided a (hopefully complete) confobj\n"
       ]
      },
      {
       "output_type": "stream",
       "stream": "stderr",
       "text": [
        "INFO:root:Updating Default node: mac:ALOHA4FBR\n"
       ]
      },
      {
       "output_type": "stream",
       "stream": "stderr",
       "text": [
        "INFO:root:ALOHA4FBR\n"
       ]
      },
      {
       "output_type": "stream",
       "stream": "stderr",
       "text": [
        "INFO:root:User provided a (hopefully complete) confobj\n"
       ]
      },
      {
       "output_type": "stream",
       "stream": "stderr",
       "text": [
        "INFO:root:Updating Default node: mac:ALOHA\n"
       ]
      },
      {
       "output_type": "stream",
       "stream": "stderr",
       "text": [
        "INFO:root:ALOHA\n"
       ]
      },
      {
       "output_type": "stream",
       "stream": "stderr",
       "text": [
        "INFO:root:User provided a (hopefully complete) confobj\n"
       ]
      },
      {
       "output_type": "stream",
       "stream": "stderr",
       "text": [
        "INFO:root:Updating Default node: mac:CSMA\n"
       ]
      },
      {
       "output_type": "stream",
       "stream": "stderr",
       "text": [
        "INFO:root:CSMA\n"
       ]
      },
      {
       "output_type": "stream",
       "stream": "stderr",
       "text": [
        "INFO:root:User provided a (hopefully complete) confobj\n"
       ]
      },
      {
       "output_type": "stream",
       "stream": "stderr",
       "text": [
        "INFO:root:Updating Default node: mac:CSMA4FBR\n"
       ]
      },
      {
       "output_type": "stream",
       "stream": "stderr",
       "text": [
        "INFO:root:CSMA4FBR\n"
       ]
      },
      {
       "output_type": "stream",
       "stream": "stderr",
       "text": [
        "INFO:root:Updating nodecount from 0 to 4\n"
       ]
      },
      {
       "output_type": "stream",
       "stream": "stderr",
       "text": [
        "INFO:root:Updating nodecount from 0 to 4\n"
       ]
      },
      {
       "output_type": "stream",
       "stream": "stderr",
       "text": [
        "INFO:root:Updating nodecount from 0 to 4\n"
       ]
      },
      {
       "output_type": "stream",
       "stream": "stderr",
       "text": [
        "INFO:root:Updating nodecount from 0 to 4\n"
       ]
      },
      {
       "metadata": {},
       "output_type": "pyout",
       "prompt_number": 12,
       "text": [
        "'CSMA4FBR'"
       ]
      }
     ],
     "prompt_number": 12
    },
    {
     "cell_type": "code",
     "collapsed": false,
     "input": [
      "s.node_count"
     ],
     "language": "python",
     "metadata": {},
     "outputs": [
      {
       "metadata": {},
       "output_type": "pyout",
       "prompt_number": 13,
       "text": [
        "4"
       ]
      }
     ],
     "prompt_number": 13
    },
    {
     "cell_type": "code",
     "collapsed": false,
     "input": [
      "from bounos.multi_loader import dump_trust_logs_and_stats_from_exp_paths\n",
      "\n",
      "exp.run(runcount=4,queue=True)\n",
      "\n"
     ],
     "language": "python",
     "metadata": {},
     "outputs": [
      {
       "output_type": "stream",
       "stream": "stderr",
       "text": [
        "INFO:root:Scenario mac(CSMA4FBR) Committed with 0 nodes configured and 4 inherited from config file\n"
       ]
      },
      {
       "output_type": "stream",
       "stream": "stderr",
       "text": [
        "Scenario mac(CSMA4FBR) Committed with 0 nodes configured and 4 inherited from config file\n"
       ]
      },
      {
       "output_type": "stream",
       "stream": "stdout",
       "text": [
        "mac(CSMA4FBR)-0,"
       ]
      },
      {
       "output_type": "stream",
       "stream": "stderr",
       "text": [
        "INFO:root:Writing datafile to /home/bolster/src/aietes/results/MACComparisons-2015-08-12-12-35-52/mac(CSMA4FBR)/mac(CSMA4FBR)-0.aietes.npz\n"
       ]
      },
      {
       "output_type": "stream",
       "stream": "stderr",
       "text": [
        "Writing datafile to /home/bolster/src/aietes/results/MACComparisons-2015-08-12-12-35-52/mac(CSMA4FBR)/mac(CSMA4FBR)-0.aietes.npz\n"
       ]
      },
      {
       "output_type": "stream",
       "stream": "stderr",
       "text": [
        "INFO:root:0(/home/bolster/src/aietes/results/MACComparisons-2015-08-12-12-35-52/mac(CSMA4FBR)/mac(CSMA4FBR)-0.aietes.npz):100.000000%\n"
       ]
      },
      {
       "output_type": "stream",
       "stream": "stderr",
       "text": [
        "0(/home/bolster/src/aietes/results/MACComparisons-2015-08-12-12-35-52/mac(CSMA4FBR)/mac(CSMA4FBR)-0.aietes.npz):100.000000%\n"
       ]
      },
      {
       "output_type": "stream",
       "stream": "stdout",
       "text": [
        "mac(CSMA4FBR)-1,"
       ]
      },
      {
       "output_type": "stream",
       "stream": "stderr",
       "text": [
        "INFO:root:Writing datafile to /home/bolster/src/aietes/results/MACComparisons-2015-08-12-12-35-52/mac(CSMA4FBR)/mac(CSMA4FBR)-1.aietes.npz\n"
       ]
      },
      {
       "output_type": "stream",
       "stream": "stderr",
       "text": [
        "Writing datafile to /home/bolster/src/aietes/results/MACComparisons-2015-08-12-12-35-52/mac(CSMA4FBR)/mac(CSMA4FBR)-1.aietes.npz\n"
       ]
      },
      {
       "output_type": "stream",
       "stream": "stderr",
       "text": [
        "INFO:root:1(/home/bolster/src/aietes/results/MACComparisons-2015-08-12-12-35-52/mac(CSMA4FBR)/mac(CSMA4FBR)-1.aietes.npz):100.000000%\n"
       ]
      },
      {
       "output_type": "stream",
       "stream": "stderr",
       "text": [
        "1(/home/bolster/src/aietes/results/MACComparisons-2015-08-12-12-35-52/mac(CSMA4FBR)/mac(CSMA4FBR)-1.aietes.npz):100.000000%\n"
       ]
      },
      {
       "output_type": "stream",
       "stream": "stdout",
       "text": [
        "mac(CSMA4FBR)-2,"
       ]
      },
      {
       "output_type": "stream",
       "stream": "stderr",
       "text": [
        "INFO:root:Writing datafile to /home/bolster/src/aietes/results/MACComparisons-2015-08-12-12-35-52/mac(CSMA4FBR)/mac(CSMA4FBR)-2.aietes.npz\n"
       ]
      },
      {
       "output_type": "stream",
       "stream": "stderr",
       "text": [
        "Writing datafile to /home/bolster/src/aietes/results/MACComparisons-2015-08-12-12-35-52/mac(CSMA4FBR)/mac(CSMA4FBR)-2.aietes.npz\n"
       ]
      },
      {
       "output_type": "stream",
       "stream": "stderr",
       "text": [
        "INFO:root:2(/home/bolster/src/aietes/results/MACComparisons-2015-08-12-12-35-52/mac(CSMA4FBR)/mac(CSMA4FBR)-2.aietes.npz):100.000000%\n"
       ]
      },
      {
       "output_type": "stream",
       "stream": "stderr",
       "text": [
        "2(/home/bolster/src/aietes/results/MACComparisons-2015-08-12-12-35-52/mac(CSMA4FBR)/mac(CSMA4FBR)-2.aietes.npz):100.000000%\n"
       ]
      },
      {
       "output_type": "stream",
       "stream": "stdout",
       "text": [
        "mac(CSMA4FBR)-3,"
       ]
      },
      {
       "output_type": "stream",
       "stream": "stderr",
       "text": [
        "INFO:root:Writing datafile to /home/bolster/src/aietes/results/MACComparisons-2015-08-12-12-35-52/mac(CSMA4FBR)/mac(CSMA4FBR)-3.aietes.npz\n"
       ]
      },
      {
       "output_type": "stream",
       "stream": "stderr",
       "text": [
        "Writing datafile to /home/bolster/src/aietes/results/MACComparisons-2015-08-12-12-35-52/mac(CSMA4FBR)/mac(CSMA4FBR)-3.aietes.npz\n"
       ]
      },
      {
       "output_type": "stream",
       "stream": "stderr",
       "text": [
        "INFO:root:3(/home/bolster/src/aietes/results/MACComparisons-2015-08-12-12-35-52/mac(CSMA4FBR)/mac(CSMA4FBR)-3.aietes.npz):100.000000%\n"
       ]
      },
      {
       "output_type": "stream",
       "stream": "stderr",
       "text": [
        "3(/home/bolster/src/aietes/results/MACComparisons-2015-08-12-12-35-52/mac(CSMA4FBR)/mac(CSMA4FBR)-3.aietes.npz):100.000000%\n"
       ]
      },
      {
       "output_type": "stream",
       "stream": "stderr",
       "text": [
        "INFO:root:done 4 runs for 3600 each\n"
       ]
      },
      {
       "output_type": "stream",
       "stream": "stderr",
       "text": [
        "done 4 runs for 3600 each\n"
       ]
      },
      {
       "output_type": "stream",
       "stream": "stderr",
       "text": [
        "INFO:root:Scenario mac(ALOHA4FBR) Committed with 0 nodes configured and 4 inherited from config file\n"
       ]
      },
      {
       "output_type": "stream",
       "stream": "stderr",
       "text": [
        "Scenario mac(ALOHA4FBR) Committed with 0 nodes configured and 4 inherited from config file\n"
       ]
      },
      {
       "output_type": "stream",
       "stream": "stdout",
       "text": [
        "mac(ALOHA4FBR)-0,"
       ]
      },
      {
       "output_type": "stream",
       "stream": "stderr",
       "text": [
        "INFO:root:Writing datafile to /home/bolster/src/aietes/results/MACComparisons-2015-08-12-12-35-52/mac(ALOHA4FBR)/mac(ALOHA4FBR)-0.aietes.npz\n"
       ]
      },
      {
       "output_type": "stream",
       "stream": "stderr",
       "text": [
        "Writing datafile to /home/bolster/src/aietes/results/MACComparisons-2015-08-12-12-35-52/mac(ALOHA4FBR)/mac(ALOHA4FBR)-0.aietes.npz\n"
       ]
      },
      {
       "output_type": "stream",
       "stream": "stderr",
       "text": [
        "INFO:root:0(/home/bolster/src/aietes/results/MACComparisons-2015-08-12-12-35-52/mac(ALOHA4FBR)/mac(ALOHA4FBR)-0.aietes.npz):100.000000%\n"
       ]
      },
      {
       "output_type": "stream",
       "stream": "stderr",
       "text": [
        "0(/home/bolster/src/aietes/results/MACComparisons-2015-08-12-12-35-52/mac(ALOHA4FBR)/mac(ALOHA4FBR)-0.aietes.npz):100.000000%\n"
       ]
      },
      {
       "output_type": "stream",
       "stream": "stdout",
       "text": [
        "mac(ALOHA4FBR)-1,"
       ]
      },
      {
       "output_type": "stream",
       "stream": "stderr",
       "text": [
        "INFO:root:Writing datafile to /home/bolster/src/aietes/results/MACComparisons-2015-08-12-12-35-52/mac(ALOHA4FBR)/mac(ALOHA4FBR)-1.aietes.npz\n"
       ]
      },
      {
       "output_type": "stream",
       "stream": "stderr",
       "text": [
        "Writing datafile to /home/bolster/src/aietes/results/MACComparisons-2015-08-12-12-35-52/mac(ALOHA4FBR)/mac(ALOHA4FBR)-1.aietes.npz\n"
       ]
      },
      {
       "output_type": "stream",
       "stream": "stderr",
       "text": [
        "INFO:root:1(/home/bolster/src/aietes/results/MACComparisons-2015-08-12-12-35-52/mac(ALOHA4FBR)/mac(ALOHA4FBR)-1.aietes.npz):100.000000%\n"
       ]
      },
      {
       "output_type": "stream",
       "stream": "stderr",
       "text": [
        "1(/home/bolster/src/aietes/results/MACComparisons-2015-08-12-12-35-52/mac(ALOHA4FBR)/mac(ALOHA4FBR)-1.aietes.npz):100.000000%\n"
       ]
      },
      {
       "output_type": "stream",
       "stream": "stdout",
       "text": [
        "mac(ALOHA4FBR)-2,"
       ]
      },
      {
       "output_type": "stream",
       "stream": "stderr",
       "text": [
        "INFO:root:Writing datafile to /home/bolster/src/aietes/results/MACComparisons-2015-08-12-12-35-52/mac(ALOHA4FBR)/mac(ALOHA4FBR)-2.aietes.npz\n"
       ]
      },
      {
       "output_type": "stream",
       "stream": "stderr",
       "text": [
        "Writing datafile to /home/bolster/src/aietes/results/MACComparisons-2015-08-12-12-35-52/mac(ALOHA4FBR)/mac(ALOHA4FBR)-2.aietes.npz\n"
       ]
      },
      {
       "output_type": "stream",
       "stream": "stderr",
       "text": [
        "INFO:root:2(/home/bolster/src/aietes/results/MACComparisons-2015-08-12-12-35-52/mac(ALOHA4FBR)/mac(ALOHA4FBR)-2.aietes.npz):100.000000%\n"
       ]
      },
      {
       "output_type": "stream",
       "stream": "stderr",
       "text": [
        "2(/home/bolster/src/aietes/results/MACComparisons-2015-08-12-12-35-52/mac(ALOHA4FBR)/mac(ALOHA4FBR)-2.aietes.npz):100.000000%\n"
       ]
      },
      {
       "output_type": "stream",
       "stream": "stdout",
       "text": [
        "mac(ALOHA4FBR)-3,"
       ]
      },
      {
       "output_type": "stream",
       "stream": "stderr",
       "text": [
        "INFO:root:Writing datafile to /home/bolster/src/aietes/results/MACComparisons-2015-08-12-12-35-52/mac(ALOHA4FBR)/mac(ALOHA4FBR)-3.aietes.npz\n"
       ]
      },
      {
       "output_type": "stream",
       "stream": "stderr",
       "text": [
        "Writing datafile to /home/bolster/src/aietes/results/MACComparisons-2015-08-12-12-35-52/mac(ALOHA4FBR)/mac(ALOHA4FBR)-3.aietes.npz\n"
       ]
      },
      {
       "output_type": "stream",
       "stream": "stderr",
       "text": [
        "INFO:root:3(/home/bolster/src/aietes/results/MACComparisons-2015-08-12-12-35-52/mac(ALOHA4FBR)/mac(ALOHA4FBR)-3.aietes.npz):100.000000%\n"
       ]
      },
      {
       "output_type": "stream",
       "stream": "stderr",
       "text": [
        "3(/home/bolster/src/aietes/results/MACComparisons-2015-08-12-12-35-52/mac(ALOHA4FBR)/mac(ALOHA4FBR)-3.aietes.npz):100.000000%\n"
       ]
      },
      {
       "output_type": "stream",
       "stream": "stderr",
       "text": [
        "INFO:root:done 4 runs for 3600 each\n"
       ]
      },
      {
       "output_type": "stream",
       "stream": "stderr",
       "text": [
        "done 4 runs for 3600 each\n"
       ]
      },
      {
       "output_type": "stream",
       "stream": "stderr",
       "text": [
        "INFO:root:Scenario mac(ALOHA) Committed with 0 nodes configured and 4 inherited from config file\n"
       ]
      },
      {
       "output_type": "stream",
       "stream": "stderr",
       "text": [
        "Scenario mac(ALOHA) Committed with 0 nodes configured and 4 inherited from config file\n"
       ]
      },
      {
       "output_type": "stream",
       "stream": "stdout",
       "text": [
        "mac(ALOHA)-0,"
       ]
      },
      {
       "output_type": "stream",
       "stream": "stderr",
       "text": [
        "INFO:root:Writing datafile to /home/bolster/src/aietes/results/MACComparisons-2015-08-12-12-35-52/mac(ALOHA)/mac(ALOHA)-0.aietes.npz\n"
       ]
      },
      {
       "output_type": "stream",
       "stream": "stderr",
       "text": [
        "Writing datafile to /home/bolster/src/aietes/results/MACComparisons-2015-08-12-12-35-52/mac(ALOHA)/mac(ALOHA)-0.aietes.npz\n"
       ]
      },
      {
       "output_type": "stream",
       "stream": "stderr",
       "text": [
        "INFO:root:0(/home/bolster/src/aietes/results/MACComparisons-2015-08-12-12-35-52/mac(ALOHA)/mac(ALOHA)-0.aietes.npz):100.000000%\n"
       ]
      },
      {
       "output_type": "stream",
       "stream": "stderr",
       "text": [
        "0(/home/bolster/src/aietes/results/MACComparisons-2015-08-12-12-35-52/mac(ALOHA)/mac(ALOHA)-0.aietes.npz):100.000000%\n"
       ]
      },
      {
       "output_type": "stream",
       "stream": "stdout",
       "text": [
        "mac(ALOHA)-1,"
       ]
      },
      {
       "output_type": "stream",
       "stream": "stderr",
       "text": [
        "INFO:root:Writing datafile to /home/bolster/src/aietes/results/MACComparisons-2015-08-12-12-35-52/mac(ALOHA)/mac(ALOHA)-1.aietes.npz\n"
       ]
      },
      {
       "output_type": "stream",
       "stream": "stderr",
       "text": [
        "Writing datafile to /home/bolster/src/aietes/results/MACComparisons-2015-08-12-12-35-52/mac(ALOHA)/mac(ALOHA)-1.aietes.npz\n"
       ]
      },
      {
       "output_type": "stream",
       "stream": "stderr",
       "text": [
        "INFO:root:1(/home/bolster/src/aietes/results/MACComparisons-2015-08-12-12-35-52/mac(ALOHA)/mac(ALOHA)-1.aietes.npz):100.000000%\n"
       ]
      },
      {
       "output_type": "stream",
       "stream": "stderr",
       "text": [
        "1(/home/bolster/src/aietes/results/MACComparisons-2015-08-12-12-35-52/mac(ALOHA)/mac(ALOHA)-1.aietes.npz):100.000000%\n"
       ]
      },
      {
       "output_type": "stream",
       "stream": "stdout",
       "text": [
        "mac(ALOHA)-2,"
       ]
      },
      {
       "output_type": "stream",
       "stream": "stderr",
       "text": [
        "INFO:root:Writing datafile to /home/bolster/src/aietes/results/MACComparisons-2015-08-12-12-35-52/mac(ALOHA)/mac(ALOHA)-2.aietes.npz\n"
       ]
      },
      {
       "output_type": "stream",
       "stream": "stderr",
       "text": [
        "Writing datafile to /home/bolster/src/aietes/results/MACComparisons-2015-08-12-12-35-52/mac(ALOHA)/mac(ALOHA)-2.aietes.npz\n"
       ]
      },
      {
       "output_type": "stream",
       "stream": "stderr",
       "text": [
        "INFO:root:2(/home/bolster/src/aietes/results/MACComparisons-2015-08-12-12-35-52/mac(ALOHA)/mac(ALOHA)-2.aietes.npz):100.000000%\n"
       ]
      },
      {
       "output_type": "stream",
       "stream": "stderr",
       "text": [
        "2(/home/bolster/src/aietes/results/MACComparisons-2015-08-12-12-35-52/mac(ALOHA)/mac(ALOHA)-2.aietes.npz):100.000000%\n"
       ]
      },
      {
       "output_type": "stream",
       "stream": "stdout",
       "text": [
        "mac(ALOHA)-3,"
       ]
      },
      {
       "output_type": "stream",
       "stream": "stderr",
       "text": [
        "INFO:root:Writing datafile to /home/bolster/src/aietes/results/MACComparisons-2015-08-12-12-35-52/mac(ALOHA)/mac(ALOHA)-3.aietes.npz\n"
       ]
      },
      {
       "output_type": "stream",
       "stream": "stderr",
       "text": [
        "Writing datafile to /home/bolster/src/aietes/results/MACComparisons-2015-08-12-12-35-52/mac(ALOHA)/mac(ALOHA)-3.aietes.npz\n"
       ]
      },
      {
       "output_type": "stream",
       "stream": "stderr",
       "text": [
        "INFO:root:3(/home/bolster/src/aietes/results/MACComparisons-2015-08-12-12-35-52/mac(ALOHA)/mac(ALOHA)-3.aietes.npz):100.000000%\n"
       ]
      },
      {
       "output_type": "stream",
       "stream": "stderr",
       "text": [
        "3(/home/bolster/src/aietes/results/MACComparisons-2015-08-12-12-35-52/mac(ALOHA)/mac(ALOHA)-3.aietes.npz):100.000000%\n"
       ]
      },
      {
       "output_type": "stream",
       "stream": "stderr",
       "text": [
        "INFO:root:done 4 runs for 3600 each\n"
       ]
      },
      {
       "output_type": "stream",
       "stream": "stderr",
       "text": [
        "done 4 runs for 3600 each\n"
       ]
      },
      {
       "output_type": "stream",
       "stream": "stderr",
       "text": [
        "INFO:root:Scenario mac(CSMA) Committed with 0 nodes configured and 4 inherited from config file\n"
       ]
      },
      {
       "output_type": "stream",
       "stream": "stderr",
       "text": [
        "Scenario mac(CSMA) Committed with 0 nodes configured and 4 inherited from config file\n"
       ]
      },
      {
       "output_type": "stream",
       "stream": "stdout",
       "text": [
        "mac(CSMA)-0,"
       ]
      },
      {
       "output_type": "stream",
       "stream": "stderr",
       "text": [
        "INFO:root:Writing datafile to /home/bolster/src/aietes/results/MACComparisons-2015-08-12-12-35-52/mac(CSMA)/mac(CSMA)-0.aietes.npz\n"
       ]
      },
      {
       "output_type": "stream",
       "stream": "stderr",
       "text": [
        "Writing datafile to /home/bolster/src/aietes/results/MACComparisons-2015-08-12-12-35-52/mac(CSMA)/mac(CSMA)-0.aietes.npz\n"
       ]
      },
      {
       "output_type": "stream",
       "stream": "stderr",
       "text": [
        "INFO:root:0(/home/bolster/src/aietes/results/MACComparisons-2015-08-12-12-35-52/mac(CSMA)/mac(CSMA)-0.aietes.npz):100.000000%\n"
       ]
      },
      {
       "output_type": "stream",
       "stream": "stderr",
       "text": [
        "0(/home/bolster/src/aietes/results/MACComparisons-2015-08-12-12-35-52/mac(CSMA)/mac(CSMA)-0.aietes.npz):100.000000%\n"
       ]
      },
      {
       "output_type": "stream",
       "stream": "stdout",
       "text": [
        "mac(CSMA)-1,"
       ]
      },
      {
       "output_type": "stream",
       "stream": "stderr",
       "text": [
        "INFO:root:Writing datafile to /home/bolster/src/aietes/results/MACComparisons-2015-08-12-12-35-52/mac(CSMA)/mac(CSMA)-1.aietes.npz\n"
       ]
      },
      {
       "output_type": "stream",
       "stream": "stderr",
       "text": [
        "Writing datafile to /home/bolster/src/aietes/results/MACComparisons-2015-08-12-12-35-52/mac(CSMA)/mac(CSMA)-1.aietes.npz\n"
       ]
      },
      {
       "output_type": "stream",
       "stream": "stderr",
       "text": [
        "INFO:root:1(/home/bolster/src/aietes/results/MACComparisons-2015-08-12-12-35-52/mac(CSMA)/mac(CSMA)-1.aietes.npz):100.000000%\n"
       ]
      },
      {
       "output_type": "stream",
       "stream": "stderr",
       "text": [
        "1(/home/bolster/src/aietes/results/MACComparisons-2015-08-12-12-35-52/mac(CSMA)/mac(CSMA)-1.aietes.npz):100.000000%\n"
       ]
      },
      {
       "output_type": "stream",
       "stream": "stdout",
       "text": [
        "mac(CSMA)-2,"
       ]
      },
      {
       "output_type": "stream",
       "stream": "stderr",
       "text": [
        "INFO:root:Writing datafile to /home/bolster/src/aietes/results/MACComparisons-2015-08-12-12-35-52/mac(CSMA)/mac(CSMA)-2.aietes.npz\n"
       ]
      },
      {
       "output_type": "stream",
       "stream": "stderr",
       "text": [
        "Writing datafile to /home/bolster/src/aietes/results/MACComparisons-2015-08-12-12-35-52/mac(CSMA)/mac(CSMA)-2.aietes.npz\n"
       ]
      },
      {
       "output_type": "stream",
       "stream": "stderr",
       "text": [
        "INFO:root:2(/home/bolster/src/aietes/results/MACComparisons-2015-08-12-12-35-52/mac(CSMA)/mac(CSMA)-2.aietes.npz):100.000000%\n"
       ]
      },
      {
       "output_type": "stream",
       "stream": "stderr",
       "text": [
        "2(/home/bolster/src/aietes/results/MACComparisons-2015-08-12-12-35-52/mac(CSMA)/mac(CSMA)-2.aietes.npz):100.000000%\n"
       ]
      },
      {
       "output_type": "stream",
       "stream": "stdout",
       "text": [
        "mac(CSMA)-3,"
       ]
      },
      {
       "output_type": "stream",
       "stream": "stderr",
       "text": [
        "INFO:root:Writing datafile to /home/bolster/src/aietes/results/MACComparisons-2015-08-12-12-35-52/mac(CSMA)/mac(CSMA)-3.aietes.npz\n"
       ]
      },
      {
       "output_type": "stream",
       "stream": "stderr",
       "text": [
        "Writing datafile to /home/bolster/src/aietes/results/MACComparisons-2015-08-12-12-35-52/mac(CSMA)/mac(CSMA)-3.aietes.npz\n"
       ]
      },
      {
       "output_type": "stream",
       "stream": "stderr",
       "text": [
        "INFO:root:3(/home/bolster/src/aietes/results/MACComparisons-2015-08-12-12-35-52/mac(CSMA)/mac(CSMA)-3.aietes.npz):100.000000%\n"
       ]
      },
      {
       "output_type": "stream",
       "stream": "stderr",
       "text": [
        "3(/home/bolster/src/aietes/results/MACComparisons-2015-08-12-12-35-52/mac(CSMA)/mac(CSMA)-3.aietes.npz):100.000000%\n"
       ]
      },
      {
       "output_type": "stream",
       "stream": "stderr",
       "text": [
        "INFO:root:done 4 runs for 3600 each\n"
       ]
      },
      {
       "output_type": "stream",
       "stream": "stderr",
       "text": [
        "done 4 runs for 3600 each\n"
       ]
      },
      {
       "output_type": "stream",
       "stream": "stdout",
       "text": [
        "Experimental results stored in /home/bolster/src/aietes/results/MACComparisons-2015-08-12-12-35-52\n",
        "Runtime:3 minutes 27.0888278484 seconds\n"
       ]
      },
      {
       "ename": "AttributeError",
       "evalue": "'float' object has no attribute 'exp_path'",
       "output_type": "pyerr",
       "traceback": [
        "\u001b[0;31m---------------------------------------------------------------------------\u001b[0m\n\u001b[0;31mAttributeError\u001b[0m                            Traceback (most recent call last)",
        "\u001b[0;32m<ipython-input-14-ae2f64cef79e>\u001b[0m in \u001b[0;36m<module>\u001b[0;34m()\u001b[0m\n\u001b[1;32m      3\u001b[0m \u001b[0mexp\u001b[0m\u001b[0;34m.\u001b[0m\u001b[0mrun\u001b[0m\u001b[0;34m(\u001b[0m\u001b[0mruncount\u001b[0m\u001b[0;34m=\u001b[0m\u001b[0;36m4\u001b[0m\u001b[0;34m,\u001b[0m\u001b[0mqueue\u001b[0m\u001b[0;34m=\u001b[0m\u001b[0mTrue\u001b[0m\u001b[0;34m)\u001b[0m\u001b[0;34m\u001b[0m\u001b[0m\n\u001b[1;32m      4\u001b[0m \u001b[0;34m\u001b[0m\u001b[0m\n\u001b[0;32m----> 5\u001b[0;31m \u001b[0mdump_trust_logs_and_stats_from_exp_paths\u001b[0m\u001b[0;34m(\u001b[0m\u001b[0me\u001b[0m\u001b[0;34m.\u001b[0m\u001b[0mexp_path\u001b[0m\u001b[0;34m)\u001b[0m\u001b[0;34m\u001b[0m\u001b[0m\n\u001b[0m",
        "\u001b[0;31mAttributeError\u001b[0m: 'float' object has no attribute 'exp_path'"
       ]
      }
     ],
     "prompt_number": 14
    },
    {
     "cell_type": "code",
     "collapsed": false,
     "input": [
      "dump_trust_logs_and_stats_from_exp_paths([exp.exp_path])"
     ],
     "language": "python",
     "metadata": {},
     "outputs": [
      {
       "output_type": "stream",
       "stream": "stderr",
       "text": [
        "INFO:bounos.multi_loader:0.00%:mac(ALOHA4FBR):ALOHA4FBR: 1186.54/    0.00MiB\n"
       ]
      },
      {
       "output_type": "stream",
       "stream": "stderr",
       "text": [
        "0.00%:mac(ALOHA4FBR):ALOHA4FBR: 1186.54/    0.00MiB\n"
       ]
      },
      {
       "output_type": "stream",
       "stream": "stderr",
       "text": [
        "INFO:bounos.multi_loader:------:0: 1199.28/    0.00 MiB\n"
       ]
      },
      {
       "output_type": "stream",
       "stream": "stderr",
       "text": [
        "------:0: 1199.28/    0.00 MiB\n"
       ]
      },
      {
       "output_type": "stream",
       "stream": "stderr",
       "text": [
        "INFO:bounos.multi_loader:------:1: 1199.68/    0.00 MiB\n"
       ]
      },
      {
       "output_type": "stream",
       "stream": "stderr",
       "text": [
        "------:1: 1199.68/    0.00 MiB\n"
       ]
      },
      {
       "output_type": "stream",
       "stream": "stderr",
       "text": [
        "INFO:bounos.multi_loader:------:2: 1200.08/    0.00 MiB\n"
       ]
      },
      {
       "output_type": "stream",
       "stream": "stderr",
       "text": [
        "------:2: 1200.08/    0.00 MiB\n"
       ]
      },
      {
       "output_type": "stream",
       "stream": "stderr",
       "text": [
        "INFO:bounos.multi_loader:------:3: 1199.58/    0.00 MiB\n"
       ]
      },
      {
       "output_type": "stream",
       "stream": "stderr",
       "text": [
        "------:3: 1199.58/    0.00 MiB\n"
       ]
      },
      {
       "output_type": "stream",
       "stream": "stderr",
       "text": [
        "INFO:bounos.multi_loader:25.00%:mac(ALOHA):ALOHA: 1195.58/    0.00MiB\n"
       ]
      },
      {
       "output_type": "stream",
       "stream": "stderr",
       "text": [
        "25.00%:mac(ALOHA):ALOHA: 1195.58/    0.00MiB\n"
       ]
      },
      {
       "output_type": "stream",
       "stream": "stderr",
       "text": [
        "INFO:bounos.multi_loader:------:0: 1199.58/    0.00 MiB\n"
       ]
      },
      {
       "output_type": "stream",
       "stream": "stderr",
       "text": [
        "------:0: 1199.58/    0.00 MiB\n"
       ]
      },
      {
       "output_type": "stream",
       "stream": "stderr",
       "text": [
        "INFO:bounos.multi_loader:------:1: 1199.58/    0.00 MiB\n"
       ]
      },
      {
       "output_type": "stream",
       "stream": "stderr",
       "text": [
        "------:1: 1199.58/    0.00 MiB\n"
       ]
      },
      {
       "output_type": "stream",
       "stream": "stderr",
       "text": [
        "INFO:bounos.multi_loader:------:2: 1199.77/    0.00 MiB\n"
       ]
      },
      {
       "output_type": "stream",
       "stream": "stderr",
       "text": [
        "------:2: 1199.77/    0.00 MiB\n"
       ]
      },
      {
       "output_type": "stream",
       "stream": "stderr",
       "text": [
        "INFO:bounos.multi_loader:------:3: 1200.05/    0.00 MiB\n"
       ]
      },
      {
       "output_type": "stream",
       "stream": "stderr",
       "text": [
        "------:3: 1200.05/    0.00 MiB\n"
       ]
      },
      {
       "output_type": "stream",
       "stream": "stderr",
       "text": [
        "INFO:bounos.multi_loader:50.00%:mac(CSMA4FBR):CSMA4FBR: 1198.05/    0.00MiB\n"
       ]
      },
      {
       "output_type": "stream",
       "stream": "stderr",
       "text": [
        "50.00%:mac(CSMA4FBR):CSMA4FBR: 1198.05/    0.00MiB\n"
       ]
      },
      {
       "output_type": "stream",
       "stream": "stderr",
       "text": [
        "INFO:bounos.multi_loader:------:0: 1200.45/    0.00 MiB\n"
       ]
      },
      {
       "output_type": "stream",
       "stream": "stderr",
       "text": [
        "------:0: 1200.45/    0.00 MiB\n"
       ]
      },
      {
       "output_type": "stream",
       "stream": "stderr",
       "text": [
        "INFO:bounos.multi_loader:------:1: 1200.84/    0.00 MiB\n"
       ]
      },
      {
       "output_type": "stream",
       "stream": "stderr",
       "text": [
        "------:1: 1200.84/    0.00 MiB\n"
       ]
      },
      {
       "output_type": "stream",
       "stream": "stderr",
       "text": [
        "INFO:bounos.multi_loader:------:2: 1201.49/    0.00 MiB\n"
       ]
      },
      {
       "output_type": "stream",
       "stream": "stderr",
       "text": [
        "------:2: 1201.49/    0.00 MiB\n"
       ]
      },
      {
       "output_type": "stream",
       "stream": "stderr",
       "text": [
        "INFO:bounos.multi_loader:------:3: 1201.89/    0.00 MiB\n"
       ]
      },
      {
       "output_type": "stream",
       "stream": "stderr",
       "text": [
        "------:3: 1201.89/    0.00 MiB\n"
       ]
      },
      {
       "output_type": "stream",
       "stream": "stderr",
       "text": [
        "INFO:bounos.multi_loader:75.00%:mac(CSMA):CSMA: 1201.64/    0.00MiB\n"
       ]
      },
      {
       "output_type": "stream",
       "stream": "stderr",
       "text": [
        "75.00%:mac(CSMA):CSMA: 1201.64/    0.00MiB\n"
       ]
      },
      {
       "output_type": "stream",
       "stream": "stderr",
       "text": [
        "INFO:bounos.multi_loader:------:0: 1202.29/    0.00 MiB\n"
       ]
      },
      {
       "output_type": "stream",
       "stream": "stderr",
       "text": [
        "------:0: 1202.29/    0.00 MiB\n"
       ]
      },
      {
       "output_type": "stream",
       "stream": "stderr",
       "text": [
        "INFO:bounos.multi_loader:------:1: 1202.69/    0.00 MiB\n"
       ]
      },
      {
       "output_type": "stream",
       "stream": "stderr",
       "text": [
        "------:1: 1202.69/    0.00 MiB\n"
       ]
      },
      {
       "output_type": "stream",
       "stream": "stderr",
       "text": [
        "INFO:bounos.multi_loader:------:2: 1203.09/    0.00 MiB\n"
       ]
      },
      {
       "output_type": "stream",
       "stream": "stderr",
       "text": [
        "------:2: 1203.09/    0.00 MiB\n"
       ]
      },
      {
       "output_type": "stream",
       "stream": "stderr",
       "text": [
        "INFO:bounos.multi_loader:------:3: 1203.49/    0.00 MiB\n"
       ]
      },
      {
       "output_type": "stream",
       "stream": "stderr",
       "text": [
        "------:3: 1203.49/    0.00 MiB\n"
       ]
      },
      {
       "output_type": "stream",
       "stream": "stderr",
       "text": [
        "INFO:bounos.multi_loader:First Cycle: 1203.49/    0.00 MiB\n"
       ]
      },
      {
       "output_type": "stream",
       "stream": "stderr",
       "text": [
        "First Cycle: 1203.49/    0.00 MiB\n"
       ]
      },
      {
       "output_type": "stream",
       "stream": "stderr",
       "text": [
        "INFO:bounos.multi_loader:Generating positions structure: 1203.49/    0.00 MiB\n"
       ]
      },
      {
       "output_type": "stream",
       "stream": "stderr",
       "text": [
        "Generating positions structure: 1203.49/    0.00 MiB\n"
       ]
      },
      {
       "output_type": "stream",
       "stream": "stderr",
       "text": [
        "INFO:bounos.multi_loader:Generating stats structure: 1212.72/    0.00 MiB\n"
       ]
      },
      {
       "output_type": "stream",
       "stream": "stderr",
       "text": [
        "Generating stats structure: 1212.72/    0.00 MiB\n"
       ]
      },
      {
       "output_type": "stream",
       "stream": "stderr",
       "text": [
        "ERROR:bounos.multi_loader:stats didn't work\n",
        "Traceback (most recent call last):\n",
        "  File \"/home/bolster/src/aietes/src/bounos/multi_loader.py\", line 135, in generate_dataframes_from_inverted_log\n",
        "    df.drop(['total_counts', u'sent_counts', 'received_counts'], axis=1, inplace=True)\n",
        "  File \"/home/bolster/src/pandas/pandas/core/generic.py\", line 1608, in drop\n",
        "    new_axis = axis.drop(labels, errors=errors)\n",
        "  File \"/home/bolster/src/pandas/pandas/core/index.py\", line 2617, in drop\n",
        "    raise ValueError('labels %s not contained in axis' % labels[mask])\n",
        "ValueError: labels ['total_counts' u'sent_counts' 'received_counts'] not contained in axis\n"
       ]
      },
      {
       "output_type": "stream",
       "stream": "stderr",
       "text": [
        "stats didn't work\n",
        "Traceback (most recent call last):\n",
        "  File \"/home/bolster/src/aietes/src/bounos/multi_loader.py\", line 135, in generate_dataframes_from_inverted_log\n",
        "    df.drop(['total_counts', u'sent_counts', 'received_counts'], axis=1, inplace=True)\n",
        "  File \"/home/bolster/src/pandas/pandas/core/generic.py\", line 1608, in drop\n",
        "    new_axis = axis.drop(labels, errors=errors)\n",
        "  File \"/home/bolster/src/pandas/pandas/core/index.py\", line 2617, in drop\n",
        "    raise ValueError('labels %s not contained in axis' % labels[mask])\n",
        "ValueError: labels ['total_counts' u'sent_counts' 'received_counts'] not contained in axis\n"
       ]
      },
      {
       "ename": "ValueError",
       "evalue": "labels ['total_counts' u'sent_counts' 'received_counts'] not contained in axis",
       "output_type": "pyerr",
       "traceback": [
        "\u001b[0;31m---------------------------------------------------------------------------\u001b[0m\n\u001b[0;31mValueError\u001b[0m                                Traceback (most recent call last)",
        "\u001b[0;32m<ipython-input-16-7c5de4204696>\u001b[0m in \u001b[0;36m<module>\u001b[0;34m()\u001b[0m\n\u001b[0;32m----> 1\u001b[0;31m \u001b[0mdump_trust_logs_and_stats_from_exp_paths\u001b[0m\u001b[0;34m(\u001b[0m\u001b[0;34m[\u001b[0m\u001b[0mexp\u001b[0m\u001b[0;34m.\u001b[0m\u001b[0mexp_path\u001b[0m\u001b[0;34m]\u001b[0m\u001b[0;34m)\u001b[0m\u001b[0;34m\u001b[0m\u001b[0m\n\u001b[0m",
        "\u001b[0;32m/home/bolster/src/aietes/src/bounos/multi_loader.pyc\u001b[0m in \u001b[0;36mdump_trust_logs_and_stats_from_exp_paths\u001b[0;34m(paths, title)\u001b[0m\n\u001b[1;32m    167\u001b[0m     \u001b[0minverted_logs\u001b[0m \u001b[0;34m=\u001b[0m \u001b[0mgenerate_inverted_logs_from_paths\u001b[0m\u001b[0;34m(\u001b[0m\u001b[0mpaths\u001b[0m\u001b[0;34m)\u001b[0m\u001b[0;34m\u001b[0m\u001b[0m\n\u001b[1;32m    168\u001b[0m     \u001b[0mlog\u001b[0m\u001b[0;34m.\u001b[0m\u001b[0minfo\u001b[0m\u001b[0;34m(\u001b[0m\u001b[0;34m\"First Cycle:{:8.2f}/{:8.2f} MiB\"\u001b[0m\u001b[0;34m.\u001b[0m\u001b[0mformat\u001b[0m\u001b[0;34m(\u001b[0m\u001b[0mmemory\u001b[0m\u001b[0;34m(\u001b[0m\u001b[0;34m)\u001b[0m\u001b[0;34m,\u001b[0m \u001b[0mswapsize\u001b[0m\u001b[0;34m(\u001b[0m\u001b[0;34m)\u001b[0m\u001b[0;34m)\u001b[0m\u001b[0;34m)\u001b[0m\u001b[0;34m\u001b[0m\u001b[0m\n\u001b[0;32m--> 169\u001b[0;31m     \u001b[0mdfs\u001b[0m \u001b[0;34m=\u001b[0m \u001b[0;34m{\u001b[0m\u001b[0mk\u001b[0m\u001b[0;34m:\u001b[0m \u001b[0mv\u001b[0m \u001b[0;32mfor\u001b[0m \u001b[0mk\u001b[0m\u001b[0;34m,\u001b[0m \u001b[0mv\u001b[0m \u001b[0;32min\u001b[0m \u001b[0mmap\u001b[0m\u001b[0;34m(\u001b[0m\u001b[0mgenerate_dataframes_from_inverted_log\u001b[0m\u001b[0;34m,\u001b[0m \u001b[0minverted_logs\u001b[0m\u001b[0;34m.\u001b[0m\u001b[0miteritems\u001b[0m\u001b[0;34m(\u001b[0m\u001b[0;34m)\u001b[0m\u001b[0;34m)\u001b[0m\u001b[0;34m}\u001b[0m\u001b[0;34m\u001b[0m\u001b[0m\n\u001b[0m\u001b[1;32m    170\u001b[0m \u001b[0;34m\u001b[0m\u001b[0m\n\u001b[1;32m    171\u001b[0m     \u001b[0mfilename\u001b[0m \u001b[0;34m=\u001b[0m \u001b[0;34m'{}.h5'\u001b[0m\u001b[0;34m.\u001b[0m\u001b[0mformat\u001b[0m\u001b[0;34m(\u001b[0m\u001b[0mtitle\u001b[0m\u001b[0;34m)\u001b[0m\u001b[0;34m\u001b[0m\u001b[0m\n",
        "\u001b[0;32m/home/bolster/src/aietes/src/bounos/multi_loader.pyc\u001b[0m in \u001b[0;36mgenerate_dataframes_from_inverted_log\u001b[0;34m(tup)\u001b[0m\n\u001b[1;32m    133\u001b[0m         \u001b[0;31m# Fixes for storage and sanity\u001b[0m\u001b[0;34m\u001b[0m\u001b[0;34m\u001b[0m\u001b[0m\n\u001b[1;32m    134\u001b[0m         \u001b[0;32mif\u001b[0m \u001b[0mk\u001b[0m \u001b[0;34m==\u001b[0m \u001b[0;34m'stats'\u001b[0m\u001b[0;34m:\u001b[0m\u001b[0;34m\u001b[0m\u001b[0m\n\u001b[0;32m--> 135\u001b[0;31m             \u001b[0mdf\u001b[0m\u001b[0;34m.\u001b[0m\u001b[0mdrop\u001b[0m\u001b[0;34m(\u001b[0m\u001b[0;34m[\u001b[0m\u001b[0;34m'total_counts'\u001b[0m\u001b[0;34m,\u001b[0m \u001b[0;34mu'sent_counts'\u001b[0m\u001b[0;34m,\u001b[0m \u001b[0;34m'received_counts'\u001b[0m\u001b[0;34m]\u001b[0m\u001b[0;34m,\u001b[0m \u001b[0maxis\u001b[0m\u001b[0;34m=\u001b[0m\u001b[0;36m1\u001b[0m\u001b[0;34m,\u001b[0m \u001b[0minplace\u001b[0m\u001b[0;34m=\u001b[0m\u001b[0mTrue\u001b[0m\u001b[0;34m)\u001b[0m\u001b[0;34m\u001b[0m\u001b[0m\n\u001b[0m\u001b[1;32m    136\u001b[0m \u001b[0;34m\u001b[0m\u001b[0m\n\u001b[1;32m    137\u001b[0m         \u001b[0;32mif\u001b[0m \u001b[0mk\u001b[0m \u001b[0;34m==\u001b[0m \u001b[0;34m'trust'\u001b[0m\u001b[0;34m:\u001b[0m\u001b[0;34m\u001b[0m\u001b[0m\n",
        "\u001b[0;32m/home/bolster/src/pandas/pandas/core/generic.pyc\u001b[0m in \u001b[0;36mdrop\u001b[0;34m(self, labels, axis, level, inplace, errors)\u001b[0m\n\u001b[1;32m   1606\u001b[0m                 \u001b[0mnew_axis\u001b[0m \u001b[0;34m=\u001b[0m \u001b[0maxis\u001b[0m\u001b[0;34m.\u001b[0m\u001b[0mdrop\u001b[0m\u001b[0;34m(\u001b[0m\u001b[0mlabels\u001b[0m\u001b[0;34m,\u001b[0m \u001b[0mlevel\u001b[0m\u001b[0;34m=\u001b[0m\u001b[0mlevel\u001b[0m\u001b[0;34m,\u001b[0m \u001b[0merrors\u001b[0m\u001b[0;34m=\u001b[0m\u001b[0merrors\u001b[0m\u001b[0;34m)\u001b[0m\u001b[0;34m\u001b[0m\u001b[0m\n\u001b[1;32m   1607\u001b[0m             \u001b[0;32melse\u001b[0m\u001b[0;34m:\u001b[0m\u001b[0;34m\u001b[0m\u001b[0m\n\u001b[0;32m-> 1608\u001b[0;31m                 \u001b[0mnew_axis\u001b[0m \u001b[0;34m=\u001b[0m \u001b[0maxis\u001b[0m\u001b[0;34m.\u001b[0m\u001b[0mdrop\u001b[0m\u001b[0;34m(\u001b[0m\u001b[0mlabels\u001b[0m\u001b[0;34m,\u001b[0m \u001b[0merrors\u001b[0m\u001b[0;34m=\u001b[0m\u001b[0merrors\u001b[0m\u001b[0;34m)\u001b[0m\u001b[0;34m\u001b[0m\u001b[0m\n\u001b[0m\u001b[1;32m   1609\u001b[0m             \u001b[0mdropped\u001b[0m \u001b[0;34m=\u001b[0m \u001b[0mself\u001b[0m\u001b[0;34m.\u001b[0m\u001b[0mreindex\u001b[0m\u001b[0;34m(\u001b[0m\u001b[0;34m**\u001b[0m\u001b[0;34m{\u001b[0m\u001b[0maxis_name\u001b[0m\u001b[0;34m:\u001b[0m \u001b[0mnew_axis\u001b[0m\u001b[0;34m}\u001b[0m\u001b[0;34m)\u001b[0m\u001b[0;34m\u001b[0m\u001b[0m\n\u001b[1;32m   1610\u001b[0m             \u001b[0;32mtry\u001b[0m\u001b[0;34m:\u001b[0m\u001b[0;34m\u001b[0m\u001b[0m\n",
        "\u001b[0;32m/home/bolster/src/pandas/pandas/core/index.pyc\u001b[0m in \u001b[0;36mdrop\u001b[0;34m(self, labels, errors)\u001b[0m\n\u001b[1;32m   2615\u001b[0m         \u001b[0;32mif\u001b[0m \u001b[0mmask\u001b[0m\u001b[0;34m.\u001b[0m\u001b[0many\u001b[0m\u001b[0;34m(\u001b[0m\u001b[0;34m)\u001b[0m\u001b[0;34m:\u001b[0m\u001b[0;34m\u001b[0m\u001b[0m\n\u001b[1;32m   2616\u001b[0m             \u001b[0;32mif\u001b[0m \u001b[0merrors\u001b[0m \u001b[0;34m!=\u001b[0m \u001b[0;34m'ignore'\u001b[0m\u001b[0;34m:\u001b[0m\u001b[0;34m\u001b[0m\u001b[0m\n\u001b[0;32m-> 2617\u001b[0;31m                 \u001b[0;32mraise\u001b[0m \u001b[0mValueError\u001b[0m\u001b[0;34m(\u001b[0m\u001b[0;34m'labels %s not contained in axis'\u001b[0m \u001b[0;34m%\u001b[0m \u001b[0mlabels\u001b[0m\u001b[0;34m[\u001b[0m\u001b[0mmask\u001b[0m\u001b[0;34m]\u001b[0m\u001b[0;34m)\u001b[0m\u001b[0;34m\u001b[0m\u001b[0m\n\u001b[0m\u001b[1;32m   2618\u001b[0m             \u001b[0mindexer\u001b[0m \u001b[0;34m=\u001b[0m \u001b[0mindexer\u001b[0m\u001b[0;34m[\u001b[0m\u001b[0;34m~\u001b[0m\u001b[0mmask\u001b[0m\u001b[0;34m]\u001b[0m\u001b[0;34m\u001b[0m\u001b[0m\n\u001b[1;32m   2619\u001b[0m         \u001b[0;32mreturn\u001b[0m \u001b[0mself\u001b[0m\u001b[0;34m.\u001b[0m\u001b[0mdelete\u001b[0m\u001b[0;34m(\u001b[0m\u001b[0mindexer\u001b[0m\u001b[0;34m)\u001b[0m\u001b[0;34m\u001b[0m\u001b[0m\n",
        "\u001b[0;31mValueError\u001b[0m: labels ['total_counts' u'sent_counts' 'received_counts'] not contained in axis"
       ]
      }
     ],
     "prompt_number": 16
    },
    {
     "cell_type": "code",
     "collapsed": false,
     "input": [
      "import bounos.multi_loader\n",
      "logs = bounos.multi_loader.generate_inverted_logs_from_paths([exp.exp_path])"
     ],
     "language": "python",
     "metadata": {},
     "outputs": [
      {
       "output_type": "stream",
       "stream": "stderr",
       "text": [
        "INFO:bounos.multi_loader:0.00%:mac(ALOHA4FBR):ALOHA4FBR: 1198.29/    0.00MiB\n"
       ]
      },
      {
       "output_type": "stream",
       "stream": "stderr",
       "text": [
        "0.00%:mac(ALOHA4FBR):ALOHA4FBR: 1198.29/    0.00MiB\n"
       ]
      },
      {
       "output_type": "stream",
       "stream": "stderr",
       "text": [
        "INFO:bounos.multi_loader:------:0: 1202.04/    0.00 MiB\n"
       ]
      },
      {
       "output_type": "stream",
       "stream": "stderr",
       "text": [
        "------:0: 1202.04/    0.00 MiB\n"
       ]
      },
      {
       "output_type": "stream",
       "stream": "stderr",
       "text": [
        "INFO:bounos.multi_loader:------:1: 1202.04/    0.00 MiB\n"
       ]
      },
      {
       "output_type": "stream",
       "stream": "stderr",
       "text": [
        "------:1: 1202.04/    0.00 MiB\n"
       ]
      },
      {
       "output_type": "stream",
       "stream": "stderr",
       "text": [
        "INFO:bounos.multi_loader:------:2: 1202.04/    0.00 MiB\n"
       ]
      },
      {
       "output_type": "stream",
       "stream": "stderr",
       "text": [
        "------:2: 1202.04/    0.00 MiB\n"
       ]
      },
      {
       "output_type": "stream",
       "stream": "stderr",
       "text": [
        "INFO:bounos.multi_loader:------:3: 1202.04/    0.00 MiB\n"
       ]
      },
      {
       "output_type": "stream",
       "stream": "stderr",
       "text": [
        "------:3: 1202.04/    0.00 MiB\n"
       ]
      },
      {
       "output_type": "stream",
       "stream": "stderr",
       "text": [
        "INFO:bounos.multi_loader:25.00%:mac(ALOHA):ALOHA: 1200.29/    0.00MiB\n"
       ]
      },
      {
       "output_type": "stream",
       "stream": "stderr",
       "text": [
        "25.00%:mac(ALOHA):ALOHA: 1200.29/    0.00MiB\n"
       ]
      },
      {
       "output_type": "stream",
       "stream": "stderr",
       "text": [
        "INFO:bounos.multi_loader:------:0: 1202.04/    0.00 MiB\n"
       ]
      },
      {
       "output_type": "stream",
       "stream": "stderr",
       "text": [
        "------:0: 1202.04/    0.00 MiB\n"
       ]
      },
      {
       "output_type": "stream",
       "stream": "stderr",
       "text": [
        "INFO:bounos.multi_loader:------:1: 1202.04/    0.00 MiB\n"
       ]
      },
      {
       "output_type": "stream",
       "stream": "stderr",
       "text": [
        "------:1: 1202.04/    0.00 MiB\n"
       ]
      },
      {
       "output_type": "stream",
       "stream": "stderr",
       "text": [
        "INFO:bounos.multi_loader:------:2: 1202.04/    0.00 MiB\n"
       ]
      },
      {
       "output_type": "stream",
       "stream": "stderr",
       "text": [
        "------:2: 1202.04/    0.00 MiB\n"
       ]
      },
      {
       "output_type": "stream",
       "stream": "stderr",
       "text": [
        "INFO:bounos.multi_loader:------:3: 1204.38/    0.00 MiB\n"
       ]
      },
      {
       "output_type": "stream",
       "stream": "stderr",
       "text": [
        "------:3: 1204.38/    0.00 MiB\n"
       ]
      },
      {
       "output_type": "stream",
       "stream": "stderr",
       "text": [
        "INFO:bounos.multi_loader:50.00%:mac(CSMA4FBR):CSMA4FBR: 1204.38/    0.00MiB\n"
       ]
      },
      {
       "output_type": "stream",
       "stream": "stderr",
       "text": [
        "50.00%:mac(CSMA4FBR):CSMA4FBR: 1204.38/    0.00MiB\n"
       ]
      },
      {
       "output_type": "stream",
       "stream": "stderr",
       "text": [
        "INFO:bounos.multi_loader:------:0: 1204.38/    0.00 MiB\n"
       ]
      },
      {
       "output_type": "stream",
       "stream": "stderr",
       "text": [
        "------:0: 1204.38/    0.00 MiB\n"
       ]
      },
      {
       "output_type": "stream",
       "stream": "stderr",
       "text": [
        "INFO:bounos.multi_loader:------:1: 1204.12/    0.00 MiB\n"
       ]
      },
      {
       "output_type": "stream",
       "stream": "stderr",
       "text": [
        "------:1: 1204.12/    0.00 MiB\n"
       ]
      },
      {
       "output_type": "stream",
       "stream": "stderr",
       "text": [
        "INFO:bounos.multi_loader:------:2: 1204.12/    0.00 MiB\n"
       ]
      },
      {
       "output_type": "stream",
       "stream": "stderr",
       "text": [
        "------:2: 1204.12/    0.00 MiB\n"
       ]
      },
      {
       "output_type": "stream",
       "stream": "stderr",
       "text": [
        "INFO:bounos.multi_loader:------:3: 1204.12/    0.00 MiB\n"
       ]
      },
      {
       "output_type": "stream",
       "stream": "stderr",
       "text": [
        "------:3: 1204.12/    0.00 MiB\n"
       ]
      },
      {
       "output_type": "stream",
       "stream": "stderr",
       "text": [
        "INFO:bounos.multi_loader:75.00%:mac(CSMA):CSMA: 1204.12/    0.00MiB\n"
       ]
      },
      {
       "output_type": "stream",
       "stream": "stderr",
       "text": [
        "75.00%:mac(CSMA):CSMA: 1204.12/    0.00MiB\n"
       ]
      },
      {
       "output_type": "stream",
       "stream": "stderr",
       "text": [
        "INFO:bounos.multi_loader:------:0: 1204.12/    0.00 MiB\n"
       ]
      },
      {
       "output_type": "stream",
       "stream": "stderr",
       "text": [
        "------:0: 1204.12/    0.00 MiB\n"
       ]
      },
      {
       "output_type": "stream",
       "stream": "stderr",
       "text": [
        "INFO:bounos.multi_loader:------:1: 1204.12/    0.00 MiB\n"
       ]
      },
      {
       "output_type": "stream",
       "stream": "stderr",
       "text": [
        "------:1: 1204.12/    0.00 MiB\n"
       ]
      },
      {
       "output_type": "stream",
       "stream": "stderr",
       "text": [
        "INFO:bounos.multi_loader:------:2: 1204.12/    0.00 MiB\n"
       ]
      },
      {
       "output_type": "stream",
       "stream": "stderr",
       "text": [
        "------:2: 1204.12/    0.00 MiB\n"
       ]
      },
      {
       "output_type": "stream",
       "stream": "stderr",
       "text": [
        "INFO:bounos.multi_loader:------:3: 1204.88/    0.00 MiB\n"
       ]
      },
      {
       "output_type": "stream",
       "stream": "stderr",
       "text": [
        "------:3: 1204.88/    0.00 MiB\n"
       ]
      }
     ],
     "prompt_number": 19
    },
    {
     "cell_type": "code",
     "collapsed": false,
     "input": [
      "s=exp.scenarios['mac(CSMA)']\n",
      "dp=s.datarun[0]\n",
      "dp.comms"
     ],
     "language": "python",
     "metadata": {},
     "outputs": [
      {
       "metadata": {},
       "output_type": "pyout",
       "prompt_number": 30,
       "text": [
        "{'logs': {'Alfa': {}, 'Bravo': {}, 'Charlie': {}, 'Delta': {}},\n",
        " 'positions': dim                                    x            y           z\n",
        "                     node                                         \n",
        " 1970-01-01 00:00:00 Alfa     1499.000000  1467.000000  303.000000\n",
        "                     Bravo    1510.000000  1467.000000  313.000000\n",
        "                     Charlie  1541.000000  1436.000000  283.000000\n",
        "                     Delta    1479.000000  1497.000000  285.000000\n",
        " 1970-01-01 00:00:01 Alfa     1498.990513  1466.993205  302.990901\n",
        "                     Bravo    1510.004226  1466.996375  313.000646\n",
        "                     Charlie  1540.992780  1435.999402  283.004044\n",
        "                     Delta    1478.996742  1496.996532  285.001431\n",
        " 1970-01-01 00:00:02 Alfa     1498.971479  1466.979483  302.972795\n",
        "                     Bravo    1510.012472  1466.989016  313.001941\n",
        "                     Charlie  1540.978293  1435.998044  283.012110\n",
        "                     Delta    1478.990157  1496.989492  285.004292\n",
        " 1970-01-01 00:00:03 Alfa     1498.942913  1466.958827  302.945706\n",
        "                     Bravo    1510.024722  1466.977928  313.003865\n",
        "                     Charlie  1540.956536  1435.995923  283.024195\n",
        "                     Delta    1478.980245  1496.978879  285.008582\n",
        " 1970-01-01 00:00:04 Alfa     1498.904842  1466.931224  302.909669\n",
        "                     Bravo    1510.040948  1466.963116  313.006389\n",
        "                     Charlie  1540.927512  1435.993038  283.040295\n",
        "                     Delta    1478.967005  1496.964696  285.014302\n",
        " 1970-01-01 00:00:05 Alfa     1498.857300  1466.896662  302.864733\n",
        "                     Bravo    1510.061113  1466.944590  313.009472\n",
        "                     Charlie  1540.891220  1435.989386  283.060402\n",
        "                     Delta    1478.950437  1496.946946  285.021449\n",
        " 1970-01-01 00:00:06 Alfa     1498.800328  1466.855125  302.810955\n",
        "                     Bravo    1510.085174  1466.922362  313.013066\n",
        "                     Charlie  1540.847662  1435.984966  283.084506\n",
        "                     Delta    1478.930541  1496.925635  285.030024\n",
        " 1970-01-01 00:00:07 Alfa     1498.733977  1466.806592  302.748404\n",
        "                     Bravo    1510.113079  1466.896444  313.017111\n",
        " ...                                  ...          ...         ...\n",
        " 1970-01-01 00:59:52 Charlie  1009.436315  2024.313240  199.308943\n",
        "                     Delta     949.052696  2017.049825  199.583594\n",
        " 1970-01-01 00:59:53 Alfa      985.148990  1983.183148  199.846264\n",
        "                     Bravo     975.404211  2058.789959  199.253663\n",
        "                     Charlie  1008.484622  2023.506070  199.381543\n",
        "                     Delta     948.104953  2016.237727  199.652792\n",
        " 1970-01-01 00:59:54 Alfa      984.214880  1982.356470  199.927529\n",
        "                     Bravo     974.425426  2058.016086  199.329037\n",
        "                     Charlie  1007.536074  2022.695291  199.455085\n",
        "                     Delta     947.158788  2015.423871  199.722903\n",
        " 1970-01-01 00:59:55 Alfa      983.284559  1981.525598  200.009496\n",
        "                     Bravo     973.448972  2057.239348  199.405180\n",
        "                     Charlie  1006.590678  2021.880924  199.529568\n",
        "                     Delta     946.214203  2014.608259  199.793927\n",
        " 1970-01-01 00:59:56 Alfa      982.358033  1980.690565  200.092161\n",
        "                     Bravo     972.474857  2056.459754  199.482089\n",
        "                     Charlie  1005.648441  2021.062990  199.604988\n",
        "                     Delta     945.271205  2013.790894  199.865863\n",
        " 1970-01-01 00:59:57 Alfa      981.435307  1979.851405  200.175521\n",
        "                     Bravo     971.503084  2055.677318  199.559759\n",
        "                     Charlie  1004.709371  2020.241508  199.681343\n",
        "                     Delta     944.329799  2012.971776  199.938713\n",
        " 1970-01-01 00:59:58 Alfa      980.516383  1979.008149  200.259569\n",
        "                     Bravo     970.533659  2054.892050  199.638187\n",
        "                     Charlie  1003.773473  2019.416500  199.758632\n",
        "                     Delta     943.389990  2012.150908  200.012477\n",
        " 1970-01-01 00:59:59 Alfa      979.601266  1978.160832  200.344303\n",
        "                     Bravo     969.566587  2054.103960  199.717371\n",
        "                     Charlie  1002.840755  2018.587987  199.836850\n",
        "                     Delta     942.451783  2011.328291  200.087155\n",
        " \n",
        " [14400 rows x 3 columns],\n",
        " 'stats': Empty DataFrame\n",
        " Columns: []\n",
        " Index: []}"
       ]
      }
     ],
     "prompt_number": 30
    },
    {
     "cell_type": "code",
     "collapsed": false,
     "input": [],
     "language": "python",
     "metadata": {},
     "outputs": []
    }
   ],
   "metadata": {}
  }
 ]
}