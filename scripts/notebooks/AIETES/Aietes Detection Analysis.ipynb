{
 "metadata": {
  "name": "",
  "signature": "sha256:e331bb74d71b1a00e695ca9d9c9d2aaf2630781cab2a90f12d365e236c5f88fb"
 },
 "nbformat": 3,
 "nbformat_minor": 0,
 "worksheets": [
  {
   "cells": [
    {
     "cell_type": "code",
     "collapsed": false,
     "input": [
      "path=\"/home/bolster/src/aietes/results/Malicious Behaviour Trust Comparison-2015-05-28-16-36-15\""
     ],
     "language": "python",
     "metadata": {},
     "outputs": [],
     "prompt_number": 1
    },
    {
     "cell_type": "code",
     "collapsed": false,
     "input": [
      "import pickle\n",
      "import os\n",
      "import re\n",
      "import pprint \n",
      "pp = pprint.PrettyPrinter(indent=4)"
     ],
     "language": "python",
     "metadata": {},
     "outputs": [],
     "prompt_number": 2
    },
    {
     "cell_type": "code",
     "collapsed": false,
     "input": [],
     "language": "python",
     "metadata": {},
     "outputs": [],
     "prompt_number": 2
    },
    {
     "cell_type": "code",
     "collapsed": false,
     "input": [
      "import pickle\n",
      "experimentfile = os.path.join(path,filter(lambda s:s.endswith('exp'),os.listdir(path))[0])\n",
      "\n",
      "exp=pickle.load(open(experimentfile,'rb'))"
     ],
     "language": "python",
     "metadata": {},
     "outputs": [
      {
       "output_type": "stream",
       "stream": "stdout",
       "text": [
        "Warning: IOStream has no fileno.\n"
       ]
      },
      {
       "output_type": "stream",
       "stream": "stderr",
       "text": [
        "/usr/local/lib/python2.7/dist-packages/matplotlib/__init__.py:1312: UserWarning:  This call to matplotlib.use() has no effect\n",
        "because the backend has already been chosen;\n",
        "matplotlib.use() must be called *before* pylab, matplotlib.pyplot,\n",
        "or matplotlib.backends is imported for the first time.\n",
        "\n",
        "  warnings.warn(_use_error_msg)\n"
       ]
      }
     ],
     "prompt_number": 3
    },
    {
     "cell_type": "code",
     "collapsed": false,
     "input": [
      "exp.print_stats(exp)"
     ],
     "language": "python",
     "metadata": {},
     "outputs": [
      {
       "output_type": "stream",
       "stream": "stdout",
       "text": [
        "Run\tFleet D, Efficiency\tstd(INDA,INDD)\tAch., Completion Rate\tCorrect/Confident\tSuspect \n",
        "Behaviour(SlowCoach),['Alfa']"
       ]
      },
      {
       "output_type": "stream",
       "stream": "stdout",
       "text": [
        "\n",
        "AVG\t390.491m (0.0271)\t17.98, 0.78 \t2 (117%)"
       ]
      },
      {
       "output_type": "stream",
       "stream": "stdout",
       "text": [
        "\n",
        "Behaviour(Waypoint),[]"
       ]
      },
      {
       "output_type": "stream",
       "stream": "stdout",
       "text": [
        "\n",
        "AVG\t392.722m (0.0273)\t5.54, 0.54 \t1 (125%)"
       ]
      },
      {
       "output_type": "stream",
       "stream": "stdout",
       "text": [
        "\n",
        "Behaviour(Shadow),['Alfa']"
       ]
      },
      {
       "output_type": "stream",
       "stream": "stdout",
       "text": [
        "\n",
        "AVG\t389.412m (0.0270)\t21.75, 0.76 \t1 (103%)"
       ]
      },
      {
       "output_type": "stream",
       "stream": "stdout",
       "text": [
        "\n",
        "Scenario\t\t++\t+-\t-+\t--\t\t (Correct,Confident)\n",
        "Behaviour(Shadow)\t\t8\t0\t0\t0\n",
        "Behaviour(SlowCoach)\t\t8\t0\t0\t0\n",
        "Behaviour(Waypoint)\t\t0\t0\t8\t0\n",
        "Subtot\t\t\t16\t0\t8\t0\n",
        "Total\t\t\t16\t\t\t8\n",
        "Detection Accuracy pct with 24 runs: 66.67%\n",
        "False-Confidence pct with 24 runs: 33.33%\n",
        "True-Confidence pct with 24 runs: 66.67%\n",
        "True-Confidence pct with 24 runs factoring in the Waypoint state (i.e. positive negatives or missed-detections via lack of confidence): -33.33%\n"
       ]
      }
     ],
     "prompt_number": 4
    },
    {
     "cell_type": "code",
     "collapsed": false,
     "input": [],
     "language": "python",
     "metadata": {},
     "outputs": [],
     "prompt_number": 4
    },
    {
     "cell_type": "code",
     "collapsed": false,
     "input": [
      "import pandas as pd\n",
      "import plotly.plotly as py\n",
      "import statsmodels as sm\n",
      "\n",
      "from sklearn.linear_model import LinearRegression\n",
      "import scipy, scipy.stats\n",
      "\n",
      "import cufflinks as cf # Awesome Pandas/Plot.ly integration module https://github.com/santosjorge/cufflinks\n",
      "\n",
      "py.sign_in('bolster', 'q54pd5bbmd')\n",
      "\n",
      "from bounos import Analyses, Metrics\n",
      "\n",
      "_metrics = [Metrics.DeviationOfHeading,\n",
      "            Metrics.PernodeSpeed,\n",
      "            Metrics.PernodeInternodeDistanceAvg]\n",
      "run = 0\n",
      "deviance_s, windowed_s = Analyses.Behaviour.combined_detection_rank(exp.scenarios[ 'Behaviour(Shadow)'].datarun[run], _metrics)\n",
      "deviance_w, windowed_w = Analyses.Behaviour.combined_detection_rank(exp.scenarios[ 'Behaviour(Waypoint)'].datarun[run], _metrics)\n",
      "deviance_sc, windowed_sc = Analyses.Behaviour.combined_detection_rank(exp.scenarios[ 'Behaviour(SlowCoach)'].datarun[run], _metrics)"
     ],
     "language": "python",
     "metadata": {},
     "outputs": [],
     "prompt_number": 5
    },
    {
     "cell_type": "code",
     "collapsed": false,
     "input": [
      "import bounos\n",
      "from pprint import pprint\n",
      "reload(bounos)\n",
      "pprint(Analyses.Behaviour.behaviour_identification(\n",
      "        deviance_w, windowed_w, _metrics))\n",
      "pprint(Analyses.Behaviour.behaviour_identification(\n",
      "        deviance_s, windowed_s, _metrics))\n",
      "pprint(Analyses.Behaviour.behaviour_identification(\n",
      "        deviance_sc, windowed_sc, _metrics))"
     ],
     "language": "python",
     "metadata": {},
     "outputs": [
      {
       "output_type": "stream",
       "stream": "stdout",
       "text": [
        "{'detection_totals': array([ -2.432e+03,   1.759e+06,   1.353e+02]),\n",
        " 'suspect': 7,\n",
        " 'suspect_confidence': 2.5512909470360379,\n",
        " 'suspect_distrust': 104403.22341791564,\n",
        " 'suspect_name': None,\n",
        " 'trust_average': array([  27880.108,   42443.915,   23057.158,   21329.095,   28238.479,\n",
        "         27291.586,   16470.995,  104403.223]),\n",
        " 'trust_stdev': 26658.622949193352}\n",
        "{'detection_totals': array([ -2.936e+03,   2.328e+06,   5.870e+02]),\n",
        " 'suspect': 0,\n",
        " 'suspect_confidence': 2.4351767215739994,\n",
        " 'suspect_distrust': 225293.54273596156,\n",
        " 'suspect_name': None,\n",
        " 'trust_average': array([ 225293.543,   64662.444,   15866.306,   25082.761,   51649.622,\n",
        "         95540.711,   71280.3  ,   65357.614]),\n",
        " 'trust_stdev': 60961.440210964211}\n",
        "{"
       ]
      },
      {
       "output_type": "stream",
       "stream": "stdout",
       "text": [
        "'detection_totals': array([ -3.602e+03,   1.823e+06,  -3.432e+02]),\n",
        " 'suspect': 0,\n",
        " 'suspect_confidence': 2.6232770762693809,\n",
        " 'suspect_distrust': 257956.7100146283,\n",
        " 'suspect_name': None,\n",
        " 'trust_average': array([ 257956.71 ,    6636.26 ,   42987.031,   23494.392,   17690.345,\n",
        "         17152.606,   20973.342,    8965.485]),\n",
        " 'trust_stdev': 79471.089980412653}\n"
       ]
      }
     ],
     "prompt_number": 14
    },
    {
     "cell_type": "code",
     "collapsed": false,
     "input": [],
     "language": "python",
     "metadata": {},
     "outputs": []
    },
    {
     "cell_type": "code",
     "collapsed": false,
     "input": [],
     "language": "python",
     "metadata": {},
     "outputs": [],
     "prompt_number": 15
    },
    {
     "cell_type": "code",
     "collapsed": false,
     "input": [
      "df_w = pd.DataFrame.from_records(windowed_w)\n",
      "df_w.iplot(filename='Windowed Trust Dev Waypoint',world_readable=True, theme=\"pearl\")\n",
      "#dft = pd.concat([pd.DataFrame.from_records(windowed[i]) for i in range(len(_metrics))], keys=[m.__name__ for m in _metrics], names=['Metric','Time'])"
     ],
     "language": "python",
     "metadata": {},
     "outputs": [
      {
       "html": [
        "<iframe id=\"igraph\" scrolling=\"no\" style=\"border:none;\"seamless=\"seamless\" src=\"https://plot.ly/~bolster/57.embed\" height=\"525\" width=\"100%\"></iframe>"
       ],
       "metadata": {},
       "output_type": "pyout",
       "prompt_number": 16,
       "text": [
        "<plotly.tools.PlotlyDisplay at 0x7fc582175b10>"
       ]
      }
     ],
     "prompt_number": 16
    },
    {
     "cell_type": "code",
     "collapsed": false,
     "input": [
      "dfnorm(df_w).sum(axis=0).std()"
     ],
     "language": "python",
     "metadata": {},
     "outputs": [
      {
       "metadata": {},
       "output_type": "pyout",
       "prompt_number": 17,
       "text": [
        "8.7245143689011263e-13"
       ]
      }
     ],
     "prompt_number": 17
    },
    {
     "cell_type": "code",
     "collapsed": false,
     "input": [
      "df_s = pd.DataFrame.from_records(windowed_s)\n",
      "df_s.iplot(filename='Windowed Trust Dev Shadow',world_readable=True, theme=\"pearl\",)"
     ],
     "language": "python",
     "metadata": {},
     "outputs": [
      {
       "html": [
        "<iframe id=\"igraph\" scrolling=\"no\" style=\"border:none;\"seamless=\"seamless\" src=\"https://plot.ly/~bolster/56.embed\" height=\"525\" width=\"100%\"></iframe>"
       ],
       "metadata": {},
       "output_type": "pyout",
       "prompt_number": 18,
       "text": [
        "<plotly.tools.PlotlyDisplay at 0x7fc582250990>"
       ]
      }
     ],
     "prompt_number": 18
    },
    {
     "cell_type": "code",
     "collapsed": false,
     "input": [
      "dfnorm(df_s).sum(axis=0).std()"
     ],
     "language": "python",
     "metadata": {},
     "outputs": [
      {
       "metadata": {},
       "output_type": "pyout",
       "prompt_number": 19,
       "text": [
        "6.5766228492769928e-13"
       ]
      }
     ],
     "prompt_number": 19
    },
    {
     "cell_type": "code",
     "collapsed": false,
     "input": [
      "df_sc = pd.DataFrame.from_records(windowed_sc)\n",
      "df_sc.iplot(filename='Windowed Trust Dev SlowCoach',world_readable=True, theme=\"pearl\",)"
     ],
     "language": "python",
     "metadata": {},
     "outputs": [
      {
       "html": [
        "<iframe id=\"igraph\" scrolling=\"no\" style=\"border:none;\"seamless=\"seamless\" src=\"https://plot.ly/~bolster/58.embed\" height=\"525\" width=\"100%\"></iframe>"
       ],
       "metadata": {},
       "output_type": "pyout",
       "prompt_number": 23,
       "text": [
        "<plotly.tools.PlotlyDisplay at 0x7fc582250850>"
       ]
      }
     ],
     "prompt_number": 23
    },
    {
     "cell_type": "code",
     "collapsed": false,
     "input": [
      "df2norm(df_sc).sum(axis=0).std()"
     ],
     "language": "python",
     "metadata": {},
     "outputs": [
      {
       "metadata": {},
       "output_type": "pyout",
       "prompt_number": 51,
       "text": [
        "145.280211990803"
       ]
      }
     ],
     "prompt_number": 51
    },
    {
     "cell_type": "code",
     "collapsed": false,
     "input": [
      "def df2norm(df): return (df - df.mean().mean()) / (df.max().max() - df.min().min())\n",
      "dfn_w, dfn_s, dfn_sc = map(df2norm, [df_w, df_s, df_sc])\n",
      "dfn_s.plot()"
     ],
     "language": "python",
     "metadata": {},
     "outputs": [
      {
       "metadata": {},
       "output_type": "pyout",
       "prompt_number": 50,
       "text": [
        "<matplotlib.axes._subplots.AxesSubplot at 0x7fc596c974d0>"
       ]
      },
      {
       "metadata": {},
       "output_type": "display_data",
       "png": "[encoded data removed]",
       "text": [
        "<matplotlib.figure.Figure at 0x7fc5821a3dd0>"
       ]
      }
     ],
     "prompt_number": 50
    },
    {
     "cell_type": "code",
     "collapsed": false,
     "input": [
      "df_w.max().max()"
     ],
     "language": "python",
     "metadata": {},
     "outputs": [
      {
       "metadata": {},
       "output_type": "pyout",
       "prompt_number": 47,
       "text": [
        "270539.62161852361"
       ]
      }
     ],
     "prompt_number": 47
    },
    {
     "cell_type": "code",
     "collapsed": false,
     "input": [
      "import pickle\n",
      "with open(os.path.join(path, \"panel.pkl\"), 'rb') as f:\n",
      "    panel = pickle.load(f)\n",
      "\n",
      "for name,frame in panel.iteritems():\n",
      "    anonframe=frame.drop('suspect_name', 1)\n",
      "    filterkey='suspect_confidence'\n",
      "    if \"Waypoint\" in name:\n",
      "        bestrun = anonframe.idxmin(axis=0)[filterkey]\n",
      "    else:\n",
      "        bestrun = anonframe.idxmax(axis=0)[filterkey]\n",
      "    print name, bestrun"
     ],
     "language": "python",
     "metadata": {},
     "outputs": []
    },
    {
     "cell_type": "code",
     "collapsed": false,
     "input": [
      "import pickle, os\n",
      "import bounos as b\n",
      "args = b.custom_parser().parse_known_args()[0]\n",
      "with open(os.path.join(path,'bestruns.pkl'), 'rb') as f:\n",
      "    runs = pickle.load(f)\n",
      "args"
     ],
     "language": "python",
     "metadata": {},
     "outputs": []
    },
    {
     "cell_type": "code",
     "collapsed": false,
     "input": [
      "reload(b)\n",
      "args.annotate_achievements=1\n",
      "args.strip_title=True\n",
      "\n",
      "b.custom_fusion_run(data=runs, args=args, title='fuse')\n"
     ],
     "language": "python",
     "metadata": {},
     "outputs": []
    },
    {
     "cell_type": "code",
     "collapsed": false,
     "input": [
      "metric_deviance, windowed_accumulator = b.Analyses.Combined_Detection_Rank(runs.values()[0], b._metrics)\n"
     ],
     "language": "python",
     "metadata": {},
     "outputs": []
    },
    {
     "cell_type": "code",
     "collapsed": false,
     "input": [
      "for metric in metric_deviance:\n",
      "    figure()\n",
      "    plot(metric)"
     ],
     "language": "python",
     "metadata": {},
     "outputs": []
    },
    {
     "cell_type": "code",
     "collapsed": false,
     "input": [
      "raw_metrics = map(lambda f:f(),b._metrics)\n",
      "map(lambda f:f.update(runs.values()[0]),raw_metrics)\n",
      "pns = raw_metrics[1]\n",
      "rvals = range(150,180)\n",
      "rvals=range(1000)"
     ],
     "language": "python",
     "metadata": {},
     "outputs": []
    },
    {
     "cell_type": "code",
     "collapsed": false,
     "input": [
      "dev_results =b.Analyses.Deviation(datapackage=runs.values()[0],metric=pns)\n",
      "metrics, stddev, deviance = dev_results.values()\n",
      "delta = [pns.data[t]-pns.highlight_data[t] for t in rvals]\n",
      "eps=np.finfo(np.float64).eps\n",
      "std=np.std(delta, axis=1).clip(min=eps)\n",
      "stddev = [ np.abs(delta[t]/std[t]) for t in range(len(rvals))]\n",
      "figure()\n",
      "plot([pns.data[t] for t in rvals])\n",
      "plot([pns.highlight_data[t] for t in rvals],'--')\n",
      "\n",
      "figure()\n",
      "plot(stddev)\n",
      "figure()\n",
      "plot(map(abs,delta))\n",
      "plot(std,'--')\n"
     ],
     "language": "python",
     "metadata": {},
     "outputs": []
    },
    {
     "cell_type": "code",
     "collapsed": false,
     "input": [
      "std[7]"
     ],
     "language": "python",
     "metadata": {},
     "outputs": []
    },
    {
     "cell_type": "code",
     "collapsed": false,
     "input": [
      "eps"
     ],
     "language": "python",
     "metadata": {},
     "outputs": []
    },
    {
     "cell_type": "code",
     "collapsed": false,
     "input": [
      "plot(np.average(pns.data, axis=1)-pns.highlight_data)"
     ],
     "language": "python",
     "metadata": {},
     "outputs": []
    },
    {
     "cell_type": "code",
     "collapsed": false,
     "input": [
      "plot(pns.highlight_data)"
     ],
     "language": "python",
     "metadata": {},
     "outputs": []
    },
    {
     "cell_type": "code",
     "collapsed": false,
     "input": [],
     "language": "python",
     "metadata": {},
     "outputs": []
    }
   ],
   "metadata": {}
  }
 ]
}