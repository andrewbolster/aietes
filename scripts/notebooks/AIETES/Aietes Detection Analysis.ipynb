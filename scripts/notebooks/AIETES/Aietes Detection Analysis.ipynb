{
 "cells": [
  {
   "cell_type": "code",
   "execution_count": 1,
   "metadata": {
    "collapsed": false
   },
   "outputs": [],
   "source": [
    "path=\"/home/bolster/src/aietes/results/Malicious Behaviour Trust Comparison-2015-05-28-16-36-15\""
   ]
  },
  {
   "cell_type": "code",
   "execution_count": 2,
   "metadata": {
    "collapsed": false
   },
   "outputs": [],
   "source": [
    "import pickle\n",
    "import os\n",
    "import re\n",
    "import pprint \n",
    "pp = pprint.PrettyPrinter(indent=4)"
   ]
  },
  {
   "cell_type": "code",
   "execution_count": null,
   "metadata": {
    "collapsed": false
   },
   "outputs": [],
   "source": []
  },
  {
   "cell_type": "code",
   "execution_count": 3,
   "metadata": {
    "collapsed": false
   },
   "outputs": [
    {
     "ename": "OSError",
     "evalue": "[Errno 2] No such file or directory: '/home/bolster/src/aietes/results/Malicious Behaviour Trust Comparison-2015-05-28-16-36-15'",
     "output_type": "error",
     "traceback": [
      "\u001b[0;31m---------------------------------------------------------------------------\u001b[0m",
      "\u001b[0;31mOSError\u001b[0m                                   Traceback (most recent call last)",
      "\u001b[0;32m<ipython-input-3-5a06438d4479>\u001b[0m in \u001b[0;36m<module>\u001b[0;34m()\u001b[0m\n\u001b[1;32m      1\u001b[0m \u001b[0;32mimport\u001b[0m \u001b[0mpickle\u001b[0m\u001b[0;34m\u001b[0m\u001b[0m\n\u001b[0;32m----> 2\u001b[0;31m \u001b[0mexperimentfile\u001b[0m \u001b[0;34m=\u001b[0m \u001b[0mos\u001b[0m\u001b[0;34m.\u001b[0m\u001b[0mpath\u001b[0m\u001b[0;34m.\u001b[0m\u001b[0mjoin\u001b[0m\u001b[0;34m(\u001b[0m\u001b[0mpath\u001b[0m\u001b[0;34m,\u001b[0m\u001b[0mfilter\u001b[0m\u001b[0;34m(\u001b[0m\u001b[0;32mlambda\u001b[0m \u001b[0ms\u001b[0m\u001b[0;34m:\u001b[0m\u001b[0ms\u001b[0m\u001b[0;34m.\u001b[0m\u001b[0mendswith\u001b[0m\u001b[0;34m(\u001b[0m\u001b[0;34m'exp'\u001b[0m\u001b[0;34m)\u001b[0m\u001b[0;34m,\u001b[0m\u001b[0mos\u001b[0m\u001b[0;34m.\u001b[0m\u001b[0mlistdir\u001b[0m\u001b[0;34m(\u001b[0m\u001b[0mpath\u001b[0m\u001b[0;34m)\u001b[0m\u001b[0;34m)\u001b[0m\u001b[0;34m[\u001b[0m\u001b[0;36m0\u001b[0m\u001b[0;34m]\u001b[0m\u001b[0;34m)\u001b[0m\u001b[0;34m\u001b[0m\u001b[0m\n\u001b[0m\u001b[1;32m      3\u001b[0m \u001b[0;34m\u001b[0m\u001b[0m\n\u001b[1;32m      4\u001b[0m \u001b[0mexp\u001b[0m\u001b[0;34m=\u001b[0m\u001b[0mpickle\u001b[0m\u001b[0;34m.\u001b[0m\u001b[0mload\u001b[0m\u001b[0;34m(\u001b[0m\u001b[0mopen\u001b[0m\u001b[0;34m(\u001b[0m\u001b[0mexperimentfile\u001b[0m\u001b[0;34m,\u001b[0m\u001b[0;34m'rb'\u001b[0m\u001b[0;34m)\u001b[0m\u001b[0;34m)\u001b[0m\u001b[0;34m\u001b[0m\u001b[0m\n",
      "\u001b[0;31mOSError\u001b[0m: [Errno 2] No such file or directory: '/home/bolster/src/aietes/results/Malicious Behaviour Trust Comparison-2015-05-28-16-36-15'"
     ]
    }
   ],
   "source": [
    "import pickle\n",
    "experimentfile = os.path.join(path,filter(lambda s:s.endswith('exp'),os.listdir(path))[0])\n",
    "\n",
    "exp=pickle.load(open(experimentfile,'rb'))"
   ]
  },
  {
   "cell_type": "code",
   "execution_count": null,
   "metadata": {
    "collapsed": false
   },
   "outputs": [],
   "source": [
    "exp.print_stats(exp)"
   ]
  },
  {
   "cell_type": "code",
   "execution_count": null,
   "metadata": {
    "collapsed": false
   },
   "outputs": [],
   "source": []
  },
  {
   "cell_type": "code",
   "execution_count": null,
   "metadata": {
    "collapsed": false
   },
   "outputs": [],
   "source": [
    "import pandas as pd\n",
    "import plotly.plotly as py\n",
    "import statsmodels as sm\n",
    "\n",
    "from sklearn.linear_model import LinearRegression\n",
    "import scipy, scipy.stats\n",
    "\n",
    "import cufflinks as cf # Awesome Pandas/Plot.ly integration module https://github.com/santosjorge/cufflinks\n",
    "\n",
    "py.sign_in('bolster', 'q54pd5bbmd')\n",
    "\n",
    "from bounos import Analyses, Metrics\n",
    "\n",
    "_metrics = [Metrics.DeviationOfHeading,\n",
    "            Metrics.PernodeSpeed,\n",
    "            Metrics.PernodeInternodeDistanceAvg]\n",
    "run = 0\n",
    "deviance_s, windowed_s = Analyses.Behaviour.combined_detection_rank(exp.scenarios[ 'Behaviour(Shadow)'].datarun[run], _metrics)\n",
    "deviance_w, windowed_w = Analyses.Behaviour.combined_detection_rank(exp.scenarios[ 'Behaviour(Waypoint)'].datarun[run], _metrics)\n",
    "deviance_sc, windowed_sc = Analyses.Behaviour.combined_detection_rank(exp.scenarios[ 'Behaviour(SlowCoach)'].datarun[run], _metrics)"
   ]
  },
  {
   "cell_type": "code",
   "execution_count": null,
   "metadata": {
    "collapsed": false
   },
   "outputs": [],
   "source": [
    "import bounos\n",
    "from pprint import pprint\n",
    "reload(bounos)\n",
    "pprint(Analyses.Behaviour.behaviour_identification(\n",
    "        deviance_w, windowed_w, _metrics))\n",
    "pprint(Analyses.Behaviour.behaviour_identification(\n",
    "        deviance_s, windowed_s, _metrics))\n",
    "pprint(Analyses.Behaviour.behaviour_identification(\n",
    "        deviance_sc, windowed_sc, _metrics))"
   ]
  },
  {
   "cell_type": "code",
   "execution_count": null,
   "metadata": {
    "collapsed": false
   },
   "outputs": [],
   "source": []
  },
  {
   "cell_type": "code",
   "execution_count": null,
   "metadata": {
    "collapsed": false
   },
   "outputs": [],
   "source": []
  },
  {
   "cell_type": "code",
   "execution_count": null,
   "metadata": {
    "collapsed": false
   },
   "outputs": [],
   "source": [
    "df_w = pd.DataFrame.from_records(windowed_w)\n",
    "df_w.iplot(filename='Windowed Trust Dev Waypoint',world_readable=True, theme=\"pearl\")\n",
    "#dft = pd.concat([pd.DataFrame.from_records(windowed[i]) for i in range(len(_metrics))], keys=[m.__name__ for m in _metrics], names=['Metric','Time'])"
   ]
  },
  {
   "cell_type": "code",
   "execution_count": null,
   "metadata": {
    "collapsed": false
   },
   "outputs": [],
   "source": [
    "dfnorm(df_w).sum(axis=0).std()"
   ]
  },
  {
   "cell_type": "code",
   "execution_count": null,
   "metadata": {
    "collapsed": false
   },
   "outputs": [],
   "source": [
    "df_s = pd.DataFrame.from_records(windowed_s)\n",
    "df_s.iplot(filename='Windowed Trust Dev Shadow',world_readable=True, theme=\"pearl\",)"
   ]
  },
  {
   "cell_type": "code",
   "execution_count": null,
   "metadata": {
    "collapsed": false
   },
   "outputs": [],
   "source": [
    "dfnorm(df_s).sum(axis=0).std()"
   ]
  },
  {
   "cell_type": "code",
   "execution_count": null,
   "metadata": {
    "collapsed": false
   },
   "outputs": [],
   "source": [
    "df_sc = pd.DataFrame.from_records(windowed_sc)\n",
    "df_sc.iplot(filename='Windowed Trust Dev SlowCoach',world_readable=True, theme=\"pearl\",)"
   ]
  },
  {
   "cell_type": "code",
   "execution_count": null,
   "metadata": {
    "collapsed": false
   },
   "outputs": [],
   "source": [
    "df2norm(df_sc).sum(axis=0).std()"
   ]
  },
  {
   "cell_type": "code",
   "execution_count": null,
   "metadata": {
    "collapsed": false
   },
   "outputs": [],
   "source": [
    "def df2norm(df): return (df - df.mean().mean()) / (df.max().max() - df.min().min())\n",
    "dfn_w, dfn_s, dfn_sc = map(df2norm, [df_w, df_s, df_sc])\n",
    "dfn_s.plot()"
   ]
  },
  {
   "cell_type": "code",
   "execution_count": null,
   "metadata": {
    "collapsed": false
   },
   "outputs": [],
   "source": [
    "df_w.max().max()"
   ]
  },
  {
   "cell_type": "code",
   "execution_count": null,
   "metadata": {
    "collapsed": false
   },
   "outputs": [],
   "source": [
    "import pickle\n",
    "with open(os.path.join(path, \"panel.pkl\"), 'rb') as f:\n",
    "    panel = pickle.load(f)\n",
    "\n",
    "for name,frame in panel.iteritems():\n",
    "    anonframe=frame.drop('suspect_name', 1)\n",
    "    filterkey='suspect_confidence'\n",
    "    if \"Waypoint\" in name:\n",
    "        bestrun = anonframe.idxmin(axis=0)[filterkey]\n",
    "    else:\n",
    "        bestrun = anonframe.idxmax(axis=0)[filterkey]\n",
    "    print name, bestrun"
   ]
  },
  {
   "cell_type": "code",
   "execution_count": null,
   "metadata": {
    "collapsed": false
   },
   "outputs": [],
   "source": [
    "import pickle, os\n",
    "import bounos as b\n",
    "args = b.custom_parser().parse_known_args()[0]\n",
    "with open(os.path.join(path,'bestruns.pkl'), 'rb') as f:\n",
    "    runs = pickle.load(f)\n",
    "args"
   ]
  },
  {
   "cell_type": "code",
   "execution_count": null,
   "metadata": {
    "collapsed": false
   },
   "outputs": [],
   "source": [
    "reload(b)\n",
    "args.annotate_achievements=1\n",
    "args.strip_title=True\n",
    "\n",
    "b.custom_fusion_run(data=runs, args=args, title='fuse')\n"
   ]
  },
  {
   "cell_type": "code",
   "execution_count": null,
   "metadata": {
    "collapsed": false
   },
   "outputs": [],
   "source": [
    "metric_deviance, windowed_accumulator = b.Analyses.Combined_Detection_Rank(runs.values()[0], b._metrics)\n"
   ]
  },
  {
   "cell_type": "code",
   "execution_count": null,
   "metadata": {
    "collapsed": false
   },
   "outputs": [],
   "source": [
    "for metric in metric_deviance:\n",
    "    figure()\n",
    "    plot(metric)"
   ]
  },
  {
   "cell_type": "code",
   "execution_count": null,
   "metadata": {
    "collapsed": false
   },
   "outputs": [],
   "source": [
    "raw_metrics = map(lambda f:f(),b._metrics)\n",
    "map(lambda f:f.update(runs.values()[0]),raw_metrics)\n",
    "pns = raw_metrics[1]\n",
    "rvals = range(150,180)\n",
    "rvals=range(1000)"
   ]
  },
  {
   "cell_type": "code",
   "execution_count": null,
   "metadata": {
    "collapsed": false
   },
   "outputs": [],
   "source": [
    "dev_results =b.Analyses.Deviation(datapackage=runs.values()[0],metric=pns)\n",
    "metrics, stddev, deviance = dev_results.values()\n",
    "delta = [pns.data[t]-pns.highlight_data[t] for t in rvals]\n",
    "eps=np.finfo(np.float64).eps\n",
    "std=np.std(delta, axis=1).clip(min=eps)\n",
    "stddev = [ np.abs(delta[t]/std[t]) for t in range(len(rvals))]\n",
    "figure()\n",
    "plot([pns.data[t] for t in rvals])\n",
    "plot([pns.highlight_data[t] for t in rvals],'--')\n",
    "\n",
    "figure()\n",
    "plot(stddev)\n",
    "figure()\n",
    "plot(map(abs,delta))\n",
    "plot(std,'--')\n"
   ]
  },
  {
   "cell_type": "code",
   "execution_count": null,
   "metadata": {
    "collapsed": false
   },
   "outputs": [],
   "source": [
    "std[7]"
   ]
  },
  {
   "cell_type": "code",
   "execution_count": null,
   "metadata": {
    "collapsed": false
   },
   "outputs": [],
   "source": [
    "eps"
   ]
  },
  {
   "cell_type": "code",
   "execution_count": null,
   "metadata": {
    "collapsed": false
   },
   "outputs": [],
   "source": [
    "plot(np.average(pns.data, axis=1)-pns.highlight_data)"
   ]
  },
  {
   "cell_type": "code",
   "execution_count": null,
   "metadata": {
    "collapsed": false
   },
   "outputs": [],
   "source": [
    "plot(pns.highlight_data)"
   ]
  },
  {
   "cell_type": "code",
   "execution_count": null,
   "metadata": {
    "collapsed": false
   },
   "outputs": [],
   "source": []
  }
 ],
 "metadata": {
  "kernelspec": {
   "display_name": "Python 2",
   "language": "python",
   "name": "python2"
  },
  "language_info": {
   "codemirror_mode": {
    "name": "ipython",
    "version": 2
   },
   "file_extension": ".py",
   "mimetype": "text/x-python",
   "name": "python",
   "nbconvert_exporter": "python",
   "pygments_lexer": "ipython2",
   "version": "2.7.9"
  }
 },
 "nbformat": 4,
 "nbformat_minor": 0
}
