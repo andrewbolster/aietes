{
 "cells": [
  {
   "cell_type": "code",
   "execution_count": 1,
   "metadata": {
    "collapsed": false
   },
   "outputs": [
    {
     "name": "stdout",
     "output_type": "stream",
     "text": [
      "Warning: IOStream has no fileno.\n"
     ]
    },
    {
     "name": "stderr",
     "output_type": "stream",
     "text": [
      "/usr/local/lib/python2.7/dist-packages/matplotlib/__init__.py:872: UserWarning: axes.color_cycle is deprecated and replaced with axes.prop_cycle; please use the latter.\n",
      "  warnings.warn(self.msg_depr % (key, alt_key))\n"
     ]
    }
   ],
   "source": [
    "import operator\n",
    "import pandas as pd\n",
    "import matplotlib.pylab as plt\n",
    "import itertools\n",
    "\n",
    "_ = np.seterr(invalid='ignore') # Pandas PITA Nan printing\n",
    "\n",
    "import bounos.ChartBuilders as cb\n",
    "import bounos.Analyses.Trust as Trust\n",
    "\n",
    "import os\n",
    "\n",
    "def map_level(df, dct, level=0):\n",
    "    index = df.index\n",
    "    index.set_levels([[dct.get(item, item) for item in names] if i==level else names\n",
    "                      for i, names in enumerate(index.levels)], inplace=True)\n",
    "\n",
    "\n",
    "cb.latexify(columns=0.5, factor=1)\n",
    "\n",
    "phys_keys = ['INDD','INHD','Speed']\n",
    "comm_keys = ['ADelay','ARXP','ATXP','RXThroughput','TXThroughput','PLR']\n",
    "observer = 'Bravo'\n",
    "target = 'Alfa'\n",
    "n_nodes = 6\n",
    "n_metrics = 9\n",
    "par=False\n",
    "\n",
    "results_path = \"/home/bolster/src/aietes/results/Malicious Behaviour Trust Comparison-2015-07-20-17-47-53\"\n",
    "\n",
    "fig_basedir = \"/home/bolster/src/thesis/papers/active/16_AAMAS/img\"\n",
    "\n",
    "\n",
    "var_rename_dict = {'CombinedBadMouthingPowerControl':'MPC',\n",
    " 'CombinedSelfishTargetSelection':'STS',\n",
    " 'CombinedTrust':'Fair',\n",
    " 'Shadow':'Shadow',\n",
    " 'SlowCoach':'SlowCoach'}\n",
    "\n",
    "metric_rename_dict = {\n",
    "    'ADelay': \"$Delay$\",\n",
    "    'ARXP': \"$P_{RX}$\",\n",
    "    'ATXP': \"$P_{TX}$\",\n",
    "    'RXThroughput': \"$T^P_{RX}$\",\n",
    "    'TXThroughput': \"$T^P_{TX}$\",\n",
    "    'PLR': '$PLR$',\n",
    "    'INDD': '$INDD$',\n",
    "    'INHD': '$INHD$',\n",
    "    'Speed': '$Speed$'\n",
    "}\n",
    "inv_map = lambda d: {v: k for k, v in d.items()}\n",
    "\n",
    "\n",
    "assert os.path.isdir(fig_basedir)\n",
    "def categorise_dataframe(df):\n",
    "    # Categories work better as indexes\n",
    "    for obj_key in df.keys()[df.dtypes == object]:\n",
    "        try:\n",
    "            df[obj_key] = df[obj_key].astype('category')\n",
    "        except TypeError:\n",
    "            print(\"Couldn't categorise {}\".format(obj_key))\n",
    "            pass\n",
    "    return df\n",
    "\n",
    "def non_zero_rows(df):\n",
    "    return df[~(df==0).all(axis=1)]\n",
    "\n",
    "from IPython.display import display\n",
    "from collections import defaultdict\n",
    "tree = lambda: defaultdict(tree)\n",
    "\n",
    "\n",
    "                        \n",
    "def calc_correlations_from_weights(weights):\n",
    "    def calc_correlations(base, comp, index=0):\n",
    "        dp_r = (comp / base).reset_index()\n",
    "        return dp_r.corr()[index][:-1]\n",
    "    _corrs = {}\n",
    "    for base, comp in itertools.permutations(weights.keys(), 2):\n",
    "        _corrs[(base, comp)] = \\\n",
    "            calc_correlations(weights[base],\n",
    "                              weights[comp])\n",
    "\n",
    "    corrs = pd.DataFrame.from_dict(_corrs).T.rename(columns=metric_rename_dict)\n",
    "    map_level(corrs, var_rename_dict, 0)\n",
    "    map_level(corrs, var_rename_dict, 1)\n",
    "    corrs.index.set_names(['Control', 'Misbehaviour'], inplace=True)\n",
    "    return corrs\n",
    "\n",
    "%matplotlib inline \n"
   ]
  },
  {
   "cell_type": "code",
   "execution_count": 2,
   "metadata": {
    "collapsed": false
   },
   "outputs": [],
   "source": [
    "with pd.get_store(results_path + '.h5') as store:\n",
    "    trust_observations = store.trust.xs('Bravo',level='observer', drop_level=False).dropna()"
   ]
  },
  {
   "cell_type": "code",
   "execution_count": 3,
   "metadata": {
    "collapsed": false
   },
   "outputs": [],
   "source": [
    "unweighted_trust_perspectives = Trust.generate_node_trust_perspective(trust_observations,\n",
    "                                                                    metric_weights=None,\n",
    "                                                                    par=par)\n",
    "map_level(unweighted_trust_perspectives, var_rename_dict)"
   ]
  },
  {
   "cell_type": "code",
   "execution_count": null,
   "metadata": {
    "collapsed": false
   },
   "outputs": [],
   "source": [
    "with pd.HDFStore('/dev/shm/shared.h5',  mode='r') as store:\n",
    "    feat_weights = categorise_dataframe(non_zero_rows(store.joined_feats).T)\n",
    "    corrs = calc_correlations_from_weights(store.joined_target_weights)\n",
    "    signed_feat_weights = feat_weights.rename(index=metric_rename_dict)*corrs.apply(np.sign).T "
   ]
  },
  {
   "cell_type": "code",
   "execution_count": null,
   "metadata": {
    "collapsed": false
   },
   "outputs": [],
   "source": [
    "signed_feat_weights"
   ]
  },
  {
   "cell_type": "code",
   "execution_count": null,
   "metadata": {
    "collapsed": false
   },
   "outputs": [],
   "source": [
    "weighted_trust_perspectives = {}\n",
    "for k,w in feat_weights.to_dict().items():\n",
    "    if key[0]!='Fair':\n",
    "        continue\n",
    "    weighted_trust_perspectives[k] = Trust.generate_node_trust_perspective(trust_observations,\n",
    "                                                                    metric_weights=pd.Series(w),\n",
    "                                                                    par=par)\n",
    "for key,trust in weighted_trust_perspectives.items():\n",
    "    map_level(weighted_trust_perspectives[key],var_rename_dict)"
   ]
  },
  {
   "cell_type": "code",
   "execution_count": null,
   "metadata": {
    "collapsed": false
   },
   "outputs": [],
   "source": [
    "ewma = lambda f: pd.stats.moments.ewma(f,span=4)\n",
    "\n",
    "ewma(unweighted_trust_perspectives.unstack('var')['Alfa'].xs('Bravo', level='observer')).boxplot()\n",
    "plt.title(\"Unweighted\")\n",
    "plt.show()\n",
    "for key,trust in weighted_trust_perspectives.items():\n",
    "    if key[0]!='Fair':\n",
    "        continue\n",
    "    ax = ewma(trust.unstack('var')['Alfa'].xs('Bravo', level='observer')).boxplot(return_type='axes')\n",
    "    title=\"Weighted {}\".format('-'.join(key))\n",
    "    ax.set_title(title)\n",
    "    plt.show()\n"
   ]
  },
  {
   "cell_type": "code",
   "execution_count": null,
   "metadata": {
    "collapsed": false
   },
   "outputs": [],
   "source": [
    "with pd.get_store(results_path + \"/outliers.bkup.h5\") as store:       \n",
    "    mdts = store.get('meandeltaCombinedTrust_2')\n",
    "metrics = np.split(mdts.keys(),[4])[1]\n",
    "\n",
    "from IPython.display import display\n",
    "tops = {}\n",
    "for k,v in mdts.groupby(['var']):\n",
    "    tops[k]=v.sort(0, ascending=False)[metrics].head(1).values[0].astype(np.float64)\n",
    "\n",
    "opti = pd.DataFrame.from_dict(tops, orient='index')\n",
    "opti.columns = metrics\n",
    "opti\n",
    "\n",
    "reload(Trust)\n",
    "signed_weighted_trust_perspectives = {}\n",
    "for k,w in tops.items():\n",
    "    print k\n",
    "    signed_weighted_trust_perspectives[var_rename_dict.get(k)] = Trust.generate_node_trust_perspective(trust_observations,\n",
    "                                                                    metric_weights=pd.Series(w),\n",
    "                                                                    par=par)\n",
    "for key,trust in signed_weighted_trust_perspectives.items():\n",
    "    map_level(signed_weighted_trust_perspectives[key],var_rename_dict)"
   ]
  },
  {
   "cell_type": "code",
   "execution_count": null,
   "metadata": {
    "collapsed": true
   },
   "outputs": [],
   "source": [
    "reload(Trust)\n",
    "signed_weighted_trust_perspectives = {}\n",
    "for k,w in signed_feat_weights.rename(inv_map(metric_rename_dict)).to_dict().items():\n",
    "    if k[0]!='Fair':\n",
    "        continue\n",
    "    signed_weighted_trust_perspectives[k] = Trust.generate_node_trust_perspective(trust_observations,\n",
    "                                                                    metric_weights=pd.Series(w),\n",
    "                                                                    par=par)\n",
    "for key,trust in signed_weighted_trust_perspectives.items():\n",
    "    map_level(signed_weighted_trust_perspectives[key],var_rename_dict)\n",
    "    \n",
    "bad_result = signed_weighted_trust_perspectives[('Fair','SlowCoach')].xs(0, level='run').xs('SlowCoach', level='var')\n",
    "\n",
    "good_result = pd.stats.moments.ewma(signed_weighted_trust_perspectives[('Fair','MPC')].xs(0, level='run').xs('MPC', level='var'),\n",
    "                      span=4)"
   ]
  },
  {
   "cell_type": "code",
   "execution_count": null,
   "metadata": {
    "collapsed": false
   },
   "outputs": [],
   "source": [
    "%timeit assess_result(signed_weighted_trust_perspectives[('Fair','MPC')])[0]"
   ]
  },
  {
   "cell_type": "code",
   "execution_count": null,
   "metadata": {
    "collapsed": false
   },
   "outputs": [],
   "source": [
    "%timeit np.subtract(*map(np.nanmean,np.split(signed_weighted_trust_perspectives[('Fair','MPC')].values, [1], axis=1)))"
   ]
  },
  {
   "cell_type": "code",
   "execution_count": null,
   "metadata": {
    "collapsed": false
   },
   "outputs": [],
   "source": [
    "feat_weights"
   ]
  },
  {
   "cell_type": "code",
   "execution_count": null,
   "metadata": {
    "collapsed": false,
    "scrolled": false
   },
   "outputs": [],
   "source": [
    "                  \n",
    "#results = assess_dt_results(signed_weighted_trust_perspectives)\n",
    "results = assess_results(signed_weighted_trust_perspectives)\n",
    "\n",
    "results"
   ]
  },
  {
   "cell_type": "code",
   "execution_count": null,
   "metadata": {
    "collapsed": false
   },
   "outputs": [],
   "source": [
    "pd.DataFrame(results, index=['mean','std'])"
   ]
  },
  {
   "cell_type": "code",
   "execution_count": null,
   "metadata": {
    "collapsed": true
   },
   "outputs": [],
   "source": [
    "inv_signed_weighted_trust_perspectives = {}\n",
    "for k,w in signed_feat_weights.items():\n",
    "    inv_signed_weighted_trust_perspectives[k] = Trust.generate_node_trust_perspective(trust_observations,\n",
    "                                                                    metric_weights=-pd.Series(w),\n",
    "                                                                    par=par)\n",
    "for key,trust in inv_signed_weighted_trust_perspectives.items():\n",
    "    map_level(inv_signed_weighted_trust_perspectives[key],var_rename_dict)"
   ]
  },
  {
   "cell_type": "code",
   "execution_count": null,
   "metadata": {
    "collapsed": false
   },
   "outputs": [],
   "source": [
    "#signed_weighted_trust_perspectives[(u'Fair', u'MPC')]"
   ]
  },
  {
   "cell_type": "code",
   "execution_count": null,
   "metadata": {
    "collapsed": false
   },
   "outputs": [],
   "source": [
    "signed_feat_weights.rename(inv_map(metric_rename_dict)).T.describe()"
   ]
  },
  {
   "cell_type": "code",
   "execution_count": null,
   "metadata": {
    "collapsed": false
   },
   "outputs": [],
   "source": [
    "ewma(unweighted_trust_perspectives.unstack('var')['Alfa'].xs('Bravo', level='observer')).boxplot()\n",
    "plt.title(\"Unweighted\")\n",
    "plt.show()\n",
    "for key,trust in signed_weighted_trust_perspectives.items():\n",
    "    if key[1]!='Fair':\n",
    "        continue\n",
    "    ax = ewma(trust.unstack('var')['Alfa'].xs('Bravo', level='observer')).boxplot(return_type='axes')\n",
    "    title=\"Weighted {}\".format('-'.join(key))\n",
    "    ax.set_title(title)\n",
    "    plt.show()"
   ]
  },
  {
   "cell_type": "code",
   "execution_count": null,
   "metadata": {
    "collapsed": false
   },
   "outputs": [],
   "source": [
    "#pd.DataFrame.from_records((signed_feat_weights[(u'Fair', u'MPC')],signed_feat_weights[(u'Fair', u'Shadow')])).plot(kind='bar')"
   ]
  },
  {
   "cell_type": "code",
   "execution_count": null,
   "metadata": {
    "collapsed": false
   },
   "outputs": [],
   "source": [
    "tf = trust_observations.xs('Alfa',level='target')\n",
    "tf.columns.name='metrics'\n",
    "tf.stack().swaplevel('var','metrics').unstack('var').groupby(level='metrics').boxplot()"
   ]
  },
  {
   "cell_type": "code",
   "execution_count": null,
   "metadata": {
    "collapsed": false
   },
   "outputs": [],
   "source": [
    "from itertools import islice\n",
    "\n",
    "def split_every(n, iterable):\n",
    "    i = iter(iterable)\n",
    "    piece = list(islice(i, n))\n",
    "    while piece:\n",
    "        yield piece\n",
    "        piece = list(islice(i, n))\n",
    "\n",
    "fig, axes = plt.subplots(3, 3, sharey=False, sharex=True)\n",
    "\n",
    "for i,row in enumerate(split_every(3, tf.stack().swaplevel('var','metrics').unstack('var').groupby(level='metrics'))):\n",
    "    for j,(k,grp) in enumerate(row):\n",
    "        grp.boxplot(ax=axes[i][j])\n",
    "        axes[i][j].set_title(k)"
   ]
  },
  {
   "cell_type": "code",
   "execution_count": null,
   "metadata": {
    "collapsed": false
   },
   "outputs": [],
   "source": [
    "_=unweighted_trust_perspectives.unstack('var')['Alfa'].xs('Bravo', level='observer').boxplot()\n",
    "plt.title(\"Unweighted\")\n",
    "plt.show()\n",
    "for key,trust in inv_signed_weighted_trust_perspectives.items():\n",
    "    if key[0]!='Fair':\n",
    "        continue\n",
    "    ax = trust.unstack('var')['Alfa'].xs('Bravo', level='observer').boxplot(return_type='axes')\n",
    "    title=\"Inverted Weighted {}\".format('-'.join(key))\n",
    "    ax.set_title(title)\n",
    "    plt.show()\n",
    "    ax.get_figure().savefig(os.path.join(fig_basedir,\"{}.png\".format(title.replace(' ',''))))"
   ]
  },
  {
   "cell_type": "code",
   "execution_count": null,
   "metadata": {
    "collapsed": false
   },
   "outputs": [],
   "source": [
    "pd.DataFrame.from_dict(feat_weights).T.xs(\"Fair\",0).plot(kind='bar')"
   ]
  },
  {
   "cell_type": "code",
   "execution_count": null,
   "metadata": {
    "collapsed": false
   },
   "outputs": [],
   "source": [
    "pd.DataFrame.from_dict(signed_feat_weights).T.xs(\"Fair\",0).plot(kind='bar')"
   ]
  },
  {
   "cell_type": "code",
   "execution_count": null,
   "metadata": {
    "collapsed": false
   },
   "outputs": [],
   "source": [
    "(-pd.DataFrame.from_dict(signed_feat_weights)).T.xs(\"Fair\",0).plot(kind='bar')"
   ]
  },
  {
   "cell_type": "code",
   "execution_count": 6,
   "metadata": {
    "collapsed": false
   },
   "outputs": [
    {
     "data": {
      "text/plain": [
       "'full_thing_weighted-key-value'"
      ]
     },
     "execution_count": 6,
     "metadata": {},
     "output_type": "execute_result"
    }
   ],
   "source": [
    "\"Full Thing Weighted-Key-Value\".lower().replace(' ','_')"
   ]
  },
  {
   "cell_type": "code",
   "execution_count": 8,
   "metadata": {
    "collapsed": false
   },
   "outputs": [
    {
     "data": {
      "text/plain": [
       "'Comms only'"
      ]
     },
     "execution_count": 8,
     "metadata": {},
     "output_type": "execute_result"
    }
   ],
   "source": [
    "\"comms only\".capitalize()"
   ]
  },
  {
   "cell_type": "code",
   "execution_count": null,
   "metadata": {
    "collapsed": true
   },
   "outputs": [],
   "source": []
  }
 ],
 "metadata": {
  "kernelspec": {
   "display_name": "Python 2",
   "language": "python",
   "name": "python2"
  },
  "language_info": {
   "codemirror_mode": {
    "name": "ipython",
    "version": 2
   },
   "file_extension": ".py",
   "mimetype": "text/x-python",
   "name": "python",
   "nbconvert_exporter": "python",
   "pygments_lexer": "ipython2",
   "version": "2.7.9"
  }
 },
 "nbformat": 4,
 "nbformat_minor": 0
}
