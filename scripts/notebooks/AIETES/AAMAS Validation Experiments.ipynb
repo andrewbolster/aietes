{
 "cells": [
  {
   "cell_type": "code",
   "execution_count": 2,
   "metadata": {
    "collapsed": false
   },
   "outputs": [
    {
     "name": "stdout",
     "output_type": "stream",
     "text": [
      "Warning: IOStream has no fileno.\n"
     ]
    },
    {
     "name": "stderr",
     "output_type": "stream",
     "text": [
      "/usr/local/lib/python2.7/dist-packages/matplotlib/__init__.py:872: UserWarning: axes.color_cycle is deprecated and replaced with axes.prop_cycle; please use the latter.\n",
      "  warnings.warn(self.msg_depr % (key, alt_key))\n"
     ]
    }
   ],
   "source": [
    "import operator\n",
    "import pandas as pd\n",
    "import matplotlib.pylab as plt\n",
    "import itertools\n",
    "\n",
    "_ = np.seterr(invalid='ignore') # Pandas PITA Nan printing\n",
    "\n",
    "import bounos.ChartBuilders as cb\n",
    "import bounos.Analyses.Trust as Trust\n",
    "\n",
    "import os\n",
    "\n",
    "def map_level(df, dct, level=0):\n",
    "    index = df.index\n",
    "    index.set_levels([[dct.get(item, item) for item in names] if i==level else names\n",
    "                      for i, names in enumerate(index.levels)], inplace=True)\n",
    "\n",
    "\n",
    "cb.latexify(columns=0.5, factor=1)\n",
    "\n",
    "phys_keys = ['INDD','INHD','Speed']\n",
    "comm_keys = ['ADelay','ARXP','ATXP','RXThroughput','TXThroughput','PLR']\n",
    "observer = 'Bravo'\n",
    "target = 'Alfa'\n",
    "n_nodes = 6\n",
    "n_metrics = 9\n",
    "par=False\n",
    "\n",
    "results_path = \"/home/bolster/src/aietes/results/Malicious Behaviour Trust Comparison-2015-07-20-17-47-53\"\n",
    "\n",
    "fig_basedir = \"/home/bolster/src/thesis/papers/active/16_AAMAS/img\"\n",
    "\n",
    "\n",
    "var_rename_dict = {'CombinedBadMouthingPowerControl':'MPC',\n",
    " 'CombinedSelfishTargetSelection':'STS',\n",
    " 'CombinedTrust':'Fair',\n",
    " 'Shadow':'Shadow',\n",
    " 'SlowCoach':'SlowCoach'}\n",
    "\n",
    "metric_rename_dict = {\n",
    "    'ADelay': \"$Delay$\",\n",
    "    'ARXP': \"$P_{RX}$\",\n",
    "    'ATXP': \"$P_{TX}$\",\n",
    "    'RXThroughput': \"$T^P_{RX}$\",\n",
    "    'TXThroughput': \"$T^P_{TX}$\",\n",
    "    'PLR': '$PLR$',\n",
    "    'INDD': '$INDD$',\n",
    "    'INHD': '$INHD$',\n",
    "    'Speed': '$Speed$'\n",
    "}\n",
    "inv_map = lambda d: {v: k for k, v in d.items()}\n",
    "\n",
    "\n",
    "assert os.path.isdir(fig_basedir)\n",
    "def categorise_dataframe(df):\n",
    "    # Categories work better as indexes\n",
    "    for obj_key in df.keys()[df.dtypes == object]:\n",
    "        try:\n",
    "            df[obj_key] = df[obj_key].astype('category')\n",
    "        except TypeError:\n",
    "            print(\"Couldn't categorise {}\".format(obj_key))\n",
    "            pass\n",
    "    return df\n",
    "\n",
    "def non_zero_rows(df):\n",
    "    return df[~(df==0).all(axis=1)]\n",
    "\n",
    "from IPython.display import display\n",
    "from collections import defaultdict\n",
    "tree = lambda: defaultdict(tree)\n",
    "\n",
    "\n",
    "                        \n",
    "def calc_correlations_from_weights(weights):\n",
    "    def calc_correlations(base, comp, index=0):\n",
    "        dp_r = (comp / base).reset_index()\n",
    "        return dp_r.corr()[index][:-1]\n",
    "    _corrs = {}\n",
    "    for base, comp in itertools.permutations(weights.keys(), 2):\n",
    "        _corrs[(base, comp)] = \\\n",
    "            calc_correlations(weights[base],\n",
    "                              weights[comp])\n",
    "\n",
    "    corrs = pd.DataFrame.from_dict(_corrs).T.rename(columns=metric_rename_dict)\n",
    "    map_level(corrs, var_rename_dict, 0)\n",
    "    map_level(corrs, var_rename_dict, 1)\n",
    "    corrs.index.set_names(['Control', 'Misbehaviour'], inplace=True)\n",
    "    return corrs\n",
    "\n",
    "%matplotlib inline \n"
   ]
  },
  {
   "cell_type": "code",
   "execution_count": 3,
   "metadata": {
    "collapsed": false
   },
   "outputs": [],
   "source": [
    "with pd.get_store(results_path + '.h5') as store:\n",
    "    trust_observations = store.trust.xs('Bravo',level='observer', drop_level=False).dropna()"
   ]
  },
  {
   "cell_type": "code",
   "execution_count": null,
   "metadata": {
    "collapsed": false
   },
   "outputs": [],
   "source": [
    "unweighted_trust_perspectives = Trust.generate_node_trust_perspective(trust_observations,\n",
    "                                                                    metric_weights=None,\n",
    "                                                                    par=par)\n",
    "map_level(unweighted_trust_perspectives, var_rename_dict)"
   ]
  },
  {
   "cell_type": "code",
   "execution_count": 4,
   "metadata": {
    "collapsed": false
   },
   "outputs": [],
   "source": [
    "with pd.HDFStore('/dev/shm/shared.h5',  mode='r') as store:\n",
    "    feat_weights = categorise_dataframe(non_zero_rows(store.joined_feats).T)\n",
    "    corrs = calc_correlations_from_weights(store.joined_target_weights)\n",
    "    signed_feat_weights = feat_weights.rename(index=metric_rename_dict)*corrs.apply(np.sign).T "
   ]
  },
  {
   "cell_type": "code",
   "execution_count": 5,
   "metadata": {
    "collapsed": false
   },
   "outputs": [
    {
     "data": {
      "text/html": [
       "<div>\n",
       "<table border=\"1\" class=\"dataframe\">\n",
       "  <thead>\n",
       "    <tr>\n",
       "      <th>base</th>\n",
       "      <th colspan=\"4\" halign=\"left\">MPC</th>\n",
       "      <th colspan=\"4\" halign=\"left\">STS</th>\n",
       "      <th colspan=\"4\" halign=\"left\">Fair</th>\n",
       "      <th colspan=\"4\" halign=\"left\">Shadow</th>\n",
       "      <th colspan=\"4\" halign=\"left\">SlowCoach</th>\n",
       "    </tr>\n",
       "    <tr>\n",
       "      <th>comp</th>\n",
       "      <th>STS</th>\n",
       "      <th>Fair</th>\n",
       "      <th>Shadow</th>\n",
       "      <th>SlowCoach</th>\n",
       "      <th>MPC</th>\n",
       "      <th>Fair</th>\n",
       "      <th>Shadow</th>\n",
       "      <th>SlowCoach</th>\n",
       "      <th>MPC</th>\n",
       "      <th>STS</th>\n",
       "      <th>Shadow</th>\n",
       "      <th>SlowCoach</th>\n",
       "      <th>MPC</th>\n",
       "      <th>STS</th>\n",
       "      <th>Fair</th>\n",
       "      <th>SlowCoach</th>\n",
       "      <th>MPC</th>\n",
       "      <th>STS</th>\n",
       "      <th>Fair</th>\n",
       "      <th>Shadow</th>\n",
       "    </tr>\n",
       "  </thead>\n",
       "  <tbody>\n",
       "    <tr>\n",
       "      <th>$Delay$</th>\n",
       "      <td>-0.031665</td>\n",
       "      <td>0.038869</td>\n",
       "      <td>-0.026059</td>\n",
       "      <td>0.015367</td>\n",
       "      <td>-0.031517</td>\n",
       "      <td>-0.148742</td>\n",
       "      <td>-0.036319</td>\n",
       "      <td>-0.024497</td>\n",
       "      <td>-0.038773</td>\n",
       "      <td>0.148663</td>\n",
       "      <td>0.032953</td>\n",
       "      <td>0.021658</td>\n",
       "      <td>-0.026094</td>\n",
       "      <td>0.036444</td>\n",
       "      <td>-0.033100</td>\n",
       "      <td>-0.024302</td>\n",
       "      <td>-0.015376</td>\n",
       "      <td>-0.024489</td>\n",
       "      <td>0.021727</td>\n",
       "      <td>-0.024306</td>\n",
       "    </tr>\n",
       "    <tr>\n",
       "      <th>$INDD$</th>\n",
       "      <td>-0.019956</td>\n",
       "      <td>-0.013972</td>\n",
       "      <td>-0.123166</td>\n",
       "      <td>-0.212052</td>\n",
       "      <td>0.019981</td>\n",
       "      <td>0.160675</td>\n",
       "      <td>0.293382</td>\n",
       "      <td>0.233893</td>\n",
       "      <td>0.013979</td>\n",
       "      <td>-0.159791</td>\n",
       "      <td>-0.265500</td>\n",
       "      <td>-0.209930</td>\n",
       "      <td>-0.123049</td>\n",
       "      <td>-0.293687</td>\n",
       "      <td>-0.265048</td>\n",
       "      <td>0.146166</td>\n",
       "      <td>0.212022</td>\n",
       "      <td>0.234076</td>\n",
       "      <td>-0.210230</td>\n",
       "      <td>0.145875</td>\n",
       "    </tr>\n",
       "    <tr>\n",
       "      <th>$INHD$</th>\n",
       "      <td>-0.032802</td>\n",
       "      <td>0.018010</td>\n",
       "      <td>-0.022223</td>\n",
       "      <td>-0.090656</td>\n",
       "      <td>-0.032909</td>\n",
       "      <td>0.201226</td>\n",
       "      <td>0.073167</td>\n",
       "      <td>0.192667</td>\n",
       "      <td>-0.018023</td>\n",
       "      <td>0.202239</td>\n",
       "      <td>0.077043</td>\n",
       "      <td>0.146141</td>\n",
       "      <td>0.022169</td>\n",
       "      <td>-0.073164</td>\n",
       "      <td>-0.077391</td>\n",
       "      <td>-0.240267</td>\n",
       "      <td>-0.090423</td>\n",
       "      <td>0.192654</td>\n",
       "      <td>0.145978</td>\n",
       "      <td>0.240342</td>\n",
       "    </tr>\n",
       "    <tr>\n",
       "      <th>$PLR$</th>\n",
       "      <td>0.010224</td>\n",
       "      <td>0.010274</td>\n",
       "      <td>0.010910</td>\n",
       "      <td>-0.010690</td>\n",
       "      <td>0.010121</td>\n",
       "      <td>0.004023</td>\n",
       "      <td>-0.002413</td>\n",
       "      <td>0.001810</td>\n",
       "      <td>0.010030</td>\n",
       "      <td>0.003961</td>\n",
       "      <td>0.002170</td>\n",
       "      <td>0.001961</td>\n",
       "      <td>-0.010933</td>\n",
       "      <td>-0.002381</td>\n",
       "      <td>-0.002181</td>\n",
       "      <td>-0.002151</td>\n",
       "      <td>0.010932</td>\n",
       "      <td>0.001795</td>\n",
       "      <td>-0.001914</td>\n",
       "      <td>-0.002164</td>\n",
       "    </tr>\n",
       "    <tr>\n",
       "      <th>$P_{RX}$</th>\n",
       "      <td>-0.375582</td>\n",
       "      <td>-0.403282</td>\n",
       "      <td>-0.209257</td>\n",
       "      <td>0.044620</td>\n",
       "      <td>0.375899</td>\n",
       "      <td>0.114900</td>\n",
       "      <td>-0.412340</td>\n",
       "      <td>-0.197243</td>\n",
       "      <td>-0.403428</td>\n",
       "      <td>-0.114824</td>\n",
       "      <td>-0.426081</td>\n",
       "      <td>-0.225865</td>\n",
       "      <td>0.209260</td>\n",
       "      <td>-0.411918</td>\n",
       "      <td>0.426152</td>\n",
       "      <td>0.141112</td>\n",
       "      <td>0.044447</td>\n",
       "      <td>0.197366</td>\n",
       "      <td>0.225977</td>\n",
       "      <td>-0.141574</td>\n",
       "    </tr>\n",
       "    <tr>\n",
       "      <th>$P_{TX}$</th>\n",
       "      <td>-0.462091</td>\n",
       "      <td>-0.469263</td>\n",
       "      <td>-0.528959</td>\n",
       "      <td>-0.345701</td>\n",
       "      <td>-0.461830</td>\n",
       "      <td>-0.003945</td>\n",
       "      <td>0.002387</td>\n",
       "      <td>0.001829</td>\n",
       "      <td>-0.469355</td>\n",
       "      <td>-0.003983</td>\n",
       "      <td>0.002171</td>\n",
       "      <td>-0.001956</td>\n",
       "      <td>0.529027</td>\n",
       "      <td>-0.002358</td>\n",
       "      <td>0.002178</td>\n",
       "      <td>0.002176</td>\n",
       "      <td>0.345662</td>\n",
       "      <td>0.001791</td>\n",
       "      <td>0.001945</td>\n",
       "      <td>0.002180</td>\n",
       "    </tr>\n",
       "    <tr>\n",
       "      <th>$Speed$</th>\n",
       "      <td>0.026955</td>\n",
       "      <td>0.018448</td>\n",
       "      <td>0.025188</td>\n",
       "      <td>0.252233</td>\n",
       "      <td>-0.026945</td>\n",
       "      <td>0.118238</td>\n",
       "      <td>0.112927</td>\n",
       "      <td>0.328538</td>\n",
       "      <td>0.018508</td>\n",
       "      <td>-0.118680</td>\n",
       "      <td>-0.112843</td>\n",
       "      <td>-0.373331</td>\n",
       "      <td>-0.025187</td>\n",
       "      <td>0.113024</td>\n",
       "      <td>0.112725</td>\n",
       "      <td>0.391193</td>\n",
       "      <td>-0.252572</td>\n",
       "      <td>0.328301</td>\n",
       "      <td>0.373015</td>\n",
       "      <td>0.391048</td>\n",
       "    </tr>\n",
       "    <tr>\n",
       "      <th>$T^P_{RX}$</th>\n",
       "      <td>-0.025762</td>\n",
       "      <td>0.013789</td>\n",
       "      <td>-0.030117</td>\n",
       "      <td>0.017043</td>\n",
       "      <td>0.025834</td>\n",
       "      <td>0.137678</td>\n",
       "      <td>-0.040210</td>\n",
       "      <td>-0.010451</td>\n",
       "      <td>-0.013769</td>\n",
       "      <td>0.137686</td>\n",
       "      <td>-0.043293</td>\n",
       "      <td>0.010271</td>\n",
       "      <td>-0.030102</td>\n",
       "      <td>-0.040159</td>\n",
       "      <td>0.043308</td>\n",
       "      <td>0.028008</td>\n",
       "      <td>0.016943</td>\n",
       "      <td>-0.010478</td>\n",
       "      <td>0.010305</td>\n",
       "      <td>-0.028018</td>\n",
       "    </tr>\n",
       "    <tr>\n",
       "      <th>$T^P_{TX}$</th>\n",
       "      <td>-0.014965</td>\n",
       "      <td>-0.014094</td>\n",
       "      <td>-0.024120</td>\n",
       "      <td>0.011638</td>\n",
       "      <td>0.014963</td>\n",
       "      <td>0.110572</td>\n",
       "      <td>0.026855</td>\n",
       "      <td>-0.009073</td>\n",
       "      <td>-0.014136</td>\n",
       "      <td>0.110173</td>\n",
       "      <td>0.037945</td>\n",
       "      <td>0.008886</td>\n",
       "      <td>0.024177</td>\n",
       "      <td>0.026863</td>\n",
       "      <td>-0.037917</td>\n",
       "      <td>0.024625</td>\n",
       "      <td>0.011624</td>\n",
       "      <td>0.009048</td>\n",
       "      <td>0.008908</td>\n",
       "      <td>0.024491</td>\n",
       "    </tr>\n",
       "  </tbody>\n",
       "</table>\n",
       "</div>"
      ],
      "text/plain": [
       "base             MPC                                     STS            \\\n",
       "comp             STS      Fair    Shadow SlowCoach       MPC      Fair   \n",
       "$Delay$    -0.031665  0.038869 -0.026059  0.015367 -0.031517 -0.148742   \n",
       "$INDD$     -0.019956 -0.013972 -0.123166 -0.212052  0.019981  0.160675   \n",
       "$INHD$     -0.032802  0.018010 -0.022223 -0.090656 -0.032909  0.201226   \n",
       "$PLR$       0.010224  0.010274  0.010910 -0.010690  0.010121  0.004023   \n",
       "$P_{RX}$   -0.375582 -0.403282 -0.209257  0.044620  0.375899  0.114900   \n",
       "$P_{TX}$   -0.462091 -0.469263 -0.528959 -0.345701 -0.461830 -0.003945   \n",
       "$Speed$     0.026955  0.018448  0.025188  0.252233 -0.026945  0.118238   \n",
       "$T^P_{RX}$ -0.025762  0.013789 -0.030117  0.017043  0.025834  0.137678   \n",
       "$T^P_{TX}$ -0.014965 -0.014094 -0.024120  0.011638  0.014963  0.110572   \n",
       "\n",
       "base                                Fair                                \\\n",
       "comp          Shadow SlowCoach       MPC       STS    Shadow SlowCoach   \n",
       "$Delay$    -0.036319 -0.024497 -0.038773  0.148663  0.032953  0.021658   \n",
       "$INDD$      0.293382  0.233893  0.013979 -0.159791 -0.265500 -0.209930   \n",
       "$INHD$      0.073167  0.192667 -0.018023  0.202239  0.077043  0.146141   \n",
       "$PLR$      -0.002413  0.001810  0.010030  0.003961  0.002170  0.001961   \n",
       "$P_{RX}$   -0.412340 -0.197243 -0.403428 -0.114824 -0.426081 -0.225865   \n",
       "$P_{TX}$    0.002387  0.001829 -0.469355 -0.003983  0.002171 -0.001956   \n",
       "$Speed$     0.112927  0.328538  0.018508 -0.118680 -0.112843 -0.373331   \n",
       "$T^P_{RX}$ -0.040210 -0.010451 -0.013769  0.137686 -0.043293  0.010271   \n",
       "$T^P_{TX}$  0.026855 -0.009073 -0.014136  0.110173  0.037945  0.008886   \n",
       "\n",
       "base          Shadow                               SlowCoach            \\\n",
       "comp             MPC       STS      Fair SlowCoach       MPC       STS   \n",
       "$Delay$    -0.026094  0.036444 -0.033100 -0.024302 -0.015376 -0.024489   \n",
       "$INDD$     -0.123049 -0.293687 -0.265048  0.146166  0.212022  0.234076   \n",
       "$INHD$      0.022169 -0.073164 -0.077391 -0.240267 -0.090423  0.192654   \n",
       "$PLR$      -0.010933 -0.002381 -0.002181 -0.002151  0.010932  0.001795   \n",
       "$P_{RX}$    0.209260 -0.411918  0.426152  0.141112  0.044447  0.197366   \n",
       "$P_{TX}$    0.529027 -0.002358  0.002178  0.002176  0.345662  0.001791   \n",
       "$Speed$    -0.025187  0.113024  0.112725  0.391193 -0.252572  0.328301   \n",
       "$T^P_{RX}$ -0.030102 -0.040159  0.043308  0.028008  0.016943 -0.010478   \n",
       "$T^P_{TX}$  0.024177  0.026863 -0.037917  0.024625  0.011624  0.009048   \n",
       "\n",
       "base                            \n",
       "comp            Fair    Shadow  \n",
       "$Delay$     0.021727 -0.024306  \n",
       "$INDD$     -0.210230  0.145875  \n",
       "$INHD$      0.145978  0.240342  \n",
       "$PLR$      -0.001914 -0.002164  \n",
       "$P_{RX}$    0.225977 -0.141574  \n",
       "$P_{TX}$    0.001945  0.002180  \n",
       "$Speed$     0.373015  0.391048  \n",
       "$T^P_{RX}$  0.010305 -0.028018  \n",
       "$T^P_{TX}$  0.008908  0.024491  "
      ]
     },
     "execution_count": 5,
     "metadata": {},
     "output_type": "execute_result"
    }
   ],
   "source": [
    "signed_feat_weights"
   ]
  },
  {
   "cell_type": "code",
   "execution_count": null,
   "metadata": {
    "collapsed": false
   },
   "outputs": [],
   "source": [
    "weighted_trust_perspectives = {}\n",
    "for k,w in feat_weights.to_dict().items():\n",
    "    if key[0]!='Fair':\n",
    "        continue\n",
    "    weighted_trust_perspectives[k] = Trust.generate_node_trust_perspective(trust_observations,\n",
    "                                                                    metric_weights=pd.Series(w),\n",
    "                                                                    par=par)\n",
    "for key,trust in weighted_trust_perspectives.items():\n",
    "    map_level(weighted_trust_perspectives[key],var_rename_dict)"
   ]
  },
  {
   "cell_type": "code",
   "execution_count": null,
   "metadata": {
    "collapsed": false
   },
   "outputs": [],
   "source": [
    "ewma = lambda f: pd.stats.moments.ewma(f,span=4)\n",
    "\n",
    "ewma(unweighted_trust_perspectives.unstack('var')['Alfa'].xs('Bravo', level='observer')).boxplot()\n",
    "plt.title(\"Unweighted\")\n",
    "plt.show()\n",
    "for key,trust in weighted_trust_perspectives.items():\n",
    "    if key[0]!='Fair':\n",
    "        continue\n",
    "    ax = ewma(trust.unstack('var')['Alfa'].xs('Bravo', level='observer')).boxplot(return_type='axes')\n",
    "    title=\"Weighted {}\".format('-'.join(key))\n",
    "    ax.set_title(title)\n",
    "    plt.show()\n"
   ]
  },
  {
   "cell_type": "code",
   "execution_count": null,
   "metadata": {
    "collapsed": false
   },
   "outputs": [],
   "source": [
    "with pd.get_store(results_path + \"/outliers.bkup.h5\") as store:       \n",
    "    mdts = store.get('meandeltaCombinedTrust_2')\n",
    "metrics = np.split(mdts.keys(),[4])[1]\n",
    "\n",
    "from IPython.display import display\n",
    "tops = {}\n",
    "for k,v in mdts.groupby(['var']):\n",
    "    tops[k]=v.sort(0, ascending=False)[metrics].head(1).values[0].astype(np.float64)\n",
    "\n",
    "opti = pd.DataFrame.from_dict(tops, orient='index')\n",
    "opti.columns = metrics\n",
    "opti\n",
    "\n",
    "reload(Trust)\n",
    "signed_weighted_trust_perspectives = {}\n",
    "for k,w in tops.items():\n",
    "    print k\n",
    "    signed_weighted_trust_perspectives[var_rename_dict.get(k)] = Trust.generate_node_trust_perspective(trust_observations,\n",
    "                                                                    metric_weights=pd.Series(w),\n",
    "                                                                    par=par)\n",
    "for key,trust in signed_weighted_trust_perspectives.items():\n",
    "    map_level(signed_weighted_trust_perspectives[key],var_rename_dict)"
   ]
  },
  {
   "cell_type": "code",
   "execution_count": null,
   "metadata": {
    "collapsed": true
   },
   "outputs": [],
   "source": [
    "reload(Trust)\n",
    "signed_weighted_trust_perspectives = {}\n",
    "for k,w in signed_feat_weights.rename(inv_map(metric_rename_dict)).to_dict().items():\n",
    "    if k[0]!='Fair':\n",
    "        continue\n",
    "    signed_weighted_trust_perspectives[k] = Trust.generate_node_trust_perspective(trust_observations,\n",
    "                                                                    metric_weights=pd.Series(w),\n",
    "                                                                    par=par)\n",
    "for key,trust in signed_weighted_trust_perspectives.items():\n",
    "    map_level(signed_weighted_trust_perspectives[key],var_rename_dict)\n",
    "    \n",
    "bad_result = signed_weighted_trust_perspectives[('Fair','SlowCoach')].xs(0, level='run').xs('SlowCoach', level='var')\n",
    "\n",
    "good_result = pd.stats.moments.ewma(signed_weighted_trust_perspectives[('Fair','MPC')].xs(0, level='run').xs('MPC', level='var'),\n",
    "                      span=4)"
   ]
  },
  {
   "cell_type": "code",
   "execution_count": null,
   "metadata": {
    "collapsed": false
   },
   "outputs": [],
   "source": [
    "%timeit assess_result(signed_weighted_trust_perspectives[('Fair','MPC')])[0]"
   ]
  },
  {
   "cell_type": "code",
   "execution_count": null,
   "metadata": {
    "collapsed": false
   },
   "outputs": [],
   "source": [
    "%timeit np.subtract(*map(np.nanmean,np.split(signed_weighted_trust_perspectives[('Fair','MPC')].values, [1], axis=1)))"
   ]
  },
  {
   "cell_type": "code",
   "execution_count": null,
   "metadata": {
    "collapsed": false
   },
   "outputs": [],
   "source": [
    "feat_weights"
   ]
  },
  {
   "cell_type": "code",
   "execution_count": null,
   "metadata": {
    "collapsed": false,
    "scrolled": false
   },
   "outputs": [],
   "source": [
    "                  \n",
    "#results = assess_dt_results(signed_weighted_trust_perspectives)\n",
    "results = assess_results(signed_weighted_trust_perspectives)\n",
    "\n",
    "results"
   ]
  },
  {
   "cell_type": "code",
   "execution_count": null,
   "metadata": {
    "collapsed": false
   },
   "outputs": [],
   "source": [
    "pd.DataFrame(results, index=['mean','std'])"
   ]
  },
  {
   "cell_type": "code",
   "execution_count": null,
   "metadata": {
    "collapsed": true
   },
   "outputs": [],
   "source": [
    "inv_signed_weighted_trust_perspectives = {}\n",
    "for k,w in signed_feat_weights.items():\n",
    "    inv_signed_weighted_trust_perspectives[k] = Trust.generate_node_trust_perspective(trust_observations,\n",
    "                                                                    metric_weights=-pd.Series(w),\n",
    "                                                                    par=par)\n",
    "for key,trust in inv_signed_weighted_trust_perspectives.items():\n",
    "    map_level(inv_signed_weighted_trust_perspectives[key],var_rename_dict)"
   ]
  },
  {
   "cell_type": "code",
   "execution_count": null,
   "metadata": {
    "collapsed": false
   },
   "outputs": [],
   "source": [
    "#signed_weighted_trust_perspectives[(u'Fair', u'MPC')]"
   ]
  },
  {
   "cell_type": "code",
   "execution_count": null,
   "metadata": {
    "collapsed": false
   },
   "outputs": [],
   "source": [
    "signed_feat_weights.rename(inv_map(metric_rename_dict)).T.describe()"
   ]
  },
  {
   "cell_type": "code",
   "execution_count": null,
   "metadata": {
    "collapsed": false
   },
   "outputs": [],
   "source": [
    "ewma(unweighted_trust_perspectives.unstack('var')['Alfa'].xs('Bravo', level='observer')).boxplot()\n",
    "plt.title(\"Unweighted\")\n",
    "plt.show()\n",
    "for key,trust in signed_weighted_trust_perspectives.items():\n",
    "    if key[1]!='Fair':\n",
    "        continue\n",
    "    ax = ewma(trust.unstack('var')['Alfa'].xs('Bravo', level='observer')).boxplot(return_type='axes')\n",
    "    title=\"Weighted {}\".format('-'.join(key))\n",
    "    ax.set_title(title)\n",
    "    plt.show()"
   ]
  },
  {
   "cell_type": "code",
   "execution_count": null,
   "metadata": {
    "collapsed": false
   },
   "outputs": [],
   "source": [
    "#pd.DataFrame.from_records((signed_feat_weights[(u'Fair', u'MPC')],signed_feat_weights[(u'Fair', u'Shadow')])).plot(kind='bar')"
   ]
  },
  {
   "cell_type": "code",
   "execution_count": null,
   "metadata": {
    "collapsed": false
   },
   "outputs": [],
   "source": [
    "tf = trust_observations.xs('Alfa',level='target')\n",
    "tf.columns.name='metrics'\n",
    "tf.stack().swaplevel('var','metrics').unstack('var').groupby(level='metrics').boxplot()"
   ]
  },
  {
   "cell_type": "code",
   "execution_count": null,
   "metadata": {
    "collapsed": false
   },
   "outputs": [],
   "source": [
    "from itertools import islice\n",
    "\n",
    "def split_every(n, iterable):\n",
    "    i = iter(iterable)\n",
    "    piece = list(islice(i, n))\n",
    "    while piece:\n",
    "        yield piece\n",
    "        piece = list(islice(i, n))\n",
    "\n",
    "fig, axes = plt.subplots(3, 3, sharey=False, sharex=True)\n",
    "\n",
    "for i,row in enumerate(split_every(3, tf.stack().swaplevel('var','metrics').unstack('var').groupby(level='metrics'))):\n",
    "    for j,(k,grp) in enumerate(row):\n",
    "        grp.boxplot(ax=axes[i][j])\n",
    "        axes[i][j].set_title(k)"
   ]
  },
  {
   "cell_type": "code",
   "execution_count": null,
   "metadata": {
    "collapsed": false
   },
   "outputs": [],
   "source": [
    "_=unweighted_trust_perspectives.unstack('var')['Alfa'].xs('Bravo', level='observer').boxplot()\n",
    "plt.title(\"Unweighted\")\n",
    "plt.show()\n",
    "for key,trust in inv_signed_weighted_trust_perspectives.items():\n",
    "    if key[0]!='Fair':\n",
    "        continue\n",
    "    ax = trust.unstack('var')['Alfa'].xs('Bravo', level='observer').boxplot(return_type='axes')\n",
    "    title=\"Inverted Weighted {}\".format('-'.join(key))\n",
    "    ax.set_title(title)\n",
    "    plt.show()\n",
    "    ax.get_figure().savefig(os.path.join(fig_basedir,\"{}.png\".format(title.replace(' ',''))))"
   ]
  },
  {
   "cell_type": "code",
   "execution_count": null,
   "metadata": {
    "collapsed": false
   },
   "outputs": [],
   "source": [
    "pd.DataFrame.from_dict(feat_weights).T.xs(\"Fair\",0).plot(kind='bar')"
   ]
  },
  {
   "cell_type": "code",
   "execution_count": null,
   "metadata": {
    "collapsed": false
   },
   "outputs": [],
   "source": [
    "pd.DataFrame.from_dict(signed_feat_weights).T.xs(\"Fair\",0).plot(kind='bar')"
   ]
  },
  {
   "cell_type": "code",
   "execution_count": null,
   "metadata": {
    "collapsed": false
   },
   "outputs": [],
   "source": [
    "(-pd.DataFrame.from_dict(signed_feat_weights)).T.xs(\"Fair\",0).plot(kind='bar')"
   ]
  },
  {
   "cell_type": "code",
   "execution_count": null,
   "metadata": {
    "collapsed": false
   },
   "outputs": [],
   "source": []
  }
 ],
 "metadata": {
  "kernelspec": {
   "display_name": "Python 2",
   "language": "python",
   "name": "python2"
  },
  "language_info": {
   "codemirror_mode": {
    "name": "ipython",
    "version": 2
   },
   "file_extension": ".py",
   "mimetype": "text/x-python",
   "name": "python",
   "nbconvert_exporter": "python",
   "pygments_lexer": "ipython2",
   "version": "2.7.9"
  }
 },
 "nbformat": 4,
 "nbformat_minor": 0
}
