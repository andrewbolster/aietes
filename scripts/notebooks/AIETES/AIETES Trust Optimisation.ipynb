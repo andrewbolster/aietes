{
 "metadata": {
  "name": "",
  "signature": "sha256:4300205a3877210249368518ee0ad9b5085005bb9b938d1af2812dc0c80ce74b"
 },
 "nbformat": 3,
 "nbformat_minor": 0,
 "worksheets": [
  {
   "cells": [
    {
     "cell_type": "code",
     "collapsed": false,
     "input": [
      "from __future__ import division\n",
      "import os\n",
      "import pandas as pd\n",
      "import numpy as np\n",
      "import seaborn as sns\n",
      "import quantities as q\n",
      "from collections import OrderedDict\n",
      "from joblib import Parallel, delayed\n",
      "from scipy.spatial.distance import pdist, squareform\n",
      "import itertools\n",
      "from functools import partial\n",
      "import aietes\n",
      "import aietes.Tools as Tools\n",
      "from aietes.Tools import map_levels\n",
      "import bounos.ChartBuilders as cb\n",
      "import bounos.Analyses.Trust as Trust\n",
      "import bounos.multi_loader as multi_loader\n",
      "\n",
      "_ = np.seterr(invalid='ignore') # Pandas PITA Nan printing\n",
      "in_results = partial(os.path.join,Tools._results_dir)\n",
      "trust_file  = in_results(\"TrustMedianTests-0.025-3-2015-02-19-23-29-39.h5\")\n",
      "with pd.get_store(trust_file) as s:\n",
      "    trust_raw = s.get('trust')\n",
      "\n"
     ],
     "language": "python",
     "metadata": {},
     "outputs": [
      {
       "output_type": "stream",
       "stream": "stdout",
       "text": [
        "Warning: IOStream has no fileno.\n"
       ]
      }
     ],
     "prompt_number": 1
    },
    {
     "cell_type": "code",
     "collapsed": false,
     "input": [
      "reload(Trust)\n",
      "trust_all_0_n0=trust_raw.xs('bella_all_mobile',level='var').xs(0,level='run').xs('n0',level='observer')"
     ],
     "language": "python",
     "metadata": {},
     "outputs": [
      {
       "ename": "NameError",
       "evalue": "name 'Trust' is not defined",
       "output_type": "pyerr",
       "traceback": [
        "\u001b[0;31m---------------------------------------------------------------------------\u001b[0m\n\u001b[0;31mNameError\u001b[0m                                 Traceback (most recent call last)",
        "\u001b[0;32m<ipython-input-1-e7ccc70bf13d>\u001b[0m in \u001b[0;36m<module>\u001b[0;34m()\u001b[0m\n\u001b[0;32m----> 1\u001b[0;31m \u001b[0mreload\u001b[0m\u001b[0;34m(\u001b[0m\u001b[0mTrust\u001b[0m\u001b[0;34m)\u001b[0m\u001b[0;34m\u001b[0m\u001b[0m\n\u001b[0m\u001b[1;32m      2\u001b[0m \u001b[0mtrust_all_0_n0\u001b[0m\u001b[0;34m=\u001b[0m\u001b[0mtrust_raw\u001b[0m\u001b[0;34m.\u001b[0m\u001b[0mxs\u001b[0m\u001b[0;34m(\u001b[0m\u001b[0;34m'bella_all_mobile'\u001b[0m\u001b[0;34m,\u001b[0m\u001b[0mlevel\u001b[0m\u001b[0;34m=\u001b[0m\u001b[0;34m'var'\u001b[0m\u001b[0;34m)\u001b[0m\u001b[0;34m.\u001b[0m\u001b[0mxs\u001b[0m\u001b[0;34m(\u001b[0m\u001b[0;36m0\u001b[0m\u001b[0;34m,\u001b[0m\u001b[0mlevel\u001b[0m\u001b[0;34m=\u001b[0m\u001b[0;34m'run'\u001b[0m\u001b[0;34m)\u001b[0m\u001b[0;34m.\u001b[0m\u001b[0mxs\u001b[0m\u001b[0;34m(\u001b[0m\u001b[0;34m'n0'\u001b[0m\u001b[0;34m,\u001b[0m\u001b[0mlevel\u001b[0m\u001b[0;34m=\u001b[0m\u001b[0;34m'observer'\u001b[0m\u001b[0;34m)\u001b[0m\u001b[0;34m\u001b[0m\u001b[0m\n",
        "\u001b[0;31mNameError\u001b[0m: name 'Trust' is not defined"
       ]
      }
     ],
     "prompt_number": 1
    },
    {
     "cell_type": "code",
     "collapsed": false,
     "input": [
      "%%prun -s cumulative\n",
      "Trust.generate_single_observer_trust_perspective(trust_all_0_n0)"
     ],
     "language": "python",
     "metadata": {},
     "outputs": [
      {
       "output_type": "stream",
       "stream": "stdout",
       "text": [
        " "
       ]
      }
     ],
     "prompt_number": 18
    },
    {
     "cell_type": "code",
     "collapsed": false,
     "input": [
      "%%prun -s cumulative\n",
      "Trust.generate_node_trust_perspective(trust_raw)"
     ],
     "language": "python",
     "metadata": {},
     "outputs": [
      {
       "output_type": "stream",
       "stream": "stderr",
       "text": [
        "/usr/local/lib/python2.7/dist-packages/numpy/lib/nanfunctions.py:220: RuntimeWarning: All-NaN axis encountered\n",
        "  warnings.warn(\"All-NaN axis encountered\", RuntimeWarning)\n",
        "/usr/local/lib/python2.7/dist-packages/numpy/lib/nanfunctions.py:220: RuntimeWarning: All-NaN axis encountered\n",
        "  warnings.warn(\"All-NaN axis encountered\", RuntimeWarning)\n",
        "/usr/local/lib/python2.7/dist-packages/numpy/lib/nanfunctions.py:319: RuntimeWarning: All-NaN slice encountered\n",
        "  warnings.warn(\"All-NaN slice encountered\", RuntimeWarning)\n",
        "/usr/local/lib/python2.7/dist-packages/numpy/lib/nanfunctions.py:319: RuntimeWarning: All-NaN slice encountered\n",
        "  warnings.warn(\"All-NaN slice encountered\", RuntimeWarning)\n",
        "/usr/local/lib/python2.7/dist-packages/numpy/core/_methods.py:59: RuntimeWarning: Mean of empty slice.\n",
        "  warnings.warn(\"Mean of empty slice.\", RuntimeWarning)\n",
        "/usr/local/lib/python2.7/dist-packages/numpy/core/_methods.py:59: RuntimeWarning: Mean of empty slice.\n",
        "  warnings.warn(\"Mean of empty slice.\", RuntimeWarning)\n"
       ]
      },
      {
       "ename": "JoblibValueError",
       "evalue": "JoblibValueError\n___________________________________________________________________________\nMultiprocessing exception:\n    ...........................................................................\n/mnt/anlds/home/<string> in <module>()\n----> 1 \n      2 \n      3 \n      4 \n      5 \n      6 \n      7 \n      8 \n      9 \n     10 \n\n...........................................................................\n/usr/lib/python2.7/dist-packages/IPython/kernel/zmq/kernelapp.py in main()\n    464 \n    465 def main():\n    466     \"\"\"Run an IPKernel as an application\"\"\"\n    467     app = IPKernelApp.instance()\n    468     app.initialize()\n--> 469     app.start()\n        app.start = <bound method IPKernelApp.start of <IPython.kernel.zmq.kernelapp.IPKernelApp object>>\n    470 \n    471 \n    472 if __name__ == '__main__':\n    473     main()\n\n...........................................................................\n/usr/lib/python2.7/dist-packages/IPython/kernel/zmq/kernelapp.py in start(self=<IPython.kernel.zmq.kernelapp.IPKernelApp object>)\n    454     def start(self):\n    455         if self.poller is not None:\n    456             self.poller.start()\n    457         self.kernel.start()\n    458         try:\n--> 459             ioloop.IOLoop.instance().start()\n    460         except KeyboardInterrupt:\n    461             pass\n    462 \n    463 launch_new_instance = IPKernelApp.launch_instance\n\n...........................................................................\n/usr/lib/python2.7/dist-packages/zmq/eventloop/ioloop.py in start(self=<zmq.eventloop.ioloop.ZMQIOLoop object>)\n    146             PollIOLoop.configure(ZMQIOLoop)\n    147         return PollIOLoop.instance()\n    148     \n    149     def start(self):\n    150         try:\n--> 151             super(ZMQIOLoop, self).start()\n        self.start = <bound method ZMQIOLoop.start of <zmq.eventloop.ioloop.ZMQIOLoop object>>\n    152         except ZMQError as e:\n    153             if e.errno == ETERM:\n    154                 # quietly return on ETERM\n    155                 pass\n\n...........................................................................\n/usr/lib/python2.7/dist-packages/tornado/ioloop.py in start(self=<zmq.eventloop.ioloop.ZMQIOLoop object>)\n    683                 # this IOLoop that update self._events\n    684                 self._events.update(event_pairs)\n    685                 while self._events:\n    686                     fd, events = self._events.popitem()\n    687                     try:\n--> 688                         self._handlers[fd](fd, events)\n        self._handlers = {49: <function wrapped>, <zmq.sugar.socket.Socket object>: <function wrapped>, <zmq.sugar.socket.Socket object>: <function wrapped>}\n        fd = <zmq.sugar.socket.Socket object>\n        events = 1\n    689                     except (OSError, IOError) as e:\n    690                         if e.args[0] == errno.EPIPE:\n    691                             # Happens when the client closes the connection\n    692                             pass\n\n...........................................................................\n/usr/lib/python2.7/dist-packages/tornado/stack_context.py in wrapped(*args=(<zmq.sugar.socket.Socket object>, 1), **kwargs={})\n    297                     top = n.old_contexts[1]\n    298 \n    299             # Execute callback if no exception happened while restoring state\n    300             if top is None:\n    301                 try:\n--> 302                     ret = fn(*args, **kwargs)\n        ret = None\n        args = (<zmq.sugar.socket.Socket object>, 1)\n        kwargs = {}\n    303                 except:\n    304                     exc = sys.exc_info()\n    305                     top = contexts[1]\n    306 \n\n...........................................................................\n/usr/lib/python2.7/dist-packages/zmq/eventloop/zmqstream.py in _handle_events(self=<zmq.eventloop.zmqstream.ZMQStream object>, fd=<zmq.sugar.socket.Socket object>, events=1)\n    428             # dispatch events:\n    429             if events & IOLoop.ERROR:\n    430                 gen_log.error(\"got POLLERR event on ZMQStream, which doesn't make sense\")\n    431                 return\n    432             if events & IOLoop.READ:\n--> 433                 self._handle_recv()\n        self._handle_recv = <bound method ZMQStream._handle_recv of <zmq.eventloop.zmqstream.ZMQStream object>>\n    434                 if not self.socket:\n    435                     return\n    436             if events & IOLoop.WRITE:\n    437                 self._handle_send()\n\n...........................................................................\n/usr/lib/python2.7/dist-packages/zmq/eventloop/zmqstream.py in _handle_recv(self=<zmq.eventloop.zmqstream.ZMQStream object>)\n    460                 gen_log.error(\"RECV Error: %s\"%zmq.strerror(e.errno))\n    461         else:\n    462             if self._recv_callback:\n    463                 callback = self._recv_callback\n    464                 # self._recv_callback = None\n--> 465                 self._run_callback(callback, msg)\n        self._run_callback = <bound method ZMQStream._run_callback of <zmq.eventloop.zmqstream.ZMQStream object>>\n        callback = <function wrapped>\n        msg = [<zmq.backend.cython.message.Frame object>, <zmq.backend.cython.message.Frame object>, <zmq.backend.cython.message.Frame object>, <zmq.backend.cython.message.Frame object>, <zmq.backend.cython.message.Frame object>, <zmq.backend.cython.message.Frame object>, <zmq.backend.cython.message.Frame object>]\n    466                 \n    467         # self.update_state()\n    468         \n    469 \n\n...........................................................................\n/usr/lib/python2.7/dist-packages/zmq/eventloop/zmqstream.py in _run_callback(self=<zmq.eventloop.zmqstream.ZMQStream object>, callback=<function wrapped>, *args=([<zmq.backend.cython.message.Frame object>, <zmq.backend.cython.message.Frame object>, <zmq.backend.cython.message.Frame object>, <zmq.backend.cython.message.Frame object>, <zmq.backend.cython.message.Frame object>, <zmq.backend.cython.message.Frame object>, <zmq.backend.cython.message.Frame object>],), **kwargs={})\n    402         close our socket.\"\"\"\n    403         try:\n    404             # Use a NullContext to ensure that all StackContexts are run\n    405             # inside our blanket exception handler rather than outside.\n    406             with stack_context.NullContext():\n--> 407                 callback(*args, **kwargs)\n        callback = <function wrapped>\n        args = ([<zmq.backend.cython.message.Frame object>, <zmq.backend.cython.message.Frame object>, <zmq.backend.cython.message.Frame object>, <zmq.backend.cython.message.Frame object>, <zmq.backend.cython.message.Frame object>, <zmq.backend.cython.message.Frame object>, <zmq.backend.cython.message.Frame object>],)\n        kwargs = {}\n    408         except:\n    409             gen_log.error(\"Uncaught exception, closing connection.\",\n    410                           exc_info=True)\n    411             # Close the socket on an uncaught exception from a user callback\n\n...........................................................................\n/usr/lib/python2.7/dist-packages/tornado/stack_context.py in wrapped(*args=([<zmq.backend.cython.message.Frame object>, <zmq.backend.cython.message.Frame object>, <zmq.backend.cython.message.Frame object>, <zmq.backend.cython.message.Frame object>, <zmq.backend.cython.message.Frame object>, <zmq.backend.cython.message.Frame object>, <zmq.backend.cython.message.Frame object>],), **kwargs={})\n    297                     top = n.old_contexts[1]\n    298 \n    299             # Execute callback if no exception happened while restoring state\n    300             if top is None:\n    301                 try:\n--> 302                     ret = fn(*args, **kwargs)\n        ret = None\n        args = ([<zmq.backend.cython.message.Frame object>, <zmq.backend.cython.message.Frame object>, <zmq.backend.cython.message.Frame object>, <zmq.backend.cython.message.Frame object>, <zmq.backend.cython.message.Frame object>, <zmq.backend.cython.message.Frame object>, <zmq.backend.cython.message.Frame object>],)\n        kwargs = {}\n    303                 except:\n    304                     exc = sys.exc_info()\n    305                     top = contexts[1]\n    306 \n\n...........................................................................\n/usr/lib/python2.7/dist-packages/IPython/kernel/zmq/ipkernel.py in dispatcher(msg=[<zmq.backend.cython.message.Frame object>, <zmq.backend.cython.message.Frame object>, <zmq.backend.cython.message.Frame object>, <zmq.backend.cython.message.Frame object>, <zmq.backend.cython.message.Frame object>, <zmq.backend.cython.message.Frame object>, <zmq.backend.cython.message.Frame object>])\n    276         if self.control_stream:\n    277             self.control_stream.on_recv(self.dispatch_control, copy=False)\n    278 \n    279         def make_dispatcher(stream):\n    280             def dispatcher(msg):\n--> 281                 return self.dispatch_shell(stream, msg)\n        msg = [<zmq.backend.cython.message.Frame object>, <zmq.backend.cython.message.Frame object>, <zmq.backend.cython.message.Frame object>, <zmq.backend.cython.message.Frame object>, <zmq.backend.cython.message.Frame object>, <zmq.backend.cython.message.Frame object>, <zmq.backend.cython.message.Frame object>]\n    282             return dispatcher\n    283 \n    284         for s in self.shell_streams:\n    285             s.on_recv(make_dispatcher(s), copy=False)\n\n...........................................................................\n/usr/lib/python2.7/dist-packages/IPython/kernel/zmq/ipkernel.py in dispatch_shell(self=<IPython.kernel.zmq.ipkernel.Kernel object>, stream=<zmq.eventloop.zmqstream.ZMQStream object>, msg={'buffers': [], 'content': {'allow_stdin': True, 'code': '%%prun -s cumulative\\nTrust.generate_node_trust_perspective(trust_raw)', 'silent': False, 'store_history': True, 'user_expressions': {}, 'user_variables': []}, 'header': {'msg_id': '22CB954A4A7F4F488A4759EF56AB6BDB', 'msg_type': 'execute_request', 'session': 'B21CCB1D101444F88AD5A63B5B2A2384', 'username': 'username'}, 'metadata': {}, 'msg_id': '22CB954A4A7F4F488A4759EF56AB6BDB', 'msg_type': 'execute_request', 'parent_header': {}})\n    240             self.log.error(\"UNKNOWN MESSAGE TYPE: %r\", msg_type)\n    241         else:\n    242             # ensure default_int_handler during handler call\n    243             sig = signal(SIGINT, default_int_handler)\n    244             try:\n--> 245                 handler(stream, idents, msg)\n        handler = <bound method Kernel.execute_request of <IPython.kernel.zmq.ipkernel.Kernel object>>\n        stream = <zmq.eventloop.zmqstream.ZMQStream object>\n        idents = ['B21CCB1D101444F88AD5A63B5B2A2384']\n        msg = {'buffers': [], 'content': {'allow_stdin': True, 'code': '%%prun -s cumulative\\nTrust.generate_node_trust_perspective(trust_raw)', 'silent': False, 'store_history': True, 'user_expressions': {}, 'user_variables': []}, 'header': {'msg_id': '22CB954A4A7F4F488A4759EF56AB6BDB', 'msg_type': 'execute_request', 'session': 'B21CCB1D101444F88AD5A63B5B2A2384', 'username': 'username'}, 'metadata': {}, 'msg_id': '22CB954A4A7F4F488A4759EF56AB6BDB', 'msg_type': 'execute_request', 'parent_header': {}}\n    246             except Exception:\n    247                 self.log.error(\"Exception in message handler:\", exc_info=True)\n    248             finally:\n    249                 signal(SIGINT, sig)\n\n...........................................................................\n/usr/lib/python2.7/dist-packages/IPython/kernel/zmq/ipkernel.py in execute_request(self=<IPython.kernel.zmq.ipkernel.Kernel object>, stream=<zmq.eventloop.zmqstream.ZMQStream object>, ident=['B21CCB1D101444F88AD5A63B5B2A2384'], parent={'buffers': [], 'content': {'allow_stdin': True, 'code': '%%prun -s cumulative\\nTrust.generate_node_trust_perspective(trust_raw)', 'silent': False, 'store_history': True, 'user_expressions': {}, 'user_variables': []}, 'header': {'msg_id': '22CB954A4A7F4F488A4759EF56AB6BDB', 'msg_type': 'execute_request', 'session': 'B21CCB1D101444F88AD5A63B5B2A2384', 'username': 'username'}, 'metadata': {}, 'msg_id': '22CB954A4A7F4F488A4759EF56AB6BDB', 'msg_type': 'execute_request', 'parent_header': {}})\n    384 \n    385         reply_content = {}\n    386         # FIXME: the shell calls the exception handler itself.\n    387         shell._reply_content = None\n    388         try:\n--> 389             shell.run_cell(code, store_history=store_history, silent=silent)\n        shell.run_cell = <bound method ZMQInteractiveShell.run_cell of <I....kernel.zmq.zmqshell.ZMQInteractiveShell object>>\n        code = u'%%prun -s cumulative\\nTrust.generate_node_trust_perspective(trust_raw)'\n        store_history = True\n        silent = False\n    390         except:\n    391             status = u'error'\n    392             # FIXME: this code right now isn't being used yet by default,\n    393             # because the run_cell() call above directly fires off exception\n\n...........................................................................\n/usr/lib/python2.7/dist-packages/IPython/core/interactiveshell.py in run_cell(self=<IPython.kernel.zmq.zmqshell.ZMQInteractiveShell object>, raw_cell=u'%%prun -s cumulative\\nTrust.generate_node_trust_perspective(trust_raw)', store_history=True, silent=False, shell_futures=True)\n   2736                 code_ast = self.transform_ast(code_ast)\n   2737 \n   2738                 # Execute the user code\n   2739                 interactivity = \"none\" if silent else self.ast_node_interactivity\n   2740                 self.run_ast_nodes(code_ast.body, cell_name,\n-> 2741                                    interactivity=interactivity, compiler=compiler)\n        interactivity = 'last_expr'\n        compiler = <IPython.core.compilerop.CachingCompiler instance>\n   2742                 \n   2743                 self.events.trigger('post_execute')\n   2744                 if not silent:\n   2745                     self.events.trigger('post_run_cell')\n\n...........................................................................\n/usr/lib/python2.7/dist-packages/IPython/core/interactiveshell.py in run_ast_nodes(self=<IPython.kernel.zmq.zmqshell.ZMQInteractiveShell object>, nodelist=[<_ast.Expr object>], cell_name='<ipython-input-19-97aeac312fe7>', interactivity='last', compiler=<IPython.core.compilerop.CachingCompiler instance>)\n   2828                     return True\n   2829 \n   2830             for i, node in enumerate(to_run_interactive):\n   2831                 mod = ast.Interactive([node])\n   2832                 code = compiler(mod, cell_name, \"single\")\n-> 2833                 if self.run_code(code):\n        self.run_code = <bound method ZMQInteractiveShell.run_code of <I....kernel.zmq.zmqshell.ZMQInteractiveShell object>>\n        code = <code object <module> at 0x7fdc0cf1aeb0, file \"<ipython-input-19-97aeac312fe7>\", line 1>\n   2834                     return True\n   2835 \n   2836             # Flush softspace\n   2837             if softspace(sys.stdout, 0):\n\n...........................................................................\n/usr/lib/python2.7/dist-packages/IPython/core/interactiveshell.py in run_code(self=<IPython.kernel.zmq.zmqshell.ZMQInteractiveShell object>, code_obj=<code object <module> at 0x7fdc0cf1aeb0, file \"<ipython-input-19-97aeac312fe7>\", line 1>)\n   2878         outflag = 1  # happens in more places, so it's easier as default\n   2879         try:\n   2880             try:\n   2881                 self.hooks.pre_run_code_hook()\n   2882                 #rprint('Running code', repr(code_obj)) # dbg\n-> 2883                 exec(code_obj, self.user_global_ns, self.user_ns)\n        code_obj = <code object <module> at 0x7fdc0cf1aeb0, file \"<ipython-input-19-97aeac312fe7>\", line 1>\n        self.user_global_ns = {'ALLOW_THREADS': 1, 'Annotation': <class 'matplotlib.text.Annotation'>, 'Arrow': <class 'matplotlib.patches.Arrow'>, 'Artist': <class 'matplotlib.artist.Artist'>, 'AutoLocator': <class 'matplotlib.ticker.AutoLocator'>, 'Axes': <class 'matplotlib.axes._axes.Axes'>, 'BUFSIZE': 8192, 'Button': <class 'matplotlib.widgets.Button'>, 'CLIP': 0, 'Circle': <class 'matplotlib.patches.Circle'>, ...}\n        self.user_ns = {'ALLOW_THREADS': 1, 'Annotation': <class 'matplotlib.text.Annotation'>, 'Arrow': <class 'matplotlib.patches.Arrow'>, 'Artist': <class 'matplotlib.artist.Artist'>, 'AutoLocator': <class 'matplotlib.ticker.AutoLocator'>, 'Axes': <class 'matplotlib.axes._axes.Axes'>, 'BUFSIZE': 8192, 'Button': <class 'matplotlib.widgets.Button'>, 'CLIP': 0, 'Circle': <class 'matplotlib.patches.Circle'>, ...}\n   2884             finally:\n   2885                 # Reset our crash handler in place\n   2886                 sys.excepthook = old_excepthook\n   2887         except SystemExit:\n\n...........................................................................\n/mnt/anlds/home/<ipython-input-19-97aeac312fe7> in <module>()\n----> 1 \n      2 \n      3 \n      4 \n      5 \n      6 get_ipython().run_cell_magic(u'prun', u'-s cumulative', u'Trust.generate_node_trust_perspective(trust_raw)')\n      7 \n      8 \n      9 \n     10 \n\n...........................................................................\n/usr/lib/python2.7/dist-packages/IPython/core/interactiveshell.py in run_cell_magic(self=<IPython.kernel.zmq.zmqshell.ZMQInteractiveShell object>, magic_name=u'prun', line=u'-s cumulative', cell=u'Trust.generate_node_trust_perspective(trust_raw)')\n   2157             # This will need to be updated if the internal calling logic gets\n   2158             # refactored, or else we'll be expanding the wrong variables.\n   2159             stack_depth = 2\n   2160             magic_arg_s = self.var_expand(line, stack_depth)\n   2161             with self.builtin_trap:\n-> 2162                 result = fn(magic_arg_s, cell)\n        result = undefined\n        fn = <bound method ExecutionMagics.prun of <IPython.core.magics.execution.ExecutionMagics object>>\n        magic_arg_s = u'-s cumulative'\n        cell = u'Trust.generate_node_trust_perspective(trust_raw)'\n   2163             return result\n   2164 \n   2165     def find_line_magic(self, magic_name):\n   2166         \"\"\"Find and return a line magic by name.\n\n...........................................................................\n/mnt/anlds/home/<string> in prun(self=<IPython.core.magics.execution.ExecutionMagics object>, parameter_s=u'-s cumulative', cell=u'Trust.generate_node_trust_perspective(trust_raw)')\n      1 \n----> 2 \n      3 \n      4 \n      5 # -*- coding: utf-8 -*-\n      6 \"\"\"Implementation of execution-related magic functions.\n      7 \"\"\"\n      8 from __future__ import print_function\n      9 #-----------------------------------------------------------------------------\n     10 #  Copyright (c) 2012 The IPython Development Team.\n     11 #\n     12 #  Distributed under the terms of the Modified BSD License.\n     13 #\n     14 #  The full license is in the file COPYING.txt, distributed with this software.\n\n...........................................................................\n/usr/lib/python2.7/dist-packages/IPython/core/magic.py in <lambda>(f=<function prun>, *a=(<IPython.core.magics.execution.ExecutionMagics object>, u'-s cumulative', u'Trust.generate_node_trust_perspective(trust_raw)'), **k={})\n    188     validate_type(magic_kind)\n    189 \n    190     # This is a closure to capture the magic_kind.  We could also use a class,\n    191     # but it's overkill for just that one bit of state.\n    192     def magic_deco(arg):\n--> 193         call = lambda f, *a, **k: f(*a, **k)\n        f = <function prun>\n        a = (<IPython.core.magics.execution.ExecutionMagics object>, u'-s cumulative', u'Trust.generate_node_trust_perspective(trust_raw)')\n        k = {}\n    194 \n    195         if callable(arg):\n    196             # \"Naked\" decorator call (just @foo, no args)\n    197             func = arg\n\n...........................................................................\n/usr/lib/python2.7/dist-packages/IPython/core/magics/execution.py in prun(self=<IPython.core.magics.execution.ExecutionMagics object>, parameter_s=u'-s cumulative', cell=u'Trust.generate_node_trust_perspective(trust_raw)')\n    248         opts, arg_str = self.parse_options(parameter_s, 'D:l:rs:T:q',\n    249                                            list_all=True, posix=False)\n    250         if cell is not None:\n    251             arg_str += '\\n' + cell\n    252         arg_str = self.shell.input_splitter.transform_cell(arg_str)\n--> 253         return self._run_with_profiler(arg_str, opts, self.shell.user_ns)\n        self._run_with_profiler = <bound method ExecutionMagics._run_with_profiler...on.core.magics.execution.ExecutionMagics object>>\n        arg_str = u'\\nTrust.generate_node_trust_perspective(trust_raw)\\n'\n        opts = {u's': [u'cumulative'], 'l': [], 'D': [''], 'T': ['']}\n        self.shell.user_ns = {'ALLOW_THREADS': 1, 'Annotation': <class 'matplotlib.text.Annotation'>, 'Arrow': <class 'matplotlib.patches.Arrow'>, 'Artist': <class 'matplotlib.artist.Artist'>, 'AutoLocator': <class 'matplotlib.ticker.AutoLocator'>, 'Axes': <class 'matplotlib.axes._axes.Axes'>, 'BUFSIZE': 8192, 'Button': <class 'matplotlib.widgets.Button'>, 'CLIP': 0, 'Circle': <class 'matplotlib.patches.Circle'>, ...}\n    254 \n    255     def _run_with_profiler(self, code, opts, namespace):\n    256         \"\"\"\n    257         Run `code` with profiler.  Used by ``%prun`` and ``%run -p``.\n\n...........................................................................\n/usr/lib/python2.7/dist-packages/IPython/core/magics/execution.py in _run_with_profiler(self=<IPython.core.magics.execution.ExecutionMagics object>, code=u'\\nTrust.generate_node_trust_perspective(trust_raw)\\n', opts={u's': [u'cumulative'], 'l': [], 'D': [''], 'T': ['']}, namespace={'ALLOW_THREADS': 1, 'Annotation': <class 'matplotlib.text.Annotation'>, 'Arrow': <class 'matplotlib.patches.Arrow'>, 'Artist': <class 'matplotlib.artist.Artist'>, 'AutoLocator': <class 'matplotlib.ticker.AutoLocator'>, 'Axes': <class 'matplotlib.axes._axes.Axes'>, 'BUFSIZE': 8192, 'Button': <class 'matplotlib.widgets.Button'>, 'CLIP': 0, 'Circle': <class 'matplotlib.patches.Circle'>, ...})\n    270         # Fill default values for unspecified options:\n    271         opts.merge(Struct(D=[''], l=[], s=['time'], T=['']))\n    272 \n    273         prof = profile.Profile()\n    274         try:\n--> 275             prof = prof.runctx(code, namespace, namespace)\n        prof = <cProfile.Profile object>\n        prof.runctx = <bound method Profile.runctx of <cProfile.Profile object>>\n        code = u'\\nTrust.generate_node_trust_perspective(trust_raw)\\n'\n        namespace = {'ALLOW_THREADS': 1, 'Annotation': <class 'matplotlib.text.Annotation'>, 'Arrow': <class 'matplotlib.patches.Arrow'>, 'Artist': <class 'matplotlib.artist.Artist'>, 'AutoLocator': <class 'matplotlib.ticker.AutoLocator'>, 'Axes': <class 'matplotlib.axes._axes.Axes'>, 'BUFSIZE': 8192, 'Button': <class 'matplotlib.widgets.Button'>, 'CLIP': 0, 'Circle': <class 'matplotlib.patches.Circle'>, ...}\n    276             sys_exit = ''\n    277         except SystemExit:\n    278             sys_exit = \"\"\"*** SystemExit exception caught in code being profiled.\"\"\"\n    279 \n\n...........................................................................\n/usr/lib/python2.7/cProfile.py in runctx(self=<cProfile.Profile object>, cmd=u'\\nTrust.generate_node_trust_perspective(trust_raw)\\n', globals={'ALLOW_THREADS': 1, 'Annotation': <class 'matplotlib.text.Annotation'>, 'Arrow': <class 'matplotlib.patches.Arrow'>, 'Artist': <class 'matplotlib.artist.Artist'>, 'AutoLocator': <class 'matplotlib.ticker.AutoLocator'>, 'Axes': <class 'matplotlib.axes._axes.Axes'>, 'BUFSIZE': 8192, 'Button': <class 'matplotlib.widgets.Button'>, 'CLIP': 0, 'Circle': <class 'matplotlib.patches.Circle'>, ...}, locals={'ALLOW_THREADS': 1, 'Annotation': <class 'matplotlib.text.Annotation'>, 'Arrow': <class 'matplotlib.patches.Arrow'>, 'Artist': <class 'matplotlib.artist.Artist'>, 'AutoLocator': <class 'matplotlib.ticker.AutoLocator'>, 'Axes': <class 'matplotlib.axes._axes.Axes'>, 'BUFSIZE': 8192, 'Button': <class 'matplotlib.widgets.Button'>, 'CLIP': 0, 'Circle': <class 'matplotlib.patches.Circle'>, ...})\n    135         return self.runctx(cmd, dict, dict)\n    136 \n    137     def runctx(self, cmd, globals, locals):\n    138         self.enable()\n    139         try:\n--> 140             exec cmd in globals, locals\n        cmd = u'\\nTrust.generate_node_trust_perspective(trust_raw)\\n'\n        globals = {'ALLOW_THREADS': 1, 'Annotation': <class 'matplotlib.text.Annotation'>, 'Arrow': <class 'matplotlib.patches.Arrow'>, 'Artist': <class 'matplotlib.artist.Artist'>, 'AutoLocator': <class 'matplotlib.ticker.AutoLocator'>, 'Axes': <class 'matplotlib.axes._axes.Axes'>, 'BUFSIZE': 8192, 'Button': <class 'matplotlib.widgets.Button'>, 'CLIP': 0, 'Circle': <class 'matplotlib.patches.Circle'>, ...}\n        locals = {'ALLOW_THREADS': 1, 'Annotation': <class 'matplotlib.text.Annotation'>, 'Arrow': <class 'matplotlib.patches.Arrow'>, 'Artist': <class 'matplotlib.artist.Artist'>, 'AutoLocator': <class 'matplotlib.ticker.AutoLocator'>, 'Axes': <class 'matplotlib.axes._axes.Axes'>, 'BUFSIZE': 8192, 'Button': <class 'matplotlib.widgets.Button'>, 'CLIP': 0, 'Circle': <class 'matplotlib.patches.Circle'>, ...}\n    141         finally:\n    142             self.disable()\n    143         return self\n    144 \n\n...........................................................................\n/mnt/anlds/home/<string> in <module>()\n      1 \n----> 2 \n      3 \n      4 \n      5 \n      6 \n      7 \n      8 \n      9 \n     10 \n\n...........................................................................\n/home/bolster/src/aietes/src/bounos/Analyses/Trust.py in generate_node_trust_perspective(tf=                                            PLR ...  n4               NaN  \n\n[3480 rows x 6 columns], var='var', metric_weights=None, flip_metrics=['TXThroughput', 'RXThroughput'], rho=0.5, fillna=False, par=True)\n    215     if par:\n    216         trusts = Parallel(n_jobs=-1)(delayed(generate_single_observer_trust_perspective)\n    217                                      (g, **exec_args) for k, g in tf.groupby(level=[var, 'run', 'observer'])\n    218         )\n    219         trusts = [item for sublist in trusts for item in sublist]\n--> 220     else:\n    221         for k, g in tf.groupby(level=[var, 'run', 'observer']):\n    222             trusts.extend(generate_single_observer_trust_perspective(g, **exec_args))\n    223 \n    224     tf = pd.concat(trusts)\n\n...........................................................................\n/home/bolster/.local/lib/python2.7/site-packages/joblib-0.8.4-py2.7.egg/joblib/parallel.py in __call__(self=Parallel(n_jobs=-1), iterable=<generator object <genexpr>>)\n    655             if pre_dispatch == \"all\" or n_jobs == 1:\n    656                 # The iterable was consumed all at once by the above for loop.\n    657                 # No need to wait for async callbacks to trigger to\n    658                 # consumption.\n    659                 self._iterating = False\n--> 660             self.retrieve()\n        self.retrieve = <bound method Parallel.retrieve of Parallel(n_jobs=-1)>\n    661             # Make sure that we get a last message telling us we are done\n    662             elapsed_time = time.time() - self._start_time\n    663             self._print('Done %3i out of %3i | elapsed: %s finished',\n    664                         (len(self._output),\n\n    ---------------------------------------------------------------------------\n    Sub-process traceback:\n    ---------------------------------------------------------------------------\n    ValueError                                         Wed Feb 25 15:40:50 2015\nPID: 29159                                    Python 2.7.8: /usr/bin/python\n...........................................................................\n/home/bolster/src/aietes/src/bounos/Analyses/Trust.py in generate_single_observer_trust_perspective(gf=                                            PLR ...      NaN           NaN  \n\n[145 rows x 6 columns], metric_weights=None, flip_metrics=['TXThroughput', 'RXThroughput'], rho=0.5, debug=False)\n    151             trusts.append(\n    152                 pd.Series(\n    153                     interval.apply(\n    154                         t_kt,\n    155                         axis=1),\n--> 156                     name='trust'\n    157                 )\n    158             )\n    159         else:\n    160             # If we don't have any records, there's nothing we can do.\n\n...........................................................................\n/usr/local/lib/python2.7/dist-packages/pandas/core/series.pyc in __init__(self=UNRECOVERABLE REPR FAILURE, data=Empty DataFrame\nColumns: [good, bad]\nIndex: [], index=Int64Index([], dtype='int64'), dtype=None, name='trust', copy=False, fastpath=False)\n    210                     data = data.astype(dtype=dtype, raise_on_error=False)\n    211                 elif copy:\n    212                     data = data.copy()\n    213             else:\n    214                 data = _sanitize_array(data, index, dtype, copy,\n--> 215                                        raise_cast_failure=True)\n    216 \n    217                 data = SingleBlockManager(data, index, fastpath=True)\n    218 \n    219         generic.NDFrame.__init__(self, data, fastpath=True)\n\n...........................................................................\n/usr/local/lib/python2.7/dist-packages/pandas/core/series.pyc in _sanitize_array(data=Empty DataFrame\nColumns: [good, bad]\nIndex: [], index=Int64Index([], dtype='int64'), dtype=None, copy=False, raise_cast_failure=True)\n   2701 \n   2702     elif subarr.ndim > 1:\n   2703         if isinstance(data, np.ndarray):\n   2704             raise Exception('Data must be 1-dimensional')\n   2705         else:\n-> 2706             subarr = _asarray_tuplesafe(data, dtype=dtype)\n   2707 \n   2708     # This is to prevent mixed-type Series getting all casted to\n   2709     # NumPy string type, e.g. NaN --> '-1#IND'.\n   2710     if issubclass(subarr.dtype.type, compat.string_types):\n\n...........................................................................\n/usr/local/lib/python2.7/dist-packages/pandas/core/common.pyc in _asarray_tuplesafe(values=Empty DataFrame\nColumns: [good, bad]\nIndex: [], dtype=None)\n   2315             try:\n   2316                 result = np.empty(len(values), dtype=object)\n   2317                 result[:] = values\n   2318             except ValueError:\n   2319                 # we have a list-of-list\n-> 2320                 result[:] = [tuple(x) for x in values]\n   2321 \n   2322     return result\n   2323 \n   2324 \n\nValueError: cannot copy sequence with size 2 to array axis with dimension 0\n___________________________________________________________________________",
       "output_type": "pyerr",
       "traceback": [
        "\u001b[0;31m---------------------------------------------------------------------------\u001b[0m\n\u001b[0;31mJoblibValueError\u001b[0m                          Traceback (most recent call last)",
        "\u001b[0;32m<ipython-input-19-97aeac312fe7>\u001b[0m in \u001b[0;36m<module>\u001b[0;34m()\u001b[0m\n\u001b[0;32m----> 1\u001b[0;31m \u001b[0mget_ipython\u001b[0m\u001b[0;34m(\u001b[0m\u001b[0;34m)\u001b[0m\u001b[0;34m.\u001b[0m\u001b[0mrun_cell_magic\u001b[0m\u001b[0;34m(\u001b[0m\u001b[0;34mu'prun'\u001b[0m\u001b[0;34m,\u001b[0m \u001b[0;34mu'-s cumulative'\u001b[0m\u001b[0;34m,\u001b[0m \u001b[0;34mu'Trust.generate_node_trust_perspective(trust_raw)'\u001b[0m\u001b[0;34m)\u001b[0m\u001b[0;34m\u001b[0m\u001b[0m\n\u001b[0m",
        "\u001b[0;32m/usr/lib/python2.7/dist-packages/IPython/core/interactiveshell.pyc\u001b[0m in \u001b[0;36mrun_cell_magic\u001b[0;34m(self, magic_name, line, cell)\u001b[0m\n\u001b[1;32m   2160\u001b[0m             \u001b[0mmagic_arg_s\u001b[0m \u001b[0;34m=\u001b[0m \u001b[0mself\u001b[0m\u001b[0;34m.\u001b[0m\u001b[0mvar_expand\u001b[0m\u001b[0;34m(\u001b[0m\u001b[0mline\u001b[0m\u001b[0;34m,\u001b[0m \u001b[0mstack_depth\u001b[0m\u001b[0;34m)\u001b[0m\u001b[0;34m\u001b[0m\u001b[0m\n\u001b[1;32m   2161\u001b[0m             \u001b[0;32mwith\u001b[0m \u001b[0mself\u001b[0m\u001b[0;34m.\u001b[0m\u001b[0mbuiltin_trap\u001b[0m\u001b[0;34m:\u001b[0m\u001b[0;34m\u001b[0m\u001b[0m\n\u001b[0;32m-> 2162\u001b[0;31m                 \u001b[0mresult\u001b[0m \u001b[0;34m=\u001b[0m \u001b[0mfn\u001b[0m\u001b[0;34m(\u001b[0m\u001b[0mmagic_arg_s\u001b[0m\u001b[0;34m,\u001b[0m \u001b[0mcell\u001b[0m\u001b[0;34m)\u001b[0m\u001b[0;34m\u001b[0m\u001b[0m\n\u001b[0m\u001b[1;32m   2163\u001b[0m             \u001b[0;32mreturn\u001b[0m \u001b[0mresult\u001b[0m\u001b[0;34m\u001b[0m\u001b[0m\n\u001b[1;32m   2164\u001b[0m \u001b[0;34m\u001b[0m\u001b[0m\n",
        "\u001b[0;32m/usr/lib/python2.7/dist-packages/IPython/core/magics/execution.pyc\u001b[0m in \u001b[0;36mprun\u001b[0;34m(self, parameter_s, cell)\u001b[0m\n",
        "\u001b[0;32m/usr/lib/python2.7/dist-packages/IPython/core/magic.pyc\u001b[0m in \u001b[0;36m<lambda>\u001b[0;34m(f, *a, **k)\u001b[0m\n\u001b[1;32m    191\u001b[0m     \u001b[0;31m# but it's overkill for just that one bit of state.\u001b[0m\u001b[0;34m\u001b[0m\u001b[0;34m\u001b[0m\u001b[0m\n\u001b[1;32m    192\u001b[0m     \u001b[0;32mdef\u001b[0m \u001b[0mmagic_deco\u001b[0m\u001b[0;34m(\u001b[0m\u001b[0marg\u001b[0m\u001b[0;34m)\u001b[0m\u001b[0;34m:\u001b[0m\u001b[0;34m\u001b[0m\u001b[0m\n\u001b[0;32m--> 193\u001b[0;31m         \u001b[0mcall\u001b[0m \u001b[0;34m=\u001b[0m \u001b[0;32mlambda\u001b[0m \u001b[0mf\u001b[0m\u001b[0;34m,\u001b[0m \u001b[0;34m*\u001b[0m\u001b[0ma\u001b[0m\u001b[0;34m,\u001b[0m \u001b[0;34m**\u001b[0m\u001b[0mk\u001b[0m\u001b[0;34m:\u001b[0m \u001b[0mf\u001b[0m\u001b[0;34m(\u001b[0m\u001b[0;34m*\u001b[0m\u001b[0ma\u001b[0m\u001b[0;34m,\u001b[0m \u001b[0;34m**\u001b[0m\u001b[0mk\u001b[0m\u001b[0;34m)\u001b[0m\u001b[0;34m\u001b[0m\u001b[0m\n\u001b[0m\u001b[1;32m    194\u001b[0m \u001b[0;34m\u001b[0m\u001b[0m\n\u001b[1;32m    195\u001b[0m         \u001b[0;32mif\u001b[0m \u001b[0mcallable\u001b[0m\u001b[0;34m(\u001b[0m\u001b[0marg\u001b[0m\u001b[0;34m)\u001b[0m\u001b[0;34m:\u001b[0m\u001b[0;34m\u001b[0m\u001b[0m\n",
        "\u001b[0;32m/usr/lib/python2.7/dist-packages/IPython/core/magics/execution.pyc\u001b[0m in \u001b[0;36mprun\u001b[0;34m(self, parameter_s, cell)\u001b[0m\n\u001b[1;32m    251\u001b[0m             \u001b[0marg_str\u001b[0m \u001b[0;34m+=\u001b[0m \u001b[0;34m'\\n'\u001b[0m \u001b[0;34m+\u001b[0m \u001b[0mcell\u001b[0m\u001b[0;34m\u001b[0m\u001b[0m\n\u001b[1;32m    252\u001b[0m         \u001b[0marg_str\u001b[0m \u001b[0;34m=\u001b[0m \u001b[0mself\u001b[0m\u001b[0;34m.\u001b[0m\u001b[0mshell\u001b[0m\u001b[0;34m.\u001b[0m\u001b[0minput_splitter\u001b[0m\u001b[0;34m.\u001b[0m\u001b[0mtransform_cell\u001b[0m\u001b[0;34m(\u001b[0m\u001b[0marg_str\u001b[0m\u001b[0;34m)\u001b[0m\u001b[0;34m\u001b[0m\u001b[0m\n\u001b[0;32m--> 253\u001b[0;31m         \u001b[0;32mreturn\u001b[0m \u001b[0mself\u001b[0m\u001b[0;34m.\u001b[0m\u001b[0m_run_with_profiler\u001b[0m\u001b[0;34m(\u001b[0m\u001b[0marg_str\u001b[0m\u001b[0;34m,\u001b[0m \u001b[0mopts\u001b[0m\u001b[0;34m,\u001b[0m \u001b[0mself\u001b[0m\u001b[0;34m.\u001b[0m\u001b[0mshell\u001b[0m\u001b[0;34m.\u001b[0m\u001b[0muser_ns\u001b[0m\u001b[0;34m)\u001b[0m\u001b[0;34m\u001b[0m\u001b[0m\n\u001b[0m\u001b[1;32m    254\u001b[0m \u001b[0;34m\u001b[0m\u001b[0m\n\u001b[1;32m    255\u001b[0m     \u001b[0;32mdef\u001b[0m \u001b[0m_run_with_profiler\u001b[0m\u001b[0;34m(\u001b[0m\u001b[0mself\u001b[0m\u001b[0;34m,\u001b[0m \u001b[0mcode\u001b[0m\u001b[0;34m,\u001b[0m \u001b[0mopts\u001b[0m\u001b[0;34m,\u001b[0m \u001b[0mnamespace\u001b[0m\u001b[0;34m)\u001b[0m\u001b[0;34m:\u001b[0m\u001b[0;34m\u001b[0m\u001b[0m\n",
        "\u001b[0;32m/usr/lib/python2.7/dist-packages/IPython/core/magics/execution.pyc\u001b[0m in \u001b[0;36m_run_with_profiler\u001b[0;34m(self, code, opts, namespace)\u001b[0m\n\u001b[1;32m    273\u001b[0m         \u001b[0mprof\u001b[0m \u001b[0;34m=\u001b[0m \u001b[0mprofile\u001b[0m\u001b[0;34m.\u001b[0m\u001b[0mProfile\u001b[0m\u001b[0;34m(\u001b[0m\u001b[0;34m)\u001b[0m\u001b[0;34m\u001b[0m\u001b[0m\n\u001b[1;32m    274\u001b[0m         \u001b[0;32mtry\u001b[0m\u001b[0;34m:\u001b[0m\u001b[0;34m\u001b[0m\u001b[0m\n\u001b[0;32m--> 275\u001b[0;31m             \u001b[0mprof\u001b[0m \u001b[0;34m=\u001b[0m \u001b[0mprof\u001b[0m\u001b[0;34m.\u001b[0m\u001b[0mrunctx\u001b[0m\u001b[0;34m(\u001b[0m\u001b[0mcode\u001b[0m\u001b[0;34m,\u001b[0m \u001b[0mnamespace\u001b[0m\u001b[0;34m,\u001b[0m \u001b[0mnamespace\u001b[0m\u001b[0;34m)\u001b[0m\u001b[0;34m\u001b[0m\u001b[0m\n\u001b[0m\u001b[1;32m    276\u001b[0m             \u001b[0msys_exit\u001b[0m \u001b[0;34m=\u001b[0m \u001b[0;34m''\u001b[0m\u001b[0;34m\u001b[0m\u001b[0m\n\u001b[1;32m    277\u001b[0m         \u001b[0;32mexcept\u001b[0m \u001b[0mSystemExit\u001b[0m\u001b[0;34m:\u001b[0m\u001b[0;34m\u001b[0m\u001b[0m\n",
        "\u001b[0;32m/usr/lib/python2.7/cProfile.py\u001b[0m in \u001b[0;36mrunctx\u001b[0;34m(self, cmd, globals, locals)\u001b[0m\n\u001b[1;32m    138\u001b[0m         \u001b[0mself\u001b[0m\u001b[0;34m.\u001b[0m\u001b[0menable\u001b[0m\u001b[0;34m(\u001b[0m\u001b[0;34m)\u001b[0m\u001b[0;34m\u001b[0m\u001b[0m\n\u001b[1;32m    139\u001b[0m         \u001b[0;32mtry\u001b[0m\u001b[0;34m:\u001b[0m\u001b[0;34m\u001b[0m\u001b[0m\n\u001b[0;32m--> 140\u001b[0;31m             \u001b[0;32mexec\u001b[0m \u001b[0mcmd\u001b[0m \u001b[0;32min\u001b[0m \u001b[0mglobals\u001b[0m\u001b[0;34m,\u001b[0m \u001b[0mlocals\u001b[0m\u001b[0;34m\u001b[0m\u001b[0m\n\u001b[0m\u001b[1;32m    141\u001b[0m         \u001b[0;32mfinally\u001b[0m\u001b[0;34m:\u001b[0m\u001b[0;34m\u001b[0m\u001b[0m\n\u001b[1;32m    142\u001b[0m             \u001b[0mself\u001b[0m\u001b[0;34m.\u001b[0m\u001b[0mdisable\u001b[0m\u001b[0;34m(\u001b[0m\u001b[0;34m)\u001b[0m\u001b[0;34m\u001b[0m\u001b[0m\n",
        "\u001b[0;32m<string>\u001b[0m in \u001b[0;36m<module>\u001b[0;34m()\u001b[0m\n",
        "\u001b[0;32m/home/bolster/src/aietes/src/bounos/Analyses/Trust.py\u001b[0m in \u001b[0;36mgenerate_node_trust_perspective\u001b[0;34m(tf, var, metric_weights, flip_metrics, rho, fillna, par)\u001b[0m\n\u001b[1;32m    218\u001b[0m     \u001b[0;32mif\u001b[0m \u001b[0mpar\u001b[0m\u001b[0;34m:\u001b[0m\u001b[0;34m\u001b[0m\u001b[0m\n\u001b[1;32m    219\u001b[0m         trusts = Parallel(n_jobs=-1)(delayed(generate_single_observer_trust_perspective)\n\u001b[0;32m--> 220\u001b[0;31m                                      \u001b[0;34m(\u001b[0m\u001b[0mg\u001b[0m\u001b[0;34m,\u001b[0m \u001b[0;34m**\u001b[0m\u001b[0mexec_args\u001b[0m\u001b[0;34m)\u001b[0m \u001b[0;32mfor\u001b[0m \u001b[0mk\u001b[0m\u001b[0;34m,\u001b[0m \u001b[0mg\u001b[0m \u001b[0;32min\u001b[0m \u001b[0mtf\u001b[0m\u001b[0;34m.\u001b[0m\u001b[0mgroupby\u001b[0m\u001b[0;34m(\u001b[0m\u001b[0mlevel\u001b[0m\u001b[0;34m=\u001b[0m\u001b[0;34m[\u001b[0m\u001b[0mvar\u001b[0m\u001b[0;34m,\u001b[0m \u001b[0;34m'run'\u001b[0m\u001b[0;34m,\u001b[0m \u001b[0;34m'observer'\u001b[0m\u001b[0;34m]\u001b[0m\u001b[0;34m)\u001b[0m\u001b[0;34m\u001b[0m\u001b[0m\n\u001b[0m\u001b[1;32m    221\u001b[0m         )\n\u001b[1;32m    222\u001b[0m         \u001b[0mtrusts\u001b[0m \u001b[0;34m=\u001b[0m \u001b[0;34m[\u001b[0m\u001b[0mitem\u001b[0m \u001b[0;32mfor\u001b[0m \u001b[0msublist\u001b[0m \u001b[0;32min\u001b[0m \u001b[0mtrusts\u001b[0m \u001b[0;32mfor\u001b[0m \u001b[0mitem\u001b[0m \u001b[0;32min\u001b[0m \u001b[0msublist\u001b[0m\u001b[0;34m]\u001b[0m\u001b[0;34m\u001b[0m\u001b[0m\n",
        "\u001b[0;32m/home/bolster/.local/lib/python2.7/site-packages/joblib-0.8.4-py2.7.egg/joblib/parallel.pyc\u001b[0m in \u001b[0;36m__call__\u001b[0;34m(self, iterable)\u001b[0m\n\u001b[1;32m    658\u001b[0m                 \u001b[0;31m# consumption.\u001b[0m\u001b[0;34m\u001b[0m\u001b[0;34m\u001b[0m\u001b[0m\n\u001b[1;32m    659\u001b[0m                 \u001b[0mself\u001b[0m\u001b[0;34m.\u001b[0m\u001b[0m_iterating\u001b[0m \u001b[0;34m=\u001b[0m \u001b[0mFalse\u001b[0m\u001b[0;34m\u001b[0m\u001b[0m\n\u001b[0;32m--> 660\u001b[0;31m             \u001b[0mself\u001b[0m\u001b[0;34m.\u001b[0m\u001b[0mretrieve\u001b[0m\u001b[0;34m(\u001b[0m\u001b[0;34m)\u001b[0m\u001b[0;34m\u001b[0m\u001b[0m\n\u001b[0m\u001b[1;32m    661\u001b[0m             \u001b[0;31m# Make sure that we get a last message telling us we are done\u001b[0m\u001b[0;34m\u001b[0m\u001b[0;34m\u001b[0m\u001b[0m\n\u001b[1;32m    662\u001b[0m             \u001b[0melapsed_time\u001b[0m \u001b[0;34m=\u001b[0m \u001b[0mtime\u001b[0m\u001b[0;34m.\u001b[0m\u001b[0mtime\u001b[0m\u001b[0;34m(\u001b[0m\u001b[0;34m)\u001b[0m \u001b[0;34m-\u001b[0m \u001b[0mself\u001b[0m\u001b[0;34m.\u001b[0m\u001b[0m_start_time\u001b[0m\u001b[0;34m\u001b[0m\u001b[0m\n",
        "\u001b[0;32m/home/bolster/.local/lib/python2.7/site-packages/joblib-0.8.4-py2.7.egg/joblib/parallel.pyc\u001b[0m in \u001b[0;36mretrieve\u001b[0;34m(self)\u001b[0m\n\u001b[1;32m    541\u001b[0m                         \u001b[0;31m# Convert this to a JoblibException\u001b[0m\u001b[0;34m\u001b[0m\u001b[0;34m\u001b[0m\u001b[0m\n\u001b[1;32m    542\u001b[0m                         \u001b[0mexception_type\u001b[0m \u001b[0;34m=\u001b[0m \u001b[0m_mk_exception\u001b[0m\u001b[0;34m(\u001b[0m\u001b[0mexception\u001b[0m\u001b[0;34m.\u001b[0m\u001b[0metype\u001b[0m\u001b[0;34m)\u001b[0m\u001b[0;34m[\u001b[0m\u001b[0;36m0\u001b[0m\u001b[0;34m]\u001b[0m\u001b[0;34m\u001b[0m\u001b[0m\n\u001b[0;32m--> 543\u001b[0;31m                         \u001b[0;32mraise\u001b[0m \u001b[0mexception_type\u001b[0m\u001b[0;34m(\u001b[0m\u001b[0mreport\u001b[0m\u001b[0;34m)\u001b[0m\u001b[0;34m\u001b[0m\u001b[0m\n\u001b[0m\u001b[1;32m    544\u001b[0m                     \u001b[0;32mraise\u001b[0m \u001b[0mexception\u001b[0m\u001b[0;34m\u001b[0m\u001b[0m\n\u001b[1;32m    545\u001b[0m                 \u001b[0;32mfinally\u001b[0m\u001b[0;34m:\u001b[0m\u001b[0;34m\u001b[0m\u001b[0m\n",
        "\u001b[0;31mJoblibValueError\u001b[0m: JoblibValueError\n___________________________________________________________________________\nMultiprocessing exception:\n    ...........................................................................\n/mnt/anlds/home/<string> in <module>()\n----> 1 \n      2 \n      3 \n      4 \n      5 \n      6 \n      7 \n      8 \n      9 \n     10 \n\n...........................................................................\n/usr/lib/python2.7/dist-packages/IPython/kernel/zmq/kernelapp.py in main()\n    464 \n    465 def main():\n    466     \"\"\"Run an IPKernel as an application\"\"\"\n    467     app = IPKernelApp.instance()\n    468     app.initialize()\n--> 469     app.start()\n        app.start = <bound method IPKernelApp.start of <IPython.kernel.zmq.kernelapp.IPKernelApp object>>\n    470 \n    471 \n    472 if __name__ == '__main__':\n    473     main()\n\n...........................................................................\n/usr/lib/python2.7/dist-packages/IPython/kernel/zmq/kernelapp.py in start(self=<IPython.kernel.zmq.kernelapp.IPKernelApp object>)\n    454     def start(self):\n    455         if self.poller is not None:\n    456             self.poller.start()\n    457         self.kernel.start()\n    458         try:\n--> 459             ioloop.IOLoop.instance().start()\n    460         except KeyboardInterrupt:\n    461             pass\n    462 \n    463 launch_new_instance = IPKernelApp.launch_instance\n\n...........................................................................\n/usr/lib/python2.7/dist-packages/zmq/eventloop/ioloop.py in start(self=<zmq.eventloop.ioloop.ZMQIOLoop object>)\n    146             PollIOLoop.configure(ZMQIOLoop)\n    147         return PollIOLoop.instance()\n    148     \n    149     def start(self):\n    150         try:\n--> 151             super(ZMQIOLoop, self).start()\n        self.start = <bound method ZMQIOLoop.start of <zmq.eventloop.ioloop.ZMQIOLoop object>>\n    152         except ZMQError as e:\n    153             if e.errno == ETERM:\n    154                 # quietly return on ETERM\n    155                 pass\n\n...........................................................................\n/usr/lib/python2.7/dist-packages/tornado/ioloop.py in start(self=<zmq.eventloop.ioloop.ZMQIOLoop object>)\n    683                 # this IOLoop that update self._events\n    684                 self._events.update(event_pairs)\n    685                 while self._events:\n    686                     fd, events = self._events.popitem()\n    687                     try:\n--> 688                         self._handlers[fd](fd, events)\n        self._handlers = {49: <function wrapped>, <zmq.sugar.socket.Socket object>: <function wrapped>, <zmq.sugar.socket.Socket object>: <function wrapped>}\n        fd = <zmq.sugar.socket.Socket object>\n        events = 1\n    689                     except (OSError, IOError) as e:\n    690                         if e.args[0] == errno.EPIPE:\n    691                             # Happens when the client closes the connection\n    692                             pass\n\n...........................................................................\n/usr/lib/python2.7/dist-packages/tornado/stack_context.py in wrapped(*args=(<zmq.sugar.socket.Socket object>, 1), **kwargs={})\n    297                     top = n.old_contexts[1]\n    298 \n    299             # Execute callback if no exception happened while restoring state\n    300             if top is None:\n    301                 try:\n--> 302                     ret = fn(*args, **kwargs)\n        ret = None\n        args = (<zmq.sugar.socket.Socket object>, 1)\n        kwargs = {}\n    303                 except:\n    304                     exc = sys.exc_info()\n    305                     top = contexts[1]\n    306 \n\n...........................................................................\n/usr/lib/python2.7/dist-packages/zmq/eventloop/zmqstream.py in _handle_events(self=<zmq.eventloop.zmqstream.ZMQStream object>, fd=<zmq.sugar.socket.Socket object>, events=1)\n    428             # dispatch events:\n    429             if events & IOLoop.ERROR:\n    430                 gen_log.error(\"got POLLERR event on ZMQStream, which doesn't make sense\")\n    431                 return\n    432             if events & IOLoop.READ:\n--> 433                 self._handle_recv()\n        self._handle_recv = <bound method ZMQStream._handle_recv of <zmq.eventloop.zmqstream.ZMQStream object>>\n    434                 if not self.socket:\n    435                     return\n    436             if events & IOLoop.WRITE:\n    437                 self._handle_send()\n\n...........................................................................\n/usr/lib/python2.7/dist-packages/zmq/eventloop/zmqstream.py in _handle_recv(self=<zmq.eventloop.zmqstream.ZMQStream object>)\n    460                 gen_log.error(\"RECV Error: %s\"%zmq.strerror(e.errno))\n    461         else:\n    462             if self._recv_callback:\n    463                 callback = self._recv_callback\n    464                 # self._recv_callback = None\n--> 465                 self._run_callback(callback, msg)\n        self._run_callback = <bound method ZMQStream._run_callback of <zmq.eventloop.zmqstream.ZMQStream object>>\n        callback = <function wrapped>\n        msg = [<zmq.backend.cython.message.Frame object>, <zmq.backend.cython.message.Frame object>, <zmq.backend.cython.message.Frame object>, <zmq.backend.cython.message.Frame object>, <zmq.backend.cython.message.Frame object>, <zmq.backend.cython.message.Frame object>, <zmq.backend.cython.message.Frame object>]\n    466                 \n    467         # self.update_state()\n    468         \n    469 \n\n...........................................................................\n/usr/lib/python2.7/dist-packages/zmq/eventloop/zmqstream.py in _run_callback(self=<zmq.eventloop.zmqstream.ZMQStream object>, callback=<function wrapped>, *args=([<zmq.backend.cython.message.Frame object>, <zmq.backend.cython.message.Frame object>, <zmq.backend.cython.message.Frame object>, <zmq.backend.cython.message.Frame object>, <zmq.backend.cython.message.Frame object>, <zmq.backend.cython.message.Frame object>, <zmq.backend.cython.message.Frame object>],), **kwargs={})\n    402         close our socket.\"\"\"\n    403         try:\n    404             # Use a NullContext to ensure that all StackContexts are run\n    405             # inside our blanket exception handler rather than outside.\n    406             with stack_context.NullContext():\n--> 407                 callback(*args, **kwargs)\n        callback = <function wrapped>\n        args = ([<zmq.backend.cython.message.Frame object>, <zmq.backend.cython.message.Frame object>, <zmq.backend.cython.message.Frame object>, <zmq.backend.cython.message.Frame object>, <zmq.backend.cython.message.Frame object>, <zmq.backend.cython.message.Frame object>, <zmq.backend.cython.message.Frame object>],)\n        kwargs = {}\n    408         except:\n    409             gen_log.error(\"Uncaught exception, closing connection.\",\n    410                           exc_info=True)\n    411             # Close the socket on an uncaught exception from a user callback\n\n...........................................................................\n/usr/lib/python2.7/dist-packages/tornado/stack_context.py in wrapped(*args=([<zmq.backend.cython.message.Frame object>, <zmq.backend.cython.message.Frame object>, <zmq.backend.cython.message.Frame object>, <zmq.backend.cython.message.Frame object>, <zmq.backend.cython.message.Frame object>, <zmq.backend.cython.message.Frame object>, <zmq.backend.cython.message.Frame object>],), **kwargs={})\n    297                     top = n.old_contexts[1]\n    298 \n    299             # Execute callback if no exception happened while restoring state\n    300             if top is None:\n    301                 try:\n--> 302                     ret = fn(*args, **kwargs)\n        ret = None\n        args = ([<zmq.backend.cython.message.Frame object>, <zmq.backend.cython.message.Frame object>, <zmq.backend.cython.message.Frame object>, <zmq.backend.cython.message.Frame object>, <zmq.backend.cython.message.Frame object>, <zmq.backend.cython.message.Frame object>, <zmq.backend.cython.message.Frame object>],)\n        kwargs = {}\n    303                 except:\n    304                     exc = sys.exc_info()\n    305                     top = contexts[1]\n    306 \n\n...........................................................................\n/usr/lib/python2.7/dist-packages/IPython/kernel/zmq/ipkernel.py in dispatcher(msg=[<zmq.backend.cython.message.Frame object>, <zmq.backend.cython.message.Frame object>, <zmq.backend.cython.message.Frame object>, <zmq.backend.cython.message.Frame object>, <zmq.backend.cython.message.Frame object>, <zmq.backend.cython.message.Frame object>, <zmq.backend.cython.message.Frame object>])\n    276         if self.control_stream:\n    277             self.control_stream.on_recv(self.dispatch_control, copy=False)\n    278 \n    279         def make_dispatcher(stream):\n    280             def dispatcher(msg):\n--> 281                 return self.dispatch_shell(stream, msg)\n        msg = [<zmq.backend.cython.message.Frame object>, <zmq.backend.cython.message.Frame object>, <zmq.backend.cython.message.Frame object>, <zmq.backend.cython.message.Frame object>, <zmq.backend.cython.message.Frame object>, <zmq.backend.cython.message.Frame object>, <zmq.backend.cython.message.Frame object>]\n    282             return dispatcher\n    283 \n    284         for s in self.shell_streams:\n    285             s.on_recv(make_dispatcher(s), copy=False)\n\n...........................................................................\n/usr/lib/python2.7/dist-packages/IPython/kernel/zmq/ipkernel.py in dispatch_shell(self=<IPython.kernel.zmq.ipkernel.Kernel object>, stream=<zmq.eventloop.zmqstream.ZMQStream object>, msg={'buffers': [], 'content': {'allow_stdin': True, 'code': '%%prun -s cumulative\\nTrust.generate_node_trust_perspective(trust_raw)', 'silent': False, 'store_history': True, 'user_expressions': {}, 'user_variables': []}, 'header': {'msg_id': '22CB954A4A7F4F488A4759EF56AB6BDB', 'msg_type': 'execute_request', 'session': 'B21CCB1D101444F88AD5A63B5B2A2384', 'username': 'username'}, 'metadata': {}, 'msg_id': '22CB954A4A7F4F488A4759EF56AB6BDB', 'msg_type': 'execute_request', 'parent_header': {}})\n    240             self.log.error(\"UNKNOWN MESSAGE TYPE: %r\", msg_type)\n    241         else:\n    242             # ensure default_int_handler during handler call\n    243             sig = signal(SIGINT, default_int_handler)\n    244             try:\n--> 245                 handler(stream, idents, msg)\n        handler = <bound method Kernel.execute_request of <IPython.kernel.zmq.ipkernel.Kernel object>>\n        stream = <zmq.eventloop.zmqstream.ZMQStream object>\n        idents = ['B21CCB1D101444F88AD5A63B5B2A2384']\n        msg = {'buffers': [], 'content': {'allow_stdin': True, 'code': '%%prun -s cumulative\\nTrust.generate_node_trust_perspective(trust_raw)', 'silent': False, 'store_history': True, 'user_expressions': {}, 'user_variables': []}, 'header': {'msg_id': '22CB954A4A7F4F488A4759EF56AB6BDB', 'msg_type': 'execute_request', 'session': 'B21CCB1D101444F88AD5A63B5B2A2384', 'username': 'username'}, 'metadata': {}, 'msg_id': '22CB954A4A7F4F488A4759EF56AB6BDB', 'msg_type': 'execute_request', 'parent_header': {}}\n    246             except Exception:\n    247                 self.log.error(\"Exception in message handler:\", exc_info=True)\n    248             finally:\n    249                 signal(SIGINT, sig)\n\n...........................................................................\n/usr/lib/python2.7/dist-packages/IPython/kernel/zmq/ipkernel.py in execute_request(self=<IPython.kernel.zmq.ipkernel.Kernel object>, stream=<zmq.eventloop.zmqstream.ZMQStream object>, ident=['B21CCB1D101444F88AD5A63B5B2A2384'], parent={'buffers': [], 'content': {'allow_stdin': True, 'code': '%%prun -s cumulative\\nTrust.generate_node_trust_perspective(trust_raw)', 'silent': False, 'store_history': True, 'user_expressions': {}, 'user_variables': []}, 'header': {'msg_id': '22CB954A4A7F4F488A4759EF56AB6BDB', 'msg_type': 'execute_request', 'session': 'B21CCB1D101444F88AD5A63B5B2A2384', 'username': 'username'}, 'metadata': {}, 'msg_id': '22CB954A4A7F4F488A4759EF56AB6BDB', 'msg_type': 'execute_request', 'parent_header': {}})\n    384 \n    385         reply_content = {}\n    386         # FIXME: the shell calls the exception handler itself.\n    387         shell._reply_content = None\n    388         try:\n--> 389             shell.run_cell(code, store_history=store_history, silent=silent)\n        shell.run_cell = <bound method ZMQInteractiveShell.run_cell of <I....kernel.zmq.zmqshell.ZMQInteractiveShell object>>\n        code = u'%%prun -s cumulative\\nTrust.generate_node_trust_perspective(trust_raw)'\n        store_history = True\n        silent = False\n    390         except:\n    391             status = u'error'\n    392             # FIXME: this code right now isn't being used yet by default,\n    393             # because the run_cell() call above directly fires off exception\n\n...........................................................................\n/usr/lib/python2.7/dist-packages/IPython/core/interactiveshell.py in run_cell(self=<IPython.kernel.zmq.zmqshell.ZMQInteractiveShell object>, raw_cell=u'%%prun -s cumulative\\nTrust.generate_node_trust_perspective(trust_raw)', store_history=True, silent=False, shell_futures=True)\n   2736                 code_ast = self.transform_ast(code_ast)\n   2737 \n   2738                 # Execute the user code\n   2739                 interactivity = \"none\" if silent else self.ast_node_interactivity\n   2740                 self.run_ast_nodes(code_ast.body, cell_name,\n-> 2741                                    interactivity=interactivity, compiler=compiler)\n        interactivity = 'last_expr'\n        compiler = <IPython.core.compilerop.CachingCompiler instance>\n   2742                 \n   2743                 self.events.trigger('post_execute')\n   2744                 if not silent:\n   2745                     self.events.trigger('post_run_cell')\n\n...........................................................................\n/usr/lib/python2.7/dist-packages/IPython/core/interactiveshell.py in run_ast_nodes(self=<IPython.kernel.zmq.zmqshell.ZMQInteractiveShell object>, nodelist=[<_ast.Expr object>], cell_name='<ipython-input-19-97aeac312fe7>', interactivity='last', compiler=<IPython.core.compilerop.CachingCompiler instance>)\n   2828                     return True\n   2829 \n   2830             for i, node in enumerate(to_run_interactive):\n   2831                 mod = ast.Interactive([node])\n   2832                 code = compiler(mod, cell_name, \"single\")\n-> 2833                 if self.run_code(code):\n        self.run_code = <bound method ZMQInteractiveShell.run_code of <I....kernel.zmq.zmqshell.ZMQInteractiveShell object>>\n        code = <code object <module> at 0x7fdc0cf1aeb0, file \"<ipython-input-19-97aeac312fe7>\", line 1>\n   2834                     return True\n   2835 \n   2836             # Flush softspace\n   2837             if softspace(sys.stdout, 0):\n\n...........................................................................\n/usr/lib/python2.7/dist-packages/IPython/core/interactiveshell.py in run_code(self=<IPython.kernel.zmq.zmqshell.ZMQInteractiveShell object>, code_obj=<code object <module> at 0x7fdc0cf1aeb0, file \"<ipython-input-19-97aeac312fe7>\", line 1>)\n   2878         outflag = 1  # happens in more places, so it's easier as default\n   2879         try:\n   2880             try:\n   2881                 self.hooks.pre_run_code_hook()\n   2882                 #rprint('Running code', repr(code_obj)) # dbg\n-> 2883                 exec(code_obj, self.user_global_ns, self.user_ns)\n        code_obj = <code object <module> at 0x7fdc0cf1aeb0, file \"<ipython-input-19-97aeac312fe7>\", line 1>\n        self.user_global_ns = {'ALLOW_THREADS': 1, 'Annotation': <class 'matplotlib.text.Annotation'>, 'Arrow': <class 'matplotlib.patches.Arrow'>, 'Artist': <class 'matplotlib.artist.Artist'>, 'AutoLocator': <class 'matplotlib.ticker.AutoLocator'>, 'Axes': <class 'matplotlib.axes._axes.Axes'>, 'BUFSIZE': 8192, 'Button': <class 'matplotlib.widgets.Button'>, 'CLIP': 0, 'Circle': <class 'matplotlib.patches.Circle'>, ...}\n        self.user_ns = {'ALLOW_THREADS': 1, 'Annotation': <class 'matplotlib.text.Annotation'>, 'Arrow': <class 'matplotlib.patches.Arrow'>, 'Artist': <class 'matplotlib.artist.Artist'>, 'AutoLocator': <class 'matplotlib.ticker.AutoLocator'>, 'Axes': <class 'matplotlib.axes._axes.Axes'>, 'BUFSIZE': 8192, 'Button': <class 'matplotlib.widgets.Button'>, 'CLIP': 0, 'Circle': <class 'matplotlib.patches.Circle'>, ...}\n   2884             finally:\n   2885                 # Reset our crash handler in place\n   2886                 sys.excepthook = old_excepthook\n   2887         except SystemExit:\n\n...........................................................................\n/mnt/anlds/home/<ipython-input-19-97aeac312fe7> in <module>()\n----> 1 \n      2 \n      3 \n      4 \n      5 \n      6 get_ipython().run_cell_magic(u'prun', u'-s cumulative', u'Trust.generate_node_trust_perspective(trust_raw)')\n      7 \n      8 \n      9 \n     10 \n\n...........................................................................\n/usr/lib/python2.7/dist-packages/IPython/core/interactiveshell.py in run_cell_magic(self=<IPython.kernel.zmq.zmqshell.ZMQInteractiveShell object>, magic_name=u'prun', line=u'-s cumulative', cell=u'Trust.generate_node_trust_perspective(trust_raw)')\n   2157             # This will need to be updated if the internal calling logic gets\n   2158             # refactored, or else we'll be expanding the wrong variables.\n   2159             stack_depth = 2\n   2160             magic_arg_s = self.var_expand(line, stack_depth)\n   2161             with self.builtin_trap:\n-> 2162                 result = fn(magic_arg_s, cell)\n        result = undefined\n        fn = <bound method ExecutionMagics.prun of <IPython.core.magics.execution.ExecutionMagics object>>\n        magic_arg_s = u'-s cumulative'\n        cell = u'Trust.generate_node_trust_perspective(trust_raw)'\n   2163             return result\n   2164 \n   2165     def find_line_magic(self, magic_name):\n   2166         \"\"\"Find and return a line magic by name.\n\n...........................................................................\n/mnt/anlds/home/<string> in prun(self=<IPython.core.magics.execution.ExecutionMagics object>, parameter_s=u'-s cumulative', cell=u'Trust.generate_node_trust_perspective(trust_raw)')\n      1 \n----> 2 \n      3 \n      4 \n      5 # -*- coding: utf-8 -*-\n      6 \"\"\"Implementation of execution-related magic functions.\n      7 \"\"\"\n      8 from __future__ import print_function\n      9 #-----------------------------------------------------------------------------\n     10 #  Copyright (c) 2012 The IPython Development Team.\n     11 #\n     12 #  Distributed under the terms of the Modified BSD License.\n     13 #\n     14 #  The full license is in the file COPYING.txt, distributed with this software.\n\n...........................................................................\n/usr/lib/python2.7/dist-packages/IPython/core/magic.py in <lambda>(f=<function prun>, *a=(<IPython.core.magics.execution.ExecutionMagics object>, u'-s cumulative', u'Trust.generate_node_trust_perspective(trust_raw)'), **k={})\n    188     validate_type(magic_kind)\n    189 \n    190     # This is a closure to capture the magic_kind.  We could also use a class,\n    191     # but it's overkill for just that one bit of state.\n    192     def magic_deco(arg):\n--> 193         call = lambda f, *a, **k: f(*a, **k)\n        f = <function prun>\n        a = (<IPython.core.magics.execution.ExecutionMagics object>, u'-s cumulative', u'Trust.generate_node_trust_perspective(trust_raw)')\n        k = {}\n    194 \n    195         if callable(arg):\n    196             # \"Naked\" decorator call (just @foo, no args)\n    197             func = arg\n\n...........................................................................\n/usr/lib/python2.7/dist-packages/IPython/core/magics/execution.py in prun(self=<IPython.core.magics.execution.ExecutionMagics object>, parameter_s=u'-s cumulative', cell=u'Trust.generate_node_trust_perspective(trust_raw)')\n    248         opts, arg_str = self.parse_options(parameter_s, 'D:l:rs:T:q',\n    249                                            list_all=True, posix=False)\n    250         if cell is not None:\n    251             arg_str += '\\n' + cell\n    252         arg_str = self.shell.input_splitter.transform_cell(arg_str)\n--> 253         return self._run_with_profiler(arg_str, opts, self.shell.user_ns)\n        self._run_with_profiler = <bound method ExecutionMagics._run_with_profiler...on.core.magics.execution.ExecutionMagics object>>\n        arg_str = u'\\nTrust.generate_node_trust_perspective(trust_raw)\\n'\n        opts = {u's': [u'cumulative'], 'l': [], 'D': [''], 'T': ['']}\n        self.shell.user_ns = {'ALLOW_THREADS': 1, 'Annotation': <class 'matplotlib.text.Annotation'>, 'Arrow': <class 'matplotlib.patches.Arrow'>, 'Artist': <class 'matplotlib.artist.Artist'>, 'AutoLocator': <class 'matplotlib.ticker.AutoLocator'>, 'Axes': <class 'matplotlib.axes._axes.Axes'>, 'BUFSIZE': 8192, 'Button': <class 'matplotlib.widgets.Button'>, 'CLIP': 0, 'Circle': <class 'matplotlib.patches.Circle'>, ...}\n    254 \n    255     def _run_with_profiler(self, code, opts, namespace):\n    256         \"\"\"\n    257         Run `code` with profiler.  Used by ``%prun`` and ``%run -p``.\n\n...........................................................................\n/usr/lib/python2.7/dist-packages/IPython/core/magics/execution.py in _run_with_profiler(self=<IPython.core.magics.execution.ExecutionMagics object>, code=u'\\nTrust.generate_node_trust_perspective(trust_raw)\\n', opts={u's': [u'cumulative'], 'l': [], 'D': [''], 'T': ['']}, namespace={'ALLOW_THREADS': 1, 'Annotation': <class 'matplotlib.text.Annotation'>, 'Arrow': <class 'matplotlib.patches.Arrow'>, 'Artist': <class 'matplotlib.artist.Artist'>, 'AutoLocator': <class 'matplotlib.ticker.AutoLocator'>, 'Axes': <class 'matplotlib.axes._axes.Axes'>, 'BUFSIZE': 8192, 'Button': <class 'matplotlib.widgets.Button'>, 'CLIP': 0, 'Circle': <class 'matplotlib.patches.Circle'>, ...})\n    270         # Fill default values for unspecified options:\n    271         opts.merge(Struct(D=[''], l=[], s=['time'], T=['']))\n    272 \n    273         prof = profile.Profile()\n    274         try:\n--> 275             prof = prof.runctx(code, namespace, namespace)\n        prof = <cProfile.Profile object>\n        prof.runctx = <bound method Profile.runctx of <cProfile.Profile object>>\n        code = u'\\nTrust.generate_node_trust_perspective(trust_raw)\\n'\n        namespace = {'ALLOW_THREADS': 1, 'Annotation': <class 'matplotlib.text.Annotation'>, 'Arrow': <class 'matplotlib.patches.Arrow'>, 'Artist': <class 'matplotlib.artist.Artist'>, 'AutoLocator': <class 'matplotlib.ticker.AutoLocator'>, 'Axes': <class 'matplotlib.axes._axes.Axes'>, 'BUFSIZE': 8192, 'Button': <class 'matplotlib.widgets.Button'>, 'CLIP': 0, 'Circle': <class 'matplotlib.patches.Circle'>, ...}\n    276             sys_exit = ''\n    277         except SystemExit:\n    278             sys_exit = \"\"\"*** SystemExit exception caught in code being profiled.\"\"\"\n    279 \n\n...........................................................................\n/usr/lib/python2.7/cProfile.py in runctx(self=<cProfile.Profile object>, cmd=u'\\nTrust.generate_node_trust_perspective(trust_raw)\\n', globals={'ALLOW_THREADS': 1, 'Annotation': <class 'matplotlib.text.Annotation'>, 'Arrow': <class 'matplotlib.patches.Arrow'>, 'Artist': <class 'matplotlib.artist.Artist'>, 'AutoLocator': <class 'matplotlib.ticker.AutoLocator'>, 'Axes': <class 'matplotlib.axes._axes.Axes'>, 'BUFSIZE': 8192, 'Button': <class 'matplotlib.widgets.Button'>, 'CLIP': 0, 'Circle': <class 'matplotlib.patches.Circle'>, ...}, locals={'ALLOW_THREADS': 1, 'Annotation': <class 'matplotlib.text.Annotation'>, 'Arrow': <class 'matplotlib.patches.Arrow'>, 'Artist': <class 'matplotlib.artist.Artist'>, 'AutoLocator': <class 'matplotlib.ticker.AutoLocator'>, 'Axes': <class 'matplotlib.axes._axes.Axes'>, 'BUFSIZE': 8192, 'Button': <class 'matplotlib.widgets.Button'>, 'CLIP': 0, 'Circle': <class 'matplotlib.patches.Circle'>, ...})\n    135         return self.runctx(cmd, dict, dict)\n    136 \n    137     def runctx(self, cmd, globals, locals):\n    138         self.enable()\n    139         try:\n--> 140             exec cmd in globals, locals\n        cmd = u'\\nTrust.generate_node_trust_perspective(trust_raw)\\n'\n        globals = {'ALLOW_THREADS': 1, 'Annotation': <class 'matplotlib.text.Annotation'>, 'Arrow': <class 'matplotlib.patches.Arrow'>, 'Artist': <class 'matplotlib.artist.Artist'>, 'AutoLocator': <class 'matplotlib.ticker.AutoLocator'>, 'Axes': <class 'matplotlib.axes._axes.Axes'>, 'BUFSIZE': 8192, 'Button': <class 'matplotlib.widgets.Button'>, 'CLIP': 0, 'Circle': <class 'matplotlib.patches.Circle'>, ...}\n        locals = {'ALLOW_THREADS': 1, 'Annotation': <class 'matplotlib.text.Annotation'>, 'Arrow': <class 'matplotlib.patches.Arrow'>, 'Artist': <class 'matplotlib.artist.Artist'>, 'AutoLocator': <class 'matplotlib.ticker.AutoLocator'>, 'Axes': <class 'matplotlib.axes._axes.Axes'>, 'BUFSIZE': 8192, 'Button': <class 'matplotlib.widgets.Button'>, 'CLIP': 0, 'Circle': <class 'matplotlib.patches.Circle'>, ...}\n    141         finally:\n    142             self.disable()\n    143         return self\n    144 \n\n...........................................................................\n/mnt/anlds/home/<string> in <module>()\n      1 \n----> 2 \n      3 \n      4 \n      5 \n      6 \n      7 \n      8 \n      9 \n     10 \n\n...........................................................................\n/home/bolster/src/aietes/src/bounos/Analyses/Trust.py in generate_node_trust_perspective(tf=                                            PLR ...  n4               NaN  \n\n[3480 rows x 6 columns], var='var', metric_weights=None, flip_metrics=['TXThroughput', 'RXThroughput'], rho=0.5, fillna=False, par=True)\n    215     if par:\n    216         trusts = Parallel(n_jobs=-1)(delayed(generate_single_observer_trust_perspective)\n    217                                      (g, **exec_args) for k, g in tf.groupby(level=[var, 'run', 'observer'])\n    218         )\n    219         trusts = [item for sublist in trusts for item in sublist]\n--> 220     else:\n    221         for k, g in tf.groupby(level=[var, 'run', 'observer']):\n    222             trusts.extend(generate_single_observer_trust_perspective(g, **exec_args))\n    223 \n    224     tf = pd.concat(trusts)\n\n...........................................................................\n/home/bolster/.local/lib/python2.7/site-packages/joblib-0.8.4-py2.7.egg/joblib/parallel.py in __call__(self=Parallel(n_jobs=-1), iterable=<generator object <genexpr>>)\n    655             if pre_dispatch == \"all\" or n_jobs == 1:\n    656                 # The iterable was consumed all at once by the above for loop.\n    657                 # No need to wait for async callbacks to trigger to\n    658                 # consumption.\n    659                 self._iterating = False\n--> 660             self.retrieve()\n        self.retrieve = <bound method Parallel.retrieve of Parallel(n_jobs=-1)>\n    661             # Make sure that we get a last message telling us we are done\n    662             elapsed_time = time.time() - self._start_time\n    663             self._print('Done %3i out of %3i | elapsed: %s finished',\n    664                         (len(self._output),\n\n    ---------------------------------------------------------------------------\n    Sub-process traceback:\n    ---------------------------------------------------------------------------\n    ValueError                                         Wed Feb 25 15:40:50 2015\nPID: 29159                                    Python 2.7.8: /usr/bin/python\n...........................................................................\n/home/bolster/src/aietes/src/bounos/Analyses/Trust.py in generate_single_observer_trust_perspective(gf=                                            PLR ...      NaN           NaN  \n\n[145 rows x 6 columns], metric_weights=None, flip_metrics=['TXThroughput', 'RXThroughput'], rho=0.5, debug=False)\n    151             trusts.append(\n    152                 pd.Series(\n    153                     interval.apply(\n    154                         t_kt,\n    155                         axis=1),\n--> 156                     name='trust'\n    157                 )\n    158             )\n    159         else:\n    160             # If we don't have any records, there's nothing we can do.\n\n...........................................................................\n/usr/local/lib/python2.7/dist-packages/pandas/core/series.pyc in __init__(self=UNRECOVERABLE REPR FAILURE, data=Empty DataFrame\nColumns: [good, bad]\nIndex: [], index=Int64Index([], dtype='int64'), dtype=None, name='trust', copy=False, fastpath=False)\n    210                     data = data.astype(dtype=dtype, raise_on_error=False)\n    211                 elif copy:\n    212                     data = data.copy()\n    213             else:\n    214                 data = _sanitize_array(data, index, dtype, copy,\n--> 215                                        raise_cast_failure=True)\n    216 \n    217                 data = SingleBlockManager(data, index, fastpath=True)\n    218 \n    219         generic.NDFrame.__init__(self, data, fastpath=True)\n\n...........................................................................\n/usr/local/lib/python2.7/dist-packages/pandas/core/series.pyc in _sanitize_array(data=Empty DataFrame\nColumns: [good, bad]\nIndex: [], index=Int64Index([], dtype='int64'), dtype=None, copy=False, raise_cast_failure=True)\n   2701 \n   2702     elif subarr.ndim > 1:\n   2703         if isinstance(data, np.ndarray):\n   2704             raise Exception('Data must be 1-dimensional')\n   2705         else:\n-> 2706             subarr = _asarray_tuplesafe(data, dtype=dtype)\n   2707 \n   2708     # This is to prevent mixed-type Series getting all casted to\n   2709     # NumPy string type, e.g. NaN --> '-1#IND'.\n   2710     if issubclass(subarr.dtype.type, compat.string_types):\n\n...........................................................................\n/usr/local/lib/python2.7/dist-packages/pandas/core/common.pyc in _asarray_tuplesafe(values=Empty DataFrame\nColumns: [good, bad]\nIndex: [], dtype=None)\n   2315             try:\n   2316                 result = np.empty(len(values), dtype=object)\n   2317                 result[:] = values\n   2318             except ValueError:\n   2319                 # we have a list-of-list\n-> 2320                 result[:] = [tuple(x) for x in values]\n   2321 \n   2322     return result\n   2323 \n   2324 \n\nValueError: cannot copy sequence with size 2 to array axis with dimension 0\n___________________________________________________________________________"
       ]
      }
     ],
     "prompt_number": 19
    },
    {
     "cell_type": "code",
     "collapsed": false,
     "input": [
      "import logging\n",
      "sim = aietes.Simulation(title=\"DEBUG\",\n",
      "                        config_file=aietes.Tools.get_config_file('bella_static.conf'),\n",
      "                        progress_display=False,logtoconsole=logging.ERROR)\n",
      "sim.prepare(sim_time=1200)\n",
      "sim.simulate()\n",
      "dp = sim.generate_datapackage()\n",
      "trust = Trust.generate_trust_logs_from_comms_logs(dp.comms['logs'])"
     ],
     "language": "python",
     "metadata": {},
     "outputs": [
      {
       "output_type": "stream",
       "stream": "stderr",
       "text": [
        "\u001b[32m0.00     INFO   DEBUG:Gave node n0 a configured initial position: ['200', '300', '300'] (577)\u001b[0m\n"
       ]
      },
      {
       "output_type": "stream",
       "stream": "stderr",
       "text": [
        "INFO:DEBUG:Gave node n0 a configured initial position: ['200', '300', '300']\n"
       ]
      },
      {
       "output_type": "stream",
       "stream": "stderr",
       "text": [
        "Gave node n0 a configured initial position: ['200', '300', '300']\n"
       ]
      },
      {
       "output_type": "stream",
       "stream": "stderr",
       "text": [
        "\u001b[33m0.00     WARNING DEBUG.aietes.Node[n0].Layercake.CSMA4FBR:I think I have pending data from None but I got something from None (2067)\u001b[0m\n"
       ]
      },
      {
       "output_type": "stream",
       "stream": "stderr",
       "text": [
        "WARNING:DEBUG.aietes.Node[n0].Layercake.CSMA4FBR:I think I have pending data from None but I got something from None\n"
       ]
      },
      {
       "output_type": "stream",
       "stream": "stderr",
       "text": [
        "I think I have pending data from None but I got something from None\n"
       ]
      },
      {
       "output_type": "stream",
       "stream": "stderr",
       "text": [
        "\u001b[32m0.00     INFO   DEBUG:Gave node n1 a configured initial position: ['300', '300', '300'] (577)\u001b[0m\n"
       ]
      },
      {
       "output_type": "stream",
       "stream": "stderr",
       "text": [
        "INFO:DEBUG:Gave node n1 a configured initial position: ['300', '300', '300']\n"
       ]
      },
      {
       "output_type": "stream",
       "stream": "stderr",
       "text": [
        "Gave node n1 a configured initial position: ['300', '300', '300']\n"
       ]
      },
      {
       "output_type": "stream",
       "stream": "stderr",
       "text": [
        "\u001b[33m0.00     WARNING DEBUG.aietes.Node[n1].Layercake.CSMA4FBR:I think I have pending data from None but I got something from None (2067)\u001b[0m\n"
       ]
      },
      {
       "output_type": "stream",
       "stream": "stderr",
       "text": [
        "WARNING:DEBUG.aietes.Node[n1].Layercake.CSMA4FBR:I think I have pending data from None but I got something from None\n"
       ]
      },
      {
       "output_type": "stream",
       "stream": "stderr",
       "text": [
        "I think I have pending data from None but I got something from None\n"
       ]
      },
      {
       "output_type": "stream",
       "stream": "stderr",
       "text": [
        "\u001b[32m0.00     INFO   DEBUG:Gave node n2 a configured initial position: ['250', '350', '300'] (577)\u001b[0m\n"
       ]
      },
      {
       "output_type": "stream",
       "stream": "stderr",
       "text": [
        "INFO:DEBUG:Gave node n2 a configured initial position: ['250', '350', '300']\n"
       ]
      },
      {
       "output_type": "stream",
       "stream": "stderr",
       "text": [
        "Gave node n2 a configured initial position: ['250', '350', '300']\n"
       ]
      },
      {
       "output_type": "stream",
       "stream": "stderr",
       "text": [
        "\u001b[33m0.00     WARNING DEBUG.aietes.Node[n2].Layercake.CSMA4FBR:I think I have pending data from None but I got something from None (2067)\u001b[0m\n"
       ]
      },
      {
       "output_type": "stream",
       "stream": "stderr",
       "text": [
        "WARNING:DEBUG.aietes.Node[n2].Layercake.CSMA4FBR:I think I have pending data from None but I got something from None\n"
       ]
      },
      {
       "output_type": "stream",
       "stream": "stderr",
       "text": [
        "I think I have pending data from None but I got something from None\n"
       ]
      },
      {
       "output_type": "stream",
       "stream": "stderr",
       "text": [
        "\u001b[32m0.00     INFO   DEBUG:Gave node n3 a configured initial position: ['250', '250', '300'] (577)\u001b[0m\n"
       ]
      },
      {
       "output_type": "stream",
       "stream": "stderr",
       "text": [
        "INFO:DEBUG:Gave node n3 a configured initial position: ['250', '250', '300']\n"
       ]
      },
      {
       "output_type": "stream",
       "stream": "stderr",
       "text": [
        "Gave node n3 a configured initial position: ['250', '250', '300']\n"
       ]
      },
      {
       "output_type": "stream",
       "stream": "stderr",
       "text": [
        "\u001b[33m0.00     WARNING DEBUG.aietes.Node[n3].Layercake.CSMA4FBR:I think I have pending data from None but I got something from None (2067)\u001b[0m\n"
       ]
      },
      {
       "output_type": "stream",
       "stream": "stderr",
       "text": [
        "WARNING:DEBUG.aietes.Node[n3].Layercake.CSMA4FBR:I think I have pending data from None but I got something from None\n"
       ]
      },
      {
       "output_type": "stream",
       "stream": "stderr",
       "text": [
        "I think I have pending data from None but I got something from None\n"
       ]
      },
      {
       "output_type": "stream",
       "stream": "stderr",
       "text": [
        "\u001b[32m0.00     INFO   DEBUG:Gave node n4 a configured initial position: ['400', '270', '300'] (577)\u001b[0m\n"
       ]
      },
      {
       "output_type": "stream",
       "stream": "stderr",
       "text": [
        "INFO:DEBUG:Gave node n4 a configured initial position: ['400', '270', '300']\n"
       ]
      },
      {
       "output_type": "stream",
       "stream": "stderr",
       "text": [
        "Gave node n4 a configured initial position: ['400', '270', '300']\n"
       ]
      },
      {
       "output_type": "stream",
       "stream": "stderr",
       "text": [
        "\u001b[33m0.00     WARNING DEBUG.aietes.Node[n4].Layercake.CSMA4FBR:I think I have pending data from None but I got something from None (2067)\u001b[0m\n"
       ]
      },
      {
       "output_type": "stream",
       "stream": "stderr",
       "text": [
        "WARNING:DEBUG.aietes.Node[n4].Layercake.CSMA4FBR:I think I have pending data from None but I got something from None\n"
       ]
      },
      {
       "output_type": "stream",
       "stream": "stderr",
       "text": [
        "I think I have pending data from None but I got something from None\n"
       ]
      },
      {
       "output_type": "stream",
       "stream": "stderr",
       "text": [
        "\u001b[32m0.00     INFO   DEBUG:Gave node n5 a configured initial position: ['400', '330', '300'] (577)\u001b[0m\n"
       ]
      },
      {
       "output_type": "stream",
       "stream": "stderr",
       "text": [
        "INFO:DEBUG:Gave node n5 a configured initial position: ['400', '330', '300']\n"
       ]
      },
      {
       "output_type": "stream",
       "stream": "stderr",
       "text": [
        "Gave node n5 a configured initial position: ['400', '330', '300']\n"
       ]
      },
      {
       "output_type": "stream",
       "stream": "stderr",
       "text": [
        "\u001b[33m0.00     WARNING DEBUG.aietes.Node[n5].Layercake.CSMA4FBR:I think I have pending data from None but I got something from None (2067)\u001b[0m\n"
       ]
      },
      {
       "output_type": "stream",
       "stream": "stderr",
       "text": [
        "WARNING:DEBUG.aietes.Node[n5].Layercake.CSMA4FBR:I think I have pending data from None but I got something from None\n"
       ]
      },
      {
       "output_type": "stream",
       "stream": "stderr",
       "text": [
        "I think I have pending data from None but I got something from None\n"
       ]
      },
      {
       "output_type": "stream",
       "stream": "stderr",
       "text": [
        "\u001b[32m0.00     INFO   DEBUG.aietes.Fleet:creating Fleet instance with 6 nodes (52)\u001b[0m\n"
       ]
      },
      {
       "output_type": "stream",
       "stream": "stderr",
       "text": [
        "INFO:DEBUG.aietes.Fleet:creating Fleet instance with 6 nodes\n"
       ]
      },
      {
       "output_type": "stream",
       "stream": "stderr",
       "text": [
        "creating Fleet instance with 6 nodes\n"
       ]
      },
      {
       "output_type": "stream",
       "stream": "stderr",
       "text": [
        "\u001b[32m0.00     INFO   DEBUG:Initialising Simulation DEBUG, to run for 1200.0 steps (185)\u001b[0m\n"
       ]
      },
      {
       "output_type": "stream",
       "stream": "stderr",
       "text": [
        "INFO:DEBUG:Initialising Simulation DEBUG, to run for 1200.0 steps\n"
       ]
      },
      {
       "output_type": "stream",
       "stream": "stderr",
       "text": [
        "Initialising Simulation DEBUG, to run for 1200.0 steps\n"
       ]
      },
      {
       "output_type": "stream",
       "stream": "stderr",
       "text": [
        "\u001b[32m55.00    INFO   DEBUG.aietes.Node[n1].App:CommsTrustRoundRobin:Synchronising counters: ['n0', 'n2', 'n3', 'n4', 'n5'] not in rx and ['n0', 'n2', 'n3', 'n4', 'n5'] not in tx, [] not in total (443)\u001b[0m\n"
       ]
      },
      {
       "output_type": "stream",
       "stream": "stderr",
       "text": [
        "INFO:DEBUG.aietes.Node[n1].App:CommsTrustRoundRobin:Synchronising counters: ['n0', 'n2', 'n3', 'n4', 'n5'] not in rx and ['n0', 'n2', 'n3', 'n4', 'n5'] not in tx, [] not in total\n"
       ]
      },
      {
       "output_type": "stream",
       "stream": "stderr",
       "text": [
        "Synchronising counters: ['n0', 'n2', 'n3', 'n4', 'n5'] not in rx and ['n0', 'n2', 'n3', 'n4', 'n5'] not in tx, [] not in total\n"
       ]
      },
      {
       "output_type": "stream",
       "stream": "stderr",
       "text": [
        "\u001b[32m55.65    INFO   DEBUG.aietes.Node[n0].App:CommsTrustRoundRobin:Synchronising counters: ['n1', 'n2', 'n3', 'n4', 'n5'] not in rx and ['n1', 'n2', 'n3', 'n4', 'n5'] not in tx, [] not in total (443)\u001b[0m\n"
       ]
      },
      {
       "output_type": "stream",
       "stream": "stderr",
       "text": [
        "INFO:DEBUG.aietes.Node[n0].App:CommsTrustRoundRobin:Synchronising counters: ['n1', 'n2', 'n3', 'n4', 'n5'] not in rx and ['n1', 'n2', 'n3', 'n4', 'n5'] not in tx, [] not in total\n"
       ]
      },
      {
       "output_type": "stream",
       "stream": "stderr",
       "text": [
        "Synchronising counters: ['n1', 'n2', 'n3', 'n4', 'n5'] not in rx and ['n1', 'n2', 'n3', 'n4', 'n5'] not in tx, [] not in total\n"
       ]
      },
      {
       "output_type": "stream",
       "stream": "stderr",
       "text": [
        "\u001b[32m55.71    INFO   DEBUG.aietes.Node[n1].App:CommsTrustRoundRobin:Confirmed TX of n10 to n0 at 55.7147373676 after 0.714737367574 (112)\u001b[0m\n"
       ]
      },
      {
       "output_type": "stream",
       "stream": "stderr",
       "text": [
        "INFO:DEBUG.aietes.Node[n1].App:CommsTrustRoundRobin:Confirmed TX of n10 to n0 at 55.7147373676 after 0.714737367574\n"
       ]
      },
      {
       "output_type": "stream",
       "stream": "stderr",
       "text": [
        "Confirmed TX of n10 to n0 at 55.7147373676 after 0.714737367574\n"
       ]
      },
      {
       "output_type": "stream",
       "stream": "stderr",
       "text": [
        "\u001b[32m57.00    INFO   DEBUG.aietes.Node[n5].App:CommsTrustRoundRobin:Synchronising counters: ['n0', 'n1', 'n2', 'n3', 'n4'] not in rx and ['n0', 'n1', 'n2', 'n3', 'n4'] not in tx, [] not in total (443)\u001b[0m\n"
       ]
      },
      {
       "output_type": "stream",
       "stream": "stderr",
       "text": [
        "INFO:DEBUG.aietes.Node[n5].App:CommsTrustRoundRobin:Synchronising counters: ['n0', 'n1', 'n2', 'n3', 'n4'] not in rx and ['n0', 'n1', 'n2', 'n3', 'n4'] not in tx, [] not in total\n"
       ]
      },
      {
       "output_type": "stream",
       "stream": "stderr",
       "text": [
        "Synchronising counters: ['n0', 'n1', 'n2', 'n3', 'n4'] not in rx and ['n0', 'n1', 'n2', 'n3', 'n4'] not in tx, [] not in total\n"
       ]
      },
      {
       "output_type": "stream",
       "stream": "stderr",
       "text": [
        "\u001b[32m63.00    INFO   DEBUG.aietes.Node[n3].App:CommsTrustRoundRobin:Synchronising counters: ['n0', 'n1', 'n2', 'n4', 'n5'] not in rx and ['n0', 'n1', 'n2', 'n4', 'n5'] not in tx, [] not in total (443)\u001b[0m\n"
       ]
      },
      {
       "output_type": "stream",
       "stream": "stderr",
       "text": [
        "INFO:DEBUG.aietes.Node[n3].App:CommsTrustRoundRobin:Synchronising counters: ['n0', 'n1', 'n2', 'n4', 'n5'] not in rx and ['n0', 'n1', 'n2', 'n4', 'n5'] not in tx, [] not in total\n"
       ]
      },
      {
       "output_type": "stream",
       "stream": "stderr",
       "text": [
        "Synchronising counters: ['n0', 'n1', 'n2', 'n4', 'n5'] not in rx and ['n0', 'n1', 'n2', 'n4', 'n5'] not in tx, [] not in total\n"
       ]
      },
      {
       "output_type": "stream",
       "stream": "stderr",
       "text": [
        "\u001b[32m63.58    INFO   DEBUG.aietes.Node[n5].App:CommsTrustRoundRobin:Confirmed TX of n50 to n0 at 63.5756872485 after 6.57568724852 (112)\u001b[0m\n"
       ]
      },
      {
       "output_type": "stream",
       "stream": "stderr",
       "text": [
        "INFO:DEBUG.aietes.Node[n5].App:CommsTrustRoundRobin:Confirmed TX of n50 to n0 at 63.5756872485 after 6.57568724852\n"
       ]
      },
      {
       "output_type": "stream",
       "stream": "stderr",
       "text": [
        "Confirmed TX of n50 to n0 at 63.5756872485 after 6.57568724852\n"
       ]
      },
      {
       "output_type": "stream",
       "stream": "stderr",
       "text": [
        "\u001b[32m65.00    INFO   DEBUG.aietes.Node[n4].App:CommsTrustRoundRobin:Synchronising counters: ['n0', 'n1', 'n2', 'n3', 'n5'] not in rx and ['n0', 'n1', 'n2', 'n3', 'n5'] not in tx, [] not in total (443)\u001b[0m\n"
       ]
      },
      {
       "output_type": "stream",
       "stream": "stderr",
       "text": [
        "INFO:DEBUG.aietes.Node[n4].App:CommsTrustRoundRobin:Synchronising counters: ['n0', 'n1', 'n2', 'n3', 'n5'] not in rx and ['n0', 'n1', 'n2', 'n3', 'n5'] not in tx, [] not in total\n"
       ]
      },
      {
       "output_type": "stream",
       "stream": "stderr",
       "text": [
        "Synchronising counters: ['n0', 'n1', 'n2', 'n3', 'n5'] not in rx and ['n0', 'n1', 'n2', 'n3', 'n5'] not in tx, [] not in total\n"
       ]
      },
      {
       "output_type": "stream",
       "stream": "stderr",
       "text": [
        "\u001b[32m66.00    INFO   DEBUG.aietes.Node[n2].App:CommsTrustRoundRobin:Synchronising counters: ['n0', 'n1', 'n3', 'n4', 'n5'] not in rx and ['n0', 'n1', 'n3', 'n4', 'n5'] not in tx, [] not in total (443)\u001b[0m\n"
       ]
      },
      {
       "output_type": "stream",
       "stream": "stderr",
       "text": [
        "INFO:DEBUG.aietes.Node[n2].App:CommsTrustRoundRobin:Synchronising counters: ['n0', 'n1', 'n3', 'n4', 'n5'] not in rx and ['n0', 'n1', 'n3', 'n4', 'n5'] not in tx, [] not in total\n"
       ]
      },
      {
       "output_type": "stream",
       "stream": "stderr",
       "text": [
        "Synchronising counters: ['n0', 'n1', 'n3', 'n4', 'n5'] not in rx and ['n0', 'n1', 'n3', 'n4', 'n5'] not in tx, [] not in total\n"
       ]
      },
      {
       "output_type": "stream",
       "stream": "stderr",
       "text": [
        "\u001b[32m70.36    INFO   DEBUG.aietes.Node[n0].App:CommsTrustRoundRobin:Confirmed TX of n00 to n2 at 70.3554149028 after 4.35541490285 (112)\u001b[0m\n"
       ]
      },
      {
       "output_type": "stream",
       "stream": "stderr",
       "text": [
        "INFO:DEBUG.aietes.Node[n0].App:CommsTrustRoundRobin:Confirmed TX of n00 to n2 at 70.3554149028 after 4.35541490285\n"
       ]
      },
      {
       "output_type": "stream",
       "stream": "stderr",
       "text": [
        "Confirmed TX of n00 to n2 at 70.3554149028 after 4.35541490285\n"
       ]
      },
      {
       "output_type": "stream",
       "stream": "stderr",
       "text": [
        "\u001b[32m77.71    INFO   DEBUG.aietes.Node[n3].App:CommsTrustRoundRobin:Confirmed TX of n30 to n4 at 77.7084242365 after 14.7084242365 (112)\u001b[0m\n"
       ]
      },
      {
       "output_type": "stream",
       "stream": "stderr",
       "text": [
        "INFO:DEBUG.aietes.Node[n3].App:CommsTrustRoundRobin:Confirmed TX of n30 to n4 at 77.7084242365 after 14.7084242365\n"
       ]
      },
      {
       "output_type": "stream",
       "stream": "stderr",
       "text": [
        "Confirmed TX of n30 to n4 at 77.7084242365 after 14.7084242365\n"
       ]
      },
      {
       "output_type": "stream",
       "stream": "stderr",
       "text": [
        "\u001b[32m82.86    INFO   DEBUG.aietes.Node[n2].App:CommsTrustRoundRobin:Confirmed TX of n20 to n3 at 82.8629653917 after 16.8629653917 (112)\u001b[0m\n"
       ]
      },
      {
       "output_type": "stream",
       "stream": "stderr",
       "text": [
        "INFO:DEBUG.aietes.Node[n2].App:CommsTrustRoundRobin:Confirmed TX of n20 to n3 at 82.8629653917 after 16.8629653917\n"
       ]
      },
      {
       "output_type": "stream",
       "stream": "stderr",
       "text": [
        "Confirmed TX of n20 to n3 at 82.8629653917 after 16.8629653917\n"
       ]
      },
      {
       "output_type": "stream",
       "stream": "stderr",
       "text": [
        "\u001b[32m86.64    INFO   DEBUG.aietes.Node[n1].App:CommsTrustRoundRobin:Confirmed TX of n11 to n2 at 86.6361083155 after 0.636108315544 (112)\u001b[0m\n"
       ]
      },
      {
       "output_type": "stream",
       "stream": "stderr",
       "text": [
        "INFO:DEBUG.aietes.Node[n1].App:CommsTrustRoundRobin:Confirmed TX of n11 to n2 at 86.6361083155 after 0.636108315544\n"
       ]
      },
      {
       "output_type": "stream",
       "stream": "stderr",
       "text": [
        "Confirmed TX of n11 to n2 at 86.6361083155 after 0.636108315544\n"
       ]
      },
      {
       "output_type": "stream",
       "stream": "stderr",
       "text": [
        "\u001b[32m92.35    INFO   DEBUG.aietes.Node[n4].App:CommsTrustRoundRobin:Confirmed TX of n40 to n5 at 92.3516941756 after 27.3516941756 (112)\u001b[0m\n"
       ]
      },
      {
       "output_type": "stream",
       "stream": "stderr",
       "text": [
        "INFO:DEBUG.aietes.Node[n4].App:CommsTrustRoundRobin:Confirmed TX of n40 to n5 at 92.3516941756 after 27.3516941756\n"
       ]
      },
      {
       "output_type": "stream",
       "stream": "stderr",
       "text": [
        "Confirmed TX of n40 to n5 at 92.3516941756 after 27.3516941756\n"
       ]
      },
      {
       "output_type": "stream",
       "stream": "stderr",
       "text": [
        "\u001b[32m96.64    INFO   DEBUG.aietes.Node[n0].App:CommsTrustRoundRobin:Confirmed TX of n01 to n3 at 96.6361083155 after 0.636108315544 (112)\u001b[0m\n"
       ]
      },
      {
       "output_type": "stream",
       "stream": "stderr",
       "text": [
        "INFO:DEBUG.aietes.Node[n0].App:CommsTrustRoundRobin:Confirmed TX of n01 to n3 at 96.6361083155 after 0.636108315544\n"
       ]
      },
      {
       "output_type": "stream",
       "stream": "stderr",
       "text": [
        "Confirmed TX of n01 to n3 at 96.6361083155 after 0.636108315544\n"
       ]
      },
      {
       "output_type": "stream",
       "stream": "stderr",
       "text": [
        "\u001b[32m100.90   INFO   DEBUG.aietes.Node[n2].App:CommsTrustRoundRobin:Confirmed TX of n21 to n4 at 100.902656831 after 0.902656830662 (112)\u001b[0m\n"
       ]
      },
      {
       "output_type": "stream",
       "stream": "stderr",
       "text": [
        "INFO:DEBUG.aietes.Node[n2].App:CommsTrustRoundRobin:Confirmed TX of n21 to n4 at 100.902656831 after 0.902656830662\n"
       ]
      },
      {
       "output_type": "stream",
       "stream": "stderr",
       "text": [
        "Confirmed TX of n21 to n4 at 100.902656831 after 0.902656830662\n"
       ]
      },
      {
       "output_type": "stream",
       "stream": "stderr",
       "text": [
        "\u001b[32m112.90   INFO   DEBUG.aietes.Node[n5].App:CommsTrustRoundRobin:Confirmed TX of n51 to n3 at 112.902656831 after 0.902656830662 (112)\u001b[0m\n"
       ]
      },
      {
       "output_type": "stream",
       "stream": "stderr",
       "text": [
        "INFO:DEBUG.aietes.Node[n5].App:CommsTrustRoundRobin:Confirmed TX of n51 to n3 at 112.902656831 after 0.902656830662\n"
       ]
      },
      {
       "output_type": "stream",
       "stream": "stderr",
       "text": [
        "Confirmed TX of n51 to n3 at 112.902656831 after 0.902656830662\n"
       ]
      },
      {
       "output_type": "stream",
       "stream": "stderr",
       "text": [
        "\u001b[32m117.12   INFO   DEBUG.aietes.Node[n3].App:CommsTrustRoundRobin:Confirmed TX of n31 to n1 at 117.121514221 after 2.12151422112 (112)\u001b[0m\n"
       ]
      },
      {
       "output_type": "stream",
       "stream": "stderr",
       "text": [
        "INFO:DEBUG.aietes.Node[n3].App:CommsTrustRoundRobin:Confirmed TX of n31 to n1 at 117.121514221 after 2.12151422112\n"
       ]
      },
      {
       "output_type": "stream",
       "stream": "stderr",
       "text": [
        "Confirmed TX of n31 to n1 at 117.121514221 after 2.12151422112\n"
       ]
      },
      {
       "output_type": "stream",
       "stream": "stderr",
       "text": [
        "\u001b[32m122.81   INFO   DEBUG.aietes.Node[n4].App:CommsTrustRoundRobin:Confirmed TX of n41 to n0 at 122.814136191 after 24.8141361905 (112)\u001b[0m\n"
       ]
      },
      {
       "output_type": "stream",
       "stream": "stderr",
       "text": [
        "INFO:DEBUG.aietes.Node[n4].App:CommsTrustRoundRobin:Confirmed TX of n41 to n0 at 122.814136191 after 24.8141361905\n"
       ]
      },
      {
       "output_type": "stream",
       "stream": "stderr",
       "text": [
        "Confirmed TX of n41 to n0 at 122.814136191 after 24.8141361905\n"
       ]
      },
      {
       "output_type": "stream",
       "stream": "stderr",
       "text": [
        "\u001b[32m123.99   INFO   DEBUG.aietes.Node[n0].App:CommsTrustRoundRobin:Confirmed TX of n02 to n4 at 123.989200412 after 0.989200412304 (112)\u001b[0m\n"
       ]
      },
      {
       "output_type": "stream",
       "stream": "stderr",
       "text": [
        "INFO:DEBUG.aietes.Node[n0].App:CommsTrustRoundRobin:Confirmed TX of n02 to n4 at 123.989200412 after 0.989200412304\n"
       ]
      },
      {
       "output_type": "stream",
       "stream": "stderr",
       "text": [
        "Confirmed TX of n02 to n4 at 123.989200412 after 0.989200412304\n"
       ]
      },
      {
       "output_type": "stream",
       "stream": "stderr",
       "text": [
        "\u001b[32m126.96   INFO   DEBUG.aietes.Node[n1].App:CommsTrustRoundRobin:Confirmed TX of n12 to n5 at 126.95914063 after 2.95914063024 (112)\u001b[0m\n"
       ]
      },
      {
       "output_type": "stream",
       "stream": "stderr",
       "text": [
        "INFO:DEBUG.aietes.Node[n1].App:CommsTrustRoundRobin:Confirmed TX of n12 to n5 at 126.95914063 after 2.95914063024\n"
       ]
      },
      {
       "output_type": "stream",
       "stream": "stderr",
       "text": [
        "Confirmed TX of n12 to n5 at 126.95914063 after 2.95914063024\n"
       ]
      },
      {
       "output_type": "stream",
       "stream": "stderr",
       "text": [
        "\u001b[32m140.73   INFO   DEBUG.aietes.Node[n4].App:CommsTrustRoundRobin:Confirmed TX of n42 to n1 at 140.726557677 after 0.726557676538 (112)\u001b[0m\n"
       ]
      },
      {
       "output_type": "stream",
       "stream": "stderr",
       "text": [
        "INFO:DEBUG.aietes.Node[n4].App:CommsTrustRoundRobin:Confirmed TX of n42 to n1 at 140.726557677 after 0.726557676538\n"
       ]
      },
      {
       "output_type": "stream",
       "stream": "stderr",
       "text": [
        "Confirmed TX of n42 to n1 at 140.726557677 after 0.726557676538\n"
       ]
      },
      {
       "output_type": "stream",
       "stream": "stderr",
       "text": [
        "\u001b[32m146.85   INFO   DEBUG.aietes.Node[n2].App:CommsTrustRoundRobin:Confirmed TX of n22 to n5 at 146.852529205 after 0.85252920517 (112)\u001b[0m\n"
       ]
      },
      {
       "output_type": "stream",
       "stream": "stderr",
       "text": [
        "INFO:DEBUG.aietes.Node[n2].App:CommsTrustRoundRobin:Confirmed TX of n22 to n5 at 146.852529205 after 0.85252920517\n"
       ]
      },
      {
       "output_type": "stream",
       "stream": "stderr",
       "text": [
        "Confirmed TX of n22 to n5 at 146.852529205 after 0.85252920517\n"
       ]
      },
      {
       "output_type": "stream",
       "stream": "stderr",
       "text": [
        "\u001b[32m152.64   INFO   DEBUG.aietes.Node[n3].App:CommsTrustRoundRobin:Confirmed TX of n32 to n0 at 152.636108316 after 0.636108315544 (112)\u001b[0m\n"
       ]
      },
      {
       "output_type": "stream",
       "stream": "stderr",
       "text": [
        "INFO:DEBUG.aietes.Node[n3].App:CommsTrustRoundRobin:Confirmed TX of n32 to n0 at 152.636108316 after 0.636108315544\n"
       ]
      },
      {
       "output_type": "stream",
       "stream": "stderr",
       "text": [
        "Confirmed TX of n32 to n0 at 152.636108316 after 0.636108315544\n"
       ]
      },
      {
       "output_type": "stream",
       "stream": "stderr",
       "text": [
        "\u001b[32m156.64   INFO   DEBUG.aietes.Node[n1].App:CommsTrustRoundRobin:Confirmed TX of n13 to n3 at 156.636108316 after 0.636108315544 (112)\u001b[0m\n"
       ]
      },
      {
       "output_type": "stream",
       "stream": "stderr",
       "text": [
        "INFO:DEBUG.aietes.Node[n1].App:CommsTrustRoundRobin:Confirmed TX of n13 to n3 at 156.636108316 after 0.636108315544\n"
       ]
      },
      {
       "output_type": "stream",
       "stream": "stderr",
       "text": [
        "Confirmed TX of n13 to n3 at 156.636108316 after 0.636108315544\n"
       ]
      },
      {
       "output_type": "stream",
       "stream": "stderr",
       "text": [
        "\u001b[32m167.70   INFO   DEBUG.aietes.Node[n5].App:CommsTrustRoundRobin:Confirmed TX of n52 to n2 at 167.698865159 after 12.6988651594 (112)\u001b[0m\n"
       ]
      },
      {
       "output_type": "stream",
       "stream": "stderr",
       "text": [
        "INFO:DEBUG.aietes.Node[n5].App:CommsTrustRoundRobin:Confirmed TX of n52 to n2 at 167.698865159 after 12.6988651594\n"
       ]
      },
      {
       "output_type": "stream",
       "stream": "stderr",
       "text": [
        "Confirmed TX of n52 to n2 at 167.698865159 after 12.6988651594\n"
       ]
      },
      {
       "output_type": "stream",
       "stream": "stderr",
       "text": [
        "\u001b[32m172.65   INFO   DEBUG.aietes.Node[n4].App:CommsTrustRoundRobin:Confirmed TX of n43 to n2 at 172.650502361 after 5.65050236092 (112)\u001b[0m\n"
       ]
      },
      {
       "output_type": "stream",
       "stream": "stderr",
       "text": [
        "INFO:DEBUG.aietes.Node[n4].App:CommsTrustRoundRobin:Confirmed TX of n43 to n2 at 172.650502361 after 5.65050236092\n"
       ]
      },
      {
       "output_type": "stream",
       "stream": "stderr",
       "text": [
        "Confirmed TX of n43 to n2 at 172.650502361 after 5.65050236092\n"
       ]
      },
      {
       "output_type": "stream",
       "stream": "stderr",
       "text": [
        "\u001b[32m181.03   INFO   DEBUG.aietes.Node[n0].App:CommsTrustRoundRobin:Confirmed TX of n03 to n1 at 181.031260433 after 7.03126043308 (112)\u001b[0m\n"
       ]
      },
      {
       "output_type": "stream",
       "stream": "stderr",
       "text": [
        "INFO:DEBUG.aietes.Node[n0].App:CommsTrustRoundRobin:Confirmed TX of n03 to n1 at 181.031260433 after 7.03126043308\n"
       ]
      },
      {
       "output_type": "stream",
       "stream": "stderr",
       "text": [
        "Confirmed TX of n03 to n1 at 181.031260433 after 7.03126043308\n"
       ]
      },
      {
       "output_type": "stream",
       "stream": "stderr",
       "text": [
        "\u001b[32m186.28   INFO   DEBUG.aietes.Node[n2].App:CommsTrustRoundRobin:Confirmed TX of n23 to n3 at 186.2807261 after 3.28072609988 (112)\u001b[0m\n"
       ]
      },
      {
       "output_type": "stream",
       "stream": "stderr",
       "text": [
        "INFO:DEBUG.aietes.Node[n2].App:CommsTrustRoundRobin:Confirmed TX of n23 to n3 at 186.2807261 after 3.28072609988\n"
       ]
      },
      {
       "output_type": "stream",
       "stream": "stderr",
       "text": [
        "Confirmed TX of n23 to n3 at 186.2807261 after 3.28072609988\n"
       ]
      },
      {
       "output_type": "stream",
       "stream": "stderr",
       "text": [
        "\u001b[32m194.73   INFO   DEBUG.aietes.Node[n1].App:CommsTrustRoundRobin:Confirmed TX of n14 to n4 at 194.726557677 after 0.726557676538 (112)\u001b[0m\n"
       ]
      },
      {
       "output_type": "stream",
       "stream": "stderr",
       "text": [
        "INFO:DEBUG.aietes.Node[n1].App:CommsTrustRoundRobin:Confirmed TX of n14 to n4 at 194.726557677 after 0.726557676538\n"
       ]
      },
      {
       "output_type": "stream",
       "stream": "stderr",
       "text": [
        "Confirmed TX of n14 to n4 at 194.726557677 after 0.726557676538\n"
       ]
      },
      {
       "output_type": "stream",
       "stream": "stderr",
       "text": [
        "\u001b[32m198.08   INFO   DEBUG.aietes.Node[n3].App:CommsTrustRoundRobin:Confirmed TX of n33 to n5 at 198.083655907 after 16.0836559073 (112)\u001b[0m\n"
       ]
      },
      {
       "output_type": "stream",
       "stream": "stderr",
       "text": [
        "INFO:DEBUG.aietes.Node[n3].App:CommsTrustRoundRobin:Confirmed TX of n33 to n5 at 198.083655907 after 16.0836559073\n"
       ]
      },
      {
       "output_type": "stream",
       "stream": "stderr",
       "text": [
        "Confirmed TX of n33 to n5 at 198.083655907 after 16.0836559073\n"
       ]
      },
      {
       "output_type": "stream",
       "stream": "stderr",
       "text": [
        "\u001b[32m203.73   INFO   DEBUG.aietes.Node[n5].App:CommsTrustRoundRobin:Confirmed TX of n53 to n1 at 203.726557677 after 0.726557676538 (112)\u001b[0m\n"
       ]
      },
      {
       "output_type": "stream",
       "stream": "stderr",
       "text": [
        "INFO:DEBUG.aietes.Node[n5].App:CommsTrustRoundRobin:Confirmed TX of n53 to n1 at 203.726557677 after 0.726557676538\n"
       ]
      },
      {
       "output_type": "stream",
       "stream": "stderr",
       "text": [
        "Confirmed TX of n53 to n1 at 203.726557677 after 0.726557676538\n"
       ]
      },
      {
       "output_type": "stream",
       "stream": "stderr",
       "text": [
        "\u001b[32m209.64   INFO   DEBUG.aietes.Node[n0].App:CommsTrustRoundRobin:Confirmed TX of n04 to n2 at 209.636108316 after 0.636108315544 (112)\u001b[0m\n"
       ]
      },
      {
       "output_type": "stream",
       "stream": "stderr",
       "text": [
        "INFO:DEBUG.aietes.Node[n0].App:CommsTrustRoundRobin:Confirmed TX of n04 to n2 at 209.636108316 after 0.636108315544\n"
       ]
      },
      {
       "output_type": "stream",
       "stream": "stderr",
       "text": [
        "Confirmed TX of n04 to n2 at 209.636108316 after 0.636108315544\n"
       ]
      },
      {
       "output_type": "stream",
       "stream": "stderr",
       "text": [
        "\u001b[32m215.36   INFO   DEBUG.aietes.Node[n4].App:CommsTrustRoundRobin:Confirmed TX of n44 to n3 at 215.362941298 after 3.36294129759 (112)\u001b[0m\n"
       ]
      },
      {
       "output_type": "stream",
       "stream": "stderr",
       "text": [
        "INFO:DEBUG.aietes.Node[n4].App:CommsTrustRoundRobin:Confirmed TX of n44 to n3 at 215.362941298 after 3.36294129759\n"
       ]
      },
      {
       "output_type": "stream",
       "stream": "stderr",
       "text": [
        "Confirmed TX of n44 to n3 at 215.362941298 after 3.36294129759\n"
       ]
      },
      {
       "output_type": "stream",
       "stream": "stderr",
       "text": [
        "\u001b[32m218.64   INFO   DEBUG.aietes.Node[n2].App:CommsTrustRoundRobin:Confirmed TX of n24 to n1 at 218.636108316 after 0.636108315544 (112)\u001b[0m\n"
       ]
      },
      {
       "output_type": "stream",
       "stream": "stderr",
       "text": [
        "INFO:DEBUG.aietes.Node[n2].App:CommsTrustRoundRobin:Confirmed TX of n24 to n1 at 218.636108316 after 0.636108315544\n"
       ]
      },
      {
       "output_type": "stream",
       "stream": "stderr",
       "text": [
        "Confirmed TX of n24 to n1 at 218.636108316 after 0.636108315544\n"
       ]
      },
      {
       "output_type": "stream",
       "stream": "stderr",
       "text": [
        "\u001b[32m222.71   INFO   DEBUG.aietes.Node[n3].App:CommsTrustRoundRobin:Confirmed TX of n34 to n2 at 222.714737368 after 0.714737367574 (112)\u001b[0m\n"
       ]
      },
      {
       "output_type": "stream",
       "stream": "stderr",
       "text": [
        "INFO:DEBUG.aietes.Node[n3].App:CommsTrustRoundRobin:Confirmed TX of n34 to n2 at 222.714737368 after 0.714737367574\n"
       ]
      },
      {
       "output_type": "stream",
       "stream": "stderr",
       "text": [
        "Confirmed TX of n34 to n2 at 222.714737368 after 0.714737367574\n"
       ]
      },
      {
       "output_type": "stream",
       "stream": "stderr",
       "text": [
        "\u001b[32m235.71   INFO   DEBUG.aietes.Node[n1].App:CommsTrustRoundRobin:Confirmed TX of n15 to n0 at 235.714737368 after 0.714737367574 (112)\u001b[0m\n"
       ]
      },
      {
       "output_type": "stream",
       "stream": "stderr",
       "text": [
        "INFO:DEBUG.aietes.Node[n1].App:CommsTrustRoundRobin:Confirmed TX of n15 to n0 at 235.714737368 after 0.714737367574\n"
       ]
      },
      {
       "output_type": "stream",
       "stream": "stderr",
       "text": [
        "Confirmed TX of n15 to n0 at 235.714737368 after 0.714737367574\n"
       ]
      },
      {
       "output_type": "stream",
       "stream": "stderr",
       "text": [
        "\u001b[32m247.61   INFO   DEBUG.aietes.Node[n4].App:CommsTrustRoundRobin:Confirmed TX of n45 to n5 at 247.607354817 after 0.607354817239 (112)\u001b[0m\n"
       ]
      },
      {
       "output_type": "stream",
       "stream": "stderr",
       "text": [
        "INFO:DEBUG.aietes.Node[n4].App:CommsTrustRoundRobin:Confirmed TX of n45 to n5 at 247.607354817 after 0.607354817239\n"
       ]
      },
      {
       "output_type": "stream",
       "stream": "stderr",
       "text": [
        "Confirmed TX of n45 to n5 at 247.607354817 after 0.607354817239\n"
       ]
      },
      {
       "output_type": "stream",
       "stream": "stderr",
       "text": [
        "\u001b[32m256.59   INFO   DEBUG.aietes.Node[n0].App:CommsTrustRoundRobin:Confirmed TX of n05 to n5 at 256.591011336 after 17.5910113361 (112)\u001b[0m\n"
       ]
      },
      {
       "output_type": "stream",
       "stream": "stderr",
       "text": [
        "INFO:DEBUG.aietes.Node[n0].App:CommsTrustRoundRobin:Confirmed TX of n05 to n5 at 256.591011336 after 17.5910113361\n"
       ]
      },
      {
       "output_type": "stream",
       "stream": "stderr",
       "text": [
        "Confirmed TX of n05 to n5 at 256.591011336 after 17.5910113361\n"
       ]
      },
      {
       "output_type": "stream",
       "stream": "stderr",
       "text": [
        "\u001b[32m259.64   INFO   DEBUG.aietes.Node[n2].App:CommsTrustRoundRobin:Confirmed TX of n25 to n0 at 259.636108316 after 0.636108315544 (112)\u001b[0m\n"
       ]
      },
      {
       "output_type": "stream",
       "stream": "stderr",
       "text": [
        "INFO:DEBUG.aietes.Node[n2].App:CommsTrustRoundRobin:Confirmed TX of n25 to n0 at 259.636108316 after 0.636108315544\n"
       ]
      },
      {
       "output_type": "stream",
       "stream": "stderr",
       "text": [
        "Confirmed TX of n25 to n0 at 259.636108316 after 0.636108315544\n"
       ]
      },
      {
       "output_type": "stream",
       "stream": "stderr",
       "text": [
        "\u001b[32m269.90   INFO   DEBUG.aietes.Node[n3].App:CommsTrustRoundRobin:Confirmed TX of n35 to n5 at 269.902656831 after 0.902656830662 (112)\u001b[0m\n"
       ]
      },
      {
       "output_type": "stream",
       "stream": "stderr",
       "text": [
        "INFO:DEBUG.aietes.Node[n3].App:CommsTrustRoundRobin:Confirmed TX of n35 to n5 at 269.902656831 after 0.902656830662\n"
       ]
      },
      {
       "output_type": "stream",
       "stream": "stderr",
       "text": [
        "Confirmed TX of n35 to n5 at 269.902656831 after 0.902656830662\n"
       ]
      },
      {
       "output_type": "stream",
       "stream": "stderr",
       "text": [
        "\u001b[32m279.34   INFO   DEBUG.aietes.Node[n0].App:CommsTrustRoundRobin:Confirmed TX of n06 to n3 at 279.339127085 after 7.33912708542 (112)\u001b[0m\n"
       ]
      },
      {
       "output_type": "stream",
       "stream": "stderr",
       "text": [
        "INFO:DEBUG.aietes.Node[n0].App:CommsTrustRoundRobin:Confirmed TX of n06 to n3 at 279.339127085 after 7.33912708542\n"
       ]
      },
      {
       "output_type": "stream",
       "stream": "stderr",
       "text": [
        "Confirmed TX of n06 to n3 at 279.339127085 after 7.33912708542\n"
       ]
      },
      {
       "output_type": "stream",
       "stream": "stderr",
       "text": [
        "\u001b[32m284.04   INFO   DEBUG.aietes.Node[n1].App:CommsTrustRoundRobin:Confirmed TX of n16 to n4 at 284.037074059 after 3.03707405943 (112)\u001b[0m\n"
       ]
      },
      {
       "output_type": "stream",
       "stream": "stderr",
       "text": [
        "INFO:DEBUG.aietes.Node[n1].App:CommsTrustRoundRobin:Confirmed TX of n16 to n4 at 284.037074059 after 3.03707405943\n"
       ]
      },
      {
       "output_type": "stream",
       "stream": "stderr",
       "text": [
        "Confirmed TX of n16 to n4 at 284.037074059 after 3.03707405943\n"
       ]
      },
      {
       "output_type": "stream",
       "stream": "stderr",
       "text": [
        "\u001b[32m293.81   INFO   DEBUG.aietes.Node[n4].App:CommsTrustRoundRobin:Confirmed TX of n46 to n3 at 293.807428115 after 5.80742811503 (112)\u001b[0m\n"
       ]
      },
      {
       "output_type": "stream",
       "stream": "stderr",
       "text": [
        "INFO:DEBUG.aietes.Node[n4].App:CommsTrustRoundRobin:Confirmed TX of n46 to n3 at 293.807428115 after 5.80742811503\n"
       ]
      },
      {
       "output_type": "stream",
       "stream": "stderr",
       "text": [
        "Confirmed TX of n46 to n3 at 293.807428115 after 5.80742811503\n"
       ]
      },
      {
       "output_type": "stream",
       "stream": "stderr",
       "text": [
        "\u001b[32m299.99   INFO   DEBUG.aietes.Node[n0].App:CommsTrustRoundRobin:Confirmed TX of n07 to n4 at 299.989200412 after 0.989200412304 (112)\u001b[0m\n"
       ]
      },
      {
       "output_type": "stream",
       "stream": "stderr",
       "text": [
        "INFO:DEBUG.aietes.Node[n0].App:CommsTrustRoundRobin:Confirmed TX of n07 to n4 at 299.989200412 after 0.989200412304\n"
       ]
      },
      {
       "output_type": "stream",
       "stream": "stderr",
       "text": [
        "Confirmed TX of n07 to n4 at 299.989200412 after 0.989200412304\n"
       ]
      },
      {
       "output_type": "stream",
       "stream": "stderr",
       "text": [
        "\u001b[32m303.93   INFO   DEBUG.aietes.Node[n5].App:CommsTrustRoundRobin:Confirmed TX of n54 to n4 at 303.926290467 after 64.9262904674 (112)\u001b[0m\n"
       ]
      },
      {
       "output_type": "stream",
       "stream": "stderr",
       "text": [
        "INFO:DEBUG.aietes.Node[n5].App:CommsTrustRoundRobin:Confirmed TX of n54 to n4 at 303.926290467 after 64.9262904674\n"
       ]
      },
      {
       "output_type": "stream",
       "stream": "stderr",
       "text": [
        "Confirmed TX of n54 to n4 at 303.926290467 after 64.9262904674\n"
       ]
      },
      {
       "output_type": "stream",
       "stream": "stderr",
       "text": [
        "\u001b[32m310.85   INFO   DEBUG.aietes.Node[n2].App:CommsTrustRoundRobin:Confirmed TX of n26 to n5 at 310.847108694 after 4.84710869439 (112)\u001b[0m\n"
       ]
      },
      {
       "output_type": "stream",
       "stream": "stderr",
       "text": [
        "INFO:DEBUG.aietes.Node[n2].App:CommsTrustRoundRobin:Confirmed TX of n26 to n5 at 310.847108694 after 4.84710869439\n"
       ]
      },
      {
       "output_type": "stream",
       "stream": "stderr",
       "text": [
        "Confirmed TX of n26 to n5 at 310.847108694 after 4.84710869439\n"
       ]
      },
      {
       "output_type": "stream",
       "stream": "stderr",
       "text": [
        "\u001b[32m314.64   INFO   DEBUG.aietes.Node[n3].App:CommsTrustRoundRobin:Confirmed TX of n36 to n1 at 314.636108316 after 0.636108315544 (112)\u001b[0m\n"
       ]
      },
      {
       "output_type": "stream",
       "stream": "stderr",
       "text": [
        "INFO:DEBUG.aietes.Node[n3].App:CommsTrustRoundRobin:Confirmed TX of n36 to n1 at 314.636108316 after 0.636108315544\n"
       ]
      },
      {
       "output_type": "stream",
       "stream": "stderr",
       "text": [
        "Confirmed TX of n36 to n1 at 314.636108316 after 0.636108315544\n"
       ]
      },
      {
       "output_type": "stream",
       "stream": "stderr",
       "text": [
        "\u001b[32m320.09   INFO   DEBUG.aietes.Node[n1].App:CommsTrustRoundRobin:Confirmed TX of n17 to n2 at 320.088376648 after 5.08837664766 (112)\u001b[0m\n"
       ]
      },
      {
       "output_type": "stream",
       "stream": "stderr",
       "text": [
        "INFO:DEBUG.aietes.Node[n1].App:CommsTrustRoundRobin:Confirmed TX of n17 to n2 at 320.088376648 after 5.08837664766\n"
       ]
      },
      {
       "output_type": "stream",
       "stream": "stderr",
       "text": [
        "Confirmed TX of n17 to n2 at 320.088376648 after 5.08837664766\n"
       ]
      },
      {
       "output_type": "stream",
       "stream": "stderr",
       "text": [
        "\u001b[32m329.64   INFO   DEBUG.aietes.Node[n5].App:CommsTrustRoundRobin:Confirmed TX of n55 to n0 at 329.642248705 after 50.6422487054 (112)\u001b[0m\n"
       ]
      },
      {
       "output_type": "stream",
       "stream": "stderr",
       "text": [
        "INFO:DEBUG.aietes.Node[n5].App:CommsTrustRoundRobin:Confirmed TX of n55 to n0 at 329.642248705 after 50.6422487054\n"
       ]
      },
      {
       "output_type": "stream",
       "stream": "stderr",
       "text": [
        "Confirmed TX of n55 to n0 at 329.642248705 after 50.6422487054\n"
       ]
      },
      {
       "output_type": "stream",
       "stream": "stderr",
       "text": [
        "\u001b[32m334.96   INFO   DEBUG.aietes.Node[n5].App:CommsTrustRoundRobin:Confirmed TX of n56 to n1 at 334.960317491 after 4.96031749141 (112)\u001b[0m\n"
       ]
      },
      {
       "output_type": "stream",
       "stream": "stderr",
       "text": [
        "INFO:DEBUG.aietes.Node[n5].App:CommsTrustRoundRobin:Confirmed TX of n56 to n1 at 334.960317491 after 4.96031749141\n"
       ]
      },
      {
       "output_type": "stream",
       "stream": "stderr",
       "text": [
        "Confirmed TX of n56 to n1 at 334.960317491 after 4.96031749141\n"
       ]
      },
      {
       "output_type": "stream",
       "stream": "stderr",
       "text": [
        "\u001b[32m339.90   INFO   DEBUG.aietes.Node[n4].App:CommsTrustRoundRobin:Confirmed TX of n47 to n2 at 339.902656831 after 0.902656830662 (112)\u001b[0m\n"
       ]
      },
      {
       "output_type": "stream",
       "stream": "stderr",
       "text": [
        "INFO:DEBUG.aietes.Node[n4].App:CommsTrustRoundRobin:Confirmed TX of n47 to n2 at 339.902656831 after 0.902656830662\n"
       ]
      },
      {
       "output_type": "stream",
       "stream": "stderr",
       "text": [
        "Confirmed TX of n47 to n2 at 339.902656831 after 0.902656830662\n"
       ]
      },
      {
       "output_type": "stream",
       "stream": "stderr",
       "text": [
        "\u001b[32m346.64   INFO   DEBUG.aietes.Node[n0].App:CommsTrustRoundRobin:Confirmed TX of n08 to n3 at 346.636108316 after 0.636108315544 (112)\u001b[0m\n"
       ]
      },
      {
       "output_type": "stream",
       "stream": "stderr",
       "text": [
        "INFO:DEBUG.aietes.Node[n0].App:CommsTrustRoundRobin:Confirmed TX of n08 to n3 at 346.636108316 after 0.636108315544\n"
       ]
      },
      {
       "output_type": "stream",
       "stream": "stderr",
       "text": [
        "Confirmed TX of n08 to n3 at 346.636108316 after 0.636108315544\n"
       ]
      },
      {
       "output_type": "stream",
       "stream": "stderr",
       "text": [
        "\u001b[32m352.19   INFO   DEBUG.aietes.Node[n2].App:CommsTrustRoundRobin:Confirmed TX of n27 to n1 at 352.189462939 after 3.18946293879 (112)\u001b[0m\n"
       ]
      },
      {
       "output_type": "stream",
       "stream": "stderr",
       "text": [
        "INFO:DEBUG.aietes.Node[n2].App:CommsTrustRoundRobin:Confirmed TX of n27 to n1 at 352.189462939 after 3.18946293879\n"
       ]
      },
      {
       "output_type": "stream",
       "stream": "stderr",
       "text": [
        "Confirmed TX of n27 to n1 at 352.189462939 after 3.18946293879\n"
       ]
      },
      {
       "output_type": "stream",
       "stream": "stderr",
       "text": [
        "\u001b[32m355.73   INFO   DEBUG.aietes.Node[n1].App:CommsTrustRoundRobin:Confirmed TX of n18 to n4 at 355.726557677 after 0.726557676538 (112)\u001b[0m\n"
       ]
      },
      {
       "output_type": "stream",
       "stream": "stderr",
       "text": [
        "INFO:DEBUG.aietes.Node[n1].App:CommsTrustRoundRobin:Confirmed TX of n18 to n4 at 355.726557677 after 0.726557676538\n"
       ]
      },
      {
       "output_type": "stream",
       "stream": "stderr",
       "text": [
        "Confirmed TX of n18 to n4 at 355.726557677 after 0.726557676538\n"
       ]
      },
      {
       "output_type": "stream",
       "stream": "stderr",
       "text": [
        "\u001b[32m363.79   INFO   DEBUG.aietes.Node[n3].App:CommsTrustRoundRobin:Confirmed TX of n37 to n4 at 363.788357649 after 9.78835764909 (112)\u001b[0m\n"
       ]
      },
      {
       "output_type": "stream",
       "stream": "stderr",
       "text": [
        "INFO:DEBUG.aietes.Node[n3].App:CommsTrustRoundRobin:Confirmed TX of n37 to n4 at 363.788357649 after 9.78835764909\n"
       ]
      },
      {
       "output_type": "stream",
       "stream": "stderr",
       "text": [
        "Confirmed TX of n37 to n4 at 363.788357649 after 9.78835764909\n"
       ]
      },
      {
       "output_type": "stream",
       "stream": "stderr",
       "text": [
        "\u001b[32m371.99   INFO   DEBUG.aietes.Node[n4].App:CommsTrustRoundRobin:Confirmed TX of n48 to n0 at 371.989200412 after 0.989200412304 (112)\u001b[0m\n"
       ]
      },
      {
       "output_type": "stream",
       "stream": "stderr",
       "text": [
        "INFO:DEBUG.aietes.Node[n4].App:CommsTrustRoundRobin:Confirmed TX of n48 to n0 at 371.989200412 after 0.989200412304\n"
       ]
      },
      {
       "output_type": "stream",
       "stream": "stderr",
       "text": [
        "Confirmed TX of n48 to n0 at 371.989200412 after 0.989200412304\n"
       ]
      },
      {
       "output_type": "stream",
       "stream": "stderr",
       "text": [
        "\u001b[32m383.51   INFO   DEBUG.aietes.Node[n2].App:CommsTrustRoundRobin:Confirmed TX of n28 to n4 at 383.510820056 after 5.51082005551 (112)\u001b[0m\n"
       ]
      },
      {
       "output_type": "stream",
       "stream": "stderr",
       "text": [
        "INFO:DEBUG.aietes.Node[n2].App:CommsTrustRoundRobin:Confirmed TX of n28 to n4 at 383.510820056 after 5.51082005551\n"
       ]
      },
      {
       "output_type": "stream",
       "stream": "stderr",
       "text": [
        "Confirmed TX of n28 to n4 at 383.510820056 after 5.51082005551\n"
       ]
      },
      {
       "output_type": "stream",
       "stream": "stderr",
       "text": [
        "\u001b[32m389.71   INFO   DEBUG.aietes.Node[n0].App:CommsTrustRoundRobin:Confirmed TX of n09 to n1 at 389.714737368 after 0.714737367574 (112)\u001b[0m\n"
       ]
      },
      {
       "output_type": "stream",
       "stream": "stderr",
       "text": [
        "INFO:DEBUG.aietes.Node[n0].App:CommsTrustRoundRobin:Confirmed TX of n09 to n1 at 389.714737368 after 0.714737367574\n"
       ]
      },
      {
       "output_type": "stream",
       "stream": "stderr",
       "text": [
        "Confirmed TX of n09 to n1 at 389.714737368 after 0.714737367574\n"
       ]
      },
      {
       "output_type": "stream",
       "stream": "stderr",
       "text": [
        "\u001b[32m393.29   INFO   DEBUG.aietes.Node[n1].App:CommsTrustRoundRobin:Confirmed TX of n19 to n5 at 393.292585286 after 2.29258528629 (112)\u001b[0m\n"
       ]
      },
      {
       "output_type": "stream",
       "stream": "stderr",
       "text": [
        "INFO:DEBUG.aietes.Node[n1].App:CommsTrustRoundRobin:Confirmed TX of n19 to n5 at 393.292585286 after 2.29258528629\n"
       ]
      },
      {
       "output_type": "stream",
       "stream": "stderr",
       "text": [
        "Confirmed TX of n19 to n5 at 393.292585286 after 2.29258528629\n"
       ]
      },
      {
       "output_type": "stream",
       "stream": "stderr",
       "text": [
        "\u001b[32m402.90   INFO   DEBUG.aietes.Node[n3].App:CommsTrustRoundRobin:Confirmed TX of n38 to n5 at 402.902656831 after 0.902656830662 (112)\u001b[0m\n"
       ]
      },
      {
       "output_type": "stream",
       "stream": "stderr",
       "text": [
        "INFO:DEBUG.aietes.Node[n3].App:CommsTrustRoundRobin:Confirmed TX of n38 to n5 at 402.902656831 after 0.902656830662\n"
       ]
      },
      {
       "output_type": "stream",
       "stream": "stderr",
       "text": [
        "Confirmed TX of n38 to n5 at 402.902656831 after 0.902656830662\n"
       ]
      },
      {
       "output_type": "stream",
       "stream": "stderr",
       "text": [
        "\u001b[32m411.61   INFO   DEBUG.aietes.Node[n4].App:CommsTrustRoundRobin:Confirmed TX of n49 to n5 at 411.607354817 after 0.607354817239 (112)\u001b[0m\n"
       ]
      },
      {
       "output_type": "stream",
       "stream": "stderr",
       "text": [
        "INFO:DEBUG.aietes.Node[n4].App:CommsTrustRoundRobin:Confirmed TX of n49 to n5 at 411.607354817 after 0.607354817239\n"
       ]
      },
      {
       "output_type": "stream",
       "stream": "stderr",
       "text": [
        "Confirmed TX of n49 to n5 at 411.607354817 after 0.607354817239\n"
       ]
      },
      {
       "output_type": "stream",
       "stream": "stderr",
       "text": [
        "\u001b[32m416.85   INFO   DEBUG.aietes.Node[n5].App:CommsTrustRoundRobin:Confirmed TX of n57 to n2 at 416.852529205 after 38.8525292052 (112)\u001b[0m\n"
       ]
      },
      {
       "output_type": "stream",
       "stream": "stderr",
       "text": [
        "INFO:DEBUG.aietes.Node[n5].App:CommsTrustRoundRobin:Confirmed TX of n57 to n2 at 416.852529205 after 38.8525292052\n"
       ]
      },
      {
       "output_type": "stream",
       "stream": "stderr",
       "text": [
        "Confirmed TX of n57 to n2 at 416.852529205 after 38.8525292052\n"
       ]
      },
      {
       "output_type": "stream",
       "stream": "stderr",
       "text": [
        "\u001b[32m423.64   INFO   DEBUG.aietes.Node[n2].App:CommsTrustRoundRobin:Confirmed TX of n29 to n0 at 423.636108316 after 0.636108315544 (112)\u001b[0m\n"
       ]
      },
      {
       "output_type": "stream",
       "stream": "stderr",
       "text": [
        "INFO:DEBUG.aietes.Node[n2].App:CommsTrustRoundRobin:Confirmed TX of n29 to n0 at 423.636108316 after 0.636108315544\n"
       ]
      },
      {
       "output_type": "stream",
       "stream": "stderr",
       "text": [
        "Confirmed TX of n29 to n0 at 423.636108316 after 0.636108315544\n"
       ]
      },
      {
       "output_type": "stream",
       "stream": "stderr",
       "text": [
        "\u001b[32m427.99   INFO   DEBUG.aietes.Node[n0].App:CommsTrustRoundRobin:Confirmed TX of n010 to n5 at 427.989200412 after 0.989200412304 (112)\u001b[0m\n"
       ]
      },
      {
       "output_type": "stream",
       "stream": "stderr",
       "text": [
        "INFO:DEBUG.aietes.Node[n0].App:CommsTrustRoundRobin:Confirmed TX of n010 to n5 at 427.989200412 after 0.989200412304\n"
       ]
      },
      {
       "output_type": "stream",
       "stream": "stderr",
       "text": [
        "Confirmed TX of n010 to n5 at 427.989200412 after 0.989200412304\n"
       ]
      },
      {
       "output_type": "stream",
       "stream": "stderr",
       "text": [
        "\u001b[32m435.29   INFO   DEBUG.aietes.Node[n1].App:CommsTrustRoundRobin:Confirmed TX of n110 to n3 at 435.286043898 after 5.28604389774 (112)\u001b[0m\n"
       ]
      },
      {
       "output_type": "stream",
       "stream": "stderr",
       "text": [
        "INFO:DEBUG.aietes.Node[n1].App:CommsTrustRoundRobin:Confirmed TX of n110 to n3 at 435.286043898 after 5.28604389774\n"
       ]
      },
      {
       "output_type": "stream",
       "stream": "stderr",
       "text": [
        "Confirmed TX of n110 to n3 at 435.286043898 after 5.28604389774\n"
       ]
      },
      {
       "output_type": "stream",
       "stream": "stderr",
       "text": [
        "\u001b[32m439.71   INFO   DEBUG.aietes.Node[n3].App:CommsTrustRoundRobin:Confirmed TX of n39 to n2 at 439.714737368 after 0.714737367574 (112)\u001b[0m\n"
       ]
      },
      {
       "output_type": "stream",
       "stream": "stderr",
       "text": [
        "INFO:DEBUG.aietes.Node[n3].App:CommsTrustRoundRobin:Confirmed TX of n39 to n2 at 439.714737368 after 0.714737367574\n"
       ]
      },
      {
       "output_type": "stream",
       "stream": "stderr",
       "text": [
        "Confirmed TX of n39 to n2 at 439.714737368 after 0.714737367574\n"
       ]
      },
      {
       "output_type": "stream",
       "stream": "stderr",
       "text": [
        "\u001b[32m449.72   INFO   DEBUG.aietes.Node[n5].App:CommsTrustRoundRobin:Confirmed TX of n58 to n0 at 449.719530318 after 33.7195303184 (112)\u001b[0m\n"
       ]
      },
      {
       "output_type": "stream",
       "stream": "stderr",
       "text": [
        "INFO:DEBUG.aietes.Node[n5].App:CommsTrustRoundRobin:Confirmed TX of n58 to n0 at 449.719530318 after 33.7195303184\n"
       ]
      },
      {
       "output_type": "stream",
       "stream": "stderr",
       "text": [
        "Confirmed TX of n58 to n0 at 449.719530318 after 33.7195303184\n"
       ]
      },
      {
       "output_type": "stream",
       "stream": "stderr",
       "text": [
        "\u001b[32m456.61   INFO   DEBUG.aietes.Node[n5].App:CommsTrustRoundRobin:Confirmed TX of n59 to n4 at 456.607354817 after 0.607354817239 (112)\u001b[0m\n"
       ]
      },
      {
       "output_type": "stream",
       "stream": "stderr",
       "text": [
        "INFO:DEBUG.aietes.Node[n5].App:CommsTrustRoundRobin:Confirmed TX of n59 to n4 at 456.607354817 after 0.607354817239\n"
       ]
      },
      {
       "output_type": "stream",
       "stream": "stderr",
       "text": [
        "Confirmed TX of n59 to n4 at 456.607354817 after 0.607354817239\n"
       ]
      },
      {
       "output_type": "stream",
       "stream": "stderr",
       "text": [
        "\u001b[32m460.28   INFO   DEBUG.aietes.Node[n4].App:CommsTrustRoundRobin:Confirmed TX of n410 to n2 at 460.28291205 after 2.28291204957 (112)\u001b[0m\n"
       ]
      },
      {
       "output_type": "stream",
       "stream": "stderr",
       "text": [
        "INFO:DEBUG.aietes.Node[n4].App:CommsTrustRoundRobin:Confirmed TX of n410 to n2 at 460.28291205 after 2.28291204957\n"
       ]
      },
      {
       "output_type": "stream",
       "stream": "stderr",
       "text": [
        "Confirmed TX of n410 to n2 at 460.28291205 after 2.28291204957\n"
       ]
      },
      {
       "output_type": "stream",
       "stream": "stderr",
       "text": [
        "\u001b[32m466.30   INFO   DEBUG.aietes.Node[n0].App:CommsTrustRoundRobin:Confirmed TX of n011 to n3 at 466.299493669 after 4.29949366945 (112)\u001b[0m\n"
       ]
      },
      {
       "output_type": "stream",
       "stream": "stderr",
       "text": [
        "INFO:DEBUG.aietes.Node[n0].App:CommsTrustRoundRobin:Confirmed TX of n011 to n3 at 466.299493669 after 4.29949366945\n"
       ]
      },
      {
       "output_type": "stream",
       "stream": "stderr",
       "text": [
        "Confirmed TX of n011 to n3 at 466.299493669 after 4.29949366945\n"
       ]
      },
      {
       "output_type": "stream",
       "stream": "stderr",
       "text": [
        "\u001b[32m471.21   INFO   DEBUG.aietes.Node[n1].App:CommsTrustRoundRobin:Confirmed TX of n111 to n0 at 471.207722167 after 5.20772216725 (112)\u001b[0m\n"
       ]
      },
      {
       "output_type": "stream",
       "stream": "stderr",
       "text": [
        "INFO:DEBUG.aietes.Node[n1].App:CommsTrustRoundRobin:Confirmed TX of n111 to n0 at 471.207722167 after 5.20772216725\n"
       ]
      },
      {
       "output_type": "stream",
       "stream": "stderr",
       "text": [
        "Confirmed TX of n111 to n0 at 471.207722167 after 5.20772216725\n"
       ]
      },
      {
       "output_type": "stream",
       "stream": "stderr",
       "text": [
        "\u001b[32m483.17   INFO   DEBUG.aietes.Node[n2].App:CommsTrustRoundRobin:Confirmed TX of n210 to n5 at 483.172995539 after 17.1729955391 (112)\u001b[0m\n"
       ]
      },
      {
       "output_type": "stream",
       "stream": "stderr",
       "text": [
        "INFO:DEBUG.aietes.Node[n2].App:CommsTrustRoundRobin:Confirmed TX of n210 to n5 at 483.172995539 after 17.1729955391\n"
       ]
      },
      {
       "output_type": "stream",
       "stream": "stderr",
       "text": [
        "Confirmed TX of n210 to n5 at 483.172995539 after 17.1729955391\n"
       ]
      },
      {
       "output_type": "stream",
       "stream": "stderr",
       "text": [
        "\u001b[32m488.99   INFO   DEBUG.aietes.Node[n4].App:CommsTrustRoundRobin:Confirmed TX of n411 to n0 at 488.989200412 after 0.989200412304 (112)\u001b[0m\n"
       ]
      },
      {
       "output_type": "stream",
       "stream": "stderr",
       "text": [
        "INFO:DEBUG.aietes.Node[n4].App:CommsTrustRoundRobin:Confirmed TX of n411 to n0 at 488.989200412 after 0.989200412304\n"
       ]
      },
      {
       "output_type": "stream",
       "stream": "stderr",
       "text": [
        "Confirmed TX of n411 to n0 at 488.989200412 after 0.989200412304\n"
       ]
      },
      {
       "output_type": "stream",
       "stream": "stderr",
       "text": [
        "\u001b[32m493.38   INFO   DEBUG.aietes.Node[n3].App:CommsTrustRoundRobin:Confirmed TX of n310 to n1 at 493.376789361 after 2.37678936091 (112)\u001b[0m\n"
       ]
      },
      {
       "output_type": "stream",
       "stream": "stderr",
       "text": [
        "INFO:DEBUG.aietes.Node[n3].App:CommsTrustRoundRobin:Confirmed TX of n310 to n1 at 493.376789361 after 2.37678936091\n"
       ]
      },
      {
       "output_type": "stream",
       "stream": "stderr",
       "text": [
        "Confirmed TX of n310 to n1 at 493.376789361 after 2.37678936091\n"
       ]
      },
      {
       "output_type": "stream",
       "stream": "stderr",
       "text": [
        "\u001b[32m500.47   INFO   DEBUG.aietes.Node[n5].App:CommsTrustRoundRobin:Confirmed TX of n510 to n1 at 500.469020959 after 6.46902095925 (112)\u001b[0m\n"
       ]
      },
      {
       "output_type": "stream",
       "stream": "stderr",
       "text": [
        "INFO:DEBUG.aietes.Node[n5].App:CommsTrustRoundRobin:Confirmed TX of n510 to n1 at 500.469020959 after 6.46902095925\n"
       ]
      },
      {
       "output_type": "stream",
       "stream": "stderr",
       "text": [
        "Confirmed TX of n510 to n1 at 500.469020959 after 6.46902095925\n"
       ]
      },
      {
       "output_type": "stream",
       "stream": "stderr",
       "text": [
        "\u001b[32m506.64   INFO   DEBUG.aietes.Node[n1].App:CommsTrustRoundRobin:Confirmed TX of n112 to n2 at 506.636108316 after 0.636108315544 (112)\u001b[0m\n"
       ]
      },
      {
       "output_type": "stream",
       "stream": "stderr",
       "text": [
        "INFO:DEBUG.aietes.Node[n1].App:CommsTrustRoundRobin:Confirmed TX of n112 to n2 at 506.636108316 after 0.636108315544\n"
       ]
      },
      {
       "output_type": "stream",
       "stream": "stderr",
       "text": [
        "Confirmed TX of n112 to n2 at 506.636108316 after 0.636108315544\n"
       ]
      },
      {
       "output_type": "stream",
       "stream": "stderr",
       "text": [
        "\u001b[32m511.24   INFO   DEBUG.aietes.Node[n2].App:CommsTrustRoundRobin:Confirmed TX of n211 to n3 at 511.244633118 after 2.24463311816 (112)\u001b[0m\n"
       ]
      },
      {
       "output_type": "stream",
       "stream": "stderr",
       "text": [
        "INFO:DEBUG.aietes.Node[n2].App:CommsTrustRoundRobin:Confirmed TX of n211 to n3 at 511.244633118 after 2.24463311816\n"
       ]
      },
      {
       "output_type": "stream",
       "stream": "stderr",
       "text": [
        "Confirmed TX of n211 to n3 at 511.244633118 after 2.24463311816\n"
       ]
      },
      {
       "output_type": "stream",
       "stream": "stderr",
       "text": [
        "\u001b[32m522.98   INFO   DEBUG.aietes.Node[n0].App:CommsTrustRoundRobin:Confirmed TX of n012 to n2 at 522.980459806 after 20.9804598064 (112)\u001b[0m\n"
       ]
      },
      {
       "output_type": "stream",
       "stream": "stderr",
       "text": [
        "INFO:DEBUG.aietes.Node[n0].App:CommsTrustRoundRobin:Confirmed TX of n012 to n2 at 522.980459806 after 20.9804598064\n"
       ]
      },
      {
       "output_type": "stream",
       "stream": "stderr",
       "text": [
        "Confirmed TX of n012 to n2 at 522.980459806 after 20.9804598064\n"
       ]
      },
      {
       "output_type": "stream",
       "stream": "stderr",
       "text": [
        "\u001b[32m529.55   INFO   DEBUG.aietes.Node[n3].App:CommsTrustRoundRobin:Confirmed TX of n311 to n5 at 529.552855273 after 5.5528552727 (112)\u001b[0m\n"
       ]
      },
      {
       "output_type": "stream",
       "stream": "stderr",
       "text": [
        "INFO:DEBUG.aietes.Node[n3].App:CommsTrustRoundRobin:Confirmed TX of n311 to n5 at 529.552855273 after 5.5528552727\n"
       ]
      },
      {
       "output_type": "stream",
       "stream": "stderr",
       "text": [
        "Confirmed TX of n311 to n5 at 529.552855273 after 5.5528552727\n"
       ]
      },
      {
       "output_type": "stream",
       "stream": "stderr",
       "text": [
        "\u001b[32m533.55   INFO   DEBUG.aietes.Node[n0].App:CommsTrustRoundRobin:Confirmed TX of n013 to n1 at 533.548248465 after 3.54824846483 (112)\u001b[0m\n"
       ]
      },
      {
       "output_type": "stream",
       "stream": "stderr",
       "text": [
        "INFO:DEBUG.aietes.Node[n0].App:CommsTrustRoundRobin:Confirmed TX of n013 to n1 at 533.548248465 after 3.54824846483\n"
       ]
      },
      {
       "output_type": "stream",
       "stream": "stderr",
       "text": [
        "Confirmed TX of n013 to n1 at 533.548248465 after 3.54824846483\n"
       ]
      },
      {
       "output_type": "stream",
       "stream": "stderr",
       "text": [
        "\u001b[32m541.61   INFO   DEBUG.aietes.Node[n5].App:CommsTrustRoundRobin:Confirmed TX of n511 to n4 at 541.607354817 after 0.607354817239 (112)\u001b[0m\n"
       ]
      },
      {
       "output_type": "stream",
       "stream": "stderr",
       "text": [
        "INFO:DEBUG.aietes.Node[n5].App:CommsTrustRoundRobin:Confirmed TX of n511 to n4 at 541.607354817 after 0.607354817239\n"
       ]
      },
      {
       "output_type": "stream",
       "stream": "stderr",
       "text": [
        "Confirmed TX of n511 to n4 at 541.607354817 after 0.607354817239\n"
       ]
      },
      {
       "output_type": "stream",
       "stream": "stderr",
       "text": [
        "\u001b[32m548.41   INFO   DEBUG.aietes.Node[n1].App:CommsTrustRoundRobin:Confirmed TX of n113 to n4 at 548.407182135 after 4.40718213456 (112)\u001b[0m\n"
       ]
      },
      {
       "output_type": "stream",
       "stream": "stderr",
       "text": [
        "INFO:DEBUG.aietes.Node[n1].App:CommsTrustRoundRobin:Confirmed TX of n113 to n4 at 548.407182135 after 4.40718213456\n"
       ]
      },
      {
       "output_type": "stream",
       "stream": "stderr",
       "text": [
        "Confirmed TX of n113 to n4 at 548.407182135 after 4.40718213456\n"
       ]
      },
      {
       "output_type": "stream",
       "stream": "stderr",
       "text": [
        "\u001b[32m556.73   INFO   DEBUG.aietes.Node[n2].App:CommsTrustRoundRobin:Confirmed TX of n212 to n0 at 556.728089535 after 7.72808953454 (112)\u001b[0m\n"
       ]
      },
      {
       "output_type": "stream",
       "stream": "stderr",
       "text": [
        "INFO:DEBUG.aietes.Node[n2].App:CommsTrustRoundRobin:Confirmed TX of n212 to n0 at 556.728089535 after 7.72808953454\n"
       ]
      },
      {
       "output_type": "stream",
       "stream": "stderr",
       "text": [
        "Confirmed TX of n212 to n0 at 556.728089535 after 7.72808953454\n"
       ]
      },
      {
       "output_type": "stream",
       "stream": "stderr",
       "text": [
        "\u001b[32m560.47   INFO   DEBUG.aietes.Node[n0].App:CommsTrustRoundRobin:Confirmed TX of n014 to n4 at 560.470766708 after 2.47076670836 (112)\u001b[0m\n"
       ]
      },
      {
       "output_type": "stream",
       "stream": "stderr",
       "text": [
        "INFO:DEBUG.aietes.Node[n0].App:CommsTrustRoundRobin:Confirmed TX of n014 to n4 at 560.470766708 after 2.47076670836\n"
       ]
      },
      {
       "output_type": "stream",
       "stream": "stderr",
       "text": [
        "Confirmed TX of n014 to n4 at 560.470766708 after 2.47076670836\n"
       ]
      },
      {
       "output_type": "stream",
       "stream": "stderr",
       "text": [
        "\u001b[32m578.85   INFO   DEBUG.aietes.Node[n3].App:CommsTrustRoundRobin:Confirmed TX of n312 to n4 at 578.852529205 after 0.85252920517 (112)\u001b[0m\n"
       ]
      },
      {
       "output_type": "stream",
       "stream": "stderr",
       "text": [
        "INFO:DEBUG.aietes.Node[n3].App:CommsTrustRoundRobin:Confirmed TX of n312 to n4 at 578.852529205 after 0.85252920517\n"
       ]
      },
      {
       "output_type": "stream",
       "stream": "stderr",
       "text": [
        "Confirmed TX of n312 to n4 at 578.852529205 after 0.85252920517\n"
       ]
      },
      {
       "output_type": "stream",
       "stream": "stderr",
       "text": [
        "\u001b[32m584.51   INFO   DEBUG.aietes.Node[n4].App:CommsTrustRoundRobin:Confirmed TX of n412 to n1 at 584.512689267 after 59.5126892669 (112)\u001b[0m\n"
       ]
      },
      {
       "output_type": "stream",
       "stream": "stderr",
       "text": [
        "INFO:DEBUG.aietes.Node[n4].App:CommsTrustRoundRobin:Confirmed TX of n412 to n1 at 584.512689267 after 59.5126892669\n"
       ]
      },
      {
       "output_type": "stream",
       "stream": "stderr",
       "text": [
        "Confirmed TX of n412 to n1 at 584.512689267 after 59.5126892669\n"
       ]
      },
      {
       "output_type": "stream",
       "stream": "stderr",
       "text": [
        "\u001b[32m587.18   INFO   DEBUG.aietes.Node[n4].App:CommsTrustRoundRobin:Confirmed TX of n413 to n2 at 587.177455041 after 8.17745504105 (112)\u001b[0m\n"
       ]
      },
      {
       "output_type": "stream",
       "stream": "stderr",
       "text": [
        "INFO:DEBUG.aietes.Node[n4].App:CommsTrustRoundRobin:Confirmed TX of n413 to n2 at 587.177455041 after 8.17745504105\n"
       ]
      },
      {
       "output_type": "stream",
       "stream": "stderr",
       "text": [
        "Confirmed TX of n413 to n2 at 587.177455041 after 8.17745504105\n"
       ]
      },
      {
       "output_type": "stream",
       "stream": "stderr",
       "text": [
        "\u001b[32m593.88   INFO   DEBUG.aietes.Node[n5].App:CommsTrustRoundRobin:Confirmed TX of n512 to n1 at 593.876985242 after 14.876985242 (112)\u001b[0m\n"
       ]
      },
      {
       "output_type": "stream",
       "stream": "stderr",
       "text": [
        "INFO:DEBUG.aietes.Node[n5].App:CommsTrustRoundRobin:Confirmed TX of n512 to n1 at 593.876985242 after 14.876985242\n"
       ]
      },
      {
       "output_type": "stream",
       "stream": "stderr",
       "text": [
        "Confirmed TX of n512 to n1 at 593.876985242 after 14.876985242\n"
       ]
      },
      {
       "output_type": "stream",
       "stream": "stderr",
       "text": [
        "\u001b[32m603.13   INFO   DEBUG.aietes.Node[n0].App:CommsTrustRoundRobin:Confirmed TX of n015 to n3 at 603.126378064 after 9.1263780643 (112)\u001b[0m\n"
       ]
      },
      {
       "output_type": "stream",
       "stream": "stderr",
       "text": [
        "INFO:DEBUG.aietes.Node[n0].App:CommsTrustRoundRobin:Confirmed TX of n015 to n3 at 603.126378064 after 9.1263780643\n"
       ]
      },
      {
       "output_type": "stream",
       "stream": "stderr",
       "text": [
        "Confirmed TX of n015 to n3 at 603.126378064 after 9.1263780643\n"
       ]
      },
      {
       "output_type": "stream",
       "stream": "stderr",
       "text": [
        "\u001b[32m611.72   INFO   DEBUG.aietes.Node[n2].App:CommsTrustRoundRobin:Confirmed TX of n213 to n3 at 611.721437788 after 24.7214377879 (112)\u001b[0m\n"
       ]
      },
      {
       "output_type": "stream",
       "stream": "stderr",
       "text": [
        "INFO:DEBUG.aietes.Node[n2].App:CommsTrustRoundRobin:Confirmed TX of n213 to n3 at 611.721437788 after 24.7214377879\n"
       ]
      },
      {
       "output_type": "stream",
       "stream": "stderr",
       "text": [
        "Confirmed TX of n213 to n3 at 611.721437788 after 24.7214377879\n"
       ]
      },
      {
       "output_type": "stream",
       "stream": "stderr",
       "text": [
        "\u001b[32m615.13   INFO   DEBUG.aietes.Node[n3].App:CommsTrustRoundRobin:Confirmed TX of n313 to n1 at 615.133229297 after 2.13322929675 (112)\u001b[0m\n"
       ]
      },
      {
       "output_type": "stream",
       "stream": "stderr",
       "text": [
        "INFO:DEBUG.aietes.Node[n3].App:CommsTrustRoundRobin:Confirmed TX of n313 to n1 at 615.133229297 after 2.13322929675\n"
       ]
      },
      {
       "output_type": "stream",
       "stream": "stderr",
       "text": [
        "Confirmed TX of n313 to n1 at 615.133229297 after 2.13322929675\n"
       ]
      },
      {
       "output_type": "stream",
       "stream": "stderr",
       "text": [
        "\u001b[32m620.85   INFO   DEBUG.aietes.Node[n4].App:CommsTrustRoundRobin:Confirmed TX of n414 to n3 at 620.852529205 after 0.85252920517 (112)\u001b[0m\n"
       ]
      },
      {
       "output_type": "stream",
       "stream": "stderr",
       "text": [
        "INFO:DEBUG.aietes.Node[n4].App:CommsTrustRoundRobin:Confirmed TX of n414 to n3 at 620.852529205 after 0.85252920517\n"
       ]
      },
      {
       "output_type": "stream",
       "stream": "stderr",
       "text": [
        "Confirmed TX of n414 to n3 at 620.852529205 after 0.85252920517\n"
       ]
      },
      {
       "output_type": "stream",
       "stream": "stderr",
       "text": [
        "\u001b[32m624.21   INFO   DEBUG.aietes.Node[n1].App:CommsTrustRoundRobin:Confirmed TX of n114 to n2 at 624.207504946 after 39.2075049463 (112)\u001b[0m\n"
       ]
      },
      {
       "output_type": "stream",
       "stream": "stderr",
       "text": [
        "INFO:DEBUG.aietes.Node[n1].App:CommsTrustRoundRobin:Confirmed TX of n114 to n2 at 624.207504946 after 39.2075049463\n"
       ]
      },
      {
       "output_type": "stream",
       "stream": "stderr",
       "text": [
        "Confirmed TX of n114 to n2 at 624.207504946 after 39.2075049463\n"
       ]
      },
      {
       "output_type": "stream",
       "stream": "stderr",
       "text": [
        "\u001b[32m629.73   INFO   DEBUG.aietes.Node[n1].App:CommsTrustRoundRobin:Confirmed TX of n115 to n4 at 629.726557677 after 0.726557676539 (112)\u001b[0m\n"
       ]
      },
      {
       "output_type": "stream",
       "stream": "stderr",
       "text": [
        "INFO:DEBUG.aietes.Node[n1].App:CommsTrustRoundRobin:Confirmed TX of n115 to n4 at 629.726557677 after 0.726557676539\n"
       ]
      },
      {
       "output_type": "stream",
       "stream": "stderr",
       "text": [
        "Confirmed TX of n115 to n4 at 629.726557677 after 0.726557676539\n"
       ]
      },
      {
       "output_type": "stream",
       "stream": "stderr",
       "text": [
        "\u001b[32m633.55   INFO   DEBUG.aietes.Node[n5].App:CommsTrustRoundRobin:Confirmed TX of n513 to n3 at 633.550081406 after 13.5500814055 (112)\u001b[0m\n"
       ]
      },
      {
       "output_type": "stream",
       "stream": "stderr",
       "text": [
        "INFO:DEBUG.aietes.Node[n5].App:CommsTrustRoundRobin:Confirmed TX of n513 to n3 at 633.550081406 after 13.5500814055\n"
       ]
      },
      {
       "output_type": "stream",
       "stream": "stderr",
       "text": [
        "Confirmed TX of n513 to n3 at 633.550081406 after 13.5500814055\n"
       ]
      },
      {
       "output_type": "stream",
       "stream": "stderr",
       "text": [
        "\u001b[32m636.99   INFO   DEBUG.aietes.Node[n0].App:CommsTrustRoundRobin:Confirmed TX of n016 to n5 at 636.989200412 after 0.989200412304 (112)\u001b[0m\n"
       ]
      },
      {
       "output_type": "stream",
       "stream": "stderr",
       "text": [
        "INFO:DEBUG.aietes.Node[n0].App:CommsTrustRoundRobin:Confirmed TX of n016 to n5 at 636.989200412 after 0.989200412304\n"
       ]
      },
      {
       "output_type": "stream",
       "stream": "stderr",
       "text": [
        "Confirmed TX of n016 to n5 at 636.989200412 after 0.989200412304\n"
       ]
      },
      {
       "output_type": "stream",
       "stream": "stderr",
       "text": [
        "\u001b[32m642.08   INFO   DEBUG.aietes.Node[n2].App:CommsTrustRoundRobin:Confirmed TX of n214 to n5 at 642.08299124 after 12.0829912396 (112)\u001b[0m\n"
       ]
      },
      {
       "output_type": "stream",
       "stream": "stderr",
       "text": [
        "INFO:DEBUG.aietes.Node[n2].App:CommsTrustRoundRobin:Confirmed TX of n214 to n5 at 642.08299124 after 12.0829912396\n"
       ]
      },
      {
       "output_type": "stream",
       "stream": "stderr",
       "text": [
        "Confirmed TX of n214 to n5 at 642.08299124 after 12.0829912396\n"
       ]
      },
      {
       "output_type": "stream",
       "stream": "stderr",
       "text": [
        "\u001b[32m656.71   INFO   DEBUG.aietes.Node[n3].App:CommsTrustRoundRobin:Confirmed TX of n314 to n2 at 656.714737368 after 0.714737367575 (112)\u001b[0m\n"
       ]
      },
      {
       "output_type": "stream",
       "stream": "stderr",
       "text": [
        "INFO:DEBUG.aietes.Node[n3].App:CommsTrustRoundRobin:Confirmed TX of n314 to n2 at 656.714737368 after 0.714737367575\n"
       ]
      },
      {
       "output_type": "stream",
       "stream": "stderr",
       "text": [
        "Confirmed TX of n314 to n2 at 656.714737368 after 0.714737367575\n"
       ]
      },
      {
       "output_type": "stream",
       "stream": "stderr",
       "text": [
        "\u001b[32m666.90   INFO   DEBUG.aietes.Node[n4].App:CommsTrustRoundRobin:Confirmed TX of n415 to n2 at 666.902656831 after 0.902656830662 (112)\u001b[0m\n"
       ]
      },
      {
       "output_type": "stream",
       "stream": "stderr",
       "text": [
        "INFO:DEBUG.aietes.Node[n4].App:CommsTrustRoundRobin:Confirmed TX of n415 to n2 at 666.902656831 after 0.902656830662\n"
       ]
      },
      {
       "output_type": "stream",
       "stream": "stderr",
       "text": [
        "Confirmed TX of n415 to n2 at 666.902656831 after 0.902656830662\n"
       ]
      },
      {
       "output_type": "stream",
       "stream": "stderr",
       "text": [
        "\u001b[32m671.71   INFO   DEBUG.aietes.Node[n1].App:CommsTrustRoundRobin:Confirmed TX of n116 to n0 at 671.714737368 after 0.714737367575 (112)\u001b[0m\n"
       ]
      },
      {
       "output_type": "stream",
       "stream": "stderr",
       "text": [
        "INFO:DEBUG.aietes.Node[n1].App:CommsTrustRoundRobin:Confirmed TX of n116 to n0 at 671.714737368 after 0.714737367575\n"
       ]
      },
      {
       "output_type": "stream",
       "stream": "stderr",
       "text": [
        "Confirmed TX of n116 to n0 at 671.714737368 after 0.714737367575\n"
       ]
      },
      {
       "output_type": "stream",
       "stream": "stderr",
       "text": [
        "\u001b[32m675.64   INFO   DEBUG.aietes.Node[n2].App:CommsTrustRoundRobin:Confirmed TX of n215 to n0 at 675.636108316 after 0.636108315544 (112)\u001b[0m\n"
       ]
      },
      {
       "output_type": "stream",
       "stream": "stderr",
       "text": [
        "INFO:DEBUG.aietes.Node[n2].App:CommsTrustRoundRobin:Confirmed TX of n215 to n0 at 675.636108316 after 0.636108315544\n"
       ]
      },
      {
       "output_type": "stream",
       "stream": "stderr",
       "text": [
        "Confirmed TX of n215 to n0 at 675.636108316 after 0.636108315544\n"
       ]
      },
      {
       "output_type": "stream",
       "stream": "stderr",
       "text": [
        "\u001b[32m683.15   INFO   DEBUG.aietes.Node[n5].App:CommsTrustRoundRobin:Confirmed TX of n514 to n1 at 683.148602547 after 15.1486025471 (112)\u001b[0m\n"
       ]
      },
      {
       "output_type": "stream",
       "stream": "stderr",
       "text": [
        "INFO:DEBUG.aietes.Node[n5].App:CommsTrustRoundRobin:Confirmed TX of n514 to n1 at 683.148602547 after 15.1486025471\n"
       ]
      },
      {
       "output_type": "stream",
       "stream": "stderr",
       "text": [
        "Confirmed TX of n514 to n1 at 683.148602547 after 15.1486025471\n"
       ]
      },
      {
       "output_type": "stream",
       "stream": "stderr",
       "text": [
        "\u001b[32m689.99   INFO   DEBUG.aietes.Node[n0].App:CommsTrustRoundRobin:Confirmed TX of n017 to n4 at 689.989200412 after 0.989200412304 (112)\u001b[0m\n"
       ]
      },
      {
       "output_type": "stream",
       "stream": "stderr",
       "text": [
        "INFO:DEBUG.aietes.Node[n0].App:CommsTrustRoundRobin:Confirmed TX of n017 to n4 at 689.989200412 after 0.989200412304\n"
       ]
      },
      {
       "output_type": "stream",
       "stream": "stderr",
       "text": [
        "Confirmed TX of n017 to n4 at 689.989200412 after 0.989200412304\n"
       ]
      },
      {
       "output_type": "stream",
       "stream": "stderr",
       "text": [
        "\u001b[32m695.64   INFO   DEBUG.aietes.Node[n3].App:CommsTrustRoundRobin:Confirmed TX of n315 to n1 at 695.636108316 after 0.636108315544 (112)\u001b[0m\n"
       ]
      },
      {
       "output_type": "stream",
       "stream": "stderr",
       "text": [
        "INFO:DEBUG.aietes.Node[n3].App:CommsTrustRoundRobin:Confirmed TX of n315 to n1 at 695.636108316 after 0.636108315544\n"
       ]
      },
      {
       "output_type": "stream",
       "stream": "stderr",
       "text": [
        "Confirmed TX of n315 to n1 at 695.636108316 after 0.636108315544\n"
       ]
      },
      {
       "output_type": "stream",
       "stream": "stderr",
       "text": [
        "\u001b[32m725.99   INFO   DEBUG.aietes.Node[n0].App:CommsTrustRoundRobin:Confirmed TX of n018 to n5 at 725.989200412 after 0.989200412304 (112)\u001b[0m\n"
       ]
      },
      {
       "output_type": "stream",
       "stream": "stderr",
       "text": [
        "INFO:DEBUG.aietes.Node[n0].App:CommsTrustRoundRobin:Confirmed TX of n018 to n5 at 725.989200412 after 0.989200412304\n"
       ]
      },
      {
       "output_type": "stream",
       "stream": "stderr",
       "text": [
        "Confirmed TX of n018 to n5 at 725.989200412 after 0.989200412304\n"
       ]
      },
      {
       "output_type": "stream",
       "stream": "stderr",
       "text": [
        "\u001b[32m732.52   INFO   DEBUG.aietes.Node[n1].App:CommsTrustRoundRobin:Confirmed TX of n117 to n2 at 732.518114255 after 24.5181142552 (112)\u001b[0m\n"
       ]
      },
      {
       "output_type": "stream",
       "stream": "stderr",
       "text": [
        "INFO:DEBUG.aietes.Node[n1].App:CommsTrustRoundRobin:Confirmed TX of n117 to n2 at 732.518114255 after 24.5181142552\n"
       ]
      },
      {
       "output_type": "stream",
       "stream": "stderr",
       "text": [
        "Confirmed TX of n117 to n2 at 732.518114255 after 24.5181142552\n"
       ]
      },
      {
       "output_type": "stream",
       "stream": "stderr",
       "text": [
        "\u001b[32m738.77   INFO   DEBUG.aietes.Node[n3].App:CommsTrustRoundRobin:Confirmed TX of n316 to n5 at 738.771873776 after 7.77187377602 (112)\u001b[0m\n"
       ]
      },
      {
       "output_type": "stream",
       "stream": "stderr",
       "text": [
        "INFO:DEBUG.aietes.Node[n3].App:CommsTrustRoundRobin:Confirmed TX of n316 to n5 at 738.771873776 after 7.77187377602\n"
       ]
      },
      {
       "output_type": "stream",
       "stream": "stderr",
       "text": [
        "Confirmed TX of n316 to n5 at 738.771873776 after 7.77187377602\n"
       ]
      },
      {
       "output_type": "stream",
       "stream": "stderr",
       "text": [
        "\u001b[32m746.18   INFO   DEBUG.aietes.Node[n2].App:CommsTrustRoundRobin:Confirmed TX of n216 to n1 at 746.178804328 after 38.1788043276 (112)\u001b[0m\n"
       ]
      },
      {
       "output_type": "stream",
       "stream": "stderr",
       "text": [
        "INFO:DEBUG.aietes.Node[n2].App:CommsTrustRoundRobin:Confirmed TX of n216 to n1 at 746.178804328 after 38.1788043276\n"
       ]
      },
      {
       "output_type": "stream",
       "stream": "stderr",
       "text": [
        "Confirmed TX of n216 to n1 at 746.178804328 after 38.1788043276\n"
       ]
      },
      {
       "output_type": "stream",
       "stream": "stderr",
       "text": [
        "\u001b[32m748.85   INFO   DEBUG.aietes.Node[n2].App:CommsTrustRoundRobin:Confirmed TX of n217 to n5 at 748.852529205 after 0.85252920517 (112)\u001b[0m\n"
       ]
      },
      {
       "output_type": "stream",
       "stream": "stderr",
       "text": [
        "INFO:DEBUG.aietes.Node[n2].App:CommsTrustRoundRobin:Confirmed TX of n217 to n5 at 748.852529205 after 0.85252920517\n"
       ]
      },
      {
       "output_type": "stream",
       "stream": "stderr",
       "text": [
        "Confirmed TX of n217 to n5 at 748.852529205 after 0.85252920517\n"
       ]
      },
      {
       "output_type": "stream",
       "stream": "stderr",
       "text": [
        "\u001b[32m754.29   INFO   DEBUG.aietes.Node[n5].App:CommsTrustRoundRobin:Confirmed TX of n515 to n0 at 754.285724732 after 43.2857247321 (112)\u001b[0m\n"
       ]
      },
      {
       "output_type": "stream",
       "stream": "stderr",
       "text": [
        "INFO:DEBUG.aietes.Node[n5].App:CommsTrustRoundRobin:Confirmed TX of n515 to n0 at 754.285724732 after 43.2857247321\n"
       ]
      },
      {
       "output_type": "stream",
       "stream": "stderr",
       "text": [
        "Confirmed TX of n515 to n0 at 754.285724732 after 43.2857247321\n"
       ]
      },
      {
       "output_type": "stream",
       "stream": "stderr",
       "text": [
        "\u001b[32m757.73   INFO   DEBUG.aietes.Node[n1].App:CommsTrustRoundRobin:Confirmed TX of n118 to n4 at 757.726557677 after 0.726557676539 (112)\u001b[0m\n"
       ]
      },
      {
       "output_type": "stream",
       "stream": "stderr",
       "text": [
        "INFO:DEBUG.aietes.Node[n1].App:CommsTrustRoundRobin:Confirmed TX of n118 to n4 at 757.726557677 after 0.726557676539\n"
       ]
      },
      {
       "output_type": "stream",
       "stream": "stderr",
       "text": [
        "Confirmed TX of n118 to n4 at 757.726557677 after 0.726557676539\n"
       ]
      },
      {
       "output_type": "stream",
       "stream": "stderr",
       "text": [
        "\u001b[32m763.29   INFO   DEBUG.aietes.Node[n5].App:CommsTrustRoundRobin:Confirmed TX of n516 to n4 at 763.293011384 after 14.2930113839 (112)\u001b[0m\n"
       ]
      },
      {
       "output_type": "stream",
       "stream": "stderr",
       "text": [
        "INFO:DEBUG.aietes.Node[n5].App:CommsTrustRoundRobin:Confirmed TX of n516 to n4 at 763.293011384 after 14.2930113839\n"
       ]
      },
      {
       "output_type": "stream",
       "stream": "stderr",
       "text": [
        "Confirmed TX of n516 to n4 at 763.293011384 after 14.2930113839\n"
       ]
      },
      {
       "output_type": "stream",
       "stream": "stderr",
       "text": [
        "\u001b[32m771.64   INFO   DEBUG.aietes.Node[n3].App:CommsTrustRoundRobin:Confirmed TX of n317 to n0 at 771.636108316 after 0.636108315544 (112)\u001b[0m\n"
       ]
      },
      {
       "output_type": "stream",
       "stream": "stderr",
       "text": [
        "INFO:DEBUG.aietes.Node[n3].App:CommsTrustRoundRobin:Confirmed TX of n317 to n0 at 771.636108316 after 0.636108315544\n"
       ]
      },
      {
       "output_type": "stream",
       "stream": "stderr",
       "text": [
        "Confirmed TX of n317 to n0 at 771.636108316 after 0.636108315544\n"
       ]
      },
      {
       "output_type": "stream",
       "stream": "stderr",
       "text": [
        "\u001b[32m778.85   INFO   DEBUG.aietes.Node[n5].App:CommsTrustRoundRobin:Confirmed TX of n517 to n2 at 778.852529205 after 0.85252920517 (112)\u001b[0m\n"
       ]
      },
      {
       "output_type": "stream",
       "stream": "stderr",
       "text": [
        "INFO:DEBUG.aietes.Node[n5].App:CommsTrustRoundRobin:Confirmed TX of n517 to n2 at 778.852529205 after 0.85252920517\n"
       ]
      },
      {
       "output_type": "stream",
       "stream": "stderr",
       "text": [
        "Confirmed TX of n517 to n2 at 778.852529205 after 0.85252920517\n"
       ]
      },
      {
       "output_type": "stream",
       "stream": "stderr",
       "text": [
        "\u001b[32m788.34   INFO   DEBUG.aietes.Node[n0].App:CommsTrustRoundRobin:Confirmed TX of n019 to n3 at 788.342751687 after 29.3427516866 (112)\u001b[0m\n"
       ]
      },
      {
       "output_type": "stream",
       "stream": "stderr",
       "text": [
        "INFO:DEBUG.aietes.Node[n0].App:CommsTrustRoundRobin:Confirmed TX of n019 to n3 at 788.342751687 after 29.3427516866\n"
       ]
      },
      {
       "output_type": "stream",
       "stream": "stderr",
       "text": [
        "Confirmed TX of n019 to n3 at 788.342751687 after 29.3427516866\n"
       ]
      },
      {
       "output_type": "stream",
       "stream": "stderr",
       "text": [
        "\u001b[32m791.90   INFO   DEBUG.aietes.Node[n2].App:CommsTrustRoundRobin:Confirmed TX of n218 to n4 at 791.902656831 after 0.902656830662 (112)\u001b[0m\n"
       ]
      },
      {
       "output_type": "stream",
       "stream": "stderr",
       "text": [
        "INFO:DEBUG.aietes.Node[n2].App:CommsTrustRoundRobin:Confirmed TX of n218 to n4 at 791.902656831 after 0.902656830662\n"
       ]
      },
      {
       "output_type": "stream",
       "stream": "stderr",
       "text": [
        "Confirmed TX of n218 to n4 at 791.902656831 after 0.902656830662\n"
       ]
      },
      {
       "output_type": "stream",
       "stream": "stderr",
       "text": [
        "\u001b[32m796.06   INFO   DEBUG.aietes.Node[n4].App:CommsTrustRoundRobin:Confirmed TX of n416 to n5 at 796.06125318 after 86.0612531802 (112)\u001b[0m\n"
       ]
      },
      {
       "output_type": "stream",
       "stream": "stderr",
       "text": [
        "INFO:DEBUG.aietes.Node[n4].App:CommsTrustRoundRobin:Confirmed TX of n416 to n5 at 796.06125318 after 86.0612531802\n"
       ]
      },
      {
       "output_type": "stream",
       "stream": "stderr",
       "text": [
        "Confirmed TX of n416 to n5 at 796.06125318 after 86.0612531802\n"
       ]
      },
      {
       "output_type": "stream",
       "stream": "stderr",
       "text": [
        "\u001b[32m800.70   INFO   DEBUG.aietes.Node[n4].App:CommsTrustRoundRobin:Confirmed TX of n417 to n3 at 800.695712291 after 45.6957122911 (112)\u001b[0m\n"
       ]
      },
      {
       "output_type": "stream",
       "stream": "stderr",
       "text": [
        "INFO:DEBUG.aietes.Node[n4].App:CommsTrustRoundRobin:Confirmed TX of n417 to n3 at 800.695712291 after 45.6957122911\n"
       ]
      },
      {
       "output_type": "stream",
       "stream": "stderr",
       "text": [
        "Confirmed TX of n417 to n3 at 800.695712291 after 45.6957122911\n"
       ]
      },
      {
       "output_type": "stream",
       "stream": "stderr",
       "text": [
        "\u001b[32m806.83   INFO   DEBUG.aietes.Node[n0].App:CommsTrustRoundRobin:Confirmed TX of n020 to n4 at 806.82799432 after 8.82799431985 (112)\u001b[0m\n"
       ]
      },
      {
       "output_type": "stream",
       "stream": "stderr",
       "text": [
        "INFO:DEBUG.aietes.Node[n0].App:CommsTrustRoundRobin:Confirmed TX of n020 to n4 at 806.82799432 after 8.82799431985\n"
       ]
      },
      {
       "output_type": "stream",
       "stream": "stderr",
       "text": [
        "Confirmed TX of n020 to n4 at 806.82799432 after 8.82799431985\n"
       ]
      },
      {
       "output_type": "stream",
       "stream": "stderr",
       "text": [
        "\u001b[32m814.15   INFO   DEBUG.aietes.Node[n1].App:CommsTrustRoundRobin:Confirmed TX of n119 to n5 at 814.148695835 after 18.1486958353 (112)\u001b[0m\n"
       ]
      },
      {
       "output_type": "stream",
       "stream": "stderr",
       "text": [
        "INFO:DEBUG.aietes.Node[n1].App:CommsTrustRoundRobin:Confirmed TX of n119 to n5 at 814.148695835 after 18.1486958353\n"
       ]
      },
      {
       "output_type": "stream",
       "stream": "stderr",
       "text": [
        "Confirmed TX of n119 to n5 at 814.148695835 after 18.1486958353\n"
       ]
      },
      {
       "output_type": "stream",
       "stream": "stderr",
       "text": [
        "\u001b[32m820.34   INFO   DEBUG.aietes.Node[n3].App:CommsTrustRoundRobin:Confirmed TX of n318 to n4 at 820.344728555 after 6.34472855499 (112)\u001b[0m\n"
       ]
      },
      {
       "output_type": "stream",
       "stream": "stderr",
       "text": [
        "INFO:DEBUG.aietes.Node[n3].App:CommsTrustRoundRobin:Confirmed TX of n318 to n4 at 820.344728555 after 6.34472855499\n"
       ]
      },
      {
       "output_type": "stream",
       "stream": "stderr",
       "text": [
        "Confirmed TX of n318 to n4 at 820.344728555 after 6.34472855499\n"
       ]
      },
      {
       "output_type": "stream",
       "stream": "stderr",
       "text": [
        "\u001b[32m825.20   INFO   DEBUG.aietes.Node[n2].App:CommsTrustRoundRobin:Confirmed TX of n219 to n3 at 825.195406493 after 5.19540649281 (112)\u001b[0m\n"
       ]
      },
      {
       "output_type": "stream",
       "stream": "stderr",
       "text": [
        "INFO:DEBUG.aietes.Node[n2].App:CommsTrustRoundRobin:Confirmed TX of n219 to n3 at 825.195406493 after 5.19540649281\n"
       ]
      },
      {
       "output_type": "stream",
       "stream": "stderr",
       "text": [
        "Confirmed TX of n219 to n3 at 825.195406493 after 5.19540649281\n"
       ]
      },
      {
       "output_type": "stream",
       "stream": "stderr",
       "text": [
        "\u001b[32m830.35   INFO   DEBUG.aietes.Node[n5].App:CommsTrustRoundRobin:Confirmed TX of n518 to n3 at 830.349152991 after 15.3491529906 (112)\u001b[0m\n"
       ]
      },
      {
       "output_type": "stream",
       "stream": "stderr",
       "text": [
        "INFO:DEBUG.aietes.Node[n5].App:CommsTrustRoundRobin:Confirmed TX of n518 to n3 at 830.349152991 after 15.3491529906\n"
       ]
      },
      {
       "output_type": "stream",
       "stream": "stderr",
       "text": [
        "Confirmed TX of n518 to n3 at 830.349152991 after 15.3491529906\n"
       ]
      },
      {
       "output_type": "stream",
       "stream": "stderr",
       "text": [
        "\u001b[32m834.64   INFO   DEBUG.aietes.Node[n0].App:CommsTrustRoundRobin:Confirmed TX of n021 to n2 at 834.636108316 after 0.636108315544 (112)\u001b[0m\n"
       ]
      },
      {
       "output_type": "stream",
       "stream": "stderr",
       "text": [
        "INFO:DEBUG.aietes.Node[n0].App:CommsTrustRoundRobin:Confirmed TX of n021 to n2 at 834.636108316 after 0.636108315544\n"
       ]
      },
      {
       "output_type": "stream",
       "stream": "stderr",
       "text": [
        "Confirmed TX of n021 to n2 at 834.636108316 after 0.636108315544\n"
       ]
      },
      {
       "output_type": "stream",
       "stream": "stderr",
       "text": [
        "\u001b[32m840.79   INFO   DEBUG.aietes.Node[n1].App:CommsTrustRoundRobin:Confirmed TX of n120 to n0 at 840.793695783 after 5.79369578289 (112)\u001b[0m\n"
       ]
      },
      {
       "output_type": "stream",
       "stream": "stderr",
       "text": [
        "INFO:DEBUG.aietes.Node[n1].App:CommsTrustRoundRobin:Confirmed TX of n120 to n0 at 840.793695783 after 5.79369578289\n"
       ]
      },
      {
       "output_type": "stream",
       "stream": "stderr",
       "text": [
        "Confirmed TX of n120 to n0 at 840.793695783 after 5.79369578289\n"
       ]
      },
      {
       "output_type": "stream",
       "stream": "stderr",
       "text": [
        "\u001b[32m844.50   INFO   DEBUG.aietes.Node[n4].App:CommsTrustRoundRobin:Confirmed TX of n418 to n3 at 844.502479627 after 50.5024796267 (112)\u001b[0m\n"
       ]
      },
      {
       "output_type": "stream",
       "stream": "stderr",
       "text": [
        "INFO:DEBUG.aietes.Node[n4].App:CommsTrustRoundRobin:Confirmed TX of n418 to n3 at 844.502479627 after 50.5024796267\n"
       ]
      },
      {
       "output_type": "stream",
       "stream": "stderr",
       "text": [
        "Confirmed TX of n418 to n3 at 844.502479627 after 50.5024796267\n"
       ]
      },
      {
       "output_type": "stream",
       "stream": "stderr",
       "text": [
        "\u001b[32m849.97   INFO   DEBUG.aietes.Node[n4].App:CommsTrustRoundRobin:Confirmed TX of n419 to n2 at 849.967899477 after 23.9678994773 (112)\u001b[0m\n"
       ]
      },
      {
       "output_type": "stream",
       "stream": "stderr",
       "text": [
        "INFO:DEBUG.aietes.Node[n4].App:CommsTrustRoundRobin:Confirmed TX of n419 to n2 at 849.967899477 after 23.9678994773\n"
       ]
      },
      {
       "output_type": "stream",
       "stream": "stderr",
       "text": [
        "Confirmed TX of n419 to n2 at 849.967899477 after 23.9678994773\n"
       ]
      },
      {
       "output_type": "stream",
       "stream": "stderr",
       "text": [
        "\u001b[32m853.85   INFO   DEBUG.aietes.Node[n5].App:CommsTrustRoundRobin:Confirmed TX of n519 to n2 at 853.852529205 after 0.85252920517 (112)\u001b[0m\n"
       ]
      },
      {
       "output_type": "stream",
       "stream": "stderr",
       "text": [
        "INFO:DEBUG.aietes.Node[n5].App:CommsTrustRoundRobin:Confirmed TX of n519 to n2 at 853.852529205 after 0.85252920517\n"
       ]
      },
      {
       "output_type": "stream",
       "stream": "stderr",
       "text": [
        "Confirmed TX of n519 to n2 at 853.852529205 after 0.85252920517\n"
       ]
      },
      {
       "output_type": "stream",
       "stream": "stderr",
       "text": [
        "\u001b[32m858.87   INFO   DEBUG.aietes.Node[n2].App:CommsTrustRoundRobin:Confirmed TX of n220 to n0 at 858.869222148 after 4.86922214775 (112)\u001b[0m\n"
       ]
      },
      {
       "output_type": "stream",
       "stream": "stderr",
       "text": [
        "INFO:DEBUG.aietes.Node[n2].App:CommsTrustRoundRobin:Confirmed TX of n220 to n0 at 858.869222148 after 4.86922214775\n"
       ]
      },
      {
       "output_type": "stream",
       "stream": "stderr",
       "text": [
        "Confirmed TX of n220 to n0 at 858.869222148 after 4.86922214775\n"
       ]
      },
      {
       "output_type": "stream",
       "stream": "stderr",
       "text": [
        "\u001b[32m864.99   INFO   DEBUG.aietes.Node[n4].App:CommsTrustRoundRobin:Confirmed TX of n420 to n0 at 864.989200412 after 0.989200412304 (112)\u001b[0m\n"
       ]
      },
      {
       "output_type": "stream",
       "stream": "stderr",
       "text": [
        "INFO:DEBUG.aietes.Node[n4].App:CommsTrustRoundRobin:Confirmed TX of n420 to n0 at 864.989200412 after 0.989200412304\n"
       ]
      },
      {
       "output_type": "stream",
       "stream": "stderr",
       "text": [
        "Confirmed TX of n420 to n0 at 864.989200412 after 0.989200412304\n"
       ]
      },
      {
       "output_type": "stream",
       "stream": "stderr",
       "text": [
        "\u001b[32m868.54   INFO   DEBUG.aietes.Node[n0].App:CommsTrustRoundRobin:Confirmed TX of n022 to n5 at 868.541990396 after 2.54199039609 (112)\u001b[0m\n"
       ]
      },
      {
       "output_type": "stream",
       "stream": "stderr",
       "text": [
        "INFO:DEBUG.aietes.Node[n0].App:CommsTrustRoundRobin:Confirmed TX of n022 to n5 at 868.541990396 after 2.54199039609\n"
       ]
      },
      {
       "output_type": "stream",
       "stream": "stderr",
       "text": [
        "Confirmed TX of n022 to n5 at 868.541990396 after 2.54199039609\n"
       ]
      },
      {
       "output_type": "stream",
       "stream": "stderr",
       "text": [
        "\u001b[32m875.64   INFO   DEBUG.aietes.Node[n1].App:CommsTrustRoundRobin:Confirmed TX of n121 to n3 at 875.636108316 after 0.636108315544 (112)\u001b[0m\n"
       ]
      },
      {
       "output_type": "stream",
       "stream": "stderr",
       "text": [
        "INFO:DEBUG.aietes.Node[n1].App:CommsTrustRoundRobin:Confirmed TX of n121 to n3 at 875.636108316 after 0.636108315544\n"
       ]
      },
      {
       "output_type": "stream",
       "stream": "stderr",
       "text": [
        "Confirmed TX of n121 to n3 at 875.636108316 after 0.636108315544\n"
       ]
      },
      {
       "output_type": "stream",
       "stream": "stderr",
       "text": [
        "\u001b[32m892.11   INFO   DEBUG.aietes.Node[n3].App:CommsTrustRoundRobin:Confirmed TX of n319 to n1 at 892.109811615 after 47.1098116153 (112)\u001b[0m\n"
       ]
      },
      {
       "output_type": "stream",
       "stream": "stderr",
       "text": [
        "INFO:DEBUG.aietes.Node[n3].App:CommsTrustRoundRobin:Confirmed TX of n319 to n1 at 892.109811615 after 47.1098116153\n"
       ]
      },
      {
       "output_type": "stream",
       "stream": "stderr",
       "text": [
        "Confirmed TX of n319 to n1 at 892.109811615 after 47.1098116153\n"
       ]
      },
      {
       "output_type": "stream",
       "stream": "stderr",
       "text": [
        "\u001b[32m899.73   INFO   DEBUG.aietes.Node[n4].App:CommsTrustRoundRobin:Confirmed TX of n421 to n1 at 899.726557677 after 0.726557676539 (112)\u001b[0m\n"
       ]
      },
      {
       "output_type": "stream",
       "stream": "stderr",
       "text": [
        "INFO:DEBUG.aietes.Node[n4].App:CommsTrustRoundRobin:Confirmed TX of n421 to n1 at 899.726557677 after 0.726557676539\n"
       ]
      },
      {
       "output_type": "stream",
       "stream": "stderr",
       "text": [
        "Confirmed TX of n421 to n1 at 899.726557677 after 0.726557676539\n"
       ]
      },
      {
       "output_type": "stream",
       "stream": "stderr",
       "text": [
        "\u001b[32m904.88   INFO   DEBUG.aietes.Node[n2].App:CommsTrustRoundRobin:Confirmed TX of n221 to n3 at 904.88346639 after 14.8834663904 (112)\u001b[0m\n"
       ]
      },
      {
       "output_type": "stream",
       "stream": "stderr",
       "text": [
        "INFO:DEBUG.aietes.Node[n2].App:CommsTrustRoundRobin:Confirmed TX of n221 to n3 at 904.88346639 after 14.8834663904\n"
       ]
      },
      {
       "output_type": "stream",
       "stream": "stderr",
       "text": [
        "Confirmed TX of n221 to n3 at 904.88346639 after 14.8834663904\n"
       ]
      },
      {
       "output_type": "stream",
       "stream": "stderr",
       "text": [
        "\u001b[32m910.64   INFO   DEBUG.aietes.Node[n0].App:CommsTrustRoundRobin:Confirmed TX of n023 to n3 at 910.636108316 after 0.636108315544 (112)\u001b[0m\n"
       ]
      },
      {
       "output_type": "stream",
       "stream": "stderr",
       "text": [
        "INFO:DEBUG.aietes.Node[n0].App:CommsTrustRoundRobin:Confirmed TX of n023 to n3 at 910.636108316 after 0.636108315544\n"
       ]
      },
      {
       "output_type": "stream",
       "stream": "stderr",
       "text": [
        "Confirmed TX of n023 to n3 at 910.636108316 after 0.636108315544\n"
       ]
      },
      {
       "output_type": "stream",
       "stream": "stderr",
       "text": [
        "\u001b[32m919.81   INFO   DEBUG.aietes.Node[n1].App:CommsTrustRoundRobin:Confirmed TX of n122 to n2 at 919.811886885 after 6.811886885 (112)\u001b[0m\n"
       ]
      },
      {
       "output_type": "stream",
       "stream": "stderr",
       "text": [
        "INFO:DEBUG.aietes.Node[n1].App:CommsTrustRoundRobin:Confirmed TX of n122 to n2 at 919.811886885 after 6.811886885\n"
       ]
      },
      {
       "output_type": "stream",
       "stream": "stderr",
       "text": [
        "Confirmed TX of n122 to n2 at 919.811886885 after 6.811886885\n"
       ]
      },
      {
       "output_type": "stream",
       "stream": "stderr",
       "text": [
        "\u001b[32m923.89   INFO   DEBUG.aietes.Node[n3].App:CommsTrustRoundRobin:Confirmed TX of n320 to n2 at 923.885652925 after 33.8856529247 (112)\u001b[0m\n"
       ]
      },
      {
       "output_type": "stream",
       "stream": "stderr",
       "text": [
        "INFO:DEBUG.aietes.Node[n3].App:CommsTrustRoundRobin:Confirmed TX of n320 to n2 at 923.885652925 after 33.8856529247\n"
       ]
      },
      {
       "output_type": "stream",
       "stream": "stderr",
       "text": [
        "Confirmed TX of n320 to n2 at 923.885652925 after 33.8856529247\n"
       ]
      },
      {
       "output_type": "stream",
       "stream": "stderr",
       "text": [
        "\u001b[32m929.34   INFO   DEBUG.aietes.Node[n2].App:CommsTrustRoundRobin:Confirmed TX of n222 to n4 at 929.340897357 after 5.34089735699 (112)\u001b[0m\n"
       ]
      },
      {
       "output_type": "stream",
       "stream": "stderr",
       "text": [
        "INFO:DEBUG.aietes.Node[n2].App:CommsTrustRoundRobin:Confirmed TX of n222 to n4 at 929.340897357 after 5.34089735699\n"
       ]
      },
      {
       "output_type": "stream",
       "stream": "stderr",
       "text": [
        "Confirmed TX of n222 to n4 at 929.340897357 after 5.34089735699\n"
       ]
      },
      {
       "output_type": "stream",
       "stream": "stderr",
       "text": [
        "\u001b[32m934.01   INFO   DEBUG.aietes.Node[n5].App:CommsTrustRoundRobin:Confirmed TX of n520 to n1 at 934.013337705 after 40.0133377048 (112)\u001b[0m\n"
       ]
      },
      {
       "output_type": "stream",
       "stream": "stderr",
       "text": [
        "INFO:DEBUG.aietes.Node[n5].App:CommsTrustRoundRobin:Confirmed TX of n520 to n1 at 934.013337705 after 40.0133377048\n"
       ]
      },
      {
       "output_type": "stream",
       "stream": "stderr",
       "text": [
        "Confirmed TX of n520 to n1 at 934.013337705 after 40.0133377048\n"
       ]
      },
      {
       "output_type": "stream",
       "stream": "stderr",
       "text": [
        "\u001b[32m937.90   INFO   DEBUG.aietes.Node[n5].App:CommsTrustRoundRobin:Confirmed TX of n521 to n3 at 937.902656831 after 0.902656830662 (112)\u001b[0m\n"
       ]
      },
      {
       "output_type": "stream",
       "stream": "stderr",
       "text": [
        "INFO:DEBUG.aietes.Node[n5].App:CommsTrustRoundRobin:Confirmed TX of n521 to n3 at 937.902656831 after 0.902656830662\n"
       ]
      },
      {
       "output_type": "stream",
       "stream": "stderr",
       "text": [
        "Confirmed TX of n521 to n3 at 937.902656831 after 0.902656830662\n"
       ]
      },
      {
       "output_type": "stream",
       "stream": "stderr",
       "text": [
        "\u001b[32m946.35   INFO   DEBUG.aietes.Node[n4].App:CommsTrustRoundRobin:Confirmed TX of n422 to n5 at 946.349047342 after 7.34904734214 (112)\u001b[0m\n"
       ]
      },
      {
       "output_type": "stream",
       "stream": "stderr",
       "text": [
        "INFO:DEBUG.aietes.Node[n4].App:CommsTrustRoundRobin:Confirmed TX of n422 to n5 at 946.349047342 after 7.34904734214\n"
       ]
      },
      {
       "output_type": "stream",
       "stream": "stderr",
       "text": [
        "Confirmed TX of n422 to n5 at 946.349047342 after 7.34904734214\n"
       ]
      },
      {
       "output_type": "stream",
       "stream": "stderr",
       "text": [
        "\u001b[32m950.14   INFO   DEBUG.aietes.Node[n3].App:CommsTrustRoundRobin:Confirmed TX of n321 to n5 at 950.140784411 after 14.1407844107 (112)\u001b[0m\n"
       ]
      },
      {
       "output_type": "stream",
       "stream": "stderr",
       "text": [
        "INFO:DEBUG.aietes.Node[n3].App:CommsTrustRoundRobin:Confirmed TX of n321 to n5 at 950.140784411 after 14.1407844107\n"
       ]
      },
      {
       "output_type": "stream",
       "stream": "stderr",
       "text": [
        "Confirmed TX of n321 to n5 at 950.140784411 after 14.1407844107\n"
       ]
      },
      {
       "output_type": "stream",
       "stream": "stderr",
       "text": [
        "\u001b[32m961.40   INFO   DEBUG.aietes.Node[n0].App:CommsTrustRoundRobin:Confirmed TX of n024 to n1 at 961.402281054 after 12.4022810536 (112)\u001b[0m\n"
       ]
      },
      {
       "output_type": "stream",
       "stream": "stderr",
       "text": [
        "INFO:DEBUG.aietes.Node[n0].App:CommsTrustRoundRobin:Confirmed TX of n024 to n1 at 961.402281054 after 12.4022810536\n"
       ]
      },
      {
       "output_type": "stream",
       "stream": "stderr",
       "text": [
        "Confirmed TX of n024 to n1 at 961.402281054 after 12.4022810536\n"
       ]
      },
      {
       "output_type": "stream",
       "stream": "stderr",
       "text": [
        "\u001b[32m968.73   INFO   DEBUG.aietes.Node[n1].App:CommsTrustRoundRobin:Confirmed TX of n123 to n5 at 968.726557677 after 0.726557676539 (112)\u001b[0m\n"
       ]
      },
      {
       "output_type": "stream",
       "stream": "stderr",
       "text": [
        "INFO:DEBUG.aietes.Node[n1].App:CommsTrustRoundRobin:Confirmed TX of n123 to n5 at 968.726557677 after 0.726557676539\n"
       ]
      },
      {
       "output_type": "stream",
       "stream": "stderr",
       "text": [
        "Confirmed TX of n123 to n5 at 968.726557677 after 0.726557676539\n"
       ]
      },
      {
       "output_type": "stream",
       "stream": "stderr",
       "text": [
        "\u001b[32m972.85   INFO   DEBUG.aietes.Node[n2].App:CommsTrustRoundRobin:Confirmed TX of n223 to n5 at 972.852529205 after 0.85252920517 (112)\u001b[0m\n"
       ]
      },
      {
       "output_type": "stream",
       "stream": "stderr",
       "text": [
        "INFO:DEBUG.aietes.Node[n2].App:CommsTrustRoundRobin:Confirmed TX of n223 to n5 at 972.852529205 after 0.85252920517\n"
       ]
      },
      {
       "output_type": "stream",
       "stream": "stderr",
       "text": [
        "Confirmed TX of n223 to n5 at 972.852529205 after 0.85252920517\n"
       ]
      },
      {
       "output_type": "stream",
       "stream": "stderr",
       "text": [
        "\u001b[32m984.17   INFO   DEBUG.aietes.Node[n4].App:CommsTrustRoundRobin:Confirmed TX of n423 to n1 at 984.169822392 after 2.16982239186 (112)\u001b[0m\n"
       ]
      },
      {
       "output_type": "stream",
       "stream": "stderr",
       "text": [
        "INFO:DEBUG.aietes.Node[n4].App:CommsTrustRoundRobin:Confirmed TX of n423 to n1 at 984.169822392 after 2.16982239186\n"
       ]
      },
      {
       "output_type": "stream",
       "stream": "stderr",
       "text": [
        "Confirmed TX of n423 to n1 at 984.169822392 after 2.16982239186\n"
       ]
      },
      {
       "output_type": "stream",
       "stream": "stderr",
       "text": [
        "\u001b[32m991.80   INFO   DEBUG.aietes.Node[n3].App:CommsTrustRoundRobin:Confirmed TX of n322 to n0 at 991.798071085 after 6.79807108545 (112)\u001b[0m\n"
       ]
      },
      {
       "output_type": "stream",
       "stream": "stderr",
       "text": [
        "INFO:DEBUG.aietes.Node[n3].App:CommsTrustRoundRobin:Confirmed TX of n322 to n0 at 991.798071085 after 6.79807108545\n"
       ]
      },
      {
       "output_type": "stream",
       "stream": "stderr",
       "text": [
        "Confirmed TX of n322 to n0 at 991.798071085 after 6.79807108545\n"
       ]
      },
      {
       "output_type": "stream",
       "stream": "stderr",
       "text": [
        "\u001b[32m996.37   INFO   DEBUG.aietes.Node[n0].App:CommsTrustRoundRobin:Confirmed TX of n025 to n5 at 996.370373784 after 2.37037378415 (112)\u001b[0m\n"
       ]
      },
      {
       "output_type": "stream",
       "stream": "stderr",
       "text": [
        "INFO:DEBUG.aietes.Node[n0].App:CommsTrustRoundRobin:Confirmed TX of n025 to n5 at 996.370373784 after 2.37037378415\n"
       ]
      },
      {
       "output_type": "stream",
       "stream": "stderr",
       "text": [
        "Confirmed TX of n025 to n5 at 996.370373784 after 2.37037378415\n"
       ]
      },
      {
       "output_type": "stream",
       "stream": "stderr",
       "text": [
        "\u001b[32m1001.64  INFO   DEBUG.aietes.Node[n1].App:CommsTrustRoundRobin:Confirmed TX of n124 to n2 at 1001.63610832 after 0.636108315544 (112)\u001b[0m\n"
       ]
      },
      {
       "output_type": "stream",
       "stream": "stderr",
       "text": [
        "INFO:DEBUG.aietes.Node[n1].App:CommsTrustRoundRobin:Confirmed TX of n124 to n2 at 1001.63610832 after 0.636108315544\n"
       ]
      },
      {
       "output_type": "stream",
       "stream": "stderr",
       "text": [
        "Confirmed TX of n124 to n2 at 1001.63610832 after 0.636108315544\n"
       ]
      },
      {
       "output_type": "stream",
       "stream": "stderr",
       "text": [
        "\u001b[32m1010.78  INFO   DEBUG.aietes.Node[n5].App:CommsTrustRoundRobin:Confirmed TX of n522 to n4 at 1010.77536846 after 28.7753684632 (112)\u001b[0m\n"
       ]
      },
      {
       "output_type": "stream",
       "stream": "stderr",
       "text": [
        "INFO:DEBUG.aietes.Node[n5].App:CommsTrustRoundRobin:Confirmed TX of n522 to n4 at 1010.77536846 after 28.7753684632\n"
       ]
      },
      {
       "output_type": "stream",
       "stream": "stderr",
       "text": [
        "Confirmed TX of n522 to n4 at 1010.77536846 after 28.7753684632\n"
       ]
      },
      {
       "output_type": "stream",
       "stream": "stderr",
       "text": [
        "\u001b[32m1021.90  INFO   DEBUG.aietes.Node[n5].App:CommsTrustRoundRobin:Confirmed TX of n523 to n3 at 1021.90265683 after 0.902656830662 (112)\u001b[0m\n"
       ]
      },
      {
       "output_type": "stream",
       "stream": "stderr",
       "text": [
        "INFO:DEBUG.aietes.Node[n5].App:CommsTrustRoundRobin:Confirmed TX of n523 to n3 at 1021.90265683 after 0.902656830662\n"
       ]
      },
      {
       "output_type": "stream",
       "stream": "stderr",
       "text": [
        "Confirmed TX of n523 to n3 at 1021.90265683 after 0.902656830662\n"
       ]
      },
      {
       "output_type": "stream",
       "stream": "stderr",
       "text": [
        "\u001b[32m1030.64  INFO   DEBUG.aietes.Node[n3].App:CommsTrustRoundRobin:Confirmed TX of n323 to n1 at 1030.63610832 after 0.636108315544 (112)\u001b[0m\n"
       ]
      },
      {
       "output_type": "stream",
       "stream": "stderr",
       "text": [
        "INFO:DEBUG.aietes.Node[n3].App:CommsTrustRoundRobin:Confirmed TX of n323 to n1 at 1030.63610832 after 0.636108315544\n"
       ]
      },
      {
       "output_type": "stream",
       "stream": "stderr",
       "text": [
        "Confirmed TX of n323 to n1 at 1030.63610832 after 0.636108315544\n"
       ]
      },
      {
       "output_type": "stream",
       "stream": "stderr",
       "text": [
        "\u001b[32m1040.34  INFO   DEBUG.aietes.Node[n4].App:CommsTrustRoundRobin:Confirmed TX of n424 to n0 at 1040.34267326 after 17.342673265 (112)\u001b[0m\n"
       ]
      },
      {
       "output_type": "stream",
       "stream": "stderr",
       "text": [
        "INFO:DEBUG.aietes.Node[n4].App:CommsTrustRoundRobin:Confirmed TX of n424 to n0 at 1040.34267326 after 17.342673265\n"
       ]
      },
      {
       "output_type": "stream",
       "stream": "stderr",
       "text": [
        "Confirmed TX of n424 to n0 at 1040.34267326 after 17.342673265\n"
       ]
      },
      {
       "output_type": "stream",
       "stream": "stderr",
       "text": [
        "\u001b[32m1043.71  INFO   DEBUG.aietes.Node[n0].App:CommsTrustRoundRobin:Confirmed TX of n026 to n1 at 1043.71473737 after 0.714737367575 (112)\u001b[0m\n"
       ]
      },
      {
       "output_type": "stream",
       "stream": "stderr",
       "text": [
        "INFO:DEBUG.aietes.Node[n0].App:CommsTrustRoundRobin:Confirmed TX of n026 to n1 at 1043.71473737 after 0.714737367575\n"
       ]
      },
      {
       "output_type": "stream",
       "stream": "stderr",
       "text": [
        "Confirmed TX of n026 to n1 at 1043.71473737 after 0.714737367575\n"
       ]
      },
      {
       "output_type": "stream",
       "stream": "stderr",
       "text": [
        "\u001b[32m1046.93  INFO   DEBUG.aietes.Node[n2].App:CommsTrustRoundRobin:Confirmed TX of n224 to n0 at 1046.92682476 after 33.9268247564 (112)\u001b[0m\n"
       ]
      },
      {
       "output_type": "stream",
       "stream": "stderr",
       "text": [
        "INFO:DEBUG.aietes.Node[n2].App:CommsTrustRoundRobin:Confirmed TX of n224 to n0 at 1046.92682476 after 33.9268247564\n"
       ]
      },
      {
       "output_type": "stream",
       "stream": "stderr",
       "text": [
        "Confirmed TX of n224 to n0 at 1046.92682476 after 33.9268247564\n"
       ]
      },
      {
       "output_type": "stream",
       "stream": "stderr",
       "text": [
        "\u001b[32m1054.73  INFO   DEBUG.aietes.Node[n5].App:CommsTrustRoundRobin:Confirmed TX of n524 to n1 at 1054.72655768 after 0.726557676538 (112)\u001b[0m\n"
       ]
      },
      {
       "output_type": "stream",
       "stream": "stderr",
       "text": [
        "INFO:DEBUG.aietes.Node[n5].App:CommsTrustRoundRobin:Confirmed TX of n524 to n1 at 1054.72655768 after 0.726557676538\n"
       ]
      },
      {
       "output_type": "stream",
       "stream": "stderr",
       "text": [
        "Confirmed TX of n524 to n1 at 1054.72655768 after 0.726557676538\n"
       ]
      },
      {
       "output_type": "stream",
       "stream": "stderr",
       "text": [
        "\u001b[32m1062.90  INFO   DEBUG.aietes.Node[n2].App:CommsTrustRoundRobin:Confirmed TX of n225 to n4 at 1062.90265683 after 0.902656830661 (112)\u001b[0m\n"
       ]
      },
      {
       "output_type": "stream",
       "stream": "stderr",
       "text": [
        "INFO:DEBUG.aietes.Node[n2].App:CommsTrustRoundRobin:Confirmed TX of n225 to n4 at 1062.90265683 after 0.902656830661\n"
       ]
      },
      {
       "output_type": "stream",
       "stream": "stderr",
       "text": [
        "Confirmed TX of n225 to n4 at 1062.90265683 after 0.902656830661\n"
       ]
      },
      {
       "output_type": "stream",
       "stream": "stderr",
       "text": [
        "\u001b[32m1067.35  INFO   DEBUG.aietes.Node[n4].App:CommsTrustRoundRobin:Confirmed TX of n425 to n3 at 1067.348331 after 2.34833099672 (112)\u001b[0m\n"
       ]
      },
      {
       "output_type": "stream",
       "stream": "stderr",
       "text": [
        "INFO:DEBUG.aietes.Node[n4].App:CommsTrustRoundRobin:Confirmed TX of n425 to n3 at 1067.348331 after 2.34833099672\n"
       ]
      },
      {
       "output_type": "stream",
       "stream": "stderr",
       "text": [
        "Confirmed TX of n425 to n3 at 1067.348331 after 2.34833099672\n"
       ]
      },
      {
       "output_type": "stream",
       "stream": "stderr",
       "text": [
        "\u001b[32m1076.28  INFO   DEBUG.aietes.Node[n1].App:CommsTrustRoundRobin:Confirmed TX of n125 to n2 at 1076.27812155 after 28.2781215546 (112)\u001b[0m\n"
       ]
      },
      {
       "output_type": "stream",
       "stream": "stderr",
       "text": [
        "INFO:DEBUG.aietes.Node[n1].App:CommsTrustRoundRobin:Confirmed TX of n125 to n2 at 1076.27812155 after 28.2781215546\n"
       ]
      },
      {
       "output_type": "stream",
       "stream": "stderr",
       "text": [
        "Confirmed TX of n125 to n2 at 1076.27812155 after 28.2781215546\n"
       ]
      },
      {
       "output_type": "stream",
       "stream": "stderr",
       "text": [
        "\u001b[32m1080.99  INFO   DEBUG.aietes.Node[n0].App:CommsTrustRoundRobin:Confirmed TX of n027 to n4 at 1080.98920041 after 0.989200412303 (112)\u001b[0m\n"
       ]
      },
      {
       "output_type": "stream",
       "stream": "stderr",
       "text": [
        "INFO:DEBUG.aietes.Node[n0].App:CommsTrustRoundRobin:Confirmed TX of n027 to n4 at 1080.98920041 after 0.989200412303\n"
       ]
      },
      {
       "output_type": "stream",
       "stream": "stderr",
       "text": [
        "Confirmed TX of n027 to n4 at 1080.98920041 after 0.989200412303\n"
       ]
      },
      {
       "output_type": "stream",
       "stream": "stderr",
       "text": [
        "\u001b[32m1085.64  INFO   DEBUG.aietes.Node[n3].App:CommsTrustRoundRobin:Confirmed TX of n324 to n1 at 1085.63610832 after 0.636108315544 (112)\u001b[0m\n"
       ]
      },
      {
       "output_type": "stream",
       "stream": "stderr",
       "text": [
        "INFO:DEBUG.aietes.Node[n3].App:CommsTrustRoundRobin:Confirmed TX of n324 to n1 at 1085.63610832 after 0.636108315544\n"
       ]
      },
      {
       "output_type": "stream",
       "stream": "stderr",
       "text": [
        "Confirmed TX of n324 to n1 at 1085.63610832 after 0.636108315544\n"
       ]
      },
      {
       "output_type": "stream",
       "stream": "stderr",
       "text": [
        "\u001b[32m1089.71  INFO   DEBUG.aietes.Node[n1].App:CommsTrustRoundRobin:Confirmed TX of n126 to n0 at 1089.71473737 after 0.714737367575 (112)\u001b[0m\n"
       ]
      },
      {
       "output_type": "stream",
       "stream": "stderr",
       "text": [
        "INFO:DEBUG.aietes.Node[n1].App:CommsTrustRoundRobin:Confirmed TX of n126 to n0 at 1089.71473737 after 0.714737367575\n"
       ]
      },
      {
       "output_type": "stream",
       "stream": "stderr",
       "text": [
        "Confirmed TX of n126 to n0 at 1089.71473737 after 0.714737367575\n"
       ]
      },
      {
       "output_type": "stream",
       "stream": "stderr",
       "text": [
        "\u001b[32m1099.48  INFO   DEBUG.aietes.Node[n5].App:CommsTrustRoundRobin:Confirmed TX of n525 to n2 at 1099.47869951 after 8.47869951451 (112)\u001b[0m\n"
       ]
      },
      {
       "output_type": "stream",
       "stream": "stderr",
       "text": [
        "INFO:DEBUG.aietes.Node[n5].App:CommsTrustRoundRobin:Confirmed TX of n525 to n2 at 1099.47869951 after 8.47869951451\n"
       ]
      },
      {
       "output_type": "stream",
       "stream": "stderr",
       "text": [
        "Confirmed TX of n525 to n2 at 1099.47869951 after 8.47869951451\n"
       ]
      },
      {
       "output_type": "stream",
       "stream": "stderr",
       "text": [
        "\u001b[32m1104.64  INFO   DEBUG.aietes.Node[n2].App:CommsTrustRoundRobin:Confirmed TX of n226 to n0 at 1104.63610832 after 0.636108315544 (112)\u001b[0m\n"
       ]
      },
      {
       "output_type": "stream",
       "stream": "stderr",
       "text": [
        "INFO:DEBUG.aietes.Node[n2].App:CommsTrustRoundRobin:Confirmed TX of n226 to n0 at 1104.63610832 after 0.636108315544\n"
       ]
      },
      {
       "output_type": "stream",
       "stream": "stderr",
       "text": [
        "Confirmed TX of n226 to n0 at 1104.63610832 after 0.636108315544\n"
       ]
      },
      {
       "output_type": "stream",
       "stream": "stderr",
       "text": [
        "\u001b[32m1112.99  INFO   DEBUG.aietes.Node[n0].App:CommsTrustRoundRobin:Confirmed TX of n028 to n5 at 1112.98920041 after 0.989200412303 (112)\u001b[0m\n"
       ]
      },
      {
       "output_type": "stream",
       "stream": "stderr",
       "text": [
        "INFO:DEBUG.aietes.Node[n0].App:CommsTrustRoundRobin:Confirmed TX of n028 to n5 at 1112.98920041 after 0.989200412303\n"
       ]
      },
      {
       "output_type": "stream",
       "stream": "stderr",
       "text": [
        "Confirmed TX of n028 to n5 at 1112.98920041 after 0.989200412303\n"
       ]
      },
      {
       "output_type": "stream",
       "stream": "stderr",
       "text": [
        "\u001b[32m1116.61  INFO   DEBUG.aietes.Node[n4].App:CommsTrustRoundRobin:Confirmed TX of n426 to n5 at 1116.60735482 after 0.607354817239 (112)\u001b[0m\n"
       ]
      },
      {
       "output_type": "stream",
       "stream": "stderr",
       "text": [
        "INFO:DEBUG.aietes.Node[n4].App:CommsTrustRoundRobin:Confirmed TX of n426 to n5 at 1116.60735482 after 0.607354817239\n"
       ]
      },
      {
       "output_type": "stream",
       "stream": "stderr",
       "text": [
        "Confirmed TX of n426 to n5 at 1116.60735482 after 0.607354817239\n"
       ]
      },
      {
       "output_type": "stream",
       "stream": "stderr",
       "text": [
        "\u001b[32m1124.30  INFO   DEBUG.aietes.Node[n1].App:CommsTrustRoundRobin:Confirmed TX of n127 to n4 at 1124.30130313 after 6.30130313012 (112)\u001b[0m\n"
       ]
      },
      {
       "output_type": "stream",
       "stream": "stderr",
       "text": [
        "INFO:DEBUG.aietes.Node[n1].App:CommsTrustRoundRobin:Confirmed TX of n127 to n4 at 1124.30130313 after 6.30130313012\n"
       ]
      },
      {
       "output_type": "stream",
       "stream": "stderr",
       "text": [
        "Confirmed TX of n127 to n4 at 1124.30130313 after 6.30130313012\n"
       ]
      },
      {
       "output_type": "stream",
       "stream": "stderr",
       "text": [
        "\u001b[32m1128.61  INFO   DEBUG.aietes.Node[n5].App:CommsTrustRoundRobin:Confirmed TX of n526 to n4 at 1128.60735482 after 0.607354817239 (112)\u001b[0m\n"
       ]
      },
      {
       "output_type": "stream",
       "stream": "stderr",
       "text": [
        "INFO:DEBUG.aietes.Node[n5].App:CommsTrustRoundRobin:Confirmed TX of n526 to n4 at 1128.60735482 after 0.607354817239\n"
       ]
      },
      {
       "output_type": "stream",
       "stream": "stderr",
       "text": [
        "Confirmed TX of n526 to n4 at 1128.60735482 after 0.607354817239\n"
       ]
      },
      {
       "output_type": "stream",
       "stream": "stderr",
       "text": [
        "\u001b[32m1134.64  INFO   DEBUG.aietes.Node[n3].App:CommsTrustRoundRobin:Confirmed TX of n325 to n0 at 1134.63610832 after 0.636108315544 (112)\u001b[0m\n"
       ]
      },
      {
       "output_type": "stream",
       "stream": "stderr",
       "text": [
        "INFO:DEBUG.aietes.Node[n3].App:CommsTrustRoundRobin:Confirmed TX of n325 to n0 at 1134.63610832 after 0.636108315544\n"
       ]
      },
      {
       "output_type": "stream",
       "stream": "stderr",
       "text": [
        "Confirmed TX of n325 to n0 at 1134.63610832 after 0.636108315544\n"
       ]
      },
      {
       "output_type": "stream",
       "stream": "stderr",
       "text": [
        "\u001b[32m1148.71  INFO   DEBUG.aietes.Node[n2].App:CommsTrustRoundRobin:Confirmed TX of n227 to n3 at 1148.71473737 after 0.714737367575 (112)\u001b[0m\n"
       ]
      },
      {
       "output_type": "stream",
       "stream": "stderr",
       "text": [
        "INFO:DEBUG.aietes.Node[n2].App:CommsTrustRoundRobin:Confirmed TX of n227 to n3 at 1148.71473737 after 0.714737367575\n"
       ]
      },
      {
       "output_type": "stream",
       "stream": "stderr",
       "text": [
        "Confirmed TX of n227 to n3 at 1148.71473737 after 0.714737367575\n"
       ]
      },
      {
       "output_type": "stream",
       "stream": "stderr",
       "text": [
        "\u001b[32m1151.95  INFO   DEBUG.aietes.Node[n0].App:CommsTrustRoundRobin:Confirmed TX of n029 to n1 at 1151.95101267 after 0.951012665195 (112)\u001b[0m\n"
       ]
      },
      {
       "output_type": "stream",
       "stream": "stderr",
       "text": [
        "INFO:DEBUG.aietes.Node[n0].App:CommsTrustRoundRobin:Confirmed TX of n029 to n1 at 1151.95101267 after 0.951012665195\n"
       ]
      },
      {
       "output_type": "stream",
       "stream": "stderr",
       "text": [
        "Confirmed TX of n029 to n1 at 1151.95101267 after 0.951012665195\n"
       ]
      },
      {
       "output_type": "stream",
       "stream": "stderr",
       "text": [
        "\u001b[32m1156.69  INFO   DEBUG.aietes.Node[n4].App:CommsTrustRoundRobin:Confirmed TX of n427 to n3 at 1156.69390399 after 3.69390398843 (112)\u001b[0m\n"
       ]
      },
      {
       "output_type": "stream",
       "stream": "stderr",
       "text": [
        "INFO:DEBUG.aietes.Node[n4].App:CommsTrustRoundRobin:Confirmed TX of n427 to n3 at 1156.69390399 after 3.69390398843\n"
       ]
      },
      {
       "output_type": "stream",
       "stream": "stderr",
       "text": [
        "Confirmed TX of n427 to n3 at 1156.69390399 after 3.69390398843\n"
       ]
      },
      {
       "output_type": "stream",
       "stream": "stderr",
       "text": [
        "\u001b[32m1162.85  INFO   DEBUG.aietes.Node[n5].App:CommsTrustRoundRobin:Confirmed TX of n527 to n2 at 1162.85252921 after 0.85252920517 (112)\u001b[0m\n"
       ]
      },
      {
       "output_type": "stream",
       "stream": "stderr",
       "text": [
        "INFO:DEBUG.aietes.Node[n5].App:CommsTrustRoundRobin:Confirmed TX of n527 to n2 at 1162.85252921 after 0.85252920517\n"
       ]
      },
      {
       "output_type": "stream",
       "stream": "stderr",
       "text": [
        "Confirmed TX of n527 to n2 at 1162.85252921 after 0.85252920517\n"
       ]
      },
      {
       "output_type": "stream",
       "stream": "stderr",
       "text": [
        "\u001b[32m1167.73  INFO   DEBUG.aietes.Node[n1].App:CommsTrustRoundRobin:Confirmed TX of n128 to n5 at 1167.72655768 after 0.726557676538 (112)\u001b[0m\n"
       ]
      },
      {
       "output_type": "stream",
       "stream": "stderr",
       "text": [
        "INFO:DEBUG.aietes.Node[n1].App:CommsTrustRoundRobin:Confirmed TX of n128 to n5 at 1167.72655768 after 0.726557676538\n"
       ]
      },
      {
       "output_type": "stream",
       "stream": "stderr",
       "text": [
        "Confirmed TX of n128 to n5 at 1167.72655768 after 0.726557676538\n"
       ]
      },
      {
       "output_type": "stream",
       "stream": "stderr",
       "text": [
        "\u001b[32m1185.64  INFO   DEBUG.aietes.Node[n3].App:CommsTrustRoundRobin:Confirmed TX of n326 to n1 at 1185.63610832 after 0.636108315544 (112)\u001b[0m\n"
       ]
      },
      {
       "output_type": "stream",
       "stream": "stderr",
       "text": [
        "INFO:DEBUG.aietes.Node[n3].App:CommsTrustRoundRobin:Confirmed TX of n326 to n1 at 1185.63610832 after 0.636108315544\n"
       ]
      },
      {
       "output_type": "stream",
       "stream": "stderr",
       "text": [
        "Confirmed TX of n326 to n1 at 1185.63610832 after 0.636108315544\n"
       ]
      },
      {
       "output_type": "stream",
       "stream": "stderr",
       "text": [
        "\u001b[32m1190.99  INFO   DEBUG.aietes.Node[n5].App:CommsTrustRoundRobin:Confirmed TX of n528 to n0 at 1190.98920041 after 0.989200412303 (112)\u001b[0m\n"
       ]
      },
      {
       "output_type": "stream",
       "stream": "stderr",
       "text": [
        "INFO:DEBUG.aietes.Node[n5].App:CommsTrustRoundRobin:Confirmed TX of n528 to n0 at 1190.98920041 after 0.989200412303\n"
       ]
      },
      {
       "output_type": "stream",
       "stream": "stderr",
       "text": [
        "Confirmed TX of n528 to n0 at 1190.98920041 after 0.989200412303\n"
       ]
      },
      {
       "output_type": "stream",
       "stream": "stderr",
       "text": [
        "\u001b[32m1194.09  INFO   DEBUG.aietes.Node[n0].App:CommsTrustRoundRobin:Confirmed TX of n030 to n2 at 1194.09170382 after 2.09170381562 (112)\u001b[0m\n"
       ]
      },
      {
       "output_type": "stream",
       "stream": "stderr",
       "text": [
        "INFO:DEBUG.aietes.Node[n0].App:CommsTrustRoundRobin:Confirmed TX of n030 to n2 at 1194.09170382 after 2.09170381562\n"
       ]
      },
      {
       "output_type": "stream",
       "stream": "stderr",
       "text": [
        "Confirmed TX of n030 to n2 at 1194.09170382 after 2.09170381562\n"
       ]
      },
      {
       "output_type": "stream",
       "stream": "stderr",
       "text": [
        "\u001b[32m1197.85  INFO   DEBUG.aietes.Node[n4].App:CommsTrustRoundRobin:Confirmed TX of n428 to n3 at 1197.85252921 after 0.85252920517 (112)\u001b[0m\n"
       ]
      },
      {
       "output_type": "stream",
       "stream": "stderr",
       "text": [
        "INFO:DEBUG.aietes.Node[n4].App:CommsTrustRoundRobin:Confirmed TX of n428 to n3 at 1197.85252921 after 0.85252920517\n"
       ]
      },
      {
       "output_type": "stream",
       "stream": "stderr",
       "text": [
        "Confirmed TX of n428 to n3 at 1197.85252921 after 0.85252920517\n"
       ]
      },
      {
       "output_type": "stream",
       "stream": "stderr",
       "text": [
        "\u001b[32m1200.00  INFO   DEBUG:Finished Simulation at 1200.0(20 minutes) after 4.76228404045 seconds (196)\u001b[0m\n"
       ]
      },
      {
       "output_type": "stream",
       "stream": "stderr",
       "text": [
        "INFO:DEBUG:Finished Simulation at 1200.0(20 minutes) after 4.76228404045 seconds\n"
       ]
      },
      {
       "output_type": "stream",
       "stream": "stderr",
       "text": [
        "Finished Simulation at 1200.0(20 minutes) after 4.76228404045 seconds\n"
       ]
      }
     ],
     "prompt_number": 29
    },
    {
     "cell_type": "code",
     "collapsed": false,
     "input": [
      "trust"
     ],
     "language": "python",
     "metadata": {},
     "outputs": [
      {
       "html": [
        "<div style=\"max-height:1000px;max-width:1500px;overflow:auto;\">\n",
        "<table border=\"1\" class=\"dataframe\">\n",
        "  <thead>\n",
        "    <tr style=\"text-align: right;\">\n",
        "      <th></th>\n",
        "      <th></th>\n",
        "      <th></th>\n",
        "      <th>ADelay</th>\n",
        "      <th>ARXP</th>\n",
        "      <th>ATXP</th>\n",
        "      <th>RXThroughput</th>\n",
        "      <th>PLR</th>\n",
        "      <th>TXThroughput</th>\n",
        "    </tr>\n",
        "    <tr>\n",
        "      <th>observer</th>\n",
        "      <th>target</th>\n",
        "      <th>t</th>\n",
        "      <th></th>\n",
        "      <th></th>\n",
        "      <th></th>\n",
        "      <th></th>\n",
        "      <th></th>\n",
        "      <th></th>\n",
        "    </tr>\n",
        "  </thead>\n",
        "  <tbody>\n",
        "    <tr>\n",
        "      <th rowspan=\"10\" valign=\"top\">n0</th>\n",
        "      <th rowspan=\"2\" valign=\"top\">n1</th>\n",
        "      <th>0</th>\n",
        "      <td>       NaN</td>\n",
        "      <td>        NaN</td>\n",
        "      <td>       NaN</td>\n",
        "      <td>   NaN</td>\n",
        "      <td>NaN</td>\n",
        "      <td>   NaN</td>\n",
        "    </tr>\n",
        "    <tr>\n",
        "      <th>1</th>\n",
        "      <td>  2.144183</td>\n",
        "      <td> 105.373292</td>\n",
        "      <td> 91.085576</td>\n",
        "      <td> 28800</td>\n",
        "      <td>  0</td>\n",
        "      <td> 28800</td>\n",
        "    </tr>\n",
        "    <tr>\n",
        "      <th rowspan=\"2\" valign=\"top\">n2</th>\n",
        "      <th>0</th>\n",
        "      <td>       NaN</td>\n",
        "      <td>        NaN</td>\n",
        "      <td>       NaN</td>\n",
        "      <td>   NaN</td>\n",
        "      <td>NaN</td>\n",
        "      <td>   NaN</td>\n",
        "    </tr>\n",
        "    <tr>\n",
        "      <th>1</th>\n",
        "      <td>  2.951543</td>\n",
        "      <td> 101.926090</td>\n",
        "      <td> 91.085576</td>\n",
        "      <td> 28800</td>\n",
        "      <td>  0</td>\n",
        "      <td> 28800</td>\n",
        "    </tr>\n",
        "    <tr>\n",
        "      <th rowspan=\"2\" valign=\"top\">n3</th>\n",
        "      <th>0</th>\n",
        "      <td>       NaN</td>\n",
        "      <td>        NaN</td>\n",
        "      <td>       NaN</td>\n",
        "      <td>   NaN</td>\n",
        "      <td>NaN</td>\n",
        "      <td>   NaN</td>\n",
        "    </tr>\n",
        "    <tr>\n",
        "      <th>1</th>\n",
        "      <td>  0.587550</td>\n",
        "      <td> 101.926090</td>\n",
        "      <td> 91.085576</td>\n",
        "      <td>  9600</td>\n",
        "      <td>  0</td>\n",
        "      <td> 38400</td>\n",
        "    </tr>\n",
        "    <tr>\n",
        "      <th rowspan=\"2\" valign=\"top\">n4</th>\n",
        "      <th>0</th>\n",
        "      <td>       NaN</td>\n",
        "      <td>        NaN</td>\n",
        "      <td>       NaN</td>\n",
        "      <td>   NaN</td>\n",
        "      <td>NaN</td>\n",
        "      <td>   NaN</td>\n",
        "    </tr>\n",
        "    <tr>\n",
        "      <th>1</th>\n",
        "      <td>  8.794014</td>\n",
        "      <td> 100.661634</td>\n",
        "      <td> 91.085576</td>\n",
        "      <td> 28800</td>\n",
        "      <td>  0</td>\n",
        "      <td> 28800</td>\n",
        "    </tr>\n",
        "    <tr>\n",
        "      <th rowspan=\"2\" valign=\"top\">n5</th>\n",
        "      <th>0</th>\n",
        "      <td>       NaN</td>\n",
        "      <td>        NaN</td>\n",
        "      <td>       NaN</td>\n",
        "      <td>   NaN</td>\n",
        "      <td>NaN</td>\n",
        "      <td>   NaN</td>\n",
        "    </tr>\n",
        "    <tr>\n",
        "      <th>1</th>\n",
        "      <td> 30.175657</td>\n",
        "      <td> 100.661634</td>\n",
        "      <td> 91.085576</td>\n",
        "      <td> 28800</td>\n",
        "      <td>  0</td>\n",
        "      <td> 19200</td>\n",
        "    </tr>\n",
        "    <tr>\n",
        "      <th rowspan=\"10\" valign=\"top\">n1</th>\n",
        "      <th rowspan=\"2\" valign=\"top\">n0</th>\n",
        "      <th>0</th>\n",
        "      <td>       NaN</td>\n",
        "      <td>        NaN</td>\n",
        "      <td>       NaN</td>\n",
        "      <td>   NaN</td>\n",
        "      <td>NaN</td>\n",
        "      <td>   NaN</td>\n",
        "    </tr>\n",
        "    <tr>\n",
        "      <th>1</th>\n",
        "      <td>  3.696533</td>\n",
        "      <td> 100.661634</td>\n",
        "      <td> 91.085576</td>\n",
        "      <td> 28800</td>\n",
        "      <td>  0</td>\n",
        "      <td> 28800</td>\n",
        "    </tr>\n",
        "    <tr>\n",
        "      <th rowspan=\"2\" valign=\"top\">n2</th>\n",
        "      <th>0</th>\n",
        "      <td>       NaN</td>\n",
        "      <td>        NaN</td>\n",
        "      <td>       NaN</td>\n",
        "      <td>   NaN</td>\n",
        "      <td>NaN</td>\n",
        "      <td>   NaN</td>\n",
        "    </tr>\n",
        "    <tr>\n",
        "      <th>1</th>\n",
        "      <td>  1.864227</td>\n",
        "      <td> 101.926090</td>\n",
        "      <td> 91.085576</td>\n",
        "      <td> 19200</td>\n",
        "      <td>  0</td>\n",
        "      <td> 28800</td>\n",
        "    </tr>\n",
        "    <tr>\n",
        "      <th rowspan=\"2\" valign=\"top\">n3</th>\n",
        "      <th>0</th>\n",
        "      <td>       NaN</td>\n",
        "      <td>        NaN</td>\n",
        "      <td>       NaN</td>\n",
        "      <td>   NaN</td>\n",
        "      <td>NaN</td>\n",
        "      <td>   NaN</td>\n",
        "    </tr>\n",
        "    <tr>\n",
        "      <th>1</th>\n",
        "      <td>  1.662912</td>\n",
        "      <td> 101.926090</td>\n",
        "      <td> 91.085576</td>\n",
        "      <td> 28800</td>\n",
        "      <td>  0</td>\n",
        "      <td> 19200</td>\n",
        "    </tr>\n",
        "    <tr>\n",
        "      <th rowspan=\"2\" valign=\"top\">n4</th>\n",
        "      <th>0</th>\n",
        "      <td>       NaN</td>\n",
        "      <td>        NaN</td>\n",
        "      <td>       NaN</td>\n",
        "      <td>   NaN</td>\n",
        "      <td>NaN</td>\n",
        "      <td>   NaN</td>\n",
        "    </tr>\n",
        "    <tr>\n",
        "      <th>1</th>\n",
        "      <td> 30.048452</td>\n",
        "      <td> 100.661634</td>\n",
        "      <td> 91.085576</td>\n",
        "      <td> 19200</td>\n",
        "      <td>  0</td>\n",
        "      <td> 38400</td>\n",
        "    </tr>\n",
        "    <tr>\n",
        "      <th rowspan=\"2\" valign=\"top\">n5</th>\n",
        "      <th>0</th>\n",
        "      <td>       NaN</td>\n",
        "      <td>        NaN</td>\n",
        "      <td>       NaN</td>\n",
        "      <td>   NaN</td>\n",
        "      <td>NaN</td>\n",
        "      <td>   NaN</td>\n",
        "    </tr>\n",
        "    <tr>\n",
        "      <th>1</th>\n",
        "      <td>  6.687049</td>\n",
        "      <td> 100.661634</td>\n",
        "      <td> 91.085576</td>\n",
        "      <td> 38400</td>\n",
        "      <td>  0</td>\n",
        "      <td> 19200</td>\n",
        "    </tr>\n",
        "    <tr>\n",
        "      <th rowspan=\"10\" valign=\"top\">n2</th>\n",
        "      <th rowspan=\"2\" valign=\"top\">n0</th>\n",
        "      <th>0</th>\n",
        "      <td>       NaN</td>\n",
        "      <td>        NaN</td>\n",
        "      <td>       NaN</td>\n",
        "      <td>   NaN</td>\n",
        "      <td>NaN</td>\n",
        "      <td>   NaN</td>\n",
        "    </tr>\n",
        "    <tr>\n",
        "      <th>1</th>\n",
        "      <td>  8.608769</td>\n",
        "      <td> 100.661634</td>\n",
        "      <td> 91.085576</td>\n",
        "      <td> 28800</td>\n",
        "      <td>  0</td>\n",
        "      <td> 28800</td>\n",
        "    </tr>\n",
        "    <tr>\n",
        "      <th rowspan=\"2\" valign=\"top\">n1</th>\n",
        "      <th>0</th>\n",
        "      <td>       NaN</td>\n",
        "      <td>        NaN</td>\n",
        "      <td>       NaN</td>\n",
        "      <td>   NaN</td>\n",
        "      <td>NaN</td>\n",
        "      <td>   NaN</td>\n",
        "    </tr>\n",
        "    <tr>\n",
        "      <th>1</th>\n",
        "      <td>  2.071639</td>\n",
        "      <td> 105.373292</td>\n",
        "      <td> 91.085576</td>\n",
        "      <td> 28800</td>\n",
        "      <td>  0</td>\n",
        "      <td> 19200</td>\n",
        "    </tr>\n",
        "    <tr>\n",
        "      <th rowspan=\"2\" valign=\"top\">n3</th>\n",
        "      <th>0</th>\n",
        "      <td>       NaN</td>\n",
        "      <td>        NaN</td>\n",
        "      <td>       NaN</td>\n",
        "      <td>   NaN</td>\n",
        "      <td>NaN</td>\n",
        "      <td>   NaN</td>\n",
        "    </tr>\n",
        "    <tr>\n",
        "      <th>1</th>\n",
        "      <td>  0.646521</td>\n",
        "      <td> 101.926090</td>\n",
        "      <td> 91.085576</td>\n",
        "      <td> 19200</td>\n",
        "      <td>  0</td>\n",
        "      <td> 28800</td>\n",
        "    </tr>\n",
        "    <tr>\n",
        "      <th rowspan=\"2\" valign=\"top\">n4</th>\n",
        "      <th>0</th>\n",
        "      <td>       NaN</td>\n",
        "      <td>        NaN</td>\n",
        "      <td>       NaN</td>\n",
        "      <td>   NaN</td>\n",
        "      <td>NaN</td>\n",
        "      <td>   NaN</td>\n",
        "    </tr>\n",
        "    <tr>\n",
        "      <th>1</th>\n",
        "      <td>  4.138186</td>\n",
        "      <td> 100.661634</td>\n",
        "      <td> 91.085576</td>\n",
        "      <td> 38400</td>\n",
        "      <td>  0</td>\n",
        "      <td> 19200</td>\n",
        "    </tr>\n",
        "    <tr>\n",
        "      <th rowspan=\"2\" valign=\"top\">n5</th>\n",
        "      <th>0</th>\n",
        "      <td>       NaN</td>\n",
        "      <td>        NaN</td>\n",
        "      <td>       NaN</td>\n",
        "      <td>   NaN</td>\n",
        "      <td>NaN</td>\n",
        "      <td>   NaN</td>\n",
        "    </tr>\n",
        "    <tr>\n",
        "      <th>1</th>\n",
        "      <td> 25.673033</td>\n",
        "      <td> 100.661634</td>\n",
        "      <td> 91.085576</td>\n",
        "      <td> 19200</td>\n",
        "      <td>  0</td>\n",
        "      <td> 28800</td>\n",
        "    </tr>\n",
        "    <tr>\n",
        "      <th rowspan=\"10\" valign=\"top\">n3</th>\n",
        "      <th rowspan=\"2\" valign=\"top\">n0</th>\n",
        "      <th>0</th>\n",
        "      <td>       NaN</td>\n",
        "      <td>        NaN</td>\n",
        "      <td>       NaN</td>\n",
        "      <td>   NaN</td>\n",
        "      <td>NaN</td>\n",
        "      <td>   NaN</td>\n",
        "    </tr>\n",
        "    <tr>\n",
        "      <th>1</th>\n",
        "      <td>  3.179151</td>\n",
        "      <td> 100.661634</td>\n",
        "      <td> 91.085576</td>\n",
        "      <td> 38400</td>\n",
        "      <td>  0</td>\n",
        "      <td>  9600</td>\n",
        "    </tr>\n",
        "    <tr>\n",
        "      <th rowspan=\"2\" valign=\"top\">n1</th>\n",
        "      <th>0</th>\n",
        "      <td>       NaN</td>\n",
        "      <td>        NaN</td>\n",
        "      <td>       NaN</td>\n",
        "      <td>   NaN</td>\n",
        "      <td>NaN</td>\n",
        "      <td>   NaN</td>\n",
        "    </tr>\n",
        "    <tr>\n",
        "      <th>1</th>\n",
        "      <td>  2.912517</td>\n",
        "      <td> 105.373292</td>\n",
        "      <td> 91.085576</td>\n",
        "      <td> 19200</td>\n",
        "      <td>  0</td>\n",
        "      <td> 28800</td>\n",
        "    </tr>\n",
        "    <tr>\n",
        "      <th rowspan=\"2\" valign=\"top\">n2</th>\n",
        "      <th>0</th>\n",
        "      <td>       NaN</td>\n",
        "      <td>        NaN</td>\n",
        "      <td>       NaN</td>\n",
        "      <td>   NaN</td>\n",
        "      <td>NaN</td>\n",
        "      <td>   NaN</td>\n",
        "    </tr>\n",
        "    <tr>\n",
        "      <th>1</th>\n",
        "      <td>  7.394559</td>\n",
        "      <td> 101.926090</td>\n",
        "      <td> 91.085576</td>\n",
        "      <td> 28800</td>\n",
        "      <td>  0</td>\n",
        "      <td> 19200</td>\n",
        "    </tr>\n",
        "    <tr>\n",
        "      <th rowspan=\"2\" valign=\"top\">n4</th>\n",
        "      <th>0</th>\n",
        "      <td>       NaN</td>\n",
        "      <td>        NaN</td>\n",
        "      <td>       NaN</td>\n",
        "      <td>   NaN</td>\n",
        "      <td>NaN</td>\n",
        "      <td>   NaN</td>\n",
        "    </tr>\n",
        "    <tr>\n",
        "      <th>1</th>\n",
        "      <td>  4.482521</td>\n",
        "      <td> 100.661634</td>\n",
        "      <td> 91.085576</td>\n",
        "      <td> 19200</td>\n",
        "      <td>  0</td>\n",
        "      <td> 28800</td>\n",
        "    </tr>\n",
        "    <tr>\n",
        "      <th rowspan=\"2\" valign=\"top\">n5</th>\n",
        "      <th>0</th>\n",
        "      <td>       NaN</td>\n",
        "      <td>        NaN</td>\n",
        "      <td>       NaN</td>\n",
        "      <td>   NaN</td>\n",
        "      <td>NaN</td>\n",
        "      <td>   NaN</td>\n",
        "    </tr>\n",
        "    <tr>\n",
        "      <th>1</th>\n",
        "      <td>  0.787461</td>\n",
        "      <td> 100.661634</td>\n",
        "      <td> 91.085576</td>\n",
        "      <td>  9600</td>\n",
        "      <td>  0</td>\n",
        "      <td> 38400</td>\n",
        "    </tr>\n",
        "    <tr>\n",
        "      <th rowspan=\"10\" valign=\"top\">n4</th>\n",
        "      <th rowspan=\"2\" valign=\"top\">n0</th>\n",
        "      <th>0</th>\n",
        "      <td>       NaN</td>\n",
        "      <td>        NaN</td>\n",
        "      <td>       NaN</td>\n",
        "      <td>   NaN</td>\n",
        "      <td>NaN</td>\n",
        "      <td>   NaN</td>\n",
        "    </tr>\n",
        "    <tr>\n",
        "      <th>1</th>\n",
        "      <td>  1.346224</td>\n",
        "      <td> 100.661634</td>\n",
        "      <td> 91.085576</td>\n",
        "      <td> 28800</td>\n",
        "      <td>  0</td>\n",
        "      <td> 28800</td>\n",
        "    </tr>\n",
        "    <tr>\n",
        "      <th rowspan=\"2\" valign=\"top\">n1</th>\n",
        "      <th>0</th>\n",
        "      <td>       NaN</td>\n",
        "      <td>        NaN</td>\n",
        "      <td>       NaN</td>\n",
        "      <td>   NaN</td>\n",
        "      <td>NaN</td>\n",
        "      <td>   NaN</td>\n",
        "    </tr>\n",
        "    <tr>\n",
        "      <th>1</th>\n",
        "      <td>  2.153172</td>\n",
        "      <td> 105.373292</td>\n",
        "      <td> 91.085576</td>\n",
        "      <td> 38400</td>\n",
        "      <td>  0</td>\n",
        "      <td> 19200</td>\n",
        "    </tr>\n",
        "    <tr>\n",
        "      <th rowspan=\"2\" valign=\"top\">n2</th>\n",
        "      <th>0</th>\n",
        "      <td>       NaN</td>\n",
        "      <td>        NaN</td>\n",
        "      <td>       NaN</td>\n",
        "      <td>   NaN</td>\n",
        "      <td>NaN</td>\n",
        "      <td>   NaN</td>\n",
        "    </tr>\n",
        "    <tr>\n",
        "      <th>1</th>\n",
        "      <td>  3.091543</td>\n",
        "      <td> 101.926090</td>\n",
        "      <td> 91.085576</td>\n",
        "      <td> 19200</td>\n",
        "      <td>  0</td>\n",
        "      <td> 38400</td>\n",
        "    </tr>\n",
        "    <tr>\n",
        "      <th rowspan=\"2\" valign=\"top\">n3</th>\n",
        "      <th>0</th>\n",
        "      <td>       NaN</td>\n",
        "      <td>        NaN</td>\n",
        "      <td>       NaN</td>\n",
        "      <td>   NaN</td>\n",
        "      <td>NaN</td>\n",
        "      <td>   NaN</td>\n",
        "    </tr>\n",
        "    <tr>\n",
        "      <th>1</th>\n",
        "      <td>  8.347106</td>\n",
        "      <td> 101.926090</td>\n",
        "      <td> 91.085576</td>\n",
        "      <td> 28800</td>\n",
        "      <td>  0</td>\n",
        "      <td> 19200</td>\n",
        "    </tr>\n",
        "    <tr>\n",
        "      <th rowspan=\"2\" valign=\"top\">n5</th>\n",
        "      <th>0</th>\n",
        "      <td>       NaN</td>\n",
        "      <td>        NaN</td>\n",
        "      <td>       NaN</td>\n",
        "      <td>   NaN</td>\n",
        "      <td>NaN</td>\n",
        "      <td>   NaN</td>\n",
        "    </tr>\n",
        "    <tr>\n",
        "      <th>1</th>\n",
        "      <td> 22.005630</td>\n",
        "      <td> 100.661634</td>\n",
        "      <td> 91.085576</td>\n",
        "      <td> 28800</td>\n",
        "      <td>  0</td>\n",
        "      <td> 28800</td>\n",
        "    </tr>\n",
        "    <tr>\n",
        "      <th rowspan=\"10\" valign=\"top\">n5</th>\n",
        "      <th rowspan=\"2\" valign=\"top\">n0</th>\n",
        "      <th>0</th>\n",
        "      <td>       NaN</td>\n",
        "      <td>        NaN</td>\n",
        "      <td>       NaN</td>\n",
        "      <td>   NaN</td>\n",
        "      <td>NaN</td>\n",
        "      <td>   NaN</td>\n",
        "    </tr>\n",
        "    <tr>\n",
        "      <th>1</th>\n",
        "      <td>  9.153274</td>\n",
        "      <td> 100.661634</td>\n",
        "      <td> 91.085576</td>\n",
        "      <td> 19200</td>\n",
        "      <td>  0</td>\n",
        "      <td> 28800</td>\n",
        "    </tr>\n",
        "    <tr>\n",
        "      <th rowspan=\"2\" valign=\"top\">n1</th>\n",
        "      <th>0</th>\n",
        "      <td>       NaN</td>\n",
        "      <td>        NaN</td>\n",
        "      <td>       NaN</td>\n",
        "      <td>   NaN</td>\n",
        "      <td>NaN</td>\n",
        "      <td>   NaN</td>\n",
        "    </tr>\n",
        "    <tr>\n",
        "      <th>1</th>\n",
        "      <td>  2.554692</td>\n",
        "      <td> 105.373292</td>\n",
        "      <td> 91.085576</td>\n",
        "      <td> 19200</td>\n",
        "      <td>  0</td>\n",
        "      <td> 38400</td>\n",
        "    </tr>\n",
        "    <tr>\n",
        "      <th rowspan=\"2\" valign=\"top\">n2</th>\n",
        "      <th>0</th>\n",
        "      <td>       NaN</td>\n",
        "      <td>        NaN</td>\n",
        "      <td>       NaN</td>\n",
        "      <td>   NaN</td>\n",
        "      <td>NaN</td>\n",
        "      <td>   NaN</td>\n",
        "    </tr>\n",
        "    <tr>\n",
        "      <th>1</th>\n",
        "      <td>  7.521547</td>\n",
        "      <td> 101.926090</td>\n",
        "      <td> 91.085576</td>\n",
        "      <td> 28800</td>\n",
        "      <td>  0</td>\n",
        "      <td> 19200</td>\n",
        "    </tr>\n",
        "    <tr>\n",
        "      <th rowspan=\"2\" valign=\"top\">n3</th>\n",
        "      <th>0</th>\n",
        "      <td>       NaN</td>\n",
        "      <td>        NaN</td>\n",
        "      <td>       NaN</td>\n",
        "      <td>   NaN</td>\n",
        "      <td>NaN</td>\n",
        "      <td>   NaN</td>\n",
        "    </tr>\n",
        "    <tr>\n",
        "      <th>1</th>\n",
        "      <td>  5.745260</td>\n",
        "      <td> 101.926090</td>\n",
        "      <td> 91.085576</td>\n",
        "      <td> 38400</td>\n",
        "      <td>  0</td>\n",
        "      <td>  9600</td>\n",
        "    </tr>\n",
        "    <tr>\n",
        "      <th rowspan=\"2\" valign=\"top\">n4</th>\n",
        "      <th>0</th>\n",
        "      <td>       NaN</td>\n",
        "      <td>        NaN</td>\n",
        "      <td>       NaN</td>\n",
        "      <td>   NaN</td>\n",
        "      <td>NaN</td>\n",
        "      <td>   NaN</td>\n",
        "    </tr>\n",
        "    <tr>\n",
        "      <th>1</th>\n",
        "      <td>  9.480764</td>\n",
        "      <td> 100.661634</td>\n",
        "      <td> 91.085576</td>\n",
        "      <td> 28800</td>\n",
        "      <td>  0</td>\n",
        "      <td> 28800</td>\n",
        "    </tr>\n",
        "  </tbody>\n",
        "</table>\n",
        "</div>"
       ],
       "metadata": {},
       "output_type": "pyout",
       "prompt_number": 30,
       "text": [
        "                      ADelay        ARXP       ATXP  RXThroughput  PLR  \\\n",
        "observer target t                                                        \n",
        "n0       n1     0        NaN         NaN        NaN           NaN  NaN   \n",
        "                1   2.144183  105.373292  91.085576         28800    0   \n",
        "         n2     0        NaN         NaN        NaN           NaN  NaN   \n",
        "                1   2.951543  101.926090  91.085576         28800    0   \n",
        "         n3     0        NaN         NaN        NaN           NaN  NaN   \n",
        "                1   0.587550  101.926090  91.085576          9600    0   \n",
        "         n4     0        NaN         NaN        NaN           NaN  NaN   \n",
        "                1   8.794014  100.661634  91.085576         28800    0   \n",
        "         n5     0        NaN         NaN        NaN           NaN  NaN   \n",
        "                1  30.175657  100.661634  91.085576         28800    0   \n",
        "n1       n0     0        NaN         NaN        NaN           NaN  NaN   \n",
        "                1   3.696533  100.661634  91.085576         28800    0   \n",
        "         n2     0        NaN         NaN        NaN           NaN  NaN   \n",
        "                1   1.864227  101.926090  91.085576         19200    0   \n",
        "         n3     0        NaN         NaN        NaN           NaN  NaN   \n",
        "                1   1.662912  101.926090  91.085576         28800    0   \n",
        "         n4     0        NaN         NaN        NaN           NaN  NaN   \n",
        "                1  30.048452  100.661634  91.085576         19200    0   \n",
        "         n5     0        NaN         NaN        NaN           NaN  NaN   \n",
        "                1   6.687049  100.661634  91.085576         38400    0   \n",
        "n2       n0     0        NaN         NaN        NaN           NaN  NaN   \n",
        "                1   8.608769  100.661634  91.085576         28800    0   \n",
        "         n1     0        NaN         NaN        NaN           NaN  NaN   \n",
        "                1   2.071639  105.373292  91.085576         28800    0   \n",
        "         n3     0        NaN         NaN        NaN           NaN  NaN   \n",
        "                1   0.646521  101.926090  91.085576         19200    0   \n",
        "         n4     0        NaN         NaN        NaN           NaN  NaN   \n",
        "                1   4.138186  100.661634  91.085576         38400    0   \n",
        "         n5     0        NaN         NaN        NaN           NaN  NaN   \n",
        "                1  25.673033  100.661634  91.085576         19200    0   \n",
        "n3       n0     0        NaN         NaN        NaN           NaN  NaN   \n",
        "                1   3.179151  100.661634  91.085576         38400    0   \n",
        "         n1     0        NaN         NaN        NaN           NaN  NaN   \n",
        "                1   2.912517  105.373292  91.085576         19200    0   \n",
        "         n2     0        NaN         NaN        NaN           NaN  NaN   \n",
        "                1   7.394559  101.926090  91.085576         28800    0   \n",
        "         n4     0        NaN         NaN        NaN           NaN  NaN   \n",
        "                1   4.482521  100.661634  91.085576         19200    0   \n",
        "         n5     0        NaN         NaN        NaN           NaN  NaN   \n",
        "                1   0.787461  100.661634  91.085576          9600    0   \n",
        "n4       n0     0        NaN         NaN        NaN           NaN  NaN   \n",
        "                1   1.346224  100.661634  91.085576         28800    0   \n",
        "         n1     0        NaN         NaN        NaN           NaN  NaN   \n",
        "                1   2.153172  105.373292  91.085576         38400    0   \n",
        "         n2     0        NaN         NaN        NaN           NaN  NaN   \n",
        "                1   3.091543  101.926090  91.085576         19200    0   \n",
        "         n3     0        NaN         NaN        NaN           NaN  NaN   \n",
        "                1   8.347106  101.926090  91.085576         28800    0   \n",
        "         n5     0        NaN         NaN        NaN           NaN  NaN   \n",
        "                1  22.005630  100.661634  91.085576         28800    0   \n",
        "n5       n0     0        NaN         NaN        NaN           NaN  NaN   \n",
        "                1   9.153274  100.661634  91.085576         19200    0   \n",
        "         n1     0        NaN         NaN        NaN           NaN  NaN   \n",
        "                1   2.554692  105.373292  91.085576         19200    0   \n",
        "         n2     0        NaN         NaN        NaN           NaN  NaN   \n",
        "                1   7.521547  101.926090  91.085576         28800    0   \n",
        "         n3     0        NaN         NaN        NaN           NaN  NaN   \n",
        "                1   5.745260  101.926090  91.085576         38400    0   \n",
        "         n4     0        NaN         NaN        NaN           NaN  NaN   \n",
        "                1   9.480764  100.661634  91.085576         28800    0   \n",
        "\n",
        "                   TXThroughput  \n",
        "observer target t                \n",
        "n0       n1     0           NaN  \n",
        "                1         28800  \n",
        "         n2     0           NaN  \n",
        "                1         28800  \n",
        "         n3     0           NaN  \n",
        "                1         38400  \n",
        "         n4     0           NaN  \n",
        "                1         28800  \n",
        "         n5     0           NaN  \n",
        "                1         19200  \n",
        "n1       n0     0           NaN  \n",
        "                1         28800  \n",
        "         n2     0           NaN  \n",
        "                1         28800  \n",
        "         n3     0           NaN  \n",
        "                1         19200  \n",
        "         n4     0           NaN  \n",
        "                1         38400  \n",
        "         n5     0           NaN  \n",
        "                1         19200  \n",
        "n2       n0     0           NaN  \n",
        "                1         28800  \n",
        "         n1     0           NaN  \n",
        "                1         19200  \n",
        "         n3     0           NaN  \n",
        "                1         28800  \n",
        "         n4     0           NaN  \n",
        "                1         19200  \n",
        "         n5     0           NaN  \n",
        "                1         28800  \n",
        "n3       n0     0           NaN  \n",
        "                1          9600  \n",
        "         n1     0           NaN  \n",
        "                1         28800  \n",
        "         n2     0           NaN  \n",
        "                1         19200  \n",
        "         n4     0           NaN  \n",
        "                1         28800  \n",
        "         n5     0           NaN  \n",
        "                1         38400  \n",
        "n4       n0     0           NaN  \n",
        "                1         28800  \n",
        "         n1     0           NaN  \n",
        "                1         19200  \n",
        "         n2     0           NaN  \n",
        "                1         38400  \n",
        "         n3     0           NaN  \n",
        "                1         19200  \n",
        "         n5     0           NaN  \n",
        "                1         28800  \n",
        "n5       n0     0           NaN  \n",
        "                1         28800  \n",
        "         n1     0           NaN  \n",
        "                1         38400  \n",
        "         n2     0           NaN  \n",
        "                1         19200  \n",
        "         n3     0           NaN  \n",
        "                1          9600  \n",
        "         n4     0           NaN  \n",
        "                1         28800  "
       ]
      }
     ],
     "prompt_number": 30
    },
    {
     "cell_type": "code",
     "collapsed": false,
     "input": [
      "import itertools\n",
      "min_emphasis=0\n",
      "max_emphasis=3\n",
      "trust_metrics=9\n",
      "def normed(w):\n",
      "    w=np.asarray(w, dtype=np.float32)\n",
      "    return np.divide(w,w.sum())\n",
      "with np.errstate(divide='ignore'):\n",
      "    combinations = map(normed,itertools.product(xrange(min_emphasis, max_emphasis), repeat=trust_metrics))\n"
     ],
     "language": "python",
     "metadata": {},
     "outputs": [],
     "prompt_number": 34
    },
    {
     "cell_type": "code",
     "collapsed": false,
     "input": [
      "import hashlib\n",
      "def ndcounter(array):\n",
      "    c={}\n",
      "    v={}\n",
      "    for i in np.ascontiguousarray(array):\n",
      "        h = hashlib.sha1(i.view()).hexdigest()\n",
      "        try:\n",
      "            c[h]+=1\n",
      "        except KeyError:\n",
      "            c[h]=1\n",
      "        v[h] = i\n",
      "    return c,v\n",
      "        \n",
      "c,v=ndcounter(combinations)\n",
      "Counter(c.values())"
     ],
     "language": "python",
     "metadata": {},
     "outputs": [
      {
       "metadata": {},
       "output_type": "pyout",
       "prompt_number": 50,
       "text": [
        "Counter({1: 18661, 2: 511})"
       ]
      }
     ],
     "prompt_number": 50
    },
    {
     "cell_type": "code",
     "collapsed": false,
     "input": [
      "18661+511"
     ],
     "language": "python",
     "metadata": {},
     "outputs": [
      {
       "metadata": {},
       "output_type": "pyout",
       "prompt_number": 44,
       "text": [
        "19172"
       ]
      }
     ],
     "prompt_number": 44
    },
    {
     "cell_type": "code",
     "collapsed": false,
     "input": [
      "np.power(3,9)"
     ],
     "language": "python",
     "metadata": {},
     "outputs": [
      {
       "metadata": {},
       "output_type": "pyout",
       "prompt_number": 45,
       "text": [
        "19683"
       ]
      }
     ],
     "prompt_number": 45
    },
    {
     "cell_type": "code",
     "collapsed": false,
     "input": [
      "len(combinations)"
     ],
     "language": "python",
     "metadata": {},
     "outputs": [
      {
       "metadata": {},
       "output_type": "pyout",
       "prompt_number": 46,
       "text": [
        "19683"
       ]
      }
     ],
     "prompt_number": 46
    },
    {
     "cell_type": "code",
     "collapsed": false,
     "input": [
      "len(v)"
     ],
     "language": "python",
     "metadata": {},
     "outputs": [
      {
       "metadata": {},
       "output_type": "pyout",
       "prompt_number": 49,
       "text": [
        "19172"
       ]
      }
     ],
     "prompt_number": 49
    },
    {
     "cell_type": "code",
     "collapsed": false,
     "input": [
      "import math\n",
      "n = 6\n",
      "k = 2\n",
      "def nCr(n,r):\n",
      "    f = math.factorial\n",
      "    return f(n) / f(r) / f(n-r)\n",
      "nCr(n,k)"
     ],
     "language": "python",
     "metadata": {},
     "outputs": [
      {
       "metadata": {},
       "output_type": "pyout",
       "prompt_number": 56,
       "text": [
        "15"
       ]
      }
     ],
     "prompt_number": 56
    },
    {
     "cell_type": "code",
     "collapsed": false,
     "input": [
      "scip"
     ],
     "language": "python",
     "metadata": {},
     "outputs": [
      {
       "ename": "NameError",
       "evalue": "name 'sp' is not defined",
       "output_type": "pyerr",
       "traceback": [
        "\u001b[0;31m---------------------------------------------------------------------------\u001b[0m\n\u001b[0;31mNameError\u001b[0m                                 Traceback (most recent call last)",
        "\u001b[0;32m<ipython-input-53-120d7f3e6840>\u001b[0m in \u001b[0;36m<module>\u001b[0;34m()\u001b[0m\n\u001b[0;32m----> 1\u001b[0;31m \u001b[0msp\u001b[0m\u001b[0;34m\u001b[0m\u001b[0m\n\u001b[0m",
        "\u001b[0;31mNameError\u001b[0m: name 'sp' is not defined"
       ]
      }
     ],
     "prompt_number": 53
    },
    {
     "cell_type": "code",
     "collapsed": false,
     "input": [],
     "language": "python",
     "metadata": {},
     "outputs": []
    }
   ],
   "metadata": {}
  }
 ]
}