{
 "cells": [
  {
   "cell_type": "markdown",
   "metadata": {},
   "source": [
    "# Point\n",
    "\n",
    "* Demonstrate asynchronous grey trust formation.\n",
    "* Compare against solo/sliding window trust\n",
    "\n",
    "## TODO\n",
    "* Check that resultant weights are normalised (i.e. sum=1) - *DONE - All Metrics are fine but partials are flawed*\n"
   ]
  },
  {
   "cell_type": "code",
   "execution_count": 8,
   "metadata": {
    "collapsed": false
   },
   "outputs": [],
   "source": [
    "%matplotlib inline \n",
    "import matplotlib.pyplot as plt\n",
    "import matplotlib.pylab as pylab\n",
    "import operator\n",
    "import pandas as pd\n",
    "from bounos.Analyses.Weight import summed_outliers_per_weight\n",
    "import bounos.ChartBuilders as cb\n",
    "\n",
    "import os\n",
    "import pandas as pd\n",
    "\n",
    "_ = np.seterr(invalid='ignore') # Pandas PITA Nan printing\n",
    "\n",
    "import sklearn.ensemble as ske\n",
    "\n",
    "def categorise_dataframe(df):\n",
    "    # Categories work better as indexes\n",
    "    for obj_key in df.keys()[df.dtypes == object]:\n",
    "        try:\n",
    "            df[obj_key] = df[obj_key].astype('category')\n",
    "        except TypeError:\n",
    "            print(\"Couldn't categorise {}\".format(obj_key))\n",
    "            pass\n",
    "    return df\n",
    "\n",
    "def feature_extractor(df, target):\n",
    "    data = df.drop(target, axis=1)\n",
    "    reg = ske.RandomForestRegressor(n_jobs=4, n_estimators=512)\n",
    "    reg.fit(data, df[target])\n",
    "    return pd.Series(dict(zip(data.keys(), reg.feature_importances_)))\n",
    "\n",
    "def target_weight_feature_extractor(target_weights):\n",
    "    known_good_features_d = {}\n",
    "    for basekey in target_weights.keys(): # Parallelisable\n",
    "        print basekey\n",
    "        # Single DataFrame of all features against one behaviour\n",
    "        var_weights = target_weights.apply(lambda s: s/target_weights[basekey], axis=0).dropna()\n",
    "        known_good_features_d[basekey] = \\\n",
    "            pd.concat([feature_extractor(s.reset_index(),var) for var,s  in var_weights.iteritems()],\n",
    "                      keys=var_weights.keys(), names=['var','metric'])\n",
    "            \n",
    "    return known_good_features_d\n",
    "\n",
    "\n",
    "def dataframe_weight_filter(df, keys):\n",
    "    indexes = [(df.index.get_level_values(k)==0.0) for k in keys]\n",
    "    return df.loc[reduce(operator.and_,indexes)]\n",
    "\n",
    "phys_keys = ['INDD','INHD','Speed']\n",
    "comm_keys = ['ADelay','ARXP','ATXP','RXThroughput','TXThroughput','PLR']\n",
    "observer = 'Bravo'\n",
    "target = 'Alfa'\n",
    "n_nodes = 6\n",
    "n_metrics = 9\n",
    "\n",
    "var_rename_dict = {'CombinedBadMouthingPowerControl':'MPC',\n",
    " 'CombinedSelfishTargetSelection':'STS',\n",
    " 'CombinedTrust':'Fair',\n",
    " 'Shadow':'Shadow',\n",
    " 'SlowCoach':'SlowCoach'}\n",
    "\n",
    "results_path = \"/home/bolster/src/aietes/results/Malicious Behaviour Trust Comparison-2015-07-20-17-47-53\"\n",
    "\n",
    "fig_basedir = \"/home/bolster/src/thesis/papers/active/16_AAMAS/img\"\n",
    "\n",
    "assert os.path.isdir(fig_basedir)\n",
    "\n",
    "def non_zero_rows(df):\n",
    "    return df[~(df==0).all(axis=1)]\n",
    "\n",
    "\n",
    "def map_level(df, dct, level=0):\n",
    "    index = df.index\n",
    "    index.set_levels([[dct.get(item, item) for item in names] if i==level else names\n",
    "                      for i, names in enumerate(index.levels)], inplace=True)\n"
   ]
  },
  {
   "cell_type": "markdown",
   "metadata": {},
   "source": [
    "#Graphics"
   ]
  },
  {
   "cell_type": "code",
   "execution_count": 9,
   "metadata": {
    "collapsed": false
   },
   "outputs": [
    {
     "data": {
      "text/plain": [
       "(3.339, 2.0636154884358993)"
      ]
     },
     "execution_count": 9,
     "metadata": {},
     "output_type": "execute_result"
    }
   ],
   "source": [
    "#print(matplotlib.rcParams)\n",
    "_boxplot_kwargs = {\n",
    "    'showmeans':True,\n",
    "    'showbox':False,\n",
    "    'widths':0.2,\n",
    "    'linewidth':2\n",
    "}\n",
    "\n",
    "golden_mean  = (np.sqrt(5) - 1.0) / 2.0  # because it looks good\n",
    "w=4\n",
    "cb.latexify(columns=0.5, factor=0.5)"
   ]
  },
  {
   "cell_type": "code",
   "execution_count": 10,
   "metadata": {
    "collapsed": false
   },
   "outputs": [
    {
     "data": {
      "image/png": "[encoded data removed]",
      "text/plain": [
       "<matplotlib.figure.Figure at 0x7f3cf0faaa90>"
      ]
     },
     "metadata": {},
     "output_type": "display_data"
    }
   ],
   "source": [
    "def add_height_annotation(ax, start, end, txt_str, x_width=.5, txt_kwargs=None, arrow_kwargs=None):\n",
    "    \"\"\"\n",
    "    Adds horizontal arrow annotation with text in the middle\n",
    "\n",
    "    Parameters\n",
    "    ----------\n",
    "    ax : matplotlib.Axes\n",
    "        The axes to draw to\n",
    "\n",
    "    start : float\n",
    "        start of line\n",
    "\n",
    "    end : float\n",
    "        end of line\n",
    "\n",
    "    txt_str : string\n",
    "        The text to add\n",
    "\n",
    "    y_height : float\n",
    "        The height of the line\n",
    "\n",
    "    txt_kwargs : dict or None\n",
    "        Extra kwargs to pass to the text\n",
    "\n",
    "    arrow_kwargs : dict or None\n",
    "        Extra kwargs to pass to the annotate\n",
    "\n",
    "    Returns\n",
    "    -------\n",
    "    tuple\n",
    "        (annotation, text)\n",
    "    \"\"\"\n",
    "\n",
    "    if txt_kwargs is None:\n",
    "        txt_kwargs = {}\n",
    "    if arrow_kwargs is None:\n",
    "        # default to your arrowprops\n",
    "        arrow_kwargs = {'arrowprops':dict(arrowstyle=\"<->\",\n",
    "                            connectionstyle=\"bar\",\n",
    "                            ec=\"k\",\n",
    "                            shrinkA=5, shrinkB=5,\n",
    "                            )}\n",
    "\n",
    "    trans = ax.get_xaxis_transform()\n",
    "\n",
    "    ann = ax.annotate('', xy=(x_width, start),\n",
    "                        xytext=(x_width, end),\n",
    "                        transform=trans,\n",
    "                        **arrow_kwargs)\n",
    "    txt = ax.text(x_width + .05,\n",
    "                  (start + end) / 2,\n",
    "                  txt_str,\n",
    "                  **txt_kwargs)\n",
    "\n",
    "\n",
    "\n",
    "fig, axes = plt.subplots(nrows=1,ncols=3, sharex='none', sharey='none',\n",
    "                         subplot_kw={'axisbg':(1,0.9,0.9), 'alpha':0.1})\n",
    "#fig.suptitle(\"Threat Surface for Trust Management Frameworks\", size=18, x=0.6, y=0.73)\n",
    "for ax in axes:\n",
    "    ax.set_aspect('equal')\n",
    "    ax.xaxis.set_visible(False)\n",
    "    ax.yaxis.set_visible(False)\n",
    "    \n",
    "ys = np.linspace(0.15,0.85,4)\n",
    "\n",
    "# Single\n",
    "ax=axes[0]\n",
    "ax.set_title(\"Single Metric\")\n",
    "ax.add_patch(pylab.Circle((0.1,ys[0]),radius=0.075,color='g', alpha=0.9))\n",
    "ax.annotate('single metric\\nobservation', xy=(0.15,0.2), xycoords='data',\n",
    "                xytext=(15,50), textcoords='offset points',\n",
    "                arrowprops=dict(arrowstyle=\"->\",\n",
    "                                connectionstyle=\"arc,angleA=0180,armA=30,rad=10\"),\n",
    "                )    \n",
    "\n",
    "\n",
    "# Vector\n",
    "ax=axes[1]\n",
    "ax.set_title(\"Single Vector\")\n",
    "ax.add_patch(pylab.Rectangle((0.0,ys[0]-0.1),0.99,0.2, alpha=0.2))\n",
    "for x in np.linspace(0.1,0.9,5):\n",
    "    ax.add_patch(pylab.Circle((x,ys[0]),radius=0.075,color='g', alpha=0.9))\n",
    "ax.annotate('single domain\\nobservation', xy=(0.5,0.3), xycoords='data',\n",
    "                xytext=(-25,30), textcoords='offset points',\n",
    "                arrowprops=dict(arrowstyle=\"->\",\n",
    "                                connectionstyle=\"arc,angleA=0180,armA=30,rad=10\"),\n",
    "                ) \n",
    "\n",
    "\n",
    "#Multi\n",
    "ax=axes[2]\n",
    "ax.set_title(\"Multi Domain\")\n",
    "ax.text(1,0.3,r\"$\\}$\",fontsize = 52)\n",
    "ax.text(1.3,0.42,\"Combination of\\nmultiple vectors,\\neach containing\\nmultiple metrics\",\n",
    "        verticalalignment='center')\n",
    "\n",
    "ax.add_patch(pylab.Rectangle((0.0,ys[0]-0.1),0.99,0.2, alpha=0.2))\n",
    "for x in np.linspace(0.1,0.9,5):\n",
    "    ax.add_patch(pylab.Circle((x,ys[0]),radius=0.075,color='g', alpha=0.9))\n",
    "\n",
    "ax.add_patch(pylab.Rectangle((0.0,ys[1]-0.1),0.99,0.2, alpha=0.2))\n",
    "for x in np.linspace(0.2,0.8,3):\n",
    "    ax.add_patch(pylab.Circle((x,ys[1]),radius=0.075,color='y', alpha=0.9))\n",
    "\n",
    "ax.add_patch(pylab.Rectangle((0.0,ys[2]-0.1),1.0,0.2, alpha=0.2))\n",
    "for x in np.linspace(0.1,0.9,6):\n",
    "    ax.add_patch(pylab.Circle((x,ys[2]),radius=0.075,color='b', alpha=0.9))\n",
    "\n",
    "ax.add_patch(pylab.Rectangle((0.0,ys[3]-0.1),1.0,0.2, alpha=0.2))\n",
    "for x in np.linspace(0,1,10):\n",
    "    ax.add_patch(pylab.Circle((x,ys[3]),radius=0.075,color='r', alpha=0.9))\n",
    "\n",
    "fig.savefig(os.path.join(fig_basedir, 'threat_surface_sum'), transparent=True)"
   ]
  },
  {
   "cell_type": "code",
   "execution_count": null,
   "metadata": {
    "collapsed": false
   },
   "outputs": [],
   "source": []
  },
  {
   "cell_type": "code",
   "execution_count": 11,
   "metadata": {
    "collapsed": false
   },
   "outputs": [
    {
     "name": "stdout",
     "output_type": "stream",
     "text": [
      "/CombinedTrust0_3\n",
      "/CombinedTrust1_3\n",
      "/CombinedTrust2_3\n"
     ]
    },
    {
     "name": "stderr",
     "output_type": "stream",
     "text": [
      "/usr/local/lib/python2.7/dist-packages/ipykernel/__main__.py:8: FutureWarning: sort(....) is deprecated, use sort_index(.....)\n"
     ]
    }
   ],
   "source": [
    "with pd.get_store(results_path+\"/outliers.bkup.h5\") as store:\n",
    "    target_weights_dict = {}\n",
    "    for runkey in store.keys():\n",
    "        print runkey\n",
    "        target_weights_dict[runkey] = summed_outliers_per_weight(store.get(runkey), observer, n_metrics, target=target)\n",
    "        \n",
    "joined_target_weights = pd.concat(target_weights_dict, names = ['run']+target_weights_dict[runkey].index.names)\n",
    "sorted_joined_target_weights = joined_target_weights.reset_index('run', drop=True).sort()"
   ]
  },
  {
   "cell_type": "markdown",
   "metadata": {},
   "source": [
    "# All Metrics - Fair Base Behaviour"
   ]
  },
  {
   "cell_type": "code",
   "execution_count": 12,
   "metadata": {
    "collapsed": false
   },
   "outputs": [
    {
     "name": "stdout",
     "output_type": "stream",
     "text": [
      "CombinedBadMouthingPowerControl\n",
      "CombinedSelfishTargetSelection\n",
      "CombinedTrust\n",
      "Shadow\n",
      "SlowCoach\n"
     ]
    }
   ],
   "source": [
    "joined_feats = target_weight_feature_extractor(sorted_joined_target_weights)\n",
    "\n",
    "alt_joined_feats= pd.concat(joined_feats, names=['base','comp','metric']).unstack('metric')[comm_keys+phys_keys]\n",
    "alt_joined_feats.index.set_levels([[u'MPC', u'STS', u'Fair', u'Shadow', u'SlowCoach'], [u'MPC', u'STS', u'Fair', u'Shadow', u'SlowCoach']], inplace=True)\n"
   ]
  },
  {
   "cell_type": "code",
   "execution_count": 13,
   "metadata": {
    "collapsed": false
   },
   "outputs": [
    {
     "name": "stderr",
     "output_type": "stream",
     "text": [
      "/home/bolster/anaconda2/lib/python2.7/site-packages/pandas/io/pytables.py:252: PerformanceWarning: \n",
      "your performance may suffer as PyTables will pickle object types that it cannot\n",
      "map directly to c-types [inferred_type->unicode,key->axis1_level0] [items->None]\n",
      "\n",
      "  f = lambda store: store.put(key, value, **kwargs)\n",
      "/home/bolster/anaconda2/lib/python2.7/site-packages/pandas/io/pytables.py:252: PerformanceWarning: \n",
      "your performance may suffer as PyTables will pickle object types that it cannot\n",
      "map directly to c-types [inferred_type->unicode,key->axis1_level1] [items->None]\n",
      "\n",
      "  f = lambda store: store.put(key, value, **kwargs)\n"
     ]
    }
   ],
   "source": [
    "shared_h5_path = '/dev/shm/shared.h5'\n",
    "alt_joined_feats.to_hdf(shared_h5_path,'alt_joined_feats')\n",
    "joined_target_weights.to_hdf(shared_h5_path,'joined_target_weights')\n",
    "sorted_joined_target_weights.to_hdf(shared_h5_path, 'sorted_joined_target_weights')"
   ]
  },
  {
   "cell_type": "code",
   "execution_count": 46,
   "metadata": {
    "collapsed": false
   },
   "outputs": [
    {
     "name": "stdout",
     "output_type": "stream",
     "text": [
      "{'$Speed$': (0.65323955669224243, 0.0, 1.0, 1.0), '$INDD$': (0.0, 0.56159420289855033, 1.0, 1.0), '$P_{RX}$': (1.0, 0.43137254901960792, 0.0, 1.0), '$T^P_{RX}$': (0.36036036036036034, 1.0, 0.0, 1.0), '$INHD$': (0.056479113384484365, 0.0, 1.0, 1.0), '$PLR$': (0.0, 1.0, 0.84334809192494242, 1.0), '$P_{TX}$': (0.9750927397986221, 1.0, 0.0, 1.0), '$Delay$': (1.0, 0.0, 0.16, 1.0), '$T^P_{TX}$': (0.0, 1.0, 0.23192072527935917, 1.0)}\n",
      "file encoding: None\n",
      "=========================================================\n",
      "Please add the following lines to your LaTeX preamble:\n",
      "\n",
      "\\usepackage[utf8]{inputenc}\n",
      "\\usepackage{fontspec}\n",
      "\\usepackage{pgfplots}\n",
      "=========================================================\n"
     ]
    },
    {
     "data": {
      "image/png": "[encoded data removed]",
      "text/plain": [
       "<matplotlib.figure.Figure at 0x7f3cfed84590>"
      ]
     },
     "metadata": {},
     "output_type": "display_data"
    }
   ],
   "source": [
    "metric_rename_dict = {\n",
    "    'ADelay': \"$Delay$\",\n",
    "    'ARXP': \"$P_{RX}$\",\n",
    "    'ATXP': \"$P_{TX}$\",\n",
    "    'RXThroughput': \"$T^P_{RX}$\",\n",
    "    'TXThroughput': \"$T^P_{TX}$\",\n",
    "    'PLR': '$PLR$',\n",
    "    'INDD': '$INDD$',\n",
    "    'INHD': '$INHD$',\n",
    "    'Speed': '$Speed$'\n",
    "}\n",
    "import matplotlib.cm as mplcm\n",
    "import matplotlib.colors as colors\n",
    "from matplotlib2tikz import save as tikz_save\n",
    "\n",
    "\n",
    "def unique_cm_dict_from_list(items):\n",
    "    cm = plt.get_cmap('gist_rainbow')\n",
    "    cNorm  = colors.Normalize(vmin=0, vmax=len(items))\n",
    "    scalarMap = mplcm.ScalarMappable(norm=cNorm, cmap=cm)\n",
    "    \n",
    "    return dict(zip(items,[scalarMap.to_rgba(i) for i in range(len(items))]))\n",
    "metric_colour_map = unique_cm_dict_from_list(fair_feats.keys().tolist())\n",
    "print metric_colour_map\n",
    "\n",
    "these_feature_colours = [metric_colour_map[k] for k in fair_feats.keys().tolist()]\n",
    "\n",
    "\n",
    "fair_feats = alt_joined_feats.loc['Fair'].rename(columns=metric_rename_dict)\n",
    "ax = fair_feats[~(fair_feats==0).all(axis=1)].plot(kind='bar', colors=these_feature_colours, rot=0, label=\"Test\", figsize=(10,8))\n",
    "ax.set_xlabel(\"Behaviour\")\n",
    "ax.set_ylabel(\"Estimated Best Metric Weighting\")\n",
    "fig=ax.get_figure()\n",
    "#ax.get_figure().savefig(os.path.join(fig_basedir,\"full_metric_trust_relevance\"), transparent=True)\n",
    "tikz_save('mytikz.tex', figure=fig, draw_rectangles=True);\n",
    "plt.show()\n"
   ]
  },
  {
   "cell_type": "code",
   "execution_count": 50,
   "metadata": {
    "collapsed": false
   },
   "outputs": [
    {
     "name": "stdout",
     "output_type": "stream",
     "text": [
      "file encoding: None\n",
      "=========================================================\n",
      "Please add the following lines to your LaTeX preamble:\n",
      "\n",
      "\\usepackage[utf8]{inputenc}\n",
      "\\usepackage{fontspec}\n",
      "\\usepackage{pgfplots}\n",
      "=========================================================\n"
     ]
    },
    {
     "data": {
      "image/png": "[encoded data removed]",
      "text/plain": [
       "<matplotlib.figure.Figure at 0x7f3d03508490>"
      ]
     },
     "metadata": {},
     "output_type": "display_data"
    }
   ],
   "source": [
    "import matplotlib.pyplot as plt\n",
    "from matplotlib2tikz import save as tikzsave\n",
    "\n",
    "plt.bar(range(5), [np.random.randint(10) for _ in range(5)])\n",
    "tikzsave(\"testplot.tex\", draw_rectangles=True)"
   ]
  },
  {
   "cell_type": "code",
   "execution_count": null,
   "metadata": {
    "collapsed": false
   },
   "outputs": [],
   "source": [
    "fair_feats = alt_joined_feats.loc['Fair']\n",
    "plottables = fair_feats[~(fair_feats==0)]\n",
    "plt.bar(plot)\n",
    "ax.set_xlabel(\"Behaviour\")\n",
    "ax.set_ylabel(\"Estimated Best Metric Weighting\")\n",
    "\n",
    "ax.get_figure().savefig(os.path.join(fig_basedir,\"full_metric_trust_relevance\"), transparent=True)"
   ]
  },
  {
   "cell_type": "code",
   "execution_count": null,
   "metadata": {
    "collapsed": false
   },
   "outputs": [],
   "source": [
    "fair_feats.head()"
   ]
  },
  {
   "cell_type": "code",
   "execution_count": null,
   "metadata": {
    "collapsed": false
   },
   "outputs": [],
   "source": []
  },
  {
   "cell_type": "code",
   "execution_count": null,
   "metadata": {
    "collapsed": false
   },
   "outputs": [],
   "source": [
    "from scipy.stats.stats import pearsonr\n",
    "import itertools\n",
    "\n",
    "key_order = ['ADelay', 'ARXP', 'ATXP', 'RXThroughput', 'TXThroughput', 'PLR', 'INDD', 'INHD','Speed']\n",
    "def calc_correlations(base, comp, index=0):\n",
    "    dp_r=(comp/base).reset_index()\n",
    "    return dp_r.corr()[index][:-1]\n",
    "\n",
    "#calc_correlations(sorted_joined_target_weights.CombinedTrust,sorted_joined_target_weights.CombinedBadMouthingPowerControl)\n",
    "_corrs = {}\n",
    "for base, comp in itertools.permutations(sorted_joined_target_weights.keys(), 2):\n",
    "    _corrs[(base,comp)]= \\\n",
    "    calc_correlations(sorted_joined_target_weights[base],\n",
    "                      sorted_joined_target_weights[comp])"
   ]
  },
  {
   "cell_type": "code",
   "execution_count": null,
   "metadata": {
    "collapsed": false
   },
   "outputs": [],
   "source": []
  },
  {
   "cell_type": "code",
   "execution_count": null,
   "metadata": {
    "collapsed": false
   },
   "outputs": [],
   "source": []
  },
  {
   "cell_type": "code",
   "execution_count": null,
   "metadata": {
    "collapsed": false
   },
   "outputs": [],
   "source": [
    "corrs = pd.DataFrame.from_dict(_corrs).rename(index=metric_rename_dict)\n",
    "corrs = corrs.T\n",
    "map_level(corrs, var_rename_dict, 0)\n",
    "map_level(corrs, var_rename_dict, 1)\n",
    "corrs.index.set_names(['base','comp'],inplace=True)\n",
    "corrs.loc['Fair'].apply(lambda v: np.round(v,decimals=3)).to_latex()"
   ]
  },
  {
   "cell_type": "markdown",
   "metadata": {},
   "source": [
    "# Comms Only - Fair Base Behaviour"
   ]
  },
  {
   "cell_type": "code",
   "execution_count": null,
   "metadata": {
    "collapsed": false
   },
   "outputs": [],
   "source": [
    "reset_phys_keys = sorted_joined_target_weights.reset_index(level=phys_keys)\n",
    "zero_phys_indexes = (reset_phys_keys[phys_keys]==0.0).all(axis=1)\n",
    "comms_only_target_weights = reset_phys_keys[zero_phys_indexes].drop(phys_keys,1)\n",
    "\n",
    "comms_only_feats = target_weight_feature_extractor(comms_only_target_weights)"
   ]
  },
  {
   "cell_type": "code",
   "execution_count": null,
   "metadata": {
    "collapsed": false
   },
   "outputs": [],
   "source": [
    "alt_comms_only_feats= pd.concat(comms_only_feats, names=['base','comp','metric']).unstack('metric')[comm_keys]\n",
    "alt_comms_only_feats.index.set_levels([[u'MPC', u'STS', u'Fair', u'Shadow', u'SlowCoach'], [u'MPC', u'STS', u'Fair', u'Shadow', u'SlowCoach']], inplace=True)\n",
    "alt_comms_only_feats.to_hdf(shared_h5_path, 'alt_comms_only_feats')\n",
    "fair_feats = alt_comms_only_feats.loc['Fair']\n",
    "ax = fair_feats[~(fair_feats==0).all(axis=1)].plot(kind='bar', rot=0, label=\"Test\")\n",
    "ax.set_xlabel(\"Behaviour\")\n",
    "ax.set_ylabel(\"Estimated Best Metric Weighting\")\n",
    "\n",
    "ax.get_figure().savefig(os.path.join(fig_basedir,\"comms_metric_trust_relevance\"), transparent=True)"
   ]
  },
  {
   "cell_type": "markdown",
   "metadata": {},
   "source": [
    "# Phys Only - Fair Base Behaviour"
   ]
  },
  {
   "cell_type": "code",
   "execution_count": null,
   "metadata": {
    "collapsed": false
   },
   "outputs": [],
   "source": [
    "reset_comm_keys = sorted_joined_target_weights.reset_index(level=comm_keys)\n",
    "zero_comm_indexes = (reset_comm_keys[comm_keys]==0.0).all(axis=1)\n",
    "phys_only_target_weights = reset_comm_keys[zero_comm_indexes].drop(comm_keys,1)\n",
    "\n",
    "phys_only_feats = target_weight_feature_extractor(phys_only_target_weights)"
   ]
  },
  {
   "cell_type": "code",
   "execution_count": null,
   "metadata": {
    "collapsed": false
   },
   "outputs": [],
   "source": [
    "alt_phys_only_feats= pd.concat(phys_only_feats, names=['base','comp','metric']).unstack('metric')[phys_keys]\n",
    "alt_phys_only_feats.index.set_levels([[u'MPC', u'STS', u'Fair', u'Shadow', u'SlowCoach'], [u'MPC', u'STS', u'Fair', u'Shadow', u'SlowCoach']], inplace=True)\n",
    "alt_phys_only_feats.to_hdf(shared_h5_path, 'alt_phys_only_feats')\n",
    "\n",
    "fair_feats = alt_phys_only_feats.loc['Fair']\n",
    "ax = fair_feats[~(fair_feats==0).all(axis=1)].plot(kind='bar', rot=0, label=\"Test\")\n",
    "ax.set_xlabel(\"Behaviour\")\n",
    "ax.set_ylabel(\"Estimated Best Metric Weighting\")\n",
    "\n",
    "ax.get_figure().savefig(os.path.join(fig_basedir,\"phys_metric_trust_relevance\"), transparent=True)"
   ]
  },
  {
   "cell_type": "code",
   "execution_count": null,
   "metadata": {
    "collapsed": false
   },
   "outputs": [],
   "source": [
    "pd.concat(comms_only_feats, names=['base','comp','metric']).unstack('metric')[comm_keys]"
   ]
  },
  {
   "cell_type": "markdown",
   "metadata": {},
   "source": [
    "# Feature Values"
   ]
  },
  {
   "cell_type": "code",
   "execution_count": null,
   "metadata": {
    "collapsed": false
   },
   "outputs": [],
   "source": [
    "\n",
    "feat_detection_weights=non_zero_rows(alt_joined_feats).T\n",
    "#categorise_dataframe(feat_detection_weights).to_hdf('/dev/shm/shared.h5','all_metric_feat_weights')\n"
   ]
  },
  {
   "cell_type": "code",
   "execution_count": null,
   "metadata": {
    "collapsed": false
   },
   "outputs": [],
   "source": [
    "signed_feat_detection_weights = feat_detection_weights*corrs.apply(np.sign).T\n",
    "categorise_dataframe(signed_feat_detection_weights).to_hdf('/dev/shm/shared.h5','signed_all_metric_feat_weights')"
   ]
  },
  {
   "cell_type": "code",
   "execution_count": null,
   "metadata": {
    "collapsed": false
   },
   "outputs": [],
   "source": [
    "phys_only_target_weights.head()"
   ]
  },
  {
   "cell_type": "code",
   "execution_count": null,
   "metadata": {
    "collapsed": false
   },
   "outputs": [],
   "source": [
    "sorted_joined_target_weights.head()"
   ]
  },
  {
   "cell_type": "code",
   "execution_count": null,
   "metadata": {
    "collapsed": false
   },
   "outputs": [],
   "source": [
    "[] is None"
   ]
  },
  {
   "cell_type": "code",
   "execution_count": null,
   "metadata": {
    "collapsed": false
   },
   "outputs": [],
   "source": [
    "feat_detection_weights.sum()"
   ]
  },
  {
   "cell_type": "code",
   "execution_count": null,
   "metadata": {
    "collapsed": false
   },
   "outputs": [],
   "source": []
  }
 ],
 "metadata": {
  "kernelspec": {
   "display_name": "Python 2",
   "language": "python",
   "name": "python2"
  },
  "language_info": {
   "codemirror_mode": {
    "name": "ipython",
    "version": 2
   },
   "file_extension": ".py",
   "mimetype": "text/x-python",
   "name": "python",
   "nbconvert_exporter": "python",
   "pygments_lexer": "ipython2",
   "version": "2.7.11"
  }
 },
 "nbformat": 4,
 "nbformat_minor": 0
}
