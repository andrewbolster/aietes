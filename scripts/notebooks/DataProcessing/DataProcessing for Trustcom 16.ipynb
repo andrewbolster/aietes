{
 "cells": [
  {
   "cell_type": "code",
   "execution_count": 1,
   "metadata": {
    "collapsed": false
   },
   "outputs": [
    {
     "data": {
      "text/plain": [
       "['/ADelay_ARXP_ATXP_INDD_INHD_Speed_only_feats_signed',\n",
       " '/ADelay_ARXP_ATXP_INDD_INHD_Speed_only_weights_signed',\n",
       " '/ADelay_ARXP_ATXP_INDD_INHD_only_feats_signed',\n",
       " '/ADelay_ARXP_ATXP_INDD_INHD_only_weights_signed',\n",
       " '/ADelay_ARXP_ATXP_INDD_Speed_only_feats_signed',\n",
       " '/ADelay_ARXP_ATXP_INDD_Speed_only_weights_signed',\n",
       " '/ADelay_ARXP_ATXP_INDD_only_feats_signed',\n",
       " '/ADelay_ARXP_ATXP_INDD_only_weights_signed',\n",
       " '/ADelay_ARXP_ATXP_INHD_Speed_only_feats_signed',\n",
       " '/ADelay_ARXP_ATXP_INHD_Speed_only_weights_signed']"
      ]
     },
     "execution_count": 1,
     "metadata": {},
     "output_type": "execute_result"
    }
   ],
   "source": [
    "import pandas as pd\n",
    "%matplotlib inline\n",
    "\n",
    "results_path = \"/home/bolster/src/aietes/results/Malicious Behaviour Trust Comparison-2015-07-20-17-47-53\"\n",
    "fig_basedir = \"/home/bolster/src/thesis/Figures/\"\n",
    "\n",
    "shared_big_h5_path = \"/home/bolster/src/aietes/results/powerset_shared.h5\"\n",
    "s = pd.get_store(shared_big_h5_path)\n",
    "\n",
    "def power_set_map(powerset_string):\n",
    "    strings = powerset_string[1:].split('_')\n",
    "    metrics = strings[:-3]\n",
    "    t = strings[-2]\n",
    "    signed = strings[-1]\n",
    "    return({\n",
    "            'metrics':metrics,\n",
    "            'type':t,\n",
    "            'dataset':powerset_string,\n",
    "            'signed': signed\n",
    "        })\n",
    "result = map(power_set_map, s.keys())\n",
    "for d in result:\n",
    "    d['data'] = s[d['dataset']]\n",
    "\n",
    "ps_weights = filter(lambda t: t['type'] == 'weights',result)\n",
    "ps_feats = filter(lambda t: t['type'] == 'feats',result)\n",
    "keys = s.keys()\n",
    "keys[0:10]"
   ]
  },
  {
   "cell_type": "code",
   "execution_count": 2,
   "metadata": {
    "collapsed": false
   },
   "outputs": [
    {
     "data": {
      "text/plain": [
       "['/ARXP_ATXP_PLR_TXThroughput_INDD_only_weights_signed',\n",
       " '/ADelay_ARXP_ATXP_PLR_INHD_Speed_only_weights_signed',\n",
       " '/ARXP_ATXP_RXThroughput_TXThroughput_INDD_Speed_only_feats_signed',\n",
       " '/ARXP_ATXP_RXThroughput_PLR_TXThroughput_INDD_INHD_Speed_only_weights_signed',\n",
       " '/ADelay_ARXP_ATXP_RXThroughput_TXThroughput_INDD_Speed_only_weights_signed',\n",
       " '/ADelay_RXThroughput_PLR_INHD_only_feats_signed',\n",
       " '/ATXP_RXThroughput_TXThroughput_INHD_Speed_only_feats_signed',\n",
       " '/ADelay_ATXP_PLR_TXThroughput_INHD_only_weights_signed',\n",
       " '/ARXP_ATXP_PLR_TXThroughput_INHD_Speed_only_feats_signed',\n",
       " '/ADelay_ATXP_RXThroughput_Speed_only_weights_signed']"
      ]
     },
     "execution_count": 2,
     "metadata": {},
     "output_type": "execute_result"
    }
   ],
   "source": [
    "import random\n",
    "random.shuffle(keys)\n",
    "keys[0:10]"
   ]
  },
  {
   "cell_type": "code",
   "execution_count": 3,
   "metadata": {
    "collapsed": false
   },
   "outputs": [
    {
     "data": {
      "text/plain": [
       "['/ADelay_ARXP_ATXP_TXThroughput_INDD_INHD_only_weights_signed',\n",
       " '/ADelay_ATXP_RXThroughput_PLR_TXThroughput_INDD_only_feats_signed',\n",
       " '/ADelay_ARXP_RXThroughput_PLR_TXThroughput_INDD_Speed_only_feats_signed',\n",
       " '/ADelay_ARXP_ATXP_RXThroughput_PLR_TXThroughput_INDD_INHD_Speed_only_weights_signed',\n",
       " '/ADelay_ARXP_ATXP_INDD_only_feats_signed',\n",
       " '/RXThroughput_PLR_INDD_INHD_only_feats_signed',\n",
       " '/ATXP_PLR_TXThroughput_Speed_only_weights_signed',\n",
       " '/ADelay_ARXP_ATXP_Speed_only_weights_signed',\n",
       " '/ADelay_ARXP_ATXP_RXThroughput_PLR_TXThroughput_only_weights_signed',\n",
       " '/ADelay_ATXP_RXThroughput_Speed_only_feats_signed']"
      ]
     },
     "execution_count": 3,
     "metadata": {},
     "output_type": "execute_result"
    }
   ],
   "source": [
    "random.shuffle(keys)\n",
    "keys[0:10]"
   ]
  },
  {
   "cell_type": "code",
   "execution_count": 25,
   "metadata": {
    "collapsed": false
   },
   "outputs": [],
   "source": [
    "with pd.get_store(results_path+'.h5') as store:\n",
    "    trust = store.trust"
   ]
  },
  {
   "cell_type": "code",
   "execution_count": 26,
   "metadata": {
    "collapsed": false
   },
   "outputs": [
    {
     "data": {
      "text/html": [
       "<div>\n",
       "<table border=\"1\" class=\"dataframe\">\n",
       "  <thead>\n",
       "    <tr style=\"text-align: right;\">\n",
       "      <th></th>\n",
       "      <th></th>\n",
       "      <th></th>\n",
       "      <th></th>\n",
       "      <th></th>\n",
       "      <th>ADelay</th>\n",
       "      <th>ARXP</th>\n",
       "      <th>ATXP</th>\n",
       "      <th>RXThroughput</th>\n",
       "      <th>PLR</th>\n",
       "      <th>TXThroughput</th>\n",
       "      <th>INDD</th>\n",
       "      <th>INHD</th>\n",
       "      <th>Speed</th>\n",
       "    </tr>\n",
       "    <tr>\n",
       "      <th>var</th>\n",
       "      <th>run</th>\n",
       "      <th>observer</th>\n",
       "      <th>t</th>\n",
       "      <th>target</th>\n",
       "      <th></th>\n",
       "      <th></th>\n",
       "      <th></th>\n",
       "      <th></th>\n",
       "      <th></th>\n",
       "      <th></th>\n",
       "      <th></th>\n",
       "      <th></th>\n",
       "      <th></th>\n",
       "    </tr>\n",
       "  </thead>\n",
       "  <tbody>\n",
       "    <tr>\n",
       "      <th rowspan=\"5\" valign=\"top\">CombinedBadMouthingPowerControl</th>\n",
       "      <th rowspan=\"5\" valign=\"top\">0</th>\n",
       "      <th rowspan=\"5\" valign=\"top\">Alfa</th>\n",
       "      <th rowspan=\"5\" valign=\"top\">1</th>\n",
       "      <th>Alfa</th>\n",
       "      <td>NaN</td>\n",
       "      <td>NaN</td>\n",
       "      <td>NaN</td>\n",
       "      <td>NaN</td>\n",
       "      <td>NaN</td>\n",
       "      <td>NaN</td>\n",
       "      <td>167.333089</td>\n",
       "      <td>0.896761</td>\n",
       "      <td>0.935887</td>\n",
       "    </tr>\n",
       "    <tr>\n",
       "      <th>Bravo</th>\n",
       "      <td>23.299740</td>\n",
       "      <td>96.840179</td>\n",
       "      <td>91.085576</td>\n",
       "      <td>19200</td>\n",
       "      <td>0</td>\n",
       "      <td>28800</td>\n",
       "      <td>189.744988</td>\n",
       "      <td>0.923040</td>\n",
       "      <td>1.109544</td>\n",
       "    </tr>\n",
       "    <tr>\n",
       "      <th>Charlie</th>\n",
       "      <td>0.904298</td>\n",
       "      <td>98.311589</td>\n",
       "      <td>91.085576</td>\n",
       "      <td>19200</td>\n",
       "      <td>0</td>\n",
       "      <td>28800</td>\n",
       "      <td>214.831764</td>\n",
       "      <td>1.243640</td>\n",
       "      <td>1.186811</td>\n",
       "    </tr>\n",
       "    <tr>\n",
       "      <th>Delta</th>\n",
       "      <td>29.094220</td>\n",
       "      <td>95.780193</td>\n",
       "      <td>91.085576</td>\n",
       "      <td>28800</td>\n",
       "      <td>0</td>\n",
       "      <td>38400</td>\n",
       "      <td>195.133383</td>\n",
       "      <td>0.861193</td>\n",
       "      <td>0.955298</td>\n",
       "    </tr>\n",
       "    <tr>\n",
       "      <th>Echo</th>\n",
       "      <td>10.743944</td>\n",
       "      <td>95.419751</td>\n",
       "      <td>91.085576</td>\n",
       "      <td>38400</td>\n",
       "      <td>0</td>\n",
       "      <td>9600</td>\n",
       "      <td>208.767027</td>\n",
       "      <td>1.141964</td>\n",
       "      <td>1.116868</td>\n",
       "    </tr>\n",
       "  </tbody>\n",
       "</table>\n",
       "</div>"
      ],
      "text/plain": [
       "                                                           ADelay       ARXP  \\\n",
       "var                             run observer t target                          \n",
       "CombinedBadMouthingPowerControl 0   Alfa     1 Alfa           NaN        NaN   \n",
       "                                               Bravo    23.299740  96.840179   \n",
       "                                               Charlie   0.904298  98.311589   \n",
       "                                               Delta    29.094220  95.780193   \n",
       "                                               Echo     10.743944  95.419751   \n",
       "\n",
       "                                                             ATXP  \\\n",
       "var                             run observer t target               \n",
       "CombinedBadMouthingPowerControl 0   Alfa     1 Alfa           NaN   \n",
       "                                               Bravo    91.085576   \n",
       "                                               Charlie  91.085576   \n",
       "                                               Delta    91.085576   \n",
       "                                               Echo     91.085576   \n",
       "\n",
       "                                                        RXThroughput  PLR  \\\n",
       "var                             run observer t target                       \n",
       "CombinedBadMouthingPowerControl 0   Alfa     1 Alfa              NaN  NaN   \n",
       "                                               Bravo           19200    0   \n",
       "                                               Charlie         19200    0   \n",
       "                                               Delta           28800    0   \n",
       "                                               Echo            38400    0   \n",
       "\n",
       "                                                        TXThroughput  \\\n",
       "var                             run observer t target                  \n",
       "CombinedBadMouthingPowerControl 0   Alfa     1 Alfa              NaN   \n",
       "                                               Bravo           28800   \n",
       "                                               Charlie         28800   \n",
       "                                               Delta           38400   \n",
       "                                               Echo             9600   \n",
       "\n",
       "                                                              INDD      INHD  \\\n",
       "var                             run observer t target                          \n",
       "CombinedBadMouthingPowerControl 0   Alfa     1 Alfa     167.333089  0.896761   \n",
       "                                               Bravo    189.744988  0.923040   \n",
       "                                               Charlie  214.831764  1.243640   \n",
       "                                               Delta    195.133383  0.861193   \n",
       "                                               Echo     208.767027  1.141964   \n",
       "\n",
       "                                                           Speed  \n",
       "var                             run observer t target             \n",
       "CombinedBadMouthingPowerControl 0   Alfa     1 Alfa     0.935887  \n",
       "                                               Bravo    1.109544  \n",
       "                                               Charlie  1.186811  \n",
       "                                               Delta    0.955298  \n",
       "                                               Echo     1.116868  "
      ]
     },
     "execution_count": 26,
     "metadata": {},
     "output_type": "execute_result"
    }
   ],
   "source": [
    "trust.head()"
   ]
  },
  {
   "cell_type": "code",
   "execution_count": 58,
   "metadata": {
    "collapsed": false
   },
   "outputs": [],
   "source": [
    "from aietes.Tools import *\n",
    "powerset_best = uncpickle(\"/home/bolster/src/aietes/results/best_weight_valences_and_runs_for_metric_powerset\")"
   ]
  },
  {
   "cell_type": "code",
   "execution_count": 82,
   "metadata": {
    "collapsed": false
   },
   "outputs": [
    {
     "name": "stdout",
     "output_type": "stream",
     "text": [
      "Shadow\n",
      "(('Charlie', 2), array([-0.358,  0.279,  0.025,  0.119,  0.193,  0.024]))\n",
      "MPC\n",
      "(('Bravo', 2), array([ 0.045,  0.068,  0.665,  0.029, -0.043,  0.15 ]))\n",
      "SlowCoach\n",
      "(('Charlie', 2), array([-0.082,  0.309,  0.021,  0.09 ,  0.478,  0.02 ]))\n",
      "STS\n",
      "(('Bravo', 2), array([ 0.098,  0.083,  0.047,  0.118, -0.608,  0.046]))\n"
     ]
    },
    {
     "ename": "InterfaceError",
     "evalue": "(sqlite3.InterfaceError) Error binding parameter 0 - probably unsupported type. [SQL: u'INSERT INTO best (\"Fair\") VALUES (?)'] [parameters: ({u'Shadow': (('Charlie', 2), array([-0.358,  0.279,  0.025,  0.119,  0.193,  0.024])), u'MPC': (('Bravo', 2), array([ 0.045,  0.068,  0.665,  0.029, -0.043,  0.15 ])), u'SlowCoach': (('Charlie', 2), array([-0.082,  0.309,  0.021,  0.09 ,  0.478,  0.02 ])), u'STS': (('Bravo', 2), array([ 0.098,  0.083,  0.047,  0.118, -0.608,  0.046]))},)]",
     "output_type": "error",
     "traceback": [
      "\u001b[0;31m---------------------------------------------------------------------------\u001b[0m",
      "\u001b[0;31mInterfaceError\u001b[0m                            Traceback (most recent call last)",
      "\u001b[0;32m<ipython-input-82-fb17f48c9915>\u001b[0m in \u001b[0;36m<module>\u001b[0;34m()\u001b[0m\n\u001b[1;32m      6\u001b[0m \u001b[0;32mwith\u001b[0m \u001b[0mdataset\u001b[0m\u001b[0;34m.\u001b[0m\u001b[0mconnect\u001b[0m\u001b[0;34m(\u001b[0m\u001b[0;34m)\u001b[0m \u001b[0;32mas\u001b[0m \u001b[0mdc\u001b[0m\u001b[0;34m:\u001b[0m\u001b[0;34m\u001b[0m\u001b[0m\n\u001b[1;32m      7\u001b[0m     \u001b[0mtable\u001b[0m \u001b[0;34m=\u001b[0m \u001b[0mdc\u001b[0m\u001b[0;34m[\u001b[0m\u001b[0;34m'best'\u001b[0m\u001b[0;34m]\u001b[0m\u001b[0;34m\u001b[0m\u001b[0m\n\u001b[0;32m----> 8\u001b[0;31m     \u001b[0mtable\u001b[0m\u001b[0;34m.\u001b[0m\u001b[0minsert\u001b[0m\u001b[0;34m(\u001b[0m\u001b[0mbest\u001b[0m\u001b[0;34m)\u001b[0m\u001b[0;34m\u001b[0m\u001b[0m\n\u001b[0m",
      "\u001b[0;32m/home/bolster/anaconda2/envs/py2/lib/python2.7/site-packages/dataset/persistence/table.pyc\u001b[0m in \u001b[0;36minsert\u001b[0;34m(self, row, ensure, types)\u001b[0m\n\u001b[1;32m     76\u001b[0m         \u001b[0;32mif\u001b[0m \u001b[0mensure\u001b[0m\u001b[0;34m:\u001b[0m\u001b[0;34m\u001b[0m\u001b[0m\n\u001b[1;32m     77\u001b[0m             \u001b[0mself\u001b[0m\u001b[0;34m.\u001b[0m\u001b[0m_ensure_columns\u001b[0m\u001b[0;34m(\u001b[0m\u001b[0mrow\u001b[0m\u001b[0;34m,\u001b[0m \u001b[0mtypes\u001b[0m\u001b[0;34m=\u001b[0m\u001b[0mtypes\u001b[0m\u001b[0;34m)\u001b[0m\u001b[0;34m\u001b[0m\u001b[0m\n\u001b[0;32m---> 78\u001b[0;31m         \u001b[0mres\u001b[0m \u001b[0;34m=\u001b[0m \u001b[0mself\u001b[0m\u001b[0;34m.\u001b[0m\u001b[0mdatabase\u001b[0m\u001b[0;34m.\u001b[0m\u001b[0mexecutable\u001b[0m\u001b[0;34m.\u001b[0m\u001b[0mexecute\u001b[0m\u001b[0;34m(\u001b[0m\u001b[0mself\u001b[0m\u001b[0;34m.\u001b[0m\u001b[0mtable\u001b[0m\u001b[0;34m.\u001b[0m\u001b[0minsert\u001b[0m\u001b[0;34m(\u001b[0m\u001b[0mrow\u001b[0m\u001b[0;34m)\u001b[0m\u001b[0;34m)\u001b[0m\u001b[0;34m\u001b[0m\u001b[0m\n\u001b[0m\u001b[1;32m     79\u001b[0m         \u001b[0;32mif\u001b[0m \u001b[0mlen\u001b[0m\u001b[0;34m(\u001b[0m\u001b[0mres\u001b[0m\u001b[0;34m.\u001b[0m\u001b[0minserted_primary_key\u001b[0m\u001b[0;34m)\u001b[0m \u001b[0;34m>\u001b[0m \u001b[0;36m0\u001b[0m\u001b[0;34m:\u001b[0m\u001b[0;34m\u001b[0m\u001b[0m\n\u001b[1;32m     80\u001b[0m             \u001b[0;32mreturn\u001b[0m \u001b[0mres\u001b[0m\u001b[0;34m.\u001b[0m\u001b[0minserted_primary_key\u001b[0m\u001b[0;34m[\u001b[0m\u001b[0;36m0\u001b[0m\u001b[0;34m]\u001b[0m\u001b[0;34m\u001b[0m\u001b[0m\n",
      "\u001b[0;32m/home/bolster/anaconda2/envs/py2/lib/python2.7/site-packages/sqlalchemy/engine/base.pyc\u001b[0m in \u001b[0;36mexecute\u001b[0;34m(self, object, *multiparams, **params)\u001b[0m\n\u001b[1;32m    912\u001b[0m                 type(object))\n\u001b[1;32m    913\u001b[0m         \u001b[0;32melse\u001b[0m\u001b[0;34m:\u001b[0m\u001b[0;34m\u001b[0m\u001b[0m\n\u001b[0;32m--> 914\u001b[0;31m             \u001b[0;32mreturn\u001b[0m \u001b[0mmeth\u001b[0m\u001b[0;34m(\u001b[0m\u001b[0mself\u001b[0m\u001b[0;34m,\u001b[0m \u001b[0mmultiparams\u001b[0m\u001b[0;34m,\u001b[0m \u001b[0mparams\u001b[0m\u001b[0;34m)\u001b[0m\u001b[0;34m\u001b[0m\u001b[0m\n\u001b[0m\u001b[1;32m    915\u001b[0m \u001b[0;34m\u001b[0m\u001b[0m\n\u001b[1;32m    916\u001b[0m     \u001b[0;32mdef\u001b[0m \u001b[0m_execute_function\u001b[0m\u001b[0;34m(\u001b[0m\u001b[0mself\u001b[0m\u001b[0;34m,\u001b[0m \u001b[0mfunc\u001b[0m\u001b[0;34m,\u001b[0m \u001b[0mmultiparams\u001b[0m\u001b[0;34m,\u001b[0m \u001b[0mparams\u001b[0m\u001b[0;34m)\u001b[0m\u001b[0;34m:\u001b[0m\u001b[0;34m\u001b[0m\u001b[0m\n",
      "\u001b[0;32m/home/bolster/anaconda2/envs/py2/lib/python2.7/site-packages/sqlalchemy/sql/elements.pyc\u001b[0m in \u001b[0;36m_execute_on_connection\u001b[0;34m(self, connection, multiparams, params)\u001b[0m\n\u001b[1;32m    321\u001b[0m \u001b[0;34m\u001b[0m\u001b[0m\n\u001b[1;32m    322\u001b[0m     \u001b[0;32mdef\u001b[0m \u001b[0m_execute_on_connection\u001b[0m\u001b[0;34m(\u001b[0m\u001b[0mself\u001b[0m\u001b[0;34m,\u001b[0m \u001b[0mconnection\u001b[0m\u001b[0;34m,\u001b[0m \u001b[0mmultiparams\u001b[0m\u001b[0;34m,\u001b[0m \u001b[0mparams\u001b[0m\u001b[0;34m)\u001b[0m\u001b[0;34m:\u001b[0m\u001b[0;34m\u001b[0m\u001b[0m\n\u001b[0;32m--> 323\u001b[0;31m         \u001b[0;32mreturn\u001b[0m \u001b[0mconnection\u001b[0m\u001b[0;34m.\u001b[0m\u001b[0m_execute_clauseelement\u001b[0m\u001b[0;34m(\u001b[0m\u001b[0mself\u001b[0m\u001b[0;34m,\u001b[0m \u001b[0mmultiparams\u001b[0m\u001b[0;34m,\u001b[0m \u001b[0mparams\u001b[0m\u001b[0;34m)\u001b[0m\u001b[0;34m\u001b[0m\u001b[0m\n\u001b[0m\u001b[1;32m    324\u001b[0m \u001b[0;34m\u001b[0m\u001b[0m\n\u001b[1;32m    325\u001b[0m     \u001b[0;32mdef\u001b[0m \u001b[0munique_params\u001b[0m\u001b[0;34m(\u001b[0m\u001b[0mself\u001b[0m\u001b[0;34m,\u001b[0m \u001b[0;34m*\u001b[0m\u001b[0moptionaldict\u001b[0m\u001b[0;34m,\u001b[0m \u001b[0;34m**\u001b[0m\u001b[0mkwargs\u001b[0m\u001b[0;34m)\u001b[0m\u001b[0;34m:\u001b[0m\u001b[0;34m\u001b[0m\u001b[0m\n",
      "\u001b[0;32m/home/bolster/anaconda2/envs/py2/lib/python2.7/site-packages/sqlalchemy/engine/base.pyc\u001b[0m in \u001b[0;36m_execute_clauseelement\u001b[0;34m(self, elem, multiparams, params)\u001b[0m\n\u001b[1;32m   1008\u001b[0m             \u001b[0mcompiled_sql\u001b[0m\u001b[0;34m,\u001b[0m\u001b[0;34m\u001b[0m\u001b[0m\n\u001b[1;32m   1009\u001b[0m             \u001b[0mdistilled_params\u001b[0m\u001b[0;34m,\u001b[0m\u001b[0;34m\u001b[0m\u001b[0m\n\u001b[0;32m-> 1010\u001b[0;31m             \u001b[0mcompiled_sql\u001b[0m\u001b[0;34m,\u001b[0m \u001b[0mdistilled_params\u001b[0m\u001b[0;34m\u001b[0m\u001b[0m\n\u001b[0m\u001b[1;32m   1011\u001b[0m         )\n\u001b[1;32m   1012\u001b[0m         \u001b[0;32mif\u001b[0m \u001b[0mself\u001b[0m\u001b[0;34m.\u001b[0m\u001b[0m_has_events\u001b[0m \u001b[0;32mor\u001b[0m \u001b[0mself\u001b[0m\u001b[0;34m.\u001b[0m\u001b[0mengine\u001b[0m\u001b[0;34m.\u001b[0m\u001b[0m_has_events\u001b[0m\u001b[0;34m:\u001b[0m\u001b[0;34m\u001b[0m\u001b[0m\n",
      "\u001b[0;32m/home/bolster/anaconda2/envs/py2/lib/python2.7/site-packages/sqlalchemy/engine/base.pyc\u001b[0m in \u001b[0;36m_execute_context\u001b[0;34m(self, dialect, constructor, statement, parameters, *args)\u001b[0m\n\u001b[1;32m   1144\u001b[0m                 \u001b[0mparameters\u001b[0m\u001b[0;34m,\u001b[0m\u001b[0;34m\u001b[0m\u001b[0m\n\u001b[1;32m   1145\u001b[0m                 \u001b[0mcursor\u001b[0m\u001b[0;34m,\u001b[0m\u001b[0;34m\u001b[0m\u001b[0m\n\u001b[0;32m-> 1146\u001b[0;31m                 context)\n\u001b[0m\u001b[1;32m   1147\u001b[0m \u001b[0;34m\u001b[0m\u001b[0m\n\u001b[1;32m   1148\u001b[0m         \u001b[0;32mif\u001b[0m \u001b[0mself\u001b[0m\u001b[0;34m.\u001b[0m\u001b[0m_has_events\u001b[0m \u001b[0;32mor\u001b[0m \u001b[0mself\u001b[0m\u001b[0;34m.\u001b[0m\u001b[0mengine\u001b[0m\u001b[0;34m.\u001b[0m\u001b[0m_has_events\u001b[0m\u001b[0;34m:\u001b[0m\u001b[0;34m\u001b[0m\u001b[0m\n",
      "\u001b[0;32m/home/bolster/anaconda2/envs/py2/lib/python2.7/site-packages/sqlalchemy/engine/base.pyc\u001b[0m in \u001b[0;36m_handle_dbapi_exception\u001b[0;34m(self, e, statement, parameters, cursor, context)\u001b[0m\n\u001b[1;32m   1339\u001b[0m                 util.raise_from_cause(\n\u001b[1;32m   1340\u001b[0m                     \u001b[0msqlalchemy_exception\u001b[0m\u001b[0;34m,\u001b[0m\u001b[0;34m\u001b[0m\u001b[0m\n\u001b[0;32m-> 1341\u001b[0;31m                     \u001b[0mexc_info\u001b[0m\u001b[0;34m\u001b[0m\u001b[0m\n\u001b[0m\u001b[1;32m   1342\u001b[0m                 )\n\u001b[1;32m   1343\u001b[0m             \u001b[0;32melse\u001b[0m\u001b[0;34m:\u001b[0m\u001b[0;34m\u001b[0m\u001b[0m\n",
      "\u001b[0;32m/home/bolster/anaconda2/envs/py2/lib/python2.7/site-packages/sqlalchemy/util/compat.pyc\u001b[0m in \u001b[0;36mraise_from_cause\u001b[0;34m(exception, exc_info)\u001b[0m\n\u001b[1;32m    198\u001b[0m     \u001b[0mexc_type\u001b[0m\u001b[0;34m,\u001b[0m \u001b[0mexc_value\u001b[0m\u001b[0;34m,\u001b[0m \u001b[0mexc_tb\u001b[0m \u001b[0;34m=\u001b[0m \u001b[0mexc_info\u001b[0m\u001b[0;34m\u001b[0m\u001b[0m\n\u001b[1;32m    199\u001b[0m     \u001b[0mcause\u001b[0m \u001b[0;34m=\u001b[0m \u001b[0mexc_value\u001b[0m \u001b[0;32mif\u001b[0m \u001b[0mexc_value\u001b[0m \u001b[0;32mis\u001b[0m \u001b[0;32mnot\u001b[0m \u001b[0mexception\u001b[0m \u001b[0;32melse\u001b[0m \u001b[0mNone\u001b[0m\u001b[0;34m\u001b[0m\u001b[0m\n\u001b[0;32m--> 200\u001b[0;31m     \u001b[0mreraise\u001b[0m\u001b[0;34m(\u001b[0m\u001b[0mtype\u001b[0m\u001b[0;34m(\u001b[0m\u001b[0mexception\u001b[0m\u001b[0;34m)\u001b[0m\u001b[0;34m,\u001b[0m \u001b[0mexception\u001b[0m\u001b[0;34m,\u001b[0m \u001b[0mtb\u001b[0m\u001b[0;34m=\u001b[0m\u001b[0mexc_tb\u001b[0m\u001b[0;34m,\u001b[0m \u001b[0mcause\u001b[0m\u001b[0;34m=\u001b[0m\u001b[0mcause\u001b[0m\u001b[0;34m)\u001b[0m\u001b[0;34m\u001b[0m\u001b[0m\n\u001b[0m\u001b[1;32m    201\u001b[0m \u001b[0;34m\u001b[0m\u001b[0m\n\u001b[1;32m    202\u001b[0m \u001b[0;32mif\u001b[0m \u001b[0mpy3k\u001b[0m\u001b[0;34m:\u001b[0m\u001b[0;34m\u001b[0m\u001b[0m\n",
      "\u001b[0;32m/home/bolster/anaconda2/envs/py2/lib/python2.7/site-packages/sqlalchemy/engine/base.pyc\u001b[0m in \u001b[0;36m_execute_context\u001b[0;34m(self, dialect, constructor, statement, parameters, *args)\u001b[0m\n\u001b[1;32m   1137\u001b[0m                         \u001b[0mstatement\u001b[0m\u001b[0;34m,\u001b[0m\u001b[0;34m\u001b[0m\u001b[0m\n\u001b[1;32m   1138\u001b[0m                         \u001b[0mparameters\u001b[0m\u001b[0;34m,\u001b[0m\u001b[0;34m\u001b[0m\u001b[0m\n\u001b[0;32m-> 1139\u001b[0;31m                         context)\n\u001b[0m\u001b[1;32m   1140\u001b[0m         \u001b[0;32mexcept\u001b[0m \u001b[0mException\u001b[0m \u001b[0;32mas\u001b[0m \u001b[0me\u001b[0m\u001b[0;34m:\u001b[0m\u001b[0;34m\u001b[0m\u001b[0m\n\u001b[1;32m   1141\u001b[0m             self._handle_dbapi_exception(\n",
      "\u001b[0;32m/home/bolster/anaconda2/envs/py2/lib/python2.7/site-packages/sqlalchemy/engine/default.pyc\u001b[0m in \u001b[0;36mdo_execute\u001b[0;34m(self, cursor, statement, parameters, context)\u001b[0m\n\u001b[1;32m    448\u001b[0m \u001b[0;34m\u001b[0m\u001b[0m\n\u001b[1;32m    449\u001b[0m     \u001b[0;32mdef\u001b[0m \u001b[0mdo_execute\u001b[0m\u001b[0;34m(\u001b[0m\u001b[0mself\u001b[0m\u001b[0;34m,\u001b[0m \u001b[0mcursor\u001b[0m\u001b[0;34m,\u001b[0m \u001b[0mstatement\u001b[0m\u001b[0;34m,\u001b[0m \u001b[0mparameters\u001b[0m\u001b[0;34m,\u001b[0m \u001b[0mcontext\u001b[0m\u001b[0;34m=\u001b[0m\u001b[0mNone\u001b[0m\u001b[0;34m)\u001b[0m\u001b[0;34m:\u001b[0m\u001b[0;34m\u001b[0m\u001b[0m\n\u001b[0;32m--> 450\u001b[0;31m         \u001b[0mcursor\u001b[0m\u001b[0;34m.\u001b[0m\u001b[0mexecute\u001b[0m\u001b[0;34m(\u001b[0m\u001b[0mstatement\u001b[0m\u001b[0;34m,\u001b[0m \u001b[0mparameters\u001b[0m\u001b[0;34m)\u001b[0m\u001b[0;34m\u001b[0m\u001b[0m\n\u001b[0m\u001b[1;32m    451\u001b[0m \u001b[0;34m\u001b[0m\u001b[0m\n\u001b[1;32m    452\u001b[0m     \u001b[0;32mdef\u001b[0m \u001b[0mdo_execute_no_params\u001b[0m\u001b[0;34m(\u001b[0m\u001b[0mself\u001b[0m\u001b[0;34m,\u001b[0m \u001b[0mcursor\u001b[0m\u001b[0;34m,\u001b[0m \u001b[0mstatement\u001b[0m\u001b[0;34m,\u001b[0m \u001b[0mcontext\u001b[0m\u001b[0;34m=\u001b[0m\u001b[0mNone\u001b[0m\u001b[0;34m)\u001b[0m\u001b[0;34m:\u001b[0m\u001b[0;34m\u001b[0m\u001b[0m\n",
      "\u001b[0;31mInterfaceError\u001b[0m: (sqlite3.InterfaceError) Error binding parameter 0 - probably unsupported type. [SQL: u'INSERT INTO best (\"Fair\") VALUES (?)'] [parameters: ({u'Shadow': (('Charlie', 2), array([-0.358,  0.279,  0.025,  0.119,  0.193,  0.024])), u'MPC': (('Bravo', 2), array([ 0.045,  0.068,  0.665,  0.029, -0.043,  0.15 ])), u'SlowCoach': (('Charlie', 2), array([-0.082,  0.309,  0.021,  0.09 ,  0.478,  0.02 ])), u'STS': (('Bravo', 2), array([ 0.098,  0.083,  0.047,  0.118, -0.608,  0.046]))},)]"
     ]
    }
   ],
   "source": [
    "best = uncpickle(\"/home/bolster/src/thesis/Figures/best_comms_runs\")\n",
    "\n",
    "\n",
    "import dataset\n",
    "with dataset.connect() as dc:\n",
    "    table = dc['best']\n",
    "    table.insert(best)"
   ]
  },
  {
   "cell_type": "code",
   "execution_count": 112,
   "metadata": {
    "collapsed": false
   },
   "outputs": [],
   "source": [
    "l=range(100000)\n",
    "\n",
    "def noop(x):\n",
    "    pass\n",
    "\n",
    "print random.sample(l,len)"
   ]
  },
  {
   "cell_type": "code",
   "execution_count": 113,
   "metadata": {
    "collapsed": false
   },
   "outputs": [
    {
     "name": "stdout",
     "output_type": "stream",
     "text": [
      "100 loops, best of 3: 7.62 ms per loop\n"
     ]
    }
   ],
   "source": [
    "%timeit map(noop, l)"
   ]
  },
  {
   "cell_type": "code",
   "execution_count": 114,
   "metadata": {
    "collapsed": false
   },
   "outputs": [
    {
     "name": "stdout",
     "output_type": "stream",
     "text": [
      "10 loops, best of 3: 46.6 ms per loop\n"
     ]
    }
   ],
   "source": [
    "%timeit map(noop, random.sample(l,len(l)))"
   ]
  },
  {
   "cell_type": "code",
   "execution_count": 111,
   "metadata": {
    "collapsed": false
   },
   "outputs": [
    {
     "name": "stdout",
     "output_type": "stream",
     "text": [
      "10 loops, best of 3: 36.8 ms per loop\n"
     ]
    }
   ],
   "source": [
    "%%timeit\n",
    "random.shuffle(l)\n",
    "map(noop, l)"
   ]
  },
  {
   "cell_type": "code",
   "execution_count": 116,
   "metadata": {
    "collapsed": true
   },
   "outputs": [],
   "source": [
    "filenamewithspace=(\"/home/bolster/test file.txt\")\n",
    "with open(filenamewithspace, 'w') as f:\n",
    "    f.write(\"Test\")\n",
    "os.system(\"scp \\\"{}\\\" yossarian:\\\"{}\\\"\".format(filenamewithspace,filenamewithspace))\n",
    "os.remove(filenamewithspace)"
   ]
  },
  {
   "cell_type": "code",
   "execution_count": null,
   "metadata": {
    "collapsed": true
   },
   "outputs": [],
   "source": [
    "# Dump Best weights from best runs to a table\n",
    "w_df = pd.concat([pd.Series(weight, index=key_d[subset.lower()])\n",
    "                  for (subset, _), weight in weights.items()],\n",
    "                 keys=weights.keys(),\n",
    "                 names=['subset', 'target', 'metric']).unstack(level='metric')"
   ]
  }
 ],
 "metadata": {
  "kernelspec": {
   "display_name": "py2",
   "language": "python",
   "name": "py2"
  },
  "language_info": {
   "codemirror_mode": {
    "name": "ipython",
    "version": 2
   },
   "file_extension": ".py",
   "mimetype": "text/x-python",
   "name": "python",
   "nbconvert_exporter": "python",
   "pygments_lexer": "ipython2",
   "version": "2.7.11"
  }
 },
 "nbformat": 4,
 "nbformat_minor": 0
}
