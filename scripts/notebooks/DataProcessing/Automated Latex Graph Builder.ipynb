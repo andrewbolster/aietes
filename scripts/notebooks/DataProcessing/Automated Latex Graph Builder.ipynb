{
 "cells": [
  {
   "cell_type": "code",
   "execution_count": 45,
   "metadata": {
    "collapsed": false
   },
   "outputs": [],
   "source": [
    "from pylatex import Document, Section, Figure, SubFigure, NoEscape\n",
    "import os\n",
    "fig_path = '/home/bolster/src/thesis/Figures/'\n",
    "with open(fig_path+\"generated_files.txt\") as f:\n",
    "    generated_files = f.read().splitlines()"
   ]
  },
  {
   "cell_type": "code",
   "execution_count": 46,
   "metadata": {
    "collapsed": false
   },
   "outputs": [
    {
     "name": "stdout",
     "output_type": "stream",
     "text": [
      "delay_variation_bella_all_mobile.pdf\n",
      "delay_variation_bella_static.pdf\n",
      "prod_breakdown_bella_all_mobile.pdf\n",
      "prod_breakdown_bella_static.pdf\n",
      "rts_ratio_bella_all_mobile.pdf\n",
      "rts_ratio_bella_static.pdf\n",
      "throughput_performance_bella_all_mobile.pdf\n",
      "throughput_performance_bella_static.pdf\n",
      "Help on method generate_tex in module pylatex.document:\n",
      "\n",
      "generate_tex(self, filepath=None) method of pylatex.document.Document instance\n",
      "    Generate a .tex file for the document.\n",
      "    \n",
      "    Args\n",
      "    ----\n",
      "    filepath: str\n",
      "        The name of the file (without .tex), if this is not supplied the\n",
      "        default filepath attribute is used as the path.\n",
      "\n"
     ]
    }
   ],
   "source": [
    "doc = Document(default_filepath='generated_figures')\n",
    "\n",
    "with doc.create(Section('Generated Figures')):\n",
    "    for filename in sorted(generated_files):\n",
    "        image_path = os.path.join(fig_path, filename)\n",
    "        print(os.path.split(image_path))[-1]\n",
    "        with doc.create(Figure(position='h!')) as fig:\n",
    "            fig.add_image(image_path, width=NoEscape(r'\\linewidth'))\n",
    "            fig.add_caption(filename)\n",
    "\n",
    "help(doc.generate_tex)"
   ]
  },
  {
   "cell_type": "code",
   "execution_count": 47,
   "metadata": {
    "collapsed": false
   },
   "outputs": [],
   "source": [
    "doc.generate_pdf()"
   ]
  },
  {
   "cell_type": "code",
   "execution_count": 48,
   "metadata": {
    "collapsed": false
   },
   "outputs": [
    {
     "data": {
      "text/plain": [
       "u'/home/bolster/src/aietes/scripts/notebooks/DataProcessing'"
      ]
     },
     "execution_count": 48,
     "metadata": {},
     "output_type": "execute_result"
    }
   ],
   "source": [
    "pwd"
   ]
  },
  {
   "cell_type": "code",
   "execution_count": 49,
   "metadata": {
    "collapsed": false
   },
   "outputs": [
    {
     "data": {
      "text/plain": [
       "(6.678, 4.1272309768717985)"
      ]
     },
     "execution_count": 49,
     "metadata": {},
     "output_type": "execute_result"
    }
   ],
   "source": [
    "from bounos.ChartBuilders import latexify\n",
    "latexify(0.5,1)"
   ]
  },
  {
   "cell_type": "code",
   "execution_count": null,
   "metadata": {
    "collapsed": true
   },
   "outputs": [],
   "source": []
  }
 ],
 "metadata": {
  "kernelspec": {
   "display_name": "Python 2",
   "language": "python",
   "name": "python2"
  },
  "language_info": {
   "codemirror_mode": {
    "name": "ipython",
    "version": 2
   },
   "file_extension": ".py",
   "mimetype": "text/x-python",
   "name": "python",
   "nbconvert_exporter": "python",
   "pygments_lexer": "ipython2",
   "version": "2.7.11"
  }
 },
 "nbformat": 4,
 "nbformat_minor": 0
}
