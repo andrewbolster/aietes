{
 "cells": [
  {
   "cell_type": "code",
   "execution_count": 30,
   "metadata": {
    "collapsed": false
   },
   "outputs": [],
   "source": [
    "from pylatex import Document, Section, Figure, SubFigure, NoEscape\n",
    "import os\n",
    "fig_path = '/home/bolster/src/thesis/Figures/'\n",
    "with open(fig_path+\"generated_files.txt\") as f:\n",
    "    generated_files = f.read().splitlines()"
   ]
  },
  {
   "cell_type": "code",
   "execution_count": 31,
   "metadata": {
    "collapsed": false
   },
   "outputs": [
    {
     "name": "stdout",
     "output_type": "stream",
     "text": [
      "emission_delay_variation_bella_all_mobile.pdf\n",
      "emission_delay_variation_bella_allbut1_mobile.pdf\n",
      "emission_delay_variation_bella_single_mobile.pdf\n",
      "emission_delay_variation_bella_static.pdf\n",
      "emission_prod_breakdown_bella_all_mobile.pdf\n",
      "emission_prod_breakdown_bella_allbut1_mobile.pdf\n",
      "emission_prod_breakdown_bella_single_mobile.pdf\n",
      "emission_prod_breakdown_bella_static.pdf\n",
      "emission_rts_ratio_bella_all_mobile.pdf\n",
      "emission_rts_ratio_bella_allbut1_mobile.pdf\n",
      "emission_rts_ratio_bella_single_mobile.pdf\n",
      "emission_rts_ratio_bella_static.pdf\n",
      "emission_throughput_performance_bella_all_mobile.pdf\n",
      "emission_throughput_performance_bella_allbut1_mobile.pdf\n",
      "emission_throughput_performance_bella_single_mobile.pdf\n",
      "emission_throughput_performance_bella_static.pdf\n",
      "separation_delay_variation_bella_all_mobile.pdf\n",
      "separation_delay_variation_bella_allbut1_mobile.pdf\n",
      "separation_delay_variation_bella_single_mobile.pdf\n",
      "separation_delay_variation_bella_static.pdf\n",
      "separation_prod_breakdown_bella_all_mobile.pdf\n",
      "separation_prod_breakdown_bella_allbut1_mobile.pdf\n",
      "separation_prod_breakdown_bella_single_mobile.pdf\n",
      "separation_prod_breakdown_bella_static.pdf\n",
      "separation_rts_ratio_bella_all_mobile.pdf\n",
      "separation_rts_ratio_bella_allbut1_mobile.pdf\n",
      "separation_rts_ratio_bella_single_mobile.pdf\n",
      "separation_rts_ratio_bella_static.pdf\n",
      "separation_throughput_performance_bella_all_mobile.pdf\n",
      "separation_throughput_performance_bella_allbut1_mobile.pdf\n",
      "separation_throughput_performance_bella_single_mobile.pdf\n",
      "separation_throughput_performance_bella_static.pdf\n"
     ]
    }
   ],
   "source": [
    "doc = Document(default_filepath='generated_figures')\n",
    "\n",
    "with doc.create(Section('Generated Figures')):\n",
    "    for filename in sorted(generated_files):\n",
    "        image_path = os.path.join(fig_path, filename)\n",
    "        print(os.path.split(image_path))[-1]\n",
    "        with doc.create(Figure(position='h!')) as fig:\n",
    "            fig.add_image(image_path, width=NoEscape(r'\\linewidth'))\n",
    "            fig.add_caption(filename)"
   ]
  },
  {
   "cell_type": "code",
   "execution_count": 32,
   "metadata": {
    "collapsed": false
   },
   "outputs": [],
   "source": [
    "doc.generate_pdf()"
   ]
  },
  {
   "cell_type": "code",
   "execution_count": 33,
   "metadata": {
    "collapsed": false
   },
   "outputs": [
    {
     "data": {
      "text/plain": [
       "u'/home/bolster/src/aietes/scripts/notebooks/DataProcessing'"
      ]
     },
     "execution_count": 33,
     "metadata": {},
     "output_type": "execute_result"
    }
   ],
   "source": [
    "pwd"
   ]
  },
  {
   "cell_type": "code",
   "execution_count": 34,
   "metadata": {
    "collapsed": false
   },
   "outputs": [
    {
     "data": {
      "text/plain": [
       "(6.678, 4.1272309768717985)"
      ]
     },
     "execution_count": 34,
     "metadata": {},
     "output_type": "execute_result"
    }
   ],
   "source": [
    "from bounos.ChartBuilders import latexify\n",
    "latexify(0.5,1)"
   ]
  },
  {
   "cell_type": "code",
   "execution_count": null,
   "metadata": {
    "collapsed": true
   },
   "outputs": [],
   "source": []
  }
 ],
 "metadata": {
  "kernelspec": {
   "display_name": "Python 2",
   "language": "python",
   "name": "python2"
  },
  "language_info": {
   "codemirror_mode": {
    "name": "ipython",
    "version": 2
   },
   "file_extension": ".py",
   "mimetype": "text/x-python",
   "name": "python",
   "nbconvert_exporter": "python",
   "pygments_lexer": "ipython2",
   "version": "2.7.11"
  }
 },
 "nbformat": 4,
 "nbformat_minor": 0
}
