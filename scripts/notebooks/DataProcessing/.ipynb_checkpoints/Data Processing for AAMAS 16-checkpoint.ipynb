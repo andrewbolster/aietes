{
 "cells": [
  {
   "cell_type": "markdown",
   "metadata": {},
   "source": [
    "# Point\n",
    "\n",
    "* Demonstrate asynchronous grey trust formation.\n",
    "* Compare against solo/sliding window trust\n",
    "\n",
    "## TODO\n",
    "* Check that resultant weights are normalised (i.e. sum=1) - *DONE - All Metrics are fine but partials are flawed*\n"
   ]
  },
  {
   "cell_type": "code",
   "execution_count": 5,
   "metadata": {
    "collapsed": false
   },
   "outputs": [],
   "source": [
    "import operator\n",
    "import pandas as pd\n",
    "from bounos.Analyses.Weight import summed_outliers_per_weight\n",
    "import bounos.ChartBuilders as cb\n",
    "\n",
    "import os\n",
    "import pandas as pd\n",
    "\n",
    "_ = np.seterr(invalid='ignore') # Pandas PITA Nan printing\n",
    "\n",
    "import sklearn.ensemble as ske\n",
    "\n",
    "def categorise_dataframe(df):\n",
    "    # Categories work better as indexes\n",
    "    for obj_key in df.keys()[df.dtypes == object]:\n",
    "        try:\n",
    "            df[obj_key] = df[obj_key].astype('category')\n",
    "        except TypeError:\n",
    "            print(\"Couldn't categorise {}\".format(obj_key))\n",
    "            pass\n",
    "    return df\n",
    "\n",
    "def feature_extractor(df, target):\n",
    "    data = df.drop(target, axis=1)\n",
    "    reg = ske.RandomForestRegressor(n_jobs=4, n_estimators=512)\n",
    "    reg.fit(data, df[target])\n",
    "    return pd.Series(dict(zip(data.keys(), reg.feature_importances_)))\n",
    "\n",
    "def target_weight_feature_extractor(target_weights):\n",
    "    known_good_features_d = {}\n",
    "    for basekey in target_weights.keys(): # Parallelisable\n",
    "        print basekey\n",
    "        # Single DataFrame of all features against one behaviour\n",
    "        var_weights = target_weights.apply(lambda s: s/target_weights[basekey], axis=0).dropna()\n",
    "        known_good_features_d[basekey] = \\\n",
    "            pd.concat([feature_extractor(s.reset_index(),var) for var,s  in var_weights.iteritems()],\n",
    "                      keys=var_weights.keys(), names=['var','metric'])\n",
    "            \n",
    "    return known_good_features_d\n",
    "\n",
    "\n",
    "def dataframe_weight_filter(df, keys):\n",
    "    indexes = [(df.index.get_level_values(k)==0.0) for k in keys]\n",
    "    return df.loc[reduce(operator.and_,indexes)]\n",
    "\n",
    "phys_keys = ['INDD','INHD','Speed']\n",
    "comm_keys = ['ADelay','ARXP','ATXP','RXThroughput','TXThroughput','PLR']\n",
    "observer = 'Bravo'\n",
    "target = 'Alfa'\n",
    "n_nodes = 6\n",
    "n_metrics = 9\n",
    "\n",
    "var_rename_dict = {'CombinedBadMouthingPowerControl':'MPC',\n",
    " 'CombinedSelfishTargetSelection':'STS',\n",
    " 'CombinedTrust':'Fair',\n",
    " 'Shadow':'Shadow',\n",
    " 'SlowCoach':'SlowCoach'}\n",
    "\n",
    "results_path = \"/home/bolster/src/aietes/results/Malicious Behaviour Trust Comparison-2015-07-20-17-47-53\"\n",
    "\n",
    "fig_basedir = \"/home/bolster/src/thesis/papers/active/16_AAMAS/img\"\n",
    "\n",
    "assert os.path.isdir(fig_basedir)\n",
    "\n",
    "def non_zero_rows(df):\n",
    "    return df[~(df==0).all(axis=1)]\n",
    "\n",
    "\n",
    "def map_level(df, dct, level=0):\n",
    "    index = df.index\n",
    "    index.set_levels([[dct.get(item, item) for item in names] if i==level else names\n",
    "                      for i, names in enumerate(index.levels)], inplace=True)\n"
   ]
  },
  {
   "cell_type": "markdown",
   "metadata": {},
   "source": [
    "#Graphics"
   ]
  },
  {
   "cell_type": "code",
   "execution_count": 6,
   "metadata": {
    "collapsed": false
   },
   "outputs": [
    {
     "data": {
      "text/plain": [
       "(3.339, 2.0636154884358993)"
      ]
     },
     "execution_count": 6,
     "metadata": {},
     "output_type": "execute_result"
    }
   ],
   "source": [
    "#print(matplotlib.rcParams)\n",
    "_boxplot_kwargs = {\n",
    "    'showmeans':True,\n",
    "    'showbox':False,\n",
    "    'widths':0.2,\n",
    "    'linewidth':2\n",
    "}\n",
    "\n",
    "golden_mean  = (np.sqrt(5) - 1.0) / 2.0  # because it looks good\n",
    "w=4\n",
    "cb.latexify(columns=0.5, factor=0.5)"
   ]
  },
  {
   "cell_type": "code",
   "execution_count": 7,
   "metadata": {
    "collapsed": false
   },
   "outputs": [
    {
     "data": {
      "image/png": "[encoded data removed]",
      "text/plain": [
       "<matplotlib.figure.Figure at 0x7f72b8d2bfd0>"
      ]
     },
     "metadata": {},
     "output_type": "display_data"
    }
   ],
   "source": [
    "def add_height_annotation(ax, start, end, txt_str, x_width=.5, txt_kwargs=None, arrow_kwargs=None):\n",
    "    \"\"\"\n",
    "    Adds horizontal arrow annotation with text in the middle\n",
    "\n",
    "    Parameters\n",
    "    ----------\n",
    "    ax : matplotlib.Axes\n",
    "        The axes to draw to\n",
    "\n",
    "    start : float\n",
    "        start of line\n",
    "\n",
    "    end : float\n",
    "        end of line\n",
    "\n",
    "    txt_str : string\n",
    "        The text to add\n",
    "\n",
    "    y_height : float\n",
    "        The height of the line\n",
    "\n",
    "    txt_kwargs : dict or None\n",
    "        Extra kwargs to pass to the text\n",
    "\n",
    "    arrow_kwargs : dict or None\n",
    "        Extra kwargs to pass to the annotate\n",
    "\n",
    "    Returns\n",
    "    -------\n",
    "    tuple\n",
    "        (annotation, text)\n",
    "    \"\"\"\n",
    "\n",
    "    if txt_kwargs is None:\n",
    "        txt_kwargs = {}\n",
    "    if arrow_kwargs is None:\n",
    "        # default to your arrowprops\n",
    "        arrow_kwargs = {'arrowprops':dict(arrowstyle=\"<->\",\n",
    "                            connectionstyle=\"bar\",\n",
    "                            ec=\"k\",\n",
    "                            shrinkA=5, shrinkB=5,\n",
    "                            )}\n",
    "\n",
    "    trans = ax.get_xaxis_transform()\n",
    "\n",
    "    ann = ax.annotate('', xy=(x_width, start),\n",
    "                        xytext=(x_width, end),\n",
    "                        transform=trans,\n",
    "                        **arrow_kwargs)\n",
    "    txt = ax.text(x_width + .05,\n",
    "                  (start + end) / 2,\n",
    "                  txt_str,\n",
    "                  **txt_kwargs)\n",
    "\n",
    "\n",
    "\n",
    "fig, axes = plt.subplots(nrows=1,ncols=3, sharex='none', sharey='none',\n",
    "                         subplot_kw={'axisbg':(1,0.9,0.9), 'alpha':0.1})\n",
    "#fig.suptitle(\"Threat Surface for Trust Management Frameworks\", size=18, x=0.6, y=0.73)\n",
    "for ax in axes:\n",
    "    ax.set_aspect('equal')\n",
    "    ax.xaxis.set_visible(False)\n",
    "    ax.yaxis.set_visible(False)\n",
    "    \n",
    "ys = np.linspace(0.15,0.85,4)\n",
    "\n",
    "# Single\n",
    "ax=axes[0]\n",
    "ax.set_title(\"Single Metric\")\n",
    "ax.add_patch(pylab.Circle((0.1,ys[0]),radius=0.075,color='g', alpha=0.9))\n",
    "ax.annotate('single metric\\nobservation', xy=(0.15,0.2), xycoords='data',\n",
    "                xytext=(15,50), textcoords='offset points',\n",
    "                arrowprops=dict(arrowstyle=\"->\",\n",
    "                                connectionstyle=\"arc,angleA=0180,armA=30,rad=10\"),\n",
    "                )    \n",
    "\n",
    "\n",
    "# Vector\n",
    "ax=axes[1]\n",
    "ax.set_title(\"Single Vector\")\n",
    "ax.add_patch(pylab.Rectangle((0.0,ys[0]-0.1),0.99,0.2, alpha=0.2))\n",
    "for x in np.linspace(0.1,0.9,5):\n",
    "    ax.add_patch(pylab.Circle((x,ys[0]),radius=0.075,color='g', alpha=0.9))\n",
    "ax.annotate('single domain\\nobservation', xy=(0.5,0.3), xycoords='data',\n",
    "                xytext=(-25,30), textcoords='offset points',\n",
    "                arrowprops=dict(arrowstyle=\"->\",\n",
    "                                connectionstyle=\"arc,angleA=0180,armA=30,rad=10\"),\n",
    "                ) \n",
    "\n",
    "\n",
    "#Multi\n",
    "ax=axes[2]\n",
    "ax.set_title(\"Multi Domain\")\n",
    "ax.text(1,0.3,r\"$\\}$\",fontsize = 52)\n",
    "ax.text(1.3,0.42,\"Combination of\\nmultiple vectors,\\neach containing\\nmultiple metrics\",\n",
    "        verticalalignment='center')\n",
    "\n",
    "ax.add_patch(pylab.Rectangle((0.0,ys[0]-0.1),0.99,0.2, alpha=0.2))\n",
    "for x in np.linspace(0.1,0.9,5):\n",
    "    ax.add_patch(pylab.Circle((x,ys[0]),radius=0.075,color='g', alpha=0.9))\n",
    "\n",
    "ax.add_patch(pylab.Rectangle((0.0,ys[1]-0.1),0.99,0.2, alpha=0.2))\n",
    "for x in np.linspace(0.2,0.8,3):\n",
    "    ax.add_patch(pylab.Circle((x,ys[1]),radius=0.075,color='y', alpha=0.9))\n",
    "\n",
    "ax.add_patch(pylab.Rectangle((0.0,ys[2]-0.1),1.0,0.2, alpha=0.2))\n",
    "for x in np.linspace(0.1,0.9,6):\n",
    "    ax.add_patch(pylab.Circle((x,ys[2]),radius=0.075,color='b', alpha=0.9))\n",
    "\n",
    "ax.add_patch(pylab.Rectangle((0.0,ys[3]-0.1),1.0,0.2, alpha=0.2))\n",
    "for x in np.linspace(0,1,10):\n",
    "    ax.add_patch(pylab.Circle((x,ys[3]),radius=0.075,color='r', alpha=0.9))\n",
    "\n",
    "fig.savefig(os.path.join(fig_basedir, 'threat_surface_sum'), transparent=True)"
   ]
  },
  {
   "cell_type": "code",
   "execution_count": 7,
   "metadata": {
    "collapsed": false
   },
   "outputs": [],
   "source": []
  },
  {
   "cell_type": "code",
   "execution_count": 8,
   "metadata": {
    "collapsed": false
   },
   "outputs": [
    {
     "name": "stdout",
     "output_type": "stream",
     "text": [
      "/CombinedTrust0_3\n",
      "/CombinedTrust1_3\n",
      "/CombinedTrust2_3\n"
     ]
    },
    {
     "name": "stderr",
     "output_type": "stream",
     "text": [
      "-c:8: FutureWarning: sort(....) is deprecated, use sort_index(.....)\n"
     ]
    }
   ],
   "source": [
    "with pd.get_store(results_path+\"/outliers.bkup.h5\") as store:\n",
    "    target_weights_dict = {}\n",
    "    for runkey in store.keys():\n",
    "        print runkey\n",
    "        target_weights_dict[runkey] = summed_outliers_per_weight(store.get(runkey), observer, n_metrics, target=target)\n",
    "        \n",
    "joined_target_weights = pd.concat(target_weights_dict, names = ['run']+target_weights_dict[runkey].index.names)\n",
    "sorted_joined_target_weights = joined_target_weights.reset_index('run', drop=True).sort()"
   ]
  },
  {
   "cell_type": "markdown",
   "metadata": {},
   "source": [
    "# All Metrics - Fair Base Behaviour"
   ]
  },
  {
   "cell_type": "code",
   "execution_count": 9,
   "metadata": {
    "collapsed": false
   },
   "outputs": [
    {
     "name": "stdout",
     "output_type": "stream",
     "text": [
      "CombinedBadMouthingPowerControl\n",
      "CombinedSelfishTargetSelection\n",
      "CombinedTrust\n",
      "Shadow\n",
      "SlowCoach\n"
     ]
    }
   ],
   "source": [
    "joined_feats = target_weight_feature_extractor(sorted_joined_target_weights)\n",
    "\n",
    "alt_joined_feats= pd.concat(joined_feats, names=['base','comp','metric']).unstack('metric')[comm_keys+phys_keys]\n",
    "alt_joined_feats.index.set_levels([[u'MPC', u'STS', u'Fair', u'Shadow', u'SlowCoach'], [u'MPC', u'STS', u'Fair', u'Shadow', u'SlowCoach']], inplace=True)\n"
   ]
  },
  {
   "cell_type": "code",
   "execution_count": 17,
   "metadata": {
    "collapsed": false
   },
   "outputs": [],
   "source": [
    "shared_h5_path = '/dev/shm/shared.h5'\n",
    "alt_joined_feats.to_hdf(shared_h5_path,'alt_joined_feats')\n",
    "joined_target_weights.to_hdf(shared_h5_path,'joined_target_weights')\n",
    "sorted_joined_target_weights.to_hdf(shared_h5_path, 'sorted_joined_target_weights')"
   ]
  },
  {
   "cell_type": "code",
   "execution_count": 31,
   "metadata": {
    "collapsed": false
   },
   "outputs": [
    {
     "data": {
      "image/png": "[encoded data removed]",
      "text/plain": [
       "<matplotlib.figure.Figure at 0x7f72bb29b8d0>"
      ]
     },
     "metadata": {},
     "output_type": "display_data"
    }
   ],
   "source": [
    "fair_feats = alt_joined_feats.loc['Fair'].rename(columns=metric_rename_dict)\n",
    "ax = fair_feats[~(fair_feats==0).all(axis=1)].plot(kind='bar', rot=0, label=\"Test\")\n",
    "ax.set_xlabel(\"Behaviour\")\n",
    "ax.set_ylabel(\"Estimated Best Metric Weighting\")\n",
    "\n",
    "ax.get_figure().savefig(os.path.join(fig_basedir,\"full_metric_trust_relevance\"), transparent=True)"
   ]
  },
  {
   "cell_type": "code",
   "execution_count": 10,
   "metadata": {
    "collapsed": false
   },
   "outputs": [
    {
     "data": {
      "image/png": "[encoded data removed]",
      "text/plain": [
       "<matplotlib.figure.Figure at 0x7f72b8e056d0>"
      ]
     },
     "metadata": {},
     "output_type": "display_data"
    }
   ],
   "source": [
    "fair_feats = alt_joined_feats.loc['Fair']\n",
    "plottables = fair_feats[~(fair_feats==0)]\n",
    "plt.bar(plot)\n",
    "ax.set_xlabel(\"Behaviour\")\n",
    "ax.set_ylabel(\"Estimated Best Metric Weighting\")\n",
    "\n",
    "ax.get_figure().savefig(os.path.join(fig_basedir,\"full_metric_trust_relevance\"), transparent=True)"
   ]
  },
  {
   "cell_type": "code",
   "execution_count": 11,
   "metadata": {
    "collapsed": false
   },
   "outputs": [
    {
     "data": {
      "text/html": [
       "<div style=\"max-width:1500px;overflow:auto;\">\n",
       "<table border=\"1\" class=\"dataframe\">\n",
       "  <thead>\n",
       "    <tr style=\"text-align: right;\">\n",
       "      <th>metric</th>\n",
       "      <th>ADelay</th>\n",
       "      <th>ARXP</th>\n",
       "      <th>ATXP</th>\n",
       "      <th>RXThroughput</th>\n",
       "      <th>TXThroughput</th>\n",
       "      <th>PLR</th>\n",
       "      <th>INDD</th>\n",
       "      <th>INHD</th>\n",
       "      <th>Speed</th>\n",
       "    </tr>\n",
       "    <tr>\n",
       "      <th>comp</th>\n",
       "      <th></th>\n",
       "      <th></th>\n",
       "      <th></th>\n",
       "      <th></th>\n",
       "      <th></th>\n",
       "      <th></th>\n",
       "      <th></th>\n",
       "      <th></th>\n",
       "      <th></th>\n",
       "    </tr>\n",
       "  </thead>\n",
       "  <tbody>\n",
       "    <tr>\n",
       "      <th>MPC</th>\n",
       "      <td>0.055246</td>\n",
       "      <td>0.127141</td>\n",
       "      <td>0.413066</td>\n",
       "      <td>0.052450</td>\n",
       "      <td>0.056229</td>\n",
       "      <td>0.079290</td>\n",
       "      <td>0.049651</td>\n",
       "      <td>0.060276</td>\n",
       "      <td>0.106651</td>\n",
       "    </tr>\n",
       "    <tr>\n",
       "      <th>STS</th>\n",
       "      <td>0.103287</td>\n",
       "      <td>0.078826</td>\n",
       "      <td>0.074953</td>\n",
       "      <td>0.088134</td>\n",
       "      <td>0.269161</td>\n",
       "      <td>0.075009</td>\n",
       "      <td>0.148698</td>\n",
       "      <td>0.080819</td>\n",
       "      <td>0.081114</td>\n",
       "    </tr>\n",
       "    <tr>\n",
       "      <th>Fair</th>\n",
       "      <td>0.000000</td>\n",
       "      <td>0.000000</td>\n",
       "      <td>0.000000</td>\n",
       "      <td>0.000000</td>\n",
       "      <td>0.000000</td>\n",
       "      <td>0.000000</td>\n",
       "      <td>0.000000</td>\n",
       "      <td>0.000000</td>\n",
       "      <td>0.000000</td>\n",
       "    </tr>\n",
       "    <tr>\n",
       "      <th>Shadow</th>\n",
       "      <td>0.033075</td>\n",
       "      <td>0.597865</td>\n",
       "      <td>0.023231</td>\n",
       "      <td>0.038251</td>\n",
       "      <td>0.033944</td>\n",
       "      <td>0.023241</td>\n",
       "      <td>0.076234</td>\n",
       "      <td>0.059300</td>\n",
       "      <td>0.114859</td>\n",
       "    </tr>\n",
       "    <tr>\n",
       "      <th>SlowCoach</th>\n",
       "      <td>0.064109</td>\n",
       "      <td>0.370626</td>\n",
       "      <td>0.021277</td>\n",
       "      <td>0.061002</td>\n",
       "      <td>0.045542</td>\n",
       "      <td>0.021211</td>\n",
       "      <td>0.083290</td>\n",
       "      <td>0.082571</td>\n",
       "      <td>0.250372</td>\n",
       "    </tr>\n",
       "  </tbody>\n",
       "</table>\n",
       "</div>"
      ],
      "text/plain": [
       "metric       ADelay      ARXP      ATXP  RXThroughput  TXThroughput       PLR  \\\n",
       "comp                                                                            \n",
       "MPC        0.055246  0.127141  0.413066      0.052450      0.056229  0.079290   \n",
       "STS        0.103287  0.078826  0.074953      0.088134      0.269161  0.075009   \n",
       "Fair       0.000000  0.000000  0.000000      0.000000      0.000000  0.000000   \n",
       "Shadow     0.033075  0.597865  0.023231      0.038251      0.033944  0.023241   \n",
       "SlowCoach  0.064109  0.370626  0.021277      0.061002      0.045542  0.021211   \n",
       "\n",
       "metric         INDD      INHD     Speed  \n",
       "comp                                     \n",
       "MPC        0.049651  0.060276  0.106651  \n",
       "STS        0.148698  0.080819  0.081114  \n",
       "Fair       0.000000  0.000000  0.000000  \n",
       "Shadow     0.076234  0.059300  0.114859  \n",
       "SlowCoach  0.083290  0.082571  0.250372  "
      ]
     },
     "execution_count": 11,
     "metadata": {},
     "output_type": "execute_result"
    }
   ],
   "source": [
    "fair_feats.head()"
   ]
  },
  {
   "cell_type": "code",
   "execution_count": 11,
   "metadata": {
    "collapsed": false
   },
   "outputs": [],
   "source": []
  },
  {
   "cell_type": "code",
   "execution_count": 18,
   "metadata": {
    "collapsed": false
   },
   "outputs": [],
   "source": [
    "from scipy.stats.stats import pearsonr\n",
    "import itertools\n",
    "\n",
    "key_order = ['ADelay', 'ARXP', 'ATXP', 'RXThroughput', 'TXThroughput', 'PLR', 'INDD', 'INHD','Speed']\n",
    "def calc_correlations(base, comp, index=0):\n",
    "    dp_r=(comp/base).reset_index()\n",
    "    return dp_r.corr()[index][:-1]\n",
    "\n",
    "#calc_correlations(sorted_joined_target_weights.CombinedTrust,sorted_joined_target_weights.CombinedBadMouthingPowerControl)\n",
    "_corrs = {}\n",
    "for base, comp in itertools.permutations(sorted_joined_target_weights.keys(), 2):\n",
    "    _corrs[(base,comp)]= \\\n",
    "    calc_correlations(sorted_joined_target_weights[base],\n",
    "                      sorted_joined_target_weights[comp])"
   ]
  },
  {
   "cell_type": "code",
   "execution_count": 13,
   "metadata": {
    "collapsed": false
   },
   "outputs": [
    {
     "ename": "SyntaxError",
     "evalue": "invalid syntax (<ipython-input-13-7064e53fbd5d>, line 1)",
     "output_type": "error",
     "traceback": [
      "\u001b[0;36m  File \u001b[0;32m\"<ipython-input-13-7064e53fbd5d>\"\u001b[0;36m, line \u001b[0;32m1\u001b[0m\n\u001b[0;31m    (sorted_joined_target_weights.CombinedBadMouthingPowerControl/sorted_joined_target_weights.CombinedTrust).reset_index().\u001b[0m\n\u001b[0m                                                                                                                            ^\u001b[0m\n\u001b[0;31mSyntaxError\u001b[0m\u001b[0;31m:\u001b[0m invalid syntax\n"
     ]
    }
   ],
   "source": []
  },
  {
   "cell_type": "code",
   "execution_count": 20,
   "metadata": {
    "collapsed": false
   },
   "outputs": [],
   "source": [
    "metric_rename_dict = {\n",
    "    'ADelay': \"$Delay$\",\n",
    "    'ARXP': \"$P_{RX}$\",\n",
    "    'ATXP': \"$P_{TX}$\",\n",
    "    'RXThroughput': \"$T^P_{RX}$\",\n",
    "    'TXThroughput': \"$T^P_{TX}$\",\n",
    "    'PLR': '$PLR$',\n",
    "    'INDD': '$INDD$',\n",
    "    'INHD': '$INHD$',\n",
    "    'Speed': '$Speed$'\n",
    "}"
   ]
  },
  {
   "cell_type": "code",
   "execution_count": 35,
   "metadata": {
    "collapsed": false
   },
   "outputs": [
    {
     "data": {
      "text/plain": [
       "u'\\\\begin{tabular}{lrrrrrrrrr}\\n\\\\toprule\\n{} &  \\\\$Delay\\\\$ &  \\\\$P\\\\_\\\\{RX\\\\}\\\\$ &  \\\\$P\\\\_\\\\{TX\\\\}\\\\$ &  \\\\$T\\\\textasciicircumP\\\\_\\\\{RX\\\\}\\\\$ &  \\\\$PLR\\\\$ &  \\\\$T\\\\textasciicircumP\\\\_\\\\{TX\\\\}\\\\$ &  \\\\$INDD\\\\$ &  \\\\$INHD\\\\$ &  \\\\$Speed\\\\$ \\\\\\\\\\n\\\\midrule\\ncomp      &          &           &           &             &        &             &         &         &          \\\\\\\\\\nMPC       &   -0.187 &     0.129 &     0.579 &       0.006 &  0.069 &      -0.146 &   0.040 &  -0.190 &   -0.297 \\\\\\\\\\nSTS       &   -0.195 &    -0.035 &     0.019 &      -0.100 &  0.019 &       0.381 &  -0.209 &   0.057 &    0.062 \\\\\\\\\\nShadow    &    0.004 &    -0.654 &     0.030 &      -0.016 &  0.030 &       0.063 &   0.120 &   0.158 &    0.266 \\\\\\\\\\nSlowCoach &   -0.157 &    -0.533 &     0.013 &      -0.132 &  0.013 &      -0.028 &   0.159 &   0.206 &    0.460 \\\\\\\\\\n\\\\bottomrule\\n\\\\end{tabular}\\n'"
      ]
     },
     "execution_count": 35,
     "metadata": {},
     "output_type": "execute_result"
    }
   ],
   "source": [
    "corrs = pd.DataFrame.from_dict(_corrs).rename(index=metric_rename_dict)\n",
    "corrs = corrs.T\n",
    "map_level(corrs, var_rename_dict, 0)\n",
    "map_level(corrs, var_rename_dict, 1)\n",
    "corrs.index.set_names(['base','comp'],inplace=True)\n",
    "corrs.loc['Fair'].apply(lambda v: np.round(v,decimals=3)).to_latex()"
   ]
  },
  {
   "cell_type": "markdown",
   "metadata": {},
   "source": [
    "# Comms Only - Fair Base Behaviour"
   ]
  },
  {
   "cell_type": "code",
   "execution_count": 36,
   "metadata": {
    "collapsed": false
   },
   "outputs": [
    {
     "name": "stdout",
     "output_type": "stream",
     "text": [
      "CombinedBadMouthingPowerControl\n",
      "CombinedSelfishTargetSelection\n",
      "CombinedTrust\n",
      "Shadow\n",
      "SlowCoach\n"
     ]
    }
   ],
   "source": [
    "reset_phys_keys = sorted_joined_target_weights.reset_index(level=phys_keys)\n",
    "zero_phys_indexes = (reset_phys_keys[phys_keys]==0.0).all(axis=1)\n",
    "comms_only_target_weights = reset_phys_keys[zero_phys_indexes].drop(phys_keys,1)\n",
    "\n",
    "comms_only_feats = target_weight_feature_extractor(comms_only_target_weights)"
   ]
  },
  {
   "cell_type": "code",
   "execution_count": 37,
   "metadata": {
    "collapsed": false
   },
   "outputs": [
    {
     "data": {
      "image/png": "[encoded data removed]",
      "text/plain": [
       "<matplotlib.figure.Figure at 0x7f72bb196cd0>"
      ]
     },
     "metadata": {},
     "output_type": "display_data"
    }
   ],
   "source": [
    "alt_comms_only_feats= pd.concat(comms_only_feats, names=['base','comp','metric']).unstack('metric')[comm_keys]\n",
    "alt_comms_only_feats.index.set_levels([[u'MPC', u'STS', u'Fair', u'Shadow', u'SlowCoach'], [u'MPC', u'STS', u'Fair', u'Shadow', u'SlowCoach']], inplace=True)\n",
    "alt_comms_only_feats.to_hdf(shared_h5_path, 'alt_comms_only_feats')\n",
    "fair_feats = alt_comms_only_feats.loc['Fair']\n",
    "ax = fair_feats[~(fair_feats==0).all(axis=1)].plot(kind='bar', rot=0, label=\"Test\")\n",
    "ax.set_xlabel(\"Behaviour\")\n",
    "ax.set_ylabel(\"Estimated Best Metric Weighting\")\n",
    "\n",
    "ax.get_figure().savefig(os.path.join(fig_basedir,\"comms_metric_trust_relevance\"), transparent=True)"
   ]
  },
  {
   "cell_type": "markdown",
   "metadata": {},
   "source": [
    "# Phys Only - Fair Base Behaviour"
   ]
  },
  {
   "cell_type": "code",
   "execution_count": 38,
   "metadata": {
    "collapsed": false
   },
   "outputs": [
    {
     "name": "stdout",
     "output_type": "stream",
     "text": [
      "CombinedBadMouthingPowerControl\n",
      "CombinedSelfishTargetSelection\n",
      "CombinedTrust\n",
      "Shadow\n",
      "SlowCoach\n"
     ]
    }
   ],
   "source": [
    "reset_comm_keys = sorted_joined_target_weights.reset_index(level=comm_keys)\n",
    "zero_comm_indexes = (reset_comm_keys[comm_keys]==0.0).all(axis=1)\n",
    "phys_only_target_weights = reset_comm_keys[zero_comm_indexes].drop(comm_keys,1)\n",
    "\n",
    "phys_only_feats = target_weight_feature_extractor(phys_only_target_weights)"
   ]
  },
  {
   "cell_type": "code",
   "execution_count": 39,
   "metadata": {
    "collapsed": false
   },
   "outputs": [
    {
     "data": {
      "image/png": "[encoded data removed]",
      "text/plain": [
       "<matplotlib.figure.Figure at 0x7f72bb201510>"
      ]
     },
     "metadata": {},
     "output_type": "display_data"
    }
   ],
   "source": [
    "alt_phys_only_feats= pd.concat(phys_only_feats, names=['base','comp','metric']).unstack('metric')[phys_keys]\n",
    "alt_phys_only_feats.index.set_levels([[u'MPC', u'STS', u'Fair', u'Shadow', u'SlowCoach'], [u'MPC', u'STS', u'Fair', u'Shadow', u'SlowCoach']], inplace=True)\n",
    "alt_phys_only_feats.to_hdf(shared_h5_path, 'alt_phys_only_feats')\n",
    "\n",
    "fair_feats = alt_phys_only_feats.loc['Fair']\n",
    "ax = fair_feats[~(fair_feats==0).all(axis=1)].plot(kind='bar', rot=0, label=\"Test\")\n",
    "ax.set_xlabel(\"Behaviour\")\n",
    "ax.set_ylabel(\"Estimated Best Metric Weighting\")\n",
    "\n",
    "ax.get_figure().savefig(os.path.join(fig_basedir,\"phys_metric_trust_relevance\"), transparent=True)"
   ]
  },
  {
   "cell_type": "code",
   "execution_count": 50,
   "metadata": {
    "collapsed": false
   },
   "outputs": [
    {
     "data": {
      "text/html": [
       "<div style=\"max-width:1500px;overflow:auto;\">\n",
       "<table border=\"1\" class=\"dataframe\">\n",
       "  <thead>\n",
       "    <tr style=\"text-align: right;\">\n",
       "      <th></th>\n",
       "      <th>metric</th>\n",
       "      <th>ADelay</th>\n",
       "      <th>ARXP</th>\n",
       "      <th>ATXP</th>\n",
       "      <th>RXThroughput</th>\n",
       "      <th>TXThroughput</th>\n",
       "      <th>PLR</th>\n",
       "    </tr>\n",
       "    <tr>\n",
       "      <th>base</th>\n",
       "      <th>comp</th>\n",
       "      <th></th>\n",
       "      <th></th>\n",
       "      <th></th>\n",
       "      <th></th>\n",
       "      <th></th>\n",
       "      <th></th>\n",
       "    </tr>\n",
       "  </thead>\n",
       "  <tbody>\n",
       "    <tr>\n",
       "      <th rowspan=\"5\" valign=\"top\">CombinedBadMouthingPowerControl</th>\n",
       "      <th>CombinedBadMouthingPowerControl</th>\n",
       "      <td>0.000000</td>\n",
       "      <td>0.000000</td>\n",
       "      <td>0.000000</td>\n",
       "      <td>0.000000</td>\n",
       "      <td>0.000000</td>\n",
       "      <td>0.000000</td>\n",
       "    </tr>\n",
       "    <tr>\n",
       "      <th>CombinedSelfishTargetSelection</th>\n",
       "      <td>0.020161</td>\n",
       "      <td>0.462614</td>\n",
       "      <td>0.111958</td>\n",
       "      <td>0.024394</td>\n",
       "      <td>0.261701</td>\n",
       "      <td>0.119171</td>\n",
       "    </tr>\n",
       "    <tr>\n",
       "      <th>CombinedTrust</th>\n",
       "      <td>0.035395</td>\n",
       "      <td>0.320011</td>\n",
       "      <td>0.234195</td>\n",
       "      <td>0.025647</td>\n",
       "      <td>0.216822</td>\n",
       "      <td>0.167930</td>\n",
       "    </tr>\n",
       "    <tr>\n",
       "      <th>Shadow</th>\n",
       "      <td>0.080057</td>\n",
       "      <td>0.166801</td>\n",
       "      <td>0.418840</td>\n",
       "      <td>0.050214</td>\n",
       "      <td>0.231161</td>\n",
       "      <td>0.052928</td>\n",
       "    </tr>\n",
       "    <tr>\n",
       "      <th>SlowCoach</th>\n",
       "      <td>0.097476</td>\n",
       "      <td>0.131761</td>\n",
       "      <td>0.547885</td>\n",
       "      <td>0.050289</td>\n",
       "      <td>0.132756</td>\n",
       "      <td>0.039832</td>\n",
       "    </tr>\n",
       "    <tr>\n",
       "      <th rowspan=\"5\" valign=\"top\">CombinedSelfishTargetSelection</th>\n",
       "      <th>CombinedBadMouthingPowerControl</th>\n",
       "      <td>0.116416</td>\n",
       "      <td>0.113211</td>\n",
       "      <td>0.378516</td>\n",
       "      <td>0.125812</td>\n",
       "      <td>0.193315</td>\n",
       "      <td>0.072729</td>\n",
       "    </tr>\n",
       "    <tr>\n",
       "      <th>CombinedSelfishTargetSelection</th>\n",
       "      <td>0.000000</td>\n",
       "      <td>0.000000</td>\n",
       "      <td>0.000000</td>\n",
       "      <td>0.000000</td>\n",
       "      <td>0.000000</td>\n",
       "      <td>0.000000</td>\n",
       "    </tr>\n",
       "    <tr>\n",
       "      <th>CombinedTrust</th>\n",
       "      <td>0.158479</td>\n",
       "      <td>0.152986</td>\n",
       "      <td>0.074044</td>\n",
       "      <td>0.147672</td>\n",
       "      <td>0.392603</td>\n",
       "      <td>0.074217</td>\n",
       "    </tr>\n",
       "    <tr>\n",
       "      <th>Shadow</th>\n",
       "      <td>0.138115</td>\n",
       "      <td>0.158769</td>\n",
       "      <td>0.103121</td>\n",
       "      <td>0.141946</td>\n",
       "      <td>0.356218</td>\n",
       "      <td>0.101831</td>\n",
       "    </tr>\n",
       "    <tr>\n",
       "      <th>SlowCoach</th>\n",
       "      <td>0.100588</td>\n",
       "      <td>0.211071</td>\n",
       "      <td>0.077805</td>\n",
       "      <td>0.131467</td>\n",
       "      <td>0.400658</td>\n",
       "      <td>0.078411</td>\n",
       "    </tr>\n",
       "    <tr>\n",
       "      <th rowspan=\"5\" valign=\"top\">CombinedTrust</th>\n",
       "      <th>CombinedBadMouthingPowerControl</th>\n",
       "      <td>0.133488</td>\n",
       "      <td>0.072545</td>\n",
       "      <td>0.511195</td>\n",
       "      <td>0.100806</td>\n",
       "      <td>0.102731</td>\n",
       "      <td>0.079234</td>\n",
       "    </tr>\n",
       "    <tr>\n",
       "      <th>CombinedSelfishTargetSelection</th>\n",
       "      <td>0.127205</td>\n",
       "      <td>0.108912</td>\n",
       "      <td>0.083408</td>\n",
       "      <td>0.140017</td>\n",
       "      <td>0.458205</td>\n",
       "      <td>0.082253</td>\n",
       "    </tr>\n",
       "    <tr>\n",
       "      <th>CombinedTrust</th>\n",
       "      <td>0.000000</td>\n",
       "      <td>0.000000</td>\n",
       "      <td>0.000000</td>\n",
       "      <td>0.000000</td>\n",
       "      <td>0.000000</td>\n",
       "      <td>0.000000</td>\n",
       "    </tr>\n",
       "    <tr>\n",
       "      <th>Shadow</th>\n",
       "      <td>0.196735</td>\n",
       "      <td>0.191785</td>\n",
       "      <td>0.143593</td>\n",
       "      <td>0.133726</td>\n",
       "      <td>0.191335</td>\n",
       "      <td>0.142826</td>\n",
       "    </tr>\n",
       "    <tr>\n",
       "      <th>SlowCoach</th>\n",
       "      <td>0.110873</td>\n",
       "      <td>0.227343</td>\n",
       "      <td>0.099328</td>\n",
       "      <td>0.136925</td>\n",
       "      <td>0.324613</td>\n",
       "      <td>0.100917</td>\n",
       "    </tr>\n",
       "    <tr>\n",
       "      <th rowspan=\"5\" valign=\"top\">Shadow</th>\n",
       "      <th>CombinedBadMouthingPowerControl</th>\n",
       "      <td>0.119572</td>\n",
       "      <td>0.091628</td>\n",
       "      <td>0.515519</td>\n",
       "      <td>0.083714</td>\n",
       "      <td>0.083977</td>\n",
       "      <td>0.105589</td>\n",
       "    </tr>\n",
       "    <tr>\n",
       "      <th>CombinedSelfishTargetSelection</th>\n",
       "      <td>0.171122</td>\n",
       "      <td>0.149324</td>\n",
       "      <td>0.080143</td>\n",
       "      <td>0.110627</td>\n",
       "      <td>0.406604</td>\n",
       "      <td>0.082180</td>\n",
       "    </tr>\n",
       "    <tr>\n",
       "      <th>CombinedTrust</th>\n",
       "      <td>0.160592</td>\n",
       "      <td>0.222957</td>\n",
       "      <td>0.163148</td>\n",
       "      <td>0.139299</td>\n",
       "      <td>0.153804</td>\n",
       "      <td>0.160200</td>\n",
       "    </tr>\n",
       "    <tr>\n",
       "      <th>Shadow</th>\n",
       "      <td>0.000000</td>\n",
       "      <td>0.000000</td>\n",
       "      <td>0.000000</td>\n",
       "      <td>0.000000</td>\n",
       "      <td>0.000000</td>\n",
       "      <td>0.000000</td>\n",
       "    </tr>\n",
       "    <tr>\n",
       "      <th>SlowCoach</th>\n",
       "      <td>0.147611</td>\n",
       "      <td>0.202574</td>\n",
       "      <td>0.081441</td>\n",
       "      <td>0.108538</td>\n",
       "      <td>0.378227</td>\n",
       "      <td>0.081609</td>\n",
       "    </tr>\n",
       "    <tr>\n",
       "      <th rowspan=\"5\" valign=\"top\">SlowCoach</th>\n",
       "      <th>CombinedBadMouthingPowerControl</th>\n",
       "      <td>0.136098</td>\n",
       "      <td>0.077083</td>\n",
       "      <td>0.512387</td>\n",
       "      <td>0.077456</td>\n",
       "      <td>0.087867</td>\n",
       "      <td>0.109108</td>\n",
       "    </tr>\n",
       "    <tr>\n",
       "      <th>CombinedSelfishTargetSelection</th>\n",
       "      <td>0.124831</td>\n",
       "      <td>0.187076</td>\n",
       "      <td>0.069030</td>\n",
       "      <td>0.088783</td>\n",
       "      <td>0.462293</td>\n",
       "      <td>0.067988</td>\n",
       "    </tr>\n",
       "    <tr>\n",
       "      <th>CombinedTrust</th>\n",
       "      <td>0.115520</td>\n",
       "      <td>0.272646</td>\n",
       "      <td>0.125490</td>\n",
       "      <td>0.132481</td>\n",
       "      <td>0.226523</td>\n",
       "      <td>0.127340</td>\n",
       "    </tr>\n",
       "    <tr>\n",
       "      <th>Shadow</th>\n",
       "      <td>0.162456</td>\n",
       "      <td>0.159027</td>\n",
       "      <td>0.078399</td>\n",
       "      <td>0.122296</td>\n",
       "      <td>0.399977</td>\n",
       "      <td>0.077845</td>\n",
       "    </tr>\n",
       "    <tr>\n",
       "      <th>SlowCoach</th>\n",
       "      <td>0.000000</td>\n",
       "      <td>0.000000</td>\n",
       "      <td>0.000000</td>\n",
       "      <td>0.000000</td>\n",
       "      <td>0.000000</td>\n",
       "      <td>0.000000</td>\n",
       "    </tr>\n",
       "  </tbody>\n",
       "</table>\n",
       "</div>"
      ],
      "text/plain": [
       "metric                                                             ADelay  \\\n",
       "base                            comp                                        \n",
       "CombinedBadMouthingPowerControl CombinedBadMouthingPowerControl  0.000000   \n",
       "                                CombinedSelfishTargetSelection   0.020161   \n",
       "                                CombinedTrust                    0.035395   \n",
       "                                Shadow                           0.080057   \n",
       "                                SlowCoach                        0.097476   \n",
       "CombinedSelfishTargetSelection  CombinedBadMouthingPowerControl  0.116416   \n",
       "                                CombinedSelfishTargetSelection   0.000000   \n",
       "                                CombinedTrust                    0.158479   \n",
       "                                Shadow                           0.138115   \n",
       "                                SlowCoach                        0.100588   \n",
       "CombinedTrust                   CombinedBadMouthingPowerControl  0.133488   \n",
       "                                CombinedSelfishTargetSelection   0.127205   \n",
       "                                CombinedTrust                    0.000000   \n",
       "                                Shadow                           0.196735   \n",
       "                                SlowCoach                        0.110873   \n",
       "Shadow                          CombinedBadMouthingPowerControl  0.119572   \n",
       "                                CombinedSelfishTargetSelection   0.171122   \n",
       "                                CombinedTrust                    0.160592   \n",
       "                                Shadow                           0.000000   \n",
       "                                SlowCoach                        0.147611   \n",
       "SlowCoach                       CombinedBadMouthingPowerControl  0.136098   \n",
       "                                CombinedSelfishTargetSelection   0.124831   \n",
       "                                CombinedTrust                    0.115520   \n",
       "                                Shadow                           0.162456   \n",
       "                                SlowCoach                        0.000000   \n",
       "\n",
       "metric                                                               ARXP  \\\n",
       "base                            comp                                        \n",
       "CombinedBadMouthingPowerControl CombinedBadMouthingPowerControl  0.000000   \n",
       "                                CombinedSelfishTargetSelection   0.462614   \n",
       "                                CombinedTrust                    0.320011   \n",
       "                                Shadow                           0.166801   \n",
       "                                SlowCoach                        0.131761   \n",
       "CombinedSelfishTargetSelection  CombinedBadMouthingPowerControl  0.113211   \n",
       "                                CombinedSelfishTargetSelection   0.000000   \n",
       "                                CombinedTrust                    0.152986   \n",
       "                                Shadow                           0.158769   \n",
       "                                SlowCoach                        0.211071   \n",
       "CombinedTrust                   CombinedBadMouthingPowerControl  0.072545   \n",
       "                                CombinedSelfishTargetSelection   0.108912   \n",
       "                                CombinedTrust                    0.000000   \n",
       "                                Shadow                           0.191785   \n",
       "                                SlowCoach                        0.227343   \n",
       "Shadow                          CombinedBadMouthingPowerControl  0.091628   \n",
       "                                CombinedSelfishTargetSelection   0.149324   \n",
       "                                CombinedTrust                    0.222957   \n",
       "                                Shadow                           0.000000   \n",
       "                                SlowCoach                        0.202574   \n",
       "SlowCoach                       CombinedBadMouthingPowerControl  0.077083   \n",
       "                                CombinedSelfishTargetSelection   0.187076   \n",
       "                                CombinedTrust                    0.272646   \n",
       "                                Shadow                           0.159027   \n",
       "                                SlowCoach                        0.000000   \n",
       "\n",
       "metric                                                               ATXP  \\\n",
       "base                            comp                                        \n",
       "CombinedBadMouthingPowerControl CombinedBadMouthingPowerControl  0.000000   \n",
       "                                CombinedSelfishTargetSelection   0.111958   \n",
       "                                CombinedTrust                    0.234195   \n",
       "                                Shadow                           0.418840   \n",
       "                                SlowCoach                        0.547885   \n",
       "CombinedSelfishTargetSelection  CombinedBadMouthingPowerControl  0.378516   \n",
       "                                CombinedSelfishTargetSelection   0.000000   \n",
       "                                CombinedTrust                    0.074044   \n",
       "                                Shadow                           0.103121   \n",
       "                                SlowCoach                        0.077805   \n",
       "CombinedTrust                   CombinedBadMouthingPowerControl  0.511195   \n",
       "                                CombinedSelfishTargetSelection   0.083408   \n",
       "                                CombinedTrust                    0.000000   \n",
       "                                Shadow                           0.143593   \n",
       "                                SlowCoach                        0.099328   \n",
       "Shadow                          CombinedBadMouthingPowerControl  0.515519   \n",
       "                                CombinedSelfishTargetSelection   0.080143   \n",
       "                                CombinedTrust                    0.163148   \n",
       "                                Shadow                           0.000000   \n",
       "                                SlowCoach                        0.081441   \n",
       "SlowCoach                       CombinedBadMouthingPowerControl  0.512387   \n",
       "                                CombinedSelfishTargetSelection   0.069030   \n",
       "                                CombinedTrust                    0.125490   \n",
       "                                Shadow                           0.078399   \n",
       "                                SlowCoach                        0.000000   \n",
       "\n",
       "metric                                                           RXThroughput  \\\n",
       "base                            comp                                            \n",
       "CombinedBadMouthingPowerControl CombinedBadMouthingPowerControl      0.000000   \n",
       "                                CombinedSelfishTargetSelection       0.024394   \n",
       "                                CombinedTrust                        0.025647   \n",
       "                                Shadow                               0.050214   \n",
       "                                SlowCoach                            0.050289   \n",
       "CombinedSelfishTargetSelection  CombinedBadMouthingPowerControl      0.125812   \n",
       "                                CombinedSelfishTargetSelection       0.000000   \n",
       "                                CombinedTrust                        0.147672   \n",
       "                                Shadow                               0.141946   \n",
       "                                SlowCoach                            0.131467   \n",
       "CombinedTrust                   CombinedBadMouthingPowerControl      0.100806   \n",
       "                                CombinedSelfishTargetSelection       0.140017   \n",
       "                                CombinedTrust                        0.000000   \n",
       "                                Shadow                               0.133726   \n",
       "                                SlowCoach                            0.136925   \n",
       "Shadow                          CombinedBadMouthingPowerControl      0.083714   \n",
       "                                CombinedSelfishTargetSelection       0.110627   \n",
       "                                CombinedTrust                        0.139299   \n",
       "                                Shadow                               0.000000   \n",
       "                                SlowCoach                            0.108538   \n",
       "SlowCoach                       CombinedBadMouthingPowerControl      0.077456   \n",
       "                                CombinedSelfishTargetSelection       0.088783   \n",
       "                                CombinedTrust                        0.132481   \n",
       "                                Shadow                               0.122296   \n",
       "                                SlowCoach                            0.000000   \n",
       "\n",
       "metric                                                           TXThroughput  \\\n",
       "base                            comp                                            \n",
       "CombinedBadMouthingPowerControl CombinedBadMouthingPowerControl      0.000000   \n",
       "                                CombinedSelfishTargetSelection       0.261701   \n",
       "                                CombinedTrust                        0.216822   \n",
       "                                Shadow                               0.231161   \n",
       "                                SlowCoach                            0.132756   \n",
       "CombinedSelfishTargetSelection  CombinedBadMouthingPowerControl      0.193315   \n",
       "                                CombinedSelfishTargetSelection       0.000000   \n",
       "                                CombinedTrust                        0.392603   \n",
       "                                Shadow                               0.356218   \n",
       "                                SlowCoach                            0.400658   \n",
       "CombinedTrust                   CombinedBadMouthingPowerControl      0.102731   \n",
       "                                CombinedSelfishTargetSelection       0.458205   \n",
       "                                CombinedTrust                        0.000000   \n",
       "                                Shadow                               0.191335   \n",
       "                                SlowCoach                            0.324613   \n",
       "Shadow                          CombinedBadMouthingPowerControl      0.083977   \n",
       "                                CombinedSelfishTargetSelection       0.406604   \n",
       "                                CombinedTrust                        0.153804   \n",
       "                                Shadow                               0.000000   \n",
       "                                SlowCoach                            0.378227   \n",
       "SlowCoach                       CombinedBadMouthingPowerControl      0.087867   \n",
       "                                CombinedSelfishTargetSelection       0.462293   \n",
       "                                CombinedTrust                        0.226523   \n",
       "                                Shadow                               0.399977   \n",
       "                                SlowCoach                            0.000000   \n",
       "\n",
       "metric                                                                PLR  \n",
       "base                            comp                                       \n",
       "CombinedBadMouthingPowerControl CombinedBadMouthingPowerControl  0.000000  \n",
       "                                CombinedSelfishTargetSelection   0.119171  \n",
       "                                CombinedTrust                    0.167930  \n",
       "                                Shadow                           0.052928  \n",
       "                                SlowCoach                        0.039832  \n",
       "CombinedSelfishTargetSelection  CombinedBadMouthingPowerControl  0.072729  \n",
       "                                CombinedSelfishTargetSelection   0.000000  \n",
       "                                CombinedTrust                    0.074217  \n",
       "                                Shadow                           0.101831  \n",
       "                                SlowCoach                        0.078411  \n",
       "CombinedTrust                   CombinedBadMouthingPowerControl  0.079234  \n",
       "                                CombinedSelfishTargetSelection   0.082253  \n",
       "                                CombinedTrust                    0.000000  \n",
       "                                Shadow                           0.142826  \n",
       "                                SlowCoach                        0.100917  \n",
       "Shadow                          CombinedBadMouthingPowerControl  0.105589  \n",
       "                                CombinedSelfishTargetSelection   0.082180  \n",
       "                                CombinedTrust                    0.160200  \n",
       "                                Shadow                           0.000000  \n",
       "                                SlowCoach                        0.081609  \n",
       "SlowCoach                       CombinedBadMouthingPowerControl  0.109108  \n",
       "                                CombinedSelfishTargetSelection   0.067988  \n",
       "                                CombinedTrust                    0.127340  \n",
       "                                Shadow                           0.077845  \n",
       "                                SlowCoach                        0.000000  "
      ]
     },
     "execution_count": 50,
     "metadata": {},
     "output_type": "execute_result"
    }
   ],
   "source": [
    "pd.concat(comms_only_feats, names=['base','comp','metric']).unstack('metric')[comm_keys]"
   ]
  },
  {
   "cell_type": "markdown",
   "metadata": {},
   "source": [
    "# Feature Values"
   ]
  },
  {
   "cell_type": "code",
   "execution_count": 56,
   "metadata": {
    "collapsed": false
   },
   "outputs": [],
   "source": [
    "\n",
    "feat_detection_weights=non_zero_rows(alt_joined_feats).T\n",
    "#categorise_dataframe(feat_detection_weights).to_hdf('/dev/shm/shared.h5','all_metric_feat_weights')\n"
   ]
  },
  {
   "cell_type": "code",
   "execution_count": null,
   "metadata": {
    "collapsed": false
   },
   "outputs": [],
   "source": [
    "signed_feat_detection_weights = feat_detection_weights*corrs.apply(np.sign).T\n",
    "categorise_dataframe(signed_feat_detection_weights).to_hdf('/dev/shm/shared.h5','signed_all_metric_feat_weights')"
   ]
  },
  {
   "cell_type": "code",
   "execution_count": 53,
   "metadata": {
    "collapsed": false
   },
   "outputs": [
    {
     "data": {
      "text/html": [
       "<div style=\"max-width:1500px;overflow:auto;\">\n",
       "<table border=\"1\" class=\"dataframe\">\n",
       "  <thead>\n",
       "    <tr style=\"text-align: right;\">\n",
       "      <th></th>\n",
       "      <th></th>\n",
       "      <th>var</th>\n",
       "      <th>CombinedBadMouthingPowerControl</th>\n",
       "      <th>CombinedSelfishTargetSelection</th>\n",
       "      <th>CombinedTrust</th>\n",
       "      <th>Shadow</th>\n",
       "      <th>SlowCoach</th>\n",
       "    </tr>\n",
       "    <tr>\n",
       "      <th>INDD</th>\n",
       "      <th>INHD</th>\n",
       "      <th>Speed</th>\n",
       "      <th></th>\n",
       "      <th></th>\n",
       "      <th></th>\n",
       "      <th></th>\n",
       "      <th></th>\n",
       "    </tr>\n",
       "  </thead>\n",
       "  <tbody>\n",
       "    <tr>\n",
       "      <th rowspan=\"5\" valign=\"top\">0</th>\n",
       "      <th rowspan=\"3\" valign=\"top\">0.000000</th>\n",
       "      <th>1.000000</th>\n",
       "      <td>7.445617</td>\n",
       "      <td>11.633371</td>\n",
       "      <td>7.209730</td>\n",
       "      <td>14.679899</td>\n",
       "      <td>33.726047</td>\n",
       "    </tr>\n",
       "    <tr>\n",
       "      <th>1.000000</th>\n",
       "      <td>10.579884</td>\n",
       "      <td>10.184113</td>\n",
       "      <td>7.585360</td>\n",
       "      <td>10.403014</td>\n",
       "      <td>30.162833</td>\n",
       "    </tr>\n",
       "    <tr>\n",
       "      <th>1.000000</th>\n",
       "      <td>6.610557</td>\n",
       "      <td>3.276866</td>\n",
       "      <td>6.279950</td>\n",
       "      <td>9.840056</td>\n",
       "      <td>26.036715</td>\n",
       "    </tr>\n",
       "    <tr>\n",
       "      <th rowspan=\"2\" valign=\"top\">0.333333</th>\n",
       "      <th>0.666667</th>\n",
       "      <td>3.630060</td>\n",
       "      <td>5.339978</td>\n",
       "      <td>3.309338</td>\n",
       "      <td>6.678903</td>\n",
       "      <td>13.593423</td>\n",
       "    </tr>\n",
       "    <tr>\n",
       "      <th>0.666667</th>\n",
       "      <td>5.771306</td>\n",
       "      <td>5.006577</td>\n",
       "      <td>3.420793</td>\n",
       "      <td>5.604625</td>\n",
       "      <td>14.895794</td>\n",
       "    </tr>\n",
       "  </tbody>\n",
       "</table>\n",
       "</div>"
      ],
      "text/plain": [
       "var                     CombinedBadMouthingPowerControl  \\\n",
       "INDD INHD     Speed                                       \n",
       "0    0.000000 1.000000                         7.445617   \n",
       "              1.000000                        10.579884   \n",
       "              1.000000                         6.610557   \n",
       "     0.333333 0.666667                         3.630060   \n",
       "              0.666667                         5.771306   \n",
       "\n",
       "var                     CombinedSelfishTargetSelection  CombinedTrust  \\\n",
       "INDD INHD     Speed                                                     \n",
       "0    0.000000 1.000000                       11.633371       7.209730   \n",
       "              1.000000                       10.184113       7.585360   \n",
       "              1.000000                        3.276866       6.279950   \n",
       "     0.333333 0.666667                        5.339978       3.309338   \n",
       "              0.666667                        5.006577       3.420793   \n",
       "\n",
       "var                        Shadow  SlowCoach  \n",
       "INDD INHD     Speed                           \n",
       "0    0.000000 1.000000  14.679899  33.726047  \n",
       "              1.000000  10.403014  30.162833  \n",
       "              1.000000   9.840056  26.036715  \n",
       "     0.333333 0.666667   6.678903  13.593423  \n",
       "              0.666667   5.604625  14.895794  "
      ]
     },
     "execution_count": 53,
     "metadata": {},
     "output_type": "execute_result"
    }
   ],
   "source": [
    "phys_only_target_weights.head()"
   ]
  },
  {
   "cell_type": "code",
   "execution_count": 52,
   "metadata": {
    "collapsed": false
   },
   "outputs": [
    {
     "data": {
      "text/html": [
       "<div style=\"max-width:1500px;overflow:auto;\">\n",
       "<table border=\"1\" class=\"dataframe\">\n",
       "  <thead>\n",
       "    <tr style=\"text-align: right;\">\n",
       "      <th></th>\n",
       "      <th></th>\n",
       "      <th></th>\n",
       "      <th></th>\n",
       "      <th></th>\n",
       "      <th></th>\n",
       "      <th></th>\n",
       "      <th></th>\n",
       "      <th>var</th>\n",
       "      <th>CombinedBadMouthingPowerControl</th>\n",
       "      <th>CombinedSelfishTargetSelection</th>\n",
       "      <th>CombinedTrust</th>\n",
       "      <th>Shadow</th>\n",
       "      <th>SlowCoach</th>\n",
       "    </tr>\n",
       "    <tr>\n",
       "      <th>ADelay</th>\n",
       "      <th>ARXP</th>\n",
       "      <th>ATXP</th>\n",
       "      <th>RXThroughput</th>\n",
       "      <th>PLR</th>\n",
       "      <th>TXThroughput</th>\n",
       "      <th>INDD</th>\n",
       "      <th>INHD</th>\n",
       "      <th>Speed</th>\n",
       "      <th></th>\n",
       "      <th></th>\n",
       "      <th></th>\n",
       "      <th></th>\n",
       "      <th></th>\n",
       "    </tr>\n",
       "  </thead>\n",
       "  <tbody>\n",
       "    <tr>\n",
       "      <th rowspan=\"5\" valign=\"top\">0</th>\n",
       "      <th rowspan=\"5\" valign=\"top\">0</th>\n",
       "      <th rowspan=\"5\" valign=\"top\">0</th>\n",
       "      <th rowspan=\"5\" valign=\"top\">0</th>\n",
       "      <th rowspan=\"5\" valign=\"top\">0</th>\n",
       "      <th rowspan=\"5\" valign=\"top\">0</th>\n",
       "      <th rowspan=\"5\" valign=\"top\">0</th>\n",
       "      <th rowspan=\"3\" valign=\"top\">0.000000</th>\n",
       "      <th>1.000000</th>\n",
       "      <td>7.445617</td>\n",
       "      <td>11.633371</td>\n",
       "      <td>7.209730</td>\n",
       "      <td>14.679899</td>\n",
       "      <td>33.726047</td>\n",
       "    </tr>\n",
       "    <tr>\n",
       "      <th>1.000000</th>\n",
       "      <td>10.579884</td>\n",
       "      <td>10.184113</td>\n",
       "      <td>7.585360</td>\n",
       "      <td>10.403014</td>\n",
       "      <td>30.162833</td>\n",
       "    </tr>\n",
       "    <tr>\n",
       "      <th>1.000000</th>\n",
       "      <td>6.610557</td>\n",
       "      <td>3.276866</td>\n",
       "      <td>6.279950</td>\n",
       "      <td>9.840056</td>\n",
       "      <td>26.036715</td>\n",
       "    </tr>\n",
       "    <tr>\n",
       "      <th rowspan=\"2\" valign=\"top\">0.333333</th>\n",
       "      <th>0.666667</th>\n",
       "      <td>3.630060</td>\n",
       "      <td>5.339978</td>\n",
       "      <td>3.309338</td>\n",
       "      <td>6.678903</td>\n",
       "      <td>13.593423</td>\n",
       "    </tr>\n",
       "    <tr>\n",
       "      <th>0.666667</th>\n",
       "      <td>5.771306</td>\n",
       "      <td>5.006577</td>\n",
       "      <td>3.420793</td>\n",
       "      <td>5.604625</td>\n",
       "      <td>14.895794</td>\n",
       "    </tr>\n",
       "  </tbody>\n",
       "</table>\n",
       "</div>"
      ],
      "text/plain": [
       "var                                                                    CombinedBadMouthingPowerControl  \\\n",
       "ADelay ARXP ATXP RXThroughput PLR TXThroughput INDD INHD     Speed                                       \n",
       "0      0    0    0            0   0            0    0.000000 1.000000                         7.445617   \n",
       "                                                             1.000000                        10.579884   \n",
       "                                                             1.000000                         6.610557   \n",
       "                                                    0.333333 0.666667                         3.630060   \n",
       "                                                             0.666667                         5.771306   \n",
       "\n",
       "var                                                                    CombinedSelfishTargetSelection  \\\n",
       "ADelay ARXP ATXP RXThroughput PLR TXThroughput INDD INHD     Speed                                      \n",
       "0      0    0    0            0   0            0    0.000000 1.000000                       11.633371   \n",
       "                                                             1.000000                       10.184113   \n",
       "                                                             1.000000                        3.276866   \n",
       "                                                    0.333333 0.666667                        5.339978   \n",
       "                                                             0.666667                        5.006577   \n",
       "\n",
       "var                                                                    CombinedTrust  \\\n",
       "ADelay ARXP ATXP RXThroughput PLR TXThroughput INDD INHD     Speed                     \n",
       "0      0    0    0            0   0            0    0.000000 1.000000       7.209730   \n",
       "                                                             1.000000       7.585360   \n",
       "                                                             1.000000       6.279950   \n",
       "                                                    0.333333 0.666667       3.309338   \n",
       "                                                             0.666667       3.420793   \n",
       "\n",
       "var                                                                       Shadow  \\\n",
       "ADelay ARXP ATXP RXThroughput PLR TXThroughput INDD INHD     Speed                 \n",
       "0      0    0    0            0   0            0    0.000000 1.000000  14.679899   \n",
       "                                                             1.000000  10.403014   \n",
       "                                                             1.000000   9.840056   \n",
       "                                                    0.333333 0.666667   6.678903   \n",
       "                                                             0.666667   5.604625   \n",
       "\n",
       "var                                                                    SlowCoach  \n",
       "ADelay ARXP ATXP RXThroughput PLR TXThroughput INDD INHD     Speed                \n",
       "0      0    0    0            0   0            0    0.000000 1.000000  33.726047  \n",
       "                                                             1.000000  30.162833  \n",
       "                                                             1.000000  26.036715  \n",
       "                                                    0.333333 0.666667  13.593423  \n",
       "                                                             0.666667  14.895794  "
      ]
     },
     "execution_count": 52,
     "metadata": {},
     "output_type": "execute_result"
    }
   ],
   "source": [
    "sorted_joined_target_weights.head()"
   ]
  },
  {
   "cell_type": "code",
   "execution_count": 54,
   "metadata": {
    "collapsed": false
   },
   "outputs": [
    {
     "data": {
      "text/plain": [
       "False"
      ]
     },
     "execution_count": 54,
     "metadata": {},
     "output_type": "execute_result"
    }
   ],
   "source": [
    "[] is None"
   ]
  },
  {
   "cell_type": "code",
   "execution_count": 59,
   "metadata": {
    "collapsed": false
   },
   "outputs": [
    {
     "data": {
      "text/plain": [
       "base       comp     \n",
       "MPC        STS          1\n",
       "           Fair         1\n",
       "           Shadow       1\n",
       "           SlowCoach    1\n",
       "STS        MPC          1\n",
       "           Fair         1\n",
       "           Shadow       1\n",
       "           SlowCoach    1\n",
       "Fair       MPC          1\n",
       "           STS          1\n",
       "           Shadow       1\n",
       "           SlowCoach    1\n",
       "Shadow     MPC          1\n",
       "           STS          1\n",
       "           Fair         1\n",
       "           SlowCoach    1\n",
       "SlowCoach  MPC          1\n",
       "           STS          1\n",
       "           Fair         1\n",
       "           Shadow       1\n",
       "dtype: float64"
      ]
     },
     "execution_count": 59,
     "metadata": {},
     "output_type": "execute_result"
    }
   ],
   "source": [
    "feat_detection_weights.sum()"
   ]
  },
  {
   "cell_type": "code",
   "execution_count": null,
   "metadata": {
    "collapsed": false
   },
   "outputs": [],
   "source": []
  }
 ],
 "metadata": {
  "kernelspec": {
   "display_name": "Python 2",
   "language": "python",
   "name": "python2"
  },
  "language_info": {
   "codemirror_mode": {
    "name": "ipython",
    "version": 2
   },
   "file_extension": ".py",
   "mimetype": "text/x-python",
   "name": "python",
   "nbconvert_exporter": "python",
   "pygments_lexer": "ipython2",
   "version": "2.7.9"
  }
 },
 "nbformat": 4,
 "nbformat_minor": 0
}
