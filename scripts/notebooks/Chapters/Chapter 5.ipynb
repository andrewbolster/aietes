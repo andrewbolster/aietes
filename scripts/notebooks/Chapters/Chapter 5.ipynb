{
 "cells": [
  {
   "cell_type": "markdown",
   "metadata": {},
   "source": [
    "# Simplified Multi-Domain Assessment\n",
    "\n",
    "Intention of this section is to assess the usefulness of *non prioritised* weighting in multi domain assessment. Effectively applying MTMF with individual / subsets of metrics across domains. \n",
    "\n",
    "## 1-Metric Matrix\n",
    "\n",
    "$$\n",
    "H = [H_0, H_1, \\cdots, H_M]^T = \n",
    "\\left[ \n",
    "\\begin{array}{cccc}\n",
    "1 & 0 & \\cdots  & 0 \\\\\n",
    "0 & 1 & \\cdots  & 0 \\\\\n",
    "0 & 0 & \\cdots  & 1\n",
    "\\end{array}\n",
    "\\right]$$\n",
    "\n",
    "$$ \\begin{align}\n",
    "  \\Delta T_{ix} &= \\frac{\\sum_{j\\neq x}\\left( \\overline{T_{i,j}}^{\\forall t}\\right)}{N-1} \\\\\n",
    "  \\Delta T_{ix}^- &= \\frac{\\sum_{j\\neq x} \\Delta T_{ij}}{N-1}\n",
    "\\end{align}\n",
    "$$\n",
    "\n",
    "The Performance ($P$) and False Positive Performance ($P^-$) of the system can then be described as\n",
    "\n",
    "$$ H . \n",
    "\\left[\n",
    "\\begin{array}{c}\n",
    "\\Delta T_{ix}^0 \\\\\n",
    "\\Delta T_{ix}^1 \\\\\n",
    "\\cdots \\\\\n",
    "\\Delta T_{ix}^M\n",
    "\\end{array}\n",
    "\\right] = P$$\n",
    "\n",
    "Results generated using Combined Comparisons Run with `max_emphasis` of 2 and `max_sum` of 1"
   ]
  },
  {
   "cell_type": "code",
   "execution_count": 6,
   "metadata": {
    "collapsed": false
   },
   "outputs": [],
   "source": [
    "import os\n",
    "results_path = \"/home/bolster/src/aietes/results/Malicious Behaviour Trust Control-2016-02-24-14-40-20\"\n",
    "outlier_path = os.path.join(results_path, \"outliers.h5\")"
   ]
  },
  {
   "cell_type": "code",
   "execution_count": 11,
   "metadata": {
    "collapsed": false
   },
   "outputs": [
    {
     "ename": "ImportError",
     "evalue": "No module named pandas",
     "output_type": "error",
     "traceback": [
      "\u001b[0;31m---------------------------------------------------------------------------\u001b[0m",
      "\u001b[0;31mImportError\u001b[0m                               Traceback (most recent call last)",
      "\u001b[0;32m<ipython-input-11-c37b08327519>\u001b[0m in \u001b[0;36m<module>\u001b[0;34m()\u001b[0m\n\u001b[0;32m----> 1\u001b[0;31m \u001b[0;32mimport\u001b[0m \u001b[0mpandas\u001b[0m \u001b[0;32mas\u001b[0m \u001b[0mpd\u001b[0m\u001b[0;34m\u001b[0m\u001b[0m\n\u001b[0m\u001b[1;32m      2\u001b[0m \u001b[0;32mwith\u001b[0m \u001b[0mpd\u001b[0m\u001b[0;34m.\u001b[0m\u001b[0mgetstore\u001b[0m\u001b[0;34m(\u001b[0m\u001b[0;34m)\u001b[0m \u001b[0;32mas\u001b[0m \u001b[0mstore\u001b[0m\u001b[0;34m:\u001b[0m\u001b[0;34m\u001b[0m\u001b[0m\n\u001b[1;32m      3\u001b[0m     \u001b[0;32mprint\u001b[0m \u001b[0mstore\u001b[0m\u001b[0;34m.\u001b[0m\u001b[0mkeys\u001b[0m\u001b[0;34m(\u001b[0m\u001b[0;34m)\u001b[0m\u001b[0;34m\u001b[0m\u001b[0m\n",
      "\u001b[0;31mImportError\u001b[0m: No module named pandas"
     ]
    }
   ],
   "source": [
    "import pandas as pd\n",
    "with pd.getstore() as store:\n",
    "    print store.keys()"
   ]
  },
  {
   "cell_type": "code",
   "execution_count": 13,
   "metadata": {
    "collapsed": false
   },
   "outputs": [
    {
     "data": {
      "text/plain": [
       "['',\n",
       " '/home/bolster/.local/lib/python2.7/site-packages/zodbpickle-0.6.0-py2.7-linux-x86_64.egg',\n",
       " '/home/bolster/src/pyweeknote-generator',\n",
       " '/home/bolster/.local/lib/python2.7/site-packages/slacker-0.8.6-py2.7.egg',\n",
       " '/usr/lib/python2.7/dist-packages',\n",
       " '/usr/lib/python2.7',\n",
       " '/usr/lib/python2.7/plat-x86_64-linux-gnu',\n",
       " '/usr/lib/python2.7/lib-tk',\n",
       " '/usr/lib/python2.7/lib-old',\n",
       " '/usr/lib/python2.7/lib-dynload',\n",
       " '/home/bolster/.local/lib/python2.7/site-packages',\n",
       " '/usr/local/lib/python2.7/dist-packages',\n",
       " '/usr/lib/python2.7/dist-packages/PILcompat',\n",
       " '/usr/lib/python2.7/dist-packages/gtk-2.0',\n",
       " '/usr/lib/pymodules/python2.7',\n",
       " '/usr/lib/python2.7/dist-packages/wx-3.0-gtk2',\n",
       " '/usr/local/lib/python2.7/dist-packages/IPython/extensions',\n",
       " '/home/bolster/.ipython']"
      ]
     },
     "execution_count": 13,
     "metadata": {},
     "output_type": "execute_result"
    }
   ],
   "source": [
    "import sys\n",
    "sys.path"
   ]
  },
  {
   "cell_type": "code",
   "execution_count": null,
   "metadata": {
    "collapsed": true
   },
   "outputs": [],
   "source": []
  }
 ],
 "metadata": {
  "kernelspec": {
   "display_name": "Python 2",
   "language": "python",
   "name": "python2"
  },
  "language_info": {
   "codemirror_mode": {
    "name": "ipython",
    "version": 2
   },
   "file_extension": ".py",
   "mimetype": "text/x-python",
   "name": "python",
   "nbconvert_exporter": "python",
   "pygments_lexer": "ipython2",
   "version": "2.7.9"
  }
 },
 "nbformat": 4,
 "nbformat_minor": 0
}
