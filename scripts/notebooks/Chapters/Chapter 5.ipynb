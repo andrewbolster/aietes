{
 "cells": [
  {
   "cell_type": "markdown",
   "metadata": {},
   "source": [
    "# Simplified Multi-Domain Assessment\n",
    "\n",
    "Intention of this section is to assess the usefulness of *non prioritised* weighting in multi domain assessment. Effectively applying MTMF with individual / subsets of metrics across domains. \n",
    "\n",
    "## 1-Metric Matrix\n",
    "\n",
    "$$\n",
    "H = [H_0, H_1, \\cdots, H_M]^T = \n",
    "\\left[ \n",
    "\\begin{array}{cccc}\n",
    "1 & 0 & \\cdots  & 0 \\\\\n",
    "0 & 1 & \\cdots  & 0 \\\\\n",
    "0 & 0 & \\cdots  & 1\n",
    "\\end{array}\n",
    "\\right]$$\n",
    "\n",
    "$$ \\begin{align}\n",
    "  \\Delta T_{ix} &= \\frac{\\sum_{j\\neq x}\\left( \\overline{T_{i,j}}^{\\forall t}\\right)}{N-1} \\\\\n",
    "  \\Delta T_{ix}^- &= \\frac{\\sum_{j\\neq x} \\Delta T_{ij}}{N-1}\n",
    "\\end{align}\n",
    "$$\n",
    "\n",
    "The Performance ($P$) and False Positive Performance ($P^-$) of the system can then be described as\n",
    "\n",
    "$$ H . \n",
    "\\left[\n",
    "\\begin{array}{c}\n",
    "\\Delta T_{ix}^0 \\\\\n",
    "\\Delta T_{ix}^1 \\\\\n",
    "\\cdots \\\\\n",
    "\\Delta T_{ix}^M\n",
    "\\end{array}\n",
    "\\right] = P$$"
   ]
  },
  {
   "cell_type": "code",
   "execution_count": 42,
   "metadata": {
    "collapsed": false
   },
   "outputs": [
    {
     "data": {
      "text/plain": [
       "[(0, 0, 0, 0, 0, 0, 1),\n",
       " (0, 0, 0, 0, 0, 1, 0),\n",
       " (0, 0, 0, 0, 1, 0, 0),\n",
       " (0, 0, 0, 1, 0, 0, 0),\n",
       " (0, 0, 1, 0, 0, 0, 0),\n",
       " (0, 1, 0, 0, 0, 0, 0),\n",
       " (1, 0, 0, 0, 0, 0, 0)]"
      ]
     },
     "execution_count": 42,
     "metadata": {},
     "output_type": "execute_result"
    }
   ],
   "source": [
    "import itertools\n",
    "min_emphasis = 0\n",
    "min_sum=1\n",
    "max_emphasis = 2\n",
    "max_sum=1\n",
    "M=7\n",
    "if max_sum is None:\n",
    "    max_sum = np.inf\n",
    "combinations = itertools.ifilter(np.any,\n",
    "                      itertools.product(\n",
    "                          xrange(\n",
    "                              min_emphasis, max_emphasis\n",
    "                          ), repeat=M\n",
    "                      )\n",
    "                      )\n",
    "combinations = itertools.ifilter(lambda v: min_sum <= np.sum(v) <= max_sum,\n",
    "                                combinations)\n",
    "combinations = sorted(combinations, key=lambda l: sum(map(abs, l)))\n",
    "combinations"
   ]
  },
  {
   "cell_type": "code",
   "execution_count": 34,
   "metadata": {
    "collapsed": false
   },
   "outputs": [
    {
     "data": {
      "text/plain": [
       "[]"
      ]
     },
     "execution_count": 34,
     "metadata": {},
     "output_type": "execute_result"
    }
   ],
   "source": [
    "combinations"
   ]
  },
  {
   "cell_type": "code",
   "execution_count": 47,
   "metadata": {
    "collapsed": false
   },
   "outputs": [
    {
     "data": {
      "text/plain": [
       "True"
      ]
     },
     "execution_count": 47,
     "metadata": {},
     "output_type": "execute_result"
    }
   ],
   "source": [
    "s = \"ANYTHING\"\n",
    "s.startswith('ANY')"
   ]
  },
  {
   "cell_type": "code",
   "execution_count": 22,
   "metadata": {
    "collapsed": false
   },
   "outputs": [
    {
     "data": {
      "text/plain": [
       "[0, 1]"
      ]
     },
     "execution_count": 22,
     "metadata": {},
     "output_type": "execute_result"
    }
   ],
   "source": [
    "list(xrange(0,2))"
   ]
  },
  {
   "cell_type": "code",
   "execution_count": null,
   "metadata": {
    "collapsed": true
   },
   "outputs": [],
   "source": []
  }
 ],
 "metadata": {
  "kernelspec": {
   "display_name": "Python 2",
   "language": "python",
   "name": "python2"
  },
  "language_info": {
   "codemirror_mode": {
    "name": "ipython",
    "version": 2
   },
   "file_extension": ".py",
   "mimetype": "text/x-python",
   "name": "python",
   "nbconvert_exporter": "python",
   "pygments_lexer": "ipython2",
   "version": "2.7.9"
  }
 },
 "nbformat": 4,
 "nbformat_minor": 0
}
