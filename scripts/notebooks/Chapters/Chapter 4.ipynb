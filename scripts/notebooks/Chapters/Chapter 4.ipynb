{
 "cells": [
  {
   "cell_type": "code",
   "execution_count": 1,
   "metadata": {
    "collapsed": false
   },
   "outputs": [
    {
     "ename": "NameError",
     "evalue": "name 'latexify' is not defined",
     "output_type": "error",
     "traceback": [
      "\u001b[0;31m---------------------------------------------------------------------------\u001b[0m",
      "\u001b[0;31mNameError\u001b[0m                                 Traceback (most recent call last)",
      "\u001b[0;32m<ipython-input-1-ce04550696f7>\u001b[0m in \u001b[0;36m<module>\u001b[0;34m()\u001b[0m\n\u001b[0;32m----> 1\u001b[0;31m \u001b[0mlatexify\u001b[0m\u001b[0;34m(\u001b[0m\u001b[0mcolumns\u001b[0m\u001b[0;34m=\u001b[0m\u001b[0;36m0.5\u001b[0m\u001b[0;34m,\u001b[0m \u001b[0mfactor\u001b[0m\u001b[0;34m=\u001b[0m\u001b[0;36m0.5\u001b[0m\u001b[0;34m)\u001b[0m\u001b[0;34m\u001b[0m\u001b[0m\n\u001b[0m\u001b[1;32m      2\u001b[0m \u001b[0;34m\u001b[0m\u001b[0m\n\u001b[1;32m      3\u001b[0m base_config = aietes.Simulation.populate_config(\n\u001b[1;32m      4\u001b[0m     \u001b[0maietes\u001b[0m\u001b[0;34m.\u001b[0m\u001b[0mTools\u001b[0m\u001b[0;34m.\u001b[0m\u001b[0mget_config\u001b[0m\u001b[0;34m(\u001b[0m\u001b[0;34m'bella_static.conf'\u001b[0m\u001b[0;34m)\u001b[0m\u001b[0;34m,\u001b[0m\u001b[0;34m\u001b[0m\u001b[0m\n\u001b[1;32m      5\u001b[0m     \u001b[0mretain_default\u001b[0m\u001b[0;34m=\u001b[0m\u001b[0mTrue\u001b[0m\u001b[0;34m\u001b[0m\u001b[0m\n",
      "\u001b[0;31mNameError\u001b[0m: name 'latexify' is not defined"
     ]
    }
   ],
   "source": [
    "latexify(columns=0.5, factor=0.5)\n",
    "\n",
    "base_config = aietes.Simulation.populate_config(\n",
    "    aietes.Tools.get_config('bella_static.conf'),\n",
    "    retain_default=True\n",
    ")\n",
    "texify = lambda t: \"${}_{}$\".format(t[0], t[1])\n",
    "node_positions = {texify(k): np.asarray(v['initial_position'], dtype=float) for k, v in\n",
    "                  base_config['Node']['Nodes'].items() if 'initial_position' in v}\n",
    "node_links = {0: [1, 2, 3], 1: [0, 1, 2, 3, 4, 5], 2: [0, 1, 5], 3: [0, 1, 4], 4: [1, 3, 5], 5: [1, 2, 4]}\n",
    "reload(CB)\n",
    "# _=cb.plot_positions(node_positions, bounds=base_config.Environment.shape)\n",
    "fig = plot_nodes(node_positions, figsize=(4, 1.6), node_links=node_links, radius=3, scalefree=True,\n",
    "                 square=False)\n",
    "fig.tight_layout(pad=0.3)\n",
    "fig.savefig(\"img/s1_layout.pdf\", transparent=True)\n",
    "plt.close(fig)\n"
   ]
  },
  {
   "cell_type": "code",
   "execution_count": null,
   "metadata": {
    "collapsed": true
   },
   "outputs": [],
   "source": []
  }
 ],
 "metadata": {
  "kernelspec": {
   "display_name": "Python 2",
   "language": "python",
   "name": "python2"
  },
  "language_info": {
   "codemirror_mode": {
    "name": "ipython",
    "version": 2
   },
   "file_extension": ".py",
   "mimetype": "text/x-python",
   "name": "python",
   "nbconvert_exporter": "python",
   "pygments_lexer": "ipython2",
   "version": "2.7.11"
  }
 },
 "nbformat": 4,
 "nbformat_minor": 0
}
