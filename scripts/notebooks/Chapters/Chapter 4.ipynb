{
 "cells": [
  {
   "cell_type": "code",
   "execution_count": null,
   "metadata": {
    "collapsed": true
   },
   "outputs": [],
   "source": [
    "latexify(columns=0.5, factor=0.5)\n",
    "\n",
    "base_config = aietes.Simulation.populate_config(\n",
    "    aietes.Tools.get_config('bella_static.conf'),\n",
    "    retain_default=True\n",
    ")\n",
    "texify = lambda t: \"${}_{}$\".format(t[0], t[1])\n",
    "node_positions = {texify(k): np.asarray(v['initial_position'], dtype=float) for k, v in\n",
    "                  base_config['Node']['Nodes'].items() if 'initial_position' in v}\n",
    "node_links = {0: [1, 2, 3], 1: [0, 1, 2, 3, 4, 5], 2: [0, 1, 5], 3: [0, 1, 4], 4: [1, 3, 5], 5: [1, 2, 4]}\n",
    "reload(CB)\n",
    "# _=cb.plot_positions(node_positions, bounds=base_config.Environment.shape)\n",
    "fig = plot_nodes(node_positions, figsize=(4, 1.6), node_links=node_links, radius=3, scalefree=True,\n",
    "                 square=False)\n",
    "fig.tight_layout(pad=0.3)\n",
    "fig.savefig(\"img/s1_layout.pdf\", transparent=True)\n",
    "plt.close(fig)\n"
   ]
  }
 ],
 "metadata": {
  "kernelspec": {
   "display_name": "Python 2",
   "language": "python",
   "name": "python2"
  },
  "language_info": {
   "codemirror_mode": {
    "name": "ipython",
    "version": 2
   },
   "file_extension": ".py",
   "mimetype": "text/x-python",
   "name": "python",
   "nbconvert_exporter": "python",
   "pygments_lexer": "ipython2",
   "version": "2.7.9"
  }
 },
 "nbformat": 4,
 "nbformat_minor": 0
}
