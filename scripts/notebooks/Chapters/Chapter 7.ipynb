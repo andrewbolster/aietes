{
 "cells": [
  {
   "cell_type": "markdown",
   "metadata": {},
   "source": [
    "# Relevance Plots\n"
   ]
  },
  {
   "cell_type": "code",
   "execution_count": 12,
   "metadata": {
    "collapsed": false
   },
   "outputs": [
    {
     "data": {
      "image/png": "[encoded data removed]",
      "text/plain": [
       "<matplotlib.figure.Figure at 0x7fbd3f87e5d0>"
      ]
     },
     "metadata": {},
     "output_type": "display_data"
    }
   ],
   "source": [
    "%matplotlib inline\n",
    "import matplotlib.pyplot as plt\n",
    "import matplotlib.cm as mplcm\n",
    "import matplotlib.colors as colors\n",
    "import numpy as np\n",
    "\n",
    "NUM_COLORS = 9\n",
    "\n",
    "cm = plt.get_cmap('gist_rainbow')\n",
    "cNorm  = colors.Normalize(vmin=0, vmax=NUM_COLORS-1)\n",
    "scalarMap = mplcm.ScalarMappable(norm=cNorm, cmap=cm)\n",
    "fig = plt.figure()\n",
    "ax = fig.add_subplot(111)\n",
    "# old way:\n",
    "#ax.set_color_cycle([cm(1.*i/NUM_COLORS) for i in range(NUM_COLORS)])\n",
    "# new way:\n",
    "ax.set_color_cycle([scalarMap.to_rgba(i) for i in range(NUM_COLORS)])\n",
    "for i in range(NUM_COLORS):\n",
    "    #ax.plot(np.arange(10)*(i+1))\n",
    "    pass\n",
    "ax.bar(range(NUM_COLORS), [np.random.randint(10) for _ in range(NUM_COLORS)])\n",
    "plt.show()"
   ]
  },
  {
   "cell_type": "code",
   "execution_count": 17,
   "metadata": {
    "collapsed": false
   },
   "outputs": [],
   "source": [
    "import pandas as pd\n",
    "df = pd.DataFrame([np.random.randint(10) for _ in range(NUM_COLORS)])"
   ]
  },
  {
   "cell_type": "code",
   "execution_count": 21,
   "metadata": {
    "collapsed": false
   },
   "outputs": [
    {
     "data": {
      "text/plain": [
       "<matplotlib.axes._subplots.AxesSubplot at 0x7fbd28df68d0>"
      ]
     },
     "execution_count": 21,
     "metadata": {},
     "output_type": "execute_result"
    },
    {
     "data": {
      "image/png": "[encoded data removed]",
      "text/plain": [
       "<matplotlib.figure.Figure at 0x7fbd28b56490>"
      ]
     },
     "metadata": {},
     "output_type": "display_data"
    }
   ],
   "source": [
    "df.plot(kind='bar', colors=[scalarMap.to_rgba(i) for i in range(NUM_COLORS)])"
   ]
  },
  {
   "cell_type": "code",
   "execution_count": 22,
   "metadata": {
    "collapsed": false
   },
   "outputs": [
    {
     "data": {
      "text/plain": [
       "[(1.0, 0.0, 0.16, 1.0),\n",
       " (1.0, 0.51616322204557508, 0.0, 1.0),\n",
       " (0.80551139374668779, 1.0, 0.0, 1.0),\n",
       " (0.12718600953895065, 1.0, 0.0, 1.0),\n",
       " (0.0, 1.0, 0.54817625975121254, 1.0),\n",
       " (0.0, 0.77472293265132097, 1.0, 1.0),\n",
       " (0.0, 0.092710997442455145, 1.0, 1.0),\n",
       " (0.58930093776641124, 0.0, 1.0, 1.0),\n",
       " (1.0, 0.0, 0.75, 1.0)]"
      ]
     },
     "execution_count": 22,
     "metadata": {},
     "output_type": "execute_result"
    }
   ],
   "source": [
    "[scalarMap.to_rgba(i) for i in range(NUM_COLORS)]"
   ]
  },
  {
   "cell_type": "code",
   "execution_count": 23,
   "metadata": {
    "collapsed": true
   },
   "outputs": [],
   "source": [
    "metric_colour_map = [\n",
    "    \"$Delay$\",\n",
    "    \"$P_{RX}$\",\n",
    "    \"$P_{TX}$\",\n",
    "    \"$T^P_{RX}$\",\n",
    "    \"$T^P_{TX}$\",\n",
    "    \"$PLR$\",\n",
    "    \"$INDD$\",\n",
    "    \"$INHD$\",\n",
    "    \"$Speed$\"\n",
    "]"
   ]
  },
  {
   "cell_type": "code",
   "execution_count": 26,
   "metadata": {
    "collapsed": false
   },
   "outputs": [
    {
     "data": {
      "text/plain": [
       "{'$Delay$': (1.0, 0.0, 0.16, 1.0),\n",
       " '$INDD$': (0.0, 0.092710997442455145, 1.0, 1.0),\n",
       " '$INHD$': (0.58930093776641124, 0.0, 1.0, 1.0),\n",
       " '$PLR$': (0.0, 0.77472293265132097, 1.0, 1.0),\n",
       " '$P_{RX}$': (1.0, 0.51616322204557508, 0.0, 1.0),\n",
       " '$P_{TX}$': (0.80551139374668779, 1.0, 0.0, 1.0),\n",
       " '$Speed$': (1.0, 0.0, 0.75, 1.0),\n",
       " '$T^P_{RX}$': (0.12718600953895065, 1.0, 0.0, 1.0),\n",
       " '$T^P_{TX}$': (0.0, 1.0, 0.54817625975121254, 1.0)}"
      ]
     },
     "execution_count": 26,
     "metadata": {},
     "output_type": "execute_result"
    }
   ],
   "source": [
    "dict(zip(metric_colour_map,[scalarMap.to_rgba(i) for i in range(len(metric_colour_map))]))"
   ]
  },
  {
   "cell_type": "code",
   "execution_count": null,
   "metadata": {
    "collapsed": true
   },
   "outputs": [],
   "source": []
  }
 ],
 "metadata": {
  "kernelspec": {
   "display_name": "Python 2",
   "language": "python",
   "name": "python2"
  },
  "language_info": {
   "codemirror_mode": {
    "name": "ipython",
    "version": 2
   },
   "file_extension": ".py",
   "mimetype": "text/x-python",
   "name": "python",
   "nbconvert_exporter": "python",
   "pygments_lexer": "ipython2",
   "version": "2.7.11"
  }
 },
 "nbformat": 4,
 "nbformat_minor": 0
}
