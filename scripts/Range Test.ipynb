{
 "metadata": {
  "name": "Range Test"
 },
 "nbformat": 3,
 "nbformat_minor": 0,
 "worksheets": [
  {
   "cells": [
    {
     "cell_type": "code",
     "collapsed": false,
     "input": [
      "__author__ = 'andrewbolster'\n",
      "import numpy\n",
      "\n",
      "from polybos import ExperimentManager as EXP\n",
      "\n",
      "\n",
      "def set_exp():\n",
      "    exp = EXP(node_count=8,\n",
      "              title=\"Clumping Test\")\n",
      "    exp.addVariableRangeScenario(\"clumping\", numpy.linspace(0.0, 1.0, 20))\n",
      "    return exp\n",
      "\n",
      "\n",
      "def run_exp(exp):\n",
      "    exp.run(title=\"8-clumping-10\",\n",
      "            runcount=5,\n",
      "            threaded=False)\n",
      "\n",
      "    return exp\n",
      "\n",
      "\n",
      "def run_suite(exp):\n",
      "    for s in exp.scenarios:\n",
      "        stats = s.generateRunStats()\n",
      "        print s.title\n",
      "        print(\"\\t%.3fm (%.4f)\\t%.2f, %.2f \\t%d (%.0f%%)\" % (\n",
      "            avg_of_dict(stats, ['motion', 'fleet_distance']), avg_of_dict(stats, ['motion', 'fleet_efficiency']),\n",
      "            avg_of_dict(stats, ['motion', 'std_of_INDA']), avg_of_dict(stats, ['motion', 'std_of_INDD']),\n",
      "            avg_of_dict(stats, ['achievements', 'max_ach']), avg_of_dict(['achievements', 'avg_completion']) * 100.0\n",
      "        )\n",
      "        )\n",
      "\n",
      "        for r in stats:\n",
      "            print(\"\\t%.3fm (%.4f)\\t%.2f, %.2f \\t%d (%.0f%%)\" % (\n",
      "                r['motion']['fleet_distance'], r['motion']['fleet_efficiency'],\n",
      "                r['motion']['std_of_INDA'], r['motion']['std_of_INDD'],\n",
      "                r['achievements']['max_ach'], r['achievements']['avg_completion'] * 100.0\n",
      "            )\n",
      "            )\n",
      "\n",
      "\n",
      "def avg_of_dict(dict_list, keys):\n",
      "    sum = 0\n",
      "    count = 0\n",
      "    for d in dict_list:\n",
      "        count += 1\n",
      "        for key in keys[:-1]:\n",
      "            d = d.get(key)\n",
      "        sum += d[keys[-1]]\n",
      "    return float(sum) / count"
     ],
     "language": "python",
     "metadata": {},
     "outputs": [
      {
       "output_type": "stream",
       "stream": "stdout",
       "text": [
        "Warning: argument must be an int, or have a fileno() method.\n"
       ]
      }
     ],
     "prompt_number": 1
    },
    {
     "cell_type": "code",
     "collapsed": false,
     "input": [],
     "language": "python",
     "metadata": {},
     "outputs": []
    }
   ],
   "metadata": {}
  }
 ]
}