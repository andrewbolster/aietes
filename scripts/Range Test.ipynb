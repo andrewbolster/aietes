{
 "metadata": {
  "name": "Range Test"
 },
 "nbformat": 3,
 "nbformat_minor": 0,
 "worksheets": [
  {
   "cells": [
    {
     "cell_type": "code",
     "collapsed": false,
     "input": [
      "__author__ = 'andrewbolster'\n",
      "import numpy\n",
      "\n",
      "from polybos import ExperimentManager as EXP\n",
      "\n",
      "\n",
      "def set_exp():\n",
      "    exp = EXP(node_count=8,\n",
      "              title=\"Clumping Test\")\n",
      "    exp.addVariableRangeScenario(\"clumping\", numpy.linspace(0.0, 1.0, 20))\n",
      "    return exp\n",
      "\n",
      "\n",
      "def run_exp(exp):\n",
      "    exp.run(title=\"8-clumping-10\",\n",
      "            runcount=5,\n",
      "            threaded=False)\n",
      "\n",
      "    return exp\n",
      "\n",
      "\n",
      "def run_suite(exp):\n",
      "    for s in exp.scenarios:\n",
      "        stats = s.generateRunStats()\n",
      "        print s.title\n",
      "        print(\"\\t%.3fm (%.4f)\\t%.2f, %.2f \\t%d (%.0f%%)\" % (\n",
      "            avg_of_dict(stats, ['motion', 'fleet_distance']), avg_of_dict(stats, ['motion', 'fleet_efficiency']),\n",
      "            avg_of_dict(stats, ['motion', 'std_of_INDA']), avg_of_dict(stats, ['motion', 'std_of_INDD']),\n",
      "            avg_of_dict(stats, ['achievements', 'max_ach']), avg_of_dict(['achievements', 'avg_completion']) * 100.0\n",
      "        )\n",
      "        )\n",
      "\n",
      "        for r in stats:\n",
      "            print(\"\\t%.3fm (%.4f)\\t%.2f, %.2f \\t%d (%.0f%%)\" % (\n",
      "                r['motion']['fleet_distance'], r['motion']['fleet_efficiency'],\n",
      "                r['motion']['std_of_INDA'], r['motion']['std_of_INDD'],\n",
      "                r['achievements']['max_ach'], r['achievements']['avg_completion'] * 100.0\n",
      "            )\n",
      "            )\n",
      "\n",
      "\n",
      "def avg_of_dict(dict_list, keys):\n",
      "    sum = 0\n",
      "    count = 0\n",
      "    for d in dict_list:\n",
      "        count += 1\n",
      "        for key in keys[:-1]:\n",
      "            d = d.get(key)\n",
      "        sum += d[keys[-1]]\n",
      "    return float(sum) / count"
     ],
     "language": "python",
     "metadata": {},
     "outputs": [
      {
       "output_type": "stream",
       "stream": "stdout",
       "text": [
        "Warning: argument must be an int, or have a fileno() method.\n"
       ]
      }
     ],
     "prompt_number": 1
    },
    {
     "cell_type": "code",
     "collapsed": false,
     "input": [
      "e = run_exp(set_exp())"
     ],
     "language": "python",
     "metadata": {},
     "outputs": [
      {
       "output_type": "stream",
       "stream": "stdout",
       "text": [
        "Updating nodecount from 2 to 8\n",
        "Scenario Committed with 8 nodes configured and 0 defined"
       ]
      },
      {
       "output_type": "stream",
       "stream": "stdout",
       "text": [
        "\n",
        "[clumping(0.000000)]:0,"
       ]
      },
      {
       "output_type": "stream",
       "stream": "stderr",
       "text": [
        "DEBUG:aietes.Environment:creating instance\n"
       ]
      },
      {
       "output_type": "stream",
       "stream": "stderr",
       "text": [
        "DEBUG:aietes:Generating node Golf with config {'max_turn': [4.5, 4.5, 4.5], 'mac': 'ALOHA', 'position_generation': 'center', 'memory_model': 'global', 'app': 'Null', 'phy': 'PHY', 'Behaviour': {'nearest_neighbours': 4, 'protocol': 'Waypoint', 'waypoint_factor': [0.01], 'neighbourhood_max_rad': 100, 'waypoint_style': 'patrolCube', 'update_rate': 0.3, 'positional_accuracy': [5.0], 'schooling_factor': [0.01], 'repulsive_factor': [0.125], 'collision_avoidance_d': [50.0], 'clumping_factor': 0.0, 'neighbourhood_min_rad': 10}, 'Application': {'packet_count': 0, 'distribution': [1], 'protocol': ['Null'], 'packet_rate': 1.0}, 'MAC': {'ack_packet_length': 24, 'protocol': 'ALOHA'}, 'max_speed': [2.3], 'PHY': {'receive_power': -3.0, 'max_transmit_power': 250.0, 'listen_power': -30.0, 'variable_bandwidth': False, 'var_power': {}, 'bandwidth': 1.0, 'frequency': 20.0, 'transmit_power': 250.0, 'threshold': {'SIR': 15.0, 'SNR': 20.0, 'LIS': 3.0}, 'bandwidth_to_bit_ratio': 1.0}, 'net': 'RoutingTable', 'bev': 'Null', 'cruising_speed': [1.4], 'Network': {'protocol': 'RoutingTable'}}\n"
       ]
      },
      {
       "output_type": "stream",
       "stream": "stderr",
       "text": [
        "DEBUG:aietes:Gave node Golf a center vector: (516, 507, 445)\n"
       ]
      },
      {
       "output_type": "stream",
       "stream": "stderr",
       "text": [
        "DEBUG:aietes.aietes.Node.App:Null:creating instance\n"
       ]
      },
      {
       "output_type": "stream",
       "stream": "stderr",
       "text": [
        "DEBUG:aietes.aietes.Node.App:Null:Taking Packet_Rate from config: 1.0\n"
       ]
      },
      {
       "output_type": "stream",
       "stream": "stderr",
       "text": [
        "DEBUG:aietes.aietes.Node.Bev:Waypoint:creating instance\n"
       ]
      },
      {
       "output_type": "stream",
       "stream": "stderr",
       "text": [
        "DEBUG:aietes.aietes.Node.Bev:Waypoint:Generating waypoints: patrolCube\n"
       ]
      },
      {
       "output_type": "stream",
       "stream": "stderr",
       "text": [
        "DEBUG:aietes.Behaviour:Waypoint: [ 333.333  333.333  333.333],50\n"
       ]
      },
      {
       "output_type": "stream",
       "stream": "stderr",
       "text": [
        "DEBUG:aietes.Behaviour:Waypoint: [ 666.667  333.333  333.333],50\n"
       ]
      },
      {
       "output_type": "stream",
       "stream": "stderr",
       "text": [
        "DEBUG:aietes.Behaviour:Waypoint: [ 666.667  666.667  333.333],50\n"
       ]
      },
      {
       "output_type": "stream",
       "stream": "stderr",
       "text": [
        "DEBUG:aietes.Behaviour:Waypoint: [ 333.333  666.667  333.333],50\n"
       ]
      },
      {
       "output_type": "stream",
       "stream": "stderr",
       "text": [
        "DEBUG:aietes.Behaviour:Waypoint: [ 333.333  333.333  666.667],50\n"
       ]
      },
      {
       "output_type": "stream",
       "stream": "stderr",
       "text": [
        "DEBUG:aietes.Behaviour:Waypoint: [ 666.667  333.333  666.667],50\n"
       ]
      },
      {
       "output_type": "stream",
       "stream": "stderr",
       "text": [
        "DEBUG:aietes.Behaviour:Waypoint: [ 666.667  666.667  666.667],50\n"
       ]
      },
      {
       "output_type": "stream",
       "stream": "stderr",
       "text": [
        "DEBUG:aietes.Behaviour:Waypoint: [ 333.333  666.667  666.667],50\n"
       ]
      },
      {
       "output_type": "stream",
       "stream": "stderr",
       "text": [
        "DEBUG:aietes.Behaviour:End of Position List\n"
       ]
      },
      {
       "output_type": "stream",
       "stream": "stderr",
       "text": [
        "DEBUG:aietes.aietes.Node:instance created\n"
       ]
      },
      {
       "output_type": "stream",
       "stream": "stderr",
       "text": [
        "DEBUG:aietes:Generating node Zulu with config {'max_turn': [4.5, 4.5, 4.5], 'mac': 'ALOHA', 'position_generation': 'center', 'memory_model': 'global', 'app': 'Null', 'phy': 'PHY', 'Behaviour': {'nearest_neighbours': 4, 'protocol': 'Waypoint', 'waypoint_factor': [0.01], 'neighbourhood_max_rad': 100, 'waypoint_style': 'patrolCube', 'update_rate': 0.3, 'positional_accuracy': [5.0], 'schooling_factor': [0.01], 'repulsive_factor': [0.125], 'collision_avoidance_d': [50.0], 'clumping_factor': 0.0, 'neighbourhood_min_rad': 10}, 'Application': {'packet_count': 0, 'distribution': [1], 'protocol': ['Null'], 'packet_rate': 1.0}, 'MAC': {'ack_packet_length': 24, 'protocol': 'ALOHA'}, 'max_speed': [2.3], 'PHY': {'receive_power': -3.0, 'max_transmit_power': 250.0, 'listen_power': -30.0, 'variable_bandwidth': False, 'var_power': {}, 'bandwidth': 1.0, 'frequency': 20.0, 'transmit_power': 250.0, 'threshold': {'SIR': 15.0, 'SNR': 20.0, 'LIS': 3.0}, 'bandwidth_to_bit_ratio': 1.0}, 'net': 'RoutingTable', 'bev': 'Null', 'cruising_speed': [1.4], 'Network': {'protocol': 'RoutingTable'}}\n"
       ]
      },
      {
       "output_type": "stream",
       "stream": "stderr",
       "text": [
        "DEBUG:aietes:Gave node Zulu a center vector: (483, 476, 502)\n"
       ]
      },
      {
       "output_type": "stream",
       "stream": "stderr",
       "text": [
        "DEBUG:aietes.aietes.Node.App:Null:creating instance\n"
       ]
      },
      {
       "output_type": "stream",
       "stream": "stderr",
       "text": [
        "DEBUG:aietes.aietes.Node.App:Null:Taking Packet_Rate from config: 1.0\n"
       ]
      },
      {
       "output_type": "stream",
       "stream": "stderr",
       "text": [
        "DEBUG:aietes.aietes.Node.Bev:Waypoint:creating instance\n"
       ]
      },
      {
       "output_type": "stream",
       "stream": "stderr",
       "text": [
        "DEBUG:aietes.aietes.Node.Bev:Waypoint:Generating waypoints: patrolCube\n"
       ]
      },
      {
       "output_type": "stream",
       "stream": "stderr",
       "text": [
        "DEBUG:aietes.Behaviour:Waypoint: [ 333.333  333.333  333.333],50\n"
       ]
      },
      {
       "output_type": "stream",
       "stream": "stderr",
       "text": [
        "DEBUG:aietes.Behaviour:Waypoint: [ 666.667  333.333  333.333],50\n"
       ]
      },
      {
       "output_type": "stream",
       "stream": "stderr",
       "text": [
        "DEBUG:aietes.Behaviour:Waypoint: [ 666.667  666.667  333.333],50\n"
       ]
      },
      {
       "output_type": "stream",
       "stream": "stderr",
       "text": [
        "DEBUG:aietes.Behaviour:Waypoint: [ 333.333  666.667  333.333],50\n"
       ]
      },
      {
       "output_type": "stream",
       "stream": "stderr",
       "text": [
        "DEBUG:aietes.Behaviour:Waypoint: [ 333.333  333.333  666.667],50\n"
       ]
      },
      {
       "output_type": "stream",
       "stream": "stderr",
       "text": [
        "DEBUG:aietes.Behaviour:Waypoint: [ 666.667  333.333  666.667],50\n"
       ]
      },
      {
       "output_type": "stream",
       "stream": "stderr",
       "text": [
        "DEBUG:aietes.Behaviour:Waypoint: [ 666.667  666.667  666.667],50\n"
       ]
      },
      {
       "output_type": "stream",
       "stream": "stderr",
       "text": [
        "DEBUG:aietes.Behaviour:Waypoint: [ 333.333  666.667  666.667],50\n"
       ]
      },
      {
       "output_type": "stream",
       "stream": "stderr",
       "text": [
        "DEBUG:aietes.Behaviour:End of Position List\n"
       ]
      },
      {
       "output_type": "stream",
       "stream": "stderr",
       "text": [
        "DEBUG:aietes.aietes.Node:instance created\n"
       ]
      },
      {
       "output_type": "stream",
       "stream": "stderr",
       "text": [
        "DEBUG:aietes:Generating node Bravo with config {'max_turn': [4.5, 4.5, 4.5], 'mac': 'ALOHA', 'position_generation': 'center', 'memory_model': 'global', 'app': 'Null', 'phy': 'PHY', 'Behaviour': {'nearest_neighbours': 4, 'protocol': 'Waypoint', 'waypoint_factor': [0.01], 'neighbourhood_max_rad': 100, 'waypoint_style': 'patrolCube', 'update_rate': 0.3, 'positional_accuracy': [5.0], 'schooling_factor': [0.01], 'repulsive_factor': [0.125], 'collision_avoidance_d': [50.0], 'clumping_factor': 0.0, 'neighbourhood_min_rad': 10}, 'Application': {'packet_count': 0, 'distribution': [1], 'protocol': ['Null'], 'packet_rate': 1.0}, 'MAC': {'ack_packet_length': 24, 'protocol': 'ALOHA'}, 'max_speed': [2.3], 'PHY': {'receive_power': -3.0, 'max_transmit_power': 250.0, 'listen_power': -30.0, 'variable_bandwidth': False, 'var_power': {}, 'bandwidth': 1.0, 'frequency': 20.0, 'transmit_power': 250.0, 'threshold': {'SIR': 15.0, 'SNR': 20.0, 'LIS': 3.0}, 'bandwidth_to_bit_ratio': 1.0}, 'net': 'RoutingTable', 'bev': 'Null', 'cruising_speed': [1.4], 'Network': {'protocol': 'RoutingTable'}}\n"
       ]
      },
      {
       "output_type": "stream",
       "stream": "stderr",
       "text": [
        "DEBUG:aietes:Gave node Bravo a center vector: (566, 513, 518)\n"
       ]
      },
      {
       "output_type": "stream",
       "stream": "stderr",
       "text": [
        "DEBUG:aietes.aietes.Node.App:Null:creating instance\n"
       ]
      },
      {
       "output_type": "stream",
       "stream": "stderr",
       "text": [
        "DEBUG:aietes.aietes.Node.App:Null:Taking Packet_Rate from config: 1.0\n"
       ]
      },
      {
       "output_type": "stream",
       "stream": "stderr",
       "text": [
        "DEBUG:aietes.aietes.Node.Bev:Waypoint:creating instance\n"
       ]
      },
      {
       "output_type": "stream",
       "stream": "stderr",
       "text": [
        "DEBUG:aietes.aietes.Node.Bev:Waypoint:Generating waypoints: patrolCube\n"
       ]
      },
      {
       "output_type": "stream",
       "stream": "stderr",
       "text": [
        "DEBUG:aietes.Behaviour:Waypoint: [ 333.333  333.333  333.333],50\n"
       ]
      },
      {
       "output_type": "stream",
       "stream": "stderr",
       "text": [
        "DEBUG:aietes.Behaviour:Waypoint: [ 666.667  333.333  333.333],50\n"
       ]
      },
      {
       "output_type": "stream",
       "stream": "stderr",
       "text": [
        "DEBUG:aietes.Behaviour:Waypoint: [ 666.667  666.667  333.333],50\n"
       ]
      },
      {
       "output_type": "stream",
       "stream": "stderr",
       "text": [
        "DEBUG:aietes.Behaviour:Waypoint: [ 333.333  666.667  333.333],50\n"
       ]
      },
      {
       "output_type": "stream",
       "stream": "stderr",
       "text": [
        "DEBUG:aietes.Behaviour:Waypoint: [ 333.333  333.333  666.667],50\n"
       ]
      },
      {
       "output_type": "stream",
       "stream": "stderr",
       "text": [
        "DEBUG:aietes.Behaviour:Waypoint: [ 666.667  333.333  666.667],50\n"
       ]
      },
      {
       "output_type": "stream",
       "stream": "stderr",
       "text": [
        "DEBUG:aietes.Behaviour:Waypoint: [ 666.667  666.667  666.667],50\n"
       ]
      },
      {
       "output_type": "stream",
       "stream": "stderr",
       "text": [
        "DEBUG:aietes.Behaviour:Waypoint: [ 333.333  666.667  666.667],50\n"
       ]
      },
      {
       "output_type": "stream",
       "stream": "stderr",
       "text": [
        "DEBUG:aietes.Behaviour:End of Position List\n"
       ]
      },
      {
       "output_type": "stream",
       "stream": "stderr",
       "text": [
        "DEBUG:aietes.aietes.Node:instance created\n"
       ]
      },
      {
       "output_type": "stream",
       "stream": "stderr",
       "text": [
        "DEBUG:aietes:Generating node Papa with config {'max_turn': [4.5, 4.5, 4.5], 'mac': 'ALOHA', 'position_generation': 'center', 'memory_model': 'global', 'app': 'Null', 'phy': 'PHY', 'Behaviour': {'nearest_neighbours': 4, 'protocol': 'Waypoint', 'waypoint_factor': [0.01], 'neighbourhood_max_rad': 100, 'waypoint_style': 'patrolCube', 'update_rate': 0.3, 'positional_accuracy': [5.0], 'schooling_factor': [0.01], 'repulsive_factor': [0.125], 'collision_avoidance_d': [50.0], 'clumping_factor': 0.0, 'neighbourhood_min_rad': 10}, 'Application': {'packet_count': 0, 'distribution': [1], 'protocol': ['Null'], 'packet_rate': 1.0}, 'MAC': {'ack_packet_length': 24, 'protocol': 'ALOHA'}, 'max_speed': [2.3], 'PHY': {'receive_power': -3.0, 'max_transmit_power': 250.0, 'listen_power': -30.0, 'variable_bandwidth': False, 'var_power': {}, 'bandwidth': 1.0, 'frequency': 20.0, 'transmit_power': 250.0, 'threshold': {'SIR': 15.0, 'SNR': 20.0, 'LIS': 3.0}, 'bandwidth_to_bit_ratio': 1.0}, 'net': 'RoutingTable', 'bev': 'Null', 'cruising_speed': [1.4], 'Network': {'protocol': 'RoutingTable'}}\n"
       ]
      },
      {
       "output_type": "stream",
       "stream": "stderr",
       "text": [
        "DEBUG:aietes:Gave node Papa a center vector: (506, 543, 471)\n"
       ]
      },
      {
       "output_type": "stream",
       "stream": "stderr",
       "text": [
        "DEBUG:aietes.aietes.Node.App:Null:creating instance\n"
       ]
      },
      {
       "output_type": "stream",
       "stream": "stderr",
       "text": [
        "DEBUG:aietes.aietes.Node.App:Null:Taking Packet_Rate from config: 1.0\n"
       ]
      },
      {
       "output_type": "stream",
       "stream": "stderr",
       "text": [
        "DEBUG:aietes.aietes.Node.Bev:Waypoint:creating instance\n"
       ]
      },
      {
       "output_type": "stream",
       "stream": "stderr",
       "text": [
        "DEBUG:aietes.aietes.Node.Bev:Waypoint:Generating waypoints: patrolCube\n"
       ]
      },
      {
       "output_type": "stream",
       "stream": "stderr",
       "text": [
        "DEBUG:aietes.Behaviour:Waypoint: [ 333.333  333.333  333.333],50\n"
       ]
      },
      {
       "output_type": "stream",
       "stream": "stderr",
       "text": [
        "DEBUG:aietes.Behaviour:Waypoint: [ 666.667  333.333  333.333],50\n"
       ]
      },
      {
       "output_type": "stream",
       "stream": "stderr",
       "text": [
        "DEBUG:aietes.Behaviour:Waypoint: [ 666.667  666.667  333.333],50\n"
       ]
      },
      {
       "output_type": "stream",
       "stream": "stderr",
       "text": [
        "DEBUG:aietes.Behaviour:Waypoint: [ 333.333  666.667  333.333],50\n"
       ]
      },
      {
       "output_type": "stream",
       "stream": "stderr",
       "text": [
        "DEBUG:aietes.Behaviour:Waypoint: [ 333.333  333.333  666.667],50\n"
       ]
      },
      {
       "output_type": "stream",
       "stream": "stderr",
       "text": [
        "DEBUG:aietes.Behaviour:Waypoint: [ 666.667  333.333  666.667],50\n"
       ]
      },
      {
       "output_type": "stream",
       "stream": "stderr",
       "text": [
        "DEBUG:aietes.Behaviour:Waypoint: [ 666.667  666.667  666.667],50\n"
       ]
      },
      {
       "output_type": "stream",
       "stream": "stderr",
       "text": [
        "DEBUG:aietes.Behaviour:Waypoint: [ 333.333  666.667  666.667],50\n"
       ]
      },
      {
       "output_type": "stream",
       "stream": "stderr",
       "text": [
        "DEBUG:aietes.Behaviour:End of Position List\n"
       ]
      },
      {
       "output_type": "stream",
       "stream": "stderr",
       "text": [
        "DEBUG:aietes.aietes.Node:instance created\n"
       ]
      },
      {
       "output_type": "stream",
       "stream": "stderr",
       "text": [
        "DEBUG:aietes:Generating node Oscar with config {'max_turn': [4.5, 4.5, 4.5], 'mac': 'ALOHA', 'position_generation': 'center', 'memory_model': 'global', 'app': 'Null', 'phy': 'PHY', 'Behaviour': {'nearest_neighbours': 4, 'protocol': 'Waypoint', 'waypoint_factor': [0.01], 'neighbourhood_max_rad': 100, 'waypoint_style': 'patrolCube', 'update_rate': 0.3, 'positional_accuracy': [5.0], 'schooling_factor': [0.01], 'repulsive_factor': [0.125], 'collision_avoidance_d': [50.0], 'clumping_factor': 0.0, 'neighbourhood_min_rad': 10}, 'Application': {'packet_count': 0, 'distribution': [1], 'protocol': ['Null'], 'packet_rate': 1.0}, 'MAC': {'ack_packet_length': 24, 'protocol': 'ALOHA'}, 'max_speed': [2.3], 'PHY': {'receive_power': -3.0, 'max_transmit_power': 250.0, 'listen_power': -30.0, 'variable_bandwidth': False, 'var_power': {}, 'bandwidth': 1.0, 'frequency': 20.0, 'transmit_power': 250.0, 'threshold': {'SIR': 15.0, 'SNR': 20.0, 'LIS': 3.0}, 'bandwidth_to_bit_ratio': 1.0}, 'net': 'RoutingTable', 'bev': 'Null', 'cruising_speed': [1.4], 'Network': {'protocol': 'RoutingTable'}}\n"
       ]
      },
      {
       "output_type": "stream",
       "stream": "stderr",
       "text": [
        "DEBUG:aietes:Gave node Oscar a center vector: (505, 482, 492)\n"
       ]
      },
      {
       "output_type": "stream",
       "stream": "stderr",
       "text": [
        "DEBUG:aietes.aietes.Node.App:Null:creating instance\n"
       ]
      },
      {
       "output_type": "stream",
       "stream": "stderr",
       "text": [
        "DEBUG:aietes.aietes.Node.App:Null:Taking Packet_Rate from config: 1.0\n"
       ]
      },
      {
       "output_type": "stream",
       "stream": "stderr",
       "text": [
        "DEBUG:aietes.aietes.Node.Bev:Waypoint:creating instance\n"
       ]
      },
      {
       "output_type": "stream",
       "stream": "stderr",
       "text": [
        "DEBUG:aietes.aietes.Node.Bev:Waypoint:Generating waypoints: patrolCube\n"
       ]
      },
      {
       "output_type": "stream",
       "stream": "stderr",
       "text": [
        "DEBUG:aietes.Behaviour:Waypoint: [ 333.333  333.333  333.333],50\n"
       ]
      },
      {
       "output_type": "stream",
       "stream": "stderr",
       "text": [
        "DEBUG:aietes.Behaviour:Waypoint: [ 666.667  333.333  333.333],50\n"
       ]
      },
      {
       "output_type": "stream",
       "stream": "stderr",
       "text": [
        "DEBUG:aietes.Behaviour:Waypoint: [ 666.667  666.667  333.333],50\n"
       ]
      },
      {
       "output_type": "stream",
       "stream": "stderr",
       "text": [
        "DEBUG:aietes.Behaviour:Waypoint: [ 333.333  666.667  333.333],50\n"
       ]
      },
      {
       "output_type": "stream",
       "stream": "stderr",
       "text": [
        "DEBUG:aietes.Behaviour:Waypoint: [ 333.333  333.333  666.667],50\n"
       ]
      },
      {
       "output_type": "stream",
       "stream": "stderr",
       "text": [
        "DEBUG:aietes.Behaviour:Waypoint: [ 666.667  333.333  666.667],50\n"
       ]
      },
      {
       "output_type": "stream",
       "stream": "stderr",
       "text": [
        "DEBUG:aietes.Behaviour:Waypoint: [ 666.667  666.667  666.667],50\n"
       ]
      },
      {
       "output_type": "stream",
       "stream": "stderr",
       "text": [
        "DEBUG:aietes.Behaviour:Waypoint: [ 333.333  666.667  666.667],50\n"
       ]
      },
      {
       "output_type": "stream",
       "stream": "stderr",
       "text": [
        "DEBUG:aietes.Behaviour:End of Position List\n"
       ]
      },
      {
       "output_type": "stream",
       "stream": "stderr",
       "text": [
        "DEBUG:aietes.aietes.Node:instance created\n"
       ]
      },
      {
       "output_type": "stream",
       "stream": "stderr",
       "text": [
        "DEBUG:aietes:Generating node Sierra with config {'max_turn': [4.5, 4.5, 4.5], 'mac': 'ALOHA', 'position_generation': 'center', 'memory_model': 'global', 'app': 'Null', 'phy': 'PHY', 'Behaviour': {'nearest_neighbours': 4, 'protocol': 'Waypoint', 'waypoint_factor': [0.01], 'neighbourhood_max_rad': 100, 'waypoint_style': 'patrolCube', 'update_rate': 0.3, 'positional_accuracy': [5.0], 'schooling_factor': [0.01], 'repulsive_factor': [0.125], 'collision_avoidance_d': [50.0], 'clumping_factor': 0.0, 'neighbourhood_min_rad': 10}, 'Application': {'packet_count': 0, 'distribution': [1], 'protocol': ['Null'], 'packet_rate': 1.0}, 'MAC': {'ack_packet_length': 24, 'protocol': 'ALOHA'}, 'max_speed': [2.3], 'PHY': {'receive_power': -3.0, 'max_transmit_power': 250.0, 'listen_power': -30.0, 'variable_bandwidth': False, 'var_power': {}, 'bandwidth': 1.0, 'frequency': 20.0, 'transmit_power': 250.0, 'threshold': {'SIR': 15.0, 'SNR': 20.0, 'LIS': 3.0}, 'bandwidth_to_bit_ratio': 1.0}, 'net': 'RoutingTable', 'bev': 'Null', 'cruising_speed': [1.4], 'Network': {'protocol': 'RoutingTable'}}\n"
       ]
      },
      {
       "output_type": "stream",
       "stream": "stderr",
       "text": [
        "DEBUG:aietes:Gave node Sierra a center vector: (469, 520, 450)\n"
       ]
      },
      {
       "output_type": "stream",
       "stream": "stderr",
       "text": [
        "DEBUG:aietes.aietes.Node.App:Null:creating instance\n"
       ]
      },
      {
       "output_type": "stream",
       "stream": "stderr",
       "text": [
        "DEBUG:aietes.aietes.Node.App:Null:Taking Packet_Rate from config: 1.0\n"
       ]
      },
      {
       "output_type": "stream",
       "stream": "stderr",
       "text": [
        "DEBUG:aietes.aietes.Node.Bev:Waypoint:creating instance\n"
       ]
      },
      {
       "output_type": "stream",
       "stream": "stderr",
       "text": [
        "DEBUG:aietes.aietes.Node.Bev:Waypoint:Generating waypoints: patrolCube\n"
       ]
      },
      {
       "output_type": "stream",
       "stream": "stderr",
       "text": [
        "DEBUG:aietes.Behaviour:Waypoint: [ 333.333  333.333  333.333],50\n"
       ]
      },
      {
       "output_type": "stream",
       "stream": "stderr",
       "text": [
        "DEBUG:aietes.Behaviour:Waypoint: [ 666.667  333.333  333.333],50\n"
       ]
      },
      {
       "output_type": "stream",
       "stream": "stderr",
       "text": [
        "DEBUG:aietes.Behaviour:Waypoint: [ 666.667  666.667  333.333],50\n"
       ]
      },
      {
       "output_type": "stream",
       "stream": "stderr",
       "text": [
        "DEBUG:aietes.Behaviour:Waypoint: [ 333.333  666.667  333.333],50\n"
       ]
      },
      {
       "output_type": "stream",
       "stream": "stderr",
       "text": [
        "DEBUG:aietes.Behaviour:Waypoint: [ 333.333  333.333  666.667],50\n"
       ]
      },
      {
       "output_type": "stream",
       "stream": "stderr",
       "text": [
        "DEBUG:aietes.Behaviour:Waypoint: [ 666.667  333.333  666.667],50\n"
       ]
      },
      {
       "output_type": "stream",
       "stream": "stderr",
       "text": [
        "DEBUG:aietes.Behaviour:Waypoint: [ 666.667  666.667  666.667],50\n"
       ]
      },
      {
       "output_type": "stream",
       "stream": "stderr",
       "text": [
        "DEBUG:aietes.Behaviour:Waypoint: [ 333.333  666.667  666.667],50\n"
       ]
      },
      {
       "output_type": "stream",
       "stream": "stderr",
       "text": [
        "DEBUG:aietes.Behaviour:End of Position List\n"
       ]
      },
      {
       "output_type": "stream",
       "stream": "stderr",
       "text": [
        "DEBUG:aietes.aietes.Node:instance created\n"
       ]
      },
      {
       "output_type": "stream",
       "stream": "stderr",
       "text": [
        "DEBUG:aietes:Generating node Lima with config {'max_turn': [4.5, 4.5, 4.5], 'mac': 'ALOHA', 'position_generation': 'center', 'memory_model': 'global', 'app': 'Null', 'phy': 'PHY', 'Behaviour': {'nearest_neighbours': 4, 'protocol': 'Waypoint', 'waypoint_factor': [0.01], 'neighbourhood_max_rad': 100, 'waypoint_style': 'patrolCube', 'update_rate': 0.3, 'positional_accuracy': [5.0], 'schooling_factor': [0.01], 'repulsive_factor': [0.125], 'collision_avoidance_d': [50.0], 'clumping_factor': 0.0, 'neighbourhood_min_rad': 10}, 'Application': {'packet_count': 0, 'distribution': [1], 'protocol': ['Null'], 'packet_rate': 1.0}, 'MAC': {'ack_packet_length': 24, 'protocol': 'ALOHA'}, 'max_speed': [2.3], 'PHY': {'receive_power': -3.0, 'max_transmit_power': 250.0, 'listen_power': -30.0, 'variable_bandwidth': False, 'var_power': {}, 'bandwidth': 1.0, 'frequency': 20.0, 'transmit_power': 250.0, 'threshold': {'SIR': 15.0, 'SNR': 20.0, 'LIS': 3.0}, 'bandwidth_to_bit_ratio': 1.0}, 'net': 'RoutingTable', 'bev': 'Null', 'cruising_speed': [1.4], 'Network': {'protocol': 'RoutingTable'}}\n"
       ]
      },
      {
       "output_type": "stream",
       "stream": "stderr",
       "text": [
        "DEBUG:aietes:Gave node Lima a center vector: (488, 477, 466)\n"
       ]
      },
      {
       "output_type": "stream",
       "stream": "stderr",
       "text": [
        "DEBUG:aietes.aietes.Node.App:Null:creating instance\n"
       ]
      },
      {
       "output_type": "stream",
       "stream": "stderr",
       "text": [
        "DEBUG:aietes.aietes.Node.App:Null:Taking Packet_Rate from config: 1.0\n"
       ]
      },
      {
       "output_type": "stream",
       "stream": "stderr",
       "text": [
        "DEBUG:aietes.aietes.Node.Bev:Waypoint:creating instance\n"
       ]
      },
      {
       "output_type": "stream",
       "stream": "stderr",
       "text": [
        "DEBUG:aietes.aietes.Node.Bev:Waypoint:Generating waypoints: patrolCube\n"
       ]
      },
      {
       "output_type": "stream",
       "stream": "stderr",
       "text": [
        "DEBUG:aietes.Behaviour:Waypoint: [ 333.333  333.333  333.333],50\n"
       ]
      },
      {
       "output_type": "stream",
       "stream": "stderr",
       "text": [
        "DEBUG:aietes.Behaviour:Waypoint: [ 666.667  333.333  333.333],50\n"
       ]
      },
      {
       "output_type": "stream",
       "stream": "stderr",
       "text": [
        "DEBUG:aietes.Behaviour:Waypoint: [ 666.667  666.667  333.333],50\n"
       ]
      },
      {
       "output_type": "stream",
       "stream": "stderr",
       "text": [
        "DEBUG:aietes.Behaviour:Waypoint: [ 333.333  666.667  333.333],50\n"
       ]
      },
      {
       "output_type": "stream",
       "stream": "stderr",
       "text": [
        "DEBUG:aietes.Behaviour:Waypoint: [ 333.333  333.333  666.667],50\n"
       ]
      },
      {
       "output_type": "stream",
       "stream": "stderr",
       "text": [
        "DEBUG:aietes.Behaviour:Waypoint: [ 666.667  333.333  666.667],50\n"
       ]
      },
      {
       "output_type": "stream",
       "stream": "stderr",
       "text": [
        "DEBUG:aietes.Behaviour:Waypoint: [ 666.667  666.667  666.667],50\n"
       ]
      },
      {
       "output_type": "stream",
       "stream": "stderr",
       "text": [
        "DEBUG:aietes.Behaviour:Waypoint: [ 333.333  666.667  666.667],50\n"
       ]
      },
      {
       "output_type": "stream",
       "stream": "stderr",
       "text": [
        "DEBUG:aietes.Behaviour:End of Position List\n"
       ]
      },
      {
       "output_type": "stream",
       "stream": "stderr",
       "text": [
        "DEBUG:aietes.aietes.Node:instance created\n"
       ]
      },
      {
       "output_type": "stream",
       "stream": "stderr",
       "text": [
        "DEBUG:aietes:Generating node Victor with config {'max_turn': [4.5, 4.5, 4.5], 'mac': 'ALOHA', 'position_generation': 'center', 'memory_model': 'global', 'app': 'Null', 'phy': 'PHY', 'Behaviour': {'nearest_neighbours': 4, 'protocol': 'Waypoint', 'waypoint_factor': [0.01], 'neighbourhood_max_rad': 100, 'waypoint_style': 'patrolCube', 'update_rate': 0.3, 'positional_accuracy': [5.0], 'schooling_factor': [0.01], 'repulsive_factor': [0.125], 'collision_avoidance_d': [50.0], 'clumping_factor': 0.0, 'neighbourhood_min_rad': 10}, 'Application': {'packet_count': 0, 'distribution': [1], 'protocol': ['Null'], 'packet_rate': 1.0}, 'MAC': {'ack_packet_length': 24, 'protocol': 'ALOHA'}, 'max_speed': [2.3], 'PHY': {'receive_power': -3.0, 'max_transmit_power': 250.0, 'listen_power': -30.0, 'variable_bandwidth': False, 'var_power': {}, 'bandwidth': 1.0, 'frequency': 20.0, 'transmit_power': 250.0, 'threshold': {'SIR': 15.0, 'SNR': 20.0, 'LIS': 3.0}, 'bandwidth_to_bit_ratio': 1.0}, 'net': 'RoutingTable', 'bev': 'Null', 'cruising_speed': [1.4], 'Network': {'protocol': 'RoutingTable'}}\n"
       ]
      },
      {
       "output_type": "stream",
       "stream": "stderr",
       "text": [
        "DEBUG:aietes:Gave node Victor a center vector: (501, 509, 530)\n"
       ]
      },
      {
       "output_type": "stream",
       "stream": "stderr",
       "text": [
        "DEBUG:aietes.aietes.Node.App:Null:creating instance\n"
       ]
      },
      {
       "output_type": "stream",
       "stream": "stderr",
       "text": [
        "DEBUG:aietes.aietes.Node.App:Null:Taking Packet_Rate from config: 1.0\n"
       ]
      },
      {
       "output_type": "stream",
       "stream": "stderr",
       "text": [
        "DEBUG:aietes.aietes.Node.Bev:Waypoint:creating instance\n"
       ]
      },
      {
       "output_type": "stream",
       "stream": "stderr",
       "text": [
        "DEBUG:aietes.aietes.Node.Bev:Waypoint:Generating waypoints: patrolCube\n"
       ]
      },
      {
       "output_type": "stream",
       "stream": "stderr",
       "text": [
        "DEBUG:aietes.Behaviour:Waypoint: [ 333.333  333.333  333.333],50\n"
       ]
      },
      {
       "output_type": "stream",
       "stream": "stderr",
       "text": [
        "DEBUG:aietes.Behaviour:Waypoint: [ 666.667  333.333  333.333],50\n"
       ]
      },
      {
       "output_type": "stream",
       "stream": "stderr",
       "text": [
        "DEBUG:aietes.Behaviour:Waypoint: [ 666.667  666.667  333.333],50\n"
       ]
      },
      {
       "output_type": "stream",
       "stream": "stderr",
       "text": [
        "DEBUG:aietes.Behaviour:Waypoint: [ 333.333  666.667  333.333],50\n"
       ]
      },
      {
       "output_type": "stream",
       "stream": "stderr",
       "text": [
        "DEBUG:aietes.Behaviour:Waypoint: [ 333.333  333.333  666.667],50\n"
       ]
      },
      {
       "output_type": "stream",
       "stream": "stderr",
       "text": [
        "DEBUG:aietes.Behaviour:Waypoint: [ 666.667  333.333  666.667],50\n"
       ]
      },
      {
       "output_type": "stream",
       "stream": "stderr",
       "text": [
        "DEBUG:aietes.Behaviour:Waypoint: [ 666.667  666.667  666.667],50\n"
       ]
      },
      {
       "output_type": "stream",
       "stream": "stderr",
       "text": [
        "DEBUG:aietes.Behaviour:Waypoint: [ 333.333  666.667  666.667],50\n"
       ]
      },
      {
       "output_type": "stream",
       "stream": "stderr",
       "text": [
        "DEBUG:aietes.Behaviour:End of Position List\n"
       ]
      },
      {
       "output_type": "stream",
       "stream": "stderr",
       "text": [
        "DEBUG:aietes.aietes.Node:instance created\n"
       ]
      },
      {
       "output_type": "stream",
       "stream": "stderr",
       "text": [
        "INFO:aietes.aietes.Fleet:creating instance\n"
       ]
      },
      {
       "output_type": "stream",
       "stream": "stderr",
       "text": [
        "INFO:aietes:Initialising Simulation clumping(0.000000)-0, to run for 1000.0 steps\n"
       ]
      },
      {
       "output_type": "stream",
       "stream": "stderr",
       "text": [
        "INFO:aietes.aietes.Fleet:Initialised Node Lifecycle\n"
       ]
      },
      {
       "output_type": "stream",
       "stream": "stderr",
       "text": [
        "DEBUG:aietes.aietes.Node:Initialised Node Lifecycle\n"
       ]
      },
      {
       "output_type": "stream",
       "stream": "stderr",
       "text": [
        "DEBUG:aietes.aietes.Node.App:Null:No Destination defined, defaulting to \"Any\"\n"
       ]
      },
      {
       "output_type": "stream",
       "stream": "stderr",
       "text": [
        "DEBUG:aietes.aietes.Node:Initialised Node Lifecycle\n"
       ]
      },
      {
       "output_type": "stream",
       "stream": "stderr",
       "text": [
        "DEBUG:aietes.aietes.Node.App:Null:No Destination defined, defaulting to \"Any\"\n"
       ]
      },
      {
       "output_type": "stream",
       "stream": "stderr",
       "text": [
        "DEBUG:aietes.aietes.Node:Initialised Node Lifecycle\n"
       ]
      },
      {
       "output_type": "stream",
       "stream": "stderr",
       "text": [
        "DEBUG:aietes.aietes.Node.App:Null:No Destination defined, defaulting to \"Any\"\n"
       ]
      },
      {
       "output_type": "stream",
       "stream": "stderr",
       "text": [
        "DEBUG:aietes.aietes.Node:Initialised Node Lifecycle\n"
       ]
      },
      {
       "output_type": "stream",
       "stream": "stderr",
       "text": [
        "DEBUG:aietes.aietes.Node.App:Null:No Destination defined, defaulting to \"Any\"\n"
       ]
      },
      {
       "output_type": "stream",
       "stream": "stderr",
       "text": [
        "DEBUG:aietes.aietes.Node:Initialised Node Lifecycle\n"
       ]
      },
      {
       "output_type": "stream",
       "stream": "stderr",
       "text": [
        "DEBUG:aietes.aietes.Node.App:Null:No Destination defined, defaulting to \"Any\"\n"
       ]
      },
      {
       "output_type": "stream",
       "stream": "stderr",
       "text": [
        "DEBUG:aietes.aietes.Node:Initialised Node Lifecycle\n"
       ]
      },
      {
       "output_type": "stream",
       "stream": "stderr",
       "text": [
        "DEBUG:aietes.aietes.Node.App:Null:No Destination defined, defaulting to \"Any\"\n"
       ]
      },
      {
       "output_type": "stream",
       "stream": "stderr",
       "text": [
        "DEBUG:aietes.aietes.Node:Initialised Node Lifecycle\n"
       ]
      },
      {
       "output_type": "stream",
       "stream": "stderr",
       "text": [
        "DEBUG:aietes.aietes.Node.App:Null:No Destination defined, defaulting to \"Any\"\n"
       ]
      },
      {
       "output_type": "stream",
       "stream": "stderr",
       "text": [
        "DEBUG:aietes.aietes.Node:Initialised Node Lifecycle\n"
       ]
      },
      {
       "output_type": "stream",
       "stream": "stderr",
       "text": [
        "DEBUG:aietes.aietes.Node.App:Null:No Destination defined, defaulting to \"Any\"\n"
       ]
      },
      {
       "output_type": "stream",
       "stream": "stderr",
       "text": [
        "INFO:aietes.aietes.Node.Bev:Waypoint:Moving to Next waypoint:[ 333.333  333.333  333.333]\n"
       ]
      },
      {
       "output_type": "stream",
       "stream": "stderr",
       "text": [
        "INFO:aietes.aietes.Node.Bev:Waypoint:Moving to Next waypoint:[ 333.333  333.333  333.333]\n"
       ]
      },
      {
       "output_type": "stream",
       "stream": "stderr",
       "text": [
        "INFO:aietes.aietes.Node.Bev:Waypoint:Moving to Next waypoint:[ 333.333  333.333  333.333]\n"
       ]
      },
      {
       "output_type": "stream",
       "stream": "stderr",
       "text": [
        "INFO:aietes.aietes.Node.Bev:Waypoint:Moving to Next waypoint:[ 333.333  333.333  333.333]\n"
       ]
      },
      {
       "output_type": "stream",
       "stream": "stderr",
       "text": [
        "INFO:aietes.aietes.Node.Bev:Waypoint:Moving to Next waypoint:[ 333.333  333.333  333.333]\n"
       ]
      },
      {
       "output_type": "stream",
       "stream": "stderr",
       "text": [
        "INFO:aietes.aietes.Node.Bev:Waypoint:Moving to Next waypoint:[ 333.333  333.333  333.333]\n"
       ]
      },
      {
       "output_type": "stream",
       "stream": "stderr",
       "text": [
        "INFO:aietes.aietes.Node.Bev:Waypoint:Moving to Next waypoint:[ 333.333  333.333  333.333]\n"
       ]
      },
      {
       "output_type": "stream",
       "stream": "stderr",
       "text": [
        "INFO:aietes.aietes.Node.Bev:Waypoint:Moving to Next waypoint:[ 333.333  333.333  333.333]\n"
       ]
      },
      {
       "output_type": "stream",
       "stream": "stderr",
       "text": [
        "INFO:aietes.aietes.Node.Bev:Waypoint:Moving to Next waypoint:[ 666.667  333.333  333.333]\n"
       ]
      },
      {
       "output_type": "stream",
       "stream": "stderr",
       "text": [
        "INFO:aietes.aietes.Node.Bev:Waypoint:Moving to Next waypoint:[ 666.667  333.333  333.333]\n"
       ]
      },
      {
       "output_type": "stream",
       "stream": "stderr",
       "text": [
        "INFO:aietes.aietes.Node.Bev:Waypoint:Moving to Next waypoint:[ 666.667  333.333  333.333]\n"
       ]
      },
      {
       "output_type": "stream",
       "stream": "stderr",
       "text": [
        "INFO:aietes.aietes.Node.Bev:Waypoint:Moving to Next waypoint:[ 666.667  333.333  333.333]\n"
       ]
      },
      {
       "output_type": "stream",
       "stream": "stderr",
       "text": [
        "INFO:aietes.aietes.Node.Bev:Waypoint:Moving to Next waypoint:[ 666.667  333.333  333.333]\n"
       ]
      },
      {
       "output_type": "stream",
       "stream": "stderr",
       "text": [
        "INFO:aietes.aietes.Node.Bev:Waypoint:Moving to Next waypoint:[ 666.667  333.333  333.333]\n"
       ]
      },
      {
       "output_type": "stream",
       "stream": "stderr",
       "text": [
        "INFO:aietes.aietes.Node.Bev:Waypoint:Moving to Next waypoint:[ 666.667  333.333  333.333]\n"
       ]
      },
      {
       "output_type": "stream",
       "stream": "stderr",
       "text": [
        "INFO:aietes:Finished Simulation at 1000.0\n"
       ]
      },
      {
       "output_type": "stream",
       "stream": "stdout",
       "text": [
        "1,"
       ]
      },
      {
       "output_type": "stream",
       "stream": "stderr",
       "text": [
        "INFO:aietes:using given config\n"
       ]
      },
      {
       "output_type": "stream",
       "stream": "stderr",
       "text": [
        "DEBUG:aietes.Environment:creating instance\n"
       ]
      },
      {
       "output_type": "stream",
       "stream": "stderr",
       "text": [
        "DEBUG:aietes:Generating node Golf with config {'max_turn': [4.5, 4.5, 4.5], 'mac': 'ALOHA', 'position_generation': 'center', 'memory_model': 'global', 'app': 'Null', 'phy': 'PHY', 'Behaviour': {'nearest_neighbours': 4, 'protocol': 'Waypoint', 'waypoint_factor': [0.01], 'neighbourhood_max_rad': 100, 'waypoint_style': 'patrolCube', 'update_rate': 0.3, 'positional_accuracy': [5.0], 'schooling_factor': [0.01], 'repulsive_factor': [0.125], 'collision_avoidance_d': [50.0], 'clumping_factor': 0.0, 'neighbourhood_min_rad': 10}, 'Application': {'packet_count': 0, 'distribution': [1], 'protocol': ['Null'], 'packet_rate': 1.0}, 'MAC': {'ack_packet_length': 24, 'protocol': 'ALOHA'}, 'max_speed': [2.3], 'PHY': {'receive_power': -3.0, 'max_transmit_power': 250.0, 'listen_power': -30.0, 'variable_bandwidth': False, 'var_power': {}, 'bandwidth': 1.0, 'frequency': 20.0, 'transmit_power': 250.0, 'threshold': {'SIR': 15.0, 'SNR': 20.0, 'LIS': 3.0}, 'bandwidth_to_bit_ratio': 1.0}, 'net': 'RoutingTable', 'bev': 'Null', 'cruising_speed': [1.4], 'Network': {'protocol': 'RoutingTable'}}\n"
       ]
      },
      {
       "output_type": "stream",
       "stream": "stderr",
       "text": [
        "DEBUG:aietes:Gave node Golf a center vector: (527, 524, 502)\n"
       ]
      },
      {
       "output_type": "stream",
       "stream": "stderr",
       "text": [
        "DEBUG:aietes.aietes.Node.App:Null:creating instance\n"
       ]
      },
      {
       "output_type": "stream",
       "stream": "stderr",
       "text": [
        "DEBUG:aietes.aietes.Node.App:Null:Taking Packet_Rate from config: 1.0\n"
       ]
      },
      {
       "output_type": "stream",
       "stream": "stderr",
       "text": [
        "DEBUG:aietes.aietes.Node.Bev:Waypoint:creating instance\n"
       ]
      },
      {
       "output_type": "stream",
       "stream": "stderr",
       "text": [
        "DEBUG:aietes.aietes.Node.Bev:Waypoint:Generating waypoints: patrolCube\n"
       ]
      },
      {
       "output_type": "stream",
       "stream": "stderr",
       "text": [
        "DEBUG:aietes.Behaviour:Waypoint: [ 333.333  333.333  333.333],50\n"
       ]
      },
      {
       "output_type": "stream",
       "stream": "stderr",
       "text": [
        "DEBUG:aietes.Behaviour:Waypoint: [ 666.667  333.333  333.333],50\n"
       ]
      },
      {
       "output_type": "stream",
       "stream": "stderr",
       "text": [
        "DEBUG:aietes.Behaviour:Waypoint: [ 666.667  666.667  333.333],50\n"
       ]
      },
      {
       "output_type": "stream",
       "stream": "stderr",
       "text": [
        "DEBUG:aietes.Behaviour:Waypoint: [ 333.333  666.667  333.333],50\n"
       ]
      },
      {
       "output_type": "stream",
       "stream": "stderr",
       "text": [
        "DEBUG:aietes.Behaviour:Waypoint: [ 333.333  333.333  666.667],50\n"
       ]
      },
      {
       "output_type": "stream",
       "stream": "stderr",
       "text": [
        "DEBUG:aietes.Behaviour:Waypoint: [ 666.667  333.333  666.667],50\n"
       ]
      },
      {
       "output_type": "stream",
       "stream": "stderr",
       "text": [
        "DEBUG:aietes.Behaviour:Waypoint: [ 666.667  666.667  666.667],50\n"
       ]
      },
      {
       "output_type": "stream",
       "stream": "stderr",
       "text": [
        "DEBUG:aietes.Behaviour:Waypoint: [ 333.333  666.667  666.667],50\n"
       ]
      },
      {
       "output_type": "stream",
       "stream": "stderr",
       "text": [
        "DEBUG:aietes.Behaviour:End of Position List\n"
       ]
      },
      {
       "output_type": "stream",
       "stream": "stderr",
       "text": [
        "DEBUG:aietes.aietes.Node:instance created\n"
       ]
      },
      {
       "output_type": "stream",
       "stream": "stderr",
       "text": [
        "DEBUG:aietes:Generating node Zulu with config {'max_turn': [4.5, 4.5, 4.5], 'mac': 'ALOHA', 'position_generation': 'center', 'memory_model': 'global', 'app': 'Null', 'phy': 'PHY', 'Behaviour': {'nearest_neighbours': 4, 'protocol': 'Waypoint', 'waypoint_factor': [0.01], 'neighbourhood_max_rad': 100, 'waypoint_style': 'patrolCube', 'update_rate': 0.3, 'positional_accuracy': [5.0], 'schooling_factor': [0.01], 'repulsive_factor': [0.125], 'collision_avoidance_d': [50.0], 'clumping_factor': 0.0, 'neighbourhood_min_rad': 10}, 'Application': {'packet_count': 0, 'distribution': [1], 'protocol': ['Null'], 'packet_rate': 1.0}, 'MAC': {'ack_packet_length': 24, 'protocol': 'ALOHA'}, 'max_speed': [2.3], 'PHY': {'receive_power': -3.0, 'max_transmit_power': 250.0, 'listen_power': -30.0, 'variable_bandwidth': False, 'var_power': {}, 'bandwidth': 1.0, 'frequency': 20.0, 'transmit_power': 250.0, 'threshold': {'SIR': 15.0, 'SNR': 20.0, 'LIS': 3.0}, 'bandwidth_to_bit_ratio': 1.0}, 'net': 'RoutingTable', 'bev': 'Null', 'cruising_speed': [1.4], 'Network': {'protocol': 'RoutingTable'}}\n"
       ]
      },
      {
       "output_type": "stream",
       "stream": "stderr",
       "text": [
        "DEBUG:aietes:Gave node Zulu a center vector: (529, 484, 479)\n"
       ]
      },
      {
       "output_type": "stream",
       "stream": "stderr",
       "text": [
        "DEBUG:aietes.aietes.Node.App:Null:creating instance\n"
       ]
      },
      {
       "output_type": "stream",
       "stream": "stderr",
       "text": [
        "DEBUG:aietes.aietes.Node.App:Null:Taking Packet_Rate from config: 1.0\n"
       ]
      },
      {
       "output_type": "stream",
       "stream": "stderr",
       "text": [
        "DEBUG:aietes.aietes.Node.Bev:Waypoint:creating instance\n"
       ]
      },
      {
       "output_type": "stream",
       "stream": "stderr",
       "text": [
        "DEBUG:aietes.aietes.Node.Bev:Waypoint:Generating waypoints: patrolCube\n"
       ]
      },
      {
       "output_type": "stream",
       "stream": "stderr",
       "text": [
        "DEBUG:aietes.Behaviour:Waypoint: [ 333.333  333.333  333.333],50\n"
       ]
      },
      {
       "output_type": "stream",
       "stream": "stderr",
       "text": [
        "DEBUG:aietes.Behaviour:Waypoint: [ 666.667  333.333  333.333],50\n"
       ]
      },
      {
       "output_type": "stream",
       "stream": "stderr",
       "text": [
        "DEBUG:aietes.Behaviour:Waypoint: [ 666.667  666.667  333.333],50\n"
       ]
      },
      {
       "output_type": "stream",
       "stream": "stderr",
       "text": [
        "DEBUG:aietes.Behaviour:Waypoint: [ 333.333  666.667  333.333],50\n"
       ]
      },
      {
       "output_type": "stream",
       "stream": "stderr",
       "text": [
        "DEBUG:aietes.Behaviour:Waypoint: [ 333.333  333.333  666.667],50\n"
       ]
      },
      {
       "output_type": "stream",
       "stream": "stderr",
       "text": [
        "DEBUG:aietes.Behaviour:Waypoint: [ 666.667  333.333  666.667],50\n"
       ]
      },
      {
       "output_type": "stream",
       "stream": "stderr",
       "text": [
        "DEBUG:aietes.Behaviour:Waypoint: [ 666.667  666.667  666.667],50\n"
       ]
      },
      {
       "output_type": "stream",
       "stream": "stderr",
       "text": [
        "DEBUG:aietes.Behaviour:Waypoint: [ 333.333  666.667  666.667],50\n"
       ]
      },
      {
       "output_type": "stream",
       "stream": "stderr",
       "text": [
        "DEBUG:aietes.Behaviour:End of Position List\n"
       ]
      },
      {
       "output_type": "stream",
       "stream": "stderr",
       "text": [
        "DEBUG:aietes.aietes.Node:instance created\n"
       ]
      },
      {
       "output_type": "stream",
       "stream": "stderr",
       "text": [
        "DEBUG:aietes:Generating node Bravo with config {'max_turn': [4.5, 4.5, 4.5], 'mac': 'ALOHA', 'position_generation': 'center', 'memory_model': 'global', 'app': 'Null', 'phy': 'PHY', 'Behaviour': {'nearest_neighbours': 4, 'protocol': 'Waypoint', 'waypoint_factor': [0.01], 'neighbourhood_max_rad': 100, 'waypoint_style': 'patrolCube', 'update_rate': 0.3, 'positional_accuracy': [5.0], 'schooling_factor': [0.01], 'repulsive_factor': [0.125], 'collision_avoidance_d': [50.0], 'clumping_factor': 0.0, 'neighbourhood_min_rad': 10}, 'Application': {'packet_count': 0, 'distribution': [1], 'protocol': ['Null'], 'packet_rate': 1.0}, 'MAC': {'ack_packet_length': 24, 'protocol': 'ALOHA'}, 'max_speed': [2.3], 'PHY': {'receive_power': -3.0, 'max_transmit_power': 250.0, 'listen_power': -30.0, 'variable_bandwidth': False, 'var_power': {}, 'bandwidth': 1.0, 'frequency': 20.0, 'transmit_power': 250.0, 'threshold': {'SIR': 15.0, 'SNR': 20.0, 'LIS': 3.0}, 'bandwidth_to_bit_ratio': 1.0}, 'net': 'RoutingTable', 'bev': 'Null', 'cruising_speed': [1.4], 'Network': {'protocol': 'RoutingTable'}}\n"
       ]
      },
      {
       "output_type": "stream",
       "stream": "stderr",
       "text": [
        "DEBUG:aietes:Gave node Bravo a center vector: (479, 487, 514)\n"
       ]
      },
      {
       "output_type": "stream",
       "stream": "stderr",
       "text": [
        "DEBUG:aietes.aietes.Node.App:Null:creating instance\n"
       ]
      },
      {
       "output_type": "stream",
       "stream": "stderr",
       "text": [
        "DEBUG:aietes.aietes.Node.App:Null:Taking Packet_Rate from config: 1.0\n"
       ]
      },
      {
       "output_type": "stream",
       "stream": "stderr",
       "text": [
        "DEBUG:aietes.aietes.Node.Bev:Waypoint:creating instance\n"
       ]
      },
      {
       "output_type": "stream",
       "stream": "stderr",
       "text": [
        "DEBUG:aietes.aietes.Node.Bev:Waypoint:Generating waypoints: patrolCube\n"
       ]
      },
      {
       "output_type": "stream",
       "stream": "stderr",
       "text": [
        "DEBUG:aietes.Behaviour:Waypoint: [ 333.333  333.333  333.333],50\n"
       ]
      },
      {
       "output_type": "stream",
       "stream": "stderr",
       "text": [
        "DEBUG:aietes.Behaviour:Waypoint: [ 666.667  333.333  333.333],50\n"
       ]
      },
      {
       "output_type": "stream",
       "stream": "stderr",
       "text": [
        "DEBUG:aietes.Behaviour:Waypoint: [ 666.667  666.667  333.333],50\n"
       ]
      },
      {
       "output_type": "stream",
       "stream": "stderr",
       "text": [
        "DEBUG:aietes.Behaviour:Waypoint: [ 333.333  666.667  333.333],50\n"
       ]
      },
      {
       "output_type": "stream",
       "stream": "stderr",
       "text": [
        "DEBUG:aietes.Behaviour:Waypoint: [ 333.333  333.333  666.667],50\n"
       ]
      },
      {
       "output_type": "stream",
       "stream": "stderr",
       "text": [
        "DEBUG:aietes.Behaviour:Waypoint: [ 666.667  333.333  666.667],50\n"
       ]
      },
      {
       "output_type": "stream",
       "stream": "stderr",
       "text": [
        "DEBUG:aietes.Behaviour:Waypoint: [ 666.667  666.667  666.667],50\n"
       ]
      },
      {
       "output_type": "stream",
       "stream": "stderr",
       "text": [
        "DEBUG:aietes.Behaviour:Waypoint: [ 333.333  666.667  666.667],50\n"
       ]
      },
      {
       "output_type": "stream",
       "stream": "stderr",
       "text": [
        "DEBUG:aietes.Behaviour:End of Position List\n"
       ]
      },
      {
       "output_type": "stream",
       "stream": "stderr",
       "text": [
        "DEBUG:aietes.aietes.Node:instance created\n"
       ]
      },
      {
       "output_type": "stream",
       "stream": "stderr",
       "text": [
        "DEBUG:aietes:Generating node Papa with config {'max_turn': [4.5, 4.5, 4.5], 'mac': 'ALOHA', 'position_generation': 'center', 'memory_model': 'global', 'app': 'Null', 'phy': 'PHY', 'Behaviour': {'nearest_neighbours': 4, 'protocol': 'Waypoint', 'waypoint_factor': [0.01], 'neighbourhood_max_rad': 100, 'waypoint_style': 'patrolCube', 'update_rate': 0.3, 'positional_accuracy': [5.0], 'schooling_factor': [0.01], 'repulsive_factor': [0.125], 'collision_avoidance_d': [50.0], 'clumping_factor': 0.0, 'neighbourhood_min_rad': 10}, 'Application': {'packet_count': 0, 'distribution': [1], 'protocol': ['Null'], 'packet_rate': 1.0}, 'MAC': {'ack_packet_length': 24, 'protocol': 'ALOHA'}, 'max_speed': [2.3], 'PHY': {'receive_power': -3.0, 'max_transmit_power': 250.0, 'listen_power': -30.0, 'variable_bandwidth': False, 'var_power': {}, 'bandwidth': 1.0, 'frequency': 20.0, 'transmit_power': 250.0, 'threshold': {'SIR': 15.0, 'SNR': 20.0, 'LIS': 3.0}, 'bandwidth_to_bit_ratio': 1.0}, 'net': 'RoutingTable', 'bev': 'Null', 'cruising_speed': [1.4], 'Network': {'protocol': 'RoutingTable'}}\n"
       ]
      },
      {
       "output_type": "stream",
       "stream": "stderr",
       "text": [
        "DEBUG:aietes:Gave node Papa a center vector: (494, 531, 507)\n"
       ]
      },
      {
       "output_type": "stream",
       "stream": "stderr",
       "text": [
        "DEBUG:aietes.aietes.Node.App:Null:creating instance\n"
       ]
      },
      {
       "output_type": "stream",
       "stream": "stderr",
       "text": [
        "DEBUG:aietes.aietes.Node.App:Null:Taking Packet_Rate from config: 1.0\n"
       ]
      },
      {
       "output_type": "stream",
       "stream": "stderr",
       "text": [
        "DEBUG:aietes.aietes.Node.Bev:Waypoint:creating instance\n"
       ]
      },
      {
       "output_type": "stream",
       "stream": "stderr",
       "text": [
        "DEBUG:aietes.aietes.Node.Bev:Waypoint:Generating waypoints: patrolCube\n"
       ]
      },
      {
       "output_type": "stream",
       "stream": "stderr",
       "text": [
        "DEBUG:aietes.Behaviour:Waypoint: [ 333.333  333.333  333.333],50\n"
       ]
      },
      {
       "output_type": "stream",
       "stream": "stderr",
       "text": [
        "DEBUG:aietes.Behaviour:Waypoint: [ 666.667  333.333  333.333],50\n"
       ]
      },
      {
       "output_type": "stream",
       "stream": "stderr",
       "text": [
        "DEBUG:aietes.Behaviour:Waypoint: [ 666.667  666.667  333.333],50\n"
       ]
      },
      {
       "output_type": "stream",
       "stream": "stderr",
       "text": [
        "DEBUG:aietes.Behaviour:Waypoint: [ 333.333  666.667  333.333],50\n"
       ]
      },
      {
       "output_type": "stream",
       "stream": "stderr",
       "text": [
        "DEBUG:aietes.Behaviour:Waypoint: [ 333.333  333.333  666.667],50\n"
       ]
      },
      {
       "output_type": "stream",
       "stream": "stderr",
       "text": [
        "DEBUG:aietes.Behaviour:Waypoint: [ 666.667  333.333  666.667],50\n"
       ]
      },
      {
       "output_type": "stream",
       "stream": "stderr",
       "text": [
        "DEBUG:aietes.Behaviour:Waypoint: [ 666.667  666.667  666.667],50\n"
       ]
      },
      {
       "output_type": "stream",
       "stream": "stderr",
       "text": [
        "DEBUG:aietes.Behaviour:Waypoint: [ 333.333  666.667  666.667],50\n"
       ]
      },
      {
       "output_type": "stream",
       "stream": "stderr",
       "text": [
        "DEBUG:aietes.Behaviour:End of Position List\n"
       ]
      },
      {
       "output_type": "stream",
       "stream": "stderr",
       "text": [
        "DEBUG:aietes.aietes.Node:instance created\n"
       ]
      },
      {
       "output_type": "stream",
       "stream": "stderr",
       "text": [
        "DEBUG:aietes:Generating node Oscar with config {'max_turn': [4.5, 4.5, 4.5], 'mac': 'ALOHA', 'position_generation': 'center', 'memory_model': 'global', 'app': 'Null', 'phy': 'PHY', 'Behaviour': {'nearest_neighbours': 4, 'protocol': 'Waypoint', 'waypoint_factor': [0.01], 'neighbourhood_max_rad': 100, 'waypoint_style': 'patrolCube', 'update_rate': 0.3, 'positional_accuracy': [5.0], 'schooling_factor': [0.01], 'repulsive_factor': [0.125], 'collision_avoidance_d': [50.0], 'clumping_factor': 0.0, 'neighbourhood_min_rad': 10}, 'Application': {'packet_count': 0, 'distribution': [1], 'protocol': ['Null'], 'packet_rate': 1.0}, 'MAC': {'ack_packet_length': 24, 'protocol': 'ALOHA'}, 'max_speed': [2.3], 'PHY': {'receive_power': -3.0, 'max_transmit_power': 250.0, 'listen_power': -30.0, 'variable_bandwidth': False, 'var_power': {}, 'bandwidth': 1.0, 'frequency': 20.0, 'transmit_power': 250.0, 'threshold': {'SIR': 15.0, 'SNR': 20.0, 'LIS': 3.0}, 'bandwidth_to_bit_ratio': 1.0}, 'net': 'RoutingTable', 'bev': 'Null', 'cruising_speed': [1.4], 'Network': {'protocol': 'RoutingTable'}}\n"
       ]
      },
      {
       "output_type": "stream",
       "stream": "stderr",
       "text": [
        "DEBUG:aietes:Gave node Oscar a center vector: (484, 503, 511)\n"
       ]
      },
      {
       "output_type": "stream",
       "stream": "stderr",
       "text": [
        "DEBUG:aietes.aietes.Node.App:Null:creating instance\n"
       ]
      },
      {
       "output_type": "stream",
       "stream": "stderr",
       "text": [
        "DEBUG:aietes.aietes.Node.App:Null:Taking Packet_Rate from config: 1.0\n"
       ]
      },
      {
       "output_type": "stream",
       "stream": "stderr",
       "text": [
        "DEBUG:aietes.aietes.Node.Bev:Waypoint:creating instance\n"
       ]
      },
      {
       "output_type": "stream",
       "stream": "stderr",
       "text": [
        "DEBUG:aietes.aietes.Node.Bev:Waypoint:Generating waypoints: patrolCube\n"
       ]
      },
      {
       "output_type": "stream",
       "stream": "stderr",
       "text": [
        "DEBUG:aietes.Behaviour:Waypoint: [ 333.333  333.333  333.333],50\n"
       ]
      },
      {
       "output_type": "stream",
       "stream": "stderr",
       "text": [
        "DEBUG:aietes.Behaviour:Waypoint: [ 666.667  333.333  333.333],50\n"
       ]
      },
      {
       "output_type": "stream",
       "stream": "stderr",
       "text": [
        "DEBUG:aietes.Behaviour:Waypoint: [ 666.667  666.667  333.333],50\n"
       ]
      },
      {
       "output_type": "stream",
       "stream": "stderr",
       "text": [
        "DEBUG:aietes.Behaviour:Waypoint: [ 333.333  666.667  333.333],50\n"
       ]
      },
      {
       "output_type": "stream",
       "stream": "stderr",
       "text": [
        "DEBUG:aietes.Behaviour:Waypoint: [ 333.333  333.333  666.667],50\n"
       ]
      },
      {
       "output_type": "stream",
       "stream": "stderr",
       "text": [
        "DEBUG:aietes.Behaviour:Waypoint: [ 666.667  333.333  666.667],50\n"
       ]
      },
      {
       "output_type": "stream",
       "stream": "stderr",
       "text": [
        "DEBUG:aietes.Behaviour:Waypoint: [ 666.667  666.667  666.667],50\n"
       ]
      },
      {
       "output_type": "stream",
       "stream": "stderr",
       "text": [
        "DEBUG:aietes.Behaviour:Waypoint: [ 333.333  666.667  666.667],50\n"
       ]
      },
      {
       "output_type": "stream",
       "stream": "stderr",
       "text": [
        "DEBUG:aietes.Behaviour:End of Position List\n"
       ]
      },
      {
       "output_type": "stream",
       "stream": "stderr",
       "text": [
        "DEBUG:aietes.aietes.Node:instance created\n"
       ]
      },
      {
       "output_type": "stream",
       "stream": "stderr",
       "text": [
        "DEBUG:aietes:Generating node Sierra with config {'max_turn': [4.5, 4.5, 4.5], 'mac': 'ALOHA', 'position_generation': 'center', 'memory_model': 'global', 'app': 'Null', 'phy': 'PHY', 'Behaviour': {'nearest_neighbours': 4, 'protocol': 'Waypoint', 'waypoint_factor': [0.01], 'neighbourhood_max_rad': 100, 'waypoint_style': 'patrolCube', 'update_rate': 0.3, 'positional_accuracy': [5.0], 'schooling_factor': [0.01], 'repulsive_factor': [0.125], 'collision_avoidance_d': [50.0], 'clumping_factor': 0.0, 'neighbourhood_min_rad': 10}, 'Application': {'packet_count': 0, 'distribution': [1], 'protocol': ['Null'], 'packet_rate': 1.0}, 'MAC': {'ack_packet_length': 24, 'protocol': 'ALOHA'}, 'max_speed': [2.3], 'PHY': {'receive_power': -3.0, 'max_transmit_power': 250.0, 'listen_power': -30.0, 'variable_bandwidth': False, 'var_power': {}, 'bandwidth': 1.0, 'frequency': 20.0, 'transmit_power': 250.0, 'threshold': {'SIR': 15.0, 'SNR': 20.0, 'LIS': 3.0}, 'bandwidth_to_bit_ratio': 1.0}, 'net': 'RoutingTable', 'bev': 'Null', 'cruising_speed': [1.4], 'Network': {'protocol': 'RoutingTable'}}\n"
       ]
      },
      {
       "output_type": "stream",
       "stream": "stderr",
       "text": [
        "DEBUG:aietes:Gave node Sierra a center vector: (519, 484, 498)\n"
       ]
      },
      {
       "output_type": "stream",
       "stream": "stderr",
       "text": [
        "DEBUG:aietes.aietes.Node.App:Null:creating instance\n"
       ]
      },
      {
       "output_type": "stream",
       "stream": "stderr",
       "text": [
        "DEBUG:aietes.aietes.Node.App:Null:Taking Packet_Rate from config: 1.0\n"
       ]
      },
      {
       "output_type": "stream",
       "stream": "stderr",
       "text": [
        "DEBUG:aietes.aietes.Node.Bev:Waypoint:creating instance\n"
       ]
      },
      {
       "output_type": "stream",
       "stream": "stderr",
       "text": [
        "DEBUG:aietes.aietes.Node.Bev:Waypoint:Generating waypoints: patrolCube\n"
       ]
      },
      {
       "output_type": "stream",
       "stream": "stderr",
       "text": [
        "DEBUG:aietes.Behaviour:Waypoint: [ 333.333  333.333  333.333],50\n"
       ]
      },
      {
       "output_type": "stream",
       "stream": "stderr",
       "text": [
        "DEBUG:aietes.Behaviour:Waypoint: [ 666.667  333.333  333.333],50\n"
       ]
      },
      {
       "output_type": "stream",
       "stream": "stderr",
       "text": [
        "DEBUG:aietes.Behaviour:Waypoint: [ 666.667  666.667  333.333],50\n"
       ]
      },
      {
       "output_type": "stream",
       "stream": "stderr",
       "text": [
        "DEBUG:aietes.Behaviour:Waypoint: [ 333.333  666.667  333.333],50\n"
       ]
      },
      {
       "output_type": "stream",
       "stream": "stderr",
       "text": [
        "DEBUG:aietes.Behaviour:Waypoint: [ 333.333  333.333  666.667],50\n"
       ]
      },
      {
       "output_type": "stream",
       "stream": "stderr",
       "text": [
        "DEBUG:aietes.Behaviour:Waypoint: [ 666.667  333.333  666.667],50\n"
       ]
      },
      {
       "output_type": "stream",
       "stream": "stderr",
       "text": [
        "DEBUG:aietes.Behaviour:Waypoint: [ 666.667  666.667  666.667],50\n"
       ]
      },
      {
       "output_type": "stream",
       "stream": "stderr",
       "text": [
        "DEBUG:aietes.Behaviour:Waypoint: [ 333.333  666.667  666.667],50\n"
       ]
      },
      {
       "output_type": "stream",
       "stream": "stderr",
       "text": [
        "DEBUG:aietes.Behaviour:End of Position List\n"
       ]
      },
      {
       "output_type": "stream",
       "stream": "stderr",
       "text": [
        "DEBUG:aietes.aietes.Node:instance created\n"
       ]
      },
      {
       "output_type": "stream",
       "stream": "stderr",
       "text": [
        "DEBUG:aietes:Generating node Lima with config {'max_turn': [4.5, 4.5, 4.5], 'mac': 'ALOHA', 'position_generation': 'center', 'memory_model': 'global', 'app': 'Null', 'phy': 'PHY', 'Behaviour': {'nearest_neighbours': 4, 'protocol': 'Waypoint', 'waypoint_factor': [0.01], 'neighbourhood_max_rad': 100, 'waypoint_style': 'patrolCube', 'update_rate': 0.3, 'positional_accuracy': [5.0], 'schooling_factor': [0.01], 'repulsive_factor': [0.125], 'collision_avoidance_d': [50.0], 'clumping_factor': 0.0, 'neighbourhood_min_rad': 10}, 'Application': {'packet_count': 0, 'distribution': [1], 'protocol': ['Null'], 'packet_rate': 1.0}, 'MAC': {'ack_packet_length': 24, 'protocol': 'ALOHA'}, 'max_speed': [2.3], 'PHY': {'receive_power': -3.0, 'max_transmit_power': 250.0, 'listen_power': -30.0, 'variable_bandwidth': False, 'var_power': {}, 'bandwidth': 1.0, 'frequency': 20.0, 'transmit_power': 250.0, 'threshold': {'SIR': 15.0, 'SNR': 20.0, 'LIS': 3.0}, 'bandwidth_to_bit_ratio': 1.0}, 'net': 'RoutingTable', 'bev': 'Null', 'cruising_speed': [1.4], 'Network': {'protocol': 'RoutingTable'}}\n"
       ]
      },
      {
       "output_type": "stream",
       "stream": "stderr",
       "text": [
        "DEBUG:aietes:Gave node Lima a center vector: (501, 547, 513)\n"
       ]
      },
      {
       "output_type": "stream",
       "stream": "stderr",
       "text": [
        "DEBUG:aietes.aietes.Node.App:Null:creating instance\n"
       ]
      },
      {
       "output_type": "stream",
       "stream": "stderr",
       "text": [
        "DEBUG:aietes.aietes.Node.App:Null:Taking Packet_Rate from config: 1.0\n"
       ]
      },
      {
       "output_type": "stream",
       "stream": "stderr",
       "text": [
        "DEBUG:aietes.aietes.Node.Bev:Waypoint:creating instance\n"
       ]
      },
      {
       "output_type": "stream",
       "stream": "stderr",
       "text": [
        "DEBUG:aietes.aietes.Node.Bev:Waypoint:Generating waypoints: patrolCube\n"
       ]
      },
      {
       "output_type": "stream",
       "stream": "stderr",
       "text": [
        "DEBUG:aietes.Behaviour:Waypoint: [ 333.333  333.333  333.333],50\n"
       ]
      },
      {
       "output_type": "stream",
       "stream": "stderr",
       "text": [
        "DEBUG:aietes.Behaviour:Waypoint: [ 666.667  333.333  333.333],50\n"
       ]
      },
      {
       "output_type": "stream",
       "stream": "stderr",
       "text": [
        "DEBUG:aietes.Behaviour:Waypoint: [ 666.667  666.667  333.333],50\n"
       ]
      },
      {
       "output_type": "stream",
       "stream": "stderr",
       "text": [
        "DEBUG:aietes.Behaviour:Waypoint: [ 333.333  666.667  333.333],50\n"
       ]
      },
      {
       "output_type": "stream",
       "stream": "stderr",
       "text": [
        "DEBUG:aietes.Behaviour:Waypoint: [ 333.333  333.333  666.667],50\n"
       ]
      },
      {
       "output_type": "stream",
       "stream": "stderr",
       "text": [
        "DEBUG:aietes.Behaviour:Waypoint: [ 666.667  333.333  666.667],50\n"
       ]
      },
      {
       "output_type": "stream",
       "stream": "stderr",
       "text": [
        "DEBUG:aietes.Behaviour:Waypoint: [ 666.667  666.667  666.667],50\n"
       ]
      },
      {
       "output_type": "stream",
       "stream": "stderr",
       "text": [
        "DEBUG:aietes.Behaviour:Waypoint: [ 333.333  666.667  666.667],50\n"
       ]
      },
      {
       "output_type": "stream",
       "stream": "stderr",
       "text": [
        "DEBUG:aietes.Behaviour:End of Position List\n"
       ]
      },
      {
       "output_type": "stream",
       "stream": "stderr",
       "text": [
        "DEBUG:aietes.aietes.Node:instance created\n"
       ]
      },
      {
       "output_type": "stream",
       "stream": "stderr",
       "text": [
        "DEBUG:aietes:Generating node Victor with config {'max_turn': [4.5, 4.5, 4.5], 'mac': 'ALOHA', 'position_generation': 'center', 'memory_model': 'global', 'app': 'Null', 'phy': 'PHY', 'Behaviour': {'nearest_neighbours': 4, 'protocol': 'Waypoint', 'waypoint_factor': [0.01], 'neighbourhood_max_rad': 100, 'waypoint_style': 'patrolCube', 'update_rate': 0.3, 'positional_accuracy': [5.0], 'schooling_factor': [0.01], 'repulsive_factor': [0.125], 'collision_avoidance_d': [50.0], 'clumping_factor': 0.0, 'neighbourhood_min_rad': 10}, 'Application': {'packet_count': 0, 'distribution': [1], 'protocol': ['Null'], 'packet_rate': 1.0}, 'MAC': {'ack_packet_length': 24, 'protocol': 'ALOHA'}, 'max_speed': [2.3], 'PHY': {'receive_power': -3.0, 'max_transmit_power': 250.0, 'listen_power': -30.0, 'variable_bandwidth': False, 'var_power': {}, 'bandwidth': 1.0, 'frequency': 20.0, 'transmit_power': 250.0, 'threshold': {'SIR': 15.0, 'SNR': 20.0, 'LIS': 3.0}, 'bandwidth_to_bit_ratio': 1.0}, 'net': 'RoutingTable', 'bev': 'Null', 'cruising_speed': [1.4], 'Network': {'protocol': 'RoutingTable'}}\n"
       ]
      },
      {
       "output_type": "stream",
       "stream": "stderr",
       "text": [
        "DEBUG:aietes:Gave node Victor a center vector: (525, 462, 480)\n"
       ]
      },
      {
       "output_type": "stream",
       "stream": "stderr",
       "text": [
        "DEBUG:aietes.aietes.Node.App:Null:creating instance\n"
       ]
      },
      {
       "output_type": "stream",
       "stream": "stderr",
       "text": [
        "DEBUG:aietes.aietes.Node.App:Null:Taking Packet_Rate from config: 1.0\n"
       ]
      },
      {
       "output_type": "stream",
       "stream": "stderr",
       "text": [
        "DEBUG:aietes.aietes.Node.Bev:Waypoint:creating instance\n"
       ]
      },
      {
       "output_type": "stream",
       "stream": "stderr",
       "text": [
        "DEBUG:aietes.aietes.Node.Bev:Waypoint:Generating waypoints: patrolCube\n"
       ]
      },
      {
       "output_type": "stream",
       "stream": "stderr",
       "text": [
        "DEBUG:aietes.Behaviour:Waypoint: [ 333.333  333.333  333.333],50\n"
       ]
      },
      {
       "output_type": "stream",
       "stream": "stderr",
       "text": [
        "DEBUG:aietes.Behaviour:Waypoint: [ 666.667  333.333  333.333],50\n"
       ]
      },
      {
       "output_type": "stream",
       "stream": "stderr",
       "text": [
        "DEBUG:aietes.Behaviour:Waypoint: [ 666.667  666.667  333.333],50\n"
       ]
      },
      {
       "output_type": "stream",
       "stream": "stderr",
       "text": [
        "DEBUG:aietes.Behaviour:Waypoint: [ 333.333  666.667  333.333],50\n"
       ]
      },
      {
       "output_type": "stream",
       "stream": "stderr",
       "text": [
        "DEBUG:aietes.Behaviour:Waypoint: [ 333.333  333.333  666.667],50\n"
       ]
      },
      {
       "output_type": "stream",
       "stream": "stderr",
       "text": [
        "DEBUG:aietes.Behaviour:Waypoint: [ 666.667  333.333  666.667],50\n"
       ]
      },
      {
       "output_type": "stream",
       "stream": "stderr",
       "text": [
        "DEBUG:aietes.Behaviour:Waypoint: [ 666.667  666.667  666.667],50\n"
       ]
      },
      {
       "output_type": "stream",
       "stream": "stderr",
       "text": [
        "DEBUG:aietes.Behaviour:Waypoint: [ 333.333  666.667  666.667],50\n"
       ]
      },
      {
       "output_type": "stream",
       "stream": "stderr",
       "text": [
        "DEBUG:aietes.Behaviour:End of Position List\n"
       ]
      },
      {
       "output_type": "stream",
       "stream": "stderr",
       "text": [
        "DEBUG:aietes.aietes.Node:instance created\n"
       ]
      },
      {
       "output_type": "stream",
       "stream": "stderr",
       "text": [
        "INFO:aietes.aietes.Fleet:creating instance\n"
       ]
      },
      {
       "output_type": "stream",
       "stream": "stderr",
       "text": [
        "INFO:aietes:Initialising Simulation clumping(0.000000)-1, to run for 1000.0 steps\n"
       ]
      },
      {
       "output_type": "stream",
       "stream": "stderr",
       "text": [
        "INFO:aietes.aietes.Fleet:Initialised Node Lifecycle\n"
       ]
      },
      {
       "output_type": "stream",
       "stream": "stderr",
       "text": [
        "DEBUG:aietes.aietes.Node:Initialised Node Lifecycle\n"
       ]
      },
      {
       "output_type": "stream",
       "stream": "stderr",
       "text": [
        "DEBUG:aietes.aietes.Node.App:Null:No Destination defined, defaulting to \"Any\"\n"
       ]
      },
      {
       "output_type": "stream",
       "stream": "stderr",
       "text": [
        "DEBUG:aietes.aietes.Node:Initialised Node Lifecycle\n"
       ]
      },
      {
       "output_type": "stream",
       "stream": "stderr",
       "text": [
        "DEBUG:aietes.aietes.Node.App:Null:No Destination defined, defaulting to \"Any\"\n"
       ]
      },
      {
       "output_type": "stream",
       "stream": "stderr",
       "text": [
        "DEBUG:aietes.aietes.Node:Initialised Node Lifecycle\n"
       ]
      },
      {
       "output_type": "stream",
       "stream": "stderr",
       "text": [
        "DEBUG:aietes.aietes.Node.App:Null:No Destination defined, defaulting to \"Any\"\n"
       ]
      },
      {
       "output_type": "stream",
       "stream": "stderr",
       "text": [
        "DEBUG:aietes.aietes.Node:Initialised Node Lifecycle\n"
       ]
      },
      {
       "output_type": "stream",
       "stream": "stderr",
       "text": [
        "DEBUG:aietes.aietes.Node.App:Null:No Destination defined, defaulting to \"Any\"\n"
       ]
      },
      {
       "output_type": "stream",
       "stream": "stderr",
       "text": [
        "DEBUG:aietes.aietes.Node:Initialised Node Lifecycle\n"
       ]
      },
      {
       "output_type": "stream",
       "stream": "stderr",
       "text": [
        "DEBUG:aietes.aietes.Node.App:Null:No Destination defined, defaulting to \"Any\"\n"
       ]
      },
      {
       "output_type": "stream",
       "stream": "stderr",
       "text": [
        "DEBUG:aietes.aietes.Node:Initialised Node Lifecycle\n"
       ]
      },
      {
       "output_type": "stream",
       "stream": "stderr",
       "text": [
        "DEBUG:aietes.aietes.Node.App:Null:No Destination defined, defaulting to \"Any\"\n"
       ]
      },
      {
       "output_type": "stream",
       "stream": "stderr",
       "text": [
        "DEBUG:aietes.aietes.Node:Initialised Node Lifecycle\n"
       ]
      },
      {
       "output_type": "stream",
       "stream": "stderr",
       "text": [
        "DEBUG:aietes.aietes.Node.App:Null:No Destination defined, defaulting to \"Any\"\n"
       ]
      },
      {
       "output_type": "stream",
       "stream": "stderr",
       "text": [
        "DEBUG:aietes.aietes.Node:Initialised Node Lifecycle\n"
       ]
      },
      {
       "output_type": "stream",
       "stream": "stderr",
       "text": [
        "DEBUG:aietes.aietes.Node.App:Null:No Destination defined, defaulting to \"Any\"\n"
       ]
      },
      {
       "output_type": "stream",
       "stream": "stderr",
       "text": [
        "INFO:aietes.aietes.Node.Bev:Waypoint:Moving to Next waypoint:[ 333.333  333.333  333.333]\n"
       ]
      },
      {
       "output_type": "stream",
       "stream": "stderr",
       "text": [
        "INFO:aietes.aietes.Node.Bev:Waypoint:Moving to Next waypoint:[ 333.333  333.333  333.333]\n"
       ]
      },
      {
       "output_type": "stream",
       "stream": "stderr",
       "text": [
        "INFO:aietes.aietes.Node.Bev:Waypoint:Moving to Next waypoint:[ 333.333  333.333  333.333]\n"
       ]
      },
      {
       "output_type": "stream",
       "stream": "stderr",
       "text": [
        "INFO:aietes.aietes.Node.Bev:Waypoint:Moving to Next waypoint:[ 333.333  333.333  333.333]\n"
       ]
      },
      {
       "output_type": "stream",
       "stream": "stderr",
       "text": [
        "INFO:aietes.aietes.Node.Bev:Waypoint:Moving to Next waypoint:[ 333.333  333.333  333.333]\n"
       ]
      },
      {
       "output_type": "stream",
       "stream": "stderr",
       "text": [
        "INFO:aietes.aietes.Node.Bev:Waypoint:Moving to Next waypoint:[ 333.333  333.333  333.333]\n"
       ]
      },
      {
       "output_type": "stream",
       "stream": "stderr",
       "text": [
        "INFO:aietes.aietes.Node.Bev:Waypoint:Moving to Next waypoint:[ 333.333  333.333  333.333]\n"
       ]
      },
      {
       "output_type": "stream",
       "stream": "stderr",
       "text": [
        "INFO:aietes.aietes.Node.Bev:Waypoint:Moving to Next waypoint:[ 333.333  333.333  333.333]\n"
       ]
      },
      {
       "output_type": "stream",
       "stream": "stderr",
       "text": [
        "INFO:aietes.aietes.Node.Bev:Waypoint:Moving to Next waypoint:[ 666.667  333.333  333.333]\n"
       ]
      },
      {
       "output_type": "stream",
       "stream": "stderr",
       "text": [
        "INFO:aietes.aietes.Node.Bev:Waypoint:Moving to Next waypoint:[ 666.667  333.333  333.333]\n"
       ]
      },
      {
       "output_type": "stream",
       "stream": "stderr",
       "text": [
        "INFO:aietes.aietes.Node.Bev:Waypoint:Moving to Next waypoint:[ 666.667  333.333  333.333]\n"
       ]
      },
      {
       "output_type": "stream",
       "stream": "stderr",
       "text": [
        "INFO:aietes.aietes.Node.Bev:Waypoint:Moving to Next waypoint:[ 666.667  333.333  333.333]\n"
       ]
      },
      {
       "output_type": "stream",
       "stream": "stderr",
       "text": [
        "INFO:aietes.aietes.Node.Bev:Waypoint:Moving to Next waypoint:[ 666.667  333.333  333.333]\n"
       ]
      },
      {
       "output_type": "stream",
       "stream": "stderr",
       "text": [
        "INFO:aietes:Finished Simulation at 1000.0\n"
       ]
      },
      {
       "output_type": "stream",
       "stream": "stdout",
       "text": [
        "2,"
       ]
      },
      {
       "output_type": "stream",
       "stream": "stderr",
       "text": [
        "INFO:aietes:using given config\n"
       ]
      },
      {
       "output_type": "stream",
       "stream": "stderr",
       "text": [
        "DEBUG:aietes.Environment:creating instance\n"
       ]
      },
      {
       "output_type": "stream",
       "stream": "stderr",
       "text": [
        "DEBUG:aietes:Generating node Golf with config {'max_turn': [4.5, 4.5, 4.5], 'mac': 'ALOHA', 'position_generation': 'center', 'memory_model': 'global', 'app': 'Null', 'phy': 'PHY', 'Behaviour': {'nearest_neighbours': 4, 'protocol': 'Waypoint', 'waypoint_factor': [0.01], 'neighbourhood_max_rad': 100, 'waypoint_style': 'patrolCube', 'update_rate': 0.3, 'positional_accuracy': [5.0], 'schooling_factor': [0.01], 'repulsive_factor': [0.125], 'collision_avoidance_d': [50.0], 'clumping_factor': 0.0, 'neighbourhood_min_rad': 10}, 'Application': {'packet_count': 0, 'distribution': [1], 'protocol': ['Null'], 'packet_rate': 1.0}, 'MAC': {'ack_packet_length': 24, 'protocol': 'ALOHA'}, 'max_speed': [2.3], 'PHY': {'receive_power': -3.0, 'max_transmit_power': 250.0, 'listen_power': -30.0, 'variable_bandwidth': False, 'var_power': {}, 'bandwidth': 1.0, 'frequency': 20.0, 'transmit_power': 250.0, 'threshold': {'SIR': 15.0, 'SNR': 20.0, 'LIS': 3.0}, 'bandwidth_to_bit_ratio': 1.0}, 'net': 'RoutingTable', 'bev': 'Null', 'cruising_speed': [1.4], 'Network': {'protocol': 'RoutingTable'}}\n"
       ]
      },
      {
       "output_type": "stream",
       "stream": "stderr",
       "text": [
        "DEBUG:aietes:Gave node Golf a center vector: (508, 524, 537)\n"
       ]
      },
      {
       "output_type": "stream",
       "stream": "stderr",
       "text": [
        "DEBUG:aietes.aietes.Node.App:Null:creating instance\n"
       ]
      },
      {
       "output_type": "stream",
       "stream": "stderr",
       "text": [
        "DEBUG:aietes.aietes.Node.App:Null:Taking Packet_Rate from config: 1.0\n"
       ]
      },
      {
       "output_type": "stream",
       "stream": "stderr",
       "text": [
        "DEBUG:aietes.aietes.Node.Bev:Waypoint:creating instance\n"
       ]
      },
      {
       "output_type": "stream",
       "stream": "stderr",
       "text": [
        "DEBUG:aietes.aietes.Node.Bev:Waypoint:Generating waypoints: patrolCube\n"
       ]
      },
      {
       "output_type": "stream",
       "stream": "stderr",
       "text": [
        "DEBUG:aietes.Behaviour:Waypoint: [ 333.333  333.333  333.333],50\n"
       ]
      },
      {
       "output_type": "stream",
       "stream": "stderr",
       "text": [
        "DEBUG:aietes.Behaviour:Waypoint: [ 666.667  333.333  333.333],50\n"
       ]
      },
      {
       "output_type": "stream",
       "stream": "stderr",
       "text": [
        "DEBUG:aietes.Behaviour:Waypoint: [ 666.667  666.667  333.333],50\n"
       ]
      },
      {
       "output_type": "stream",
       "stream": "stderr",
       "text": [
        "DEBUG:aietes.Behaviour:Waypoint: [ 333.333  666.667  333.333],50\n"
       ]
      },
      {
       "output_type": "stream",
       "stream": "stderr",
       "text": [
        "DEBUG:aietes.Behaviour:Waypoint: [ 333.333  333.333  666.667],50\n"
       ]
      },
      {
       "output_type": "stream",
       "stream": "stderr",
       "text": [
        "DEBUG:aietes.Behaviour:Waypoint: [ 666.667  333.333  666.667],50\n"
       ]
      },
      {
       "output_type": "stream",
       "stream": "stderr",
       "text": [
        "DEBUG:aietes.Behaviour:Waypoint: [ 666.667  666.667  666.667],50\n"
       ]
      },
      {
       "output_type": "stream",
       "stream": "stderr",
       "text": [
        "DEBUG:aietes.Behaviour:Waypoint: [ 333.333  666.667  666.667],50\n"
       ]
      },
      {
       "output_type": "stream",
       "stream": "stderr",
       "text": [
        "DEBUG:aietes.Behaviour:End of Position List\n"
       ]
      },
      {
       "output_type": "stream",
       "stream": "stderr",
       "text": [
        "DEBUG:aietes.aietes.Node:instance created\n"
       ]
      },
      {
       "output_type": "stream",
       "stream": "stderr",
       "text": [
        "DEBUG:aietes:Generating node Zulu with config {'max_turn': [4.5, 4.5, 4.5], 'mac': 'ALOHA', 'position_generation': 'center', 'memory_model': 'global', 'app': 'Null', 'phy': 'PHY', 'Behaviour': {'nearest_neighbours': 4, 'protocol': 'Waypoint', 'waypoint_factor': [0.01], 'neighbourhood_max_rad': 100, 'waypoint_style': 'patrolCube', 'update_rate': 0.3, 'positional_accuracy': [5.0], 'schooling_factor': [0.01], 'repulsive_factor': [0.125], 'collision_avoidance_d': [50.0], 'clumping_factor': 0.0, 'neighbourhood_min_rad': 10}, 'Application': {'packet_count': 0, 'distribution': [1], 'protocol': ['Null'], 'packet_rate': 1.0}, 'MAC': {'ack_packet_length': 24, 'protocol': 'ALOHA'}, 'max_speed': [2.3], 'PHY': {'receive_power': -3.0, 'max_transmit_power': 250.0, 'listen_power': -30.0, 'variable_bandwidth': False, 'var_power': {}, 'bandwidth': 1.0, 'frequency': 20.0, 'transmit_power': 250.0, 'threshold': {'SIR': 15.0, 'SNR': 20.0, 'LIS': 3.0}, 'bandwidth_to_bit_ratio': 1.0}, 'net': 'RoutingTable', 'bev': 'Null', 'cruising_speed': [1.4], 'Network': {'protocol': 'RoutingTable'}}\n"
       ]
      },
      {
       "output_type": "stream",
       "stream": "stderr",
       "text": [
        "DEBUG:aietes:Gave node Zulu a center vector: (523, 517, 518)\n"
       ]
      },
      {
       "output_type": "stream",
       "stream": "stderr",
       "text": [
        "DEBUG:aietes.aietes.Node.App:Null:creating instance\n"
       ]
      },
      {
       "output_type": "stream",
       "stream": "stderr",
       "text": [
        "DEBUG:aietes.aietes.Node.App:Null:Taking Packet_Rate from config: 1.0\n"
       ]
      },
      {
       "output_type": "stream",
       "stream": "stderr",
       "text": [
        "DEBUG:aietes.aietes.Node.Bev:Waypoint:creating instance\n"
       ]
      },
      {
       "output_type": "stream",
       "stream": "stderr",
       "text": [
        "DEBUG:aietes.aietes.Node.Bev:Waypoint:Generating waypoints: patrolCube\n"
       ]
      },
      {
       "output_type": "stream",
       "stream": "stderr",
       "text": [
        "DEBUG:aietes.Behaviour:Waypoint: [ 333.333  333.333  333.333],50\n"
       ]
      },
      {
       "output_type": "stream",
       "stream": "stderr",
       "text": [
        "DEBUG:aietes.Behaviour:Waypoint: [ 666.667  333.333  333.333],50\n"
       ]
      },
      {
       "output_type": "stream",
       "stream": "stderr",
       "text": [
        "DEBUG:aietes.Behaviour:Waypoint: [ 666.667  666.667  333.333],50\n"
       ]
      },
      {
       "output_type": "stream",
       "stream": "stderr",
       "text": [
        "DEBUG:aietes.Behaviour:Waypoint: [ 333.333  666.667  333.333],50\n"
       ]
      },
      {
       "output_type": "stream",
       "stream": "stderr",
       "text": [
        "DEBUG:aietes.Behaviour:Waypoint: [ 333.333  333.333  666.667],50\n"
       ]
      },
      {
       "output_type": "stream",
       "stream": "stderr",
       "text": [
        "DEBUG:aietes.Behaviour:Waypoint: [ 666.667  333.333  666.667],50\n"
       ]
      },
      {
       "output_type": "stream",
       "stream": "stderr",
       "text": [
        "DEBUG:aietes.Behaviour:Waypoint: [ 666.667  666.667  666.667],50\n"
       ]
      },
      {
       "output_type": "stream",
       "stream": "stderr",
       "text": [
        "DEBUG:aietes.Behaviour:Waypoint: [ 333.333  666.667  666.667],50\n"
       ]
      },
      {
       "output_type": "stream",
       "stream": "stderr",
       "text": [
        "DEBUG:aietes.Behaviour:End of Position List\n"
       ]
      },
      {
       "output_type": "stream",
       "stream": "stderr",
       "text": [
        "DEBUG:aietes.aietes.Node:instance created\n"
       ]
      },
      {
       "output_type": "stream",
       "stream": "stderr",
       "text": [
        "DEBUG:aietes:Generating node Bravo with config {'max_turn': [4.5, 4.5, 4.5], 'mac': 'ALOHA', 'position_generation': 'center', 'memory_model': 'global', 'app': 'Null', 'phy': 'PHY', 'Behaviour': {'nearest_neighbours': 4, 'protocol': 'Waypoint', 'waypoint_factor': [0.01], 'neighbourhood_max_rad': 100, 'waypoint_style': 'patrolCube', 'update_rate': 0.3, 'positional_accuracy': [5.0], 'schooling_factor': [0.01], 'repulsive_factor': [0.125], 'collision_avoidance_d': [50.0], 'clumping_factor': 0.0, 'neighbourhood_min_rad': 10}, 'Application': {'packet_count': 0, 'distribution': [1], 'protocol': ['Null'], 'packet_rate': 1.0}, 'MAC': {'ack_packet_length': 24, 'protocol': 'ALOHA'}, 'max_speed': [2.3], 'PHY': {'receive_power': -3.0, 'max_transmit_power': 250.0, 'listen_power': -30.0, 'variable_bandwidth': False, 'var_power': {}, 'bandwidth': 1.0, 'frequency': 20.0, 'transmit_power': 250.0, 'threshold': {'SIR': 15.0, 'SNR': 20.0, 'LIS': 3.0}, 'bandwidth_to_bit_ratio': 1.0}, 'net': 'RoutingTable', 'bev': 'Null', 'cruising_speed': [1.4], 'Network': {'protocol': 'RoutingTable'}}\n"
       ]
      },
      {
       "output_type": "stream",
       "stream": "stderr",
       "text": [
        "DEBUG:aietes:Gave node Bravo a center vector: (547, 524, 513)\n"
       ]
      },
      {
       "output_type": "stream",
       "stream": "stderr",
       "text": [
        "DEBUG:aietes.aietes.Node.App:Null:creating instance\n"
       ]
      },
      {
       "output_type": "stream",
       "stream": "stderr",
       "text": [
        "DEBUG:aietes.aietes.Node.App:Null:Taking Packet_Rate from config: 1.0\n"
       ]
      },
      {
       "output_type": "stream",
       "stream": "stderr",
       "text": [
        "DEBUG:aietes.aietes.Node.Bev:Waypoint:creating instance\n"
       ]
      },
      {
       "output_type": "stream",
       "stream": "stderr",
       "text": [
        "DEBUG:aietes.aietes.Node.Bev:Waypoint:Generating waypoints: patrolCube\n"
       ]
      },
      {
       "output_type": "stream",
       "stream": "stderr",
       "text": [
        "DEBUG:aietes.Behaviour:Waypoint: [ 333.333  333.333  333.333],50\n"
       ]
      },
      {
       "output_type": "stream",
       "stream": "stderr",
       "text": [
        "DEBUG:aietes.Behaviour:Waypoint: [ 666.667  333.333  333.333],50\n"
       ]
      },
      {
       "output_type": "stream",
       "stream": "stderr",
       "text": [
        "DEBUG:aietes.Behaviour:Waypoint: [ 666.667  666.667  333.333],50\n"
       ]
      },
      {
       "ename": "KeyboardInterrupt",
       "evalue": "",
       "output_type": "pyerr",
       "traceback": [
        "\u001b[1;31m---------------------------------------------------------------------------\u001b[0m\n\u001b[1;31mKeyboardInterrupt\u001b[0m                         Traceback (most recent call last)",
        "\u001b[1;32m<ipython-input-2-5026129f9dc7>\u001b[0m in \u001b[0;36m<module>\u001b[1;34m()\u001b[0m\n\u001b[1;32m----> 1\u001b[1;33m \u001b[0me\u001b[0m \u001b[1;33m=\u001b[0m \u001b[0mrun_exp\u001b[0m\u001b[1;33m(\u001b[0m\u001b[0mset_exp\u001b[0m\u001b[1;33m(\u001b[0m\u001b[1;33m)\u001b[0m\u001b[1;33m)\u001b[0m\u001b[1;33m\u001b[0m\u001b[0m\n\u001b[0m",
        "\u001b[1;32m<ipython-input-1-0a5a85e5752e>\u001b[0m in \u001b[0;36mrun_exp\u001b[1;34m(exp)\u001b[0m\n\u001b[0;32m     15\u001b[0m     exp.run(title=\"8-clumping-10\",\n\u001b[0;32m     16\u001b[0m             \u001b[0mruncount\u001b[0m\u001b[1;33m=\u001b[0m\u001b[1;36m5\u001b[0m\u001b[1;33m,\u001b[0m\u001b[1;33m\u001b[0m\u001b[0m\n\u001b[1;32m---> 17\u001b[1;33m             threaded=False)\n\u001b[0m\u001b[0;32m     18\u001b[0m \u001b[1;33m\u001b[0m\u001b[0m\n\u001b[0;32m     19\u001b[0m     \u001b[1;32mreturn\u001b[0m \u001b[0mexp\u001b[0m\u001b[1;33m\u001b[0m\u001b[0m\n",
        "\u001b[1;32m/home/andrewbolster/src/aietes/src/polybos/__init__.py\u001b[0m in \u001b[0;36mrun\u001b[1;34m(self, threaded, **kwargs)\u001b[0m\n\u001b[0;32m    266\u001b[0m                     \u001b[0mscenario\u001b[0m\u001b[1;33m.\u001b[0m\u001b[0mrunThreaded\u001b[0m\u001b[1;33m(\u001b[0m\u001b[0mruncount\u001b[0m\u001b[1;33m=\u001b[0m\u001b[0mself\u001b[0m\u001b[1;33m.\u001b[0m\u001b[0mruncount\u001b[0m\u001b[1;33m)\u001b[0m\u001b[1;33m\u001b[0m\u001b[0m\n\u001b[0;32m    267\u001b[0m                 \u001b[1;32melse\u001b[0m\u001b[1;33m:\u001b[0m\u001b[1;33m\u001b[0m\u001b[0m\n\u001b[1;32m--> 268\u001b[1;33m                     \u001b[0mscenario\u001b[0m\u001b[1;33m.\u001b[0m\u001b[0mrun\u001b[0m\u001b[1;33m(\u001b[0m\u001b[0mruncount\u001b[0m\u001b[1;33m=\u001b[0m\u001b[0mself\u001b[0m\u001b[1;33m.\u001b[0m\u001b[0mruncount\u001b[0m\u001b[1;33m)\u001b[0m\u001b[1;33m\u001b[0m\u001b[0m\n\u001b[0m\u001b[0;32m    269\u001b[0m         \u001b[1;32mfinally\u001b[0m\u001b[1;33m:\u001b[0m\u001b[1;33m\u001b[0m\u001b[0m\n\u001b[0;32m    270\u001b[0m             \u001b[0mos\u001b[0m\u001b[1;33m.\u001b[0m\u001b[0mchdir\u001b[0m\u001b[1;33m(\u001b[0m\u001b[0mself\u001b[0m\u001b[1;33m.\u001b[0m\u001b[0morig_path\u001b[0m\u001b[1;33m)\u001b[0m\u001b[1;33m\u001b[0m\u001b[0m\n",
        "\u001b[1;32m/home/andrewbolster/src/aietes/src/polybos/__init__.py\u001b[0m in \u001b[0;36mrun\u001b[1;34m(self, *args, **kwargs)\u001b[0m\n\u001b[0;32m     89\u001b[0m                                  \u001b[0mprogress_display\u001b[0m\u001b[1;33m=\u001b[0m\u001b[0mFalse\u001b[0m\u001b[1;33m\u001b[0m\u001b[0m\n\u001b[0;32m     90\u001b[0m                 )\n\u001b[1;32m---> 91\u001b[1;33m                 \u001b[0mprep_stats\u001b[0m \u001b[1;33m=\u001b[0m \u001b[0msim\u001b[0m\u001b[1;33m.\u001b[0m\u001b[0mprepare\u001b[0m\u001b[1;33m(\u001b[0m\u001b[1;33m)\u001b[0m\u001b[1;33m\u001b[0m\u001b[0m\n\u001b[0m\u001b[0;32m     92\u001b[0m                 \u001b[0msim_stats\u001b[0m \u001b[1;33m=\u001b[0m \u001b[0msim\u001b[0m\u001b[1;33m.\u001b[0m\u001b[0msimulate\u001b[0m\u001b[1;33m(\u001b[0m\u001b[1;33m)\u001b[0m\u001b[1;33m\u001b[0m\u001b[0m\n\u001b[0;32m     93\u001b[0m                 \u001b[0mself\u001b[0m\u001b[1;33m.\u001b[0m\u001b[0mdatarun\u001b[0m\u001b[1;33m[\u001b[0m\u001b[0mrun\u001b[0m\u001b[1;33m]\u001b[0m \u001b[1;33m=\u001b[0m \u001b[0msim\u001b[0m\u001b[1;33m.\u001b[0m\u001b[0mgenerateDataPackage\u001b[0m\u001b[1;33m(\u001b[0m\u001b[1;33m)\u001b[0m\u001b[1;33m\u001b[0m\u001b[0m\n",
        "\u001b[1;32m/home/andrewbolster/src/aietes/src/aietes/__init__.pyc\u001b[0m in \u001b[0;36mprepare\u001b[1;34m(self, waits, *args, **kwargs)\u001b[0m\n\u001b[0;32m    111\u001b[0m \u001b[1;33m\u001b[0m\u001b[0m\n\u001b[0;32m    112\u001b[0m         \u001b[0mself\u001b[0m\u001b[1;33m.\u001b[0m\u001b[0menvironment\u001b[0m \u001b[1;33m=\u001b[0m \u001b[0mself\u001b[0m\u001b[1;33m.\u001b[0m\u001b[0mconfigureEnvironment\u001b[0m\u001b[1;33m(\u001b[0m\u001b[0mself\u001b[0m\u001b[1;33m.\u001b[0m\u001b[0mconfig\u001b[0m\u001b[1;33m.\u001b[0m\u001b[0mEnvironment\u001b[0m\u001b[1;33m)\u001b[0m\u001b[1;33m\u001b[0m\u001b[0m\n\u001b[1;32m--> 113\u001b[1;33m         \u001b[0mself\u001b[0m\u001b[1;33m.\u001b[0m\u001b[0mnodes\u001b[0m \u001b[1;33m=\u001b[0m \u001b[0mself\u001b[0m\u001b[1;33m.\u001b[0m\u001b[0mconfigureNodes\u001b[0m\u001b[1;33m(\u001b[0m\u001b[1;33m)\u001b[0m\u001b[1;33m\u001b[0m\u001b[0m\n\u001b[0m\u001b[0;32m    114\u001b[0m \u001b[1;33m\u001b[0m\u001b[0m\n\u001b[0;32m    115\u001b[0m         \u001b[1;31m# Single Fleet to control all\u001b[0m\u001b[1;33m\u001b[0m\u001b[1;33m\u001b[0m\u001b[0m\n",
        "\u001b[1;32m/home/andrewbolster/src/aietes/src/aietes/__init__.pyc\u001b[0m in \u001b[0;36mconfigureNodes\u001b[1;34m(self)\u001b[0m\n\u001b[0;32m    366\u001b[0m                 \u001b[0mself\u001b[0m\u001b[1;33m,\u001b[0m\u001b[1;33m\u001b[0m\u001b[0m\n\u001b[0;32m    367\u001b[0m                 \u001b[0mconfig\u001b[0m\u001b[1;33m,\u001b[0m\u001b[1;33m\u001b[0m\u001b[0m\n\u001b[1;32m--> 368\u001b[1;33m                 \u001b[0mvector\u001b[0m\u001b[1;33m=\u001b[0m\u001b[0mself\u001b[0m\u001b[1;33m.\u001b[0m\u001b[0mvectorGen\u001b[0m\u001b[1;33m(\u001b[0m\u001b[0mnode_name\u001b[0m\u001b[1;33m,\u001b[0m \u001b[0mconfig\u001b[0m\u001b[1;33m)\u001b[0m\u001b[1;33m\u001b[0m\u001b[0m\n\u001b[0m\u001b[0;32m    369\u001b[0m             )\n\u001b[0;32m    370\u001b[0m             \u001b[0mnode_list\u001b[0m\u001b[1;33m.\u001b[0m\u001b[0mappend\u001b[0m\u001b[1;33m(\u001b[0m\u001b[0mnew_node\u001b[0m\u001b[1;33m)\u001b[0m\u001b[1;33m\u001b[0m\u001b[0m\n",
        "\u001b[1;32m/home/andrewbolster/src/aietes/src/aietes/Node.pyc\u001b[0m in \u001b[0;36m__init__\u001b[1;34m(self, name, simulation, node_config, vector, **kwargs)\u001b[0m\n\u001b[0;32m    104\u001b[0m         self.behaviour = behave_mod(node=self,\n\u001b[0;32m    105\u001b[0m                                     \u001b[0mbev_config\u001b[0m\u001b[1;33m=\u001b[0m\u001b[0mself\u001b[0m\u001b[1;33m.\u001b[0m\u001b[0mconfig\u001b[0m\u001b[1;33m[\u001b[0m\u001b[1;34m'Behaviour'\u001b[0m\u001b[1;33m]\u001b[0m\u001b[1;33m,\u001b[0m\u001b[1;33m\u001b[0m\u001b[0m\n\u001b[1;32m--> 106\u001b[1;33m                                     map=self.simulation.environment.map)\n\u001b[0m\u001b[0;32m    107\u001b[0m \u001b[1;33m\u001b[0m\u001b[0m\n\u001b[0;32m    108\u001b[0m         \u001b[1;31m#\u001b[0m\u001b[1;33m\u001b[0m\u001b[1;33m\u001b[0m\u001b[0m\n",
        "\u001b[1;32m/home/andrewbolster/src/aietes/src/aietes/Behaviour.pyc\u001b[0m in \u001b[0;36m__init__\u001b[1;34m(self, *args, **kwargs)\u001b[0m\n\u001b[0;32m    393\u001b[0m     \u001b[1;32mdef\u001b[0m \u001b[0m__init__\u001b[0m\u001b[1;33m(\u001b[0m\u001b[0mself\u001b[0m\u001b[1;33m,\u001b[0m \u001b[1;33m*\u001b[0m\u001b[0margs\u001b[0m\u001b[1;33m,\u001b[0m \u001b[1;33m**\u001b[0m\u001b[0mkwargs\u001b[0m\u001b[1;33m)\u001b[0m\u001b[1;33m:\u001b[0m\u001b[1;33m\u001b[0m\u001b[0m\n\u001b[0;32m    394\u001b[0m         \u001b[0mFlock\u001b[0m\u001b[1;33m.\u001b[0m\u001b[0m__init__\u001b[0m\u001b[1;33m(\u001b[0m\u001b[0mself\u001b[0m\u001b[1;33m,\u001b[0m \u001b[1;33m*\u001b[0m\u001b[0margs\u001b[0m\u001b[1;33m,\u001b[0m \u001b[1;33m**\u001b[0m\u001b[0mkwargs\u001b[0m\u001b[1;33m)\u001b[0m\u001b[1;33m\u001b[0m\u001b[0m\n\u001b[1;32m--> 395\u001b[1;33m         \u001b[0mWaypointMixin\u001b[0m\u001b[1;33m.\u001b[0m\u001b[0m__init__\u001b[0m\u001b[1;33m(\u001b[0m\u001b[0mself\u001b[0m\u001b[1;33m,\u001b[0m \u001b[1;33m*\u001b[0m\u001b[0margs\u001b[0m\u001b[1;33m,\u001b[0m \u001b[1;33m**\u001b[0m\u001b[0mkwargs\u001b[0m\u001b[1;33m)\u001b[0m\u001b[1;33m\u001b[0m\u001b[0m\n\u001b[0m\u001b[0;32m    396\u001b[0m \u001b[1;33m\u001b[0m\u001b[0m\n\u001b[0;32m    397\u001b[0m \u001b[1;33m\u001b[0m\u001b[0m\n",
        "\u001b[1;32m/home/andrewbolster/src/aietes/src/aietes/Behaviour.pyc\u001b[0m in \u001b[0;36m__init__\u001b[1;34m(self, *args, **kwargs)\u001b[0m\n\u001b[0;32m    357\u001b[0m             \u001b[1;32mif\u001b[0m \u001b[0m__debug__\u001b[0m\u001b[1;33m:\u001b[0m\u001b[1;33m\u001b[0m\u001b[0m\n\u001b[0;32m    358\u001b[0m                 \u001b[0mself\u001b[0m\u001b[1;33m.\u001b[0m\u001b[0mlogger\u001b[0m\u001b[1;33m.\u001b[0m\u001b[0mdebug\u001b[0m\u001b[1;33m(\u001b[0m\u001b[1;34m\"Generating waypoints: %s\"\u001b[0m \u001b[1;33m%\u001b[0m \u001b[0mg\u001b[0m\u001b[1;33m.\u001b[0m\u001b[0m__name__\u001b[0m\u001b[1;33m)\u001b[0m\u001b[1;33m\u001b[0m\u001b[0m\n\u001b[1;32m--> 359\u001b[1;33m             \u001b[0mg\u001b[0m\u001b[1;33m(\u001b[0m\u001b[1;33m)\u001b[0m\u001b[1;33m\u001b[0m\u001b[0m\n\u001b[0m\u001b[0;32m    360\u001b[0m         \u001b[0mself\u001b[0m\u001b[1;33m.\u001b[0m\u001b[0mbehaviours\u001b[0m\u001b[1;33m.\u001b[0m\u001b[0mappend\u001b[0m\u001b[1;33m(\u001b[0m\u001b[0mself\u001b[0m\u001b[1;33m.\u001b[0m\u001b[0mwaypointVector\u001b[0m\u001b[1;33m)\u001b[0m\u001b[1;33m\u001b[0m\u001b[0m\n\u001b[0;32m    361\u001b[0m \u001b[1;33m\u001b[0m\u001b[0m\n",
        "\u001b[1;32m/home/andrewbolster/src/aietes/src/aietes/Behaviour.pyc\u001b[0m in \u001b[0;36mpatrolCube\u001b[1;34m(self)\u001b[0m\n\u001b[0;32m    371\u001b[0m         )\n\u001b[0;32m    372\u001b[0m         \u001b[0mself\u001b[0m\u001b[1;33m.\u001b[0m\u001b[0mcubepatrolroute\u001b[0m \u001b[1;33m=\u001b[0m \u001b[1;33m[\u001b[0m\u001b[1;33m(\u001b[0m\u001b[0mshape\u001b[0m \u001b[1;33m*\u001b[0m \u001b[1;33m(\u001b[0m\u001b[1;33m(\u001b[0m\u001b[1;33m(\u001b[0m\u001b[0mvertex\u001b[0m \u001b[1;33m-\u001b[0m \u001b[1;36m0.5\u001b[0m\u001b[1;33m)\u001b[0m \u001b[1;33m/\u001b[0m \u001b[1;36m3\u001b[0m\u001b[1;33m)\u001b[0m \u001b[1;33m+\u001b[0m \u001b[1;36m0.5\u001b[0m\u001b[1;33m)\u001b[0m\u001b[1;33m,\u001b[0m \u001b[0mprox\u001b[0m\u001b[1;33m)\u001b[0m \u001b[1;32mfor\u001b[0m \u001b[0mvertex\u001b[0m \u001b[1;32min\u001b[0m \u001b[0mcubedef\u001b[0m\u001b[1;33m]\u001b[0m\u001b[1;33m\u001b[0m\u001b[0m\n\u001b[1;32m--> 373\u001b[1;33m         \u001b[0mself\u001b[0m\u001b[1;33m.\u001b[0m\u001b[0mnextwaypoint\u001b[0m \u001b[1;33m=\u001b[0m \u001b[0mself\u001b[0m\u001b[1;33m.\u001b[0m\u001b[0mwaypoint\u001b[0m\u001b[1;33m(\u001b[0m\u001b[0mself\u001b[0m\u001b[1;33m.\u001b[0m\u001b[0mcubepatrolroute\u001b[0m\u001b[1;33m)\u001b[0m\u001b[1;33m\u001b[0m\u001b[0m\n\u001b[0m\u001b[0;32m    374\u001b[0m         \u001b[0mself\u001b[0m\u001b[1;33m.\u001b[0m\u001b[0mnextwaypoint\u001b[0m\u001b[1;33m.\u001b[0m\u001b[0mmakeLoop\u001b[0m\u001b[1;33m(\u001b[0m\u001b[0mself\u001b[0m\u001b[1;33m.\u001b[0m\u001b[0mnextwaypoint\u001b[0m\u001b[1;33m)\u001b[0m\u001b[1;33m\u001b[0m\u001b[0m\n\u001b[0;32m    375\u001b[0m \u001b[1;33m\u001b[0m\u001b[0m\n",
        "\u001b[1;32m/home/andrewbolster/src/aietes/src/aietes/Behaviour.pyc\u001b[0m in \u001b[0;36m__init__\u001b[1;34m(self, positions, *args, **kwargs)\u001b[0m\n\u001b[0;32m    329\u001b[0m                     \u001b[0mself\u001b[0m\u001b[1;33m.\u001b[0m\u001b[0mlogger\u001b[0m\u001b[1;33m.\u001b[0m\u001b[0mdebug\u001b[0m\u001b[1;33m(\u001b[0m\u001b[1;34m\"End of Position List\"\u001b[0m\u001b[1;33m)\u001b[0m\u001b[1;33m\u001b[0m\u001b[0m\n\u001b[0;32m    330\u001b[0m             \u001b[1;32melse\u001b[0m\u001b[1;33m:\u001b[0m\u001b[1;33m\u001b[0m\u001b[0m\n\u001b[1;32m--> 331\u001b[1;33m                 \u001b[0mself\u001b[0m\u001b[1;33m.\u001b[0m\u001b[0mappend\u001b[0m\u001b[1;33m(\u001b[0m\u001b[0mpositions\u001b[0m\u001b[1;33m[\u001b[0m\u001b[1;36m1\u001b[0m\u001b[1;33m:\u001b[0m\u001b[1;33m]\u001b[0m\u001b[1;33m)\u001b[0m\u001b[1;33m\u001b[0m\u001b[0m\n\u001b[0m\u001b[0;32m    332\u001b[0m \u001b[1;33m\u001b[0m\u001b[0m\n\u001b[0;32m    333\u001b[0m         \u001b[1;32mdef\u001b[0m \u001b[0mappend\u001b[0m\u001b[1;33m(\u001b[0m\u001b[0mself\u001b[0m\u001b[1;33m,\u001b[0m \u001b[0mposition\u001b[0m\u001b[1;33m)\u001b[0m\u001b[1;33m:\u001b[0m\u001b[1;33m\u001b[0m\u001b[0m\n",
        "\u001b[1;32m/home/andrewbolster/src/aietes/src/aietes/Behaviour.pyc\u001b[0m in \u001b[0;36mappend\u001b[1;34m(self, position)\u001b[0m\n\u001b[0;32m    333\u001b[0m         \u001b[1;32mdef\u001b[0m \u001b[0mappend\u001b[0m\u001b[1;33m(\u001b[0m\u001b[0mself\u001b[0m\u001b[1;33m,\u001b[0m \u001b[0mposition\u001b[0m\u001b[1;33m)\u001b[0m\u001b[1;33m:\u001b[0m\u001b[1;33m\u001b[0m\u001b[0m\n\u001b[0;32m    334\u001b[0m             \u001b[1;32mif\u001b[0m \u001b[0mself\u001b[0m\u001b[1;33m.\u001b[0m\u001b[0mnext\u001b[0m \u001b[1;32mis\u001b[0m \u001b[0mNone\u001b[0m\u001b[1;33m:\u001b[0m\u001b[1;33m\u001b[0m\u001b[0m\n\u001b[1;32m--> 335\u001b[1;33m                 \u001b[0mself\u001b[0m\u001b[1;33m.\u001b[0m\u001b[0mnext\u001b[0m \u001b[1;33m=\u001b[0m \u001b[0mWaypointMixin\u001b[0m\u001b[1;33m.\u001b[0m\u001b[0mwaypoint\u001b[0m\u001b[1;33m(\u001b[0m\u001b[0mposition\u001b[0m\u001b[1;33m)\u001b[0m\u001b[1;33m\u001b[0m\u001b[0m\n\u001b[0m\u001b[0;32m    336\u001b[0m             \u001b[1;32melse\u001b[0m\u001b[1;33m:\u001b[0m\u001b[1;33m\u001b[0m\u001b[0m\n\u001b[0;32m    337\u001b[0m                 \u001b[0mself\u001b[0m\u001b[1;33m.\u001b[0m\u001b[0mnext\u001b[0m\u001b[1;33m.\u001b[0m\u001b[0mappend\u001b[0m\u001b[1;33m(\u001b[0m\u001b[0mposition\u001b[0m\u001b[1;33m)\u001b[0m\u001b[1;33m\u001b[0m\u001b[0m\n",
        "\u001b[1;32m/home/andrewbolster/src/aietes/src/aietes/Behaviour.pyc\u001b[0m in \u001b[0;36m__init__\u001b[1;34m(self, positions, *args, **kwargs)\u001b[0m\n\u001b[0;32m    329\u001b[0m                     \u001b[0mself\u001b[0m\u001b[1;33m.\u001b[0m\u001b[0mlogger\u001b[0m\u001b[1;33m.\u001b[0m\u001b[0mdebug\u001b[0m\u001b[1;33m(\u001b[0m\u001b[1;34m\"End of Position List\"\u001b[0m\u001b[1;33m)\u001b[0m\u001b[1;33m\u001b[0m\u001b[0m\n\u001b[0;32m    330\u001b[0m             \u001b[1;32melse\u001b[0m\u001b[1;33m:\u001b[0m\u001b[1;33m\u001b[0m\u001b[0m\n\u001b[1;32m--> 331\u001b[1;33m                 \u001b[0mself\u001b[0m\u001b[1;33m.\u001b[0m\u001b[0mappend\u001b[0m\u001b[1;33m(\u001b[0m\u001b[0mpositions\u001b[0m\u001b[1;33m[\u001b[0m\u001b[1;36m1\u001b[0m\u001b[1;33m:\u001b[0m\u001b[1;33m]\u001b[0m\u001b[1;33m)\u001b[0m\u001b[1;33m\u001b[0m\u001b[0m\n\u001b[0m\u001b[0;32m    332\u001b[0m \u001b[1;33m\u001b[0m\u001b[0m\n\u001b[0;32m    333\u001b[0m         \u001b[1;32mdef\u001b[0m \u001b[0mappend\u001b[0m\u001b[1;33m(\u001b[0m\u001b[0mself\u001b[0m\u001b[1;33m,\u001b[0m \u001b[0mposition\u001b[0m\u001b[1;33m)\u001b[0m\u001b[1;33m:\u001b[0m\u001b[1;33m\u001b[0m\u001b[0m\n",
        "\u001b[1;32m/home/andrewbolster/src/aietes/src/aietes/Behaviour.pyc\u001b[0m in \u001b[0;36mappend\u001b[1;34m(self, position)\u001b[0m\n\u001b[0;32m    333\u001b[0m         \u001b[1;32mdef\u001b[0m \u001b[0mappend\u001b[0m\u001b[1;33m(\u001b[0m\u001b[0mself\u001b[0m\u001b[1;33m,\u001b[0m \u001b[0mposition\u001b[0m\u001b[1;33m)\u001b[0m\u001b[1;33m:\u001b[0m\u001b[1;33m\u001b[0m\u001b[0m\n\u001b[0;32m    334\u001b[0m             \u001b[1;32mif\u001b[0m \u001b[0mself\u001b[0m\u001b[1;33m.\u001b[0m\u001b[0mnext\u001b[0m \u001b[1;32mis\u001b[0m \u001b[0mNone\u001b[0m\u001b[1;33m:\u001b[0m\u001b[1;33m\u001b[0m\u001b[0m\n\u001b[1;32m--> 335\u001b[1;33m                 \u001b[0mself\u001b[0m\u001b[1;33m.\u001b[0m\u001b[0mnext\u001b[0m \u001b[1;33m=\u001b[0m \u001b[0mWaypointMixin\u001b[0m\u001b[1;33m.\u001b[0m\u001b[0mwaypoint\u001b[0m\u001b[1;33m(\u001b[0m\u001b[0mposition\u001b[0m\u001b[1;33m)\u001b[0m\u001b[1;33m\u001b[0m\u001b[0m\n\u001b[0m\u001b[0;32m    336\u001b[0m             \u001b[1;32melse\u001b[0m\u001b[1;33m:\u001b[0m\u001b[1;33m\u001b[0m\u001b[0m\n\u001b[0;32m    337\u001b[0m                 \u001b[0mself\u001b[0m\u001b[1;33m.\u001b[0m\u001b[0mnext\u001b[0m\u001b[1;33m.\u001b[0m\u001b[0mappend\u001b[0m\u001b[1;33m(\u001b[0m\u001b[0mposition\u001b[0m\u001b[1;33m)\u001b[0m\u001b[1;33m\u001b[0m\u001b[0m\n",
        "\u001b[1;32m/home/andrewbolster/src/aietes/src/aietes/Behaviour.pyc\u001b[0m in \u001b[0;36m__init__\u001b[1;34m(self, positions, *args, **kwargs)\u001b[0m\n\u001b[0;32m    329\u001b[0m                     \u001b[0mself\u001b[0m\u001b[1;33m.\u001b[0m\u001b[0mlogger\u001b[0m\u001b[1;33m.\u001b[0m\u001b[0mdebug\u001b[0m\u001b[1;33m(\u001b[0m\u001b[1;34m\"End of Position List\"\u001b[0m\u001b[1;33m)\u001b[0m\u001b[1;33m\u001b[0m\u001b[0m\n\u001b[0;32m    330\u001b[0m             \u001b[1;32melse\u001b[0m\u001b[1;33m:\u001b[0m\u001b[1;33m\u001b[0m\u001b[0m\n\u001b[1;32m--> 331\u001b[1;33m                 \u001b[0mself\u001b[0m\u001b[1;33m.\u001b[0m\u001b[0mappend\u001b[0m\u001b[1;33m(\u001b[0m\u001b[0mpositions\u001b[0m\u001b[1;33m[\u001b[0m\u001b[1;36m1\u001b[0m\u001b[1;33m:\u001b[0m\u001b[1;33m]\u001b[0m\u001b[1;33m)\u001b[0m\u001b[1;33m\u001b[0m\u001b[0m\n\u001b[0m\u001b[0;32m    332\u001b[0m \u001b[1;33m\u001b[0m\u001b[0m\n\u001b[0;32m    333\u001b[0m         \u001b[1;32mdef\u001b[0m \u001b[0mappend\u001b[0m\u001b[1;33m(\u001b[0m\u001b[0mself\u001b[0m\u001b[1;33m,\u001b[0m \u001b[0mposition\u001b[0m\u001b[1;33m)\u001b[0m\u001b[1;33m:\u001b[0m\u001b[1;33m\u001b[0m\u001b[0m\n",
        "\u001b[1;32m/home/andrewbolster/src/aietes/src/aietes/Behaviour.pyc\u001b[0m in \u001b[0;36mappend\u001b[1;34m(self, position)\u001b[0m\n\u001b[0;32m    333\u001b[0m         \u001b[1;32mdef\u001b[0m \u001b[0mappend\u001b[0m\u001b[1;33m(\u001b[0m\u001b[0mself\u001b[0m\u001b[1;33m,\u001b[0m \u001b[0mposition\u001b[0m\u001b[1;33m)\u001b[0m\u001b[1;33m:\u001b[0m\u001b[1;33m\u001b[0m\u001b[0m\n\u001b[0;32m    334\u001b[0m             \u001b[1;32mif\u001b[0m \u001b[0mself\u001b[0m\u001b[1;33m.\u001b[0m\u001b[0mnext\u001b[0m \u001b[1;32mis\u001b[0m \u001b[0mNone\u001b[0m\u001b[1;33m:\u001b[0m\u001b[1;33m\u001b[0m\u001b[0m\n\u001b[1;32m--> 335\u001b[1;33m                 \u001b[0mself\u001b[0m\u001b[1;33m.\u001b[0m\u001b[0mnext\u001b[0m \u001b[1;33m=\u001b[0m \u001b[0mWaypointMixin\u001b[0m\u001b[1;33m.\u001b[0m\u001b[0mwaypoint\u001b[0m\u001b[1;33m(\u001b[0m\u001b[0mposition\u001b[0m\u001b[1;33m)\u001b[0m\u001b[1;33m\u001b[0m\u001b[0m\n\u001b[0m\u001b[0;32m    336\u001b[0m             \u001b[1;32melse\u001b[0m\u001b[1;33m:\u001b[0m\u001b[1;33m\u001b[0m\u001b[0m\n\u001b[0;32m    337\u001b[0m                 \u001b[0mself\u001b[0m\u001b[1;33m.\u001b[0m\u001b[0mnext\u001b[0m\u001b[1;33m.\u001b[0m\u001b[0mappend\u001b[0m\u001b[1;33m(\u001b[0m\u001b[0mposition\u001b[0m\u001b[1;33m)\u001b[0m\u001b[1;33m\u001b[0m\u001b[0m\n",
        "\u001b[1;32m/home/andrewbolster/src/aietes/src/aietes/Behaviour.pyc\u001b[0m in \u001b[0;36m__init__\u001b[1;34m(self, positions, *args, **kwargs)\u001b[0m\n\u001b[0;32m    324\u001b[0m             \u001b[1;33m(\u001b[0m\u001b[0mself\u001b[0m\u001b[1;33m.\u001b[0m\u001b[0mposition\u001b[0m\u001b[1;33m,\u001b[0m \u001b[0mself\u001b[0m\u001b[1;33m.\u001b[0m\u001b[0mprox\u001b[0m\u001b[1;33m)\u001b[0m \u001b[1;33m=\u001b[0m \u001b[0mpositions\u001b[0m\u001b[1;33m[\u001b[0m\u001b[1;36m0\u001b[0m\u001b[1;33m]\u001b[0m\u001b[1;33m\u001b[0m\u001b[0m\n\u001b[0;32m    325\u001b[0m             \u001b[1;32mif\u001b[0m \u001b[0m__debug__\u001b[0m\u001b[1;33m:\u001b[0m\u001b[1;33m\u001b[0m\u001b[0m\n\u001b[1;32m--> 326\u001b[1;33m                 \u001b[0mself\u001b[0m\u001b[1;33m.\u001b[0m\u001b[0mlogger\u001b[0m\u001b[1;33m.\u001b[0m\u001b[0mdebug\u001b[0m\u001b[1;33m(\u001b[0m\u001b[1;34m\"Waypoint: %s,%s\"\u001b[0m \u001b[1;33m%\u001b[0m \u001b[1;33m(\u001b[0m\u001b[0mself\u001b[0m\u001b[1;33m.\u001b[0m\u001b[0mposition\u001b[0m\u001b[1;33m,\u001b[0m \u001b[0mself\u001b[0m\u001b[1;33m.\u001b[0m\u001b[0mprox\u001b[0m\u001b[1;33m)\u001b[0m\u001b[1;33m)\u001b[0m\u001b[1;33m\u001b[0m\u001b[0m\n\u001b[0m\u001b[0;32m    327\u001b[0m             \u001b[1;32mif\u001b[0m \u001b[0mlen\u001b[0m\u001b[1;33m(\u001b[0m\u001b[0mpositions\u001b[0m\u001b[1;33m)\u001b[0m \u001b[1;33m==\u001b[0m \u001b[1;36m1\u001b[0m\u001b[1;33m:\u001b[0m\u001b[1;33m\u001b[0m\u001b[0m\n\u001b[0;32m    328\u001b[0m                 \u001b[1;32mif\u001b[0m \u001b[0m__debug__\u001b[0m\u001b[1;33m:\u001b[0m\u001b[1;33m\u001b[0m\u001b[0m\n",
        "\u001b[1;32m/usr/local/lib/python2.7/dist-packages/numpy/core/numeric.pyc\u001b[0m in \u001b[0;36marray_str\u001b[1;34m(a, max_line_width, precision, suppress_small)\u001b[0m\n\u001b[0;32m   1469\u001b[0m \u001b[1;33m\u001b[0m\u001b[0m\n\u001b[0;32m   1470\u001b[0m     \"\"\"\n\u001b[1;32m-> 1471\u001b[1;33m     \u001b[1;32mreturn\u001b[0m \u001b[0marray2string\u001b[0m\u001b[1;33m(\u001b[0m\u001b[0ma\u001b[0m\u001b[1;33m,\u001b[0m \u001b[0mmax_line_width\u001b[0m\u001b[1;33m,\u001b[0m \u001b[0mprecision\u001b[0m\u001b[1;33m,\u001b[0m \u001b[0msuppress_small\u001b[0m\u001b[1;33m,\u001b[0m \u001b[1;34m' '\u001b[0m\u001b[1;33m,\u001b[0m \u001b[1;34m\"\"\u001b[0m\u001b[1;33m,\u001b[0m \u001b[0mstr\u001b[0m\u001b[1;33m)\u001b[0m\u001b[1;33m\u001b[0m\u001b[0m\n\u001b[0m\u001b[0;32m   1472\u001b[0m \u001b[1;33m\u001b[0m\u001b[0m\n\u001b[0;32m   1473\u001b[0m \u001b[1;32mdef\u001b[0m \u001b[0mset_string_function\u001b[0m\u001b[1;33m(\u001b[0m\u001b[0mf\u001b[0m\u001b[1;33m,\u001b[0m \u001b[0mrepr\u001b[0m\u001b[1;33m=\u001b[0m\u001b[0mTrue\u001b[0m\u001b[1;33m)\u001b[0m\u001b[1;33m:\u001b[0m\u001b[1;33m\u001b[0m\u001b[0m\n",
        "\u001b[1;32m/usr/local/lib/python2.7/dist-packages/numpy/core/arrayprint.pyc\u001b[0m in \u001b[0;36marray2string\u001b[1;34m(a, max_line_width, precision, suppress_small, separator, prefix, style, formatter)\u001b[0m\n\u001b[0;32m    443\u001b[0m     \u001b[1;32melse\u001b[0m\u001b[1;33m:\u001b[0m\u001b[1;33m\u001b[0m\u001b[0m\n\u001b[0;32m    444\u001b[0m         lst = _array2string(a, max_line_width, precision, suppress_small,\n\u001b[1;32m--> 445\u001b[1;33m                             separator, prefix, formatter=formatter)\n\u001b[0m\u001b[0;32m    446\u001b[0m     \u001b[1;32mreturn\u001b[0m \u001b[0mlst\u001b[0m\u001b[1;33m\u001b[0m\u001b[0m\n\u001b[0;32m    447\u001b[0m \u001b[1;33m\u001b[0m\u001b[0m\n",
        "\u001b[1;32m/usr/local/lib/python2.7/dist-packages/numpy/core/arrayprint.pyc\u001b[0m in \u001b[0;36m_array2string\u001b[1;34m(a, max_line_width, precision, suppress_small, separator, prefix, formatter)\u001b[0m\n\u001b[0;32m    250\u001b[0m                   \u001b[1;34m'longfloat'\u001b[0m \u001b[1;33m:\u001b[0m \u001b[0mLongFloatFormat\u001b[0m\u001b[1;33m(\u001b[0m\u001b[0mprecision\u001b[0m\u001b[1;33m)\u001b[0m\u001b[1;33m,\u001b[0m\u001b[1;33m\u001b[0m\u001b[0m\n\u001b[0;32m    251\u001b[0m                   'complexfloat' : ComplexFormat(data, precision,\n\u001b[1;32m--> 252\u001b[1;33m                                                  suppress_small),\n\u001b[0m\u001b[0;32m    253\u001b[0m                   \u001b[1;34m'longcomplexfloat'\u001b[0m \u001b[1;33m:\u001b[0m \u001b[0mLongComplexFormat\u001b[0m\u001b[1;33m(\u001b[0m\u001b[0mprecision\u001b[0m\u001b[1;33m)\u001b[0m\u001b[1;33m,\u001b[0m\u001b[1;33m\u001b[0m\u001b[0m\n\u001b[0;32m    254\u001b[0m                   \u001b[1;34m'datetime'\u001b[0m \u001b[1;33m:\u001b[0m \u001b[0mDatetimeFormat\u001b[0m\u001b[1;33m(\u001b[0m\u001b[0mdata\u001b[0m\u001b[1;33m)\u001b[0m\u001b[1;33m,\u001b[0m\u001b[1;33m\u001b[0m\u001b[0m\n",
        "\u001b[1;32m/usr/local/lib/python2.7/dist-packages/numpy/core/arrayprint.pyc\u001b[0m in \u001b[0;36m__init__\u001b[1;34m(self, x, precision, suppress_small)\u001b[0m\n\u001b[0;32m    698\u001b[0m         \u001b[0mself\u001b[0m\u001b[1;33m.\u001b[0m\u001b[0mreal_format\u001b[0m \u001b[1;33m=\u001b[0m \u001b[0mFloatFormat\u001b[0m\u001b[1;33m(\u001b[0m\u001b[0mx\u001b[0m\u001b[1;33m.\u001b[0m\u001b[0mreal\u001b[0m\u001b[1;33m,\u001b[0m \u001b[0mprecision\u001b[0m\u001b[1;33m,\u001b[0m \u001b[0msuppress_small\u001b[0m\u001b[1;33m)\u001b[0m\u001b[1;33m\u001b[0m\u001b[0m\n\u001b[0;32m    699\u001b[0m         self.imag_format = FloatFormat(x.imag, precision, suppress_small,\n\u001b[1;32m--> 700\u001b[1;33m                                        sign=True)\n\u001b[0m\u001b[0;32m    701\u001b[0m \u001b[1;33m\u001b[0m\u001b[0m\n\u001b[0;32m    702\u001b[0m     \u001b[1;32mdef\u001b[0m \u001b[0m__call__\u001b[0m\u001b[1;33m(\u001b[0m\u001b[0mself\u001b[0m\u001b[1;33m,\u001b[0m \u001b[0mx\u001b[0m\u001b[1;33m)\u001b[0m\u001b[1;33m:\u001b[0m\u001b[1;33m\u001b[0m\u001b[0m\n",
        "\u001b[1;32m/usr/local/lib/python2.7/dist-packages/numpy/core/arrayprint.pyc\u001b[0m in \u001b[0;36m__init__\u001b[1;34m(self, data, precision, suppress_small, sign)\u001b[0m\n\u001b[0;32m    530\u001b[0m         \u001b[0mself\u001b[0m\u001b[1;33m.\u001b[0m\u001b[0mmax_str_len\u001b[0m \u001b[1;33m=\u001b[0m \u001b[1;36m0\u001b[0m\u001b[1;33m\u001b[0m\u001b[0m\n\u001b[0;32m    531\u001b[0m         \u001b[1;32mtry\u001b[0m\u001b[1;33m:\u001b[0m\u001b[1;33m\u001b[0m\u001b[0m\n\u001b[1;32m--> 532\u001b[1;33m             \u001b[0mself\u001b[0m\u001b[1;33m.\u001b[0m\u001b[0mfillFormat\u001b[0m\u001b[1;33m(\u001b[0m\u001b[0mdata\u001b[0m\u001b[1;33m)\u001b[0m\u001b[1;33m\u001b[0m\u001b[0m\n\u001b[0m\u001b[0;32m    533\u001b[0m         \u001b[1;32mexcept\u001b[0m \u001b[1;33m(\u001b[0m\u001b[0mTypeError\u001b[0m\u001b[1;33m,\u001b[0m \u001b[0mNotImplementedError\u001b[0m\u001b[1;33m)\u001b[0m\u001b[1;33m:\u001b[0m\u001b[1;33m\u001b[0m\u001b[0m\n\u001b[0;32m    534\u001b[0m             \u001b[1;31m# if reduce(data) fails, this instance will not be called, just\u001b[0m\u001b[1;33m\u001b[0m\u001b[1;33m\u001b[0m\u001b[0m\n",
        "\u001b[1;32m/usr/local/lib/python2.7/dist-packages/numpy/core/arrayprint.pyc\u001b[0m in \u001b[0;36mfillFormat\u001b[1;34m(self, data)\u001b[0m\n\u001b[0;32m    576\u001b[0m             \u001b[0mprecision\u001b[0m \u001b[1;33m=\u001b[0m \u001b[0mmin\u001b[0m\u001b[1;33m(\u001b[0m\u001b[0mself\u001b[0m\u001b[1;33m.\u001b[0m\u001b[0mprecision\u001b[0m\u001b[1;33m,\u001b[0m \u001b[0mprecision\u001b[0m\u001b[1;33m)\u001b[0m\u001b[1;33m\u001b[0m\u001b[0m\n\u001b[0;32m    577\u001b[0m             \u001b[0mself\u001b[0m\u001b[1;33m.\u001b[0m\u001b[0mmax_str_len\u001b[0m \u001b[1;33m=\u001b[0m \u001b[0mlen\u001b[0m\u001b[1;33m(\u001b[0m\u001b[0mstr\u001b[0m\u001b[1;33m(\u001b[0m\u001b[0mint\u001b[0m\u001b[1;33m(\u001b[0m\u001b[0mmax_val\u001b[0m\u001b[1;33m)\u001b[0m\u001b[1;33m)\u001b[0m\u001b[1;33m)\u001b[0m \u001b[1;33m+\u001b[0m \u001b[0mprecision\u001b[0m \u001b[1;33m+\u001b[0m \u001b[1;36m2\u001b[0m\u001b[1;33m\u001b[0m\u001b[0m\n\u001b[1;32m--> 578\u001b[1;33m             \u001b[1;32mif\u001b[0m \u001b[0m_nc\u001b[0m\u001b[1;33m.\u001b[0m\u001b[0many\u001b[0m\u001b[1;33m(\u001b[0m\u001b[0mspecial\u001b[0m\u001b[1;33m)\u001b[0m\u001b[1;33m:\u001b[0m\u001b[1;33m\u001b[0m\u001b[0m\n\u001b[0m\u001b[0;32m    579\u001b[0m                 self.max_str_len = max(self.max_str_len,\n\u001b[0;32m    580\u001b[0m                                        \u001b[0mlen\u001b[0m\u001b[1;33m(\u001b[0m\u001b[0m_nan_str\u001b[0m\u001b[1;33m)\u001b[0m\u001b[1;33m,\u001b[0m\u001b[1;33m\u001b[0m\u001b[0m\n",
        "\u001b[1;32m/usr/local/lib/python2.7/dist-packages/numpy/core/fromnumeric.pyc\u001b[0m in \u001b[0;36many\u001b[1;34m(a, axis, out, keepdims)\u001b[0m\n\u001b[0;32m   1637\u001b[0m \u001b[1;33m\u001b[0m\u001b[0m\n\u001b[0;32m   1638\u001b[0m     \u001b[1;32mtry\u001b[0m\u001b[1;33m:\u001b[0m\u001b[1;33m\u001b[0m\u001b[0m\n\u001b[1;32m-> 1639\u001b[1;33m         \u001b[1;32mreturn\u001b[0m \u001b[0marr\u001b[0m\u001b[1;33m.\u001b[0m\u001b[0many\u001b[0m\u001b[1;33m(\u001b[0m\u001b[0maxis\u001b[0m\u001b[1;33m=\u001b[0m\u001b[0maxis\u001b[0m\u001b[1;33m,\u001b[0m \u001b[0mout\u001b[0m\u001b[1;33m=\u001b[0m\u001b[0mout\u001b[0m\u001b[1;33m,\u001b[0m \u001b[0mkeepdims\u001b[0m\u001b[1;33m=\u001b[0m\u001b[0mkeepdims\u001b[0m\u001b[1;33m)\u001b[0m\u001b[1;33m\u001b[0m\u001b[0m\n\u001b[0m\u001b[0;32m   1640\u001b[0m     \u001b[1;32mexcept\u001b[0m \u001b[0mTypeError\u001b[0m\u001b[1;33m:\u001b[0m\u001b[1;33m\u001b[0m\u001b[0m\n\u001b[0;32m   1641\u001b[0m         \u001b[1;32mreturn\u001b[0m \u001b[0marr\u001b[0m\u001b[1;33m.\u001b[0m\u001b[0many\u001b[0m\u001b[1;33m(\u001b[0m\u001b[0maxis\u001b[0m\u001b[1;33m=\u001b[0m\u001b[0maxis\u001b[0m\u001b[1;33m,\u001b[0m \u001b[0mout\u001b[0m\u001b[1;33m=\u001b[0m\u001b[0mout\u001b[0m\u001b[1;33m)\u001b[0m\u001b[1;33m\u001b[0m\u001b[0m\n",
        "\u001b[1;32m/usr/local/lib/python2.7/dist-packages/numpy/core/_methods.pyc\u001b[0m in \u001b[0;36m_any\u001b[1;34m(a, axis, dtype, out, keepdims)\u001b[0m\n\u001b[0;32m     24\u001b[0m \u001b[1;32mdef\u001b[0m \u001b[0m_any\u001b[0m\u001b[1;33m(\u001b[0m\u001b[0ma\u001b[0m\u001b[1;33m,\u001b[0m \u001b[0maxis\u001b[0m\u001b[1;33m=\u001b[0m\u001b[0mNone\u001b[0m\u001b[1;33m,\u001b[0m \u001b[0mdtype\u001b[0m\u001b[1;33m=\u001b[0m\u001b[0mNone\u001b[0m\u001b[1;33m,\u001b[0m \u001b[0mout\u001b[0m\u001b[1;33m=\u001b[0m\u001b[0mNone\u001b[0m\u001b[1;33m,\u001b[0m \u001b[0mkeepdims\u001b[0m\u001b[1;33m=\u001b[0m\u001b[0mFalse\u001b[0m\u001b[1;33m)\u001b[0m\u001b[1;33m:\u001b[0m\u001b[1;33m\u001b[0m\u001b[0m\n\u001b[0;32m     25\u001b[0m     return um.logical_or.reduce(a, axis=axis, dtype=dtype, out=out,\n\u001b[1;32m---> 26\u001b[1;33m                                 keepdims=keepdims)\n\u001b[0m\u001b[0;32m     27\u001b[0m \u001b[1;33m\u001b[0m\u001b[0m\n\u001b[0;32m     28\u001b[0m \u001b[1;32mdef\u001b[0m \u001b[0m_all\u001b[0m\u001b[1;33m(\u001b[0m\u001b[0ma\u001b[0m\u001b[1;33m,\u001b[0m \u001b[0maxis\u001b[0m\u001b[1;33m=\u001b[0m\u001b[0mNone\u001b[0m\u001b[1;33m,\u001b[0m \u001b[0mdtype\u001b[0m\u001b[1;33m=\u001b[0m\u001b[0mNone\u001b[0m\u001b[1;33m,\u001b[0m \u001b[0mout\u001b[0m\u001b[1;33m=\u001b[0m\u001b[0mNone\u001b[0m\u001b[1;33m,\u001b[0m \u001b[0mkeepdims\u001b[0m\u001b[1;33m=\u001b[0m\u001b[0mFalse\u001b[0m\u001b[1;33m)\u001b[0m\u001b[1;33m:\u001b[0m\u001b[1;33m\u001b[0m\u001b[0m\n",
        "\u001b[1;31mKeyboardInterrupt\u001b[0m: "
       ]
      },
      {
       "output_type": "stream",
       "stream": "stdout",
       "text": [
        "Experimental results stored in /tmp/tmpOIt3fY\n"
       ]
      }
     ],
     "prompt_number": 2
    },
    {
     "cell_type": "code",
     "collapsed": false,
     "input": [],
     "language": "python",
     "metadata": {},
     "outputs": []
    }
   ],
   "metadata": {}
  }
 ]
}